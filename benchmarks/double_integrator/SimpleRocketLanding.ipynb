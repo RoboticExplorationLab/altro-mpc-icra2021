{
 "cells": [
  {
   "cell_type": "code",
   "execution_count": 1,
   "metadata": {},
   "outputs": [
    {
     "name": "stderr",
     "output_type": "stream",
     "text": [
      "\u001b[32m\u001b[1m Activating\u001b[22m\u001b[39m environment at `~/Documents/Research/Papers/altro-mpc-icra2021/benchmarks/Project.toml`\n",
      "┌ Info: Precompiling Altro [5dcf52e5-e2fb-48e0-b826-96f46d2e3e73]\n",
      "└ @ Base loading.jl:1260\n"
     ]
    }
   ],
   "source": [
    "import Pkg; Pkg.activate(\"..\"); Pkg.instantiate()\n",
    "using Altro\n",
    "using TrajectoryOptimization\n",
    "const TO = TrajectoryOptimization\n",
    "using RobotZoo: DoubleIntegrator\n",
    "using StaticArrays, LinearAlgebra\n",
    "using BenchmarkTools"
   ]
  },
  {
   "cell_type": "markdown",
   "metadata": {},
   "source": [
    "# Simple Rocket Landing Problem\n",
    "This is a super rough approximation of the rocket landing problem, where a 3D double integrator is initialized with gravity at a high altitude with some downward velocity and has to land at the origin. The controls are constrained to lie within the 2-norm cone.\n",
    "\n",
    "The state is a basic 3D double integrator: \n",
    "$$ \\mathbf{x} = \\begin{bmatrix} x \\\\ y \\\\ z \\\\ v_x \\\\ v_y \\\\ v_z \\end{bmatrix}, \\qquad \\mathbf{\\dot{x}} \n",
    "= \\begin{bmatrix} v_x \\\\ v_y \\\\ v_z \\\\ u_x \\\\ u_y \\\\ u_z + g \\end{bmatrix} $$"
   ]
  },
  {
   "cell_type": "code",
   "execution_count": 2,
   "metadata": {},
   "outputs": [],
   "source": [
    "# Basic Setup\n",
    "D = 3                                  # dimension\n",
    "N = 11                                 # number of knot points\n",
    "dt = 0.1                               # time step (s)\n",
    "u_bnd = 500                            # control limit, norm(u) <= u_bnd\n",
    "\n",
    "# Derived Parameters\n",
    "n,m = 2D,D                             # state and control dimension\n",
    "tf = (N-1)*dt                          # total time\n",
    "\n",
    "# Initial and Final States\n",
    "x0 = SA_F64[10,10,100, 0,0,-10]        # initial state\n",
    "xf = @SVector zeros(n)                 # final state\n",
    "\n",
    "# Objective weights\n",
    "Q = Diagonal(@SVector fill(1.0, n))    # stage-wise quadratic state cost: (x-xf)'Q(x-xf)\n",
    "R = Diagonal(@SVector fill(1e-1, m))   # stage-wise quadratic control cost: u'R*u\n",
    "Qf = (N-1)*Q * 100;                    # terminal quadratic state cost"
   ]
  },
  {
   "cell_type": "code",
   "execution_count": 3,
   "metadata": {},
   "outputs": [],
   "source": [
    "# Model\n",
    "model = DoubleIntegrator(3, gravity=SA[0,0,-9.81])\n",
    "\n",
    "# Constraints\n",
    "cons = ConstraintList(n,m,N)\n",
    "goal = GoalConstraint(xf)\n",
    "bnd = NormConstraint(n, m, u_bnd, TO.SecondOrderCone(), :control)\n",
    "add_constraint!(cons, bnd, 1:N-1)\n",
    "add_constraint!(cons, goal, N)\n",
    "\n",
    "# Objective\n",
    "obj = LQRObjective(Q, R, Qf, xf, N)\n",
    "\n",
    "# Problem definition\n",
    "prob = Problem(model, obj, xf, tf, x0=x0, constraints=cons);"
   ]
  },
  {
   "cell_type": "code",
   "execution_count": 4,
   "metadata": {},
   "outputs": [
    {
     "name": "stderr",
     "output_type": "stream",
     "text": [
      "\u001b[33m\u001b[1miter  total  c_max       cost      info                                              \u001b[22m\u001b[39m\n",
      "\u001b[33m\u001b[1m-------------------------------------------------------------------------------------\u001b[22m\u001b[39m\n",
      "1     4       2.06940633  13856.06 \n",
      "2     6       0.23748557  13860.86 \n",
      "3     8       0.21599166  13864.07 \n",
      "4     10      0.10825177  13879.85 \n",
      "5     12      0.00988356  13892.46 \n",
      "\u001b[33m\u001b[1miter  total  c_max       cost      info                                              \u001b[22m\u001b[39m\n",
      "\u001b[33m\u001b[1m-------------------------------------------------------------------------------------\u001b[22m\u001b[39m\n",
      "6     14      0.00009832  13893.07 \n",
      "7     16      9.8686e-08  13893.07 \n"
     ]
    },
    {
     "name": "stdout",
     "output_type": "stream",
     "text": [
      "\u001b[32;1m\n",
      "SOLVE COMPLETED\n",
      "\u001b[0m solved using the \u001b[0m\u001b[36;1mALTRO\u001b[0m Solver,\n",
      " part of the Altro.jl package developed by the REx Lab at Stanford and Carnegie Mellon Universities\n",
      "\u001b[34;1m\n",
      "  Solve Statistics\n",
      "\u001b[0m    Total Iterations: 16\n",
      "\u001b[0m    Solve Time: 6714.76355 (ms)\n",
      "\u001b[34;1m\n",
      "  Covergence\n",
      "\u001b[0m    Terminal Cost: 13893.067960419847\n",
      "\u001b[0m    Terminal dJ: \u001b[31m0.005435272414615611\n",
      "\u001b[0m    Terminal gradient: \u001b[32m2.2677771941930452e-5\n",
      "\u001b[0m    Terminal constraint violation: \u001b[32m9.868553929592849e-8\n",
      "\u001b[0m    Solve Status: \u001b[1m\u001b[32mSOLVE_SUCCEEDED\n",
      "\u001b[0m"
     ]
    }
   ],
   "source": [
    "# Solve\n",
    "solver = ALTROSolver(prob,\n",
    "    show_summary = true,\n",
    "    verbose = 1,\n",
    "    projected_newton = false\n",
    ")\n",
    "solve!(solver);"
   ]
  },
  {
   "cell_type": "code",
   "execution_count": 6,
   "metadata": {},
   "outputs": [
    {
     "name": "stdout",
     "output_type": "stream",
     "text": [
      "Maximum thrust norm: 500.00000000003143\n",
      "Final state error: 9.868553929592849e-8\n"
     ]
    }
   ],
   "source": [
    "U = controls(solver)\n",
    "unorm = norm.(U)\n",
    "println(\"Maximum thrust norm: \", maximum(unorm))\n",
    "println(\"Final state error: \", norm(xf - states(solver)[end], Inf))"
   ]
  }
 ],
 "metadata": {
  "kernelspec": {
   "display_name": "Julia 1.4.2",
   "language": "julia",
   "name": "julia-1.4"
  },
  "language_info": {
   "file_extension": ".jl",
   "mimetype": "application/julia",
   "name": "julia",
   "version": "1.4.2"
  }
 },
 "nbformat": 4,
 "nbformat_minor": 2
}
