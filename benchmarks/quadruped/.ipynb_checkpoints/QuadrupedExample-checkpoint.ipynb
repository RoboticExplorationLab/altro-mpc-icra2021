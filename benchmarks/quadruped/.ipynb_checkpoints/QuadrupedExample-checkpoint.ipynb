{
 "cells": [
  {
   "cell_type": "code",
   "execution_count": null,
   "metadata": {},
   "outputs": [],
   "source": [
    "using Pkg\n",
    "Pkg.activate(\".\")\n",
    "Pkg.instantiate()\n",
    "print(\"hello\")"
   ]
  },
  {
   "cell_type": "markdown",
   "metadata": {},
   "source": [
    "# Solving in Altro"
   ]
  },
  {
   "cell_type": "code",
   "execution_count": null,
   "metadata": {},
   "outputs": [],
   "source": [
    "using LinearAlgebra\n",
    "using StaticArrays\n",
    "using Altro\n",
    "\n",
    "include(\"Woofer/QuadrupedDynamics.jl\")\n",
    "include(\"Woofer/MPCControl/MPCControl.jl\")\n",
    "include(\"Woofer/Utilities.jl\")\n",
    "include(\"Woofer/Config.jl\")\n",
    "\n",
    "using .QuadrupedDynamics\n",
    "import .MPCControl\n",
    "\n",
    "tol = 1e-4\n",
    "\n",
    "param = MPCControl.ControllerParams(Float64, Int64)\n",
    "\n",
    "x0 = [0.0, 0.0, 0.28, 0.0, 0.0, 0.0, 0.0, 0.0, 0.0, 0.0, 0.0, 0.0]\n",
    "\n",
    "MPCControl.reference_trajectory!(x0, param)\n",
    "t = 0.0\n",
    "MPCControl.foot_history!(t, param)\n",
    "MPCControl.update_dynamics_matrices!(param)\n",
    "\n",
    "solver = param.optimizer.solver\n",
    "set_options!(solver, constraint_tolerance=tol)\n",
    "\n",
    "b = benchmark_solve!(solver)\n",
    "X0 = states(solver)\n",
    "U0 = controls(solver)\n",
    "\n",
    "b"
   ]
  },
  {
   "cell_type": "code",
   "execution_count": 49,
   "metadata": {},
   "outputs": [
    {
     "data": {
      "text/plain": [
       "BenchmarkTools.Trial: \n",
       "  memory estimate:  0 bytes\n",
       "  allocs estimate:  0\n",
       "  --------------\n",
       "  minimum time:     715.283 μs (0.00% GC)\n",
       "  median time:      782.441 μs (0.00% GC)\n",
       "  mean time:        4.045 ms (0.00% GC)\n",
       "  maximum time:     25.326 ms (0.00% GC)\n",
       "  --------------\n",
       "  samples:          10\n",
       "  evals/sample:     10"
      ]
     },
     "execution_count": 49,
     "metadata": {},
     "output_type": "execute_result"
    }
   ],
   "source": [
    "x_curr = [0.0, 0.0, 0.28, 0.1, 0.0, 0.2, -0.01, 0.01, 0.05, 0.01, 0.02, 0.03]\n",
    "MPCControl.reference_trajectory!(x_curr, param)\n",
    "t = 0.00\n",
    "MPCControl.foot_history!(t, param)\n",
    "MPCControl.update_dynamics_matrices!(param)\n",
    "\n",
    "\n",
    "solver.solver_al.solver_uncon.x0 .= x_curr\n",
    "set_options!(solver, reset_duals=false, penalty_initial=1.0)\n",
    "\n",
    "initial_states!(param.optimizer.problem, X0)\n",
    "initial_controls!(param.optimizer.problem, U0)\n",
    "b = benchmark_solve!(solver)\n",
    "b"
   ]
  },
  {
   "cell_type": "markdown",
   "metadata": {},
   "source": [
    "Now with a different contact sequence (further in time):"
   ]
  },
  {
   "cell_type": "code",
   "execution_count": 50,
   "metadata": {},
   "outputs": [
    {
     "data": {
      "text/plain": [
       "BenchmarkTools.Trial: \n",
       "  memory estimate:  0 bytes\n",
       "  allocs estimate:  0\n",
       "  --------------\n",
       "  minimum time:     899.229 μs (0.00% GC)\n",
       "  median time:      970.082 μs (0.00% GC)\n",
       "  mean time:        1.028 ms (0.00% GC)\n",
       "  maximum time:     1.485 ms (0.00% GC)\n",
       "  --------------\n",
       "  samples:          10\n",
       "  evals/sample:     10"
      ]
     },
     "execution_count": 50,
     "metadata": {},
     "output_type": "execute_result"
    }
   ],
   "source": [
    "x_curr = [0.0, 0.0, 0.28, 0.0, 0.0, 0.0, 0.0, 0.0, 0.0, 0.0, 0.0, 0.0]\n",
    "MPCControl.reference_trajectory!(x_curr, param)\n",
    "t = 0.05\n",
    "MPCControl.foot_history!(t, param)\n",
    "MPCControl.update_dynamics_matrices!(param)\n",
    "\n",
    "\n",
    "solver.solver_al.solver_uncon.x0 .= x_curr\n",
    "set_options!(solver, reset_duals=false, penalty_initial=1.0)\n",
    "\n",
    "initial_states!(param.optimizer.problem, X0)\n",
    "initial_controls!(param.optimizer.problem, U0)\n",
    "b = benchmark_solve!(solver)\n",
    "b"
   ]
  },
  {
   "cell_type": "markdown",
   "metadata": {},
   "source": [
    "# Solving in OSQP"
   ]
  },
  {
   "cell_type": "code",
   "execution_count": 60,
   "metadata": {},
   "outputs": [],
   "source": [
    "model = param.optimizer.model\n",
    "data = YAML.load(open(joinpath(@__DIR__, \"Woofer/MPCControl/MPC.yaml\")))\n",
    "μ = data[\"mu\"]\n",
    "min_vert_force = data[\"min_vert_force\"]\n",
    "max_vert_force = data[\"max_vert_force\"]\n",
    "n=12\n",
    "m=12\n",
    "N = data[\"N\"]\n",
    "Qf = Diagonal(data[\"q\"])\n",
    "Q = Diagonal(data[\"q\"])\n",
    "R = Diagonal(data[\"r\"])\n",
    "\n",
    "nothing"
   ]
  },
  {
   "cell_type": "code",
   "execution_count": 61,
   "metadata": {},
   "outputs": [
    {
     "ename": "MethodError",
     "evalue": "MethodError: no method matching similar_array_type(::Type{SArray{Tuple{12},Float64,1,12}}, ::Type{Float64})\nClosest candidates are:\n  similar_array_type(!Matched::Type{Symmetric{T,MT}}, ::Type{S}) where {S, T, MT} at /Users/tarun/.julia/packages/MutableArithmetics/NuiNA/src/linear_algebra.jl:74\n  similar_array_type(!Matched::Type{Array{T,N}}, ::Type{S}) where {S, T, N} at /Users/tarun/.julia/packages/MutableArithmetics/NuiNA/src/linear_algebra.jl:75\n  similar_array_type(!Matched::Type{#s14} where #s14<:Union{Adjoint{T,A}, Transpose{T,A}}, ::Type{S}) where {S, T, A} at /Users/tarun/.julia/packages/MutableArithmetics/NuiNA/src/linear_algebra.jl:238\n  ...",
     "output_type": "error",
     "traceback": [
      "MethodError: no method matching similar_array_type(::Type{SArray{Tuple{12},Float64,1,12}}, ::Type{Float64})\nClosest candidates are:\n  similar_array_type(!Matched::Type{Symmetric{T,MT}}, ::Type{S}) where {S, T, MT} at /Users/tarun/.julia/packages/MutableArithmetics/NuiNA/src/linear_algebra.jl:74\n  similar_array_type(!Matched::Type{Array{T,N}}, ::Type{S}) where {S, T, N} at /Users/tarun/.julia/packages/MutableArithmetics/NuiNA/src/linear_algebra.jl:75\n  similar_array_type(!Matched::Type{#s14} where #s14<:Union{Adjoint{T,A}, Transpose{T,A}}, ::Type{S}) where {S, T, A} at /Users/tarun/.julia/packages/MutableArithmetics/NuiNA/src/linear_algebra.jl:238\n  ...",
      "",
      "Stacktrace:",
      " [1] similar_array_type(::Type{Transpose{Float64,SArray{Tuple{12},Float64,1,12}}}, ::Type{Float64}) at /Users/tarun/.julia/packages/MutableArithmetics/NuiNA/src/linear_algebra.jl:238",
      " [2] promote_operation(::typeof(*), ::Type{Int64}, ::Type{Transpose{Float64,SArray{Tuple{12},Float64,1,12}}}) at /Users/tarun/.julia/packages/MutableArithmetics/NuiNA/src/linear_algebra.jl:80",
      " [3] promote_operation(::typeof(*), ::Type{Int64}, ::Type{Transpose{Float64,SArray{Tuple{12},Float64,1,12}}}, ::Type{Diagonal{Float64,Array{Float64,1}}}, ::Type{T} where T) at /Users/tarun/.julia/packages/MutableArithmetics/NuiNA/src/interface.jl:28",
      " [4] promote_operation(::typeof(MutableArithmetics.sub_mul), ::Type{T} where T, ::Type{T} where T, ::Type{T} where T, ::Type{T} where T, ::Type{T} where T) at /Users/tarun/.julia/packages/MutableArithmetics/NuiNA/src/shortcuts.jl:59",
      " [5] mutability(::Type{T} where T, ::Function, ::Type{T} where T, ::Type{T} where T, ::Type{T} where T, ::Type{T} where T, ::Type{T} where T) at /Users/tarun/.julia/packages/MutableArithmetics/NuiNA/src/interface.jl:132",
      " [6] mutability(::GenericQuadExpr{Float64,VariableRef}, ::Function, ::GenericQuadExpr{Float64,VariableRef}, ::Int64, ::Transpose{Float64,SArray{Tuple{12},Float64,1,12}}, ::Diagonal{Float64,Array{Float64,1}}, ::Array{VariableRef,1}) at /Users/tarun/.julia/packages/MutableArithmetics/NuiNA/src/interface.jl:138",
      " [7] operate!(::typeof(MutableArithmetics.sub_mul), ::GenericQuadExpr{Float64,VariableRef}, ::Int64, ::Transpose{Float64,SArray{Tuple{12},Float64,1,12}}, ::Diagonal{Float64,Array{Float64,1}}, ::Array{VariableRef,1}) at /Users/tarun/.julia/packages/MutableArithmetics/NuiNA/src/rewrite.jl:70",
      " [8] top-level scope at /Users/tarun/.julia/packages/MutableArithmetics/NuiNA/src/rewrite.jl:227",
      " [9] top-level scope at In[61]:27"
     ]
    }
   ],
   "source": [
    "using ParameterJuMP, JuMP\n",
    "using OSQP\n",
    "using BenchmarkTools\n",
    "\n",
    "# back to old initial coniditions:\n",
    "x0 = [0.0, 0.0, 0.28, 0.0, 0.0, 0.0, 0.0, 0.0, 0.0, 0.0, 0.0, 0.0]\n",
    "MPCControl.reference_trajectory!(x0, param)\n",
    "t = 0.0\n",
    "MPCControl.foot_history!(t, param)\n",
    "MPCControl.update_dynamics_matrices!(param)\n",
    "\n",
    "select(i, n) = (n*(i-1)+1):(n*(i-1)+n)\n",
    "select12_3(i, j, k) = 12*(i-1) + 3*(j-1) + k\n",
    "\n",
    "jump_model = ModelWithParams(\n",
    "    optimizer_with_attributes(\n",
    "        OSQP.Optimizer, \"eps_abs\" => tol, \"eps_rel\" => tol, \"eps_prim_inf\" => tol, \"eps_dual_inf\" => tol \n",
    "    )\n",
    ")\n",
    "set_silent(jump_model)\n",
    "\n",
    "x0_param = [add_parameter(jump_model, x0[i]) for i in 1:n]\n",
    "\n",
    "@variable(jump_model, x[1:((N)*n)])\n",
    "@variable(jump_model, u[1:((N-1)*m)])\n",
    "\n",
    "objective_exp = @expression(jump_model, 0.5*transpose(x[select(N, n)]) * Qf * x[select(N, n)] - \n",
    "                                            2*transpose(param.x_ref[N])*Qf*x[select(N, n)])\n",
    "\n",
    "@constraint(jump_model, initial_value_constraint, x[select(1, n)] .== x0_param)\n",
    "\n",
    "for i=1:N-1\n",
    "    # dynamics constraints\n",
    "    @constraint(jump_model, model.A[i]*x[select(i, n)] + model.B[i]*u[select(i, m)] + model.d[i] == x[select(i+1, n)])\n",
    "\n",
    "    # stagewise state cost\n",
    "    add_to_expression!(objective_exp, 0.5*transpose(x[select(i, n)] - param.x_ref[N]) * x[select(i, n)] - \n",
    "                                            2*transpose(param.x_ref[N])*Qf*x[select(i, n)])\n",
    "\n",
    "\n",
    "    # stagewise control cost\n",
    "    add_to_expression!(objective_exp, 0.5*transpose(u[select(i, m)]) * R * u[select(i, m)])\n",
    "\n",
    "    # control/state bound constraints\n",
    "    @constraint(jump_model, u[select(i, m)] .<= ū)\n",
    "    @constraint(jump_model, u[select(i, m)] .>= -ū)\n",
    "    \n",
    "    \n",
    "    for j = 1:4\n",
    "        # convert absolute value constraint to linear inequality:\n",
    "        @constraint(\n",
    "            model,\n",
    "            u[select12_3(i, j, 1)] <= μ * u[select12_3(i, j, 3)]\n",
    "        )\n",
    "        @constraint(\n",
    "            model,\n",
    "            u[select12_3(i, j, 1)] >= -μ * u[select12_3(i, j, 3)]\n",
    "        )\n",
    "        @constraint(\n",
    "            model,\n",
    "            u[select12_3(i, j, 2)] <= μ * u[select12_3(i, j, 3)]\n",
    "        )\n",
    "        @constraint(\n",
    "            model,\n",
    "            u[select12_3(i, j, 2)] >= -μ * u[select12_3(i, j, 3)]\n",
    "        )\n",
    "\n",
    "        @constraint(model, u[select12_3(i, j, 3)] >= min_vert_force)\n",
    "        @constraint(model, u[select12_3(i, j, 3)] <= max_vert_force)\n",
    "    end\n",
    "end\n",
    "\n",
    "@objective(jump_model, Min, objective_exp)\n",
    "\n",
    "optimize!(jump_model)\n",
    "\n",
    "X_osqp = [value.(x)[select(i, n)] for i=1:N]\n",
    "U_osqp = [value.(u)[select(i, m)] for i=1:N-1]\n",
    "\n",
    "@show objective_value(jump_model)\n",
    "\n",
    "@benchmark optimize!($jump_model) samples=10 evals"
   ]
  },
  {
   "cell_type": "code",
   "execution_count": null,
   "metadata": {},
   "outputs": [],
   "source": []
  },
  {
   "cell_type": "code",
   "execution_count": null,
   "metadata": {},
   "outputs": [],
   "source": []
  }
 ],
 "metadata": {
  "kernelspec": {
   "display_name": "Julia 1.4.0",
   "language": "julia",
   "name": "julia-1.4"
  },
  "language_info": {
   "file_extension": ".jl",
   "mimetype": "application/julia",
   "name": "julia",
   "version": "1.4.1"
  }
 },
 "nbformat": 4,
 "nbformat_minor": 4
}
