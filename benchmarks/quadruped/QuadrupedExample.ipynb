{
 "cells": [
  {
   "cell_type": "code",
   "execution_count": 2,
   "metadata": {
    "tags": []
   },
   "outputs": [
    {
     "name": "stderr",
     "output_type": "stream",
     "text": [
      "\u001b[32m\u001b[1m Activating\u001b[22m\u001b[39m environment at `~/Research/altro-mpc-icra2021/benchmarks/quadruped/Project.toml`\n"
     ]
    }
   ],
   "source": [
    "using Pkg\n",
    "Pkg.activate(\".\")\n",
    "Pkg.instantiate()"
   ]
  },
  {
   "cell_type": "markdown",
   "metadata": {},
   "source": [
    "# Setting up the Problem\n",
    "For this notebook, we are going to benchmark the performance of Altro against OSQP for MPC based quadruped control. The control strategy is based off the paper \"Dynamic locomotion in the MIT Cheetah 3 through convex model-predictive control.\" This method is a QP based method that uses linearized dynamics to solve for leg forces. For more details about the control strategy please see the paper. "
   ]
  },
  {
   "cell_type": "code",
   "execution_count": 3,
   "metadata": {},
   "outputs": [
    {
     "name": "stderr",
     "output_type": "stream",
     "text": [
      "┌ Info: Precompiling MuJoCo [93189219-7048-461c-94ec-443a161ed927]\n",
      "└ @ Base loading.jl:1260\n"
     ]
    }
   ],
   "source": [
    "using LinearAlgebra\n",
    "using StaticArrays\n",
    "import StaticArrays: SUnitRange\n",
    "using Rotations\n",
    "using BenchmarkTools\n",
    "import YAML\n",
    "using MuJoCo # MuJoCo.jl is in the Lyceum Registry\n",
    "\n",
    "include(\"Woofer/QuadrupedDynamics.jl\")\n",
    "include(\"Woofer/Utilities.jl\")\n",
    "include(\"Woofer/Config.jl\")\n",
    "\n",
    "using .QuadrupedDynamics\n"
   ]
  },
  {
   "cell_type": "markdown",
   "metadata": {},
   "source": [
    "To test out the solvers, first we are going to create a MuJoCo simulation using MuJoCo.jl (in the Lyceum registry). Then we will simulate a second of closed loop control for each different solver. "
   ]
  },
  {
   "cell_type": "code",
   "execution_count": 4,
   "metadata": {},
   "outputs": [
    {
     "data": {
      "text/plain": [
       "12-element Array{Float64,1}:\n",
       " 0.0\n",
       " 0.0\n",
       " 0.0\n",
       " 0.0\n",
       " 0.0\n",
       " 0.0\n",
       " 0.0\n",
       " 0.0\n",
       " 0.0\n",
       " 0.0\n",
       " 0.0\n",
       " 0.0"
      ]
     },
     "execution_count": 4,
     "metadata": {},
     "output_type": "execute_result"
    }
   ],
   "source": [
    "m = jlModel(\"woofer.xml\")\n",
    "d = jlData(m)\n",
    "\n",
    "function get_state(d)\n",
    "    q = d.qpos\n",
    "    q̇ = d.qvel\n",
    "    rot = UnitQuaternion(q[4], q[5], q[6], q[7])\n",
    "    mrp = MRP(rot)\n",
    "    ω = rot \\ q̇[SUnitRange(4, 6)]\n",
    "\n",
    "    x = [   q[SUnitRange(1, 3)]; \n",
    "            Rotations.params(mrp); \n",
    "            q̇[SUnitRange(1, 3)]; \n",
    "            ω   ]\n",
    "\n",
    "    return x\n",
    "end\n",
    "\n",
    "get_joint_pos(d) = d.qpos[@SVector [8,9,11,13,14,16,18,19,21,23,24,26]]\n",
    "get_joint_vel(d) = d.qvel[@SVector [7,8,10,12,13,15,17,18,20,22,23,25]]\n",
    "\n",
    "low_level_control_dt = 0.001\n",
    "\n",
    "last_control_update = -0.1\n",
    "last_mpc_update = -0.1\n",
    "\n",
    "tf = 1.0\n",
    "steps = round(tf/m.opt.timestep)\n",
    "\n",
    "τ = zeros(12)\n",
    "\n",
    "nothing"
   ]
  },
  {
   "cell_type": "markdown",
   "metadata": {},
   "source": [
    "# Solving it in Altro"
   ]
  },
  {
   "cell_type": "code",
   "execution_count": 5,
   "metadata": {},
   "outputs": [
    {
     "name": "stderr",
     "output_type": "stream",
     "text": [
      "┌ Info: Precompiling TrajectoryOptimization [c79d492b-0548-5874-b488-5a62c1d9d0ca]\n",
      "└ @ Base loading.jl:1260\n",
      "WARNING: Method definition num_vars(Int64, Int64, Int64) in module RobotDynamics at /Users/tarun/.julia/packages/RobotDynamics/P4vxr/src/trajectories.jl:9 overwritten in module TrajectoryOptimization at /Users/tarun/.julia/packages/TrajectoryOptimization/JdkNr/src/utils.jl:23.\n",
      "  ** incremental compilation may be fatally broken for this module **\n",
      "\n",
      "WARNING: Method definition num_vars(Int64, Int64, Int64, Bool) in module RobotDynamics at /Users/tarun/.julia/packages/RobotDynamics/P4vxr/src/trajectories.jl:9 overwritten in module TrajectoryOptimization at /Users/tarun/.julia/packages/TrajectoryOptimization/JdkNr/src/utils.jl:23.\n",
      "  ** incremental compilation may be fatally broken for this module **\n",
      "\n",
      "┌ Info: Precompiling Altro [5dcf52e5-e2fb-48e0-b826-96f46d2e3e73]\n",
      "└ @ Base loading.jl:1260\n",
      "WARNING: Method definition num_vars(Int64, Int64, Int64, Bool) in module RobotDynamics at /Users/tarun/.julia/packages/RobotDynamics/P4vxr/src/trajectories.jl:9 overwritten in module TrajectoryOptimization at /Users/tarun/.julia/packages/TrajectoryOptimization/JdkNr/src/utils.jl:23.\n",
      "  ** incremental compilation may be fatally broken for this module **\n",
      "\n",
      "WARNING: Method definition num_vars(Int64, Int64, Int64) in module RobotDynamics at /Users/tarun/.julia/packages/RobotDynamics/P4vxr/src/trajectories.jl:9 overwritten in module TrajectoryOptimization at /Users/tarun/.julia/packages/TrajectoryOptimization/JdkNr/src/utils.jl:23.\n",
      "  ** incremental compilation may be fatally broken for this module **\n",
      "\n"
     ]
    },
    {
     "name": "stdout",
     "output_type": "stream",
     "text": [
      "Altro mean solve time: 711.3531818181817 μs.\n"
     ]
    }
   ],
   "source": [
    "function change_solver(solver=\"ALTRO\")\n",
    "    yaml_path = \"Woofer/MPCControl/MPC.yaml\"\n",
    "    data = YAML.load(open(yaml_path))\n",
    "    data[\"solver\"] = solver\n",
    "    YAML.write_file(yaml_path, data)\n",
    "\n",
    "    nothing\n",
    "end\n",
    "\n",
    "change_solver(\"ALTRO\")\n",
    "include(\"Woofer/MPCControl/MPCControl.jl\")\n",
    "import .MPCControl\n",
    "\n",
    "altro_times = Float64[]\n",
    "param = MPCControl.ControllerParams(Float64, Int64)\n",
    "mpc_dt = param.mpc_update\n",
    "\n",
    "for i=1:steps\n",
    "    x = get_state(d)\n",
    "    q = get_joint_pos(d)\n",
    "    q̇ = get_joint_vel(d)\n",
    "    t = d.time\n",
    "\n",
    "    if (t - last_control_update) >= low_level_control_dt\n",
    "        # pull benchmark out of control function\n",
    "        if (t-last_mpc_update) >= mpc_dt\n",
    "            MPCControl.reference_trajectory!(x, param)\n",
    "            MPCControl.foot_history!(t, param)\n",
    "            b = MPCControl.foot_forces!(x, t, param)\n",
    "\n",
    "            push!(altro_times, b.times[1])\n",
    "\n",
    "            last_mpc_update = t\n",
    "        end\n",
    "\n",
    "        τ = MPCControl.control!(τ, x, q, q̇, t, param)\n",
    "\n",
    "        d.ctrl .= τ\n",
    "\n",
    "        last_control_update = t\n",
    "    end\n",
    "\n",
    "    mj_step(m, d);\n",
    "end\n",
    "\n",
    "println(\"Altro mean solve time: \", mean(altro_times)*1e-3, \" μs.\")"
   ]
  },
  {
   "cell_type": "markdown",
   "metadata": {},
   "source": [
    "# Solving in OSQP"
   ]
  },
  {
   "cell_type": "code",
   "execution_count": 7,
   "metadata": {},
   "outputs": [
    {
     "name": "stdout",
     "output_type": "stream",
     "text": [
      "OSQP mean solve time: NaN μs.\n"
     ]
    },
    {
     "name": "stderr",
     "output_type": "stream",
     "text": [
      "WARNING: replacing module MPCControl.\n"
     ]
    }
   ],
   "source": [
    "change_solver(\"OSQP\")\n",
    "include(\"Woofer/MPCControl/MPCControl.jl\")\n",
    "import .MPCControl\n",
    "\n",
    "d = jlData(m)\n",
    "osqp_times = Float64[]\n",
    "param = MPCControl.ControllerParams(Float64, Int64)\n",
    "\n",
    "for i=1:steps\n",
    "    x = get_state(d)\n",
    "    q = get_joint_pos(d)\n",
    "    q̇ = get_joint_vel(d)\n",
    "    t = d.time\n",
    "\n",
    "    if (t - last_control_update) >= low_level_control_dt\n",
    "        # pull benchmark out of control function\n",
    "        if (t-last_mpc_update) >= mpc_dt\n",
    "            MPCControl.reference_trajectory!(x, param)\n",
    "            MPCControl.foot_history!(t, param)\n",
    "            b = MPCControl.foot_forces!(x, t, param)\n",
    "\n",
    "            push!(osqp_times, b.times[1])\n",
    "\n",
    "            last_mpc_update = t\n",
    "        end\n",
    "\n",
    "        τ = MPCControl.control!(τ, x, q, q̇, t, param)\n",
    "\n",
    "        d.ctrl .= τ\n",
    "\n",
    "        last_control_update = t\n",
    "    end\n",
    "\n",
    "    mj_step(m, d);\n",
    "end\n",
    "\n",
    "println(\"OSQP mean solve time: \", mean(osqp_times)*1e-3, \" μs.\")"
   ]
  },
  {
   "cell_type": "markdown",
   "metadata": {},
   "source": [
    "# Plots"
   ]
  },
  {
   "cell_type": "code",
   "execution_count": null,
   "metadata": {},
   "outputs": [
    {
     "name": "stderr",
     "output_type": "stream",
     "text": [
      "┌ Info: Precompiling Plots [91a5bcdd-55d7-5caf-9e0b-520d859cae80]\n",
      "└ @ Base loading.jl:1260\n"
     ]
    }
   ],
   "source": [
    "using Plots\n",
    "\n",
    "bins = collect(0:100:2000)\n",
    "\n",
    "histogram(altro_times ./ 1000, bins=bins, label=\"Altro\", title=\"Altro Solve Time Histogram\")\n",
    "png(\"altro_hist\")\n",
    "\n",
    "histogram(osqp_times ./ 1000, bins=bins, title=\"OSQP Solve Time Histogram\")\n",
    "png(\"osqp_hist\")\n"
   ]
  },
  {
   "cell_type": "code",
   "execution_count": null,
   "metadata": {},
   "outputs": [],
   "source": []
  }
 ],
 "metadata": {
  "kernelspec": {
   "display_name": "Julia 1.4.1",
   "language": "julia",
   "name": "julia-1.4"
  },
  "language_info": {
   "file_extension": ".jl",
   "mimetype": "application/julia",
   "name": "julia",
   "version": "1.4.1"
  }
 },
 "nbformat": 4,
 "nbformat_minor": 4
}
