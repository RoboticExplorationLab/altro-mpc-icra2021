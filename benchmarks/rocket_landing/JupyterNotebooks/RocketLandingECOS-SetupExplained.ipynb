{
 "cells": [
  {
   "cell_type": "markdown",
   "metadata": {},
   "source": [
    "# Rocket Soft-Landing Problem\n",
    "\n",
    "This notebook is a walkthough of the ECOS solver for the Rocket Soft-Landing Problem (i.e. the general control challenge of landing a rocket at rest at a designated landing site). In the simplest case, we treat the rocket as a sphere landing on a flat surface with no atmosphere. This approximation is reasonable when the rocket is near the ground and entering the final part of the descent.\n",
    "\n",
    "**This files focuses on the simple (non-MPC) application. Thanks!**"
   ]
  },
  {
   "cell_type": "code",
   "execution_count": 1,
   "metadata": {},
   "outputs": [
    {
     "name": "stderr",
     "output_type": "stream",
     "text": [
      "\u001b[32m\u001b[1m Activating\u001b[22m\u001b[39m environment at `C:\\Users\\Daniel N\\.julia\\dev\\altro-mpc-icra2021\\benchmarks\\rocket_landing\\Project.toml`\n"
     ]
    },
    {
     "name": "stdout",
     "output_type": "stream",
     "text": [
      "\u001b[32m\u001b[1mStatus\u001b[22m\u001b[39m `C:\\Users\\Daniel N\\.julia\\dev\\altro-mpc-icra2021\\benchmarks\\rocket_landing\\Project.toml`\n",
      " \u001b[90m [5dcf52e5]\u001b[39m\u001b[37m Altro v0.2.0 #socp (https://github.com/RoboticExplorationLab/Altro.jl.git)\u001b[39m\n",
      " \u001b[90m [6e4b80f9]\u001b[39m\u001b[37m BenchmarkTools v0.5.0\u001b[39m\n",
      " \u001b[90m [f65535da]\u001b[39m\u001b[37m Convex v0.13.7\u001b[39m\n",
      " \u001b[90m [0c46a032]\u001b[39m\u001b[37m DifferentialEquations v6.15.0\u001b[39m\n",
      " \u001b[90m [e2685f51]\u001b[39m\u001b[37m ECOS v0.12.1\u001b[39m\n",
      " \u001b[90m [5789e2e9]\u001b[39m\u001b[37m FileIO v1.4.3\u001b[39m\n",
      " \u001b[90m [283c5d60]\u001b[39m\u001b[37m MeshCat v0.11.3\u001b[39m\n",
      " \u001b[90m [7269a6da]\u001b[39m\u001b[37m MeshIO v0.3.2\u001b[39m\n",
      " \u001b[90m [91a5bcdd]\u001b[39m\u001b[37m Plots v1.6.9\u001b[39m\n",
      " \u001b[90m [d330b81b]\u001b[39m\u001b[37m PyPlot v2.9.0\u001b[39m\n",
      " \u001b[90m [38ceca67]\u001b[39m\u001b[37m RobotDynamics v0.2.2\u001b[39m\n",
      " \u001b[90m [6038ab10]\u001b[39m\u001b[37m Rotations v1.0.1\u001b[39m\n",
      " \u001b[90m [90137ffa]\u001b[39m\u001b[37m StaticArrays v0.12.4\u001b[39m\n",
      " \u001b[90m [7770976a]\u001b[39m\u001b[37m TrajOptPlots v0.1.0 #master (https://github.com/RoboticExplorationLab/TrajOptPlots.jl)\u001b[39m\n",
      " \u001b[90m [c79d492b]\u001b[39m\u001b[37m TrajectoryOptimization v0.3.2 #socp (https://github.com/RoboticExplorationLab/TrajectoryOptimization.jl.git)\u001b[39m\n",
      " \u001b[90m [37e2e46d]\u001b[39m\u001b[37m LinearAlgebra \u001b[39m\n",
      " \u001b[90m [2f01184e]\u001b[39m\u001b[37m SparseArrays \u001b[39m\n"
     ]
    }
   ],
   "source": [
    "using Pkg\n",
    "Pkg.activate(\".\")\n",
    "Pkg.instantiate()\n",
    "Pkg.status()"
   ]
  },
  {
   "cell_type": "markdown",
   "metadata": {},
   "source": [
    "# Step 1: Set-Up the Rocket Soft-Landing Problem"
   ]
  },
  {
   "cell_type": "markdown",
   "metadata": {},
   "source": [
    "## Load Required Packages\n",
    "\n",
    "The <code>Convex</code> package enables us to write the optimization problem. The <code>ECOS</code> package will solve the trajectory optimization problem. <code>StaticArrays</code>, <code>SparseArrays</code>, and <code>LinearAlgebra</code> are required to set-up the appropriate data types.\n",
    "\n",
    "Next, <code>Plots, MeshCat, TrajOptPlots, FileIO,</code> and <code>MeshIO</code> packages are used to visualize the results. Note that the plotting sections will take significantly longer to run than the optimization. \n",
    "\n",
    "Lastly, <code>DifferentialEquations</code> integrates the dynamics forward as a way to show that the dynamics constraints are satisfied.\n",
    "\n",
    "Loading all the packages, especially for plotting and the differential equations integrator can be the longest part of the whole notebook."
   ]
  },
  {
   "cell_type": "code",
   "execution_count": 2,
   "metadata": {},
   "outputs": [
    {
     "name": "stdout",
     "output_type": "stream",
     "text": [
      "Optimization Packages Ready\n",
      "Base Plotting Packages Ready\n",
      "3D Plotting Packages Ready\n",
      "Differential Equations Ready\n"
     ]
    }
   ],
   "source": [
    "using Convex\n",
    "using ECOS\n",
    "using StaticArrays, SparseArrays, LinearAlgebra\n",
    "println(\"Optimization Packages Ready\")\n",
    "\n",
    "using Plots\n",
    "pyplot()\n",
    "println(\"Base Plotting Packages Ready\")\n",
    "\n",
    "using MeshCat, TrajOptPlots\n",
    "using FileIO, MeshIO\n",
    "println(\"3D Plotting Packages Ready\")\n",
    "\n",
    "import DifferentialEquations.solve, DifferentialEquations.ODEProblem, DifferentialEquations.Tsit5\n",
    "using BenchmarkTools\n",
    "println(\"Differential Equations Ready\")"
   ]
  },
  {
   "cell_type": "markdown",
   "metadata": {},
   "source": [
    "## Define and Create the Rocket Model\n",
    "\n",
    "Unlike the Cartpole and Quadrotor models, the Rocket Model is not in the <code>RobotZoo.jl</code> package. Instead, here we build off of work found in the repository below to develop a simplified rocket soft-landing scenario (i.e. no second-order cone constraints and no attitude dynamics). https://github.com/danineamati/TrajOptSOCPs.jl\n",
    "\n",
    "In the simplified case, <code>Rocket</code> only holds the mass and the gravity vector. In the full rocket landing problem, the inertia matrix must also be provided. Separately, the thurster's specific impulse can be used to scale the optimal controls."
   ]
  },
  {
   "cell_type": "code",
   "execution_count": 3,
   "metadata": {},
   "outputs": [],
   "source": [
    "struct rocket_simple\n",
    "    mass\n",
    "    isp\n",
    "    grav\n",
    "    deltaTime\n",
    "end"
   ]
  },
  {
   "cell_type": "markdown",
   "metadata": {},
   "source": [
    "## Detail the Rocket Dynamics\n",
    "\n",
    "For the simplified rocket problem, we choose to ignore the attitude dynamics. Applying newton's second law or by forming a Lagrangian, we arrive at the following sparse system\n",
    "\n",
    "$$\\frac{dx}{dt} = Ax + Bu + g$$\n",
    "\n",
    "Where $A = \\begin{bmatrix}0 & I\\\\ 0 & 0 \\end{bmatrix}$, $B = \\begin{bmatrix}0 \\\\ \\frac{1}{m} I\\end{bmatrix}$, and $G = \\begin{bmatrix} 0 \\\\ -g \\end{bmatrix}$. For the 3D case, these are $(6 \\times 6)$, $(6 \\times 3)$, and $(6 \\times 1)$ matricies, respectively.\n",
    "\n",
    "Since the system is so sparse, we can reduce unnecessary computations by writing the equations for the first and second derivatives. We use the notation of $s = [x; y; z]$ (the positions) and $\\frac{ds}{dt} = [v_x; v_y; v_z]$ (the velocities). Call $y = [x; u; g]$, then,\n",
    "$$\n",
    "\\frac{dy}{dt} = \\begin{bmatrix}A & B & I\\\\ 0 & 0 & 0\\\\ 0 & 0 & 0\\end{bmatrix} y = W y\n",
    "$$\n",
    "which has solution\n",
    "$$\n",
    "y(t) = e^{W t} y0\n",
    "$$\n",
    "where W is square. In a discrete system,\n",
    "$$\n",
    "y_{k+1} = e^{W Δt} y_k = E y_k\n",
    "$$\n",
    "Note that due to all the zeros in W, we get:\n",
    "$$\n",
    "x_{k+1} = E_{11} x_k + E_{12} u_k + E_{13} g\n",
    "$$\n",
    "$$\n",
    "u_{k+1} = E_{21} x_k + E_{22} u_k + E_{23} g = u_k\n",
    "$$\n",
    "$$\n",
    "g = E_{31} x_k + E_{32} u_k + E_{33} g = g\n",
    "$$\n",
    "\n",
    "Thus, once we calculate the matrix $E$, we extract $E_{11}$, $E_{12}$, and $E_{13}$ to a system of the\n",
    "form:\n",
    "\n",
    "$$\n",
    "x_{k+1} = A_{\\text{eff}} \\ x_k + B_{\\text{eff}} \\ u_k + G_{\\text{eff}}\n",
    "$$"
   ]
  },
  {
   "cell_type": "code",
   "execution_count": 4,
   "metadata": {},
   "outputs": [
    {
     "data": {
      "text/plain": [
       "rocketDynamics (generic function with 1 method)"
      ]
     },
     "execution_count": 4,
     "metadata": {},
     "output_type": "execute_result"
    }
   ],
   "source": [
    "function rocketDynamicsContinuousMat(r::rocket_simple, nDim::Int64)\n",
    "    # Start off with a dense representation because it is needed for the\n",
    "    # exponentiation.\n",
    "    z0 = zeros(nDim, nDim)\n",
    "    aMat = [z0 I; z0 z0]\n",
    "    bMat = [z0; -(1/r.mass) * I]\n",
    "    gMat = [z0; I]\n",
    "    \n",
    "    return aMat, bMat, gMat\n",
    "end\n",
    "\n",
    "function rocketDynamics(r::rocket_simple, nDim::Int64)\n",
    "\n",
    "    aMat, bMat, gMat = rocketDynamicsContinuousMat(r, nDim)\n",
    "\n",
    "    # Top Row\n",
    "    abg = [aMat bMat gMat]\n",
    "    abg_size = size(abg)\n",
    "\n",
    "    # We need to pad the remaining rows to make a square matrix\n",
    "    remainingRows = abg_size[2] - abg_size[1]\n",
    "    abgTot = [abg; zeros(remainingRows, abg_size[2])]\n",
    "\n",
    "    # Take the exponent e^(W Δt)\n",
    "    eMat = exp(abgTot * r.deltaTime)\n",
    "\n",
    "    # Extract the effective matrices\n",
    "    rowsA = size(aMat, 1)\n",
    "    colsA = size(aMat, 2)\n",
    "    colsB = size(bMat, 2)\n",
    "\n",
    "    aEffMat = sparse(eMat[1:rowsA, 1:colsA])\n",
    "    bEffMat = sparse(eMat[1:rowsA, colsA + 1:colsA + colsB])\n",
    "    gEffMat = sparse(eMat[1:rowsA, colsA + colsB + 1:end])\n",
    "\n",
    "    # Return the three effective matrices\n",
    "    return aEffMat, bEffMat, gEffMat\n",
    "end"
   ]
  },
  {
   "cell_type": "markdown",
   "metadata": {},
   "source": [
    "Now we want to stack these per iteration dynamics into a single matrix from which we will build an affine equality constraint. To do this, we create the helper function below.\n",
    "\n",
    "Specifically, we get the system:\n",
    "$$\\begin{bmatrix}A & B & -I\\end{bmatrix} \\begin{bmatrix}x_k \\\\ u_k \\\\ x_{k+1}\\end{bmatrix} = G$$\n",
    "which we can stack as\n",
    "$$\\begin{bmatrix}\n",
    "A & B & -I & 0 & 0 & 0 & 0 & 0 & 0 \\\\\n",
    "0 & 0 & A & B & -I & 0 & 0 & 0 & 0 \\\\\n",
    "0 & 0 & 0 & 0 & A & B & -I & 0 & 0 \\\\\n",
    "0 & 0 & 0 & 0 & 0 & 0 & A & B & -I\n",
    "\\end{bmatrix}\n",
    "$$\n",
    "We return the above matrix and the stacked `G` matrix."
   ]
  },
  {
   "cell_type": "code",
   "execution_count": 5,
   "metadata": {},
   "outputs": [
    {
     "data": {
      "text/plain": [
       "rocketDynamicsStack (generic function with 1 method)"
      ]
     },
     "execution_count": 5,
     "metadata": {},
     "output_type": "execute_result"
    }
   ],
   "source": [
    "function rocketDynamicsStack(r::rocket_simple, nDim::Int64, NSteps::Int64)\n",
    "    # First calculate the A and B matrices.\n",
    "    Ak, Bk, Gk = rocketDynamics(r::rocket_simple, nDim::Int64)\n",
    "    ABI_unit = [Ak Bk -I]\n",
    "    colLen = size(ABI_unit, 2)\n",
    "\n",
    "    # At each step we go down 2 * n rows and move right 3 * n columns.\n",
    "    sizeCols = 3 * NSteps * nDim + 2 * nDim\n",
    "    sizeRows = 2 * nDim * NSteps\n",
    "\n",
    "    # Initialize and empty sparse A matrix and G vector\n",
    "    AStacked = spzeros(sizeRows, sizeCols)\n",
    "    GStacked = spzeros(sizeRows, 1)\n",
    "\n",
    "    # Build up the matrix\n",
    "    rStart = 1\n",
    "    cStart = 1\n",
    "    for k in 1:NSteps\n",
    "        rEnd = rStart + (2 * nDim - 1)\n",
    "        cEnd = cStart + colLen - 1\n",
    "\n",
    "        # First, we calculate that stacked A Matrix\n",
    "        # println(\"Accessing $rStart:$rEnd and $cStart:$cEnd\")\n",
    "        AStacked[rStart:rEnd, cStart:cEnd] = ABI_unit\n",
    "\n",
    "        # Second, we calculate the stacked G vector\n",
    "        GStacked[rStart:rEnd] = -Gk * r.grav\n",
    "\n",
    "        # Prepare for next iteration.\n",
    "        rStart += 2 * nDim\n",
    "        cStart += 3 * nDim\n",
    "    end\n",
    "\n",
    "    # Returned the stacked matrix (A) and vector (G)\n",
    "    return AStacked, GStacked\n",
    "end"
   ]
  },
  {
   "cell_type": "markdown",
   "metadata": {},
   "source": [
    "## Instantiate the Model and Define the Discretization\n",
    "\n",
    "Feel free to choose <code>N</code> and <code>tf</code> based on your needs."
   ]
  },
  {
   "cell_type": "code",
   "execution_count": 6,
   "metadata": {},
   "outputs": [
    {
     "data": {
      "text/latex": [
       "2 5 . 0"
      ],
      "text/plain": [
       "25.0"
      ]
     },
     "metadata": {},
     "output_type": "display_data"
    },
    {
     "data": {
      "text/plain": [
       "rocket_simple(1, 1, [0.0, 0.0, -9.81], 0.1)"
      ]
     },
     "execution_count": 6,
     "metadata": {},
     "output_type": "execute_result"
    }
   ],
   "source": [
    "mass = 1\n",
    "isp = 1\n",
    "grav = [0; 0; -9.81]\n",
    "deltaTime = 0.1\n",
    "rocket = rocket_simple(mass, isp, grav, deltaTime)\n",
    "\n",
    "# Trajectory Discretization\n",
    "N = 250\n",
    "tf = N * deltaTime\n",
    "display(tf)\n",
    "\n",
    "# Dimensionality\n",
    "num_controls = 3 # ux, uy, uz\n",
    "num_states = 6 # x, y, z, vx, vy, vz\n",
    "var_size = N * (num_controls + num_states) + num_states # Last step does not have a control\n",
    "\n",
    "# Set Up the Trajectory Variable with Convex.jl\n",
    "tau = Variable(var_size) # Trajectory\n",
    "\n",
    "rocket # (Simply for information) Display the struct as the cell output "
   ]
  },
  {
   "cell_type": "markdown",
   "metadata": {},
   "source": [
    "## Specify the Initial and Final Conditions\n",
    "\n",
    "Choose the initial and final points. Note that these must be full state vectors ($[x; y; z; v_x; v_y; v_z]$). The initial point is generally the rocket's current state. The final point is generally the rocket's landing stop. Note that the final velocity of the rocket should **always** be $[0.0; 0.0; 0.0]$ to have a **soft** landing."
   ]
  },
  {
   "cell_type": "code",
   "execution_count": 7,
   "metadata": {},
   "outputs": [],
   "source": [
    "# Initial and Final Conditions\n",
    "# in m\n",
    "# The Karman Line (100 km)\n",
    "const rocketStart = [4.0, 2.0, 20.0, -3.0, 2.0, -5.0]\n",
    "const rocketEnd = [0.0, 0.0, 0.0, 0.0, 0.0, 0.0];"
   ]
  },
  {
   "cell_type": "markdown",
   "metadata": {},
   "source": [
    "## Initialize the Trajectory\n",
    "\n",
    "We choose to initialize the trajectory at a hover (i.e. the rocket trajectory will initially only counter gravity). Note that this is **not** a warm start."
   ]
  },
  {
   "cell_type": "code",
   "execution_count": 8,
   "metadata": {},
   "outputs": [
    {
     "data": {
      "text/plain": [
       "initializeTraj (generic function with 1 method)"
      ]
     },
     "execution_count": 8,
     "metadata": {},
     "output_type": "execute_result"
    }
   ],
   "source": [
    "function initializeTraj(x0::Array{Float64, 1}, xN::Array{Float64, 1},\n",
    "                        NSteps::Int64)\n",
    "    if size(x0) != size(xN)\n",
    "        error(\"x0 and xN must have the same size. \" *\n",
    "                \"Currently: x0 = $x0 and xN = $xN\")\n",
    "    end\n",
    "    if mod(size(x0, 1), 2) != 0\n",
    "        error(\"x0 and xN must have an even number of variables. \" *\n",
    "              \"Example, x0 = [sx0; sy0; vx0; vy0]. Currently x0 = $x0.\")\n",
    "    end\n",
    "\n",
    "    # Calculate the linearly interpolated x values\n",
    "    xSteps = LinRange(x0, xN, NSteps + 1)\n",
    "    # Now we want to stack this as a vector in the form\n",
    "    # [x0; u0; x1; ...; uN-1, xN]\n",
    "    nDim = Int64(size(x0, 1) / 2)\n",
    "    sizeXU = 3 * NSteps * nDim + 2 * nDim\n",
    "    XUfull = zeros(sizeXU, 1)\n",
    "\n",
    "    # println(\"Dimensions = $nDim\")\n",
    "\n",
    "    for k in 1:(NSteps + 1)\n",
    "        iStart = 1 + (k - 1) * (3 * nDim)\n",
    "        iEnd = iStart + (2 * nDim - 1)\n",
    "        # println(\"Accessing ($iStart, $iEnd)\")\n",
    "        XUfull[iStart:iEnd] = xSteps[k]\n",
    "    end\n",
    "\n",
    "    return XUfull\n",
    "end"
   ]
  },
  {
   "cell_type": "code",
   "execution_count": 9,
   "metadata": {},
   "outputs": [],
   "source": [
    "initTraj = initializeTraj(rocketStart, rocketStart, N)\n",
    "\n",
    "set_value!(tau, initTraj);"
   ]
  },
  {
   "cell_type": "markdown",
   "metadata": {},
   "source": [
    "## Set-Up the LQR Objective Function\n",
    "\n",
    "For this problem, we choose an LQR Objective Function. One can add waypoints or change the weights to craft different optimal trajectories. See http://roboticexplorationlab.org/TrajectoryOptimization.jl/stable/costfunctions.html for more information."
   ]
  },
  {
   "cell_type": "code",
   "execution_count": 10,
   "metadata": {},
   "outputs": [],
   "source": [
    "Q = 0.025 * Diagonal(I, num_states)\n",
    "Qf = 1 * Diagonal(I, num_states)\n",
    "R = 0.25 * Diagonal(I, num_controls);\n",
    "\n",
    "\n",
    "function getQRFull(Q, Qf, R, N, v)\n",
    "    # Initialize and empty sparse array\n",
    "    QRFull = spzeros(v, v)\n",
    "\n",
    "    rStart = 1\n",
    "\n",
    "    # Put Q and R along the diagonal\n",
    "    for k in 1:N\n",
    "        rEnd = rStart + num_states - 1\n",
    "        QRFull[rStart:rEnd, rStart:rEnd] = Q\n",
    "\n",
    "        rStart += num_states\n",
    "        rEnd = rStart + num_controls - 1\n",
    "\n",
    "        QRFull[rStart:rEnd, rStart:rEnd] = R\n",
    "\n",
    "        rStart += num_controls\n",
    "    end\n",
    "    rEnd = rStart + num_states - 1\n",
    "    QRFull[rStart:rEnd, rStart:rEnd] = Qf\n",
    "\n",
    "    return Symmetric(QRFull);\n",
    "    \n",
    "end\n",
    "\n",
    "\n",
    "QRFull = getQRFull(Q, Qf, R, N, var_size);"
   ]
  },
  {
   "cell_type": "code",
   "execution_count": 11,
   "metadata": {},
   "outputs": [
    {
     "data": {
      "text/plain": [
       "minimize\n",
       "└─ * (convex; positive)\n",
       "   ├─ 1\n",
       "   └─ qol_elem (convex; positive)\n",
       "      ├─ norm2 (convex; positive)\n",
       "      │  └─ …\n",
       "      └─ [1.0]\n",
       "\n",
       "status: `solve!` not called yet"
      ]
     },
     "execution_count": 11,
     "metadata": {},
     "output_type": "execute_result"
    }
   ],
   "source": [
    "# Set the Objective Function to the problem\n",
    "\n",
    "try \n",
    "    problem = minimize(quadform(tau, QRFull / 2))\n",
    "catch LAPACKException\n",
    "    problem = minimize(quadform(tau, QRFull / 2))\n",
    "end\n",
    "\n",
    "problem = minimize(quadform(tau, QRFull / 2))"
   ]
  },
  {
   "cell_type": "code",
   "execution_count": 12,
   "metadata": {},
   "outputs": [
    {
     "data": {
      "image/png": "[encoded data removed]"
     },
     "execution_count": 12,
     "metadata": {},
     "output_type": "execute_result"
    }
   ],
   "source": [
    "spy(QRFull)"
   ]
  },
  {
   "cell_type": "markdown",
   "metadata": {},
   "source": [
    "## Define the Constraints\n",
    "\n",
    "For the simple rocket soft-landing problem, we will include 5 constraints:\n",
    "1. Dynamics Constraints ($A \\tau = B$)\n",
    "2. Initial and Terminal Constraints ($x[0] = x_0$ and $x[N] = x_N$)\n",
    "2. Crash Prevention Constraint ($z > 0$)\n",
    "3. Thrust Magnitude Bounds ($||u||_2 < u_{max}$)\n",
    "4. Thurst Angle Bounds ($||[u_x; u_y]|| ≤ \\alpha \\ u_z$)"
   ]
  },
  {
   "cell_type": "code",
   "execution_count": 13,
   "metadata": {},
   "outputs": [
    {
     "data": {
      "text/plain": [
       "1-element Array{Constraint,1}:\n",
       " == constraint (affine)\n",
       "├─ * (affine; real)\n",
       "│  ├─ 1500×2256 SparseMatrixCSC{Float64,Int64}\n",
       "│  └─ 2256-element real variable (id: 161…368)\n",
       "└─ 1500×1 SparseMatrixCSC{Float64,Int64}"
      ]
     },
     "execution_count": 13,
     "metadata": {},
     "output_type": "execute_result"
    }
   ],
   "source": [
    "# Add the Dynamics Constraints\n",
    "const AStack, BStack = rocketDynamicsStack(rocket, num_controls, N)\n",
    "\n",
    "problem.constraints += AStack * tau == BStack"
   ]
  },
  {
   "cell_type": "code",
   "execution_count": 14,
   "metadata": {},
   "outputs": [
    {
     "data": {
      "text/plain": [
       "4-element Array{Constraint,1}:\n",
       " == constraint (affine)\n",
       "├─ * (affine; real)\n",
       "│  ├─ 1500×2256 SparseMatrixCSC{Float64,Int64}\n",
       "│  └─ 2256-element real variable (id: 161…368)\n",
       "└─ 1500×1 SparseMatrixCSC{Float64,Int64}\n",
       " == constraint (affine)\n",
       "├─ index (affine; real)\n",
       "│  └─ 2256-element real variable (id: 161…368)\n",
       "└─ 6-element Array{Float64,1}\n",
       " >= constraint (affine)\n",
       "├─ index (affine; real)\n",
       "│  └─ 2256-element real variable (id: 161…368)\n",
       "└─ -10000\n",
       " == constraint (affine)\n",
       "├─ index (affine; real)\n",
       "│  └─ 2256-element real variable (id: 161…368)\n",
       "└─ 6-element Array{Float64,1}"
      ]
     },
     "execution_count": 14,
     "metadata": {},
     "output_type": "execute_result"
    }
   ],
   "source": [
    "# Add Initial and Terminal Constraints\n",
    "large_num = 10000\n",
    "\n",
    "problem.constraints += tau[1:6] == rocketStart\n",
    "problem.constraints += tau[7:(end - 6)] > -large_num\n",
    "problem.constraints += tau[(end - 5):end] == rocketEnd"
   ]
  },
  {
   "cell_type": "code",
   "execution_count": 15,
   "metadata": {},
   "outputs": [
    {
     "data": {
      "text/plain": [
       "5-element Array{Constraint,1}:\n",
       " == constraint (affine)\n",
       "├─ * (affine; real)\n",
       "│  ├─ 1500×2256 SparseMatrixCSC{Float64,Int64}\n",
       "│  └─ 2256-element real variable (id: 161…368)\n",
       "└─ 1500×1 SparseMatrixCSC{Float64,Int64}\n",
       " == constraint (affine)\n",
       "├─ index (affine; real)\n",
       "│  └─ 2256-element real variable (id: 161…368)\n",
       "└─ 6-element Array{Float64,1}\n",
       " >= constraint (affine)\n",
       "├─ index (affine; real)\n",
       "│  └─ 2256-element real variable (id: 161…368)\n",
       "└─ -10000\n",
       " == constraint (affine)\n",
       "├─ index (affine; real)\n",
       "│  └─ 2256-element real variable (id: 161…368)\n",
       "└─ 6-element Array{Float64,1}\n",
       " >= constraint (affine)\n",
       "├─ * (affine; real)\n",
       "│  ├─ 2256×2256 SparseMatrixCSC{Float64,Int64}\n",
       "│  └─ 2256-element real variable (id: 161…368)\n",
       "└─ 0"
      ]
     },
     "execution_count": 15,
     "metadata": {},
     "output_type": "execute_result"
    }
   ],
   "source": [
    "# Add the Ground Constraint\n",
    "ground_mat = spzeros(var_size, var_size)\n",
    "\n",
    "currInd = 3\n",
    "currRow = 1\n",
    "while currRow <= N\n",
    "    ground_mat[currRow, currInd] = 1\n",
    "\n",
    "    currRow += 1\n",
    "    currInd += 3 * Int(num_states / 2)\n",
    "end\n",
    "\n",
    "problem.constraints += ground_mat * tau > 0"
   ]
  },
  {
   "cell_type": "code",
   "execution_count": 16,
   "metadata": {},
   "outputs": [
    {
     "data": {
      "text/plain": [
       "6-element Array{Constraint,1}:\n",
       " == constraint (affine)\n",
       "├─ * (affine; real)\n",
       "│  ├─ 1500×2256 SparseMatrixCSC{Float64,Int64}\n",
       "│  └─ 2256-element real variable (id: 161…368)\n",
       "└─ 1500×1 SparseMatrixCSC{Float64,Int64}\n",
       " == constraint (affine)\n",
       "├─ index (affine; real)\n",
       "│  └─ 2256-element real variable (id: 161…368)\n",
       "└─ 6-element Array{Float64,1}\n",
       " >= constraint (affine)\n",
       "├─ index (affine; real)\n",
       "│  └─ 2256-element real variable (id: 161…368)\n",
       "└─ -10000\n",
       " == constraint (affine)\n",
       "├─ index (affine; real)\n",
       "│  └─ 2256-element real variable (id: 161…368)\n",
       "└─ 6-element Array{Float64,1}\n",
       " >= constraint (affine)\n",
       "├─ * (affine; real)\n",
       "│  ├─ 2256×2256 SparseMatrixCSC{Float64,Int64}\n",
       "│  └─ 2256-element real variable (id: 161…368)\n",
       "└─ 0\n",
       " <= constraint (convex)\n",
       "├─ norm2 (convex; positive)\n",
       "│  └─ index (affine; real)\n",
       "│     └─ 2256-element real variable (id: 161…368)\n",
       "└─ 19.62"
      ]
     },
     "execution_count": 16,
     "metadata": {},
     "output_type": "execute_result"
    }
   ],
   "source": [
    "# Add Thrust Magnitude Bounds\n",
    "\n",
    "perWeightMax = 2\n",
    "\n",
    "problem.constraints += norm(tau[7:9], 2) < mass * norm(grav[3]) * perWeightMax"
   ]
  },
  {
   "cell_type": "markdown",
   "metadata": {},
   "source": [
    "## Select the solver options\n",
    "\n",
    "For more information, please visit https://github.com/RoboticExplorationLab/Altro.jl/blob/master/README.md for more details on the solver options.\n",
    "\n",
    "Using the Altro package, we can now specify parameters and solve the problem."
   ]
  },
  {
   "cell_type": "markdown",
   "metadata": {},
   "source": [
    "# Step 2: Solve the initial trajectory optimization problem"
   ]
  },
  {
   "cell_type": "markdown",
   "metadata": {},
   "source": [
    "Show summary is set to <code>true</code> to print the solver speed. In general the solve will take about 30 iterations and 65-80 ms to complete. "
   ]
  },
  {
   "cell_type": "code",
   "execution_count": 17,
   "metadata": {},
   "outputs": [
    {
     "data": {
      "text/plain": [
       "minimize\n",
       "└─ * (convex; positive)\n",
       "   ├─ 1\n",
       "   └─ qol_elem (convex; positive)\n",
       "      ├─ norm2 (convex; positive)\n",
       "      │  └─ …\n",
       "      └─ [1.0]\n",
       "subject to\n",
       "├─ == constraint (affine)\n",
       "│  ├─ * (affine; real)\n",
       "│  │  ├─ 1500×2256 SparseMatrixCSC{Float64,Int64}\n",
       "│  │  └─ 2256-element real variable (id: 161…368)\n",
       "│  └─ 1500×1 SparseMatrixCSC{Float64,Int64}\n",
       "├─ == constraint (affine)\n",
       "│  ├─ index (affine; real)\n",
       "│  │  └─ 2256-element real variable (id: 161…368)\n",
       "│  └─ 6-element Array{Float64,1}\n",
       "├─ >= constraint (affine)\n",
       "│  ├─ index (affine; real)\n",
       "│  │  └─ 2256-element real variable (id: 161…368)\n",
       "│  └─ -10000\n",
       "├─ == constraint (affine)\n",
       "│  ├─ index (affine; real)\n",
       "│  │  └─ 2256-element real variable (id: 161…368)\n",
       "│  └─ 6-element Array{Float64,1}\n",
       "├─ >= constraint (affine)\n",
       "│  ├─ * (affine; real)\n",
       "│  │  ├─ 2256×2256 SparseMatrixCSC{Float64,Int64}\n",
       "│  │  └─ 2256-element real variable (id: 161…368)\n",
       "│  └─ 0\n",
       "└─ <= constraint (convex)\n",
       "   ├─ norm2 (convex; positive)\n",
       "   │  └─ index (affine; real)\n",
       "   │     └─ …\n",
       "   └─ 19.62\n",
       "\n",
       "status: `solve!` not called yet"
      ]
     },
     "execution_count": 17,
     "metadata": {},
     "output_type": "execute_result"
    }
   ],
   "source": [
    "problem"
   ]
  },
  {
   "cell_type": "markdown",
   "metadata": {},
   "source": [
    "Now we can solve it and show the summary"
   ]
  },
  {
   "cell_type": "code",
   "execution_count": 18,
   "metadata": {},
   "outputs": [
    {
     "name": "stdout",
     "output_type": "stream",
     "text": [
      "\n",
      "ECOS 2.0.5 - (C) embotech GmbH, Zurich Switzerland, 2012-15. Web: www.embotech.com/ECOS\n",
      "\n",
      "It     pcost       dcost      gap   pres   dres    k/t    mu     step   sigma     IR    |   BT\n",
      " 0  +0.000e+00  -2.244e+07  +4e+07  2e-01  8e-01  1e+00  9e+03    ---    ---    1  1  - |  -  - \n",
      " 1  -9.118e+01  -5.908e+06  +1e+07  7e-02  2e-01  2e+03  3e+03  0.9215  2e-01   1  1  1 |  0  0\n",
      " 2  -7.525e+01  -4.183e+06  +7e+06  6e-02  1e-01  2e+03  2e+03  0.7835  5e-01   1  1  1 |  0  0\n",
      " 3  -6.570e+00  -3.461e+05  +6e+05  5e-03  1e-02  2e+02  1e+02  0.9114  1e-03   1  1  1 |  0  0\n",
      " 4  -2.509e+01  -3.048e+05  +5e+05  5e-03  5e-03  1e+02  1e+02  0.9890  7e-01   1  1  1 |  0  0\n",
      " 5  -2.482e+00  -2.772e+05  +4e+05  4e-03  2e-03  1e+02  9e+01  0.4089  7e-01   1  1  1 |  0  0\n",
      " 6  +3.408e+01  -1.057e+05  +2e+05  2e-03  5e-04  5e+01  3e+01  0.7964  2e-01   1  1  1 |  0  0\n",
      " 7  +3.009e+00  -3.757e+03  +6e+03  6e-05  1e-05  2e+00  1e+00  0.9858  2e-02   1  1  1 |  0  0\n",
      " 8  +2.989e+00  -1.598e+03  +2e+03  3e-05  5e-06  7e-01  5e-01  0.6334  9e-02   1  1  1 |  0  0\n",
      " 9  +9.475e+00  -1.664e+03  +2e+03  3e-05  4e-06  8e-01  5e-01  0.0268  8e-01   1  1  2 |  0  0\n",
      "10  +9.183e+00  -1.800e+03  +2e+03  3e-05  3e-06  9e-01  5e-01  0.1568  8e-01   1  1  1 |  0  0\n",
      "11  +4.255e+01  -1.717e+03  +2e+03  3e-05  3e-06  8e-01  5e-01  0.0201  9e-01   1  1  2 |  0  0\n",
      "12  +3.513e+01  -1.951e+03  +2e+03  4e-05  2e-06  1e+00  4e-01  0.5225  7e-01   1  1  1 |  0  0\n",
      "13  +2.437e+02  -1.476e+03  +2e+03  3e-05  2e-06  9e-01  4e-01  0.1338  9e-01   1  1  2 |  0  0\n",
      "14  +2.279e+02  -1.158e+03  +8e+02  3e-05  8e-07  1e+00  2e-01  0.9719  4e-01   1  1  1 |  0  0\n",
      "15  +9.227e+02  +1.537e+02  +7e+02  2e-05  6e-07  3e-01  1e-01  0.7257  7e-01   1  1  1 |  0  0\n",
      "16  +1.135e+03  +3.090e+02  +3e+02  2e-05  4e-07  9e-01  6e-02  0.9186  4e-01   1  1  1 |  0  0\n",
      "17  +9.719e+02  +2.713e+02  +3e+02  2e-05  4e-07  8e-01  6e-02  0.3420  8e-01   2  2  2 |  0  0\n",
      "18  +2.496e+03  +2.348e+03  +4e+01  4e-06  8e-08  3e-01  9e-03  0.9230  8e-02   2  2  2 |  0  0\n",
      "19  +2.811e+03  +2.731e+03  +2e+01  2e-06  4e-08  2e-01  4e-03  0.6332  2e-01   1  1  1 |  0  0\n",
      "20  +2.956e+03  +2.903e+03  +1e+01  2e-06  3e-08  1e-01  3e-03  0.6203  4e-01   1  1  1 |  0  0\n",
      "21  +3.067e+03  +3.039e+03  +6e+00  8e-07  2e-08  7e-02  1e-03  0.8580  4e-01   2  1  1 |  0  0\n",
      "22  +3.176e+03  +3.166e+03  +2e+00  3e-07  6e-09  3e-02  5e-04  0.9398  3e-01   1  1  1 |  0  0\n",
      "23  +3.216e+03  +3.213e+03  +5e-01  7e-08  2e-09  7e-03  1e-04  0.9334  2e-01   2  1  1 |  0  0\n",
      "24  +3.226e+03  +3.226e+03  +2e-01  2e-08  5e-10  2e-03  3e-05  0.8915  2e-01   1  1  1 |  0  0\n",
      "25  +3.229e+03  +3.229e+03  +4e-02  5e-09  2e-10  6e-04  9e-06  0.8852  2e-01   1  1  1 |  0  0\n",
      "26  +3.230e+03  +3.230e+03  +1e-02  2e-09  5e-11  2e-04  3e-06  0.8874  2e-01   2  1  1 |  0  0\n",
      "27  +3.230e+03  +3.230e+03  +4e-03  5e-10  2e-11  5e-05  9e-07  0.8792  2e-01   1  1  1 |  0  0\n",
      "28  +3.230e+03  +3.230e+03  +1e-03  2e-10  9e-12  2e-05  3e-07  0.8218  2e-01   2  1  1 |  0  0\n",
      "29  +3.230e+03  +3.230e+03  +3e-04  4e-11  4e-12  4e-06  6e-08  0.8975  1e-01   2  1  1 |  0  0\n",
      "30  +3.230e+03  +3.230e+03  +8e-05  3e-11  2e-12  1e-06  2e-08  0.8406  2e-01   1  1  1 |  0  0\n",
      "31  +3.230e+03  +3.230e+03  +4e-05  2e-11  2e-12  5e-07  9e-09  0.7067  3e-01   2  1  1 |  0  0\n",
      "32  +3.230e+03  +3.230e+03  +2e-05  3e-08  7e-13  2e-07  4e-09  0.9330  4e-01   0  0  0 |  0  0\n",
      "\b\b\b\b\b\b\b\b\b\b\b\b\b\b\b\b\b\b\b\b\b\b\b\b\b\b\b\b\b\b\b\b\b\b\b\b\b\b\b\b\b\b\b\b\b\b\b\b\b\b\b\b\b\b\b\b\b\b\b\b\b\b\b\b\b\b\b\b\b\b\b\b\b\b\b\b\b\b\b\b\b\bUnreliable search direction detected, recovering best iterate (31) and stopping.\n",
      "\n",
      "Close to OPTIMAL (within feastol=2.0e-11, reltol=1.2e-08, abstol=4.0e-05).\n",
      "Runtime: 0.097983 seconds.\n",
      "\n"
     ]
    },
    {
     "name": "stderr",
     "output_type": "stream",
     "text": [
      "┌ Warning: Problem status ALMOST_OPTIMAL; solution may be inaccurate.\n",
      "└ @ Convex C:\\Users\\Daniel N\\.julia\\packages\\Convex\\aYxJA\\src\\solution.jl:252\n"
     ]
    }
   ],
   "source": [
    "solve!(problem, ECOS.Optimizer)"
   ]
  },
  {
   "cell_type": "code",
   "execution_count": 19,
   "metadata": {},
   "outputs": [
    {
     "name": "stdout",
     "output_type": "stream",
     "text": [
      "  122.733 ms (55017 allocations: 7.72 MiB)\n"
     ]
    }
   ],
   "source": [
    "@btime solve!($problem, ECOS.Optimizer(verbose = 0), verbose = false)"
   ]
  },
  {
   "cell_type": "code",
   "execution_count": 20,
   "metadata": {},
   "outputs": [
    {
     "data": {
      "text/plain": [
       "BenchmarkTools.Trial: \n",
       "  memory estimate:  7.72 MiB\n",
       "  allocs estimate:  55017\n",
       "  --------------\n",
       "  minimum time:     122.467 ms (0.00% GC)\n",
       "  median time:      126.020 ms (0.00% GC)\n",
       "  mean time:        127.351 ms (0.83% GC)\n",
       "  maximum time:     155.328 ms (17.98% GC)\n",
       "  --------------\n",
       "  samples:          40\n",
       "  evals/sample:     1"
      ]
     },
     "execution_count": 20,
     "metadata": {},
     "output_type": "execute_result"
    }
   ],
   "source": [
    "@benchmark solve!($problem, ECOS.Optimizer(verbose = 0), verbose = false)"
   ]
  },
  {
   "cell_type": "code",
   "execution_count": 21,
   "metadata": {},
   "outputs": [
    {
     "data": {
      "text/plain": [
       "minimize\n",
       "└─ * (convex; positive)\n",
       "   ├─ 1\n",
       "   └─ qol_elem (convex; positive)\n",
       "      ├─ norm2 (convex; positive)\n",
       "      │  └─ …\n",
       "      └─ [1.0]\n",
       "subject to\n",
       "├─ == constraint (affine)\n",
       "│  ├─ * (affine; real)\n",
       "│  │  ├─ 1500×2256 SparseMatrixCSC{Float64,Int64}\n",
       "│  │  └─ 2256-element real variable (id: 161…368)\n",
       "│  └─ 1500×1 SparseMatrixCSC{Float64,Int64}\n",
       "├─ == constraint (affine)\n",
       "│  ├─ index (affine; real)\n",
       "│  │  └─ 2256-element real variable (id: 161…368)\n",
       "│  └─ 6-element Array{Float64,1}\n",
       "├─ >= constraint (affine)\n",
       "│  ├─ index (affine; real)\n",
       "│  │  └─ 2256-element real variable (id: 161…368)\n",
       "│  └─ -10000\n",
       "├─ == constraint (affine)\n",
       "│  ├─ index (affine; real)\n",
       "│  │  └─ 2256-element real variable (id: 161…368)\n",
       "│  └─ 6-element Array{Float64,1}\n",
       "├─ >= constraint (affine)\n",
       "│  ├─ * (affine; real)\n",
       "│  │  ├─ 2256×2256 SparseMatrixCSC{Float64,Int64}\n",
       "│  │  └─ 2256-element real variable (id: 161…368)\n",
       "│  └─ 0\n",
       "└─ <= constraint (convex)\n",
       "   ├─ norm2 (convex; positive)\n",
       "   │  └─ index (affine; real)\n",
       "   │     └─ …\n",
       "   └─ 19.62\n",
       "\n",
       "termination status: ALMOST_OPTIMAL\n",
       "primal status: NEARLY_FEASIBLE_POINT\n",
       "dual status: NEARLY_FEASIBLE_POINT"
      ]
     },
     "execution_count": 21,
     "metadata": {},
     "output_type": "execute_result"
    }
   ],
   "source": [
    "problem"
   ]
  },
  {
   "cell_type": "markdown",
   "metadata": {},
   "source": [
    "Access the Trajectory"
   ]
  },
  {
   "cell_type": "code",
   "execution_count": 22,
   "metadata": {},
   "outputs": [
    {
     "data": {
      "text/latex": [
       "3 2 3 0 . 4 8 9 7 4 9 1 9 2 2 8"
      ],
      "text/plain": [
       "3230.48974919228"
      ]
     },
     "metadata": {},
     "output_type": "display_data"
    },
    {
     "data": {
      "text/plain": [
       "6-element Array{Float64,1}:\n",
       "  4.0\n",
       "  2.0\n",
       " 20.0\n",
       " -3.0\n",
       "  2.0\n",
       " -5.0"
      ]
     },
     "metadata": {},
     "output_type": "display_data"
    },
    {
     "data": {
      "text/plain": [
       "2256-element Array{Float64,1}:\n",
       "  4.000000000000027\n",
       "  2.0000000000005196\n",
       " 19.999999999994007\n",
       " -3.0000000000007416\n",
       "  2.0000000000010054\n",
       " -5.000000000022004\n",
       " -1.2940409015849133\n",
       "  2.2766067799363463\n",
       " -7.941452899893139\n",
       "  3.7064702045078852\n",
       "  2.1886169661014487\n",
       " 19.49065726448524\n",
       " -2.8705959098429785\n",
       "  ⋮\n",
       "  1.0865876814045977e-5\n",
       " -1.2060244005639626e-5\n",
       " -0.00032699590912736606\n",
       "  0.00010865876576044387\n",
       " -0.00012060244243862291\n",
       " -9.813269984174633\n",
       " -1.5422697814350293e-13\n",
       " -1.5425768288550688e-13\n",
       " -4.504695356291518e-9\n",
       "  1.1900079852324961e-13\n",
       "  1.1911133600906155e-13\n",
       "  1.254168064688103e-9"
      ]
     },
     "execution_count": 22,
     "metadata": {},
     "output_type": "execute_result"
    }
   ],
   "source": [
    "display(problem.optval)\n",
    "display(rocketStart)\n",
    "result_traj = evaluate(tau)"
   ]
  },
  {
   "cell_type": "code",
   "execution_count": 23,
   "metadata": {},
   "outputs": [],
   "source": [
    "function getXVU(tau)\n",
    "    kStart = 1\n",
    "    maxK = length(tau)\n",
    "    # println(\"Max = $maxK\")\n",
    "\n",
    "    xList = []\n",
    "    vList = []\n",
    "    uList = []\n",
    "\n",
    "    while kStart < (maxK - 2 * num_controls)\n",
    "        # println(\"Accessing $kStart to $(kStart + 3 * nDim - 1)\")\n",
    "        push!(xList, evaluate(tau)[kStart:kStart + num_controls - 1])\n",
    "        push!(vList, evaluate(tau)[kStart + num_controls:kStart + 2 * num_controls - 1])\n",
    "        push!(uList, evaluate(tau)[kStart + 2 * num_controls:kStart + 3 * num_controls - 1])\n",
    "\n",
    "        kStart = kStart + 3 * num_controls\n",
    "    end\n",
    "    \n",
    "    return xList, vList, uList\n",
    "end\n",
    "\n",
    "xList, vList, uList = getXVU(tau);"
   ]
  },
  {
   "cell_type": "code",
   "execution_count": 24,
   "metadata": {},
   "outputs": [],
   "source": [
    "xs = [x[1] for x in xList]\n",
    "ys = [x[2] for x in xList]\n",
    "zs = [x[3] for x in xList];"
   ]
  },
  {
   "cell_type": "code",
   "execution_count": 25,
   "metadata": {},
   "outputs": [
    {
     "data": {
      "image/png": "[encoded data removed]"
     },
     "execution_count": 25,
     "metadata": {},
     "output_type": "execute_result"
    }
   ],
   "source": [
    "plot(xs, zs)"
   ]
  },
  {
   "cell_type": "code",
   "execution_count": 26,
   "metadata": {},
   "outputs": [
    {
     "data": {
      "image/svg+xml": [
       "<?xml version=\"1.0\" encoding=\"utf-8\"?>\n",
       "<svg xmlns=\"http://www.w3.org/2000/svg\" xmlns:xlink=\"http://www.w3.org/1999/xlink\" width=\"600\" height=\"400\" viewBox=\"0 0 2400 1600\">\n",
       "<defs>\n",
       "  <clipPath id=\"clip240\">\n",
       "    <rect x=\"0\" y=\"0\" width=\"2400\" height=\"1600\"/>\n",
       "  </clipPath>\n",
       "</defs>\n",
       "<path clip-path=\"url(#clip240)\" d=\"\n",
       "M0 1600 L2400 1600 L2400 0 L0 0  Z\n",
       "  \" fill=\"#ffffff\" fill-rule=\"evenodd\" fill-opacity=\"1\"/>\n",
       "<defs>\n",
       "  <clipPath id=\"clip241\">\n",
       "    <rect x=\"480\" y=\"0\" width=\"1681\" height=\"1600\"/>\n",
       "  </clipPath>\n",
       "</defs>\n",
       "<defs>\n",
       "  <clipPath id=\"clip242\">\n",
       "    <rect x=\"135\" y=\"47\" width=\"2218\" height=\"1440\"/>\n",
       "  </clipPath>\n",
       "</defs>\n",
       "<path clip-path=\"url(#clip242)\" d=\"\n",
       "M135.95 1401.43 L135.95 302.298 L947.357 47.2441 L2352.76 132.262 L2352.76 1231.39 L1541.35 1486.45 L135.95 1401.43  Z\n",
       "  \" fill=\"#ffffff\" fill-rule=\"evenodd\" fill-opacity=\"1\"/>\n",
       "<polyline clip-path=\"url(#clip242)\" style=\"stroke:#000000; stroke-width:2; stroke-opacity:0.1; fill:none\" points=\"\n",
       "  338.49,1413.68 1149.9,1158.63 \n",
       "  \"/>\n",
       "<polyline clip-path=\"url(#clip242)\" style=\"stroke:#000000; stroke-width:2; stroke-opacity:0.1; fill:none\" points=\"\n",
       "  1149.9,1158.63 1149.9,59.4965 \n",
       "  \"/>\n",
       "<polyline clip-path=\"url(#clip242)\" style=\"stroke:#000000; stroke-width:2; stroke-opacity:0.1; fill:none\" points=\"\n",
       "  629.261,1431.27 1440.67,1176.22 \n",
       "  \"/>\n",
       "<polyline clip-path=\"url(#clip242)\" style=\"stroke:#000000; stroke-width:2; stroke-opacity:0.1; fill:none\" points=\"\n",
       "  1440.67,1176.22 1440.67,77.0864 \n",
       "  \"/>\n",
       "<polyline clip-path=\"url(#clip242)\" style=\"stroke:#000000; stroke-width:2; stroke-opacity:0.1; fill:none\" points=\"\n",
       "  920.032,1448.86 1731.44,1193.81 \n",
       "  \"/>\n",
       "<polyline clip-path=\"url(#clip242)\" style=\"stroke:#000000; stroke-width:2; stroke-opacity:0.1; fill:none\" points=\"\n",
       "  1731.44,1193.81 1731.44,94.6763 \n",
       "  \"/>\n",
       "<polyline clip-path=\"url(#clip242)\" style=\"stroke:#000000; stroke-width:2; stroke-opacity:0.1; fill:none\" points=\"\n",
       "  1210.8,1466.45 2022.21,1211.4 \n",
       "  \"/>\n",
       "<polyline clip-path=\"url(#clip242)\" style=\"stroke:#000000; stroke-width:2; stroke-opacity:0.1; fill:none\" points=\"\n",
       "  2022.21,1211.4 2022.21,112.266 \n",
       "  \"/>\n",
       "<polyline clip-path=\"url(#clip242)\" style=\"stroke:#000000; stroke-width:2; stroke-opacity:0.1; fill:none\" points=\"\n",
       "  1501.57,1484.04 2312.98,1228.99 \n",
       "  \"/>\n",
       "<polyline clip-path=\"url(#clip242)\" style=\"stroke:#000000; stroke-width:2; stroke-opacity:0.1; fill:none\" points=\"\n",
       "  2312.98,1228.99 2312.98,129.856 \n",
       "  \"/>\n",
       "<polyline clip-path=\"url(#clip240)\" style=\"stroke:#000000; stroke-width:4; stroke-opacity:1; fill:none\" points=\"\n",
       "  135.95,1401.43 1541.35,1486.45 \n",
       "  \"/>\n",
       "<polyline clip-path=\"url(#clip240)\" style=\"stroke:#000000; stroke-width:4; stroke-opacity:1; fill:none\" points=\"\n",
       "  338.49,1413.68 348.227,1410.62 \n",
       "  \"/>\n",
       "<polyline clip-path=\"url(#clip240)\" style=\"stroke:#000000; stroke-width:4; stroke-opacity:1; fill:none\" points=\"\n",
       "  629.261,1431.27 638.998,1428.21 \n",
       "  \"/>\n",
       "<polyline clip-path=\"url(#clip240)\" style=\"stroke:#000000; stroke-width:4; stroke-opacity:1; fill:none\" points=\"\n",
       "  920.032,1448.86 929.769,1445.8 \n",
       "  \"/>\n",
       "<polyline clip-path=\"url(#clip240)\" style=\"stroke:#000000; stroke-width:4; stroke-opacity:1; fill:none\" points=\"\n",
       "  1210.8,1466.45 1220.54,1463.39 \n",
       "  \"/>\n",
       "<polyline clip-path=\"url(#clip240)\" style=\"stroke:#000000; stroke-width:4; stroke-opacity:1; fill:none\" points=\"\n",
       "  1501.57,1484.04 1511.31,1480.98 \n",
       "  \"/>\n",
       "<path clip-path=\"url(#clip240)\" d=\"M 0 0 M314.49 1447.67 Q310.879 1447.67 309.05 1451.24 Q307.245 1454.78 307.245 1461.91 Q307.245 1469.02 309.05 1472.58 Q310.879 1476.12 314.49 1476.12 Q318.124 1476.12 319.93 1472.58 Q321.758 1469.02 321.758 1461.91 Q321.758 1454.78 319.93 1451.24 Q318.124 1447.67 314.49 1447.67 M314.49 1443.97 Q320.3 1443.97 323.356 1448.58 Q326.434 1453.16 326.434 1461.91 Q326.434 1470.64 323.356 1475.24 Q320.3 1479.83 314.49 1479.83 Q308.68 1479.83 305.601 1475.24 Q302.546 1470.64 302.546 1461.91 Q302.546 1453.16 305.601 1448.58 Q308.68 1443.97 314.49 1443.97 Z\" fill=\"#000000\" fill-rule=\"evenodd\" fill-opacity=\"1\" /><path clip-path=\"url(#clip240)\" d=\"M 0 0 M595.643 1492.81 L603.282 1492.81 L603.282 1466.44 L594.971 1468.11 L594.971 1463.85 L603.235 1462.18 L607.911 1462.18 L607.911 1492.81 L615.55 1492.81 L615.55 1496.74 L595.643 1496.74 L595.643 1492.81 Z\" fill=\"#000000\" fill-rule=\"evenodd\" fill-opacity=\"1\" /><path clip-path=\"url(#clip240)\" d=\"M 0 0 M890.684 1510.4 L907.004 1510.4 L907.004 1514.33 L885.059 1514.33 L885.059 1510.4 Q887.721 1507.64 892.305 1503.01 Q896.911 1498.36 898.092 1497.02 Q900.337 1494.5 901.217 1492.76 Q902.12 1491 902.12 1489.31 Q902.12 1486.56 900.175 1484.82 Q898.254 1483.08 895.152 1483.08 Q892.953 1483.08 890.499 1483.85 Q888.069 1484.61 885.291 1486.16 L885.291 1481.44 Q888.115 1480.31 890.569 1479.73 Q893.022 1479.15 895.059 1479.15 Q900.43 1479.15 903.624 1481.83 Q906.819 1484.52 906.819 1489.01 Q906.819 1491.14 906.008 1493.06 Q905.221 1494.96 903.115 1497.55 Q902.536 1498.22 899.434 1501.44 Q896.333 1504.63 890.684 1510.4 Z\" fill=\"#000000\" fill-rule=\"evenodd\" fill-opacity=\"1\" /><path clip-path=\"url(#clip240)\" d=\"M 0 0 M1191.05 1513.29 Q1194.41 1514.01 1196.28 1516.28 Q1198.18 1518.54 1198.18 1521.88 Q1198.18 1526.99 1194.66 1529.79 Q1191.14 1532.6 1184.66 1532.6 Q1182.49 1532.6 1180.17 1532.16 Q1177.88 1531.74 1175.43 1530.88 L1175.43 1526.37 Q1177.37 1527.5 1179.68 1528.08 Q1182 1528.66 1184.52 1528.66 Q1188.92 1528.66 1191.21 1526.92 Q1193.53 1525.19 1193.53 1521.88 Q1193.53 1518.82 1191.37 1517.11 Q1189.24 1515.37 1185.43 1515.37 L1181.4 1515.37 L1181.4 1511.53 L1185.61 1511.53 Q1189.06 1511.53 1190.89 1510.16 Q1192.72 1508.78 1192.72 1506.18 Q1192.72 1503.52 1190.82 1502.11 Q1188.94 1500.67 1185.43 1500.67 Q1183.5 1500.67 1181.3 1501.09 Q1179.11 1501.51 1176.47 1502.39 L1176.47 1498.22 Q1179.13 1497.48 1181.44 1497.11 Q1183.78 1496.74 1185.84 1496.74 Q1191.17 1496.74 1194.27 1499.17 Q1197.37 1501.58 1197.37 1505.7 Q1197.37 1508.57 1195.73 1510.56 Q1194.08 1512.53 1191.05 1513.29 Z\" fill=\"#000000\" fill-rule=\"evenodd\" fill-opacity=\"1\" /><path clip-path=\"url(#clip240)\" d=\"M 0 0 M1480.58 1519.03 L1468.78 1537.48 L1480.58 1537.48 L1480.58 1519.03 M1479.36 1514.95 L1485.24 1514.95 L1485.24 1537.48 L1490.17 1537.48 L1490.17 1541.37 L1485.24 1541.37 L1485.24 1549.51 L1480.58 1549.51 L1480.58 1541.37 L1464.98 1541.37 L1464.98 1536.85 L1479.36 1514.95 Z\" fill=\"#000000\" fill-rule=\"evenodd\" fill-opacity=\"1\" /><polyline clip-path=\"url(#clip242)\" style=\"stroke:#000000; stroke-width:2; stroke-opacity:0.1; fill:none\" points=\"\n",
       "  1583.07,1473.33 177.674,1388.31 \n",
       "  \"/>\n",
       "<polyline clip-path=\"url(#clip242)\" style=\"stroke:#000000; stroke-width:2; stroke-opacity:0.1; fill:none\" points=\"\n",
       "  177.674,1388.31 177.674,289.183 \n",
       "  \"/>\n",
       "<polyline clip-path=\"url(#clip242)\" style=\"stroke:#000000; stroke-width:2; stroke-opacity:0.1; fill:none\" points=\"\n",
       "  1826.26,1396.89 420.858,1311.87 \n",
       "  \"/>\n",
       "<polyline clip-path=\"url(#clip242)\" style=\"stroke:#000000; stroke-width:2; stroke-opacity:0.1; fill:none\" points=\"\n",
       "  420.858,1311.87 420.858,212.742 \n",
       "  \"/>\n",
       "<polyline clip-path=\"url(#clip242)\" style=\"stroke:#000000; stroke-width:2; stroke-opacity:0.1; fill:none\" points=\"\n",
       "  2069.44,1320.45 664.042,1235.43 \n",
       "  \"/>\n",
       "<polyline clip-path=\"url(#clip242)\" style=\"stroke:#000000; stroke-width:2; stroke-opacity:0.1; fill:none\" points=\"\n",
       "  664.042,1235.43 664.042,136.3 \n",
       "  \"/>\n",
       "<polyline clip-path=\"url(#clip242)\" style=\"stroke:#000000; stroke-width:2; stroke-opacity:0.1; fill:none\" points=\"\n",
       "  2312.62,1244.01 907.226,1158.99 \n",
       "  \"/>\n",
       "<polyline clip-path=\"url(#clip242)\" style=\"stroke:#000000; stroke-width:2; stroke-opacity:0.1; fill:none\" points=\"\n",
       "  907.226,1158.99 907.226,59.8588 \n",
       "  \"/>\n",
       "<polyline clip-path=\"url(#clip240)\" style=\"stroke:#000000; stroke-width:4; stroke-opacity:1; fill:none\" points=\"\n",
       "  1541.35,1486.45 2352.76,1231.39 \n",
       "  \"/>\n",
       "<polyline clip-path=\"url(#clip240)\" style=\"stroke:#000000; stroke-width:4; stroke-opacity:1; fill:none\" points=\"\n",
       "  1583.07,1473.33 1566.21,1472.31 \n",
       "  \"/>\n",
       "<polyline clip-path=\"url(#clip240)\" style=\"stroke:#000000; stroke-width:4; stroke-opacity:1; fill:none\" points=\"\n",
       "  1826.26,1396.89 1809.39,1395.87 \n",
       "  \"/>\n",
       "<polyline clip-path=\"url(#clip240)\" style=\"stroke:#000000; stroke-width:4; stroke-opacity:1; fill:none\" points=\"\n",
       "  2069.44,1320.45 2052.58,1319.43 \n",
       "  \"/>\n",
       "<polyline clip-path=\"url(#clip240)\" style=\"stroke:#000000; stroke-width:4; stroke-opacity:1; fill:none\" points=\"\n",
       "  2312.62,1244.01 2295.76,1242.99 \n",
       "  \"/>\n",
       "<path clip-path=\"url(#clip240)\" d=\"M 0 0 M1607.07 1507.32 Q1603.46 1507.32 1601.63 1510.89 Q1599.83 1514.43 1599.83 1521.56 Q1599.83 1528.67 1601.63 1532.23 Q1603.46 1535.77 1607.07 1535.77 Q1610.71 1535.77 1612.51 1532.23 Q1614.34 1528.67 1614.34 1521.56 Q1614.34 1514.43 1612.51 1510.89 Q1610.71 1507.32 1607.07 1507.32 M1607.07 1503.62 Q1612.88 1503.62 1615.94 1508.23 Q1619.02 1512.81 1619.02 1521.56 Q1619.02 1530.29 1615.94 1534.89 Q1612.88 1539.48 1607.07 1539.48 Q1601.26 1539.48 1598.18 1534.89 Q1595.13 1530.29 1595.13 1521.56 Q1595.13 1512.81 1598.18 1508.23 Q1601.26 1503.62 1607.07 1503.62 Z\" fill=\"#000000\" fill-rule=\"evenodd\" fill-opacity=\"1\" /><path clip-path=\"url(#clip240)\" d=\"M 0 0 M1840.64 1458.43 L1848.28 1458.43 L1848.28 1432.06 L1839.97 1433.73 L1839.97 1429.47 L1848.23 1427.8 L1852.91 1427.8 L1852.91 1458.43 L1860.55 1458.43 L1860.55 1462.36 L1840.64 1462.36 L1840.64 1458.43 Z\" fill=\"#000000\" fill-rule=\"evenodd\" fill-opacity=\"1\" /><path clip-path=\"url(#clip240)\" d=\"M 0 0 M2088.09 1381.99 L2104.41 1381.99 L2104.41 1385.92 L2082.47 1385.92 L2082.47 1381.99 Q2085.13 1379.23 2089.71 1374.6 Q2094.32 1369.95 2095.5 1368.61 Q2097.75 1366.08 2098.63 1364.35 Q2099.53 1362.59 2099.53 1360.9 Q2099.53 1358.14 2097.58 1356.41 Q2095.66 1354.67 2092.56 1354.67 Q2090.36 1354.67 2087.91 1355.44 Q2085.48 1356.2 2082.7 1357.75 L2082.7 1353.03 Q2085.52 1351.89 2087.98 1351.32 Q2090.43 1350.74 2092.47 1350.74 Q2097.84 1350.74 2101.03 1353.42 Q2104.23 1356.11 2104.23 1360.6 Q2104.23 1362.73 2103.42 1364.65 Q2102.63 1366.55 2100.52 1369.14 Q2099.95 1369.81 2096.84 1373.03 Q2093.74 1376.22 2088.09 1381.99 Z\" fill=\"#000000\" fill-rule=\"evenodd\" fill-opacity=\"1\" /><path clip-path=\"url(#clip240)\" d=\"M 0 0 M2340.87 1290.85 Q2344.23 1291.56 2346.1 1293.83 Q2348 1296.1 2348 1299.43 Q2348 1304.55 2344.48 1307.35 Q2340.96 1310.15 2334.48 1310.15 Q2332.31 1310.15 2329.99 1309.71 Q2327.7 1309.3 2325.25 1308.44 L2325.25 1303.92 Q2327.19 1305.06 2329.51 1305.64 Q2331.82 1306.22 2334.34 1306.22 Q2338.74 1306.22 2341.03 1304.48 Q2343.35 1302.74 2343.35 1299.43 Q2343.35 1296.38 2341.2 1294.67 Q2339.07 1292.93 2335.25 1292.93 L2331.22 1292.93 L2331.22 1289.09 L2335.43 1289.09 Q2338.88 1289.09 2340.71 1287.72 Q2342.54 1286.33 2342.54 1283.74 Q2342.54 1281.08 2340.64 1279.67 Q2338.77 1278.23 2335.25 1278.23 Q2333.33 1278.23 2331.13 1278.65 Q2328.93 1279.06 2326.29 1279.94 L2326.29 1275.78 Q2328.95 1275.04 2331.27 1274.67 Q2333.6 1274.3 2335.66 1274.3 Q2340.99 1274.3 2344.09 1276.73 Q2347.19 1279.13 2347.19 1283.25 Q2347.19 1286.12 2345.55 1288.11 Q2343.9 1290.08 2340.87 1290.85 Z\" fill=\"#000000\" fill-rule=\"evenodd\" fill-opacity=\"1\" /><polyline clip-path=\"url(#clip242)\" style=\"stroke:#000000; stroke-width:2; stroke-opacity:0.1; fill:none\" points=\"\n",
       "  135.95,1370.32 947.357,1115.27 \n",
       "  \"/>\n",
       "<polyline clip-path=\"url(#clip242)\" style=\"stroke:#000000; stroke-width:2; stroke-opacity:0.1; fill:none\" points=\"\n",
       "  947.357,1115.27 2352.76,1200.29 \n",
       "  \"/>\n",
       "<polyline clip-path=\"url(#clip242)\" style=\"stroke:#000000; stroke-width:2; stroke-opacity:0.1; fill:none\" points=\"\n",
       "  135.95,1111.09 947.357,856.039 \n",
       "  \"/>\n",
       "<polyline clip-path=\"url(#clip242)\" style=\"stroke:#000000; stroke-width:2; stroke-opacity:0.1; fill:none\" points=\"\n",
       "  947.357,856.039 2352.76,941.057 \n",
       "  \"/>\n",
       "<polyline clip-path=\"url(#clip242)\" style=\"stroke:#000000; stroke-width:2; stroke-opacity:0.1; fill:none\" points=\"\n",
       "  135.95,851.864 947.357,596.81 \n",
       "  \"/>\n",
       "<polyline clip-path=\"url(#clip242)\" style=\"stroke:#000000; stroke-width:2; stroke-opacity:0.1; fill:none\" points=\"\n",
       "  947.357,596.81 2352.76,681.828 \n",
       "  \"/>\n",
       "<polyline clip-path=\"url(#clip242)\" style=\"stroke:#000000; stroke-width:2; stroke-opacity:0.1; fill:none\" points=\"\n",
       "  135.95,592.635 947.357,337.581 \n",
       "  \"/>\n",
       "<polyline clip-path=\"url(#clip242)\" style=\"stroke:#000000; stroke-width:2; stroke-opacity:0.1; fill:none\" points=\"\n",
       "  947.357,337.581 2352.76,422.599 \n",
       "  \"/>\n",
       "<polyline clip-path=\"url(#clip242)\" style=\"stroke:#000000; stroke-width:2; stroke-opacity:0.1; fill:none\" points=\"\n",
       "  135.95,333.406 947.357,78.3516 \n",
       "  \"/>\n",
       "<polyline clip-path=\"url(#clip242)\" style=\"stroke:#000000; stroke-width:2; stroke-opacity:0.1; fill:none\" points=\"\n",
       "  947.357,78.3516 2352.76,163.37 \n",
       "  \"/>\n",
       "<polyline clip-path=\"url(#clip240)\" style=\"stroke:#000000; stroke-width:4; stroke-opacity:1; fill:none\" points=\"\n",
       "  135.95,1401.43 135.95,302.298 \n",
       "  \"/>\n",
       "<polyline clip-path=\"url(#clip240)\" style=\"stroke:#000000; stroke-width:4; stroke-opacity:1; fill:none\" points=\"\n",
       "  135.95,1370.32 145.687,1367.26 \n",
       "  \"/>\n",
       "<polyline clip-path=\"url(#clip240)\" style=\"stroke:#000000; stroke-width:4; stroke-opacity:1; fill:none\" points=\"\n",
       "  135.95,1111.09 145.687,1108.03 \n",
       "  \"/>\n",
       "<polyline clip-path=\"url(#clip240)\" style=\"stroke:#000000; stroke-width:4; stroke-opacity:1; fill:none\" points=\"\n",
       "  135.95,851.864 145.687,848.803 \n",
       "  \"/>\n",
       "<polyline clip-path=\"url(#clip240)\" style=\"stroke:#000000; stroke-width:4; stroke-opacity:1; fill:none\" points=\"\n",
       "  135.95,592.635 145.687,589.574 \n",
       "  \"/>\n",
       "<polyline clip-path=\"url(#clip240)\" style=\"stroke:#000000; stroke-width:4; stroke-opacity:1; fill:none\" points=\"\n",
       "  135.95,333.406 145.687,330.345 \n",
       "  \"/>\n",
       "<path clip-path=\"url(#clip240)\" d=\"M 0 0 M100.006 1356.12 Q96.3947 1356.12 94.566 1359.69 Q92.7605 1363.23 92.7605 1370.36 Q92.7605 1377.46 94.566 1381.03 Q96.3947 1384.57 100.006 1384.57 Q103.64 1384.57 105.446 1381.03 Q107.274 1377.46 107.274 1370.36 Q107.274 1363.23 105.446 1359.69 Q103.64 1356.12 100.006 1356.12 M100.006 1352.42 Q105.816 1352.42 108.872 1357.02 Q111.95 1361.61 111.95 1370.36 Q111.95 1379.08 108.872 1383.69 Q105.816 1388.27 100.006 1388.27 Q94.1957 1388.27 91.117 1383.69 Q88.0614 1379.08 88.0614 1370.36 Q88.0614 1361.61 91.117 1357.02 Q94.1957 1352.42 100.006 1352.42 Z\" fill=\"#000000\" fill-rule=\"evenodd\" fill-opacity=\"1\" /><path clip-path=\"url(#clip240)\" d=\"M 0 0 M91.0475 1093.81 L109.404 1093.81 L109.404 1097.75 L95.3299 1097.75 L95.3299 1106.22 Q96.3484 1105.87 97.3669 1105.71 Q98.3855 1105.53 99.404 1105.53 Q105.191 1105.53 108.571 1108.7 Q111.95 1111.87 111.95 1117.29 Q111.95 1122.86 108.478 1125.97 Q105.006 1129.04 98.6864 1129.04 Q96.5105 1129.04 94.242 1128.67 Q91.9966 1128.3 89.5892 1127.56 L89.5892 1122.86 Q91.6725 1124 93.8947 1124.55 Q96.1169 1125.11 98.5938 1125.11 Q102.598 1125.11 104.936 1123 Q107.274 1120.9 107.274 1117.29 Q107.274 1113.67 104.936 1111.57 Q102.598 1109.46 98.5938 1109.46 Q96.7188 1109.46 94.8438 1109.88 Q92.992 1110.29 91.0475 1111.17 L91.0475 1093.81 Z\" fill=\"#000000\" fill-rule=\"evenodd\" fill-opacity=\"1\" /><path clip-path=\"url(#clip240)\" d=\"M 0 0 M65.0292 865.209 L72.668 865.209 L72.668 838.843 L64.3579 840.51 L64.3579 836.251 L72.6217 834.584 L77.2976 834.584 L77.2976 865.209 L84.9365 865.209 L84.9365 869.144 L65.0292 869.144 L65.0292 865.209 Z\" fill=\"#000000\" fill-rule=\"evenodd\" fill-opacity=\"1\" /><path clip-path=\"url(#clip240)\" d=\"M 0 0 M100.006 837.663 Q96.3947 837.663 94.566 841.228 Q92.7605 844.769 92.7605 851.899 Q92.7605 859.005 94.566 862.57 Q96.3947 866.112 100.006 866.112 Q103.64 866.112 105.446 862.57 Q107.274 859.005 107.274 851.899 Q107.274 844.769 105.446 841.228 Q103.64 837.663 100.006 837.663 M100.006 833.959 Q105.816 833.959 108.872 838.566 Q111.95 843.149 111.95 851.899 Q111.95 860.626 108.872 865.232 Q105.816 869.815 100.006 869.815 Q94.1957 869.815 91.117 865.232 Q88.0614 860.626 88.0614 851.899 Q88.0614 843.149 91.117 838.566 Q94.1957 833.959 100.006 833.959 Z\" fill=\"#000000\" fill-rule=\"evenodd\" fill-opacity=\"1\" /><path clip-path=\"url(#clip240)\" d=\"M 0 0 M66.0245 605.98 L73.6634 605.98 L73.6634 579.614 L65.3532 581.281 L65.3532 577.022 L73.6171 575.355 L78.293 575.355 L78.293 605.98 L85.9318 605.98 L85.9318 609.915 L66.0245 609.915 L66.0245 605.98 Z\" fill=\"#000000\" fill-rule=\"evenodd\" fill-opacity=\"1\" /><path clip-path=\"url(#clip240)\" d=\"M 0 0 M91.0475 575.355 L109.404 575.355 L109.404 579.29 L95.3299 579.29 L95.3299 587.762 Q96.3484 587.415 97.3669 587.253 Q98.3855 587.068 99.404 587.068 Q105.191 587.068 108.571 590.239 Q111.95 593.41 111.95 598.827 Q111.95 604.406 108.478 607.508 Q105.006 610.586 98.6864 610.586 Q96.5105 610.586 94.242 610.216 Q91.9966 609.846 89.5892 609.105 L89.5892 604.406 Q91.6725 605.54 93.8947 606.096 Q96.1169 606.651 98.5938 606.651 Q102.598 606.651 104.936 604.545 Q107.274 602.438 107.274 598.827 Q107.274 595.216 104.936 593.11 Q102.598 591.003 98.5938 591.003 Q96.7188 591.003 94.8438 591.42 Q92.992 591.836 91.0475 592.716 L91.0475 575.355 Z\" fill=\"#000000\" fill-rule=\"evenodd\" fill-opacity=\"1\" /><path clip-path=\"url(#clip240)\" d=\"M 0 0 M68.6171 346.751 L84.9365 346.751 L84.9365 350.686 L62.9921 350.686 L62.9921 346.751 Q65.6541 343.996 70.2375 339.367 Q74.8439 334.714 76.0245 333.371 Q78.2698 330.848 79.1494 329.112 Q80.0522 327.353 80.0522 325.663 Q80.0522 322.908 78.1078 321.172 Q76.1865 319.436 73.0847 319.436 Q70.8856 319.436 68.4319 320.2 Q66.0014 320.964 63.2236 322.515 L63.2236 317.793 Q66.0477 316.658 68.5014 316.08 Q70.955 315.501 72.9921 315.501 Q78.3624 315.501 81.5568 318.186 Q84.7513 320.871 84.7513 325.362 Q84.7513 327.492 83.9411 329.413 Q83.1541 331.311 81.0476 333.904 Q80.4689 334.575 77.367 337.792 Q74.2652 340.987 68.6171 346.751 Z\" fill=\"#000000\" fill-rule=\"evenodd\" fill-opacity=\"1\" /><path clip-path=\"url(#clip240)\" d=\"M 0 0 M100.006 319.205 Q96.3947 319.205 94.566 322.769 Q92.7605 326.311 92.7605 333.441 Q92.7605 340.547 94.566 344.112 Q96.3947 347.654 100.006 347.654 Q103.64 347.654 105.446 344.112 Q107.274 340.547 107.274 333.441 Q107.274 326.311 105.446 322.769 Q103.64 319.205 100.006 319.205 M100.006 315.501 Q105.816 315.501 108.872 320.107 Q111.95 324.691 111.95 333.441 Q111.95 342.167 108.872 346.774 Q105.816 351.357 100.006 351.357 Q94.1957 351.357 91.117 346.774 Q88.0614 342.167 88.0614 333.441 Q88.0614 324.691 91.117 320.107 Q94.1957 315.501 100.006 315.501 Z\" fill=\"#000000\" fill-rule=\"evenodd\" fill-opacity=\"1\" /><polyline clip-path=\"url(#clip242)\" style=\"stroke:#009af9; stroke-width:4; stroke-opacity:1; fill:none\" points=\"\n",
       "  2029.67,250.02 1990.18,256.846 1949.06,266.475 1906.56,278.647 1862.92,293.116 1818.37,309.649 1773.11,328.024 1727.35,348.034 1681.25,369.483 1635,392.186 \n",
       "  1588.74,415.971 1542.61,440.675 1496.74,466.147 1451.25,492.244 1406.24,518.835 1361.82,545.796 1318.07,573.015 1275.07,600.384 1232.88,627.808 1191.57,655.196 \n",
       "  1151.18,682.467 1111.78,709.544 1073.39,736.361 1036.04,762.853 999.778,788.966 964.609,814.649 930.554,839.856 897.624,864.549 865.828,888.69 835.168,912.251 \n",
       "  805.644,935.204 777.253,957.526 749.987,979.199 723.837,1000.21 698.791,1020.54 674.834,1040.19 651.949,1059.14 630.118,1077.4 609.32,1094.96 589.534,1111.83 \n",
       "  570.737,1128 552.903,1143.49 536.01,1158.29 520.029,1172.42 504.936,1185.89 490.703,1198.7 477.303,1210.87 464.707,1222.42 452.888,1233.35 441.819,1243.68 \n",
       "  431.471,1253.44 421.816,1262.62 412.827,1271.26 404.477,1279.36 396.737,1286.96 389.583,1294.05 382.987,1300.67 376.923,1306.84 371.367,1312.56 366.294,1317.87 \n",
       "  361.678,1322.77 357.497,1327.3 353.728,1331.47 350.349,1335.3 347.337,1338.81 344.672,1342.02 342.333,1344.95 340.3,1347.62 338.555,1350.05 337.08,1352.26 \n",
       "  335.856,1354.27 334.867,1356.1 334.097,1357.77 333.529,1359.3 333.15,1360.7 332.944,1362.01 332.898,1363.22 332.999,1364.36 333.236,1365.41 333.595,1366.39 \n",
       "  334.065,1367.3 334.638,1368.14 335.301,1368.92 336.046,1369.63 336.863,1370.28 337.745,1370.88 338.684,1371.42 339.671,1371.91 340.7,1372.35 341.764,1372.75 \n",
       "  342.858,1373.1 343.975,1373.41 345.11,1373.69 346.258,1373.93 347.415,1374.13 348.577,1374.31 349.739,1374.45 350.898,1374.57 352.051,1374.66 353.195,1374.72 \n",
       "  354.327,1374.77 355.444,1374.79 356.545,1374.8 357.627,1374.79 358.689,1374.76 359.729,1374.72 360.746,1374.66 361.738,1374.6 362.705,1374.52 363.646,1374.43 \n",
       "  364.56,1374.34 365.446,1374.24 366.304,1374.13 367.134,1374.01 367.936,1373.89 368.709,1373.77 369.453,1373.64 370.169,1373.51 370.857,1373.38 371.517,1373.24 \n",
       "  372.149,1373.11 372.753,1372.97 373.331,1372.84 373.882,1372.7 374.407,1372.57 374.906,1372.43 375.381,1372.3 375.831,1372.17 376.258,1372.04 376.662,1371.92 \n",
       "  377.043,1371.79 377.403,1371.67 377.741,1371.55 378.06,1371.43 378.358,1371.32 378.638,1371.21 378.9,1371.11 379.144,1371 379.372,1370.9 379.583,1370.8 \n",
       "  379.779,1370.71 379.96,1370.62 380.127,1370.53 380.281,1370.45 380.422,1370.37 380.55,1370.29 380.667,1370.22 380.773,1370.15 380.869,1370.08 380.955,1370.01 \n",
       "  381.031,1369.95 381.099,1369.89 381.159,1369.84 381.211,1369.79 381.255,1369.74 381.293,1369.69 381.324,1369.64 381.35,1369.6 381.37,1369.56 381.384,1369.52 \n",
       "  381.394,1369.49 381.4,1369.46 381.401,1369.43 381.399,1369.4 381.394,1369.37 381.385,1369.35 381.373,1369.32 381.359,1369.3 381.343,1369.28 381.324,1369.26 \n",
       "  381.304,1369.25 381.282,1369.23 381.259,1369.22 381.234,1369.2 381.208,1369.19 381.182,1369.18 381.154,1369.17 381.126,1369.16 381.098,1369.16 381.069,1369.15 \n",
       "  381.04,1369.15 381.011,1369.14 380.982,1369.14 380.953,1369.13 380.924,1369.13 380.896,1369.13 380.867,1369.13 380.839,1369.13 380.812,1369.13 380.785,1369.13 \n",
       "  380.758,1369.13 380.732,1369.13 380.707,1369.13 380.682,1369.13 380.658,1369.14 380.634,1369.14 380.612,1369.14 380.59,1369.14 380.568,1369.15 380.548,1369.15 \n",
       "  380.528,1369.16 380.508,1369.16 380.49,1369.16 380.472,1369.17 380.455,1369.17 380.439,1369.18 380.424,1369.18 380.409,1369.19 380.395,1369.19 380.381,1369.2 \n",
       "  380.368,1369.2 380.356,1369.21 380.345,1369.21 380.334,1369.22 380.324,1369.23 380.314,1369.23 380.305,1369.24 380.297,1369.24 380.289,1369.25 380.281,1369.26 \n",
       "  380.274,1369.26 380.268,1369.27 380.262,1369.28 380.256,1369.28 380.251,1369.29 380.247,1369.3 380.243,1369.3 380.239,1369.31 380.235,1369.32 380.232,1369.33 \n",
       "  380.229,1369.33 380.227,1369.34 380.224,1369.35 380.222,1369.36 380.221,1369.36 380.219,1369.37 380.218,1369.38 380.217,1369.39 380.216,1369.4 380.215,1369.4 \n",
       "  380.215,1369.41 380.214,1369.42 380.214,1369.42 380.214,1369.43 380.213,1369.44 380.213,1369.44 380.213,1369.45 380.213,1369.45 380.213,1369.46 380.213,1369.46 \n",
       "  \n",
       "  \"/>\n",
       "<path clip-path=\"url(#clip240)\" d=\"\n",
       "M1981.53 216.178 L2278.86 216.178 L2278.86 95.2176 L1981.53 95.2176  Z\n",
       "  \" fill=\"#ffffff\" fill-rule=\"evenodd\" fill-opacity=\"1\"/>\n",
       "<polyline clip-path=\"url(#clip240)\" style=\"stroke:#000000; stroke-width:4; stroke-opacity:1; fill:none\" points=\"\n",
       "  1981.53,216.178 2278.86,216.178 2278.86,95.2176 1981.53,95.2176 1981.53,216.178 \n",
       "  \"/>\n",
       "<polyline clip-path=\"url(#clip240)\" style=\"stroke:#009af9; stroke-width:4; stroke-opacity:1; fill:none\" points=\"\n",
       "  2006.16,155.698 2153.95,155.698 \n",
       "  \"/>\n",
       "<path clip-path=\"url(#clip240)\" d=\"M 0 0 M2192.42 175.385 Q2190.62 180.015 2188.91 181.427 Q2187.19 182.839 2184.32 182.839 L2180.92 182.839 L2180.92 179.274 L2183.42 179.274 Q2185.18 179.274 2186.15 178.44 Q2187.12 177.607 2188.3 174.505 L2189.07 172.561 L2178.58 147.052 L2183.1 147.052 L2191.2 167.329 L2199.3 147.052 L2203.81 147.052 L2192.42 175.385 Z\" fill=\"#000000\" fill-rule=\"evenodd\" fill-opacity=\"1\" /><path clip-path=\"url(#clip240)\" d=\"M 0 0 M2209.69 169.042 L2217.33 169.042 L2217.33 142.677 L2209.02 144.343 L2209.02 140.084 L2217.29 138.418 L2221.96 138.418 L2221.96 169.042 L2229.6 169.042 L2229.6 172.978 L2209.69 172.978 L2209.69 169.042 Z\" fill=\"#000000\" fill-rule=\"evenodd\" fill-opacity=\"1\" /></svg>\n"
      ]
     },
     "execution_count": 26,
     "metadata": {},
     "output_type": "execute_result"
    }
   ],
   "source": [
    "gr()\n",
    "plot3d(xs, ys, zs)"
   ]
  },
  {
   "cell_type": "code",
   "execution_count": 27,
   "metadata": {},
   "outputs": [],
   "source": [
    "uxs = [u[1] for u in uList]\n",
    "uys = [u[2] for u in uList]\n",
    "uzs = [u[3] for u in uList];"
   ]
  },
  {
   "cell_type": "code",
   "execution_count": 28,
   "metadata": {},
   "outputs": [
    {
     "data": {
      "image/png": "[encoded data removed]"
     },
     "execution_count": 28,
     "metadata": {},
     "output_type": "execute_result"
    }
   ],
   "source": [
    "pyplot()\n",
    "plot(uxs)\n",
    "plot!(uys)"
   ]
  },
  {
   "cell_type": "code",
   "execution_count": 29,
   "metadata": {},
   "outputs": [
    {
     "data": {
      "image/png": "[encoded data removed]"
     },
     "execution_count": 29,
     "metadata": {},
     "output_type": "execute_result"
    }
   ],
   "source": [
    "plot(-uzs)"
   ]
  },
  {
   "cell_type": "markdown",
   "metadata": {},
   "source": [
    "## Step 3: Integrate the Dynamics to Verify the Dynamics Constraint\n",
    "\n",
    "In Matlab, we would use ODE 45, but in the <code>DifferentialEquations.jl</code> package we can either (1) just let the <code>solve</code> method figure it out or (2) specify a solver such as <code>Tsit5</code>."
   ]
  },
  {
   "cell_type": "code",
   "execution_count": 30,
   "metadata": {},
   "outputs": [],
   "source": [
    "num_timesteps = N - 5\n",
    "\n",
    "get_controls(t) = uList[min(Int(floor(t/deltaTime)) + 1, size(uList,1))]\n",
    "\n",
    "A, B, g = rocketDynamicsContinuousMat(rocket, num_controls)\n",
    "\n",
    "f(y,p,t) = A * y + B * get_controls(t) + g * grav\n",
    "\n",
    "states_y0 = rocketStart\n",
    "tspan = (0.0, deltaTime * num_timesteps)\n",
    "controls_p0 = get_controls(tspan[1])\n",
    "\n",
    "# Use the DifferentialEquations.jl Package\n",
    "ode_prob = ODEProblem(f, states_y0, tspan, controls_p0,saveat=deltaTime)\n",
    "ode_sol = solve(ode_prob, Tsit5(), reltol=1e-10, abstol=1e-10);"
   ]
  },
  {
   "cell_type": "code",
   "execution_count": 31,
   "metadata": {},
   "outputs": [],
   "source": [
    "xvList = [[xList[i]; vList[i]] for i = 1:size(xList, 1)]\n",
    "\n",
    "err = norm.(ode_sol.u - xvList[1:(Int(round(tspan[2]/deltaTime))+1)]);"
   ]
  },
  {
   "cell_type": "code",
   "execution_count": 32,
   "metadata": {},
   "outputs": [
    {
     "data": {
      "image/png": "[encoded data removed]"
     },
     "execution_count": 32,
     "metadata": {},
     "output_type": "execute_result"
    }
   ],
   "source": [
    "plot(ode_sol.t, err, yaxis = :log)"
   ]
  },
  {
   "cell_type": "code",
   "execution_count": null,
   "metadata": {},
   "outputs": [],
   "source": []
  }
 ],
 "metadata": {
  "kernelspec": {
   "display_name": "Julia 1.4.2",
   "language": "julia",
   "name": "julia-1.4"
  },
  "language_info": {
   "file_extension": ".jl",
   "mimetype": "application/julia",
   "name": "julia",
   "version": "1.4.2"
  }
 },
 "nbformat": 4,
 "nbformat_minor": 4
}
