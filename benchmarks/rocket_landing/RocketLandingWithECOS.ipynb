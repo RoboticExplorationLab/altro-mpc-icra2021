{
 "cells": [
  {
   "cell_type": "markdown",
   "metadata": {},
   "source": [
    "# Rocket Soft-Landing Problem\n",
    "\n",
    "This notebook is a walkthough of the ECOS solver for the Rocket Soft-Landing Problem (i.e. the general control challenge of landing a rocket at rest at a designated landing site). In the simplest case, we treat the rocket as a sphere landing on a flat surface with no atmosphere. This approximation is reasonable when the rocket is near the ground and entering the final part of the descent.\n",
    "\n",
    "**This files focuses on the simple (non-MPC) application. Thanks!**"
   ]
  },
  {
   "cell_type": "code",
   "execution_count": 1,
   "metadata": {},
   "outputs": [
    {
     "name": "stderr",
     "output_type": "stream",
     "text": [
      "\u001b[32m\u001b[1m Activating\u001b[22m\u001b[39m environment at `C:\\Users\\Daniel N\\.julia\\dev\\altro-mpc-icra2021\\benchmarks\\rocket_landing\\Project.toml`\n"
     ]
    }
   ],
   "source": [
    "using Pkg\n",
    "Pkg.activate(\".\")\n",
    "Pkg.instantiate()"
   ]
  },
  {
   "cell_type": "markdown",
   "metadata": {},
   "source": [
    "# Step 1: Set-Up the Rocket Soft-Landing Problem"
   ]
  },
  {
   "cell_type": "markdown",
   "metadata": {},
   "source": [
    "## Load Required Packages\n",
    "\n",
    "The <code>Convex</code> package enables us to write the optimization problem. The <code>ECOS</code> package will solve the trajectory optimization problem. <code>StaticArrays</code>, <code>SparseArrays</code>, and <code>LinearAlgebra</code> are required to set-up the appropriate data types.\n",
    "\n",
    "Next, <code>Plots, MeshCat, TrajOptPlots, FileIO,</code> and <code>MeshIO</code> packages are used to visualize the results. Note that the plotting sections will take significantly longer to run than the optimization. \n",
    "\n",
    "Lastly, <code>DifferentialEquations</code> integrates the dynamics forward as a way to show that the dynamics constraints are satisfied.\n",
    "\n",
    "Loading all the packages, especially for plotting and the differential equations integrator can be the longest part of the whole notebook."
   ]
  },
  {
   "cell_type": "code",
   "execution_count": 2,
   "metadata": {},
   "outputs": [
    {
     "name": "stderr",
     "output_type": "stream",
     "text": [
      "┌ Info: Precompiling Convex [f65535da-76fb-5f13-bab9-19810c17039a]\n",
      "└ @ Base loading.jl:1260\n",
      "┌ Info: Precompiling ECOS [e2685f51-7e38-5353-a97d-a921fd2c8199]\n",
      "└ @ Base loading.jl:1260\n"
     ]
    },
    {
     "name": "stdout",
     "output_type": "stream",
     "text": [
      "Optimization Packages Ready\n",
      "Base Plotting Packages Ready\n",
      "3D Plotting Packages Ready\n",
      "Differential Equations Ready\n"
     ]
    }
   ],
   "source": [
    "using Convex\n",
    "using ECOS\n",
    "using StaticArrays, SparseArrays, LinearAlgebra\n",
    "println(\"Optimization Packages Ready\")\n",
    "\n",
    "using Plots\n",
    "pyplot()\n",
    "println(\"Base Plotting Packages Ready\")\n",
    "\n",
    "using MeshCat, TrajOptPlots\n",
    "using FileIO, MeshIO\n",
    "println(\"3D Plotting Packages Ready\")\n",
    "\n",
    "import DifferentialEquations.solve, DifferentialEquations.ODEProblem, DifferentialEquations.Tsit5\n",
    "using BenchmarkTools\n",
    "println(\"Differential Equations Ready\")"
   ]
  },
  {
   "cell_type": "markdown",
   "metadata": {},
   "source": [
    "## Define and Create the Rocket Model\n",
    "\n",
    "Unlike the Cartpole and Quadrotor models, the Rocket Model is not in the <code>RobotZoo.jl</code> package. Instead, here we build off of work found in the repository below to develop a simplified rocket soft-landing scenario (i.e. no second-order cone constraints and no attitude dynamics). https://github.com/danineamati/TrajOptSOCPs.jl\n",
    "\n",
    "In the simplified case, <code>Rocket</code> only holds the mass and the gravity vector. In the full rocket landing problem, the inertia matrix must also be provided. Separately, the thurster's specific impulse can be used to scale the optimal controls."
   ]
  },
  {
   "cell_type": "code",
   "execution_count": 3,
   "metadata": {},
   "outputs": [],
   "source": [
    "struct rocket_simple\n",
    "    mass\n",
    "    isp\n",
    "    grav\n",
    "    deltaTime\n",
    "end"
   ]
  },
  {
   "cell_type": "markdown",
   "metadata": {},
   "source": [
    "## Detail the Rocket Dynamics\n",
    "\n",
    "For the simplified rocket problem, we choose to ignore the attitude dynamics. Applying newton's second law or by forming a Lagrangian, we arrive at the following sparse system\n",
    "\n",
    "$$\\frac{dx}{dt} = Ax + Bu + g$$\n",
    "\n",
    "Where $A = \\begin{bmatrix}0 & I\\\\ 0 & 0 \\end{bmatrix}$, $B = \\begin{bmatrix}0 \\\\ \\frac{1}{m} I\\end{bmatrix}$, and $G = \\begin{bmatrix} 0 \\\\ -g \\end{bmatrix}$. For the 3D case, these are $(6 \\times 6)$, $(6 \\times 3)$, and $(6 \\times 1)$ matricies, respectively.\n",
    "\n",
    "Since the system is so sparse, we can reduce unnecessary computations by writing the equations for the first and second derivatives. We use the notation of $s = [x; y; z]$ (the positions) and $\\frac{ds}{dt} = [v_x; v_y; v_z]$ (the velocities). Call $y = [x; u; g]$, then,\n",
    "$$\n",
    "\\frac{dy}{dt} = \\begin{bmatrix}A & B & I\\\\ 0 & 0 & 0\\\\ 0 & 0 & 0\\end{bmatrix} y = W y\n",
    "$$\n",
    "which has solution\n",
    "$$\n",
    "y(t) = e^{W t} y0\n",
    "$$\n",
    "where W is square. In a discrete system,\n",
    "$$\n",
    "y_{k+1} = e^{W Δt} y_k = E y_k\n",
    "$$\n",
    "Note that due to all the zeros in W, we get:\n",
    "$$\n",
    "x_{k+1} = E_{11} x_k + E_{12} u_k + E_{13} g\n",
    "$$\n",
    "$$\n",
    "u_{k+1} = E_{21} x_k + E_{22} u_k + E_{23} g = u_k\n",
    "$$\n",
    "$$\n",
    "g = E_{31} x_k + E_{32} u_k + E_{33} g = g\n",
    "$$\n",
    "\n",
    "Thus, once we calculate the matrix $E$, we extract $E_{11}$, $E_{12}$, and $E_{13}$ to a system of the\n",
    "form:\n",
    "\n",
    "$$\n",
    "x_{k+1} = A_{\\text{eff}} \\ x_k + B_{\\text{eff}} \\ u_k + G_{\\text{eff}}\n",
    "$$"
   ]
  },
  {
   "cell_type": "code",
   "execution_count": 4,
   "metadata": {},
   "outputs": [
    {
     "data": {
      "text/plain": [
       "rocketDynamics (generic function with 1 method)"
      ]
     },
     "execution_count": 4,
     "metadata": {},
     "output_type": "execute_result"
    }
   ],
   "source": [
    "function rocketDynamicsContinuousMat(r::rocket_simple, nDim::Int64)\n",
    "    # Start off with a dense representation because it is needed for the\n",
    "    # exponentiation.\n",
    "    z0 = zeros(nDim, nDim)\n",
    "    aMat = [z0 I; z0 z0]\n",
    "    bMat = [z0; -(1/r.mass) * I]\n",
    "    gMat = [z0; I]\n",
    "    \n",
    "    return aMat, bMat, gMat\n",
    "end\n",
    "\n",
    "function rocketDynamics(r::rocket_simple, nDim::Int64)\n",
    "\n",
    "    aMat, bMat, gMat = rocketDynamicsContinuousMat(r, nDim)\n",
    "\n",
    "    # Top Row\n",
    "    abg = [aMat bMat gMat]\n",
    "    abg_size = size(abg)\n",
    "\n",
    "    # We need to pad the remaining rows to make a square matrix\n",
    "    remainingRows = abg_size[2] - abg_size[1]\n",
    "    abgTot = [abg; zeros(remainingRows, abg_size[2])]\n",
    "\n",
    "    # Take the exponent e^(W Δt)\n",
    "    eMat = exp(abgTot * r.deltaTime)\n",
    "\n",
    "    # Extract the effective matrices\n",
    "    rowsA = size(aMat, 1)\n",
    "    colsA = size(aMat, 2)\n",
    "    colsB = size(bMat, 2)\n",
    "\n",
    "    aEffMat = sparse(eMat[1:rowsA, 1:colsA])\n",
    "    bEffMat = sparse(eMat[1:rowsA, colsA + 1:colsA + colsB])\n",
    "    gEffMat = sparse(eMat[1:rowsA, colsA + colsB + 1:end])\n",
    "\n",
    "    # Return the three effective matrices\n",
    "    return aEffMat, bEffMat, gEffMat\n",
    "end"
   ]
  },
  {
   "cell_type": "markdown",
   "metadata": {},
   "source": [
    "Now we want to stack these per iteration dynamics into a single matrix from which we will build an affine equality constraint. To do this, we create the helper function below.\n",
    "\n",
    "Specifically, we get the system:\n",
    "$$\\begin{bmatrix}A & B & -I\\end{bmatrix} \\begin{bmatrix}x_k \\\\ u_k \\\\ x_{k+1}\\end{bmatrix} = G$$\n",
    "which we can stack as\n",
    "$$\\begin{bmatrix}\n",
    "A & B & -I & 0 & 0 & 0 & 0 & 0 & 0 \\\\\n",
    "0 & 0 & A & B & -I & 0 & 0 & 0 & 0 \\\\\n",
    "0 & 0 & 0 & 0 & A & B & -I & 0 & 0 \\\\\n",
    "0 & 0 & 0 & 0 & 0 & 0 & A & B & -I\n",
    "\\end{bmatrix}\n",
    "$$\n",
    "We return the above matrix and the stacked `G` matrix."
   ]
  },
  {
   "cell_type": "code",
   "execution_count": 5,
   "metadata": {},
   "outputs": [
    {
     "data": {
      "text/plain": [
       "rocketDynamicsStack (generic function with 1 method)"
      ]
     },
     "execution_count": 5,
     "metadata": {},
     "output_type": "execute_result"
    }
   ],
   "source": [
    "function rocketDynamicsStack(r::rocket_simple, nDim::Int64, NSteps::Int64)\n",
    "    # First calculate the A and B matrices.\n",
    "    Ak, Bk, Gk = rocketDynamics(r::rocket_simple, nDim::Int64)\n",
    "    ABI_unit = [Ak Bk -I]\n",
    "    colLen = size(ABI_unit, 2)\n",
    "\n",
    "    # At each step we go down 2 * n rows and move right 3 * n columns.\n",
    "    sizeCols = 3 * NSteps * nDim + 2 * nDim\n",
    "    sizeRows = 2 * nDim * NSteps\n",
    "\n",
    "    # Initialize and empty sparse A matrix and G vector\n",
    "    AStacked = spzeros(sizeRows, sizeCols)\n",
    "    GStacked = spzeros(sizeRows, 1)\n",
    "\n",
    "    # Build up the matrix\n",
    "    rStart = 1\n",
    "    cStart = 1\n",
    "    for k in 1:NSteps\n",
    "        rEnd = rStart + (2 * nDim - 1)\n",
    "        cEnd = cStart + colLen - 1\n",
    "\n",
    "        # First, we calculate that stacked A Matrix\n",
    "        # println(\"Accessing $rStart:$rEnd and $cStart:$cEnd\")\n",
    "        AStacked[rStart:rEnd, cStart:cEnd] = ABI_unit\n",
    "\n",
    "        # Second, we calculate the stacked G vector\n",
    "        GStacked[rStart:rEnd] = -Gk * r.grav\n",
    "\n",
    "        # Prepare for next iteration.\n",
    "        rStart += 2 * nDim\n",
    "        cStart += 3 * nDim\n",
    "    end\n",
    "\n",
    "    # Returned the stacked matrix (A) and vector (G)\n",
    "    return AStacked, GStacked\n",
    "end"
   ]
  },
  {
   "cell_type": "markdown",
   "metadata": {},
   "source": [
    "## Instantiate the Model and Define the Discretization\n",
    "\n",
    "Feel free to choose <code>N</code> and <code>tf</code> based on your needs."
   ]
  },
  {
   "cell_type": "code",
   "execution_count": 6,
   "metadata": {},
   "outputs": [
    {
     "data": {
      "text/latex": [
       "2 5 . 0"
      ],
      "text/plain": [
       "25.0"
      ]
     },
     "metadata": {},
     "output_type": "display_data"
    },
    {
     "data": {
      "text/plain": [
       "rocket_simple(1, 1, [0.0, 0.0, -9.81], 0.1)"
      ]
     },
     "execution_count": 6,
     "metadata": {},
     "output_type": "execute_result"
    }
   ],
   "source": [
    "mass = 1\n",
    "isp = 1\n",
    "grav = [0; 0; -9.81]\n",
    "deltaTime = 0.1\n",
    "rocket = rocket_simple(mass, isp, grav, deltaTime)\n",
    "\n",
    "# Trajectory Discretization\n",
    "N = 250\n",
    "tf = N * deltaTime\n",
    "display(tf)\n",
    "\n",
    "# Dimensionality\n",
    "num_controls = 3 # ux, uy, uz\n",
    "num_states = 6 # x, y, z, vx, vy, vz\n",
    "var_size = N * (num_controls + num_states) + num_states # Last step does not have a control\n",
    "\n",
    "# Set Up the Trajectory Variable with Convex.jl\n",
    "tau = Variable(var_size) # Trajectory\n",
    "\n",
    "rocket # (Simply for information) Display the struct as the cell output "
   ]
  },
  {
   "cell_type": "markdown",
   "metadata": {},
   "source": [
    "## Specify the Initial and Final Conditions\n",
    "\n",
    "Choose the initial and final points. Note that these must be full state vectors ($[x; y; z; v_x; v_y; v_z]$). The initial point is generally the rocket's current state. The final point is generally the rocket's landing stop. Note that the final velocity of the rocket should **always** be $[0.0; 0.0; 0.0]$ to have a **soft** landing."
   ]
  },
  {
   "cell_type": "code",
   "execution_count": 7,
   "metadata": {},
   "outputs": [],
   "source": [
    "# Initial and Final Conditions\n",
    "# in m\n",
    "# The Karman Line (100 km)\n",
    "const rocketStart = [5.0, 5.0, 20.0, 0.0, 0.0, -15.0]\n",
    "const rocketEnd = [0.0, 0.0, 0.0, 0.0, 0.0, 0.0];"
   ]
  },
  {
   "cell_type": "markdown",
   "metadata": {},
   "source": [
    "## Initialize the Trajectory\n",
    "\n",
    "We choose to initialize the trajectory at a hover (i.e. the rocket trajectory will initially only counter gravity). Note that this is **not** a warm start."
   ]
  },
  {
   "cell_type": "code",
   "execution_count": 8,
   "metadata": {},
   "outputs": [
    {
     "data": {
      "text/plain": [
       "initializeTraj (generic function with 1 method)"
      ]
     },
     "execution_count": 8,
     "metadata": {},
     "output_type": "execute_result"
    }
   ],
   "source": [
    "function initializeTraj(x0::Array{Float64, 1}, xN::Array{Float64, 1},\n",
    "                        NSteps::Int64)\n",
    "    if size(x0) != size(xN)\n",
    "        error(\"x0 and xN must have the same size. \" *\n",
    "                \"Currently: x0 = $x0 and xN = $xN\")\n",
    "    end\n",
    "    if mod(size(x0, 1), 2) != 0\n",
    "        error(\"x0 and xN must have an even number of variables. \" *\n",
    "              \"Example, x0 = [sx0; sy0; vx0; vy0]. Currently x0 = $x0.\")\n",
    "    end\n",
    "\n",
    "    # Calculate the linearly interpolated x values\n",
    "    xSteps = LinRange(x0, xN, NSteps + 1)\n",
    "    # Now we want to stack this as a vector in the form\n",
    "    # [x0; u0; x1; ...; uN-1, xN]\n",
    "    nDim = Int64(size(x0, 1) / 2)\n",
    "    sizeXU = 3 * NSteps * nDim + 2 * nDim\n",
    "    XUfull = zeros(sizeXU, 1)\n",
    "\n",
    "    # println(\"Dimensions = $nDim\")\n",
    "\n",
    "    for k in 1:(NSteps + 1)\n",
    "        iStart = 1 + (k - 1) * (3 * nDim)\n",
    "        iEnd = iStart + (2 * nDim - 1)\n",
    "        # println(\"Accessing ($iStart, $iEnd)\")\n",
    "        XUfull[iStart:iEnd] = xSteps[k]\n",
    "    end\n",
    "\n",
    "    return XUfull\n",
    "end"
   ]
  },
  {
   "cell_type": "code",
   "execution_count": 9,
   "metadata": {},
   "outputs": [],
   "source": [
    "initTraj = initializeTraj(rocketStart, rocketStart, N)\n",
    "\n",
    "set_value!(tau, initTraj);"
   ]
  },
  {
   "cell_type": "markdown",
   "metadata": {},
   "source": [
    "## Set-Up the LQR Objective Function\n",
    "\n",
    "For this problem, we choose an LQR Objective Function. One can add waypoints or change the weights to craft different optimal trajectories. See http://roboticexplorationlab.org/TrajectoryOptimization.jl/stable/costfunctions.html for more information."
   ]
  },
  {
   "cell_type": "code",
   "execution_count": 10,
   "metadata": {},
   "outputs": [],
   "source": [
    "Q = 0.025 * Diagonal(I, num_states)\n",
    "Qf = 1 * Diagonal(I, num_states)\n",
    "R = 0.25 * Diagonal(I, num_controls);\n",
    "\n",
    "\n",
    "function getQRFull(Q, Qf, R, N, v)\n",
    "    # Initialize and empty sparse array\n",
    "    QRFull = spzeros(v, v)\n",
    "\n",
    "    rStart = 1\n",
    "\n",
    "    # Put Q and R along the diagonal\n",
    "    for k in 1:N\n",
    "        rEnd = rStart + num_states - 1\n",
    "        QRFull[rStart:rEnd, rStart:rEnd] = Q\n",
    "\n",
    "        rStart += num_states\n",
    "        rEnd = rStart + num_controls - 1\n",
    "\n",
    "        QRFull[rStart:rEnd, rStart:rEnd] = R\n",
    "\n",
    "        rStart += num_controls\n",
    "    end\n",
    "    rEnd = rStart + num_states - 1\n",
    "    QRFull[rStart:rEnd, rStart:rEnd] = Qf\n",
    "\n",
    "    return Symmetric(QRFull);\n",
    "    \n",
    "end\n",
    "\n",
    "\n",
    "QRFull = getQRFull(Q, Qf, R, N, var_size);"
   ]
  },
  {
   "cell_type": "code",
   "execution_count": 11,
   "metadata": {},
   "outputs": [
    {
     "data": {
      "text/plain": [
       "minimize\n",
       "└─ * (convex; positive)\n",
       "   ├─ 1\n",
       "   └─ qol_elem (convex; positive)\n",
       "      ├─ norm2 (convex; positive)\n",
       "      │  └─ …\n",
       "      └─ [1.0]\n",
       "\n",
       "status: `solve!` not called yet"
      ]
     },
     "execution_count": 11,
     "metadata": {},
     "output_type": "execute_result"
    }
   ],
   "source": [
    "# Set the Objective Function to the problem\n",
    "\n",
    "try \n",
    "    problem = minimize(quadform(tau, QRFull / 2))\n",
    "catch LAPACKException\n",
    "    problem = minimize(quadform(tau, QRFull / 2))\n",
    "end\n",
    "\n",
    "problem = minimize(quadform(tau, QRFull / 2))"
   ]
  },
  {
   "cell_type": "code",
   "execution_count": 12,
   "metadata": {},
   "outputs": [
    {
     "data": {
      "image/png": "[encoded data removed]"
     },
     "execution_count": 12,
     "metadata": {},
     "output_type": "execute_result"
    }
   ],
   "source": [
    "spy(QRFull)"
   ]
  },
  {
   "cell_type": "markdown",
   "metadata": {},
   "source": [
    "## Define the Constraints\n",
    "\n",
    "For the simple rocket soft-landing problem, we will include 5 constraints:\n",
    "1. Dynamics Constraints ($A \\tau = B$)\n",
    "2. Initial and Terminal Constraints ($x[0] = x_0$ and $x[N] = x_N$)\n",
    "2. Crash Prevention Constraint ($z > 0$)\n",
    "3. Thrust Magnitude Bounds ($||u||_2 < u_{max}$)\n",
    "4. Thurst Angle Bounds ($||[u_x; u_y]|| ≤ \\alpha \\ u_z$)"
   ]
  },
  {
   "cell_type": "code",
   "execution_count": 13,
   "metadata": {},
   "outputs": [
    {
     "data": {
      "text/plain": [
       "1-element Array{Constraint,1}:\n",
       " == constraint (affine)\n",
       "├─ * (affine; real)\n",
       "│  ├─ 1500×2256 SparseMatrixCSC{Float64,Int64}\n",
       "│  └─ 2256-element real variable (id: 123…146)\n",
       "└─ 1500×1 SparseMatrixCSC{Float64,Int64}"
      ]
     },
     "execution_count": 13,
     "metadata": {},
     "output_type": "execute_result"
    }
   ],
   "source": [
    "# Add the Dynamics Constraints\n",
    "const AStack, BStack = rocketDynamicsStack(rocket, num_controls, N)\n",
    "\n",
    "problem.constraints += AStack * tau == BStack"
   ]
  },
  {
   "cell_type": "code",
   "execution_count": 14,
   "metadata": {},
   "outputs": [
    {
     "data": {
      "text/plain": [
       "4-element Array{Constraint,1}:\n",
       " == constraint (affine)\n",
       "├─ * (affine; real)\n",
       "│  ├─ 1500×2256 SparseMatrixCSC{Float64,Int64}\n",
       "│  └─ 2256-element real variable (id: 123…146)\n",
       "└─ 1500×1 SparseMatrixCSC{Float64,Int64}\n",
       " == constraint (affine)\n",
       "├─ index (affine; real)\n",
       "│  └─ 2256-element real variable (id: 123…146)\n",
       "└─ 6-element Array{Float64,1}\n",
       " >= constraint (affine)\n",
       "├─ index (affine; real)\n",
       "│  └─ 2256-element real variable (id: 123…146)\n",
       "└─ -10000\n",
       " == constraint (affine)\n",
       "├─ index (affine; real)\n",
       "│  └─ 2256-element real variable (id: 123…146)\n",
       "└─ 6-element Array{Float64,1}"
      ]
     },
     "execution_count": 14,
     "metadata": {},
     "output_type": "execute_result"
    }
   ],
   "source": [
    "# Add Initial and Terminal Constraints\n",
    "large_num = 10000\n",
    "\n",
    "problem.constraints += tau[1:6] == rocketStart\n",
    "problem.constraints += tau[7:(end - 6)] > -large_num\n",
    "problem.constraints += tau[(end - 5):end] == rocketEnd"
   ]
  },
  {
   "cell_type": "code",
   "execution_count": 15,
   "metadata": {},
   "outputs": [
    {
     "data": {
      "text/plain": [
       "5-element Array{Constraint,1}:\n",
       " == constraint (affine)\n",
       "├─ * (affine; real)\n",
       "│  ├─ 1500×2256 SparseMatrixCSC{Float64,Int64}\n",
       "│  └─ 2256-element real variable (id: 123…146)\n",
       "└─ 1500×1 SparseMatrixCSC{Float64,Int64}\n",
       " == constraint (affine)\n",
       "├─ index (affine; real)\n",
       "│  └─ 2256-element real variable (id: 123…146)\n",
       "└─ 6-element Array{Float64,1}\n",
       " >= constraint (affine)\n",
       "├─ index (affine; real)\n",
       "│  └─ 2256-element real variable (id: 123…146)\n",
       "└─ -10000\n",
       " == constraint (affine)\n",
       "├─ index (affine; real)\n",
       "│  └─ 2256-element real variable (id: 123…146)\n",
       "└─ 6-element Array{Float64,1}\n",
       " >= constraint (affine)\n",
       "├─ * (affine; real)\n",
       "│  ├─ 2256×2256 SparseMatrixCSC{Float64,Int64}\n",
       "│  └─ 2256-element real variable (id: 123…146)\n",
       "└─ 0"
      ]
     },
     "execution_count": 15,
     "metadata": {},
     "output_type": "execute_result"
    }
   ],
   "source": [
    "# Add the Ground Constraint\n",
    "ground_mat = spzeros(var_size, var_size)\n",
    "\n",
    "currInd = 3\n",
    "currRow = 1\n",
    "while currRow <= N\n",
    "    ground_mat[currRow, currInd] = 1\n",
    "\n",
    "    currRow += 1\n",
    "    currInd += 3 * Int(num_states / 2)\n",
    "end\n",
    "\n",
    "problem.constraints += ground_mat * tau > 0"
   ]
  },
  {
   "cell_type": "code",
   "execution_count": 16,
   "metadata": {},
   "outputs": [
    {
     "data": {
      "text/plain": [
       "6-element Array{Constraint,1}:\n",
       " == constraint (affine)\n",
       "├─ * (affine; real)\n",
       "│  ├─ 1500×2256 SparseMatrixCSC{Float64,Int64}\n",
       "│  └─ 2256-element real variable (id: 123…146)\n",
       "└─ 1500×1 SparseMatrixCSC{Float64,Int64}\n",
       " == constraint (affine)\n",
       "├─ index (affine; real)\n",
       "│  └─ 2256-element real variable (id: 123…146)\n",
       "└─ 6-element Array{Float64,1}\n",
       " >= constraint (affine)\n",
       "├─ index (affine; real)\n",
       "│  └─ 2256-element real variable (id: 123…146)\n",
       "└─ -10000\n",
       " == constraint (affine)\n",
       "├─ index (affine; real)\n",
       "│  └─ 2256-element real variable (id: 123…146)\n",
       "└─ 6-element Array{Float64,1}\n",
       " >= constraint (affine)\n",
       "├─ * (affine; real)\n",
       "│  ├─ 2256×2256 SparseMatrixCSC{Float64,Int64}\n",
       "│  └─ 2256-element real variable (id: 123…146)\n",
       "└─ 0\n",
       " <= constraint (convex)\n",
       "├─ norm2 (convex; positive)\n",
       "│  └─ index (affine; real)\n",
       "│     └─ 2256-element real variable (id: 123…146)\n",
       "└─ 19.62"
      ]
     },
     "execution_count": 16,
     "metadata": {},
     "output_type": "execute_result"
    }
   ],
   "source": [
    "# Add Thrust Magnitude Bounds\n",
    "\n",
    "perWeightMax = 2\n",
    "\n",
    "problem.constraints += norm(tau[7:9], 2) < mass * norm(grav[3]) * perWeightMax"
   ]
  },
  {
   "cell_type": "markdown",
   "metadata": {},
   "source": [
    "## Select the solver options\n",
    "\n",
    "For more information, please visit https://github.com/RoboticExplorationLab/Altro.jl/blob/master/README.md for more details on the solver options.\n",
    "\n",
    "Using the Altro package, we can now specify parameters and solve the problem."
   ]
  },
  {
   "cell_type": "markdown",
   "metadata": {},
   "source": [
    "# Step 2: Solve the initial trajectory optimization problem"
   ]
  },
  {
   "cell_type": "markdown",
   "metadata": {},
   "source": [
    "Show summary is set to <code>true</code> to print the solver speed. In general the solve will take about 30 iterations and 65-80 ms to complete. "
   ]
  },
  {
   "cell_type": "code",
   "execution_count": 17,
   "metadata": {},
   "outputs": [
    {
     "data": {
      "text/plain": [
       "minimize\n",
       "└─ * (convex; positive)\n",
       "   ├─ 1\n",
       "   └─ qol_elem (convex; positive)\n",
       "      ├─ norm2 (convex; positive)\n",
       "      │  └─ …\n",
       "      └─ [1.0]\n",
       "subject to\n",
       "├─ == constraint (affine)\n",
       "│  ├─ * (affine; real)\n",
       "│  │  ├─ 1500×2256 SparseMatrixCSC{Float64,Int64}\n",
       "│  │  └─ 2256-element real variable (id: 123…146)\n",
       "│  └─ 1500×1 SparseMatrixCSC{Float64,Int64}\n",
       "├─ == constraint (affine)\n",
       "│  ├─ index (affine; real)\n",
       "│  │  └─ 2256-element real variable (id: 123…146)\n",
       "│  └─ 6-element Array{Float64,1}\n",
       "├─ >= constraint (affine)\n",
       "│  ├─ index (affine; real)\n",
       "│  │  └─ 2256-element real variable (id: 123…146)\n",
       "│  └─ -10000\n",
       "├─ == constraint (affine)\n",
       "│  ├─ index (affine; real)\n",
       "│  │  └─ 2256-element real variable (id: 123…146)\n",
       "│  └─ 6-element Array{Float64,1}\n",
       "├─ >= constraint (affine)\n",
       "│  ├─ * (affine; real)\n",
       "│  │  ├─ 2256×2256 SparseMatrixCSC{Float64,Int64}\n",
       "│  │  └─ 2256-element real variable (id: 123…146)\n",
       "│  └─ 0\n",
       "└─ <= constraint (convex)\n",
       "   ├─ norm2 (convex; positive)\n",
       "   │  └─ index (affine; real)\n",
       "   │     └─ …\n",
       "   └─ 19.62\n",
       "\n",
       "status: `solve!` not called yet"
      ]
     },
     "execution_count": 17,
     "metadata": {},
     "output_type": "execute_result"
    }
   ],
   "source": [
    "problem"
   ]
  },
  {
   "cell_type": "markdown",
   "metadata": {},
   "source": [
    "Now we can solve it and show the summary"
   ]
  },
  {
   "cell_type": "code",
   "execution_count": 18,
   "metadata": {},
   "outputs": [
    {
     "name": "stdout",
     "output_type": "stream",
     "text": [
      "\n",
      "ECOS 2.0.5 - (C) embotech GmbH, Zurich Switzerland, 2012-15. Web: www.embotech.com/ECOS\n",
      "\n",
      "It     pcost       dcost      gap   pres   dres    k/t    mu     step   sigma     IR    |   BT\n",
      " 0  +0.000e+00  -2.244e+07  +4e+07  2e-01  8e-01  1e+00  9e+03    ---    ---    1  1  - |  -  - \n",
      " 1  -9.118e+01  -5.909e+06  +1e+07  7e-02  2e-01  2e+03  3e+03  0.9215  2e-01   1  1  1 |  0  0\n",
      " 2  -7.530e+01  -4.186e+06  +7e+06  6e-02  1e-01  2e+03  2e+03  0.7833  5e-01   1  1  1 |  0  0\n",
      " 3  -6.570e+00  -3.462e+05  +6e+05  5e-03  1e-02  2e+02  1e+02  0.9115  1e-03   1  1  1 |  0  0\n",
      " 4  -2.510e+01  -3.049e+05  +5e+05  5e-03  5e-03  1e+02  1e+02  0.9890  7e-01   1  1  1 |  0  0\n",
      " 5  -2.415e+00  -2.774e+05  +4e+05  4e-03  2e-03  1e+02  9e+01  0.4083  7e-01   1  1  1 |  0  0\n",
      " 6  +3.425e+01  -1.058e+05  +2e+05  2e-03  5e-04  5e+01  3e+01  0.7960  2e-01   1  1  1 |  0  0\n",
      " 7  +3.241e+00  -3.817e+03  +6e+03  7e-05  1e-05  2e+00  1e+00  0.9853  2e-02   1  1  1 |  0  0\n",
      " 8  +3.457e+00  -1.677e+03  +3e+03  3e-05  5e-06  7e-01  6e-01  0.6235  9e-02   1  1  1 |  0  0\n",
      " 9  +1.039e+01  -1.744e+03  +2e+03  3e-05  4e-06  8e-01  6e-01  0.0264  8e-01   1  1  2 |  0  0\n",
      "10  +1.026e+01  -1.897e+03  +2e+03  4e-05  3e-06  1e+00  5e-01  0.1622  7e-01   1  1  1 |  0  0\n",
      "11  +4.692e+01  -1.806e+03  +2e+03  3e-05  3e-06  9e-01  5e-01  0.0206  9e-01   1  1  2 |  0  0\n",
      "12  +3.818e+01  -2.061e+03  +2e+03  4e-05  2e-06  1e+00  4e-01  0.5306  7e-01   1  1  1 |  0  0\n",
      "13  +2.707e+02  -1.537e+03  +2e+03  4e-05  2e-06  9e-01  4e-01  0.1353  9e-01   1  1  2 |  0  0\n",
      "14  +2.482e+02  -1.209e+03  +8e+02  3e-05  9e-07  1e+00  2e-01  0.9886  4e-01   1  1  1 |  0  0\n",
      "15  +9.981e+02  +1.884e+02  +7e+02  2e-05  6e-07  3e-01  1e-01  0.7208  7e-01   1  1  1 |  0  0\n",
      "16  +1.426e+03  +6.641e+02  +2e+02  2e-05  4e-07  1e+00  5e-02  0.9890  3e-01   1  1  1 |  0  0\n",
      "17  +1.585e+03  +1.103e+03  +2e+02  1e-05  2e-07  7e-01  3e-02  0.7074  5e-01   1  1  2 |  0  0\n",
      "18  +2.551e+03  +2.319e+03  +6e+01  6e-06  1e-07  4e-01  1e-02  0.6838  1e-01   2  2  2 |  0  0\n",
      "19  +2.993e+03  +2.887e+03  +3e+01  3e-06  5e-08  2e-01  6e-03  0.7892  3e-01   1  1  1 |  0  0\n",
      "20  +3.300e+03  +3.254e+03  +1e+01  1e-06  2e-08  1e-01  2e-03  0.7360  2e-01   1  1  1 |  0  0\n",
      "21  +3.444e+03  +3.428e+03  +4e+00  5e-07  9e-09  4e-02  8e-04  0.8526  2e-01   1  1  1 |  0  0\n",
      "22  +3.505e+03  +3.499e+03  +1e+00  2e-07  3e-09  2e-02  3e-04  0.8593  3e-01   1  1  1 |  0  0\n",
      "23  +3.526e+03  +3.524e+03  +5e-01  7e-08  1e-09  7e-03  1e-04  0.8347  3e-01   2  1  1 |  0  0\n",
      "24  +3.538e+03  +3.538e+03  +1e-01  1e-08  3e-10  2e-03  2e-05  0.8189  4e-02   2  1  1 |  0  0\n",
      "25  +3.539e+03  +3.539e+03  +8e-02  1e-08  2e-10  1e-03  2e-05  0.5484  5e-01   1  1  1 |  0  0\n",
      "26  +3.541e+03  +3.541e+03  +2e-02  2e-09  7e-11  2e-04  4e-06  0.8156  5e-02   2  1  1 |  0  0\n",
      "27  +3.541e+03  +3.541e+03  +8e-03  1e-09  4e-11  1e-04  2e-06  0.7355  3e-01   2  1  1 |  0  0\n",
      "28  +3.541e+03  +3.541e+03  +4e-03  5e-10  2e-11  6e-05  9e-07  0.7778  3e-01   2  1  1 |  0  0\n",
      "29  +3.541e+03  +3.541e+03  +1e-03  1e-10  1e-11  2e-05  2e-07  0.8835  2e-01   2  1  1 |  0  0\n",
      "30  +3.541e+03  +3.541e+03  +4e-04  7e-11  5e-12  6e-06  8e-08  0.7881  2e-01   1  1  1 |  0  0\n",
      "31  +3.541e+03  +3.541e+03  +2e-04  3e-11  4e-12  2e-06  4e-08  0.9259  4e-01   1  1  1 |  0  0\n",
      "32  +3.541e+03  +3.541e+03  +4e-05  2e-08  1e-12  6e-07  9e-09  0.9757  2e-01   0  0  0 |  0  0\n",
      "\b\b\b\b\b\b\b\b\b\b\b\b\b\b\b\b\b\b\b\b\b\b\b\b\b\b\b\b\b\b\b\b\b\b\b\b\b\b\b\b\b\b\b\b\b\b\b\b\b\b\b\b\b\b\b\b\b\b\b\b\b\b\b\b\b\b\b\b\b\b\b\b\b\b\b\b\b\b\b\b\b\bUnreliable search direction detected, recovering best iterate (31) and stopping.\n",
      "\n",
      "Close to OPTIMAL (within feastol=3.3e-11, reltol=4.5e-08, abstol=1.6e-04).\n",
      "Runtime: 0.064845 seconds.\n",
      "\n"
     ]
    },
    {
     "name": "stderr",
     "output_type": "stream",
     "text": [
      "┌ Warning: Problem status ALMOST_OPTIMAL; solution may be inaccurate.\n",
      "└ @ Convex C:\\Users\\Daniel N\\.julia\\packages\\Convex\\aYxJA\\src\\solution.jl:252\n"
     ]
    }
   ],
   "source": [
    "solve!(problem, ECOS.Optimizer)"
   ]
  },
  {
   "cell_type": "code",
   "execution_count": 19,
   "metadata": {},
   "outputs": [
    {
     "name": "stdout",
     "output_type": "stream",
     "text": [
      "  72.348 ms (55015 allocations: 7.72 MiB)\n"
     ]
    }
   ],
   "source": [
    "@btime solve!($problem, ECOS.Optimizer(verbose = 0), verbose = false)"
   ]
  },
  {
   "cell_type": "code",
   "execution_count": 20,
   "metadata": {},
   "outputs": [
    {
     "data": {
      "text/plain": [
       "BenchmarkTools.Trial: \n",
       "  memory estimate:  7.72 MiB\n",
       "  allocs estimate:  55015\n",
       "  --------------\n",
       "  minimum time:     68.356 ms (0.00% GC)\n",
       "  median time:      71.786 ms (0.00% GC)\n",
       "  mean time:        72.687 ms (0.97% GC)\n",
       "  maximum time:     92.900 ms (21.23% GC)\n",
       "  --------------\n",
       "  samples:          69\n",
       "  evals/sample:     1"
      ]
     },
     "execution_count": 20,
     "metadata": {},
     "output_type": "execute_result"
    }
   ],
   "source": [
    "@benchmark solve!($problem, ECOS.Optimizer(verbose = 0), verbose = false)"
   ]
  },
  {
   "cell_type": "code",
   "execution_count": 21,
   "metadata": {},
   "outputs": [
    {
     "data": {
      "text/plain": [
       "minimize\n",
       "└─ * (convex; positive)\n",
       "   ├─ 1\n",
       "   └─ qol_elem (convex; positive)\n",
       "      ├─ norm2 (convex; positive)\n",
       "      │  └─ …\n",
       "      └─ [1.0]\n",
       "subject to\n",
       "├─ == constraint (affine)\n",
       "│  ├─ * (affine; real)\n",
       "│  │  ├─ 1500×2256 SparseMatrixCSC{Float64,Int64}\n",
       "│  │  └─ 2256-element real variable (id: 123…146)\n",
       "│  └─ 1500×1 SparseMatrixCSC{Float64,Int64}\n",
       "├─ == constraint (affine)\n",
       "│  ├─ index (affine; real)\n",
       "│  │  └─ 2256-element real variable (id: 123…146)\n",
       "│  └─ 6-element Array{Float64,1}\n",
       "├─ >= constraint (affine)\n",
       "│  ├─ index (affine; real)\n",
       "│  │  └─ 2256-element real variable (id: 123…146)\n",
       "│  └─ -10000\n",
       "├─ == constraint (affine)\n",
       "│  ├─ index (affine; real)\n",
       "│  │  └─ 2256-element real variable (id: 123…146)\n",
       "│  └─ 6-element Array{Float64,1}\n",
       "├─ >= constraint (affine)\n",
       "│  ├─ * (affine; real)\n",
       "│  │  ├─ 2256×2256 SparseMatrixCSC{Float64,Int64}\n",
       "│  │  └─ 2256-element real variable (id: 123…146)\n",
       "│  └─ 0\n",
       "└─ <= constraint (convex)\n",
       "   ├─ norm2 (convex; positive)\n",
       "   │  └─ index (affine; real)\n",
       "   │     └─ …\n",
       "   └─ 19.62\n",
       "\n",
       "termination status: ALMOST_OPTIMAL\n",
       "primal status: NEARLY_FEASIBLE_POINT\n",
       "dual status: NEARLY_FEASIBLE_POINT"
      ]
     },
     "execution_count": 21,
     "metadata": {},
     "output_type": "execute_result"
    }
   ],
   "source": [
    "problem"
   ]
  },
  {
   "cell_type": "markdown",
   "metadata": {},
   "source": [
    "Access the Trajectory"
   ]
  },
  {
   "cell_type": "code",
   "execution_count": 22,
   "metadata": {},
   "outputs": [
    {
     "data": {
      "text/latex": [
       "3 5 4 1 . 2 8 6 0 4 0 0 9 1 9 2 7 6"
      ],
      "text/plain": [
       "3541.2860400919276"
      ]
     },
     "metadata": {},
     "output_type": "display_data"
    },
    {
     "data": {
      "text/plain": [
       "6-element Array{Float64,1}:\n",
       "   5.0\n",
       "   5.0\n",
       "  20.0\n",
       "   0.0\n",
       "   0.0\n",
       " -15.0"
      ]
     },
     "metadata": {},
     "output_type": "display_data"
    },
    {
     "data": {
      "text/plain": [
       "2256-element Array{Float64,1}:\n",
       "   4.999999999999285\n",
       "   4.999999999999285\n",
       "  19.99999999997083\n",
       "  -1.0108837898226777e-12\n",
       "  -1.0108837898764586e-12\n",
       " -15.000000000026136\n",
       "   1.5149120710267643\n",
       "   1.5149120710267674\n",
       " -17.08900006932598\n",
       "   4.992425439643356\n",
       "   4.992425439643356\n",
       "  18.53639500028596\n",
       "  -0.15149120710462888\n",
       "   ⋮\n",
       "  -5.174098278031562e-6\n",
       "  -5.174098278031559e-6\n",
       "  -0.000532017505054822\n",
       "  -5.174099255398818e-5\n",
       "  -5.174099255398808e-5\n",
       "  -9.815320219255218\n",
       "  -6.341094633545689e-13\n",
       "  -6.341094633546284e-13\n",
       "  -7.971709111885264e-9\n",
       "   4.886832488313711e-13\n",
       "   4.886832488315085e-13\n",
       "   2.210233673333514e-9"
      ]
     },
     "execution_count": 22,
     "metadata": {},
     "output_type": "execute_result"
    }
   ],
   "source": [
    "display(problem.optval)\n",
    "display(rocketStart)\n",
    "result_traj = evaluate(tau)"
   ]
  },
  {
   "cell_type": "code",
   "execution_count": 23,
   "metadata": {},
   "outputs": [],
   "source": [
    "function getXVU(tau)\n",
    "    kStart = 1\n",
    "    maxK = length(tau)\n",
    "    # println(\"Max = $maxK\")\n",
    "\n",
    "    xList = []\n",
    "    vList = []\n",
    "    uList = []\n",
    "\n",
    "    while kStart < (maxK - 2 * num_controls)\n",
    "        # println(\"Accessing $kStart to $(kStart + 3 * nDim - 1)\")\n",
    "        push!(xList, evaluate(tau)[kStart:kStart + num_controls - 1])\n",
    "        push!(vList, evaluate(tau)[kStart + num_controls:kStart + 2 * num_controls - 1])\n",
    "        push!(uList, evaluate(tau)[kStart + 2 * num_controls:kStart + 3 * num_controls - 1])\n",
    "\n",
    "        kStart = kStart + 3 * num_controls\n",
    "    end\n",
    "    \n",
    "    return xList, vList, uList\n",
    "end\n",
    "\n",
    "xList, vList, uList = getXVU(tau);"
   ]
  },
  {
   "cell_type": "code",
   "execution_count": 24,
   "metadata": {},
   "outputs": [],
   "source": [
    "xs = [x[1] for x in xList]\n",
    "ys = [x[2] for x in xList]\n",
    "zs = [x[3] for x in xList];"
   ]
  },
  {
   "cell_type": "code",
   "execution_count": 25,
   "metadata": {},
   "outputs": [
    {
     "data": {
      "image/png": "[encoded data removed]"
     },
     "execution_count": 25,
     "metadata": {},
     "output_type": "execute_result"
    }
   ],
   "source": [
    "plot(xs, zs)"
   ]
  },
  {
   "cell_type": "code",
   "execution_count": 26,
   "metadata": {},
   "outputs": [
    {
     "ename": "PyCall.PyError",
     "evalue": "PyError ($(Expr(:escape, :(ccall(#= C:\\Users\\Daniel N\\.julia\\packages\\PyCall\\BcTLp\\src\\pyfncall.jl:43 =# @pysym(:PyObject_Call), PyPtr, (PyPtr, PyPtr, PyPtr), o, pyargsptr, kw))))) <class 'AttributeError'>\nAttributeError(\"'Text' object has no property 'fontdict'\",)\n  File \"C:\\Users\\Daniel N\\.julia\\conda\\3\\lib\\site-packages\\mpl_toolkits\\mplot3d\\axes3d.py\", line 915, in set_zticklabels\n    return self.zaxis.set_ticklabels(*args, **kwargs)\n  File \"C:\\Users\\Daniel N\\.julia\\conda\\3\\lib\\site-packages\\matplotlib\\axis.py\", line 1728, in set_ticklabels\n    tick.label1.update(kwargs)\n  File \"C:\\Users\\Daniel N\\.julia\\conda\\3\\lib\\site-packages\\matplotlib\\text.py\", line 177, in update\n    super().update(kwargs)\n  File \"C:\\Users\\Daniel N\\.julia\\conda\\3\\lib\\site-packages\\matplotlib\\artist.py\", line 974, in update\n    ret = [_update_property(self, k, v) for k, v in props.items()]\n  File \"C:\\Users\\Daniel N\\.julia\\conda\\3\\lib\\site-packages\\matplotlib\\artist.py\", line 974, in <listcomp>\n    ret = [_update_property(self, k, v) for k, v in props.items()]\n  File \"C:\\Users\\Daniel N\\.julia\\conda\\3\\lib\\site-packages\\matplotlib\\artist.py\", line 970, in _update_property\n    .format(type(self).__name__, k))\n",
     "output_type": "error",
     "traceback": [
      "PyError ($(Expr(:escape, :(ccall(#= C:\\Users\\Daniel N\\.julia\\packages\\PyCall\\BcTLp\\src\\pyfncall.jl:43 =# @pysym(:PyObject_Call), PyPtr, (PyPtr, PyPtr, PyPtr), o, pyargsptr, kw))))) <class 'AttributeError'>\nAttributeError(\"'Text' object has no property 'fontdict'\",)\n  File \"C:\\Users\\Daniel N\\.julia\\conda\\3\\lib\\site-packages\\mpl_toolkits\\mplot3d\\axes3d.py\", line 915, in set_zticklabels\n    return self.zaxis.set_ticklabels(*args, **kwargs)\n  File \"C:\\Users\\Daniel N\\.julia\\conda\\3\\lib\\site-packages\\matplotlib\\axis.py\", line 1728, in set_ticklabels\n    tick.label1.update(kwargs)\n  File \"C:\\Users\\Daniel N\\.julia\\conda\\3\\lib\\site-packages\\matplotlib\\text.py\", line 177, in update\n    super().update(kwargs)\n  File \"C:\\Users\\Daniel N\\.julia\\conda\\3\\lib\\site-packages\\matplotlib\\artist.py\", line 974, in update\n    ret = [_update_property(self, k, v) for k, v in props.items()]\n  File \"C:\\Users\\Daniel N\\.julia\\conda\\3\\lib\\site-packages\\matplotlib\\artist.py\", line 974, in <listcomp>\n    ret = [_update_property(self, k, v) for k, v in props.items()]\n  File \"C:\\Users\\Daniel N\\.julia\\conda\\3\\lib\\site-packages\\matplotlib\\artist.py\", line 970, in _update_property\n    .format(type(self).__name__, k))\n",
      "",
      "Stacktrace:",
      " [1] pyerr_check at C:\\Users\\Daniel N\\.julia\\packages\\PyCall\\BcTLp\\src\\exception.jl:62 [inlined]",
      " [2] pyerr_check at C:\\Users\\Daniel N\\.julia\\packages\\PyCall\\BcTLp\\src\\exception.jl:66 [inlined]",
      " [3] _handle_error(::String) at C:\\Users\\Daniel N\\.julia\\packages\\PyCall\\BcTLp\\src\\exception.jl:83",
      " [4] macro expansion at C:\\Users\\Daniel N\\.julia\\packages\\PyCall\\BcTLp\\src\\exception.jl:97 [inlined]",
      " [5] #110 at C:\\Users\\Daniel N\\.julia\\packages\\PyCall\\BcTLp\\src\\pyfncall.jl:43 [inlined]",
      " [6] disable_sigint at .\\c.jl:446 [inlined]",
      " [7] __pycall! at C:\\Users\\Daniel N\\.julia\\packages\\PyCall\\BcTLp\\src\\pyfncall.jl:42 [inlined]",
      " [8] _pycall!(::PyCall.PyObject, ::PyCall.PyObject, ::Tuple{Array{Float64,1}}, ::Int64, ::PyCall.PyObject) at C:\\Users\\Daniel N\\.julia\\packages\\PyCall\\BcTLp\\src\\pyfncall.jl:29",
      " [9] _pycall!(::PyCall.PyObject, ::PyCall.PyObject, ::Tuple{Array{Float64,1}}, ::Base.Iterators.Pairs{Symbol,PyCall.PyDict{String,PyCall.PyAny,true},Tuple{Symbol},NamedTuple{(:fontdict,),Tuple{PyCall.PyDict{String,PyCall.PyAny,true}}}}) at C:\\Users\\Daniel N\\.julia\\packages\\PyCall\\BcTLp\\src\\pyfncall.jl:11",
      " [10] #_#117 at C:\\Users\\Daniel N\\.julia\\packages\\PyCall\\BcTLp\\src\\pyfncall.jl:86 [inlined]",
      " [11] _before_layout_calcs(::Plots.Plot{Plots.PyPlotBackend}) at C:\\Users\\Daniel N\\.julia\\packages\\Plots\\a7Kbp\\src\\backends\\pyplot.jl:1033",
      " [12] prepare_output(::Plots.Plot{Plots.PyPlotBackend}) at C:\\Users\\Daniel N\\.julia\\packages\\Plots\\a7Kbp\\src\\plot.jl:177",
      " [13] show(::Base64.Base64EncodePipe, ::MIME{Symbol(\"image/png\")}, ::Plots.Plot{Plots.PyPlotBackend}) at C:\\Users\\Daniel N\\.julia\\packages\\Plots\\a7Kbp\\src\\output.jl:214",
      " [14] base64encode(::Function, ::MIME{Symbol(\"image/png\")}, ::Vararg{Any,N} where N; context::Nothing) at D:\\buildbot\\worker\\package_win64\\build\\usr\\share\\julia\\stdlib\\v1.4\\Base64\\src\\encode.jl:206",
      " [15] base64encode at D:\\buildbot\\worker\\package_win64\\build\\usr\\share\\julia\\stdlib\\v1.4\\Base64\\src\\encode.jl:203 [inlined]",
      " [16] _ijulia_display_dict(::Plots.Plot{Plots.PyPlotBackend}) at C:\\Users\\Daniel N\\.julia\\packages\\Plots\\a7Kbp\\src\\ijulia.jl:50",
      " [17] display_dict(::Plots.Plot{Plots.PyPlotBackend}) at C:\\Users\\Daniel N\\.julia\\packages\\Plots\\a7Kbp\\src\\init.jl:75",
      " [18] #invokelatest#1 at .\\essentials.jl:712 [inlined]",
      " [19] invokelatest at .\\essentials.jl:711 [inlined]",
      " [20] execute_request(::ZMQ.Socket, ::IJulia.Msg) at C:\\Users\\Daniel N\\.julia\\packages\\IJulia\\rWZ9e\\src\\execute_request.jl:130",
      " [21] #invokelatest#1 at .\\essentials.jl:712 [inlined]",
      " [22] invokelatest at .\\essentials.jl:711 [inlined]",
      " [23] eventloop(::ZMQ.Socket) at C:\\Users\\Daniel N\\.julia\\packages\\IJulia\\rWZ9e\\src\\eventloop.jl:8",
      " [24] (::IJulia.var\"#15#18\")() at .\\task.jl:358"
     ]
    }
   ],
   "source": [
    "plot3d(xs, ys, zs)"
   ]
  },
  {
   "cell_type": "code",
   "execution_count": 27,
   "metadata": {},
   "outputs": [],
   "source": [
    "uxs = [u[1] for u in uList]\n",
    "uys = [u[2] for u in uList]\n",
    "uzs = [u[3] for u in uList];"
   ]
  },
  {
   "cell_type": "code",
   "execution_count": 28,
   "metadata": {},
   "outputs": [
    {
     "data": {
      "image/png": "[encoded data removed]"
     },
     "execution_count": 28,
     "metadata": {},
     "output_type": "execute_result"
    }
   ],
   "source": [
    "plot(uxs)\n",
    "plot!(uys)"
   ]
  },
  {
   "cell_type": "code",
   "execution_count": 29,
   "metadata": {},
   "outputs": [
    {
     "data": {
      "image/png": "[encoded data removed]"
     },
     "execution_count": 29,
     "metadata": {},
     "output_type": "execute_result"
    }
   ],
   "source": [
    "plot(-uzs)"
   ]
  },
  {
   "cell_type": "markdown",
   "metadata": {},
   "source": [
    "## Step 3: Integrate the Dynamics to Verify the Dynamics Constraint\n",
    "\n",
    "In Matlab, we would use ODE 45, but in the <code>DifferentialEquations.jl</code> package we can either (1) just let the <code>solve</code> method figure it out or (2) specify a solver such as <code>Tsit5</code>."
   ]
  },
  {
   "cell_type": "code",
   "execution_count": 30,
   "metadata": {},
   "outputs": [],
   "source": [
    "num_timesteps = N - 5\n",
    "\n",
    "get_controls(t) = uList[min(Int(floor(t/deltaTime)) + 1, size(uList,1))]\n",
    "\n",
    "A, B, g = rocketDynamicsContinuousMat(rocket, num_controls)\n",
    "\n",
    "f(y,p,t) = A * y + B * get_controls(t) + g * grav\n",
    "\n",
    "states_y0 = rocketStart\n",
    "tspan = (0.0, deltaTime * num_timesteps)\n",
    "controls_p0 = get_controls(tspan[1])\n",
    "\n",
    "# Use the DifferentialEquations.jl Package\n",
    "ode_prob = ODEProblem(f, states_y0, tspan, controls_p0,saveat=deltaTime)\n",
    "ode_sol = solve(ode_prob, Tsit5(), reltol=1e-10, abstol=1e-10);"
   ]
  },
  {
   "cell_type": "code",
   "execution_count": 31,
   "metadata": {},
   "outputs": [],
   "source": [
    "xvList = [[xList[i]; vList[i]] for i = 1:size(xList, 1)]\n",
    "\n",
    "err = norm.(ode_sol.u - xvList[1:(Int(round(tspan[2]/deltaTime))+1)]);"
   ]
  },
  {
   "cell_type": "code",
   "execution_count": 32,
   "metadata": {},
   "outputs": [
    {
     "data": {
      "image/png": "[encoded data removed]"
     },
     "execution_count": 32,
     "metadata": {},
     "output_type": "execute_result"
    }
   ],
   "source": [
    "plot(ode_sol.t, err, yaxis = :log)"
   ]
  },
  {
   "cell_type": "code",
   "execution_count": null,
   "metadata": {},
   "outputs": [],
   "source": []
  }
 ],
 "metadata": {
  "kernelspec": {
   "display_name": "Julia 1.4.2",
   "language": "julia",
   "name": "julia-1.4"
  },
  "language_info": {
   "file_extension": ".jl",
   "mimetype": "application/julia",
   "name": "julia",
   "version": "1.4.2"
  }
 },
 "nbformat": 4,
 "nbformat_minor": 4
}
