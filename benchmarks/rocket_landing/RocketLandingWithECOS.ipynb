{
 "cells": [
  {
   "cell_type": "markdown",
   "metadata": {},
   "source": [
    "# Model Predictive Control Rocket Soft-Landing Problem\n",
    "\n",
    "This notebook is a walkthough of the ALTRO solver for the MPC Rocket Soft-Landing Problem (i.e. the general control challenge of landing a rocket at rest at a designated landing site). In the simplest case, we treat the rocket as a sphere landing on a flat surface with no atmosphere. This approximation is reasonable when the rocket is near the ground and entering the final part of the descent.\n",
    "\n",
    "**This files focuses on the MPC problem and comparing the result to other solvers. For the simple (non-MPC) application, please visit the <code>RocketLandingSimplified.ipynb</code> file. Thanks!**"
   ]
  },
  {
   "cell_type": "code",
   "execution_count": 96,
   "metadata": {},
   "outputs": [],
   "source": [
    "# using Pkg\n",
    "# Pkg.activate(\".\")\n",
    "# Pkg.instantiate()"
   ]
  },
  {
   "cell_type": "markdown",
   "metadata": {},
   "source": [
    "## MPC Problem Outline\n",
    "\n",
    "For the MPC application, we must fulfill two critical steps:\n",
    "1. Solve the optimal trajectory and apply the required controls (usually a short horizon)\n",
    "2. Use the prior trajectory to warm-start the next solve\n",
    "\n",
    "In this Jupyter notebook, we will:\n",
    "1. Set up the rocket soft-landing problem \n",
    "2. Solve the initial trajectory optimization problem\n",
    "3. Execute the control (and propagate forward in time)\n",
    "4. Warm-Start the next iteration\n",
    "5. Solve the next trajectory optimization problem\n",
    "6. Repeat steps 3-5 until arrival at the landing location"
   ]
  },
  {
   "cell_type": "markdown",
   "metadata": {},
   "source": [
    "# Step 1: Set-Up the Rocket Soft-Landing Problem"
   ]
  },
  {
   "cell_type": "markdown",
   "metadata": {},
   "source": [
    "## Load Required Packages\n",
    "\n",
    "The <code>Convex</code> package enables us to write the optimization problem. The <code>ECOS</code> package will solve the trajectory optimization problem. <code>StaticArrays</code>, <code>SparseArrays</code>, and <code>LinearAlgebra</code> are required to set-up the appropriate data types.\n",
    "\n",
    "Next, <code>Plots, MeshCat, TrajOptPlots, FileIO,</code> and <code>MeshIO</code> packages are used to visualize the results. Note that the plotting sections will take significantly longer to run than the optimization. \n",
    "\n",
    "Lastly, <code>DifferentialEquations</code> integrates the dynamics forward as a way to show that the dynamics constraints are satisfied.\n",
    "\n",
    "Loading all the packages, especially for plotting and the differential equations integrator can be the longest part of the whole notebook."
   ]
  },
  {
   "cell_type": "code",
   "execution_count": 97,
   "metadata": {},
   "outputs": [
    {
     "name": "stdout",
     "output_type": "stream",
     "text": [
      "Optimization Packages Ready\n",
      "Base Plotting Packages Ready\n",
      "3D Plotting Packages Ready\n",
      "Differential Equations Ready\n"
     ]
    }
   ],
   "source": [
    "using Convex\n",
    "using ECOS\n",
    "using StaticArrays, SparseArrays, LinearAlgebra\n",
    "println(\"Optimization Packages Ready\")\n",
    "\n",
    "using Plots\n",
    "pyplot()\n",
    "println(\"Base Plotting Packages Ready\")\n",
    "\n",
    "using MeshCat, TrajOptPlots\n",
    "using FileIO, MeshIO\n",
    "println(\"3D Plotting Packages Ready\")\n",
    "\n",
    "import DifferentialEquations.solve, DifferentialEquations.ODEProblem, DifferentialEquations.Tsit5\n",
    "using BenchmarkTools\n",
    "println(\"Differential Equations Ready\")"
   ]
  },
  {
   "cell_type": "markdown",
   "metadata": {},
   "source": [
    "## Define and Create the Rocket Model\n",
    "\n",
    "Unlike the Cartpole and Quadrotor models, the Rocket Model is not in the <code>RobotZoo.jl</code> package. Instead, here we build off of work found in the repository below to develop a simplified rocket soft-landing scenario (i.e. no second-order cone constraints and no attitude dynamics). https://github.com/danineamati/TrajOptSOCPs.jl\n",
    "\n",
    "In the simplified case, <code>Rocket</code> only holds the mass and the gravity vector. In the full rocket landing problem, the inertia matrix must also be provided. Separately, the thurster's specific impulse can be used to scale the optimal controls."
   ]
  },
  {
   "cell_type": "code",
   "execution_count": 98,
   "metadata": {},
   "outputs": [],
   "source": [
    "struct rocket_simple\n",
    "    mass\n",
    "    isp\n",
    "    grav\n",
    "    deltaTime\n",
    "end"
   ]
  },
  {
   "cell_type": "markdown",
   "metadata": {},
   "source": [
    "## Detail the Rocket Dynamics\n",
    "\n",
    "For the simplified rocket problem, we choose to ignore the attitude dynamics. Applying newton's second law or by forming a Lagrangian, we arrive at the following sparse system\n",
    "\n",
    "$$\\frac{dx}{dt} = Ax + Bu + g$$\n",
    "\n",
    "Where $A = \\begin{bmatrix}0 & I\\\\ 0 & 0 \\end{bmatrix}$, $B = \\begin{bmatrix}0 \\\\ \\frac{1}{m} I\\end{bmatrix}$, and $G = \\begin{bmatrix} 0 \\\\ -g \\end{bmatrix}$. For the 3D case, these are $(6 \\times 6)$, $(6 \\times 3)$, and $(6 \\times 1)$ matricies, respectively.\n",
    "\n",
    "Since the system is so sparse, we can reduce unnecessary computations by writing the equations for the first and second derivatives. We use the notation of $s = [x; y; z]$ (the positions) and $\\frac{ds}{dt} = [v_x; v_y; v_z]$ (the velocities). Call $y = [x; u; g]$, then,\n",
    "$$\n",
    "\\frac{dy}{dt} = \\begin{bmatrix}A & B & I\\\\ 0 & 0 & 0\\\\ 0 & 0 & 0\\end{bmatrix} y = W y\n",
    "$$\n",
    "which has solution\n",
    "$$\n",
    "y(t) = e^{W t} y0\n",
    "$$\n",
    "where W is square. In a discrete system,\n",
    "$$\n",
    "y_{k+1} = e^{W Δt} y_k = E y_k\n",
    "$$\n",
    "Note that due to all the zeros in W, we get:\n",
    "$$\n",
    "x_{k+1} = E_{11} x_k + E_{12} u_k + E_{13} g\n",
    "$$\n",
    "$$\n",
    "u_{k+1} = E_{21} x_k + E_{22} u_k + E_{23} g = u_k\n",
    "$$\n",
    "$$\n",
    "g = E_{31} x_k + E_{32} u_k + E_{33} g = g\n",
    "$$\n",
    "\n",
    "Thus, once we calculate the matrix $E$, we extract $E_{11}$, $E_{12}$, and $E_{13}$ to a system of the\n",
    "form:\n",
    "\n",
    "$$\n",
    "x_{k+1} = A_{\\text{eff}} \\ x_k + B_{\\text{eff}} \\ u_k + G_{\\text{eff}}\n",
    "$$"
   ]
  },
  {
   "cell_type": "code",
   "execution_count": 99,
   "metadata": {},
   "outputs": [
    {
     "data": {
      "text/plain": [
       "rocketDynamics (generic function with 1 method)"
      ]
     },
     "execution_count": 99,
     "metadata": {},
     "output_type": "execute_result"
    }
   ],
   "source": [
    "function rocketDynamics(r::rocket_simple, nDim::Int64)\n",
    "\n",
    "    # Start off with a dense representation bc it is needed for the\n",
    "    # exponentiation.\n",
    "    z0 = zeros(nDim, nDim)\n",
    "    aMat = [z0 I; z0 z0]\n",
    "    bMat = [z0; -(1/r.mass) * I]\n",
    "    gMat = [z0; I]\n",
    "\n",
    "    # Top Row\n",
    "    abg = [aMat bMat gMat]\n",
    "    abg_size = size(abg)\n",
    "\n",
    "    # We need to pad the remaining rows to make a square matrix\n",
    "    remainingRows = abg_size[2] - abg_size[1]\n",
    "    abgTot = [abg; zeros(remainingRows, abg_size[2])]\n",
    "\n",
    "    # Take the exponent e^(W Δt)\n",
    "    eMat = exp(abgTot * r.deltaTime)\n",
    "\n",
    "    # Extract the effective matrices\n",
    "    rowsA = size(aMat, 1)\n",
    "    colsA = size(aMat, 2)\n",
    "    colsB = size(bMat, 2)\n",
    "\n",
    "    aEffMat = sparse(eMat[1:rowsA, 1:colsA])\n",
    "    bEffMat = sparse(eMat[1:rowsA, colsA + 1:colsA + colsB])\n",
    "    gEffMat = sparse(eMat[1:rowsA, colsA + colsB + 1:end])\n",
    "\n",
    "    # Return the three effective matrices\n",
    "    return aEffMat, bEffMat, gEffMat\n",
    "end"
   ]
  },
  {
   "cell_type": "markdown",
   "metadata": {},
   "source": [
    "Now we want to stack these per iteration dynamics into a single matrix from which we will build an affine equality constraint. To do this, we create the helper function below.\n",
    "\n",
    "Specifically, we get the system:\n",
    "$$\\begin{bmatrix}A & B & -I\\end{bmatrix} \\begin{bmatrix}x_k \\\\ u_k \\\\ x_{k+1}\\end{bmatrix} = G$$\n",
    "which we can stack as\n",
    "$$\\begin{bmatrix}\n",
    "A & B & -I & 0 & 0 & 0 & 0 & 0 & 0 \\\\\n",
    "0 & 0 & A & B & -I & 0 & 0 & 0 & 0 \\\\\n",
    "0 & 0 & 0 & 0 & A & B & -I & 0 & 0 \\\\\n",
    "0 & 0 & 0 & 0 & 0 & 0 & A & B & -I\n",
    "\\end{bmatrix}\n",
    "$$\n",
    "We return the above matrix and the stacked `G` matrix."
   ]
  },
  {
   "cell_type": "code",
   "execution_count": 100,
   "metadata": {},
   "outputs": [
    {
     "data": {
      "text/plain": [
       "rocketDynamicsStack (generic function with 1 method)"
      ]
     },
     "execution_count": 100,
     "metadata": {},
     "output_type": "execute_result"
    }
   ],
   "source": [
    "function rocketDynamicsStack(r::rocket_simple, nDim::Int64, NSteps::Int64)\n",
    "    # First calculate the A and B matrices.\n",
    "    Ak, Bk, Gk = rocketDynamics(r::rocket_simple, nDim::Int64)\n",
    "    ABI_unit = [Ak Bk -I]\n",
    "    colLen = size(ABI_unit, 2)\n",
    "\n",
    "    # At each step we go down 2 * n rows and move right 3 * n columns.\n",
    "    sizeCols = 3 * NSteps * nDim + 2 * nDim\n",
    "    sizeRows = 2 * nDim * NSteps\n",
    "\n",
    "    # Initialize and empty sparse A matrix and G vector\n",
    "    AStacked = spzeros(sizeRows, sizeCols)\n",
    "    GStacked = spzeros(sizeRows, 1)\n",
    "\n",
    "    # Build up the matrix\n",
    "    rStart = 1\n",
    "    cStart = 1\n",
    "    for k in 1:NSteps\n",
    "        rEnd = rStart + (2 * nDim - 1)\n",
    "        cEnd = cStart + colLen - 1\n",
    "\n",
    "        # First, we calculate that stacked A Matrix\n",
    "        # println(\"Accessing $rStart:$rEnd and $cStart:$cEnd\")\n",
    "        AStacked[rStart:rEnd, cStart:cEnd] = ABI_unit\n",
    "\n",
    "        # Second, we calculate the stacked G vector\n",
    "        GStacked[rStart:rEnd] = -Gk * r.grav\n",
    "\n",
    "        # Prepare for next iteration.\n",
    "        rStart += 2 * nDim\n",
    "        cStart += 3 * nDim\n",
    "    end\n",
    "\n",
    "    # Returned the stacked matrix (A) and vector (G)\n",
    "    return AStacked, GStacked\n",
    "end"
   ]
  },
  {
   "cell_type": "markdown",
   "metadata": {},
   "source": [
    "## Instantiate the Model and Define the Discretization\n",
    "\n",
    "Feel free to choose <code>N</code> and <code>tf</code> based on your needs."
   ]
  },
  {
   "cell_type": "code",
   "execution_count": 207,
   "metadata": {},
   "outputs": [
    {
     "data": {
      "text/latex": [
       "2 5 . 0"
      ],
      "text/plain": [
       "25.0"
      ]
     },
     "metadata": {},
     "output_type": "display_data"
    },
    {
     "data": {
      "text/plain": [
       "rocket_simple(1, 1, [0.0, 0.0, -9.81], 0.1)"
      ]
     },
     "execution_count": 207,
     "metadata": {},
     "output_type": "execute_result"
    }
   ],
   "source": [
    "mass = 1\n",
    "isp = 1\n",
    "grav = [0; 0; -9.81]\n",
    "deltaTime = 0.1\n",
    "rocket = rocket_simple(mass, isp, grav, deltaTime)\n",
    "\n",
    "# Trajectory Discretization\n",
    "N = 250\n",
    "tf = N * deltaTime\n",
    "display(tf)\n",
    "\n",
    "# Dimensionality\n",
    "num_controls = 3 # ux, uy, uz\n",
    "num_states = 6 # x, y, z, vx, vy, vz\n",
    "var_size = N * (num_controls + num_states) + num_states # Last step does not have a control\n",
    "\n",
    "# Set Up the Trajectory Variable with Convex.jl\n",
    "tau = Variable(var_size) # Trajectory\n",
    "\n",
    "rocket # (Simply for information) Display the struct as the cell output "
   ]
  },
  {
   "cell_type": "markdown",
   "metadata": {},
   "source": [
    "## Specify the Initial and Final Conditions\n",
    "\n",
    "Choose the initial and final points. Note that these must be full state vectors ($[x; y; z; v_x; v_y; v_z]$). The initial point is generally the rocket's current state. The final point is generally the rocket's landing stop. Note that the final velocity of the rocket should **always** be $[0.0; 0.0; 0.0]$ to have a **soft** landing."
   ]
  },
  {
   "cell_type": "code",
   "execution_count": 237,
   "metadata": {},
   "outputs": [
    {
     "name": "stderr",
     "output_type": "stream",
     "text": [
      "WARNING: redefining constant rocketStart\n",
      "WARNING: redefining constant rocketEnd\n"
     ]
    }
   ],
   "source": [
    "# Initial and Final Conditions\n",
    "# in m\n",
    "# The Karman Line (100 km)\n",
    "const rocketStart = [5.0, 5.0, 20.0, 0.0, 0.0, -15.0]\n",
    "const rocketEnd = [0.0, 0.0, 0.0, 0.0, 0.0, 0.0];"
   ]
  },
  {
   "cell_type": "markdown",
   "metadata": {},
   "source": [
    "## Initialize the Trajectory\n",
    "\n",
    "We choose to initialize the trajectory at a hover (i.e. the rocket trajectory will initially only counter gravity). Note that this is **not** a warm start."
   ]
  },
  {
   "cell_type": "code",
   "execution_count": 238,
   "metadata": {},
   "outputs": [
    {
     "data": {
      "text/plain": [
       "initializeTraj (generic function with 1 method)"
      ]
     },
     "execution_count": 238,
     "metadata": {},
     "output_type": "execute_result"
    }
   ],
   "source": [
    "function initializeTraj(x0::Array{Float64, 1}, xN::Array{Float64, 1},\n",
    "                        NSteps::Int64)\n",
    "    if size(x0) != size(xN)\n",
    "        error(\"x0 and xN must have the same size. \" *\n",
    "                \"Currently: x0 = $x0 and xN = $xN\")\n",
    "    end\n",
    "    if mod(size(x0, 1), 2) != 0\n",
    "        error(\"x0 and xN must have an even number of variables. \" *\n",
    "              \"Example, x0 = [sx0; sy0; vx0; vy0]. Currently x0 = $x0.\")\n",
    "    end\n",
    "\n",
    "    # Calculate the linearly interpolated x values\n",
    "    xSteps = LinRange(x0, xN, NSteps + 1)\n",
    "    # Now we want to stack this as a vector in the form\n",
    "    # [x0; u0; x1; ...; uN-1, xN]\n",
    "    nDim = Int64(size(x0, 1) / 2)\n",
    "    sizeXU = 3 * NSteps * nDim + 2 * nDim\n",
    "    XUfull = zeros(sizeXU, 1)\n",
    "\n",
    "    # println(\"Dimensions = $nDim\")\n",
    "\n",
    "    for k in 1:(NSteps + 1)\n",
    "        iStart = 1 + (k - 1) * (3 * nDim)\n",
    "        iEnd = iStart + (2 * nDim - 1)\n",
    "        # println(\"Accessing ($iStart, $iEnd)\")\n",
    "        XUfull[iStart:iEnd] = xSteps[k]\n",
    "    end\n",
    "\n",
    "    return XUfull\n",
    "end"
   ]
  },
  {
   "cell_type": "code",
   "execution_count": 239,
   "metadata": {},
   "outputs": [],
   "source": [
    "initTraj = initializeTraj(rocketStart, rocketStart, N)\n",
    "\n",
    "set_value!(tau, initTraj);"
   ]
  },
  {
   "cell_type": "markdown",
   "metadata": {},
   "source": [
    "## Set-Up the LQR Objective Function\n",
    "\n",
    "For this problem, we choose an LQR Objective Function. One can add waypoints or change the weights to craft different optimal trajectories. See http://roboticexplorationlab.org/TrajectoryOptimization.jl/stable/costfunctions.html for more information."
   ]
  },
  {
   "cell_type": "code",
   "execution_count": 240,
   "metadata": {},
   "outputs": [],
   "source": [
    "Q = 0.025 * Diagonal(I, num_states)\n",
    "Qf = 1 * Diagonal(I, num_states)\n",
    "R = 0.25 * Diagonal(I, num_controls);\n",
    "\n",
    "# Initialize and empty sparse array\n",
    "QRFull = spzeros(var_size, var_size)\n",
    "\n",
    "rStart = 1\n",
    "\n",
    "# Put Q and R along the diagonal\n",
    "for k in 1:N\n",
    "    rEnd = rStart + num_states - 1\n",
    "    QRFull[rStart:rEnd, rStart:rEnd] = Q\n",
    "\n",
    "    rStart += num_states\n",
    "    rEnd = rStart + num_controls - 1\n",
    "\n",
    "    QRFull[rStart:rEnd, rStart:rEnd] = R\n",
    "\n",
    "    rStart += num_controls\n",
    "end\n",
    "rEnd = rStart + num_states - 1\n",
    "QRFull[rStart:rEnd, rStart:rEnd] = Qf\n",
    "\n",
    "QRFull = Symmetric(QRFull);"
   ]
  },
  {
   "cell_type": "code",
   "execution_count": 258,
   "metadata": {},
   "outputs": [
    {
     "ename": "LAPACKException",
     "evalue": "LAPACKException(1)",
     "output_type": "error",
     "traceback": [
      "LAPACKException(1)",
      "",
      "Stacktrace:",
      " [1] chklapackerror at D:\\buildbot\\worker\\package_win64\\build\\usr\\share\\julia\\stdlib\\v1.4\\LinearAlgebra\\src\\lapack.jl:38 [inlined]",
      " [2] syevr!(::Char, ::Char, ::Char, ::Array{Float64,2}, ::Float64, ::Float64, ::Int64, ::Int64, ::Float64) at D:\\buildbot\\worker\\package_win64\\build\\usr\\share\\julia\\stdlib\\v1.4\\LinearAlgebra\\src\\lapack.jl:5085",
      " [3] eigvals! at D:\\buildbot\\worker\\package_win64\\build\\usr\\share\\julia\\stdlib\\v1.4\\LinearAlgebra\\src\\symmetric.jl:717 [inlined]",
      " [4] eigvals at D:\\buildbot\\worker\\package_win64\\build\\usr\\share\\julia\\stdlib\\v1.4\\LinearAlgebra\\src\\symmetric.jl:723 [inlined]",
      " [5] quadform(::Variable, ::Symmetric{Float64,SparseMatrixCSC{Float64,Int64}}) at C:\\Users\\Daniel N\\.julia\\packages\\Convex\\aYxJA\\src\\atoms\\second_order_cone\\quadform.jl:12",
      " [6] top-level scope at In[258]:1"
     ]
    }
   ],
   "source": [
    "# Set the Objective Function to the problem\n",
    "problem = minimize(quadform(tau, QRFull / 2))"
   ]
  },
  {
   "cell_type": "code",
   "execution_count": 242,
   "metadata": {},
   "outputs": [
    {
     "data": {
      "image/png": "[encoded data removed]"
     },
     "execution_count": 242,
     "metadata": {},
     "output_type": "execute_result"
    }
   ],
   "source": [
    "spy(QRFull)"
   ]
  },
  {
   "cell_type": "markdown",
   "metadata": {},
   "source": [
    "## Define the Constraints\n",
    "\n",
    "For the simple rocket soft-landing problem, we will include 5 constraints:\n",
    "1. Dynamics Constraints ($A \\tau = B$)\n",
    "2. Initial and Terminal Constraints ($x[0] = x_0$ and $x[N] = x_N$)\n",
    "2. Crash Prevention Constraint ($z > 0$)\n",
    "3. Thrust Magnitude Bounds ($||u||_2 < u_{max}$)\n",
    "4. Thurst Angle Bounds ($||[u_x; u_y]|| ≤ \\alpha \\ u_z$)"
   ]
  },
  {
   "cell_type": "code",
   "execution_count": 243,
   "metadata": {},
   "outputs": [
    {
     "name": "stderr",
     "output_type": "stream",
     "text": [
      "WARNING: redefining constant AStack\n",
      "WARNING: redefining constant BStack\n"
     ]
    },
    {
     "data": {
      "text/plain": [
       "7-element Array{Constraint,1}:\n",
       " == constraint (affine)\n",
       "├─ * (affine; real)\n",
       "│  ├─ 1500×2256 SparseMatrixCSC{Float64,Int64}\n",
       "│  └─ 2256-element real variable (id: 632…217)\n",
       "└─ 1500×1 SparseMatrixCSC{Float64,Int64}\n",
       " == constraint (affine)\n",
       "├─ index (affine; real)\n",
       "│  └─ 2256-element real variable (id: 632…217)\n",
       "└─ 6-element Array{Float64,1}\n",
       " >= constraint (affine)\n",
       "├─ index (affine; real)\n",
       "│  └─ 2256-element real variable (id: 632…217)\n",
       "└─ -10000\n",
       " == constraint (affine)\n",
       "├─ index (affine; real)\n",
       "│  └─ 2256-element real variable (id: 632…217)\n",
       "└─ 6-element Array{Float64,1}\n",
       " >= constraint (affine)\n",
       "├─ * (affine; real)\n",
       "│  ├─ 2256×2256 SparseMatrixCSC{Float64,Int64}\n",
       "│  └─ 2256-element real variable (id: 632…217)\n",
       "└─ 0\n",
       " <= constraint (convex)\n",
       "├─ norm2 (convex; positive)\n",
       "│  └─ index (affine; real)\n",
       "│     └─ 2256-element real variable (id: 632…217)\n",
       "└─ 19.62\n",
       " == constraint (affine)\n",
       "├─ * (affine; real)\n",
       "│  ├─ 1500×2256 SparseMatrixCSC{Float64,Int64}\n",
       "│  └─ 2256-element real variable (id: 632…217)\n",
       "└─ 1500×1 SparseMatrixCSC{Float64,Int64}"
      ]
     },
     "execution_count": 243,
     "metadata": {},
     "output_type": "execute_result"
    }
   ],
   "source": [
    "# Add the Dynamics Constraints\n",
    "const AStack, BStack = rocketDynamicsStack(rocket, num_controls, N)\n",
    "\n",
    "problem.constraints += AStack * tau == BStack"
   ]
  },
  {
   "cell_type": "code",
   "execution_count": 244,
   "metadata": {},
   "outputs": [
    {
     "data": {
      "text/plain": [
       "10-element Array{Constraint,1}:\n",
       " == constraint (affine)\n",
       "├─ * (affine; real)\n",
       "│  ├─ 1500×2256 SparseMatrixCSC{Float64,Int64}\n",
       "│  └─ 2256-element real variable (id: 632…217)\n",
       "└─ 1500×1 SparseMatrixCSC{Float64,Int64}\n",
       " == constraint (affine)\n",
       "├─ index (affine; real)\n",
       "│  └─ 2256-element real variable (id: 632…217)\n",
       "└─ 6-element Array{Float64,1}\n",
       " >= constraint (affine)\n",
       "├─ index (affine; real)\n",
       "│  └─ 2256-element real variable (id: 632…217)\n",
       "└─ -10000\n",
       " == constraint (affine)\n",
       "├─ index (affine; real)\n",
       "│  └─ 2256-element real variable (id: 632…217)\n",
       "└─ 6-element Array{Float64,1}\n",
       " >= constraint (affine)\n",
       "├─ * (affine; real)\n",
       "│  ├─ 2256×2256 SparseMatrixCSC{Float64,Int64}\n",
       "│  └─ 2256-element real variable (id: 632…217)\n",
       "└─ 0\n",
       " <= constraint (convex)\n",
       "├─ norm2 (convex; positive)\n",
       "│  └─ index (affine; real)\n",
       "│     └─ 2256-element real variable (id: 632…217)\n",
       "└─ 19.62\n",
       " == constraint (affine)\n",
       "├─ * (affine; real)\n",
       "│  ├─ 1500×2256 SparseMatrixCSC{Float64,Int64}\n",
       "│  └─ 2256-element real variable (id: 632…217)\n",
       "└─ 1500×1 SparseMatrixCSC{Float64,Int64}\n",
       " == constraint (affine)\n",
       "├─ index (affine; real)\n",
       "│  └─ 2256-element real variable (id: 632…217)\n",
       "└─ 6-element Array{Float64,1}\n",
       " >= constraint (affine)\n",
       "├─ index (affine; real)\n",
       "│  └─ 2256-element real variable (id: 632…217)\n",
       "└─ -10000\n",
       " == constraint (affine)\n",
       "├─ index (affine; real)\n",
       "│  └─ 2256-element real variable (id: 632…217)\n",
       "└─ 6-element Array{Float64,1}"
      ]
     },
     "execution_count": 244,
     "metadata": {},
     "output_type": "execute_result"
    }
   ],
   "source": [
    "# Add Initial and Terminal Constraints\n",
    "large_num = 10000\n",
    "\n",
    "problem.constraints += tau[1:6] == rocketStart\n",
    "problem.constraints += tau[7:(end - 6)] > -large_num\n",
    "problem.constraints += tau[(end - 5):end] == rocketEnd"
   ]
  },
  {
   "cell_type": "code",
   "execution_count": 245,
   "metadata": {},
   "outputs": [
    {
     "data": {
      "text/plain": [
       "11-element Array{Constraint,1}:\n",
       " == constraint (affine)\n",
       "├─ * (affine; real)\n",
       "│  ├─ 1500×2256 SparseMatrixCSC{Float64,Int64}\n",
       "│  └─ 2256-element real variable (id: 632…217)\n",
       "└─ 1500×1 SparseMatrixCSC{Float64,Int64}\n",
       " == constraint (affine)\n",
       "├─ index (affine; real)\n",
       "│  └─ 2256-element real variable (id: 632…217)\n",
       "└─ 6-element Array{Float64,1}\n",
       " >= constraint (affine)\n",
       "├─ index (affine; real)\n",
       "│  └─ 2256-element real variable (id: 632…217)\n",
       "└─ -10000\n",
       " == constraint (affine)\n",
       "├─ index (affine; real)\n",
       "│  └─ 2256-element real variable (id: 632…217)\n",
       "└─ 6-element Array{Float64,1}\n",
       " >= constraint (affine)\n",
       "├─ * (affine; real)\n",
       "│  ├─ 2256×2256 SparseMatrixCSC{Float64,Int64}\n",
       "│  └─ 2256-element real variable (id: 632…217)\n",
       "└─ 0\n",
       " <= constraint (convex)\n",
       "├─ norm2 (convex; positive)\n",
       "│  └─ index (affine; real)\n",
       "│     └─ 2256-element real variable (id: 632…217)\n",
       "└─ 19.62\n",
       " == constraint (affine)\n",
       "├─ * (affine; real)\n",
       "│  ├─ 1500×2256 SparseMatrixCSC{Float64,Int64}\n",
       "│  └─ 2256-element real variable (id: 632…217)\n",
       "└─ 1500×1 SparseMatrixCSC{Float64,Int64}\n",
       " == constraint (affine)\n",
       "├─ index (affine; real)\n",
       "│  └─ 2256-element real variable (id: 632…217)\n",
       "└─ 6-element Array{Float64,1}\n",
       " >= constraint (affine)\n",
       "├─ index (affine; real)\n",
       "│  └─ 2256-element real variable (id: 632…217)\n",
       "└─ -10000\n",
       " == constraint (affine)\n",
       "├─ index (affine; real)\n",
       "│  └─ 2256-element real variable (id: 632…217)\n",
       "└─ 6-element Array{Float64,1}\n",
       " >= constraint (affine)\n",
       "├─ * (affine; real)\n",
       "│  ├─ 2256×2256 SparseMatrixCSC{Float64,Int64}\n",
       "│  └─ 2256-element real variable (id: 632…217)\n",
       "└─ 0"
      ]
     },
     "execution_count": 245,
     "metadata": {},
     "output_type": "execute_result"
    }
   ],
   "source": [
    "# Add the Ground Constraint\n",
    "ground_mat = spzeros(var_size, var_size)\n",
    "\n",
    "currInd = 3\n",
    "currRow = 1\n",
    "while currRow <= N\n",
    "    ground_mat[currRow, currInd] = 1\n",
    "\n",
    "    currRow += 1\n",
    "    currInd += 3 * Int(num_states / 2)\n",
    "end\n",
    "\n",
    "problem.constraints += ground_mat * tau > 0"
   ]
  },
  {
   "cell_type": "code",
   "execution_count": 246,
   "metadata": {},
   "outputs": [
    {
     "data": {
      "text/plain": [
       "12-element Array{Constraint,1}:\n",
       " == constraint (affine)\n",
       "├─ * (affine; real)\n",
       "│  ├─ 1500×2256 SparseMatrixCSC{Float64,Int64}\n",
       "│  └─ 2256-element real variable (id: 632…217)\n",
       "└─ 1500×1 SparseMatrixCSC{Float64,Int64}\n",
       " == constraint (affine)\n",
       "├─ index (affine; real)\n",
       "│  └─ 2256-element real variable (id: 632…217)\n",
       "└─ 6-element Array{Float64,1}\n",
       " >= constraint (affine)\n",
       "├─ index (affine; real)\n",
       "│  └─ 2256-element real variable (id: 632…217)\n",
       "└─ -10000\n",
       " == constraint (affine)\n",
       "├─ index (affine; real)\n",
       "│  └─ 2256-element real variable (id: 632…217)\n",
       "└─ 6-element Array{Float64,1}\n",
       " >= constraint (affine)\n",
       "├─ * (affine; real)\n",
       "│  ├─ 2256×2256 SparseMatrixCSC{Float64,Int64}\n",
       "│  └─ 2256-element real variable (id: 632…217)\n",
       "└─ 0\n",
       " <= constraint (convex)\n",
       "├─ norm2 (convex; positive)\n",
       "│  └─ index (affine; real)\n",
       "│     └─ 2256-element real variable (id: 632…217)\n",
       "└─ 19.62\n",
       " == constraint (affine)\n",
       "├─ * (affine; real)\n",
       "│  ├─ 1500×2256 SparseMatrixCSC{Float64,Int64}\n",
       "│  └─ 2256-element real variable (id: 632…217)\n",
       "└─ 1500×1 SparseMatrixCSC{Float64,Int64}\n",
       " == constraint (affine)\n",
       "├─ index (affine; real)\n",
       "│  └─ 2256-element real variable (id: 632…217)\n",
       "└─ 6-element Array{Float64,1}\n",
       " >= constraint (affine)\n",
       "├─ index (affine; real)\n",
       "│  └─ 2256-element real variable (id: 632…217)\n",
       "└─ -10000\n",
       " == constraint (affine)\n",
       "├─ index (affine; real)\n",
       "│  └─ 2256-element real variable (id: 632…217)\n",
       "└─ 6-element Array{Float64,1}\n",
       " >= constraint (affine)\n",
       "├─ * (affine; real)\n",
       "│  ├─ 2256×2256 SparseMatrixCSC{Float64,Int64}\n",
       "│  └─ 2256-element real variable (id: 632…217)\n",
       "└─ 0\n",
       " <= constraint (convex)\n",
       "├─ norm2 (convex; positive)\n",
       "│  └─ index (affine; real)\n",
       "│     └─ 2256-element real variable (id: 632…217)\n",
       "└─ 19.62"
      ]
     },
     "execution_count": 246,
     "metadata": {},
     "output_type": "execute_result"
    }
   ],
   "source": [
    "# Add Thrust Magnitude Bounds\n",
    "\n",
    "perWeightMax = 2\n",
    "\n",
    "problem.constraints += norm(tau[7:9], 2) < mass * norm(grav[3]) * perWeightMax"
   ]
  },
  {
   "cell_type": "markdown",
   "metadata": {},
   "source": [
    "## Select the solver options\n",
    "\n",
    "For more information, please visit https://github.com/RoboticExplorationLab/Altro.jl/blob/master/README.md for more details on the solver options.\n",
    "\n",
    "Using the Altro package, we can now specify parameters and solve the problem."
   ]
  },
  {
   "cell_type": "markdown",
   "metadata": {},
   "source": [
    "# Step 2: Solve the initial trajectory optimization problem"
   ]
  },
  {
   "cell_type": "markdown",
   "metadata": {},
   "source": [
    "Show summary is set to <code>true</code> to print the solver speed. In general the solve will take about 23 iterations and 20-40 ms to complete. The constraint violation should be around $10^{-4}$ or better."
   ]
  },
  {
   "cell_type": "code",
   "execution_count": 247,
   "metadata": {},
   "outputs": [
    {
     "data": {
      "text/plain": [
       "minimize\n",
       "└─ * (convex; positive)\n",
       "   ├─ 1\n",
       "   └─ qol_elem (convex; positive)\n",
       "      ├─ norm2 (convex; positive)\n",
       "      │  └─ …\n",
       "      └─ [1.0]\n",
       "subject to\n",
       "├─ == constraint (affine)\n",
       "│  ├─ * (affine; real)\n",
       "│  │  ├─ 1500×2256 SparseMatrixCSC{Float64,Int64}\n",
       "│  │  └─ 2256-element real variable (id: 632…217)\n",
       "│  └─ 1500×1 SparseMatrixCSC{Float64,Int64}\n",
       "├─ == constraint (affine)\n",
       "│  ├─ index (affine; real)\n",
       "│  │  └─ 2256-element real variable (id: 632…217)\n",
       "│  └─ 6-element Array{Float64,1}\n",
       "├─ >= constraint (affine)\n",
       "│  ├─ index (affine; real)\n",
       "│  │  └─ 2256-element real variable (id: 632…217)\n",
       "│  └─ -10000\n",
       "├─ == constraint (affine)\n",
       "│  ├─ index (affine; real)\n",
       "│  │  └─ 2256-element real variable (id: 632…217)\n",
       "│  └─ 6-element Array{Float64,1}\n",
       "├─ >= constraint (affine)\n",
       "│  ├─ * (affine; real)\n",
       "│  │  ├─ 2256×2256 SparseMatrixCSC{Float64,Int64}\n",
       "│  │  └─ 2256-element real variable (id: 632…217)\n",
       "│  └─ 0\n",
       "├─ <= constraint (convex)\n",
       "│  ├─ norm2 (convex; positive)\n",
       "│  │  └─ index (affine; real)\n",
       "│  │     └─ …\n",
       "│  └─ 19.62\n",
       "├─ == constraint (affine)\n",
       "│  ├─ * (affine; real)\n",
       "│  │  ├─ 1500×2256 SparseMatrixCSC{Float64,Int64}\n",
       "│  │  └─ 2256-element real variable (id: 632…217)\n",
       "│  └─ 1500×1 SparseMatrixCSC{Float64,Int64}\n",
       "├─ == constraint (affine)\n",
       "│  ├─ index (affine; real)\n",
       "│  │  └─ 2256-element real variable (id: 632…217)\n",
       "│  └─ 6-element Array{Float64,1}\n",
       "├─ >= constraint (affine)\n",
       "│  ├─ index (affine; real)\n",
       "│  │  └─ 2256-element real variable (id: 632…217)\n",
       "│  └─ -10000\n",
       "├─ == constraint (affine)\n",
       "│  ├─ index (affine; real)\n",
       "│  │  └─ 2256-element real variable (id: 632…217)\n",
       "│  └─ 6-element Array{Float64,1}\n",
       "├─ >= constraint (affine)\n",
       "│  ├─ * (affine; real)\n",
       "│  │  ├─ 2256×2256 SparseMatrixCSC{Float64,Int64}\n",
       "│  │  └─ 2256-element real variable (id: 632…217)\n",
       "│  └─ 0\n",
       "└─ <= constraint (convex)\n",
       "   ├─ norm2 (convex; positive)\n",
       "   │  └─ index (affine; real)\n",
       "   │     └─ …\n",
       "   └─ 19.62\n",
       "\n",
       "termination status: ALMOST_OPTIMAL\n",
       "primal status: NEARLY_FEASIBLE_POINT\n",
       "dual status: NEARLY_FEASIBLE_POINT"
      ]
     },
     "execution_count": 247,
     "metadata": {},
     "output_type": "execute_result"
    }
   ],
   "source": [
    "problem"
   ]
  },
  {
   "cell_type": "markdown",
   "metadata": {},
   "source": [
    "Now we can solve it and show the summary"
   ]
  },
  {
   "cell_type": "code",
   "execution_count": 248,
   "metadata": {},
   "outputs": [
    {
     "name": "stderr",
     "output_type": "stream",
     "text": [
      "┌ Warning: Problem status INFEASIBLE; solution may be inaccurate.\n",
      "└ @ Convex C:\\Users\\Daniel N\\.julia\\packages\\Convex\\aYxJA\\src\\solution.jl:252\n"
     ]
    },
    {
     "name": "stdout",
     "output_type": "stream",
     "text": [
      "\n",
      "ECOS 2.0.5 - (C) embotech GmbH, Zurich Switzerland, 2012-15. Web: www.embotech.com/ECOS\n",
      "\n",
      "It     pcost       dcost      gap   pres   dres    k/t    mu     step   sigma     IR    |   BT\n",
      " 0  +0.000e+00  -2.244e+07  +4e+07  2e-01  8e-01  1e+00  6e+03    ---    ---    2  1  - |  -  - \n",
      " 1  +7.064e+02  -2.218e+07  +2e+07  3e-01  2e-04  5e+03  3e+03  0.8992  5e-01   2  1  1 |  0  0\n",
      " 2  +2.689e+03  -2.153e+07  +1e+07  4e-01  7e-05  9e+03  2e+03  0.6543  4e-01   2  1  1 |  0  0\n",
      " 3  +2.348e+04  -1.645e+07  +3e+06  3e-01  2e-05  3e+04  5e+02  0.8065  2e-02   1  1  1 |  0  0\n",
      " 4  +6.466e+04  -1.356e+07  +9e+05  3e-01  2e-05  8e+04  1e+02  0.8109  1e-01   2  2  1 |  0  0\n",
      " 5  +5.624e+05  -5.410e+06  +6e+04  2e-01  7e-06  7e+05  9e+00  0.9813  3e-02   2  1  1 |  0  0\n",
      " 6  +1.774e+07  +3.184e+07  +2e+03  2e-01  7e-06  2e+07  3e-01  0.9690  1e-04   2  1  2 |  0  0\n",
      "\n",
      "PRIMAL INFEASIBLE (within feastol=8.0e-10).\n",
      "Runtime: 0.027210 seconds.\n",
      "\n"
     ]
    }
   ],
   "source": [
    "solve!(problem, ECOS.Optimizer)"
   ]
  },
  {
   "cell_type": "code",
   "execution_count": 249,
   "metadata": {},
   "outputs": [
    {
     "data": {
      "text/plain": [
       "minimize\n",
       "└─ * (convex; positive)\n",
       "   ├─ 1\n",
       "   └─ qol_elem (convex; positive)\n",
       "      ├─ norm2 (convex; positive)\n",
       "      │  └─ …\n",
       "      └─ [1.0]\n",
       "subject to\n",
       "├─ == constraint (affine)\n",
       "│  ├─ * (affine; real)\n",
       "│  │  ├─ 1500×2256 SparseMatrixCSC{Float64,Int64}\n",
       "│  │  └─ 2256-element real variable (id: 632…217)\n",
       "│  └─ 1500×1 SparseMatrixCSC{Float64,Int64}\n",
       "├─ == constraint (affine)\n",
       "│  ├─ index (affine; real)\n",
       "│  │  └─ 2256-element real variable (id: 632…217)\n",
       "│  └─ 6-element Array{Float64,1}\n",
       "├─ >= constraint (affine)\n",
       "│  ├─ index (affine; real)\n",
       "│  │  └─ 2256-element real variable (id: 632…217)\n",
       "│  └─ -10000\n",
       "├─ == constraint (affine)\n",
       "│  ├─ index (affine; real)\n",
       "│  │  └─ 2256-element real variable (id: 632…217)\n",
       "│  └─ 6-element Array{Float64,1}\n",
       "├─ >= constraint (affine)\n",
       "│  ├─ * (affine; real)\n",
       "│  │  ├─ 2256×2256 SparseMatrixCSC{Float64,Int64}\n",
       "│  │  └─ 2256-element real variable (id: 632…217)\n",
       "│  └─ 0\n",
       "├─ <= constraint (convex)\n",
       "│  ├─ norm2 (convex; positive)\n",
       "│  │  └─ index (affine; real)\n",
       "│  │     └─ …\n",
       "│  └─ 19.62\n",
       "├─ == constraint (affine)\n",
       "│  ├─ * (affine; real)\n",
       "│  │  ├─ 1500×2256 SparseMatrixCSC{Float64,Int64}\n",
       "│  │  └─ 2256-element real variable (id: 632…217)\n",
       "│  └─ 1500×1 SparseMatrixCSC{Float64,Int64}\n",
       "├─ == constraint (affine)\n",
       "│  ├─ index (affine; real)\n",
       "│  │  └─ 2256-element real variable (id: 632…217)\n",
       "│  └─ 6-element Array{Float64,1}\n",
       "├─ >= constraint (affine)\n",
       "│  ├─ index (affine; real)\n",
       "│  │  └─ 2256-element real variable (id: 632…217)\n",
       "│  └─ -10000\n",
       "├─ == constraint (affine)\n",
       "│  ├─ index (affine; real)\n",
       "│  │  └─ 2256-element real variable (id: 632…217)\n",
       "│  └─ 6-element Array{Float64,1}\n",
       "├─ >= constraint (affine)\n",
       "│  ├─ * (affine; real)\n",
       "│  │  ├─ 2256×2256 SparseMatrixCSC{Float64,Int64}\n",
       "│  │  └─ 2256-element real variable (id: 632…217)\n",
       "│  └─ 0\n",
       "└─ <= constraint (convex)\n",
       "   ├─ norm2 (convex; positive)\n",
       "   │  └─ index (affine; real)\n",
       "   │     └─ …\n",
       "   └─ 19.62\n",
       "\n",
       "termination status: INFEASIBLE\n",
       "primal status: INFEASIBLE_POINT\n",
       "dual status: INFEASIBILITY_CERTIFICATE"
      ]
     },
     "execution_count": 249,
     "metadata": {},
     "output_type": "execute_result"
    }
   ],
   "source": [
    "problem"
   ]
  },
  {
   "cell_type": "markdown",
   "metadata": {},
   "source": [
    "Access the Trajectory"
   ]
  },
  {
   "cell_type": "code",
   "execution_count": 250,
   "metadata": {},
   "outputs": [
    {
     "data": {
      "text/latex": [
       "1 . 7 7 3 9 3 4 6 2 4 8 1 6 9 6 4 e 7"
      ],
      "text/plain": [
       "1.773934624816964e7"
      ]
     },
     "metadata": {},
     "output_type": "display_data"
    },
    {
     "data": {
      "text/plain": [
       "6-element Array{Float64,1}:\n",
       "   5.0\n",
       "   5.0\n",
       "  20.0\n",
       "   0.0\n",
       "   0.0\n",
       " -15.0"
      ]
     },
     "metadata": {},
     "output_type": "display_data"
    },
    {
     "data": {
      "text/plain": [
       "2256-element Array{Float64,1}:\n",
       "     4.999301016526728\n",
       "     4.999301016526757\n",
       "    19.99980918249504\n",
       "    -0.0019749286868016016\n",
       "    -0.0019749286868012256\n",
       "   -17.501483004022642\n",
       "   389.68976942272417\n",
       "   389.6897694331919\n",
       " -4097.135657503258\n",
       "     3.049955693075254\n",
       "     3.0499556930229628\n",
       "    38.686097563794874\n",
       "   -38.97285690129946\n",
       "     ⋮\n",
       "  -130.80499783740333\n",
       "  -130.80499783737093\n",
       "  -810.1544068146438\n",
       " -1308.0913507354405\n",
       " -1308.0913507350901\n",
       " -8111.385841292759\n",
       "    -0.002710907545552317\n",
       "    -0.002710907545552317\n",
       "    -0.0021542599486614853\n",
       "     0.0020686180698289798\n",
       "     0.0020686180698289936\n",
       "     0.001588657316458726"
      ]
     },
     "execution_count": 250,
     "metadata": {},
     "output_type": "execute_result"
    }
   ],
   "source": [
    "display(problem.optval)\n",
    "display(rocketStart)\n",
    "result_traj = evaluate(tau)"
   ]
  },
  {
   "cell_type": "code",
   "execution_count": 251,
   "metadata": {},
   "outputs": [],
   "source": [
    "kStart = 1\n",
    "maxK = length(tau)\n",
    "# println(\"Max = $maxK\")\n",
    "\n",
    "xList = []\n",
    "vList = []\n",
    "uList = []\n",
    "\n",
    "while kStart < (maxK - 2 * num_controls)\n",
    "    # println(\"Accessing $kStart to $(kStart + 3 * nDim - 1)\")\n",
    "    push!(xList, evaluate(tau)[kStart:kStart + num_controls - 1])\n",
    "    push!(vList, evaluate(tau)[kStart + num_controls:kStart + 2 * num_controls - 1])\n",
    "    push!(uList, evaluate(tau)[kStart + 2 * num_controls:kStart + 3 * num_controls - 1])\n",
    "\n",
    "    kStart = kStart + 3 * num_controls\n",
    "end"
   ]
  },
  {
   "cell_type": "code",
   "execution_count": 252,
   "metadata": {},
   "outputs": [],
   "source": [
    "xs = [x[1] for x in xList]\n",
    "ys = [x[2] for x in xList]\n",
    "zs = [x[3] for x in xList];"
   ]
  },
  {
   "cell_type": "code",
   "execution_count": 253,
   "metadata": {},
   "outputs": [
    {
     "data": {
      "image/png": "[encoded data removed]"
     },
     "execution_count": 253,
     "metadata": {},
     "output_type": "execute_result"
    }
   ],
   "source": [
    "plot(xs, zs)"
   ]
  },
  {
   "cell_type": "code",
   "execution_count": 254,
   "metadata": {},
   "outputs": [
    {
     "data": {
      "image/png": "[encoded data removed]"
     },
     "execution_count": 254,
     "metadata": {},
     "output_type": "execute_result"
    }
   ],
   "source": [
    "plot3d(xs, ys, zs)"
   ]
  },
  {
   "cell_type": "code",
   "execution_count": 255,
   "metadata": {},
   "outputs": [],
   "source": [
    "uxs = [u[1] for u in uList]\n",
    "uys = [u[2] for u in uList]\n",
    "uzs = [u[3] for u in uList];"
   ]
  },
  {
   "cell_type": "code",
   "execution_count": 256,
   "metadata": {},
   "outputs": [
    {
     "data": {
      "image/png": "[encoded data removed]"
     },
     "execution_count": 256,
     "metadata": {},
     "output_type": "execute_result"
    }
   ],
   "source": [
    "plot(uxs)\n",
    "plot!(uys)"
   ]
  },
  {
   "cell_type": "code",
   "execution_count": 257,
   "metadata": {},
   "outputs": [
    {
     "data": {
      "image/png": "[encoded data removed]"
     },
     "execution_count": 257,
     "metadata": {},
     "output_type": "execute_result"
    }
   ],
   "source": [
    "plot(-uzs)"
   ]
  },
  {
   "cell_type": "markdown",
   "metadata": {},
   "source": [
    "## Step 3: Integrate the Dynamics to Verify the Dynamics Constraint\n",
    "\n",
    "In Matlab, we would use ODE 45, but in the <code>DifferentialEquations.jl</code> package we can either (1) just let the <code>solve</code> method figure it out or (2) specify a solver such as <code>Tsit5</code>."
   ]
  },
  {
   "cell_type": "code",
   "execution_count": null,
   "metadata": {},
   "outputs": [],
   "source": [
    "num_timesteps = 3\n",
    "\n",
    "get_controls(t) = U[min(Int(floor(t/dt)) + 1, size(U,1))]\n",
    "f(y,p,t) = dynamics(model, y, get_controls(t))\n",
    "\n",
    "states_y0 = x0\n",
    "tspan = (0.0, dt * num_timesteps)\n",
    "controls_p0 = get_controls(tspan[1])\n",
    "\n",
    "# Use the DifferentialEquations.jl Package\n",
    "ode_prob = ODEProblem(f, states_y0, tspan, controls_p0)\n",
    "ode_sol = solve(ode_prob, Tsit5(), reltol=1e-10, abstol=1e-10);"
   ]
  },
  {
   "cell_type": "markdown",
   "metadata": {},
   "source": [
    "## Step 4: Warm-Start the next iteration"
   ]
  },
  {
   "cell_type": "code",
   "execution_count": null,
   "metadata": {},
   "outputs": [],
   "source": [
    "# warm_start_states = X[num_timesteps:end]\n",
    "warm_start_controls = U[num_timesteps:end]\n",
    "x0 = ode_sol.u[end]\n",
    "\n",
    "N = size(warm_start_controls, 1) + 1\n",
    "tf = tf - dt * num_timesteps\n",
    "dt = tf / (N - 1)"
   ]
  },
  {
   "cell_type": "markdown",
   "metadata": {},
   "source": [
    "## Step 5 & 6: Solve the Problem and Repeat\n",
    "\n",
    "Now that we've seen each step in detail, let's put it all into a function and repeat it until landing."
   ]
  },
  {
   "cell_type": "code",
   "execution_count": null,
   "metadata": {},
   "outputs": [],
   "source": [
    "function diffEq_Model(model::Rocket, U, dt)\n",
    "    get_controls(t) = U[min(Int(floor(t/dt)) + 1, size(U,1))]\n",
    "    f(y,p,t) = dynamics(model, y, get_controls(t))\n",
    "\n",
    "    states_y0 = x0\n",
    "    tspan = (0.0, dt * num_timesteps)\n",
    "    controls_p0 = get_controls(tspan[1])\n",
    "\n",
    "    # Use the DifferentialEquations.jl Package\n",
    "    ode_prob = ODEProblem(f, states_y0, tspan, controls_p0)\n",
    "    ode_sol = solve(ode_prob, Tsit5(), reltol=1e-10, abstol=1e-10);\n",
    "\n",
    "    return ode_sol.u[end]\n",
    "end\n",
    "\n",
    "function MPC(model::Rocket, solver, x0, U_init, N, tf)\n",
    "    \n",
    "#     println(\"Setting Up Problem\")\n",
    "    # Reset the objective function\n",
    "    obj = LQRObjective(Q,R,Qf,xf,N)\n",
    "    \n",
    "    # Create Empty ConstraintList\n",
    "    conSet = ConstraintList(n,m,N)\n",
    "\n",
    "    # Bounds\n",
    "    ground_level = 0.0 # Crash Prevention Constraint\n",
    "    umax = 11 * model.mass # Simplified Max Thrust Constraint\n",
    "    theta = 20 # deg. Max Angle Constraint\n",
    "    ulateral_max = umax * sind(theta)\n",
    "\n",
    "    # To ignore constraints 2 and 3, use the code below\n",
    "    # bnd = BoundConstraint(n,m, x_min=[-Inf, -Inf, ground_level,\n",
    "    #                                   -Inf, -Inf, -Inf])\n",
    "\n",
    "    # To include constraints 2 and 3, use the code below\n",
    "    bnd = BoundConstraint(n,m, x_min=[-Inf, -Inf, ground_level,\n",
    "                                      -Inf, -Inf, -Inf],\n",
    "                               u_min=[-ulateral_max, -ulateral_max, 0   ],\n",
    "                               u_max=[ ulateral_max,  ulateral_max, umax])\n",
    "    add_constraint!(conSet, bnd, 1:N-1)\n",
    "\n",
    "    # Goal Constraint that the rocket must reach the landing site.\n",
    "    goal = GoalConstraint(xf)\n",
    "    add_constraint!(conSet, goal, N)\n",
    "    \n",
    "    # Package the objective and constraints into a \"problem\" type\n",
    "    prob = Problem(model, obj, xf, tf, x0=x0, constraints=conSet);\n",
    "    \n",
    "#     println(\"Initial Controls\")\n",
    "    # Set the current controls (ideally warm-started)\n",
    "    initial_controls!(prob, U_init)\n",
    "    rollout!(prob);\n",
    "    \n",
    "#     println(\"Solving\")\n",
    "    # Solve the new trajectory\n",
    "    a_s = ALTROSolver(prob, opts)\n",
    "    solve!(a_s);\n",
    "    \n",
    "#     println(\"Accessing\")\n",
    "    # Access the states and controls\n",
    "    X = states(a_s)\n",
    "    U = controls(a_s)\n",
    "    \n",
    "#     println(\"Propogate System\")\n",
    "    # Use the dynamics model (and any disturbances) and propogate forward in time\n",
    "    x0 = diffEq_Model(model, U, dt)\n",
    "    \n",
    "#     println(\"Warm-Start Next Iteration\")\n",
    "    U_new = U[num_timesteps:end]\n",
    "    N = size(U_new, 1) + 1\n",
    "    tf = tf - dt * num_timesteps\n",
    "    \n",
    "    # Warm-Start the Next Iteration\n",
    "    return x0, U_new, N, tf\n",
    "    \n",
    "end"
   ]
  },
  {
   "cell_type": "code",
   "execution_count": null,
   "metadata": {},
   "outputs": [],
   "source": [
    "a = MPC(model, ALTROSolver, x0, warm_start_controls, N, tf);"
   ]
  },
  {
   "cell_type": "markdown",
   "metadata": {},
   "source": [
    "Execute the MPC forward until landed"
   ]
  },
  {
   "cell_type": "code",
   "execution_count": null,
   "metadata": {},
   "outputs": [],
   "source": [
    "completion_threshold = 1e-4\n",
    "\n",
    "opts = SolverOptions(\n",
    "    cost_tolerance_intermediate=1e-2,\n",
    "    penalty_scaling=10.,\n",
    "    penalty_initial=1.0\n",
    ")\n",
    "\n",
    "saved_states = []\n",
    "\n",
    "while norm(x0 - xf) > completion_threshold\n",
    "    x0, warm_start_controls, N, tf = MPC(model, ALTROSolver, x0, warm_start_controls, N, tf)\n",
    "    \n",
    "    println(\"\\nCurrently at time $tf remaining and $(norm(x0 - xf)) away.\")\n",
    "    println(\"$N Steps at $tf s left. Hence, dt = $(tf / (N-1))\")\n",
    "    \n",
    "    # If the timespan is too low (e.g. due to disturbances)\n",
    "    tf = max(0.5, tf)\n",
    "    \n",
    "    push!(saved_states, x0)\n",
    "end"
   ]
  },
  {
   "cell_type": "code",
   "execution_count": null,
   "metadata": {},
   "outputs": [],
   "source": [
    "xs = [x[1] for x in saved_states]\n",
    "zs = [x[3] for x in saved_states];"
   ]
  },
  {
   "cell_type": "markdown",
   "metadata": {},
   "source": [
    "## Plot the trajectory!"
   ]
  },
  {
   "cell_type": "code",
   "execution_count": null,
   "metadata": {},
   "outputs": [],
   "source": [
    "titleText = \"Rocket Soft-Landing Trajectory \\n\" *\n",
    "        \"starting at an initial $(x0[6]) m/s plummet\"\n",
    "filename = \"RocketGroundThrustBound_BarelyFeasible3\"\n",
    "\n",
    "plt_x = plot(xs, zs, label = \"Trajectory\")\n",
    "xlabel!(\"x\")\n",
    "ylabel!(\"z (height)\")\n",
    "title!(titleText)"
   ]
  },
  {
   "cell_type": "code",
   "execution_count": null,
   "metadata": {},
   "outputs": [],
   "source": [
    "plt_ux = plot(uxs, label = \"Ux Control\")\n",
    "hline!([-ulateral_max, ulateral_max], linecolor = :grey, linestyle = :dash,\n",
    "                label = \"Max Lateral Thrust\")\n",
    "# xlabel!(\"time (s)\")\n",
    "ylabel!(\"control (N)\")\n",
    "title!(\"Controls over Time\")\n",
    "\n",
    "plt_uz = plot(uzs, label = \"Uz Control\")\n",
    "hline!([umax], linecolor = :grey, linestyle = :dash, label = \"Max Thrust\")\n",
    "xlabel!(\"time (s)\")\n",
    "ylabel!(\"control (N)\")\n",
    "\n",
    "plt_u = plot(plt_ux, plt_uz, layout = (2, 1))"
   ]
  },
  {
   "cell_type": "markdown",
   "metadata": {},
   "source": [
    "Below is a GIF of the trajectory. This will take several seconds to generate."
   ]
  },
  {
   "cell_type": "code",
   "execution_count": null,
   "metadata": {},
   "outputs": [],
   "source": [
    "xmin = minimum(xs)\n",
    "xmax = maximum(xs)\n",
    "\n",
    "zmin = minimum(zs)\n",
    "zmax = maximum(zs)\n",
    "\n",
    "@gif for i in 1:N\n",
    "    plt = plot(xs[1:i], zs[1:i], label = \"Trajectory\", legend = :topleft)\n",
    "    xlabel!(\"x\")\n",
    "    ylabel!(\"z (height)\")\n",
    "    xlims!(xmin,xmax)\n",
    "    ylims!(zmin,zmax)\n",
    "    title!(titleText)\n",
    "end"
   ]
  },
  {
   "cell_type": "markdown",
   "metadata": {},
   "source": [
    "## Lastly, let's visualize the results in 3D with Meshcat\n",
    "\n",
    "To do this, we need to provide a Mesh to <code>MeshCat</code>. This is due with <code>FileIO</code> and <code>MeshIO</code>."
   ]
  },
  {
   "cell_type": "code",
   "execution_count": null,
   "metadata": {},
   "outputs": [],
   "source": [
    "vis = Visualizer() # Creates a MeshCat Window\n",
    "render(vis) # Renders the window below"
   ]
  },
  {
   "cell_type": "code",
   "execution_count": null,
   "metadata": {},
   "outputs": [],
   "source": [
    "function TrajOptPlots._set_mesh!(vis, model::Rocket)\n",
    "    obj = joinpath(@__DIR__, \"SimpleRocket.obj\")\n",
    "    quad_scaling = 0.085\n",
    "    robot_obj = FileIO.load(obj)\n",
    "    robot_obj.vertices .*= quad_scaling\n",
    "    mat = MeshPhongMaterial(color=colorant\"lightgrey\")\n",
    "    setobject!(vis[\"geom\"], robot_obj, mat)\n",
    "end\n",
    "\n",
    "TrajOptPlots.set_mesh!(vis, model)"
   ]
  },
  {
   "cell_type": "code",
   "execution_count": null,
   "metadata": {},
   "outputs": [],
   "source": [
    "Base.position(::Rocket, x::StaticVector) = SA[x[1], x[2], x[3]]\n",
    "RobotDynamics.orientation(::Rocket, x::StaticVector) = UnitQuaternion(0,0,0,1)\n",
    "\n",
    "visualize!(vis, altro);"
   ]
  },
  {
   "cell_type": "markdown",
   "metadata": {},
   "source": [
    "## Integrate the Dynamics to Verify the Dynamics Constraint\n",
    "\n",
    "In Matlab, we would use ODE 45, but in the <code>DifferentialEquations.jl</code> package we can either (1) just let the <code>solve</code> method figure it out or (2) specify a solver such as <code>Tsit5</code>.\n",
    "\n",
    "The controls change over time and are discretized. Below, a zero-order hold and a first-order hold are implemented for comparison. **We used a zero-order hold in the optimization so a zero-order hold should be used here.**"
   ]
  },
  {
   "cell_type": "code",
   "execution_count": null,
   "metadata": {},
   "outputs": [],
   "source": [
    "get_controls_zero_order_hold(t) = U[min(Int(floor(t/dt)) + 1, size(U,1))]\n",
    "f(y,p,t) = dynamics(model, y, get_controls_zero_order_hold(t))\n",
    "\n",
    "states_y0 = x0\n",
    "tspan = (0.0, tf)\n",
    "controls_p0 = get_controls_zero_order_hold(tspan[1])\n",
    "\n",
    "ode_prob_zoh = ODEProblem(f, states_y0, tspan, controls_p0)\n",
    "@btime solve(ode_prob_zoh, Tsit5(), reltol=1e-10, abstol=1e-10,saveat=dt)\n",
    "ode_sol_zoh = solve(ode_prob_zoh, Tsit5(), reltol=1e-10, abstol=1e-10,saveat=dt);"
   ]
  },
  {
   "cell_type": "code",
   "execution_count": null,
   "metadata": {},
   "outputs": [],
   "source": [
    "function get_controls_first_order_hold(t)\n",
    "    # dt and U are both global variables\n",
    "    tn = t/dt\n",
    "    \n",
    "    t_below = Int(max(1, floor(tn)))\n",
    "    t_above = Int(min(size(U, 1), ceil(tn)))\n",
    "    \n",
    "    if t_below >= t_above\n",
    "        return U[t_below]\n",
    "    end\n",
    "    \n",
    "    slope = (U[t_above] - U[t_below])\n",
    "    return slope * (tn - t_below) + U[t_below]\n",
    "\n",
    "end\n",
    "\n",
    "\n",
    "f(y,p,t) = dynamics(model, y, get_controls_first_order_hold(t))\n",
    "\n",
    "states_y0 = x0\n",
    "tspan = (0.0, tf)\n",
    "controls_p0 = get_controls_first_order_hold(tspan[1])\n",
    "\n",
    "ode_prob_foh = ODEProblem(f, states_y0, tspan, controls_p0)\n",
    "@btime solve(ode_prob_foh, Tsit5(), reltol=1e-10, abstol=1e-10,saveat=dt)\n",
    "ode_sol_foh = solve(ode_prob_foh, Tsit5(), reltol=1e-10, abstol=1e-10,saveat=dt);"
   ]
  },
  {
   "cell_type": "code",
   "execution_count": null,
   "metadata": {},
   "outputs": [],
   "source": [
    "err_zoh = norm.(ode_sol_zoh.u - X[1:(Int(tspan[2]/dt)+1)])\n",
    "err_foh = norm.(ode_sol_foh.u - X[1:(Int(tspan[2]/dt)+1)])\n",
    "\n",
    "plot(ode_sol_zoh.t, err_zoh, yaxis = :log, label = \"Zero-Order Hold\")\n",
    "plot!(ode_sol_foh.t, err_foh, yaxis = :log, label = \"First-Order Hold\")\n",
    "xlabel!(\"Time (s)\")\n",
    "ylabel!(\"Dynamics Error\")\n",
    "title!(\"Comparison in State Vector expected from ALTRO Solver \\n to Integrated Dynamics Model\")"
   ]
  },
  {
   "cell_type": "code",
   "execution_count": null,
   "metadata": {},
   "outputs": [],
   "source": []
  }
 ],
 "metadata": {
  "kernelspec": {
   "display_name": "Julia 1.4.2",
   "language": "julia",
   "name": "julia-1.4"
  },
  "language_info": {
   "file_extension": ".jl",
   "mimetype": "application/julia",
   "name": "julia",
   "version": "1.4.2"
  }
 },
 "nbformat": 4,
 "nbformat_minor": 4
}
