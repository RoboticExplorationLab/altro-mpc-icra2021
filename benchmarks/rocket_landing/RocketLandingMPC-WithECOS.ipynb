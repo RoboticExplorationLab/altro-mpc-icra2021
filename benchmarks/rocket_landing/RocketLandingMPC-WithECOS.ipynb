{
 "cells": [
  {
   "cell_type": "markdown",
   "metadata": {},
   "source": [
    "# Model Predictive Control Rocket Soft-Landing Problem\n",
    "\n",
    "This notebook is a walkthough of the ALTRO solver for the MPC Rocket Soft-Landing Problem (i.e. the general control challenge of landing a rocket at rest at a designated landing site). In the simplest case, we treat the rocket as a sphere landing on a flat surface with no atmosphere. This approximation is reasonable when the rocket is near the ground and entering the final part of the descent.\n",
    "\n",
    "**This files focuses on the MPC problem and comparing the result to other solvers. For the simple (non-MPC) application, please visit the <code>RocketLandingSimplified.ipynb</code> file. Thanks!**"
   ]
  },
  {
   "cell_type": "code",
   "execution_count": 96,
   "metadata": {},
   "outputs": [],
   "source": [
    "# using Pkg\n",
    "# Pkg.activate(\".\")\n",
    "# Pkg.instantiate()"
   ]
  },
  {
   "cell_type": "markdown",
   "metadata": {},
   "source": [
    "## MPC Problem Outline\n",
    "\n",
    "For the MPC application, we must fulfill two critical steps:\n",
    "1. Solve the optimal trajectory and apply the required controls (usually a short horizon)\n",
    "2. Use the prior trajectory to warm-start the next solve\n",
    "\n",
    "In this Jupyter notebook, we will:\n",
    "1. Set up the rocket soft-landing problem \n",
    "2. Solve the initial trajectory optimization problem\n",
    "3. Execute the control (and propagate forward in time)\n",
    "4. Warm-Start the next iteration\n",
    "5. Solve the next trajectory optimization problem\n",
    "6. Repeat steps 3-5 until arrival at the landing location"
   ]
  },
  {
   "cell_type": "markdown",
   "metadata": {},
   "source": [
    "# Step 1: Set-Up the Rocket Soft-Landing Problem"
   ]
  },
  {
   "cell_type": "markdown",
   "metadata": {},
   "source": [
    "## Load Required Packages\n",
    "\n",
    "The <code>Convex</code> package enables us to write the optimization problem. The <code>ECOS</code> package will solve the trajectory optimization problem. <code>StaticArrays</code>, <code>SparseArrays</code>, and <code>LinearAlgebra</code> are required to set-up the appropriate data types.\n",
    "\n",
    "Next, <code>Plots, MeshCat, TrajOptPlots, FileIO,</code> and <code>MeshIO</code> packages are used to visualize the results. Note that the plotting sections will take significantly longer to run than the optimization. \n",
    "\n",
    "Lastly, <code>DifferentialEquations</code> integrates the dynamics forward as a way to show that the dynamics constraints are satisfied.\n",
    "\n",
    "Loading all the packages, especially for plotting and the differential equations integrator can be the longest part of the whole notebook."
   ]
  },
  {
   "cell_type": "code",
   "execution_count": 97,
   "metadata": {},
   "outputs": [
    {
     "name": "stdout",
     "output_type": "stream",
     "text": [
      "Optimization Packages Ready\n",
      "Base Plotting Packages Ready\n",
      "3D Plotting Packages Ready\n",
      "Differential Equations Ready\n"
     ]
    }
   ],
   "source": [
    "using Convex\n",
    "using ECOS\n",
    "using StaticArrays, SparseArrays, LinearAlgebra\n",
    "println(\"Optimization Packages Ready\")\n",
    "\n",
    "using Plots\n",
    "pyplot()\n",
    "println(\"Base Plotting Packages Ready\")\n",
    "\n",
    "using MeshCat, TrajOptPlots\n",
    "using FileIO, MeshIO\n",
    "println(\"3D Plotting Packages Ready\")\n",
    "\n",
    "import DifferentialEquations.solve, DifferentialEquations.ODEProblem, DifferentialEquations.Tsit5\n",
    "using BenchmarkTools\n",
    "println(\"Differential Equations Ready\")"
   ]
  },
  {
   "cell_type": "markdown",
   "metadata": {},
   "source": [
    "## Define and Create the Rocket Model\n",
    "\n",
    "Unlike the Cartpole and Quadrotor models, the Rocket Model is not in the <code>RobotZoo.jl</code> package. Instead, here we build off of work found in the repository below to develop a simplified rocket soft-landing scenario (i.e. no second-order cone constraints and no attitude dynamics). https://github.com/danineamati/TrajOptSOCPs.jl\n",
    "\n",
    "In the simplified case, <code>Rocket</code> only holds the mass and the gravity vector. In the full rocket landing problem, the inertia matrix must also be provided. Separately, the thurster's specific impulse can be used to scale the optimal controls."
   ]
  },
  {
   "cell_type": "code",
   "execution_count": 98,
   "metadata": {},
   "outputs": [],
   "source": [
    "struct rocket_simple\n",
    "    mass\n",
    "    isp\n",
    "    grav\n",
    "    deltaTime\n",
    "end"
   ]
  },
  {
   "cell_type": "markdown",
   "metadata": {},
   "source": [
    "## Detail the Rocket Dynamics\n",
    "\n",
    "For the simplified rocket problem, we choose to ignore the attitude dynamics. Applying newton's second law or by forming a Lagrangian, we arrive at the following sparse system\n",
    "\n",
    "$$\\frac{dx}{dt} = Ax + Bu + g$$\n",
    "\n",
    "Where $A = \\begin{bmatrix}0 & I\\\\ 0 & 0 \\end{bmatrix}$, $B = \\begin{bmatrix}0 \\\\ \\frac{1}{m} I\\end{bmatrix}$, and $G = \\begin{bmatrix} 0 \\\\ -g \\end{bmatrix}$. For the 3D case, these are $(6 \\times 6)$, $(6 \\times 3)$, and $(6 \\times 1)$ matricies, respectively.\n",
    "\n",
    "Since the system is so sparse, we can reduce unnecessary computations by writing the equations for the first and second derivatives. We use the notation of $s = [x; y; z]$ (the positions) and $\\frac{ds}{dt} = [v_x; v_y; v_z]$ (the velocities). Call $y = [x; u; g]$, then,\n",
    "$$\n",
    "\\frac{dy}{dt} = \\begin{bmatrix}A & B & I\\\\ 0 & 0 & 0\\\\ 0 & 0 & 0\\end{bmatrix} y = W y\n",
    "$$\n",
    "which has solution\n",
    "$$\n",
    "y(t) = e^{W t} y0\n",
    "$$\n",
    "where W is square. In a discrete system,\n",
    "$$\n",
    "y_{k+1} = e^{W Δt} y_k = E y_k\n",
    "$$\n",
    "Note that due to all the zeros in W, we get:\n",
    "$$\n",
    "x_{k+1} = E_{11} x_k + E_{12} u_k + E_{13} g\n",
    "$$\n",
    "$$\n",
    "u_{k+1} = E_{21} x_k + E_{22} u_k + E_{23} g = u_k\n",
    "$$\n",
    "$$\n",
    "g = E_{31} x_k + E_{32} u_k + E_{33} g = g\n",
    "$$\n",
    "\n",
    "Thus, once we calculate the matrix $E$, we extract $E_{11}$, $E_{12}$, and $E_{13}$ to a system of the\n",
    "form:\n",
    "\n",
    "$$\n",
    "x_{k+1} = A_{\\text{eff}} \\ x_k + B_{\\text{eff}} \\ u_k + G_{\\text{eff}}\n",
    "$$"
   ]
  },
  {
   "cell_type": "code",
   "execution_count": 276,
   "metadata": {},
   "outputs": [
    {
     "data": {
      "text/plain": [
       "rocketDynamics (generic function with 1 method)"
      ]
     },
     "execution_count": 276,
     "metadata": {},
     "output_type": "execute_result"
    }
   ],
   "source": [
    "function rocketDynamicsContinuousMat(r::rocket_simple, nDim::Int64)\n",
    "    # Start off with a dense representation because it is needed for the\n",
    "    # exponentiation.\n",
    "    z0 = zeros(nDim, nDim)\n",
    "    aMat = [z0 I; z0 z0]\n",
    "    bMat = [z0; -(1/r.mass) * I]\n",
    "    gMat = [z0; I]\n",
    "    \n",
    "    return aMat, bMat, gMat\n",
    "end\n",
    "\n",
    "function rocketDynamics(r::rocket_simple, nDim::Int64)\n",
    "    \n",
    "    aMat, bMat, gMat = rocketDynamicsContinuousMat(r, nDim)\n",
    "\n",
    "    # Top Row\n",
    "    abg = [aMat bMat gMat]\n",
    "    abg_size = size(abg)\n",
    "\n",
    "    # We need to pad the remaining rows to make a square matrix\n",
    "    remainingRows = abg_size[2] - abg_size[1]\n",
    "    abgTot = [abg; zeros(remainingRows, abg_size[2])]\n",
    "\n",
    "    # Take the exponent e^(W Δt)\n",
    "    eMat = exp(abgTot * r.deltaTime)\n",
    "\n",
    "    # Extract the effective matrices\n",
    "    rowsA = size(aMat, 1)\n",
    "    colsA = size(aMat, 2)\n",
    "    colsB = size(bMat, 2)\n",
    "\n",
    "    aEffMat = sparse(eMat[1:rowsA, 1:colsA])\n",
    "    bEffMat = sparse(eMat[1:rowsA, colsA + 1:colsA + colsB])\n",
    "    gEffMat = sparse(eMat[1:rowsA, colsA + colsB + 1:end])\n",
    "\n",
    "    # Return the three effective matrices\n",
    "    return aEffMat, bEffMat, gEffMat\n",
    "end"
   ]
  },
  {
   "cell_type": "markdown",
   "metadata": {},
   "source": [
    "Now we want to stack these per iteration dynamics into a single matrix from which we will build an affine equality constraint. To do this, we create the helper function below.\n",
    "\n",
    "Specifically, we get the system:\n",
    "$$\\begin{bmatrix}A & B & -I\\end{bmatrix} \\begin{bmatrix}x_k \\\\ u_k \\\\ x_{k+1}\\end{bmatrix} = G$$\n",
    "which we can stack as\n",
    "$$\\begin{bmatrix}\n",
    "A & B & -I & 0 & 0 & 0 & 0 & 0 & 0 \\\\\n",
    "0 & 0 & A & B & -I & 0 & 0 & 0 & 0 \\\\\n",
    "0 & 0 & 0 & 0 & A & B & -I & 0 & 0 \\\\\n",
    "0 & 0 & 0 & 0 & 0 & 0 & A & B & -I\n",
    "\\end{bmatrix}\n",
    "$$\n",
    "We return the above matrix and the stacked `G` matrix."
   ]
  },
  {
   "cell_type": "code",
   "execution_count": 277,
   "metadata": {},
   "outputs": [
    {
     "data": {
      "text/plain": [
       "rocketDynamicsStack (generic function with 1 method)"
      ]
     },
     "execution_count": 277,
     "metadata": {},
     "output_type": "execute_result"
    }
   ],
   "source": [
    "function rocketDynamicsStack(r::rocket_simple, nDim::Int64, NSteps::Int64)\n",
    "    # First calculate the A and B matrices.\n",
    "    Ak, Bk, Gk = rocketDynamics(r::rocket_simple, nDim::Int64)\n",
    "    ABI_unit = [Ak Bk -I]\n",
    "    colLen = size(ABI_unit, 2)\n",
    "\n",
    "    # At each step we go down 2 * n rows and move right 3 * n columns.\n",
    "    sizeCols = 3 * NSteps * nDim + 2 * nDim\n",
    "    sizeRows = 2 * nDim * NSteps\n",
    "\n",
    "    # Initialize and empty sparse A matrix and G vector\n",
    "    AStacked = spzeros(sizeRows, sizeCols)\n",
    "    GStacked = spzeros(sizeRows, 1)\n",
    "\n",
    "    # Build up the matrix\n",
    "    rStart = 1\n",
    "    cStart = 1\n",
    "    for k in 1:NSteps\n",
    "        rEnd = rStart + (2 * nDim - 1)\n",
    "        cEnd = cStart + colLen - 1\n",
    "\n",
    "        # First, we calculate that stacked A Matrix\n",
    "        # println(\"Accessing $rStart:$rEnd and $cStart:$cEnd\")\n",
    "        AStacked[rStart:rEnd, cStart:cEnd] = ABI_unit\n",
    "\n",
    "        # Second, we calculate the stacked G vector\n",
    "        GStacked[rStart:rEnd] = -Gk * r.grav\n",
    "\n",
    "        # Prepare for next iteration.\n",
    "        rStart += 2 * nDim\n",
    "        cStart += 3 * nDim\n",
    "    end\n",
    "\n",
    "    # Returned the stacked matrix (A) and vector (G)\n",
    "    return AStacked, GStacked\n",
    "end"
   ]
  },
  {
   "cell_type": "markdown",
   "metadata": {},
   "source": [
    "## Instantiate the Model and Define the Discretization\n",
    "\n",
    "Feel free to choose <code>N</code> and <code>tf</code> based on your needs."
   ]
  },
  {
   "cell_type": "code",
   "execution_count": 278,
   "metadata": {},
   "outputs": [
    {
     "data": {
      "text/latex": [
       "2 5 . 0"
      ],
      "text/plain": [
       "25.0"
      ]
     },
     "metadata": {},
     "output_type": "display_data"
    },
    {
     "data": {
      "text/plain": [
       "rocket_simple(1, 1, [0.0, 0.0, -9.81], 0.1)"
      ]
     },
     "execution_count": 278,
     "metadata": {},
     "output_type": "execute_result"
    }
   ],
   "source": [
    "mass = 1\n",
    "isp = 1\n",
    "grav = [0; 0; -9.81]\n",
    "deltaTime = 0.1\n",
    "rocket = rocket_simple(mass, isp, grav, deltaTime)\n",
    "\n",
    "# Trajectory Discretization\n",
    "N = 250\n",
    "tf = N * deltaTime\n",
    "display(tf)\n",
    "\n",
    "# Dimensionality\n",
    "num_controls = 3 # ux, uy, uz\n",
    "num_states = 6 # x, y, z, vx, vy, vz\n",
    "var_size = N * (num_controls + num_states) + num_states # Last step does not have a control\n",
    "\n",
    "# Set Up the Trajectory Variable with Convex.jl\n",
    "tau = Variable(var_size) # Trajectory\n",
    "\n",
    "rocket # (Simply for information) Display the struct as the cell output "
   ]
  },
  {
   "cell_type": "markdown",
   "metadata": {},
   "source": [
    "## Specify the Initial and Final Conditions\n",
    "\n",
    "Choose the initial and final points. Note that these must be full state vectors ($[x; y; z; v_x; v_y; v_z]$). The initial point is generally the rocket's current state. The final point is generally the rocket's landing stop. Note that the final velocity of the rocket should **always** be $[0.0; 0.0; 0.0]$ to have a **soft** landing."
   ]
  },
  {
   "cell_type": "code",
   "execution_count": 279,
   "metadata": {},
   "outputs": [
    {
     "name": "stderr",
     "output_type": "stream",
     "text": [
      "WARNING: redefining constant rocketStart\n",
      "WARNING: redefining constant rocketEnd\n"
     ]
    }
   ],
   "source": [
    "# Initial and Final Conditions\n",
    "# in m\n",
    "# The Karman Line (100 km)\n",
    "const rocketStart = [5.0, 5.0, 20.0, 0.0, 0.0, -15.0]\n",
    "const rocketEnd = [0.0, 0.0, 0.0, 0.0, 0.0, 0.0];"
   ]
  },
  {
   "cell_type": "markdown",
   "metadata": {},
   "source": [
    "## Initialize the Trajectory\n",
    "\n",
    "We choose to initialize the trajectory at a hover (i.e. the rocket trajectory will initially only counter gravity). Note that this is **not** a warm start."
   ]
  },
  {
   "cell_type": "code",
   "execution_count": 280,
   "metadata": {},
   "outputs": [
    {
     "data": {
      "text/plain": [
       "initializeTraj (generic function with 1 method)"
      ]
     },
     "execution_count": 280,
     "metadata": {},
     "output_type": "execute_result"
    }
   ],
   "source": [
    "function initializeTraj(x0::Array{Float64, 1}, xN::Array{Float64, 1},\n",
    "                        NSteps::Int64)\n",
    "    if size(x0) != size(xN)\n",
    "        error(\"x0 and xN must have the same size. \" *\n",
    "                \"Currently: x0 = $x0 and xN = $xN\")\n",
    "    end\n",
    "    if mod(size(x0, 1), 2) != 0\n",
    "        error(\"x0 and xN must have an even number of variables. \" *\n",
    "              \"Example, x0 = [sx0; sy0; vx0; vy0]. Currently x0 = $x0.\")\n",
    "    end\n",
    "\n",
    "    # Calculate the linearly interpolated x values\n",
    "    xSteps = LinRange(x0, xN, NSteps + 1)\n",
    "    # Now we want to stack this as a vector in the form\n",
    "    # [x0; u0; x1; ...; uN-1, xN]\n",
    "    nDim = Int64(size(x0, 1) / 2)\n",
    "    sizeXU = 3 * NSteps * nDim + 2 * nDim\n",
    "    XUfull = zeros(sizeXU, 1)\n",
    "\n",
    "    # println(\"Dimensions = $nDim\")\n",
    "\n",
    "    for k in 1:(NSteps + 1)\n",
    "        iStart = 1 + (k - 1) * (3 * nDim)\n",
    "        iEnd = iStart + (2 * nDim - 1)\n",
    "        # println(\"Accessing ($iStart, $iEnd)\")\n",
    "        XUfull[iStart:iEnd] = xSteps[k]\n",
    "    end\n",
    "\n",
    "    return XUfull\n",
    "end"
   ]
  },
  {
   "cell_type": "code",
   "execution_count": 281,
   "metadata": {},
   "outputs": [],
   "source": [
    "initTraj = initializeTraj(rocketStart, rocketStart, N)\n",
    "\n",
    "set_value!(tau, initTraj);"
   ]
  },
  {
   "cell_type": "markdown",
   "metadata": {},
   "source": [
    "## Set-Up the LQR Objective Function\n",
    "\n",
    "For this problem, we choose an LQR Objective Function. One can add waypoints or change the weights to craft different optimal trajectories. See http://roboticexplorationlab.org/TrajectoryOptimization.jl/stable/costfunctions.html for more information."
   ]
  },
  {
   "cell_type": "code",
   "execution_count": 282,
   "metadata": {},
   "outputs": [],
   "source": [
    "Q = 0.025 * Diagonal(I, num_states)\n",
    "Qf = 1 * Diagonal(I, num_states)\n",
    "R = 0.25 * Diagonal(I, num_controls);\n",
    "\n",
    "# Initialize and empty sparse array\n",
    "QRFull = spzeros(var_size, var_size)\n",
    "\n",
    "rStart = 1\n",
    "\n",
    "# Put Q and R along the diagonal\n",
    "for k in 1:N\n",
    "    rEnd = rStart + num_states - 1\n",
    "    QRFull[rStart:rEnd, rStart:rEnd] = Q\n",
    "\n",
    "    rStart += num_states\n",
    "    rEnd = rStart + num_controls - 1\n",
    "\n",
    "    QRFull[rStart:rEnd, rStart:rEnd] = R\n",
    "\n",
    "    rStart += num_controls\n",
    "end\n",
    "rEnd = rStart + num_states - 1\n",
    "QRFull[rStart:rEnd, rStart:rEnd] = Qf\n",
    "\n",
    "QRFull = Symmetric(QRFull);"
   ]
  },
  {
   "cell_type": "code",
   "execution_count": 284,
   "metadata": {},
   "outputs": [
    {
     "data": {
      "text/plain": [
       "minimize\n",
       "└─ * (convex; positive)\n",
       "   ├─ 1\n",
       "   └─ qol_elem (convex; positive)\n",
       "      ├─ norm2 (convex; positive)\n",
       "      │  └─ …\n",
       "      └─ [1.0]\n",
       "\n",
       "status: `solve!` not called yet"
      ]
     },
     "execution_count": 284,
     "metadata": {},
     "output_type": "execute_result"
    }
   ],
   "source": [
    "# Set the Objective Function to the problem\n",
    "problem = minimize(quadform(tau, QRFull / 2))"
   ]
  },
  {
   "cell_type": "code",
   "execution_count": 285,
   "metadata": {},
   "outputs": [
    {
     "data": {
      "image/png": "[encoded data removed]"
     },
     "execution_count": 285,
     "metadata": {},
     "output_type": "execute_result"
    }
   ],
   "source": [
    "spy(QRFull)"
   ]
  },
  {
   "cell_type": "markdown",
   "metadata": {},
   "source": [
    "## Define the Constraints\n",
    "\n",
    "For the simple rocket soft-landing problem, we will include 5 constraints:\n",
    "1. Dynamics Constraints ($A \\tau = B$)\n",
    "2. Initial and Terminal Constraints ($x[0] = x_0$ and $x[N] = x_N$)\n",
    "2. Crash Prevention Constraint ($z > 0$)\n",
    "3. Thrust Magnitude Bounds ($||u||_2 < u_{max}$)\n",
    "4. Thurst Angle Bounds ($||[u_x; u_y]|| ≤ \\alpha \\ u_z$)"
   ]
  },
  {
   "cell_type": "code",
   "execution_count": 286,
   "metadata": {},
   "outputs": [
    {
     "name": "stderr",
     "output_type": "stream",
     "text": [
      "WARNING: redefining constant AStack\n",
      "WARNING: redefining constant BStack\n"
     ]
    },
    {
     "data": {
      "text/plain": [
       "1-element Array{Constraint,1}:\n",
       " == constraint (affine)\n",
       "├─ * (affine; real)\n",
       "│  ├─ 1500×2256 SparseMatrixCSC{Float64,Int64}\n",
       "│  └─ 2256-element real variable (id: 123…628)\n",
       "└─ 1500×1 SparseMatrixCSC{Float64,Int64}"
      ]
     },
     "execution_count": 286,
     "metadata": {},
     "output_type": "execute_result"
    }
   ],
   "source": [
    "# Add the Dynamics Constraints\n",
    "const AStack, BStack = rocketDynamicsStack(rocket, num_controls, N)\n",
    "\n",
    "problem.constraints += AStack * tau == BStack"
   ]
  },
  {
   "cell_type": "code",
   "execution_count": 287,
   "metadata": {},
   "outputs": [
    {
     "data": {
      "text/plain": [
       "4-element Array{Constraint,1}:\n",
       " == constraint (affine)\n",
       "├─ * (affine; real)\n",
       "│  ├─ 1500×2256 SparseMatrixCSC{Float64,Int64}\n",
       "│  └─ 2256-element real variable (id: 123…628)\n",
       "└─ 1500×1 SparseMatrixCSC{Float64,Int64}\n",
       " == constraint (affine)\n",
       "├─ index (affine; real)\n",
       "│  └─ 2256-element real variable (id: 123…628)\n",
       "└─ 6-element Array{Float64,1}\n",
       " >= constraint (affine)\n",
       "├─ index (affine; real)\n",
       "│  └─ 2256-element real variable (id: 123…628)\n",
       "└─ -10000\n",
       " == constraint (affine)\n",
       "├─ index (affine; real)\n",
       "│  └─ 2256-element real variable (id: 123…628)\n",
       "└─ 6-element Array{Float64,1}"
      ]
     },
     "execution_count": 287,
     "metadata": {},
     "output_type": "execute_result"
    }
   ],
   "source": [
    "# Add Initial and Terminal Constraints\n",
    "large_num = 10000\n",
    "\n",
    "problem.constraints += tau[1:6] == rocketStart\n",
    "problem.constraints += tau[7:(end - 6)] > -large_num\n",
    "problem.constraints += tau[(end - 5):end] == rocketEnd"
   ]
  },
  {
   "cell_type": "code",
   "execution_count": 288,
   "metadata": {},
   "outputs": [
    {
     "data": {
      "text/plain": [
       "5-element Array{Constraint,1}:\n",
       " == constraint (affine)\n",
       "├─ * (affine; real)\n",
       "│  ├─ 1500×2256 SparseMatrixCSC{Float64,Int64}\n",
       "│  └─ 2256-element real variable (id: 123…628)\n",
       "└─ 1500×1 SparseMatrixCSC{Float64,Int64}\n",
       " == constraint (affine)\n",
       "├─ index (affine; real)\n",
       "│  └─ 2256-element real variable (id: 123…628)\n",
       "└─ 6-element Array{Float64,1}\n",
       " >= constraint (affine)\n",
       "├─ index (affine; real)\n",
       "│  └─ 2256-element real variable (id: 123…628)\n",
       "└─ -10000\n",
       " == constraint (affine)\n",
       "├─ index (affine; real)\n",
       "│  └─ 2256-element real variable (id: 123…628)\n",
       "└─ 6-element Array{Float64,1}\n",
       " >= constraint (affine)\n",
       "├─ * (affine; real)\n",
       "│  ├─ 2256×2256 SparseMatrixCSC{Float64,Int64}\n",
       "│  └─ 2256-element real variable (id: 123…628)\n",
       "└─ 0"
      ]
     },
     "execution_count": 288,
     "metadata": {},
     "output_type": "execute_result"
    }
   ],
   "source": [
    "# Add the Ground Constraint\n",
    "ground_mat = spzeros(var_size, var_size)\n",
    "\n",
    "currInd = 3\n",
    "currRow = 1\n",
    "while currRow <= N\n",
    "    ground_mat[currRow, currInd] = 1\n",
    "\n",
    "    currRow += 1\n",
    "    currInd += 3 * Int(num_states / 2)\n",
    "end\n",
    "\n",
    "problem.constraints += ground_mat * tau > 0"
   ]
  },
  {
   "cell_type": "code",
   "execution_count": 289,
   "metadata": {},
   "outputs": [
    {
     "data": {
      "text/plain": [
       "6-element Array{Constraint,1}:\n",
       " == constraint (affine)\n",
       "├─ * (affine; real)\n",
       "│  ├─ 1500×2256 SparseMatrixCSC{Float64,Int64}\n",
       "│  └─ 2256-element real variable (id: 123…628)\n",
       "└─ 1500×1 SparseMatrixCSC{Float64,Int64}\n",
       " == constraint (affine)\n",
       "├─ index (affine; real)\n",
       "│  └─ 2256-element real variable (id: 123…628)\n",
       "└─ 6-element Array{Float64,1}\n",
       " >= constraint (affine)\n",
       "├─ index (affine; real)\n",
       "│  └─ 2256-element real variable (id: 123…628)\n",
       "└─ -10000\n",
       " == constraint (affine)\n",
       "├─ index (affine; real)\n",
       "│  └─ 2256-element real variable (id: 123…628)\n",
       "└─ 6-element Array{Float64,1}\n",
       " >= constraint (affine)\n",
       "├─ * (affine; real)\n",
       "│  ├─ 2256×2256 SparseMatrixCSC{Float64,Int64}\n",
       "│  └─ 2256-element real variable (id: 123…628)\n",
       "└─ 0\n",
       " <= constraint (convex)\n",
       "├─ norm2 (convex; positive)\n",
       "│  └─ index (affine; real)\n",
       "│     └─ 2256-element real variable (id: 123…628)\n",
       "└─ 19.62"
      ]
     },
     "execution_count": 289,
     "metadata": {},
     "output_type": "execute_result"
    }
   ],
   "source": [
    "# Add Thrust Magnitude Bounds\n",
    "\n",
    "perWeightMax = 2\n",
    "\n",
    "problem.constraints += norm(tau[7:9], 2) < mass * norm(grav[3]) * perWeightMax"
   ]
  },
  {
   "cell_type": "markdown",
   "metadata": {},
   "source": [
    "## Select the solver options\n",
    "\n",
    "For more information, please visit https://github.com/RoboticExplorationLab/Altro.jl/blob/master/README.md for more details on the solver options.\n",
    "\n",
    "Using the Altro package, we can now specify parameters and solve the problem."
   ]
  },
  {
   "cell_type": "markdown",
   "metadata": {},
   "source": [
    "# Step 2: Solve the initial trajectory optimization problem"
   ]
  },
  {
   "cell_type": "markdown",
   "metadata": {},
   "source": [
    "Show summary is set to <code>true</code> to print the solver speed. In general the solve will take about 23 iterations and 20-40 ms to complete. The constraint violation should be around $10^{-4}$ or better."
   ]
  },
  {
   "cell_type": "code",
   "execution_count": 290,
   "metadata": {},
   "outputs": [
    {
     "data": {
      "text/plain": [
       "minimize\n",
       "└─ * (convex; positive)\n",
       "   ├─ 1\n",
       "   └─ qol_elem (convex; positive)\n",
       "      ├─ norm2 (convex; positive)\n",
       "      │  └─ …\n",
       "      └─ [1.0]\n",
       "subject to\n",
       "├─ == constraint (affine)\n",
       "│  ├─ * (affine; real)\n",
       "│  │  ├─ 1500×2256 SparseMatrixCSC{Float64,Int64}\n",
       "│  │  └─ 2256-element real variable (id: 123…628)\n",
       "│  └─ 1500×1 SparseMatrixCSC{Float64,Int64}\n",
       "├─ == constraint (affine)\n",
       "│  ├─ index (affine; real)\n",
       "│  │  └─ 2256-element real variable (id: 123…628)\n",
       "│  └─ 6-element Array{Float64,1}\n",
       "├─ >= constraint (affine)\n",
       "│  ├─ index (affine; real)\n",
       "│  │  └─ 2256-element real variable (id: 123…628)\n",
       "│  └─ -10000\n",
       "├─ == constraint (affine)\n",
       "│  ├─ index (affine; real)\n",
       "│  │  └─ 2256-element real variable (id: 123…628)\n",
       "│  └─ 6-element Array{Float64,1}\n",
       "├─ >= constraint (affine)\n",
       "│  ├─ * (affine; real)\n",
       "│  │  ├─ 2256×2256 SparseMatrixCSC{Float64,Int64}\n",
       "│  │  └─ 2256-element real variable (id: 123…628)\n",
       "│  └─ 0\n",
       "└─ <= constraint (convex)\n",
       "   ├─ norm2 (convex; positive)\n",
       "   │  └─ index (affine; real)\n",
       "   │     └─ …\n",
       "   └─ 19.62\n",
       "\n",
       "status: `solve!` not called yet"
      ]
     },
     "execution_count": 290,
     "metadata": {},
     "output_type": "execute_result"
    }
   ],
   "source": [
    "problem"
   ]
  },
  {
   "cell_type": "markdown",
   "metadata": {},
   "source": [
    "Now we can solve it and show the summary"
   ]
  },
  {
   "cell_type": "code",
   "execution_count": 291,
   "metadata": {},
   "outputs": [
    {
     "name": "stdout",
     "output_type": "stream",
     "text": [
      "\n",
      "ECOS 2.0.5 - (C) embotech GmbH, Zurich Switzerland, 2012-15. Web: www.embotech.com/ECOS\n",
      "\n",
      "It     pcost       dcost      gap   pres   dres    k/t    mu     step   sigma     IR    |   BT\n",
      " 0  +0.000e+00  -2.244e+07  +4e+07  2e-01  8e-01  1e+00  9e+03    ---    ---    1  1  - |  -  - \n",
      " 1  -9.118e+01  -5.909e+06  +1e+07  7e-02  2e-01  2e+03  3e+03  0.9215  2e-01   1  1  1 |  0  0\n",
      " 2  -7.530e+01  -4.186e+06  +7e+06  6e-02  1e-01  2e+03  2e+03  0.7833  5e-01   1  1  1 |  0  0\n",
      " 3  -6.570e+00  -3.462e+05  +6e+05  5e-03  1e-02  2e+02  1e+02  0.9115  1e-03   1  1  1 |  0  0\n",
      " 4  -2.510e+01  -3.049e+05  +5e+05  5e-03  5e-03  1e+02  1e+02  0.9890  7e-01   1  1  1 |  0  0\n",
      " 5  -2.415e+00  -2.774e+05  +4e+05  4e-03  2e-03  1e+02  9e+01  0.4083  7e-01   1  1  1 |  0  0\n",
      " 6  +3.425e+01  -1.058e+05  +2e+05  2e-03  5e-04  5e+01  3e+01  0.7960  2e-01   1  1  1 |  0  0\n",
      " 7  +3.241e+00  -3.817e+03  +6e+03  7e-05  1e-05  2e+00  1e+00  0.9853  2e-02   1  1  1 |  0  0\n",
      " 8  +3.457e+00  -1.677e+03  +3e+03  3e-05  5e-06  7e-01  6e-01  0.6235  9e-02   1  1  1 |  0  0\n",
      " 9  +1.039e+01  -1.744e+03  +2e+03  3e-05  4e-06  8e-01  6e-01  0.0264  8e-01   1  1  2 |  0  0\n",
      "10  +1.026e+01  -1.897e+03  +2e+03  4e-05  3e-06  1e+00  5e-01  0.1622  7e-01   1  1  1 |  0  0\n",
      "11  +4.692e+01  -1.806e+03  +2e+03  3e-05  3e-06  9e-01  5e-01  0.0206  9e-01   1  1  2 |  0  0\n",
      "12  +3.818e+01  -2.061e+03  +2e+03  4e-05  2e-06  1e+00  4e-01  0.5306  7e-01   1  1  1 |  0  0\n",
      "13  +2.707e+02  -1.537e+03  +2e+03  4e-05  2e-06  9e-01  4e-01  0.1353  9e-01   1  1  2 |  0  0\n",
      "14  +2.482e+02  -1.209e+03  +8e+02  3e-05  9e-07  1e+00  2e-01  0.9886  4e-01   1  1  1 |  0  0\n",
      "15  +9.981e+02  +1.884e+02  +7e+02  2e-05  6e-07  3e-01  1e-01  0.7208  7e-01   1  1  1 |  0  0\n",
      "16  +1.426e+03  +6.641e+02  +2e+02  2e-05  4e-07  1e+00  5e-02  0.9890  3e-01   1  1  1 |  0  0\n",
      "17  +1.585e+03  +1.103e+03  +2e+02  1e-05  2e-07  7e-01  3e-02  0.7074  5e-01   1  1  2 |  0  0\n",
      "18  +2.551e+03  +2.319e+03  +6e+01  6e-06  1e-07  4e-01  1e-02  0.6838  1e-01   2  2  2 |  0  0\n",
      "19  +2.993e+03  +2.887e+03  +3e+01  3e-06  5e-08  2e-01  6e-03  0.7892  3e-01   1  1  1 |  0  0\n",
      "20  +3.300e+03  +3.254e+03  +1e+01  1e-06  2e-08  1e-01  2e-03  0.7360  2e-01   1  1  1 |  0  0\n",
      "21  +3.444e+03  +3.428e+03  +4e+00  5e-07  9e-09  4e-02  8e-04  0.8526  2e-01   1  1  1 |  0  0\n",
      "22  +3.505e+03  +3.499e+03  +1e+00  2e-07  3e-09  2e-02  3e-04  0.8593  3e-01   1  1  1 |  0  0\n",
      "23  +3.526e+03  +3.524e+03  +5e-01  7e-08  1e-09  7e-03  1e-04  0.8347  3e-01   2  1  1 |  0  0\n",
      "24  +3.538e+03  +3.538e+03  +1e-01  1e-08  3e-10  2e-03  2e-05  0.8189  4e-02   2  1  1 |  0  0\n",
      "25  +3.539e+03  +3.539e+03  +8e-02  1e-08  2e-10  1e-03  2e-05  0.5484  5e-01   1  1  1 |  0  0\n",
      "26  +3.541e+03  +3.541e+03  +2e-02  2e-09  7e-11  2e-04  4e-06  0.8156  5e-02   2  1  1 |  0  0\n",
      "27  +3.541e+03  +3.541e+03  +8e-03  1e-09  4e-11  1e-04  2e-06  0.7355  3e-01   2  1  1 |  0  0\n",
      "28  +3.541e+03  +3.541e+03  +4e-03  5e-10  2e-11  6e-05  9e-07  0.7778  3e-01   2  1  1 |  0  0\n",
      "29  +3.541e+03  +3.541e+03  +1e-03  1e-10  1e-11  2e-05  2e-07  0.8835  2e-01   2  1  1 |  0  0\n",
      "30  +3.541e+03  +3.541e+03  +4e-04  7e-11  5e-12  6e-06  8e-08  0.7881  2e-01   1  1  1 |  0  0\n",
      "31  +3.541e+03  +3.541e+03  +2e-04  3e-11  4e-12  2e-06  4e-08  0.9259  4e-01   1  1  1 |  0  0\n",
      "32  +3.541e+03  +3.541e+03  +4e-05  2e-08  1e-12  6e-07  9e-09  0.9757  2e-01   0  0  0 |  0  0\n",
      "\b\b\b\b\b\b\b\b\b\b\b\b\b\b\b\b\b\b\b\b\b\b\b\b\b\b\b\b\b\b\b\b\b\b\b\b\b\b\b\b\b\b\b\b\b\b\b\b\b\b\b\b\b\b\b\b\b\b\b\b\b\b\b\b\b\b\b\b\b\b\b\b\b\b\b\b\b\b\b\b\b\bUnreliable search direction detected, recovering best iterate (31) and stopping.\n",
      "\n",
      "Close to OPTIMAL (within feastol=3.3e-11, reltol=4.5e-08, abstol=1.6e-04).\n",
      "Runtime: 0.058137 seconds.\n",
      "\n"
     ]
    },
    {
     "name": "stderr",
     "output_type": "stream",
     "text": [
      "┌ Warning: Problem status ALMOST_OPTIMAL; solution may be inaccurate.\n",
      "└ @ Convex C:\\Users\\Daniel N\\.julia\\packages\\Convex\\aYxJA\\src\\solution.jl:252\n"
     ]
    }
   ],
   "source": [
    "solve!(problem, ECOS.Optimizer)"
   ]
  },
  {
   "cell_type": "code",
   "execution_count": 292,
   "metadata": {},
   "outputs": [
    {
     "data": {
      "text/plain": [
       "minimize\n",
       "└─ * (convex; positive)\n",
       "   ├─ 1\n",
       "   └─ qol_elem (convex; positive)\n",
       "      ├─ norm2 (convex; positive)\n",
       "      │  └─ …\n",
       "      └─ [1.0]\n",
       "subject to\n",
       "├─ == constraint (affine)\n",
       "│  ├─ * (affine; real)\n",
       "│  │  ├─ 1500×2256 SparseMatrixCSC{Float64,Int64}\n",
       "│  │  └─ 2256-element real variable (id: 123…628)\n",
       "│  └─ 1500×1 SparseMatrixCSC{Float64,Int64}\n",
       "├─ == constraint (affine)\n",
       "│  ├─ index (affine; real)\n",
       "│  │  └─ 2256-element real variable (id: 123…628)\n",
       "│  └─ 6-element Array{Float64,1}\n",
       "├─ >= constraint (affine)\n",
       "│  ├─ index (affine; real)\n",
       "│  │  └─ 2256-element real variable (id: 123…628)\n",
       "│  └─ -10000\n",
       "├─ == constraint (affine)\n",
       "│  ├─ index (affine; real)\n",
       "│  │  └─ 2256-element real variable (id: 123…628)\n",
       "│  └─ 6-element Array{Float64,1}\n",
       "├─ >= constraint (affine)\n",
       "│  ├─ * (affine; real)\n",
       "│  │  ├─ 2256×2256 SparseMatrixCSC{Float64,Int64}\n",
       "│  │  └─ 2256-element real variable (id: 123…628)\n",
       "│  └─ 0\n",
       "└─ <= constraint (convex)\n",
       "   ├─ norm2 (convex; positive)\n",
       "   │  └─ index (affine; real)\n",
       "   │     └─ …\n",
       "   └─ 19.62\n",
       "\n",
       "termination status: ALMOST_OPTIMAL\n",
       "primal status: NEARLY_FEASIBLE_POINT\n",
       "dual status: NEARLY_FEASIBLE_POINT"
      ]
     },
     "execution_count": 292,
     "metadata": {},
     "output_type": "execute_result"
    }
   ],
   "source": [
    "problem"
   ]
  },
  {
   "cell_type": "markdown",
   "metadata": {},
   "source": [
    "Access the Trajectory"
   ]
  },
  {
   "cell_type": "code",
   "execution_count": 293,
   "metadata": {},
   "outputs": [
    {
     "data": {
      "text/latex": [
       "3 5 4 1 . 2 8 6 0 4 0 0 9 1 9 2 7 6"
      ],
      "text/plain": [
       "3541.2860400919276"
      ]
     },
     "metadata": {},
     "output_type": "display_data"
    },
    {
     "data": {
      "text/plain": [
       "6-element Array{Float64,1}:\n",
       "   5.0\n",
       "   5.0\n",
       "  20.0\n",
       "   0.0\n",
       "   0.0\n",
       " -15.0"
      ]
     },
     "metadata": {},
     "output_type": "display_data"
    },
    {
     "data": {
      "text/plain": [
       "2256-element Array{Float64,1}:\n",
       "   4.999999999999285\n",
       "   4.999999999999285\n",
       "  19.99999999997083\n",
       "  -1.0108837898226777e-12\n",
       "  -1.0108837898764586e-12\n",
       " -15.000000000026136\n",
       "   1.5149120710267643\n",
       "   1.5149120710267674\n",
       " -17.08900006932598\n",
       "   4.992425439643356\n",
       "   4.992425439643356\n",
       "  18.53639500028596\n",
       "  -0.15149120710462888\n",
       "   ⋮\n",
       "  -5.174098278031562e-6\n",
       "  -5.174098278031559e-6\n",
       "  -0.000532017505054822\n",
       "  -5.174099255398818e-5\n",
       "  -5.174099255398808e-5\n",
       "  -9.815320219255218\n",
       "  -6.341094633545689e-13\n",
       "  -6.341094633546284e-13\n",
       "  -7.971709111885264e-9\n",
       "   4.886832488313711e-13\n",
       "   4.886832488315085e-13\n",
       "   2.210233673333514e-9"
      ]
     },
     "execution_count": 293,
     "metadata": {},
     "output_type": "execute_result"
    }
   ],
   "source": [
    "display(problem.optval)\n",
    "display(rocketStart)\n",
    "result_traj = evaluate(tau)"
   ]
  },
  {
   "cell_type": "code",
   "execution_count": 294,
   "metadata": {},
   "outputs": [],
   "source": [
    "kStart = 1\n",
    "maxK = length(tau)\n",
    "# println(\"Max = $maxK\")\n",
    "\n",
    "xList = []\n",
    "vList = []\n",
    "uList = []\n",
    "\n",
    "while kStart < (maxK - 2 * num_controls)\n",
    "    # println(\"Accessing $kStart to $(kStart + 3 * nDim - 1)\")\n",
    "    push!(xList, evaluate(tau)[kStart:kStart + num_controls - 1])\n",
    "    push!(vList, evaluate(tau)[kStart + num_controls:kStart + 2 * num_controls - 1])\n",
    "    push!(uList, evaluate(tau)[kStart + 2 * num_controls:kStart + 3 * num_controls - 1])\n",
    "\n",
    "    kStart = kStart + 3 * num_controls\n",
    "end"
   ]
  },
  {
   "cell_type": "code",
   "execution_count": 295,
   "metadata": {},
   "outputs": [],
   "source": [
    "xs = [x[1] for x in xList]\n",
    "ys = [x[2] for x in xList]\n",
    "zs = [x[3] for x in xList];"
   ]
  },
  {
   "cell_type": "code",
   "execution_count": 296,
   "metadata": {},
   "outputs": [
    {
     "data": {
      "image/png": "[encoded data removed]"
     },
     "execution_count": 296,
     "metadata": {},
     "output_type": "execute_result"
    }
   ],
   "source": [
    "plot(xs, zs)"
   ]
  },
  {
   "cell_type": "code",
   "execution_count": 297,
   "metadata": {},
   "outputs": [
    {
     "data": {
      "image/png": "[encoded data removed]"
     },
     "execution_count": 297,
     "metadata": {},
     "output_type": "execute_result"
    }
   ],
   "source": [
    "plot3d(xs, ys, zs)"
   ]
  },
  {
   "cell_type": "code",
   "execution_count": 298,
   "metadata": {},
   "outputs": [],
   "source": [
    "uxs = [u[1] for u in uList]\n",
    "uys = [u[2] for u in uList]\n",
    "uzs = [u[3] for u in uList];"
   ]
  },
  {
   "cell_type": "code",
   "execution_count": 299,
   "metadata": {},
   "outputs": [
    {
     "data": {
      "image/png": "[encoded data removed]"
     },
     "execution_count": 299,
     "metadata": {},
     "output_type": "execute_result"
    }
   ],
   "source": [
    "plot(uxs)\n",
    "plot!(uys)"
   ]
  },
  {
   "cell_type": "code",
   "execution_count": 300,
   "metadata": {},
   "outputs": [
    {
     "data": {
      "image/png": "[encoded data removed]"
     },
     "execution_count": 300,
     "metadata": {},
     "output_type": "execute_result"
    }
   ],
   "source": [
    "plot(-uzs)"
   ]
  },
  {
   "cell_type": "markdown",
   "metadata": {},
   "source": [
    "## Step 3: Integrate the Dynamics to Verify the Dynamics Constraint\n",
    "\n",
    "In Matlab, we would use ODE 45, but in the <code>DifferentialEquations.jl</code> package we can either (1) just let the <code>solve</code> method figure it out or (2) specify a solver such as <code>Tsit5</code>."
   ]
  },
  {
   "cell_type": "code",
   "execution_count": 339,
   "metadata": {},
   "outputs": [],
   "source": [
    "num_timesteps = N - 5\n",
    "\n",
    "get_controls(t) = uList[min(Int(floor(t/deltaTime)) + 1, size(uList,1))]\n",
    "\n",
    "A, B, g = rocketDynamicsContinuousMat(rocket, num_controls)\n",
    "\n",
    "f(y,p,t) = A * y + B * get_controls(t) + g * grav\n",
    "\n",
    "states_y0 = rocketStart\n",
    "tspan = (0.0, deltaTime * num_timesteps)\n",
    "controls_p0 = get_controls(tspan[1])\n",
    "\n",
    "# Use the DifferentialEquations.jl Package\n",
    "ode_prob = ODEProblem(f, states_y0, tspan, controls_p0,saveat=deltaTime)\n",
    "ode_sol = solve(ode_prob, Tsit5(), reltol=1e-10, abstol=1e-10);"
   ]
  },
  {
   "cell_type": "code",
   "execution_count": 340,
   "metadata": {},
   "outputs": [
    {
     "data": {
      "text/plain": [
       "246-element Array{Array{Float64,1},1}:\n",
       " [5.0, 5.0, 20.0, 0.0, 0.0, -15.0]\n",
       " [4.992425439644868, 4.992425439644868, 18.53639500034663, -0.15149119379809414, -0.15149119379809456, -14.27210000683007]\n",
       " [4.970345957171269, 4.970345957171269, 17.14491362263766, -0.2900984572033162, -0.2900984572033166, -13.557527545770833]\n",
       " [4.9350181041936825, 4.9350181041936825, 15.82416989307906, -0.41645857992956375, -0.4164585799295639, -12.857347073472404]\n",
       " [4.887635515847459, 4.887635515847459, 14.5726771913023, -0.5311931878513723, -0.5311931878513727, -12.172506961049653]\n",
       " [4.829330448043515, 4.829330448043515, 13.388859729832795, -0.6349081593635303, -0.6349081593635305, -11.503842281464017]\n",
       " [4.761175387178728, 4.761175387178728, 12.271063488981154, -0.728193045716531, -0.7281930457165312, -10.852082555975104]\n",
       " [4.684184701748287, 4.684184701748287, 11.21756640582335, -0.8116206460184587, -0.8116206460184587, -10.21785913940077]\n",
       " [4.5993163356004425, 4.5993163356004425, 10.226587833755096, -0.8857466614202212, -0.8857466614202213, -9.601712335096444]\n",
       " [4.507473531676882, 4.507473531676882, 9.296297304434464, -0.9511094128852167, -0.9511094128852169, -9.00409826129777]\n",
       " [4.409506580825037, 4.409506580825037, 8.424822614739872, -1.0082296028607942, -1.008229602860794, -8.425395535559176]\n",
       " [4.306214589595228, 4.306214589595228, 7.610257261066989, -1.0576101959737825, -1.0576101959737823, -7.8659116037977945]\n",
       " [4.198347262444865, 4.198347262444865, 6.850667239165674, -1.0997363401901994, -1.0997363401901994, -7.325888854108376]\n",
       " ⋮\n",
       " [9.041680795602723e-5, 9.041680795548454e-5, 0.00255027076374, -0.00013150612061208402, -0.0001315061206121442, -0.001906392288639977]\n",
       " [7.783830873135566e-5, 7.783830873080693e-5, 0.0023580408244303903, -0.00012006464494005974, -0.00012006464494011994, -0.001938193157060599]\n",
       " [6.638134675782033e-5, 6.638134675726557e-5, 0.0021630068712093103, -0.00010907455959889598, -0.00010907455959895618, -0.001962486245420447]\n",
       " [5.6001000680154034e-5, 5.600100067959327e-5, 0.0019659823476017193, -9.853288656927123e-5, -9.853288656933144e-5, -0.001977993053892442]\n",
       " [4.665257670443619e-5, 4.665257670386941e-5, 0.0017679191177737018, -8.843602368434854e-5, -8.843602368440876e-5, -0.001983259951182785]\n",
       " [3.829185081895863e-5, 3.829185081838583e-5, 0.00156992311926459, -7.877875599475665e-5, -7.877875599481686e-5, -0.001976651647662798]\n",
       " [3.0875118884687364e-5, 3.0875118884108536e-5, 0.0013732767537874987, -6.955593701275033e-5, -6.955593701281057e-5, -0.0019562735551836687]\n",
       " [2.4359214074254697e-5, 2.435921407366984e-5, 0.0011794671328538224, -6.076230561529361e-5, -6.076230561535385e-5, -0.00191991302895838]\n",
       " [1.87014857538836e-5, 1.8701485753292708e-5, 0.000990223177454319, -5.2392637724397774e-5, -5.239263772445805e-5, -0.0018649471602161594]\n",
       " [1.385981453891522e-5, 1.3859814538318304e-5, 0.0008075622851784186, -4.444075364613469e-5, -4.4440753646194965e-5, -0.0017882723658563448]\n",
       " [9.792748781478486e-6, 9.792748780875546e-6, 0.0006338452062042765, -3.690076906217399e-5, -3.690076906223429e-5, -0.0016860558217204197]\n",
       " [6.4593626557328056e-6, 6.459362655123835e-6, 0.000471870323374132, -2.9766997659368068e-5, -2.9766997659428363e-5, -0.001553438452613579]"
      ]
     },
     "execution_count": 340,
     "metadata": {},
     "output_type": "execute_result"
    }
   ],
   "source": [
    "ode_sol.u"
   ]
  },
  {
   "cell_type": "code",
   "execution_count": 341,
   "metadata": {},
   "outputs": [
    {
     "data": {
      "text/plain": [
       "250-element Array{Array{Float64,1},1}:\n",
       " [4.999999999999285, 4.999999999999285, 19.99999999997083, -1.0108837898226777e-12, -1.0108837898764586e-12, -15.000000000026136]\n",
       " [4.992425439643356, 4.992425439643356, 18.53639500028596, -0.15149120710462888, -0.1514912071046292, -14.272099993116852]\n",
       " [4.970345955682985, 4.970345955682985, 17.144913624080566, -0.290098472090708, -0.2900984720907083, -13.557527530440163]\n",
       " [4.935018102262608, 4.935018102262607, 15.824169894796954, -0.4164585963055707, -0.4164585963055707, -12.857347054684888]\n",
       " [4.887635512113768, 4.887635512113767, 14.57267719508802, -0.5311932066607457, -0.531193206660746, -12.172506938950312]\n",
       " [4.829330443241297, 4.829330443241296, 13.388859734607568, -0.6349081707790035, -0.6349081707790037, -11.503842270119021]\n",
       " [4.76117538207228, 4.76117538207228, 12.271063493505267, -0.7281930525924366, -0.7281930525924368, -10.852082551391318]\n",
       " [4.684184696302193, 4.684184696302193, 11.217566410159124, -0.8116206628011652, -0.8116206628011652, -10.217859114999923]\n",
       " [4.5993163282925655, 4.5993163282925655, 10.226587840860214, -0.8857466973839683, -0.8857466973839684, -9.601712270450893]\n",
       " [4.507473520536195, 4.507473520536194, 9.296297318477137, -0.9511094577367759, -0.9511094577367762, -9.004098176687654]\n",
       " [4.409506565326195, 4.409506565326195, 8.424822636925516, -1.008229646457202, -1.008229646457202, -8.425395453826356]\n",
       " [4.306214571345759, 4.306214571345759, 7.61025728740419, -1.0576102331461903, -1.0576102331461903, -7.865911536086722]\n",
       " [4.198347240443495, 4.1983472404434945, 6.850667272341114, -1.099736384894422, -1.099736384894422, -7.325888764666618]\n",
       " ⋮\n",
       " [4.723550754167113e-5, 4.7235507541671096e-5, 0.0017713828004407037, -8.842599261908986e-5, -8.842599261908974e-5, -0.0019830875439953623]\n",
       " [3.887578664638379e-5, 3.887578664638375e-5, 0.001573404510204002, -7.87684337663115e-5, -7.87684337663114e-5, -0.0019764884521784472]\n",
       " [3.146008888077811e-5, 3.1460088880778084e-5, 0.0013767749931335733, -6.954553035563372e-5, -6.954553035563366e-5, -0.001956113524460943]\n",
       " [2.4945216309370415e-5, 2.494521630937041e-5, 0.0011829823636442804, -6.075193023311398e-5, -6.0751930233113915e-5, -0.001919752380598349]\n",
       " [1.9288517750607743e-5, 1.928851775060773e-5, 0.0009937555883234367, -5.238205047417051e-5, -5.2382050474170465e-5, -0.0018647984253611916]\n",
       " [1.4447909341231606e-5, 1.4447909341231559e-5, 0.0008111102517541166, -4.443012763737983e-5, -4.443012763737975e-5, -0.0017881259948558346]\n",
       " [1.0381889996458547e-5, 1.0381889996458508e-5, 0.0006374098567966354, -3.689026959430484e-5, -3.6890269594304774e-5, -0.0016859025445272824]\n",
       " [7.049550353933421e-6, 7.049550353933398e-6, 0.0004754517950574929, -2.975653402416872e-5, -2.9756534024168678e-5, -0.0015532831049002464]\n",
       " [4.410570720637643e-6, 4.410570720637635e-6, 0.00032859555100063487, -2.3023069860036077e-5, -2.302306986003601e-5, -0.0013838712595344324]\n",
       " [2.425199212215009e-6, 2.4251992122150047e-6, 0.00020097088790291894, -1.6684371994227907e-5, -1.6684371994227863e-5, -0.0011686588058669944]\n",
       " [1.0541945492094361e-6, 1.0541945492094346e-6, 9.786116173699321e-5, -1.073573343461028e-5, -1.0735733434610237e-5, -0.000893584417805962]\n",
       " [2.5870359681328353e-7, 2.587035968132828e-7, 2.658471081247051e-5, -5.174098278031562e-6, -5.174098278031559e-6, -0.000532017505054822]"
      ]
     },
     "execution_count": 341,
     "metadata": {},
     "output_type": "execute_result"
    }
   ],
   "source": [
    "xvList = [[xList[i]; vList[i]] for i = 1:size(xList, 1)]"
   ]
  },
  {
   "cell_type": "code",
   "execution_count": 342,
   "metadata": {},
   "outputs": [
    {
     "data": {
      "text/plain": [
       "246-element Array{Array{Float64,1},1}:\n",
       " [4.999999999999285, 4.999999999999285, 19.99999999997083, -1.0108837898226777e-12, -1.0108837898764586e-12, -15.000000000026136]\n",
       " [4.992425439643356, 4.992425439643356, 18.53639500028596, -0.15149120710462888, -0.1514912071046292, -14.272099993116852]\n",
       " [4.970345955682985, 4.970345955682985, 17.144913624080566, -0.290098472090708, -0.2900984720907083, -13.557527530440163]\n",
       " [4.935018102262608, 4.935018102262607, 15.824169894796954, -0.4164585963055707, -0.4164585963055707, -12.857347054684888]\n",
       " [4.887635512113768, 4.887635512113767, 14.57267719508802, -0.5311932066607457, -0.531193206660746, -12.172506938950312]\n",
       " [4.829330443241297, 4.829330443241296, 13.388859734607568, -0.6349081707790035, -0.6349081707790037, -11.503842270119021]\n",
       " [4.76117538207228, 4.76117538207228, 12.271063493505267, -0.7281930525924366, -0.7281930525924368, -10.852082551391318]\n",
       " [4.684184696302193, 4.684184696302193, 11.217566410159124, -0.8116206628011652, -0.8116206628011652, -10.217859114999923]\n",
       " [4.5993163282925655, 4.5993163282925655, 10.226587840860214, -0.8857466973839683, -0.8857466973839684, -9.601712270450893]\n",
       " [4.507473520536195, 4.507473520536194, 9.296297318477137, -0.9511094577367759, -0.9511094577367762, -9.004098176687654]\n",
       " [4.409506565326195, 4.409506565326195, 8.424822636925516, -1.008229646457202, -1.008229646457202, -8.425395453826356]\n",
       " [4.306214571345759, 4.306214571345759, 7.61025728740419, -1.0576102331461903, -1.0576102331461903, -7.865911536086722]\n",
       " [4.198347240443495, 4.1983472404434945, 6.850667272341114, -1.099736384894422, -1.099736384894422, -7.325888764666618]\n",
       " ⋮\n",
       " [9.099603580573303e-5, 9.099603580573297e-5, 0.002553656731494937, -0.00013149775443150946, -0.00013149775443150932, -0.001906187299560004]\n",
       " [7.841838735442075e-5, 7.841838735442068e-5, 0.0023614474014358017, -0.00012005522195222646, -0.00012005522195222632, -0.0019380052975104933]\n",
       " [6.696237977867854e-5, 6.696237977867848e-5, 0.002166432385626883, -0.00010906493717190316, -0.00010906493717190304, -0.0019623018799252707]\n",
       " [5.6582970039105805e-5, 5.6582970039105764e-5, 0.0019694272070998886, -9.85232654993995e-5, -9.85232654993994e-5, -0.001977809525352827]\n",
       " [4.723550754167113e-5, 4.7235507541671096e-5, 0.0017713828004407037, -8.842599261908986e-5, -8.842599261908974e-5, -0.0019830875439953623]\n",
       " [3.887578664638379e-5, 3.887578664638375e-5, 0.001573404510204002, -7.87684337663115e-5, -7.87684337663114e-5, -0.0019764884521784472]\n",
       " [3.146008888077811e-5, 3.1460088880778084e-5, 0.0013767749931335733, -6.954553035563372e-5, -6.954553035563366e-5, -0.001956113524460943]\n",
       " [2.4945216309370415e-5, 2.494521630937041e-5, 0.0011829823636442804, -6.075193023311398e-5, -6.0751930233113915e-5, -0.001919752380598349]\n",
       " [1.9288517750607743e-5, 1.928851775060773e-5, 0.0009937555883234367, -5.238205047417051e-5, -5.2382050474170465e-5, -0.0018647984253611916]\n",
       " [1.4447909341231606e-5, 1.4447909341231559e-5, 0.0008111102517541166, -4.443012763737983e-5, -4.443012763737975e-5, -0.0017881259948558346]\n",
       " [1.0381889996458547e-5, 1.0381889996458508e-5, 0.0006374098567966354, -3.689026959430484e-5, -3.6890269594304774e-5, -0.0016859025445272824]\n",
       " [7.049550353933421e-6, 7.049550353933398e-6, 0.0004754517950574929, -2.975653402416872e-5, -2.9756534024168678e-5, -0.0015532831049002464]"
      ]
     },
     "execution_count": 342,
     "metadata": {},
     "output_type": "execute_result"
    }
   ],
   "source": [
    "xvList[1:(Int(round(tspan[2]/deltaTime))+1)]"
   ]
  },
  {
   "cell_type": "code",
   "execution_count": 343,
   "metadata": {},
   "outputs": [
    {
     "data": {
      "text/plain": [
       "246-element Array{Float64,1}:\n",
       " 3.9205855975001954e-11\n",
       " 2.328484038933348e-8\n",
       " 2.616887979386007e-8\n",
       " 2.999545303365205e-8\n",
       " 3.51877606619205e-8\n",
       " 2.1406916039173673e-8\n",
       " 1.371810701493263e-8\n",
       " 3.5168717035549656e-8\n",
       " 8.320530228575573e-8\n",
       " 1.0783145658373267e-7\n",
       " 1.0702419526086887e-7\n",
       " 9.331719861850803e-8\n",
       " 1.1859803304309851e-7\n",
       " ⋮\n",
       " 3.489691669863817e-6\n",
       " 3.509019536604908e-6\n",
       " 3.527537892966454e-6\n",
       " 3.5465901211054193e-6\n",
       " 3.564637404164098e-6\n",
       " 3.5817441055586226e-6\n",
       " 3.598316932261069e-6\n",
       " 3.6151995716258705e-6\n",
       " 3.631733183499132e-6\n",
       " 3.6471122974088444e-6\n",
       " 3.6639627405692704e-6\n",
       " 3.6807518722417914e-6"
      ]
     },
     "execution_count": 343,
     "metadata": {},
     "output_type": "execute_result"
    }
   ],
   "source": [
    "err = norm.(ode_sol.u - xvList[1:(Int(round(tspan[2]/deltaTime))+1)])"
   ]
  },
  {
   "cell_type": "code",
   "execution_count": 344,
   "metadata": {},
   "outputs": [
    {
     "data": {
      "image/png": "[encoded data removed]"
     },
     "execution_count": 344,
     "metadata": {},
     "output_type": "execute_result"
    }
   ],
   "source": [
    "plot(ode_sol.t, err, yaxis = :log)"
   ]
  },
  {
   "cell_type": "markdown",
   "metadata": {},
   "source": [
    "## Step 4: Warm-Start the next iteration"
   ]
  },
  {
   "cell_type": "code",
   "execution_count": null,
   "metadata": {},
   "outputs": [],
   "source": [
    "# warm_start_states = X[num_timesteps:end]\n",
    "warm_start_controls = U[num_timesteps:end]\n",
    "x0 = ode_sol.u[end]\n",
    "\n",
    "N = size(warm_start_controls, 1) + 1\n",
    "tf = tf - dt * num_timesteps\n",
    "dt = tf / (N - 1)"
   ]
  },
  {
   "cell_type": "markdown",
   "metadata": {},
   "source": [
    "## Step 5 & 6: Solve the Problem and Repeat\n",
    "\n",
    "Now that we've seen each step in detail, let's put it all into a function and repeat it until landing."
   ]
  },
  {
   "cell_type": "code",
   "execution_count": null,
   "metadata": {},
   "outputs": [],
   "source": [
    "function diffEq_Model(model::Rocket, U, dt)\n",
    "    get_controls(t) = U[min(Int(floor(t/dt)) + 1, size(U,1))]\n",
    "    f(y,p,t) = dynamics(model, y, get_controls(t))\n",
    "\n",
    "    states_y0 = x0\n",
    "    tspan = (0.0, dt * num_timesteps)\n",
    "    controls_p0 = get_controls(tspan[1])\n",
    "\n",
    "    # Use the DifferentialEquations.jl Package\n",
    "    ode_prob = ODEProblem(f, states_y0, tspan, controls_p0)\n",
    "    ode_sol = solve(ode_prob, Tsit5(), reltol=1e-10, abstol=1e-10);\n",
    "\n",
    "    return ode_sol.u[end]\n",
    "end\n",
    "\n",
    "function MPC(model::Rocket, solver, x0, U_init, N, tf)\n",
    "    \n",
    "#     println(\"Setting Up Problem\")\n",
    "    # Reset the objective function\n",
    "    obj = LQRObjective(Q,R,Qf,xf,N)\n",
    "    \n",
    "    # Create Empty ConstraintList\n",
    "    conSet = ConstraintList(n,m,N)\n",
    "\n",
    "    # Bounds\n",
    "    ground_level = 0.0 # Crash Prevention Constraint\n",
    "    umax = 11 * model.mass # Simplified Max Thrust Constraint\n",
    "    theta = 20 # deg. Max Angle Constraint\n",
    "    ulateral_max = umax * sind(theta)\n",
    "\n",
    "    # To ignore constraints 2 and 3, use the code below\n",
    "    # bnd = BoundConstraint(n,m, x_min=[-Inf, -Inf, ground_level,\n",
    "    #                                   -Inf, -Inf, -Inf])\n",
    "\n",
    "    # To include constraints 2 and 3, use the code below\n",
    "    bnd = BoundConstraint(n,m, x_min=[-Inf, -Inf, ground_level,\n",
    "                                      -Inf, -Inf, -Inf],\n",
    "                               u_min=[-ulateral_max, -ulateral_max, 0   ],\n",
    "                               u_max=[ ulateral_max,  ulateral_max, umax])\n",
    "    add_constraint!(conSet, bnd, 1:N-1)\n",
    "\n",
    "    # Goal Constraint that the rocket must reach the landing site.\n",
    "    goal = GoalConstraint(xf)\n",
    "    add_constraint!(conSet, goal, N)\n",
    "    \n",
    "    # Package the objective and constraints into a \"problem\" type\n",
    "    prob = Problem(model, obj, xf, tf, x0=x0, constraints=conSet);\n",
    "    \n",
    "#     println(\"Initial Controls\")\n",
    "    # Set the current controls (ideally warm-started)\n",
    "    initial_controls!(prob, U_init)\n",
    "    rollout!(prob);\n",
    "    \n",
    "#     println(\"Solving\")\n",
    "    # Solve the new trajectory\n",
    "    a_s = ALTROSolver(prob, opts)\n",
    "    solve!(a_s);\n",
    "    \n",
    "#     println(\"Accessing\")\n",
    "    # Access the states and controls\n",
    "    X = states(a_s)\n",
    "    U = controls(a_s)\n",
    "    \n",
    "#     println(\"Propogate System\")\n",
    "    # Use the dynamics model (and any disturbances) and propogate forward in time\n",
    "    x0 = diffEq_Model(model, U, dt)\n",
    "    \n",
    "#     println(\"Warm-Start Next Iteration\")\n",
    "    U_new = U[num_timesteps:end]\n",
    "    N = size(U_new, 1) + 1\n",
    "    tf = tf - dt * num_timesteps\n",
    "    \n",
    "    # Warm-Start the Next Iteration\n",
    "    return x0, U_new, N, tf\n",
    "    \n",
    "end"
   ]
  },
  {
   "cell_type": "code",
   "execution_count": null,
   "metadata": {},
   "outputs": [],
   "source": [
    "a = MPC(model, ALTROSolver, x0, warm_start_controls, N, tf);"
   ]
  },
  {
   "cell_type": "markdown",
   "metadata": {},
   "source": [
    "Execute the MPC forward until landed"
   ]
  },
  {
   "cell_type": "code",
   "execution_count": null,
   "metadata": {},
   "outputs": [],
   "source": [
    "completion_threshold = 1e-4\n",
    "\n",
    "opts = SolverOptions(\n",
    "    cost_tolerance_intermediate=1e-2,\n",
    "    penalty_scaling=10.,\n",
    "    penalty_initial=1.0\n",
    ")\n",
    "\n",
    "saved_states = []\n",
    "\n",
    "while norm(x0 - xf) > completion_threshold\n",
    "    x0, warm_start_controls, N, tf = MPC(model, ALTROSolver, x0, warm_start_controls, N, tf)\n",
    "    \n",
    "    println(\"\\nCurrently at time $tf remaining and $(norm(x0 - xf)) away.\")\n",
    "    println(\"$N Steps at $tf s left. Hence, dt = $(tf / (N-1))\")\n",
    "    \n",
    "    # If the timespan is too low (e.g. due to disturbances)\n",
    "    tf = max(0.5, tf)\n",
    "    \n",
    "    push!(saved_states, x0)\n",
    "end"
   ]
  },
  {
   "cell_type": "code",
   "execution_count": null,
   "metadata": {},
   "outputs": [],
   "source": [
    "xs = [x[1] for x in saved_states]\n",
    "zs = [x[3] for x in saved_states];"
   ]
  },
  {
   "cell_type": "markdown",
   "metadata": {},
   "source": [
    "## Plot the trajectory!"
   ]
  },
  {
   "cell_type": "code",
   "execution_count": null,
   "metadata": {},
   "outputs": [],
   "source": [
    "titleText = \"Rocket Soft-Landing Trajectory \\n\" *\n",
    "        \"starting at an initial $(x0[6]) m/s plummet\"\n",
    "filename = \"RocketGroundThrustBound_BarelyFeasible3\"\n",
    "\n",
    "plt_x = plot(xs, zs, label = \"Trajectory\")\n",
    "xlabel!(\"x\")\n",
    "ylabel!(\"z (height)\")\n",
    "title!(titleText)"
   ]
  },
  {
   "cell_type": "code",
   "execution_count": null,
   "metadata": {},
   "outputs": [],
   "source": [
    "plt_ux = plot(uxs, label = \"Ux Control\")\n",
    "hline!([-ulateral_max, ulateral_max], linecolor = :grey, linestyle = :dash,\n",
    "                label = \"Max Lateral Thrust\")\n",
    "# xlabel!(\"time (s)\")\n",
    "ylabel!(\"control (N)\")\n",
    "title!(\"Controls over Time\")\n",
    "\n",
    "plt_uz = plot(uzs, label = \"Uz Control\")\n",
    "hline!([umax], linecolor = :grey, linestyle = :dash, label = \"Max Thrust\")\n",
    "xlabel!(\"time (s)\")\n",
    "ylabel!(\"control (N)\")\n",
    "\n",
    "plt_u = plot(plt_ux, plt_uz, layout = (2, 1))"
   ]
  },
  {
   "cell_type": "markdown",
   "metadata": {},
   "source": [
    "Below is a GIF of the trajectory. This will take several seconds to generate."
   ]
  },
  {
   "cell_type": "code",
   "execution_count": null,
   "metadata": {},
   "outputs": [],
   "source": [
    "xmin = minimum(xs)\n",
    "xmax = maximum(xs)\n",
    "\n",
    "zmin = minimum(zs)\n",
    "zmax = maximum(zs)\n",
    "\n",
    "@gif for i in 1:N\n",
    "    plt = plot(xs[1:i], zs[1:i], label = \"Trajectory\", legend = :topleft)\n",
    "    xlabel!(\"x\")\n",
    "    ylabel!(\"z (height)\")\n",
    "    xlims!(xmin,xmax)\n",
    "    ylims!(zmin,zmax)\n",
    "    title!(titleText)\n",
    "end"
   ]
  },
  {
   "cell_type": "markdown",
   "metadata": {},
   "source": [
    "## Lastly, let's visualize the results in 3D with Meshcat\n",
    "\n",
    "To do this, we need to provide a Mesh to <code>MeshCat</code>. This is due with <code>FileIO</code> and <code>MeshIO</code>."
   ]
  },
  {
   "cell_type": "code",
   "execution_count": null,
   "metadata": {},
   "outputs": [],
   "source": [
    "vis = Visualizer() # Creates a MeshCat Window\n",
    "render(vis) # Renders the window below"
   ]
  },
  {
   "cell_type": "code",
   "execution_count": null,
   "metadata": {},
   "outputs": [],
   "source": [
    "function TrajOptPlots._set_mesh!(vis, model::Rocket)\n",
    "    obj = joinpath(@__DIR__, \"SimpleRocket.obj\")\n",
    "    quad_scaling = 0.085\n",
    "    robot_obj = FileIO.load(obj)\n",
    "    robot_obj.vertices .*= quad_scaling\n",
    "    mat = MeshPhongMaterial(color=colorant\"lightgrey\")\n",
    "    setobject!(vis[\"geom\"], robot_obj, mat)\n",
    "end\n",
    "\n",
    "TrajOptPlots.set_mesh!(vis, model)"
   ]
  },
  {
   "cell_type": "code",
   "execution_count": null,
   "metadata": {},
   "outputs": [],
   "source": [
    "Base.position(::Rocket, x::StaticVector) = SA[x[1], x[2], x[3]]\n",
    "RobotDynamics.orientation(::Rocket, x::StaticVector) = UnitQuaternion(0,0,0,1)\n",
    "\n",
    "visualize!(vis, altro);"
   ]
  },
  {
   "cell_type": "markdown",
   "metadata": {},
   "source": [
    "## Integrate the Dynamics to Verify the Dynamics Constraint\n",
    "\n",
    "In Matlab, we would use ODE 45, but in the <code>DifferentialEquations.jl</code> package we can either (1) just let the <code>solve</code> method figure it out or (2) specify a solver such as <code>Tsit5</code>.\n",
    "\n",
    "The controls change over time and are discretized. Below, a zero-order hold and a first-order hold are implemented for comparison. **We used a zero-order hold in the optimization so a zero-order hold should be used here.**"
   ]
  },
  {
   "cell_type": "code",
   "execution_count": null,
   "metadata": {},
   "outputs": [],
   "source": [
    "get_controls_zero_order_hold(t) = U[min(Int(floor(t/dt)) + 1, size(U,1))]\n",
    "f(y,p,t) = dynamics(model, y, get_controls_zero_order_hold(t))\n",
    "\n",
    "states_y0 = x0\n",
    "tspan = (0.0, tf)\n",
    "controls_p0 = get_controls_zero_order_hold(tspan[1])\n",
    "\n",
    "ode_prob_zoh = ODEProblem(f, states_y0, tspan, controls_p0)\n",
    "@btime solve(ode_prob_zoh, Tsit5(), reltol=1e-10, abstol=1e-10,saveat=dt)\n",
    "ode_sol_zoh = solve(ode_prob_zoh, Tsit5(), reltol=1e-10, abstol=1e-10,saveat=dt);"
   ]
  },
  {
   "cell_type": "code",
   "execution_count": null,
   "metadata": {},
   "outputs": [],
   "source": [
    "function get_controls_first_order_hold(t)\n",
    "    # dt and U are both global variables\n",
    "    tn = t/dt\n",
    "    \n",
    "    t_below = Int(max(1, floor(tn)))\n",
    "    t_above = Int(min(size(U, 1), ceil(tn)))\n",
    "    \n",
    "    if t_below >= t_above\n",
    "        return U[t_below]\n",
    "    end\n",
    "    \n",
    "    slope = (U[t_above] - U[t_below])\n",
    "    return slope * (tn - t_below) + U[t_below]\n",
    "\n",
    "end\n",
    "\n",
    "\n",
    "f(y,p,t) = dynamics(model, y, get_controls_first_order_hold(t))\n",
    "\n",
    "states_y0 = x0\n",
    "tspan = (0.0, tf)\n",
    "controls_p0 = get_controls_first_order_hold(tspan[1])\n",
    "\n",
    "ode_prob_foh = ODEProblem(f, states_y0, tspan, controls_p0)\n",
    "@btime solve(ode_prob_foh, Tsit5(), reltol=1e-10, abstol=1e-10,saveat=dt)\n",
    "ode_sol_foh = solve(ode_prob_foh, Tsit5(), reltol=1e-10, abstol=1e-10,saveat=dt);"
   ]
  },
  {
   "cell_type": "code",
   "execution_count": null,
   "metadata": {},
   "outputs": [],
   "source": [
    "err_zoh = norm.(ode_sol_zoh.u - X[1:(Int(tspan[2]/dt)+1)])\n",
    "err_foh = norm.(ode_sol_foh.u - X[1:(Int(tspan[2]/dt)+1)])\n",
    "\n",
    "plot(ode_sol_zoh.t, err_zoh, yaxis = :log, label = \"Zero-Order Hold\")\n",
    "plot!(ode_sol_foh.t, err_foh, yaxis = :log, label = \"First-Order Hold\")\n",
    "xlabel!(\"Time (s)\")\n",
    "ylabel!(\"Dynamics Error\")\n",
    "title!(\"Comparison in State Vector expected from ALTRO Solver \\n to Integrated Dynamics Model\")"
   ]
  },
  {
   "cell_type": "code",
   "execution_count": null,
   "metadata": {},
   "outputs": [],
   "source": []
  }
 ],
 "metadata": {
  "kernelspec": {
   "display_name": "Julia 1.4.2",
   "language": "julia",
   "name": "julia-1.4"
  },
  "language_info": {
   "file_extension": ".jl",
   "mimetype": "application/julia",
   "name": "julia",
   "version": "1.4.2"
  }
 },
 "nbformat": 4,
 "nbformat_minor": 4
}
