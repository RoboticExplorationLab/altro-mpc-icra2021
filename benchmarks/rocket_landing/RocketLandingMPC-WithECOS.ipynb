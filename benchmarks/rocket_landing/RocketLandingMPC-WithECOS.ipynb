{
 "cells": [
  {
   "cell_type": "markdown",
   "metadata": {},
   "source": [
    "# Model Predictive Control Rocket Soft-Landing Problem\n",
    "\n",
    "This notebook is a walkthough of the ALTRO solver for the MPC Rocket Soft-Landing Problem (i.e. the general control challenge of landing a rocket at rest at a designated landing site). In the simplest case, we treat the rocket as a sphere landing on a flat surface with no atmosphere. This approximation is reasonable when the rocket is near the ground and entering the final part of the descent.\n",
    "\n",
    "**This files focuses on the MPC problem and comparing the result to other solvers. For the simple (non-MPC) application, please visit the <code>RocketLandingSimplified.ipynb</code> file. Thanks!**"
   ]
  },
  {
   "cell_type": "code",
   "execution_count": 1,
   "metadata": {},
   "outputs": [],
   "source": [
    "# using Pkg\n",
    "# Pkg.activate(\".\")\n",
    "# Pkg.instantiate()"
   ]
  },
  {
   "cell_type": "markdown",
   "metadata": {},
   "source": [
    "## MPC Problem Outline\n",
    "\n",
    "For the MPC application, we must fulfill two critical steps:\n",
    "1. Solve the optimal trajectory and apply the required controls (usually a short horizon)\n",
    "2. Use the prior trajectory to warm-start the next solve\n",
    "\n",
    "In this Jupyter notebook, we will:\n",
    "1. Set up the rocket soft-landing problem \n",
    "2. Solve the initial trajectory optimization problem\n",
    "3. Execute the control (and propagate forward in time)\n",
    "4. Warm-Start the next iteration\n",
    "5. Solve the next trajectory optimization problem\n",
    "6. Repeat steps 3-5 until arrival at the landing location"
   ]
  },
  {
   "cell_type": "markdown",
   "metadata": {},
   "source": [
    "# Step 1: Set-Up the Rocket Soft-Landing Problem"
   ]
  },
  {
   "cell_type": "markdown",
   "metadata": {},
   "source": [
    "## Load Required Packages\n",
    "\n",
    "The <code>Convex</code> package enables us to write the optimization problem. The <code>ECOS</code> package will solve the trajectory optimization problem. <code>StaticArrays</code>, <code>SparseArrays</code>, and <code>LinearAlgebra</code> are required to set-up the appropriate data types.\n",
    "\n",
    "Next, <code>Plots, MeshCat, TrajOptPlots, FileIO,</code> and <code>MeshIO</code> packages are used to visualize the results. Note that the plotting sections will take significantly longer to run than the optimization. \n",
    "\n",
    "Lastly, <code>DifferentialEquations</code> integrates the dynamics forward as a way to show that the dynamics constraints are satisfied.\n",
    "\n",
    "Loading all the packages, especially for plotting and the differential equations integrator can be the longest part of the whole notebook."
   ]
  },
  {
   "cell_type": "code",
   "execution_count": 2,
   "metadata": {},
   "outputs": [
    {
     "name": "stdout",
     "output_type": "stream",
     "text": [
      "Optimization Packages Ready\n",
      "Base Plotting Packages Ready\n",
      "3D Plotting Packages Ready\n",
      "Differential Equations Ready\n"
     ]
    }
   ],
   "source": [
    "using Convex\n",
    "using ECOS\n",
    "using StaticArrays, SparseArrays, LinearAlgebra\n",
    "println(\"Optimization Packages Ready\")\n",
    "\n",
    "using Plots\n",
    "pyplot()\n",
    "println(\"Base Plotting Packages Ready\")\n",
    "\n",
    "using MeshCat, TrajOptPlots\n",
    "using FileIO, MeshIO\n",
    "println(\"3D Plotting Packages Ready\")\n",
    "\n",
    "import DifferentialEquations.solve, DifferentialEquations.ODEProblem, DifferentialEquations.Tsit5\n",
    "using BenchmarkTools\n",
    "println(\"Differential Equations Ready\")"
   ]
  },
  {
   "cell_type": "markdown",
   "metadata": {},
   "source": [
    "## Define and Create the Rocket Model\n",
    "\n",
    "Unlike the Cartpole and Quadrotor models, the Rocket Model is not in the <code>RobotZoo.jl</code> package. Instead, here we build off of work found in the repository below to develop a simplified rocket soft-landing scenario (i.e. no second-order cone constraints and no attitude dynamics). https://github.com/danineamati/TrajOptSOCPs.jl\n",
    "\n",
    "In the simplified case, <code>Rocket</code> only holds the mass and the gravity vector. In the full rocket landing problem, the inertia matrix must also be provided. Separately, the thurster's specific impulse can be used to scale the optimal controls."
   ]
  },
  {
   "cell_type": "code",
   "execution_count": 3,
   "metadata": {},
   "outputs": [],
   "source": [
    "struct rocket_simple\n",
    "    mass\n",
    "    isp\n",
    "    grav\n",
    "    deltaTime\n",
    "end"
   ]
  },
  {
   "cell_type": "markdown",
   "metadata": {},
   "source": [
    "## Detail the Rocket Dynamics\n",
    "\n",
    "For the simplified rocket problem, we choose to ignore the attitude dynamics. Applying newton's second law or by forming a Lagrangian, we arrive at the following sparse system\n",
    "\n",
    "$$\\frac{dx}{dt} = Ax + Bu + g$$\n",
    "\n",
    "Where $A = \\begin{bmatrix}0 & I\\\\ 0 & 0 \\end{bmatrix}$, $B = \\begin{bmatrix}0 \\\\ \\frac{1}{m} I\\end{bmatrix}$, and $G = \\begin{bmatrix} 0 \\\\ -g \\end{bmatrix}$. For the 3D case, these are $(6 \\times 6)$, $(6 \\times 3)$, and $(6 \\times 1)$ matricies, respectively.\n",
    "\n",
    "Since the system is so sparse, we can reduce unnecessary computations by writing the equations for the first and second derivatives. We use the notation of $s = [x; y; z]$ (the positions) and $\\frac{ds}{dt} = [v_x; v_y; v_z]$ (the velocities). Call $y = [x; u; g]$, then,\n",
    "$$\n",
    "\\frac{dy}{dt} = \\begin{bmatrix}A & B & I\\\\ 0 & 0 & 0\\\\ 0 & 0 & 0\\end{bmatrix} y = W y\n",
    "$$\n",
    "which has solution\n",
    "$$\n",
    "y(t) = e^{W t} y0\n",
    "$$\n",
    "where W is square. In a discrete system,\n",
    "$$\n",
    "y_{k+1} = e^{W Δt} y_k = E y_k\n",
    "$$\n",
    "Note that due to all the zeros in W, we get:\n",
    "$$\n",
    "x_{k+1} = E_{11} x_k + E_{12} u_k + E_{13} g\n",
    "$$\n",
    "$$\n",
    "u_{k+1} = E_{21} x_k + E_{22} u_k + E_{23} g = u_k\n",
    "$$\n",
    "$$\n",
    "g = E_{31} x_k + E_{32} u_k + E_{33} g = g\n",
    "$$\n",
    "\n",
    "Thus, once we calculate the matrix $E$, we extract $E_{11}$, $E_{12}$, and $E_{13}$ to a system of the\n",
    "form:\n",
    "\n",
    "$$\n",
    "x_{k+1} = A_{\\text{eff}} \\ x_k + B_{\\text{eff}} \\ u_k + G_{\\text{eff}}\n",
    "$$"
   ]
  },
  {
   "cell_type": "code",
   "execution_count": 4,
   "metadata": {},
   "outputs": [
    {
     "data": {
      "text/plain": [
       "rocketDynamics (generic function with 1 method)"
      ]
     },
     "execution_count": 4,
     "metadata": {},
     "output_type": "execute_result"
    }
   ],
   "source": [
    "function rocketDynamicsContinuousMat(r::rocket_simple, nDim::Int64)\n",
    "    # Start off with a dense representation because it is needed for the\n",
    "    # exponentiation.\n",
    "    z0 = zeros(nDim, nDim)\n",
    "    aMat = [z0 I; z0 z0]\n",
    "    bMat = [z0; -(1/r.mass) * I]\n",
    "    gMat = [z0; I]\n",
    "    \n",
    "    return aMat, bMat, gMat\n",
    "end\n",
    "\n",
    "function rocketDynamics(r::rocket_simple, nDim::Int64)\n",
    "    \n",
    "    aMat, bMat, gMat = rocketDynamicsContinuousMat(r, nDim)\n",
    "\n",
    "    # Top Row\n",
    "    abg = [aMat bMat gMat]\n",
    "    abg_size = size(abg)\n",
    "\n",
    "    # We need to pad the remaining rows to make a square matrix\n",
    "    remainingRows = abg_size[2] - abg_size[1]\n",
    "    abgTot = [abg; zeros(remainingRows, abg_size[2])]\n",
    "\n",
    "    # Take the exponent e^(W Δt)\n",
    "    eMat = exp(abgTot * r.deltaTime)\n",
    "\n",
    "    # Extract the effective matrices\n",
    "    rowsA = size(aMat, 1)\n",
    "    colsA = size(aMat, 2)\n",
    "    colsB = size(bMat, 2)\n",
    "\n",
    "    aEffMat = sparse(eMat[1:rowsA, 1:colsA])\n",
    "    bEffMat = sparse(eMat[1:rowsA, colsA + 1:colsA + colsB])\n",
    "    gEffMat = sparse(eMat[1:rowsA, colsA + colsB + 1:end])\n",
    "\n",
    "    # Return the three effective matrices\n",
    "    return aEffMat, bEffMat, gEffMat\n",
    "end"
   ]
  },
  {
   "cell_type": "markdown",
   "metadata": {},
   "source": [
    "Now we want to stack these per iteration dynamics into a single matrix from which we will build an affine equality constraint. To do this, we create the helper function below.\n",
    "\n",
    "Specifically, we get the system:\n",
    "$$\\begin{bmatrix}A & B & -I\\end{bmatrix} \\begin{bmatrix}x_k \\\\ u_k \\\\ x_{k+1}\\end{bmatrix} = G$$\n",
    "which we can stack as\n",
    "$$\\begin{bmatrix}\n",
    "A & B & -I & 0 & 0 & 0 & 0 & 0 & 0 \\\\\n",
    "0 & 0 & A & B & -I & 0 & 0 & 0 & 0 \\\\\n",
    "0 & 0 & 0 & 0 & A & B & -I & 0 & 0 \\\\\n",
    "0 & 0 & 0 & 0 & 0 & 0 & A & B & -I\n",
    "\\end{bmatrix}\n",
    "$$\n",
    "We return the above matrix and the stacked `G` matrix."
   ]
  },
  {
   "cell_type": "code",
   "execution_count": 5,
   "metadata": {},
   "outputs": [
    {
     "data": {
      "text/plain": [
       "rocketDynamicsStack (generic function with 1 method)"
      ]
     },
     "execution_count": 5,
     "metadata": {},
     "output_type": "execute_result"
    }
   ],
   "source": [
    "function rocketDynamicsStack(r::rocket_simple, nDim::Int64, NSteps::Int64)\n",
    "    # First calculate the A and B matrices.\n",
    "    Ak, Bk, Gk = rocketDynamics(r::rocket_simple, nDim::Int64)\n",
    "    ABI_unit = [Ak Bk -I]\n",
    "    colLen = size(ABI_unit, 2)\n",
    "\n",
    "    # At each step we go down 2 * n rows and move right 3 * n columns.\n",
    "    sizeCols = 3 * NSteps * nDim + 2 * nDim\n",
    "    sizeRows = 2 * nDim * NSteps\n",
    "\n",
    "    # Initialize and empty sparse A matrix and G vector\n",
    "    AStacked = spzeros(sizeRows, sizeCols)\n",
    "    GStacked = spzeros(sizeRows, 1)\n",
    "\n",
    "    # Build up the matrix\n",
    "    rStart = 1\n",
    "    cStart = 1\n",
    "    for k in 1:NSteps\n",
    "        rEnd = rStart + (2 * nDim - 1)\n",
    "        cEnd = cStart + colLen - 1\n",
    "\n",
    "        # First, we calculate that stacked A Matrix\n",
    "        # println(\"Accessing $rStart:$rEnd and $cStart:$cEnd\")\n",
    "        AStacked[rStart:rEnd, cStart:cEnd] = ABI_unit\n",
    "\n",
    "        # Second, we calculate the stacked G vector\n",
    "        GStacked[rStart:rEnd] = -Gk * r.grav\n",
    "\n",
    "        # Prepare for next iteration.\n",
    "        rStart += 2 * nDim\n",
    "        cStart += 3 * nDim\n",
    "    end\n",
    "\n",
    "    # Returned the stacked matrix (A) and vector (G)\n",
    "    return AStacked, GStacked\n",
    "end"
   ]
  },
  {
   "cell_type": "markdown",
   "metadata": {},
   "source": [
    "## Instantiate the Model and Define the Discretization\n",
    "\n",
    "Feel free to choose <code>N</code> and <code>tf</code> based on your needs."
   ]
  },
  {
   "cell_type": "code",
   "execution_count": 6,
   "metadata": {},
   "outputs": [
    {
     "data": {
      "text/latex": [
       "2 5 . 0"
      ],
      "text/plain": [
       "25.0"
      ]
     },
     "metadata": {},
     "output_type": "display_data"
    },
    {
     "data": {
      "text/latex": [
       "2256"
      ],
      "text/plain": [
       "2256"
      ]
     },
     "metadata": {},
     "output_type": "display_data"
    },
    {
     "data": {
      "text/plain": [
       "rocket_simple(1, 1, [0.0, 0.0, -9.81], 0.1)"
      ]
     },
     "execution_count": 6,
     "metadata": {},
     "output_type": "execute_result"
    }
   ],
   "source": [
    "mass = 1\n",
    "isp = 1\n",
    "grav = [0; 0; -9.81]\n",
    "deltaTime = 0.1\n",
    "rocket = rocket_simple(mass, isp, grav, deltaTime)\n",
    "\n",
    "# Trajectory Discretization\n",
    "N = 250\n",
    "tf = N * deltaTime\n",
    "display(tf)\n",
    "\n",
    "# Dimensionality\n",
    "num_controls = 3 # ux, uy, uz\n",
    "num_states = 6 # x, y, z, vx, vy, vz\n",
    "var_size = N * (num_controls + num_states) + num_states # Last step does not have a control\n",
    "display(var_size)\n",
    "\n",
    "# Set Up the Trajectory Variable with Convex.jl\n",
    "tau = Variable(var_size) # Trajectory\n",
    "\n",
    "rocket # (Simply for information) Display the struct as the cell output "
   ]
  },
  {
   "cell_type": "markdown",
   "metadata": {},
   "source": [
    "## Specify the Initial and Final Conditions\n",
    "\n",
    "Choose the initial and final points. Note that these must be full state vectors ($[x; y; z; v_x; v_y; v_z]$). The initial point is generally the rocket's current state. The final point is generally the rocket's landing stop. Note that the final velocity of the rocket should **always** be $[0.0; 0.0; 0.0]$ to have a **soft** landing."
   ]
  },
  {
   "cell_type": "code",
   "execution_count": 7,
   "metadata": {},
   "outputs": [],
   "source": [
    "# Initial and Final Conditions\n",
    "# in m\n",
    "# The Karman Line (100 km)\n",
    "const rocketStart = [5.0, 5.0, 20.0, 0.0, 0.0, -15.0]\n",
    "const rocketEnd = [0.0, 0.0, 0.0, 0.0, 0.0, 0.0];"
   ]
  },
  {
   "cell_type": "markdown",
   "metadata": {},
   "source": [
    "## Initialize the Trajectory\n",
    "\n",
    "We choose to initialize the trajectory at a hover (i.e. the rocket trajectory will initially only counter gravity). Note that this is **not** a warm start."
   ]
  },
  {
   "cell_type": "code",
   "execution_count": 8,
   "metadata": {},
   "outputs": [
    {
     "data": {
      "text/plain": [
       "initializeTraj (generic function with 1 method)"
      ]
     },
     "execution_count": 8,
     "metadata": {},
     "output_type": "execute_result"
    }
   ],
   "source": [
    "function initializeTraj(x0::Array{Float64, 1}, xN::Array{Float64, 1},\n",
    "                        NSteps::Int64)\n",
    "    if size(x0) != size(xN)\n",
    "        error(\"x0 and xN must have the same size. \" *\n",
    "                \"Currently: x0 = $x0 and xN = $xN\")\n",
    "    end\n",
    "    if mod(size(x0, 1), 2) != 0\n",
    "        error(\"x0 and xN must have an even number of variables. \" *\n",
    "              \"Example, x0 = [sx0; sy0; vx0; vy0]. Currently x0 = $x0.\")\n",
    "    end\n",
    "\n",
    "    # Calculate the linearly interpolated x values\n",
    "    xSteps = LinRange(x0, xN, NSteps + 1)\n",
    "    # Now we want to stack this as a vector in the form\n",
    "    # [x0; u0; x1; ...; uN-1, xN]\n",
    "    nDim = Int64(size(x0, 1) / 2)\n",
    "    sizeXU = 3 * NSteps * nDim + 2 * nDim\n",
    "    XUfull = zeros(sizeXU, 1)\n",
    "\n",
    "    # println(\"Dimensions = $nDim\")\n",
    "\n",
    "    for k in 1:(NSteps + 1)\n",
    "        iStart = 1 + (k - 1) * (3 * nDim)\n",
    "        iEnd = iStart + (2 * nDim - 1)\n",
    "        # println(\"Accessing ($iStart, $iEnd)\")\n",
    "        XUfull[iStart:iEnd] = xSteps[k]\n",
    "    end\n",
    "\n",
    "    return XUfull\n",
    "end"
   ]
  },
  {
   "cell_type": "code",
   "execution_count": 9,
   "metadata": {},
   "outputs": [],
   "source": [
    "initTraj = initializeTraj(rocketStart, rocketStart, N)\n",
    "\n",
    "set_value!(tau, initTraj);"
   ]
  },
  {
   "cell_type": "markdown",
   "metadata": {},
   "source": [
    "## Set-Up the LQR Objective Function\n",
    "\n",
    "For this problem, we choose an LQR Objective Function. One can add waypoints or change the weights to craft different optimal trajectories. See http://roboticexplorationlab.org/TrajectoryOptimization.jl/stable/costfunctions.html for more information."
   ]
  },
  {
   "cell_type": "code",
   "execution_count": 10,
   "metadata": {},
   "outputs": [],
   "source": [
    "Q = 0.025 * Diagonal(I, num_states)\n",
    "Qf = 1 * Diagonal(I, num_states)\n",
    "R = 0.25 * Diagonal(I, num_controls);\n",
    "\n",
    "\n",
    "function getQRFull(Q, Qf, R, N, v)\n",
    "    # Initialize and empty sparse array\n",
    "    QRFull = spzeros(v, v)\n",
    "\n",
    "    rStart = 1\n",
    "\n",
    "    # Put Q and R along the diagonal\n",
    "    for k in 1:N\n",
    "        rEnd = rStart + num_states - 1\n",
    "        QRFull[rStart:rEnd, rStart:rEnd] = Q\n",
    "\n",
    "        rStart += num_states\n",
    "        rEnd = rStart + num_controls - 1\n",
    "\n",
    "        QRFull[rStart:rEnd, rStart:rEnd] = R\n",
    "\n",
    "        rStart += num_controls\n",
    "    end\n",
    "    rEnd = rStart + num_states - 1\n",
    "    QRFull[rStart:rEnd, rStart:rEnd] = Qf\n",
    "\n",
    "    return Symmetric(QRFull);\n",
    "    \n",
    "end\n",
    "\n",
    "\n",
    "QRFull = getQRFull(Q, Qf, R, N, var_size);"
   ]
  },
  {
   "cell_type": "code",
   "execution_count": 11,
   "metadata": {},
   "outputs": [
    {
     "data": {
      "text/plain": [
       "minimize\n",
       "└─ * (convex; positive)\n",
       "   ├─ 1\n",
       "   └─ qol_elem (convex; positive)\n",
       "      ├─ norm2 (convex; positive)\n",
       "      │  └─ …\n",
       "      └─ [1.0]\n",
       "\n",
       "status: `solve!` not called yet"
      ]
     },
     "execution_count": 11,
     "metadata": {},
     "output_type": "execute_result"
    }
   ],
   "source": [
    "# Set the Objective Function to the problem\n",
    "\n",
    "try \n",
    "    problem = minimize(quadform(tau, QRFull / 2))\n",
    "catch LAPACKException\n",
    "    problem = minimize(quadform(tau, QRFull / 2))\n",
    "end\n",
    "\n",
    "problem = minimize(quadform(tau, QRFull / 2))"
   ]
  },
  {
   "cell_type": "code",
   "execution_count": 12,
   "metadata": {},
   "outputs": [
    {
     "data": {
      "image/png": "[encoded data removed]"
     },
     "execution_count": 12,
     "metadata": {},
     "output_type": "execute_result"
    }
   ],
   "source": [
    "spy(QRFull)"
   ]
  },
  {
   "cell_type": "markdown",
   "metadata": {},
   "source": [
    "## Define the Constraints\n",
    "\n",
    "For the simple rocket soft-landing problem, we will include 5 constraints:\n",
    "1. Dynamics Constraints ($A \\tau = B$)\n",
    "2. Initial and Terminal Constraints ($x[0] = x_0$ and $x[N] = x_N$)\n",
    "2. Crash Prevention Constraint ($z > 0$)\n",
    "3. Thrust Magnitude Bounds ($||u||_2 < u_{max}$)\n",
    "4. Thurst Angle Bounds ($||[u_x; u_y]|| ≤ \\alpha \\ u_z$)"
   ]
  },
  {
   "cell_type": "code",
   "execution_count": 13,
   "metadata": {},
   "outputs": [
    {
     "data": {
      "text/plain": [
       "1-element Array{Constraint,1}:\n",
       " == constraint (affine)\n",
       "├─ * (affine; real)\n",
       "│  ├─ 1500×2256 SparseMatrixCSC{Float64,Int64}\n",
       "│  └─ 2256-element real variable (id: 125…101)\n",
       "└─ 1500×1 SparseMatrixCSC{Float64,Int64}"
      ]
     },
     "execution_count": 13,
     "metadata": {},
     "output_type": "execute_result"
    }
   ],
   "source": [
    "# Add the Dynamics Constraints\n",
    "const AStack, BStack = rocketDynamicsStack(rocket, num_controls, N)\n",
    "\n",
    "problem.constraints += AStack * tau == BStack"
   ]
  },
  {
   "cell_type": "code",
   "execution_count": 14,
   "metadata": {},
   "outputs": [
    {
     "data": {
      "text/plain": [
       "4-element Array{Constraint,1}:\n",
       " == constraint (affine)\n",
       "├─ * (affine; real)\n",
       "│  ├─ 1500×2256 SparseMatrixCSC{Float64,Int64}\n",
       "│  └─ 2256-element real variable (id: 125…101)\n",
       "└─ 1500×1 SparseMatrixCSC{Float64,Int64}\n",
       " == constraint (affine)\n",
       "├─ index (affine; real)\n",
       "│  └─ 2256-element real variable (id: 125…101)\n",
       "└─ 6-element Array{Float64,1}\n",
       " >= constraint (affine)\n",
       "├─ index (affine; real)\n",
       "│  └─ 2256-element real variable (id: 125…101)\n",
       "└─ -10000\n",
       " == constraint (affine)\n",
       "├─ index (affine; real)\n",
       "│  └─ 2256-element real variable (id: 125…101)\n",
       "└─ 6-element Array{Float64,1}"
      ]
     },
     "execution_count": 14,
     "metadata": {},
     "output_type": "execute_result"
    }
   ],
   "source": [
    "# Add Initial and Terminal Constraints\n",
    "large_num = 10000\n",
    "\n",
    "problem.constraints += tau[1:6] == rocketStart\n",
    "problem.constraints += tau[7:(end - 6)] > -large_num\n",
    "problem.constraints += tau[(end - 5):end] == rocketEnd"
   ]
  },
  {
   "cell_type": "code",
   "execution_count": 15,
   "metadata": {},
   "outputs": [
    {
     "data": {
      "text/plain": [
       "5-element Array{Constraint,1}:\n",
       " == constraint (affine)\n",
       "├─ * (affine; real)\n",
       "│  ├─ 1500×2256 SparseMatrixCSC{Float64,Int64}\n",
       "│  └─ 2256-element real variable (id: 125…101)\n",
       "└─ 1500×1 SparseMatrixCSC{Float64,Int64}\n",
       " == constraint (affine)\n",
       "├─ index (affine; real)\n",
       "│  └─ 2256-element real variable (id: 125…101)\n",
       "└─ 6-element Array{Float64,1}\n",
       " >= constraint (affine)\n",
       "├─ index (affine; real)\n",
       "│  └─ 2256-element real variable (id: 125…101)\n",
       "└─ -10000\n",
       " == constraint (affine)\n",
       "├─ index (affine; real)\n",
       "│  └─ 2256-element real variable (id: 125…101)\n",
       "└─ 6-element Array{Float64,1}\n",
       " >= constraint (affine)\n",
       "├─ * (affine; real)\n",
       "│  ├─ 2256×2256 SparseMatrixCSC{Float64,Int64}\n",
       "│  └─ 2256-element real variable (id: 125…101)\n",
       "└─ 0"
      ]
     },
     "execution_count": 15,
     "metadata": {},
     "output_type": "execute_result"
    }
   ],
   "source": [
    "# Add the Ground Constraint\n",
    "ground_mat = spzeros(var_size, var_size)\n",
    "\n",
    "currInd = 3\n",
    "currRow = 1\n",
    "while currRow <= N\n",
    "    ground_mat[currRow, currInd] = 1\n",
    "\n",
    "    currRow += 1\n",
    "    currInd += 3 * Int(num_states / 2)\n",
    "end\n",
    "\n",
    "problem.constraints += ground_mat * tau > 0"
   ]
  },
  {
   "cell_type": "code",
   "execution_count": 16,
   "metadata": {},
   "outputs": [
    {
     "data": {
      "text/plain": [
       "6-element Array{Constraint,1}:\n",
       " == constraint (affine)\n",
       "├─ * (affine; real)\n",
       "│  ├─ 1500×2256 SparseMatrixCSC{Float64,Int64}\n",
       "│  └─ 2256-element real variable (id: 125…101)\n",
       "└─ 1500×1 SparseMatrixCSC{Float64,Int64}\n",
       " == constraint (affine)\n",
       "├─ index (affine; real)\n",
       "│  └─ 2256-element real variable (id: 125…101)\n",
       "└─ 6-element Array{Float64,1}\n",
       " >= constraint (affine)\n",
       "├─ index (affine; real)\n",
       "│  └─ 2256-element real variable (id: 125…101)\n",
       "└─ -10000\n",
       " == constraint (affine)\n",
       "├─ index (affine; real)\n",
       "│  └─ 2256-element real variable (id: 125…101)\n",
       "└─ 6-element Array{Float64,1}\n",
       " >= constraint (affine)\n",
       "├─ * (affine; real)\n",
       "│  ├─ 2256×2256 SparseMatrixCSC{Float64,Int64}\n",
       "│  └─ 2256-element real variable (id: 125…101)\n",
       "└─ 0\n",
       " <= constraint (convex)\n",
       "├─ norm2 (convex; positive)\n",
       "│  └─ index (affine; real)\n",
       "│     └─ 2256-element real variable (id: 125…101)\n",
       "└─ 19.62"
      ]
     },
     "execution_count": 16,
     "metadata": {},
     "output_type": "execute_result"
    }
   ],
   "source": [
    "# Add Thrust Magnitude Bounds\n",
    "\n",
    "perWeightMax = 2\n",
    "\n",
    "problem.constraints += norm(tau[7:9], 2) < mass * norm(grav[3]) * perWeightMax"
   ]
  },
  {
   "cell_type": "markdown",
   "metadata": {},
   "source": [
    "## Select the solver options\n",
    "\n",
    "For more information, please visit https://github.com/RoboticExplorationLab/Altro.jl/blob/master/README.md for more details on the solver options.\n",
    "\n",
    "Using the Altro package, we can now specify parameters and solve the problem."
   ]
  },
  {
   "cell_type": "markdown",
   "metadata": {},
   "source": [
    "# Step 2: Solve the initial trajectory optimization problem"
   ]
  },
  {
   "cell_type": "markdown",
   "metadata": {},
   "source": [
    "Show summary is set to <code>true</code> to print the solver speed. In general the solve will take about 30 iterations and 65-80 ms to complete. "
   ]
  },
  {
   "cell_type": "code",
   "execution_count": 17,
   "metadata": {},
   "outputs": [
    {
     "data": {
      "text/plain": [
       "minimize\n",
       "└─ * (convex; positive)\n",
       "   ├─ 1\n",
       "   └─ qol_elem (convex; positive)\n",
       "      ├─ norm2 (convex; positive)\n",
       "      │  └─ …\n",
       "      └─ [1.0]\n",
       "subject to\n",
       "├─ == constraint (affine)\n",
       "│  ├─ * (affine; real)\n",
       "│  │  ├─ 1500×2256 SparseMatrixCSC{Float64,Int64}\n",
       "│  │  └─ 2256-element real variable (id: 125…101)\n",
       "│  └─ 1500×1 SparseMatrixCSC{Float64,Int64}\n",
       "├─ == constraint (affine)\n",
       "│  ├─ index (affine; real)\n",
       "│  │  └─ 2256-element real variable (id: 125…101)\n",
       "│  └─ 6-element Array{Float64,1}\n",
       "├─ >= constraint (affine)\n",
       "│  ├─ index (affine; real)\n",
       "│  │  └─ 2256-element real variable (id: 125…101)\n",
       "│  └─ -10000\n",
       "├─ == constraint (affine)\n",
       "│  ├─ index (affine; real)\n",
       "│  │  └─ 2256-element real variable (id: 125…101)\n",
       "│  └─ 6-element Array{Float64,1}\n",
       "├─ >= constraint (affine)\n",
       "│  ├─ * (affine; real)\n",
       "│  │  ├─ 2256×2256 SparseMatrixCSC{Float64,Int64}\n",
       "│  │  └─ 2256-element real variable (id: 125…101)\n",
       "│  └─ 0\n",
       "└─ <= constraint (convex)\n",
       "   ├─ norm2 (convex; positive)\n",
       "   │  └─ index (affine; real)\n",
       "   │     └─ …\n",
       "   └─ 19.62\n",
       "\n",
       "status: `solve!` not called yet"
      ]
     },
     "execution_count": 17,
     "metadata": {},
     "output_type": "execute_result"
    }
   ],
   "source": [
    "problem"
   ]
  },
  {
   "cell_type": "markdown",
   "metadata": {},
   "source": [
    "Now we can solve it and show the summary"
   ]
  },
  {
   "cell_type": "code",
   "execution_count": 18,
   "metadata": {},
   "outputs": [
    {
     "name": "stdout",
     "output_type": "stream",
     "text": [
      "\n",
      "ECOS 2.0.5 - (C) embotech GmbH, Zurich Switzerland, 2012-15. Web: www.embotech.com/ECOS\n",
      "\n",
      "It     pcost       dcost      gap   pres   dres    k/t    mu     step   sigma     IR    |   BT\n",
      " 0  +0.000e+00  -2.244e+07  +4e+07  2e-01  8e-01  1e+00  9e+03    ---    ---    1  1  - |  -  - \n",
      " 1  -9.118e+01  -5.909e+06  +1e+07  7e-02  2e-01  2e+03  3e+03  0.9215  2e-01   1  1  1 |  0  0\n",
      " 2  -7.530e+01  -4.186e+06  +7e+06  6e-02  1e-01  2e+03  2e+03  0.7833  5e-01   1  1  1 |  0  0\n",
      " 3  -6.570e+00  -3.462e+05  +6e+05  5e-03  1e-02  2e+02  1e+02  0.9115  1e-03   1  1  1 |  0  0\n",
      " 4  -2.510e+01  -3.049e+05  +5e+05  5e-03  5e-03  1e+02  1e+02  0.9890  7e-01   1  1  1 |  0  0\n",
      " 5  -2.415e+00  -2.774e+05  +4e+05  4e-03  2e-03  1e+02  9e+01  0.4083  7e-01   1  1  1 |  0  0\n",
      " 6  +3.425e+01  -1.058e+05  +2e+05  2e-03  5e-04  5e+01  3e+01  0.7960  2e-01   1  1  1 |  0  0\n",
      " 7  +3.241e+00  -3.817e+03  +6e+03  7e-05  1e-05  2e+00  1e+00  0.9853  2e-02   1  1  1 |  0  0\n",
      " 8  +3.457e+00  -1.677e+03  +3e+03  3e-05  5e-06  7e-01  6e-01  0.6235  9e-02   1  1  1 |  0  0\n",
      " 9  +1.039e+01  -1.744e+03  +2e+03  3e-05  4e-06  8e-01  6e-01  0.0264  8e-01   1  1  2 |  0  0\n",
      "10  +1.026e+01  -1.897e+03  +2e+03  4e-05  3e-06  1e+00  5e-01  0.1622  7e-01   1  1  1 |  0  0\n",
      "11  +4.692e+01  -1.806e+03  +2e+03  3e-05  3e-06  9e-01  5e-01  0.0206  9e-01   1  1  2 |  0  0\n",
      "12  +3.818e+01  -2.061e+03  +2e+03  4e-05  2e-06  1e+00  4e-01  0.5306  7e-01   1  1  1 |  0  0\n",
      "13  +2.707e+02  -1.537e+03  +2e+03  4e-05  2e-06  9e-01  4e-01  0.1353  9e-01   1  1  2 |  0  0\n",
      "14  +2.482e+02  -1.209e+03  +8e+02  3e-05  9e-07  1e+00  2e-01  0.9886  4e-01   1  1  1 |  0  0\n",
      "15  +9.981e+02  +1.884e+02  +7e+02  2e-05  6e-07  3e-01  1e-01  0.7208  7e-01   1  1  1 |  0  0\n",
      "16  +1.426e+03  +6.641e+02  +2e+02  2e-05  4e-07  1e+00  5e-02  0.9890  3e-01   1  1  1 |  0  0\n",
      "17  +1.585e+03  +1.103e+03  +2e+02  1e-05  2e-07  7e-01  3e-02  0.7074  5e-01   1  1  2 |  0  0\n",
      "18  +2.551e+03  +2.319e+03  +6e+01  6e-06  1e-07  4e-01  1e-02  0.6838  1e-01   2  2  2 |  0  0\n",
      "19  +2.993e+03  +2.887e+03  +3e+01  3e-06  5e-08  2e-01  6e-03  0.7892  3e-01   1  1  1 |  0  0\n",
      "20  +3.300e+03  +3.254e+03  +1e+01  1e-06  2e-08  1e-01  2e-03  0.7360  2e-01   1  1  1 |  0  0\n",
      "21  +3.444e+03  +3.428e+03  +4e+00  5e-07  9e-09  4e-02  8e-04  0.8526  2e-01   1  1  1 |  0  0\n",
      "22  +3.505e+03  +3.499e+03  +1e+00  2e-07  3e-09  2e-02  3e-04  0.8593  3e-01   1  1  1 |  0  0\n",
      "23  +3.526e+03  +3.524e+03  +5e-01  7e-08  1e-09  7e-03  1e-04  0.8347  3e-01   2  1  1 |  0  0\n",
      "24  +3.538e+03  +3.538e+03  +1e-01  1e-08  3e-10  2e-03  2e-05  0.8189  4e-02   2  1  1 |  0  0\n",
      "25  +3.539e+03  +3.539e+03  +8e-02  1e-08  2e-10  1e-03  2e-05  0.5484  5e-01   1  1  1 |  0  0\n",
      "26  +3.541e+03  +3.541e+03  +2e-02  2e-09  7e-11  2e-04  4e-06  0.8156  5e-02   2  1  1 |  0  0\n",
      "27  +3.541e+03  +3.541e+03  +8e-03  1e-09  4e-11  1e-04  2e-06  0.7355  3e-01   2  1  1 |  0  0\n",
      "28  +3.541e+03  +3.541e+03  +4e-03  5e-10  2e-11  6e-05  9e-07  0.7778  3e-01   2  1  1 |  0  0\n",
      "29  +3.541e+03  +3.541e+03  +1e-03  1e-10  1e-11  2e-05  2e-07  0.8835  2e-01   2  1  1 |  0  0\n",
      "30  +3.541e+03  +3.541e+03  +4e-04  7e-11  5e-12  6e-06  8e-08  0.7881  2e-01   1  1  1 |  0  0\n",
      "31  +3.541e+03  +3.541e+03  +2e-04  3e-11  4e-12  2e-06  4e-08  0.9259  4e-01   1  1  1 |  0  0\n",
      "32  +3.541e+03  +3.541e+03  +4e-05  2e-08  1e-12  6e-07  9e-09  0.9757  2e-01   0  0  0 |  0  0\n",
      "\b\b\b\b\b\b\b\b\b\b\b\b\b\b\b\b\b\b\b\b\b\b\b\b\b\b\b\b\b\b\b\b\b\b\b\b\b\b\b\b\b\b\b\b\b\b\b\b\b\b\b\b\b\b\b\b\b\b\b\b\b\b\b\b\b\b\b\b\b\b\b\b\b\b\b\b\b\b\b\b\b\bUnreliable search direction detected, recovering best iterate (31) and stopping.\n",
      "\n",
      "Close to OPTIMAL (within feastol=3.3e-11, reltol=4.5e-08, abstol=1.6e-04).\n",
      "Runtime: 0.054146 seconds.\n",
      "\n"
     ]
    },
    {
     "name": "stderr",
     "output_type": "stream",
     "text": [
      "┌ Warning: Problem status ALMOST_OPTIMAL; solution may be inaccurate.\n",
      "└ @ Convex C:\\Users\\Daniel N\\.julia\\packages\\Convex\\aYxJA\\src\\solution.jl:252\n"
     ]
    }
   ],
   "source": [
    "solve!(problem, ECOS.Optimizer)"
   ]
  },
  {
   "cell_type": "code",
   "execution_count": 19,
   "metadata": {},
   "outputs": [
    {
     "data": {
      "text/plain": [
       "minimize\n",
       "└─ * (convex; positive)\n",
       "   ├─ 1\n",
       "   └─ qol_elem (convex; positive)\n",
       "      ├─ norm2 (convex; positive)\n",
       "      │  └─ …\n",
       "      └─ [1.0]\n",
       "subject to\n",
       "├─ == constraint (affine)\n",
       "│  ├─ * (affine; real)\n",
       "│  │  ├─ 1500×2256 SparseMatrixCSC{Float64,Int64}\n",
       "│  │  └─ 2256-element real variable (id: 125…101)\n",
       "│  └─ 1500×1 SparseMatrixCSC{Float64,Int64}\n",
       "├─ == constraint (affine)\n",
       "│  ├─ index (affine; real)\n",
       "│  │  └─ 2256-element real variable (id: 125…101)\n",
       "│  └─ 6-element Array{Float64,1}\n",
       "├─ >= constraint (affine)\n",
       "│  ├─ index (affine; real)\n",
       "│  │  └─ 2256-element real variable (id: 125…101)\n",
       "│  └─ -10000\n",
       "├─ == constraint (affine)\n",
       "│  ├─ index (affine; real)\n",
       "│  │  └─ 2256-element real variable (id: 125…101)\n",
       "│  └─ 6-element Array{Float64,1}\n",
       "├─ >= constraint (affine)\n",
       "│  ├─ * (affine; real)\n",
       "│  │  ├─ 2256×2256 SparseMatrixCSC{Float64,Int64}\n",
       "│  │  └─ 2256-element real variable (id: 125…101)\n",
       "│  └─ 0\n",
       "└─ <= constraint (convex)\n",
       "   ├─ norm2 (convex; positive)\n",
       "   │  └─ index (affine; real)\n",
       "   │     └─ …\n",
       "   └─ 19.62\n",
       "\n",
       "termination status: ALMOST_OPTIMAL\n",
       "primal status: NEARLY_FEASIBLE_POINT\n",
       "dual status: NEARLY_FEASIBLE_POINT"
      ]
     },
     "execution_count": 19,
     "metadata": {},
     "output_type": "execute_result"
    }
   ],
   "source": [
    "problem"
   ]
  },
  {
   "cell_type": "markdown",
   "metadata": {},
   "source": [
    "Access the Trajectory"
   ]
  },
  {
   "cell_type": "code",
   "execution_count": 20,
   "metadata": {},
   "outputs": [
    {
     "data": {
      "text/latex": [
       "3 5 4 1 . 2 8 6 0 4 0 0 9 1 9 2 7 6"
      ],
      "text/plain": [
       "3541.2860400919276"
      ]
     },
     "metadata": {},
     "output_type": "display_data"
    },
    {
     "data": {
      "text/plain": [
       "6-element Array{Float64,1}:\n",
       "   5.0\n",
       "   5.0\n",
       "  20.0\n",
       "   0.0\n",
       "   0.0\n",
       " -15.0"
      ]
     },
     "metadata": {},
     "output_type": "display_data"
    },
    {
     "data": {
      "text/plain": [
       "2256-element Array{Float64,1}:\n",
       "   4.999999999999285\n",
       "   4.999999999999285\n",
       "  19.99999999997083\n",
       "  -1.0108837898226777e-12\n",
       "  -1.0108837898764586e-12\n",
       " -15.000000000026136\n",
       "   1.5149120710267643\n",
       "   1.5149120710267674\n",
       " -17.08900006932598\n",
       "   4.992425439643356\n",
       "   4.992425439643356\n",
       "  18.53639500028596\n",
       "  -0.15149120710462888\n",
       "   ⋮\n",
       "  -5.174098278031562e-6\n",
       "  -5.174098278031559e-6\n",
       "  -0.000532017505054822\n",
       "  -5.174099255398818e-5\n",
       "  -5.174099255398808e-5\n",
       "  -9.815320219255218\n",
       "  -6.341094633545689e-13\n",
       "  -6.341094633546284e-13\n",
       "  -7.971709111885264e-9\n",
       "   4.886832488313711e-13\n",
       "   4.886832488315085e-13\n",
       "   2.210233673333514e-9"
      ]
     },
     "execution_count": 20,
     "metadata": {},
     "output_type": "execute_result"
    }
   ],
   "source": [
    "display(problem.optval)\n",
    "display(rocketStart)\n",
    "result_traj = evaluate(tau)"
   ]
  },
  {
   "cell_type": "code",
   "execution_count": 21,
   "metadata": {},
   "outputs": [],
   "source": [
    "function getXVU(tau)\n",
    "    kStart = 1\n",
    "    maxK = length(tau)\n",
    "    # println(\"Max = $maxK\")\n",
    "\n",
    "    xList = []\n",
    "    vList = []\n",
    "    uList = []\n",
    "\n",
    "    while kStart < (maxK - 2 * num_controls)\n",
    "        # println(\"Accessing $kStart to $(kStart + 3 * nDim - 1)\")\n",
    "        push!(xList, evaluate(tau)[kStart:kStart + num_controls - 1])\n",
    "        push!(vList, evaluate(tau)[kStart + num_controls:kStart + 2 * num_controls - 1])\n",
    "        push!(uList, evaluate(tau)[kStart + 2 * num_controls:kStart + 3 * num_controls - 1])\n",
    "\n",
    "        kStart = kStart + 3 * num_controls\n",
    "    end\n",
    "    \n",
    "    return xList, vList, uList\n",
    "end\n",
    "\n",
    "xList, vList, uList = getXVU(tau);"
   ]
  },
  {
   "cell_type": "code",
   "execution_count": 22,
   "metadata": {},
   "outputs": [],
   "source": [
    "xs = [x[1] for x in xList]\n",
    "ys = [x[2] for x in xList]\n",
    "zs = [x[3] for x in xList];"
   ]
  },
  {
   "cell_type": "code",
   "execution_count": 23,
   "metadata": {},
   "outputs": [
    {
     "data": {
      "image/png": "[encoded data removed]"
     },
     "execution_count": 23,
     "metadata": {},
     "output_type": "execute_result"
    }
   ],
   "source": [
    "plot(xs, zs)"
   ]
  },
  {
   "cell_type": "code",
   "execution_count": 24,
   "metadata": {},
   "outputs": [
    {
     "data": {
      "image/png": "[encoded data removed]"
     },
     "execution_count": 24,
     "metadata": {},
     "output_type": "execute_result"
    },
    {
     "name": "stderr",
     "output_type": "stream",
     "text": [
      "sys:1: MatplotlibDeprecationWarning: Additional positional arguments to set_ticklabels are ignored, and deprecated since Matplotlib 3.1; passing them will raise a TypeError in Matplotlib 3.3.\r\n"
     ]
    }
   ],
   "source": [
    "plot3d(xs, ys, zs)"
   ]
  },
  {
   "cell_type": "code",
   "execution_count": 25,
   "metadata": {},
   "outputs": [],
   "source": [
    "uxs = [u[1] for u in uList]\n",
    "uys = [u[2] for u in uList]\n",
    "uzs = [u[3] for u in uList];"
   ]
  },
  {
   "cell_type": "code",
   "execution_count": 26,
   "metadata": {},
   "outputs": [
    {
     "data": {
      "image/png": "[encoded data removed]"
     },
     "execution_count": 26,
     "metadata": {},
     "output_type": "execute_result"
    }
   ],
   "source": [
    "plot(uxs)\n",
    "plot!(uys)"
   ]
  },
  {
   "cell_type": "code",
   "execution_count": 27,
   "metadata": {},
   "outputs": [
    {
     "data": {
      "image/png": "[encoded data removed]"
     },
     "execution_count": 27,
     "metadata": {},
     "output_type": "execute_result"
    }
   ],
   "source": [
    "plot(-uzs)"
   ]
  },
  {
   "cell_type": "markdown",
   "metadata": {},
   "source": [
    "## Step 3: Integrate the Dynamics to Verify the Dynamics Constraint\n",
    "\n",
    "In Matlab, we would use ODE 45, but in the <code>DifferentialEquations.jl</code> package we can either (1) just let the <code>solve</code> method figure it out or (2) specify a solver such as <code>Tsit5</code>."
   ]
  },
  {
   "cell_type": "code",
   "execution_count": 28,
   "metadata": {},
   "outputs": [],
   "source": [
    "num_timesteps = N - 5\n",
    "\n",
    "get_controls(t) = uList[min(Int(floor(t/deltaTime)) + 1, size(uList,1))]\n",
    "\n",
    "A, B, g = rocketDynamicsContinuousMat(rocket, num_controls)\n",
    "\n",
    "f(y,p,t) = A * y + B * get_controls(t) + g * grav\n",
    "\n",
    "states_y0 = rocketStart\n",
    "tspan = (0.0, deltaTime * num_timesteps)\n",
    "controls_p0 = get_controls(tspan[1])\n",
    "\n",
    "# Use the DifferentialEquations.jl Package\n",
    "ode_prob = ODEProblem(f, states_y0, tspan, controls_p0,saveat=deltaTime)\n",
    "ode_sol = solve(ode_prob, Tsit5(), reltol=1e-10, abstol=1e-10);"
   ]
  },
  {
   "cell_type": "code",
   "execution_count": 29,
   "metadata": {},
   "outputs": [],
   "source": [
    "xvList = [[xList[i]; vList[i]] for i = 1:size(xList, 1)]\n",
    "\n",
    "err = norm.(ode_sol.u - xvList[1:(Int(round(tspan[2]/deltaTime))+1)]);"
   ]
  },
  {
   "cell_type": "code",
   "execution_count": 30,
   "metadata": {},
   "outputs": [
    {
     "data": {
      "image/png": "[encoded data removed]"
     },
     "execution_count": 30,
     "metadata": {},
     "output_type": "execute_result"
    }
   ],
   "source": [
    "plot(ode_sol.t, err, yaxis = :log)"
   ]
  },
  {
   "cell_type": "markdown",
   "metadata": {},
   "source": [
    "## Step 4: Warm-Start the next iteration"
   ]
  },
  {
   "cell_type": "code",
   "execution_count": 31,
   "metadata": {},
   "outputs": [
    {
     "name": "stdout",
     "output_type": "stream",
     "text": [
      "53"
     ]
    },
    {
     "data": {
      "text/latex": [
       "0 . 0 0 9 6 1 5 3 8 4 6 1 5 3 8 4 6 1 6"
      ],
      "text/plain": [
       "0.009615384615384616"
      ]
     },
     "execution_count": 31,
     "metadata": {},
     "output_type": "execute_result"
    }
   ],
   "source": [
    "warm_start_tau = evaluate(tau)[num_timesteps * (num_states + num_controls):end]\n",
    "x0 = ode_sol.u[end]\n",
    "\n",
    "N = size(warm_start_tau, 1) + 1\n",
    "print(N)\n",
    "\n",
    "tf = tf - deltaTime * num_timesteps\n",
    "deltaTime = tf / (N - 1)"
   ]
  },
  {
   "cell_type": "markdown",
   "metadata": {},
   "source": [
    "## Step 5 & 6: Solve the Problem and Repeat\n",
    "\n",
    "Now that we've seen each step in detail, let's put it all into a function and repeat it until landing."
   ]
  },
  {
   "cell_type": "code",
   "execution_count": 32,
   "metadata": {},
   "outputs": [
    {
     "data": {
      "text/plain": [
       "MPC (generic function with 1 method)"
      ]
     },
     "execution_count": 32,
     "metadata": {},
     "output_type": "execute_result"
    }
   ],
   "source": [
    "function diffEq_Model(model::rocket_simple, U, dt)\n",
    "\n",
    "    get_controls(t) = U[min(Int(floor(t/dt)) + 1, size(uList,1))]\n",
    "\n",
    "    A, B, g = rocketDynamicsContinuousMat(rocket, num_controls)\n",
    "\n",
    "    f(y,p,t) = A * y + B * get_controls(t) + g * grav\n",
    "\n",
    "    states_y0 = rocketStart\n",
    "    tspan = (0.0, deltaTime * num_timesteps)\n",
    "    controls_p0 = get_controls(tspan[1])\n",
    "\n",
    "    # Use the DifferentialEquations.jl Package\n",
    "    ode_prob = ODEProblem(f, states_y0, tspan, controls_p0,saveat=deltaTime)\n",
    "    ode_sol = solve(ode_prob, Tsit5(), reltol=1e-10, abstol=1e-10);\n",
    "\n",
    "    return ode_sol.u[end]\n",
    "end\n",
    "\n",
    "function MPC(model::rocket_simple, x0, U_init, N, tf)\n",
    "    \n",
    "    # Set Up the Trajectory Variable with Convex.jl\n",
    "    var_size = N * (num_controls + num_states) + num_states # Last step does not have a control\n",
    "    println(\"Tau Size = $var_size with N = $N\")\n",
    "    tau = Variable(var_size) # Trajectory\n",
    "    \n",
    "    initTraj = initializeTraj(x0, rocketStart, N)\n",
    "    set_value!(tau, initTraj);\n",
    "    \n",
    "    # Reset the objective function\n",
    "    obj = getQRFull(Q, Qf, R, N, var_size)\n",
    "    print(size(obj))\n",
    "    print(N)\n",
    "    \n",
    "    println(\"Adding Objective\")\n",
    "    try \n",
    "        problem = minimize(quadform(tau, QRFull / 2))\n",
    "    catch LAPACKException\n",
    "        problem = minimize(quadform(tau, QRFull / 2))\n",
    "    end\n",
    "\n",
    "    problem = minimize(quadform(tau, QRFull / 2))\n",
    "    \n",
    "    println(\"Adding Dynamics\")\n",
    "    # Add the Dynamics Constraints\n",
    "    AStack, BStack = rocketDynamicsStack(rocket, num_controls, N)\n",
    "    problem.constraints += AStack * tau == BStack\n",
    "\n",
    "    println(\"Adding Ends\")\n",
    "    # Add Initial and Terminal Constraints\n",
    "    large_num = 10000\n",
    "\n",
    "    problem.constraints += tau[1:6] == rocketStart\n",
    "    problem.constraints += tau[7:(end - 6)] > -large_num\n",
    "    problem.constraints += tau[(end - 5):end] == rocketEnd\n",
    "\n",
    "    println(\"Adding Ground\")\n",
    "    # Add the Ground Constraint\n",
    "    ground_mat = spzeros(var_size, var_size)\n",
    "\n",
    "    currInd = 3\n",
    "    currRow = 1\n",
    "    while currRow <= N\n",
    "        ground_mat[currRow, currInd] = 1\n",
    "\n",
    "        currRow += 1\n",
    "        currInd += 3 * Int(num_states / 2)\n",
    "    end\n",
    "\n",
    "    problem.constraints += ground_mat * tau > 0\n",
    "\n",
    "    println(\"Adding Thrust Mag\")\n",
    "    # Add Thrust Magnitude Bounds\n",
    "    perWeightMax = 2\n",
    "    problem.constraints += norm(tau[7:9], 2) < mass * norm(grav[3]) * perWeightMax\n",
    "    \n",
    "    println(\"Solving\")\n",
    "    # Solve the new trajectory\n",
    "    solve!(problem, ECOS.Optimizer(verbose = 0), verbose = false)\n",
    "    @btime solve!($problem, ECOS.Optimizer(verbose = 0), verbose = false)\n",
    "    \n",
    "    println(\"Accessing\")\n",
    "    # Access the states and controls\n",
    "    xList, vList, uList = getXVU(tau)\n",
    "    \n",
    "    println(\"Propogate System\")\n",
    "    # Use the dynamics model (and any disturbances) and propogate forward in time\n",
    "    x0 = diffEq_Model(model, U, dt)\n",
    "    \n",
    "    println(\"Warm-Start Next Iteration\")\n",
    "    warm_start_tau = evaluate(tau)[num_timesteps * (num_states + num_controls):end]\n",
    "\n",
    "    N = size(warm_start_tau, 1) + 1\n",
    "    tf = tf - dt * num_timesteps\n",
    "    \n",
    "    # Warm-Start the Next Iteration\n",
    "    return x0, U_new, N, tf\n",
    "    \n",
    "end"
   ]
  },
  {
   "cell_type": "code",
   "execution_count": 33,
   "metadata": {},
   "outputs": [
    {
     "name": "stdout",
     "output_type": "stream",
     "text": [
      "Tau Size = 483 with N = 53\n",
      "(483, 483)53"
     ]
    },
    {
     "ename": "ErrorException",
     "evalue": "Cannot multiply two expressions of sizes (2256, 2256) and (483, 1)",
     "output_type": "error",
     "traceback": [
      "Cannot multiply two expressions of sizes (2256, 2256) and (483, 1)",
      "",
      "Stacktrace:",
      " [1] error(::String) at .\\error.jl:33",
      " [2] MultiplyAtom at C:\\Users\\Daniel N\\.julia\\packages\\Convex\\aYxJA\\src\\atoms\\affine\\multiply_divide.jl:27 [inlined]",
      " [3] * at C:\\Users\\Daniel N\\.julia\\packages\\Convex\\aYxJA\\src\\atoms\\affine\\multiply_divide.jl:102 [inlined]",
      " [4] quadform(::Variable, ::Symmetric{Float64,SparseMatrixCSC{Float64,Int64}}) at C:\\Users\\Daniel N\\.julia\\packages\\Convex\\aYxJA\\src\\atoms\\second_order_cone\\quadform.jl:23",
      " [5] MPC(::rocket_simple, ::Array{Float64,1}, ::Array{Float64,1}, ::Int64, ::Float64) at .\\In[32]:38",
      " [6] top-level scope at In[33]:1"
     ]
    }
   ],
   "source": [
    "a = MPC(rocket, x0, warm_start_tau, N, tf);"
   ]
  },
  {
   "cell_type": "markdown",
   "metadata": {},
   "source": [
    "Execute the MPC forward until landed"
   ]
  },
  {
   "cell_type": "code",
   "execution_count": 34,
   "metadata": {},
   "outputs": [
    {
     "ename": "UndefVarError",
     "evalue": "UndefVarError: SolverOptions not defined",
     "output_type": "error",
     "traceback": [
      "UndefVarError: SolverOptions not defined",
      "",
      "Stacktrace:",
      " [1] top-level scope at In[34]:2"
     ]
    }
   ],
   "source": [
    "completion_threshold = 1e-4\n",
    "\n",
    "opts = SolverOptions(\n",
    "    cost_tolerance_intermediate=1e-2,\n",
    "    penalty_scaling=10.,\n",
    "    penalty_initial=1.0\n",
    ")\n",
    "\n",
    "saved_states = []\n",
    "\n",
    "while norm(x0 - xf) > completion_threshold\n",
    "    x0, warm_start_controls, N, tf = MPC(model, ALTROSolver, x0, warm_start_controls, N, tf)\n",
    "    \n",
    "    println(\"\\nCurrently at time $tf remaining and $(norm(x0 - xf)) away.\")\n",
    "    println(\"$N Steps at $tf s left. Hence, dt = $(tf / (N-1))\")\n",
    "    \n",
    "    # If the timespan is too low (e.g. due to disturbances)\n",
    "    tf = max(0.5, tf)\n",
    "    \n",
    "    push!(saved_states, x0)\n",
    "end"
   ]
  },
  {
   "cell_type": "code",
   "execution_count": 35,
   "metadata": {},
   "outputs": [
    {
     "ename": "UndefVarError",
     "evalue": "UndefVarError: saved_states not defined",
     "output_type": "error",
     "traceback": [
      "UndefVarError: saved_states not defined",
      "",
      "Stacktrace:",
      " [1] top-level scope at In[35]:1"
     ]
    }
   ],
   "source": [
    "xs = [x[1] for x in saved_states]\n",
    "zs = [x[3] for x in saved_states];"
   ]
  },
  {
   "cell_type": "markdown",
   "metadata": {},
   "source": [
    "## Plot the trajectory!"
   ]
  },
  {
   "cell_type": "code",
   "execution_count": 36,
   "metadata": {},
   "outputs": [
    {
     "data": {
      "image/png": "[encoded data removed]"
     },
     "execution_count": 36,
     "metadata": {},
     "output_type": "execute_result"
    }
   ],
   "source": [
    "titleText = \"Rocket Soft-Landing Trajectory \\n\" *\n",
    "        \"starting at an initial $(x0[6]) m/s plummet\"\n",
    "filename = \"RocketGroundThrustBound_BarelyFeasible3\"\n",
    "\n",
    "plt_x = plot(xs, zs, label = \"Trajectory\")\n",
    "xlabel!(\"x\")\n",
    "ylabel!(\"z (height)\")\n",
    "title!(titleText)"
   ]
  },
  {
   "cell_type": "code",
   "execution_count": 37,
   "metadata": {},
   "outputs": [
    {
     "ename": "UndefVarError",
     "evalue": "UndefVarError: ulateral_max not defined",
     "output_type": "error",
     "traceback": [
      "UndefVarError: ulateral_max not defined",
      "",
      "Stacktrace:",
      " [1] top-level scope at In[37]:2"
     ]
    }
   ],
   "source": [
    "plt_ux = plot(uxs, label = \"Ux Control\")\n",
    "hline!([-ulateral_max, ulateral_max], linecolor = :grey, linestyle = :dash,\n",
    "                label = \"Max Lateral Thrust\")\n",
    "# xlabel!(\"time (s)\")\n",
    "ylabel!(\"control (N)\")\n",
    "title!(\"Controls over Time\")\n",
    "\n",
    "plt_uz = plot(uzs, label = \"Uz Control\")\n",
    "hline!([umax], linecolor = :grey, linestyle = :dash, label = \"Max Thrust\")\n",
    "xlabel!(\"time (s)\")\n",
    "ylabel!(\"control (N)\")\n",
    "\n",
    "plt_u = plot(plt_ux, plt_uz, layout = (2, 1))"
   ]
  },
  {
   "cell_type": "markdown",
   "metadata": {},
   "source": [
    "Below is a GIF of the trajectory. This will take several seconds to generate."
   ]
  },
  {
   "cell_type": "code",
   "execution_count": 38,
   "metadata": {},
   "outputs": [
    {
     "data": {
      "image/png": "[encoded data removed]",
      "text/plain": [
       "PyPlot.Figure(PyObject <Figure size 600x400 with 1 Axes>)"
      ]
     },
     "metadata": {},
     "output_type": "display_data"
    },
    {
     "name": "stderr",
     "output_type": "stream",
     "text": [
      "┌ Info: Saved animation to \n",
      "│   fn = C:\\Users\\Daniel N\\.julia\\dev\\altro-mpc-icra2021\\benchmarks\\rocket_landing\\tmp.gif\n",
      "└ @ Plots C:\\Users\\Daniel N\\.julia\\packages\\Plots\\jZRxE\\src\\animation.jl:104\n"
     ]
    },
    {
     "data": {
      "text/html": [
       "<img src=\"data:image/gif;base64,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\" />"
      ],
      "text/plain": [
       "Plots.AnimatedGif(\"C:\\\\Users\\\\Daniel N\\\\.julia\\\\dev\\\\altro-mpc-icra2021\\\\benchmarks\\\\rocket_landing\\\\tmp.gif\")"
      ]
     },
     "execution_count": 38,
     "metadata": {},
     "output_type": "execute_result"
    }
   ],
   "source": [
    "xmin = minimum(xs)\n",
    "xmax = maximum(xs)\n",
    "\n",
    "zmin = minimum(zs)\n",
    "zmax = maximum(zs)\n",
    "\n",
    "@gif for i in 1:N\n",
    "    plt = plot(xs[1:i], zs[1:i], label = \"Trajectory\", legend = :topleft)\n",
    "    xlabel!(\"x\")\n",
    "    ylabel!(\"z (height)\")\n",
    "    xlims!(xmin,xmax)\n",
    "    ylims!(zmin,zmax)\n",
    "    title!(titleText)\n",
    "end"
   ]
  },
  {
   "cell_type": "markdown",
   "metadata": {},
   "source": [
    "## Lastly, let's visualize the results in 3D with Meshcat\n",
    "\n",
    "To do this, we need to provide a Mesh to <code>MeshCat</code>. This is due with <code>FileIO</code> and <code>MeshIO</code>."
   ]
  },
  {
   "cell_type": "code",
   "execution_count": 39,
   "metadata": {},
   "outputs": [
    {
     "name": "stderr",
     "output_type": "stream",
     "text": [
      "┌ Info: MeshCat server started. You can open the visualizer by visiting the following URL in your browser:\n",
      "│ http://localhost:8700\n",
      "└ @ MeshCat C:\\Users\\Daniel N\\.julia\\packages\\MeshCat\\X2AUA\\src\\visualizer.jl:73\n"
     ]
    },
    {
     "data": {
      "text/html": [
       "    <div style=\"height: 500px; width: 100%; overflow-x: auto; overflow-y: hidden; resize: both\">\n",
       "    <iframe src=\"http://localhost:8700\" style=\"width: 100%; height: 100%; border: none\"></iframe>\n",
       "    </div>\n"
      ],
      "text/plain": [
       "MeshCat.DisplayedVisualizer(MeshCat.CoreVisualizer(MeshCat.SceneTrees.SceneNode(nothing, nothing, Dict{String,Array{UInt8,1}}(), nothing, Dict{String,MeshCat.SceneTrees.SceneNode}()), Set(Any[]), ip\"127.0.0.1\", 8700))"
      ]
     },
     "execution_count": 39,
     "metadata": {},
     "output_type": "execute_result"
    }
   ],
   "source": [
    "vis = Visualizer() # Creates a MeshCat Window\n",
    "render(vis) # Renders the window below"
   ]
  },
  {
   "cell_type": "code",
   "execution_count": 40,
   "metadata": {},
   "outputs": [
    {
     "ename": "UndefVarError",
     "evalue": "UndefVarError: Rocket not defined",
     "output_type": "error",
     "traceback": [
      "UndefVarError: Rocket not defined",
      "",
      "Stacktrace:",
      " [1] top-level scope at In[40]:1"
     ]
    }
   ],
   "source": [
    "function TrajOptPlots._set_mesh!(vis, model::Rocket)\n",
    "    obj = joinpath(@__DIR__, \"SimpleRocket.obj\")\n",
    "    quad_scaling = 0.085\n",
    "    robot_obj = FileIO.load(obj)\n",
    "    robot_obj.vertices .*= quad_scaling\n",
    "    mat = MeshPhongMaterial(color=colorant\"lightgrey\")\n",
    "    setobject!(vis[\"geom\"], robot_obj, mat)\n",
    "end\n",
    "\n",
    "TrajOptPlots.set_mesh!(vis, model)"
   ]
  },
  {
   "cell_type": "code",
   "execution_count": 41,
   "metadata": {},
   "outputs": [
    {
     "ename": "UndefVarError",
     "evalue": "UndefVarError: Rocket not defined",
     "output_type": "error",
     "traceback": [
      "UndefVarError: Rocket not defined",
      "",
      "Stacktrace:",
      " [1] top-level scope at In[41]:1"
     ]
    }
   ],
   "source": [
    "Base.position(::Rocket, x::StaticVector) = SA[x[1], x[2], x[3]]\n",
    "RobotDynamics.orientation(::Rocket, x::StaticVector) = UnitQuaternion(0,0,0,1)\n",
    "\n",
    "visualize!(vis, altro);"
   ]
  },
  {
   "cell_type": "markdown",
   "metadata": {},
   "source": [
    "## Integrate the Dynamics to Verify the Dynamics Constraint\n",
    "\n",
    "In Matlab, we would use ODE 45, but in the <code>DifferentialEquations.jl</code> package we can either (1) just let the <code>solve</code> method figure it out or (2) specify a solver such as <code>Tsit5</code>.\n",
    "\n",
    "The controls change over time and are discretized. Below, a zero-order hold and a first-order hold are implemented for comparison. **We used a zero-order hold in the optimization so a zero-order hold should be used here.**"
   ]
  },
  {
   "cell_type": "code",
   "execution_count": 42,
   "metadata": {},
   "outputs": [
    {
     "ename": "UndefVarError",
     "evalue": "UndefVarError: dt not defined",
     "output_type": "error",
     "traceback": [
      "UndefVarError: dt not defined",
      "",
      "Stacktrace:",
      " [1] get_controls_zero_order_hold(::Float64) at .\\In[42]:1",
      " [2] top-level scope at In[42]:6"
     ]
    }
   ],
   "source": [
    "get_controls_zero_order_hold(t) = U[min(Int(floor(t/dt)) + 1, size(U,1))]\n",
    "f(y,p,t) = dynamics(model, y, get_controls_zero_order_hold(t))\n",
    "\n",
    "states_y0 = x0\n",
    "tspan = (0.0, tf)\n",
    "controls_p0 = get_controls_zero_order_hold(tspan[1])\n",
    "\n",
    "ode_prob_zoh = ODEProblem(f, states_y0, tspan, controls_p0)\n",
    "@btime solve(ode_prob_zoh, Tsit5(), reltol=1e-10, abstol=1e-10,saveat=dt)\n",
    "ode_sol_zoh = solve(ode_prob_zoh, Tsit5(), reltol=1e-10, abstol=1e-10,saveat=dt);"
   ]
  },
  {
   "cell_type": "code",
   "execution_count": 43,
   "metadata": {},
   "outputs": [
    {
     "ename": "UndefVarError",
     "evalue": "UndefVarError: dt not defined",
     "output_type": "error",
     "traceback": [
      "UndefVarError: dt not defined",
      "",
      "Stacktrace:",
      " [1] get_controls_first_order_hold(::Float64) at .\\In[43]:3",
      " [2] top-level scope at In[43]:22"
     ]
    }
   ],
   "source": [
    "function get_controls_first_order_hold(t)\n",
    "    # dt and U are both global variables\n",
    "    tn = t/dt\n",
    "    \n",
    "    t_below = Int(max(1, floor(tn)))\n",
    "    t_above = Int(min(size(U, 1), ceil(tn)))\n",
    "    \n",
    "    if t_below >= t_above\n",
    "        return U[t_below]\n",
    "    end\n",
    "    \n",
    "    slope = (U[t_above] - U[t_below])\n",
    "    return slope * (tn - t_below) + U[t_below]\n",
    "\n",
    "end\n",
    "\n",
    "\n",
    "f(y,p,t) = dynamics(model, y, get_controls_first_order_hold(t))\n",
    "\n",
    "states_y0 = x0\n",
    "tspan = (0.0, tf)\n",
    "controls_p0 = get_controls_first_order_hold(tspan[1])\n",
    "\n",
    "ode_prob_foh = ODEProblem(f, states_y0, tspan, controls_p0)\n",
    "@btime solve(ode_prob_foh, Tsit5(), reltol=1e-10, abstol=1e-10,saveat=dt)\n",
    "ode_sol_foh = solve(ode_prob_foh, Tsit5(), reltol=1e-10, abstol=1e-10,saveat=dt);"
   ]
  },
  {
   "cell_type": "code",
   "execution_count": 44,
   "metadata": {},
   "outputs": [
    {
     "ename": "UndefVarError",
     "evalue": "UndefVarError: ode_sol_zoh not defined",
     "output_type": "error",
     "traceback": [
      "UndefVarError: ode_sol_zoh not defined",
      "",
      "Stacktrace:",
      " [1] top-level scope at In[44]:1"
     ]
    }
   ],
   "source": [
    "err_zoh = norm.(ode_sol_zoh.u - X[1:(Int(tspan[2]/dt)+1)])\n",
    "err_foh = norm.(ode_sol_foh.u - X[1:(Int(tspan[2]/dt)+1)])\n",
    "\n",
    "plot(ode_sol_zoh.t, err_zoh, yaxis = :log, label = \"Zero-Order Hold\")\n",
    "plot!(ode_sol_foh.t, err_foh, yaxis = :log, label = \"First-Order Hold\")\n",
    "xlabel!(\"Time (s)\")\n",
    "ylabel!(\"Dynamics Error\")\n",
    "title!(\"Comparison in State Vector expected from ALTRO Solver \\n to Integrated Dynamics Model\")"
   ]
  },
  {
   "cell_type": "code",
   "execution_count": null,
   "metadata": {},
   "outputs": [],
   "source": []
  }
 ],
 "metadata": {
  "kernelspec": {
   "display_name": "Julia 1.4.2",
   "language": "julia",
   "name": "julia-1.4"
  },
  "language_info": {
   "file_extension": ".jl",
   "mimetype": "application/julia",
   "name": "julia",
   "version": "1.4.2"
  }
 },
 "nbformat": 4,
 "nbformat_minor": 4
}
