{
 "cells": [
  {
   "cell_type": "markdown",
   "metadata": {},
   "source": [
    "# Simple Rocket Soft-Landing Problem with SOCP Constraints\n",
    "\n",
    "This notebook is a walkthough of the ALTRO solver for the Rocket Soft-Landing Problem (i.e. the general control challenge of landing a rocket at rest at a designated landing site). In the simplest case, we treat the rocket as a sphere landing on a flat surface with no atmosphere. This approximation is reasonable when the rocket is near the ground and entering the final part of the descent.\n",
    "\n",
    "**This files focuses on the problem set-up and visualizing the result. For the MPC application, please visit the <code>RocketLandingMPC.ipynb</code> file. Thanks!**"
   ]
  },
  {
   "cell_type": "code",
   "execution_count": 1,
   "metadata": {},
   "outputs": [
    {
     "name": "stderr",
     "output_type": "stream",
     "text": [
      "\u001b[32m\u001b[1m Activating\u001b[22m\u001b[39m environment at `C:\\Users\\Daniel N\\.julia\\dev\\altro-mpc-icra2021\\benchmarks\\rocket_landing\\Project.toml`"
     ]
    },
    {
     "name": "stdout",
     "output_type": "stream",
     "text": [
      "\u001b[32m\u001b[1mStatus\u001b[22m\u001b[39m `C:\\Users\\Daniel N\\.julia\\dev\\altro-mpc-icra2021\\benchmarks\\rocket_landing\\Project.toml`\n"
     ]
    },
    {
     "name": "stderr",
     "output_type": "stream",
     "text": [
      "\n"
     ]
    },
    {
     "name": "stdout",
     "output_type": "stream",
     "text": [
      " \u001b[90m [5dcf52e5]\u001b[39m\u001b[37m Altro v0.2.0 #socp (https://github.com/RoboticExplorationLab/Altro.jl.git)\u001b[39m\n",
      " \u001b[90m [6e4b80f9]\u001b[39m\u001b[37m BenchmarkTools v0.5.0\u001b[39m\n",
      " \u001b[90m [f65535da]\u001b[39m\u001b[37m Convex v0.13.7\u001b[39m\n",
      " \u001b[90m [0c46a032]\u001b[39m\u001b[37m DifferentialEquations v6.15.0\u001b[39m\n",
      " \u001b[90m [e2685f51]\u001b[39m\u001b[37m ECOS v0.12.1\u001b[39m\n",
      " \u001b[90m [5789e2e9]\u001b[39m\u001b[37m FileIO v1.4.3\u001b[39m\n",
      " \u001b[90m [283c5d60]\u001b[39m\u001b[37m MeshCat v0.11.3\u001b[39m\n",
      " \u001b[90m [7269a6da]\u001b[39m\u001b[37m MeshIO v0.3.2\u001b[39m\n",
      " \u001b[90m [91a5bcdd]\u001b[39m\u001b[37m Plots v1.6.9\u001b[39m\n",
      " \u001b[90m [d330b81b]\u001b[39m\u001b[37m PyPlot v2.9.0\u001b[39m\n",
      " \u001b[90m [38ceca67]\u001b[39m\u001b[37m RobotDynamics v0.2.2\u001b[39m\n",
      " \u001b[90m [6038ab10]\u001b[39m\u001b[37m Rotations v1.0.1\u001b[39m\n",
      " \u001b[90m [90137ffa]\u001b[39m\u001b[37m StaticArrays v0.12.4\u001b[39m\n",
      " \u001b[90m [7770976a]\u001b[39m\u001b[37m TrajOptPlots v0.1.0 #master (https://github.com/RoboticExplorationLab/TrajOptPlots.jl)\u001b[39m\n",
      " \u001b[90m [c79d492b]\u001b[39m\u001b[37m TrajectoryOptimization v0.3.2 #socp (https://github.com/RoboticExplorationLab/TrajectoryOptimization.jl.git)\u001b[39m\n",
      " \u001b[90m [37e2e46d]\u001b[39m\u001b[37m LinearAlgebra \u001b[39m\n",
      " \u001b[90m [2f01184e]\u001b[39m\u001b[37m SparseArrays \u001b[39m\n"
     ]
    }
   ],
   "source": [
    "using Pkg\n",
    "Pkg.activate(\".\")\n",
    "# Pkg.activate(\"C:\\\\Users\\\\Daniel N\\\\.julia\\\\environments\\\\v1.4\")\n",
    "Pkg.instantiate()\n",
    "Pkg.status()"
   ]
  },
  {
   "cell_type": "markdown",
   "metadata": {},
   "source": [
    "## Load Required Packages\n",
    "\n",
    "The <code>RobotDynamics</code> package enables us to define the rocket model and dynamics. The <code>TrajectoryOptimization</code> and <code>Altro</code> set-up and solve the trajectory optimization problem. <code>StaticArrays</code> and <code>LinearAlgebra</code> are required to set-up the appropriate data types.\n",
    "\n",
    "Next, <code>Plots, MeshCat, TrajOptPlots, FileIO,</code> and <code>MeshIO</code> packages are used to visualize the results. Note that the plotting sections will take significantly longer to run than the optimization. \n",
    "\n",
    "Lastly, <code>DifferentialEquations</code> integrates the dynamics forward as a way to show that the dynamics constraints are satisfied.\n",
    "\n",
    "Loading all the packages, especially for plotting and the differential equations integrator can be the longest part of the whole notebook."
   ]
  },
  {
   "cell_type": "code",
   "execution_count": 2,
   "metadata": {},
   "outputs": [
    {
     "name": "stdout",
     "output_type": "stream",
     "text": [
      "Trajectory Optimization Packages Ready\n",
      "Base Plotting Packages Ready\n",
      "3D Plotting Packages Ready\n",
      "Differential Equations Ready\n"
     ]
    }
   ],
   "source": [
    "using RobotDynamics\n",
    "import RobotDynamics: dynamics\n",
    "using Rotations\n",
    "using Altro\n",
    "using TrajectoryOptimization\n",
    "using StaticArrays, LinearAlgebra\n",
    "println(\"Trajectory Optimization Packages Ready\")\n",
    "\n",
    "using Plots\n",
    "pyplot()\n",
    "println(\"Base Plotting Packages Ready\")\n",
    "\n",
    "using MeshCat, TrajOptPlots\n",
    "using FileIO, MeshIO\n",
    "println(\"3D Plotting Packages Ready\")\n",
    "\n",
    "import DifferentialEquations.solve, DifferentialEquations.ODEProblem, DifferentialEquations.Tsit5\n",
    "using BenchmarkTools\n",
    "println(\"Differential Equations Ready\")"
   ]
  },
  {
   "cell_type": "markdown",
   "metadata": {},
   "source": [
    "## Define and Create the Rocket Model\n",
    "\n",
    "Unlike the Cartpole and Quadrotor models, the Rocket Model is not in the <code>RobotZoo.jl</code> package. Instead, here we build off of work found in the repository below to develop a simplified rocket soft-landing scenario (i.e. no second-order cone constraints and no attitude dynamics). https://github.com/danineamati/TrajOptSOCPs.jl\n",
    "\n",
    "First, to prepare the model, we inherit from the <code>AbstractModel</code> type (see http://roboticexplorationlab.org/RobotDynamics.jl/dev/models.html and http://roboticexplorationlab.org/TrajectoryOptimization.jl/stable/models.html for more information). In the simplified case, <code>Rocket</code> only holds the mass and the gravity vector. In the full rocket landing problem, the inertia matrix must also be provided. Separately, the thurster's specific impulse can be used to scale the optimal controls."
   ]
  },
  {
   "cell_type": "code",
   "execution_count": 3,
   "metadata": {},
   "outputs": [
    {
     "data": {
      "text/plain": [
       "Rocket"
      ]
     },
     "execution_count": 3,
     "metadata": {},
     "output_type": "execute_result"
    }
   ],
   "source": [
    "struct Rocket{T} <: AbstractModel\n",
    "    mass::T  # mass of the rocket\n",
    "    g::SArray{Tuple{3},T,1,3}   # gravity\n",
    "end\n",
    "\n",
    "# Set-up the default constructor for ease of use\n",
    "Rocket() = Rocket(10.0, SA[0.0; 0.0; -9.81])"
   ]
  },
  {
   "cell_type": "markdown",
   "metadata": {},
   "source": [
    "## Detail the Rocket Dynamics\n",
    "\n",
    "For the simplified rocket problem, we choose to ignore the attitude dynamics. Applying newton's second law or by forming a Lagrangian, we arrive at the following sparse system\n",
    "\n",
    "$$\\frac{dx}{dt} = Ax + Bu + g$$\n",
    "\n",
    "Where $A = \\begin{bmatrix}0 & I\\\\ 0 & 0 \\end{bmatrix}$, $B = \\begin{bmatrix}0 \\\\ \\frac{1}{m} I\\end{bmatrix}$, and $G = \\begin{bmatrix} 0 \\\\ -g \\end{bmatrix}$. For the 3D case, these are $(6 \\times 6)$, $(6 \\times 3)$, and $(6 \\times 1)$ matricies, respectively.\n",
    "\n",
    "Since the system is so sparse, we can reduce unnecessary computations by writing the equations for the first and second derivatives. We use the notation of $s = [x; y; z]$ (the positions) and $\\frac{ds}{dt} = [v_x; v_y; v_z]$ (the velocities). \n",
    "\n",
    "$$\\frac{ds}{dt} = \\frac{ds}{dt}$$\n",
    "$$\\frac{d^2s}{dt^2} = \\frac{1}{m} u - g$$"
   ]
  },
  {
   "cell_type": "code",
   "execution_count": 4,
   "metadata": {},
   "outputs": [],
   "source": [
    "\"\"\"\n",
    "    dynamics(model::Rocket, x, u)\n",
    "\n",
    "For the simple rocket, we have a linear dynamics system.\n",
    "\"\"\"\n",
    "function dynamics(model::Rocket, x, u)\n",
    "    m = model.mass   # mass of the rocket in kg (1)\n",
    "    g = model.g     # gravity m/s^2\n",
    "\n",
    "    # q  = x[SA[1,2,3]] # [x, y, z, ...]\n",
    "    qd = x[SA[4,5,6]] # [..., vx, vy, vz]\n",
    "\n",
    "    nDim = size(u, 1) # i.e. a 3D system -> 3\n",
    "    B = -(1/m) * I\n",
    "\n",
    "    qdd = B * u - g\n",
    "    return [qd; qdd]\n",
    "end\n",
    "\n",
    "RobotDynamics.state_dim(::Rocket) = 6\n",
    "RobotDynamics.control_dim(::Rocket) = 3"
   ]
  },
  {
   "cell_type": "markdown",
   "metadata": {},
   "source": [
    "## Instantiate the Model and Define the Discretization\n",
    "\n",
    "Feel free to choose <code>N</code> and <code>tf</code> based on your needs."
   ]
  },
  {
   "cell_type": "code",
   "execution_count": 5,
   "metadata": {},
   "outputs": [
    {
     "data": {
      "text/plain": [
       "Rocket{Float64}(10.0, [0.0, 0.0, -9.81])"
      ]
     },
     "execution_count": 5,
     "metadata": {},
     "output_type": "execute_result"
    }
   ],
   "source": [
    "model = Rocket()\n",
    "n, m = size(model)\n",
    "# n is the size of the states ([x, y, z, vx, vy, vz])\n",
    "# m is the size of the control thrust ([Tx, Ty, Tz]])\n",
    "\n",
    "# Trajectory Discretization\n",
    "N = 251\n",
    "tf = 10.\n",
    "dt = tf/(N-1)\n",
    "\n",
    "model # (Simply for information) Display the struct as the cell output "
   ]
  },
  {
   "cell_type": "markdown",
   "metadata": {},
   "source": [
    "## Specify the Initial and Final Conditions\n",
    "\n",
    "Choose the initial and final points. Note that these must be full state vectors ($[x; y; z; v_x; v_y; v_z]$). The initial point is generally the rocket's current state. The final point is generally the rocket's landing stop. Note that the final velocity of the rocket should **always** be $[0.0; 0.0; 0.0]$ to have a **soft** landing."
   ]
  },
  {
   "cell_type": "code",
   "execution_count": 6,
   "metadata": {},
   "outputs": [],
   "source": [
    "# Initial and Final Conditions\n",
    "x0 = @SVector [4.0, 2.0, 20.0, -3.0, 2.0, -5.0] # Start at a 20 m altitude with an ~15 m/s plummet\n",
    "xf = @SVector zeros(n);  # Swing pendulum up and end at rest"
   ]
  },
  {
   "cell_type": "markdown",
   "metadata": {},
   "source": [
    "## Set-Up the LQR Objective Function\n",
    "\n",
    "For this problem, we choose an LQR Objective Function. One can add waypoints or change the weights to craft different optimal trajectories. See http://roboticexplorationlab.org/TrajectoryOptimization.jl/stable/costfunctions.html for more information."
   ]
  },
  {
   "cell_type": "code",
   "execution_count": 7,
   "metadata": {},
   "outputs": [
    {
     "data": {
      "text/plain": [
       "Objective"
      ]
     },
     "execution_count": 7,
     "metadata": {},
     "output_type": "execute_result"
    }
   ],
   "source": [
    "Q = 1.0e-2 * Diagonal(@SVector ones(n))\n",
    "Qf = 100.0 * Diagonal(@SVector ones(n))\n",
    "R = 1.0e-1 * Diagonal(@SVector ones(m))\n",
    "obj = LQRObjective(Q,R,Qf,xf,N)"
   ]
  },
  {
   "cell_type": "markdown",
   "metadata": {},
   "source": [
    "## Define the Constraints\n",
    "\n",
    "For the simple rocket soft-landing problem, we will include 4 constraints:\n",
    "1. Crash Prevention Constraint ($z > 0$)\n",
    "2. Maximum Thrust Constraint ($0 < ||u|| < u_{max}$), which is a simplification of a max thrust constraint\n",
    "3. Maximum Thurst Angle Constraint ($||[u_x; u_y]|| ≤ \\alpha \\ u_z$), which is a simplification of a max thrust angle constraint\n",
    "4. Landing Site Designation ($x[t_f] = x_f$)\n",
    "\n",
    "For details on the implemented constraint types, please check out http://roboticexplorationlab.org/TrajectoryOptimization.jl/stable/constraints.html."
   ]
  },
  {
   "cell_type": "code",
   "execution_count": 8,
   "metadata": {},
   "outputs": [
    {
     "name": "stdout",
     "output_type": "stream",
     "text": [
      "search: \u001b[0m\u001b[1mN\u001b[22m\u001b[0m\u001b[1mo\u001b[22m\u001b[0m\u001b[1mr\u001b[22m\u001b[0m\u001b[1mm\u001b[22m\u001b[0m\u001b[1mC\u001b[22m\u001b[0m\u001b[1mo\u001b[22m\u001b[0m\u001b[1mn\u001b[22m\u001b[0m\u001b[1ms\u001b[22m\u001b[0m\u001b[1mt\u001b[22m\u001b[0m\u001b[1mr\u001b[22m\u001b[0m\u001b[1ma\u001b[22m\u001b[0m\u001b[1mi\u001b[22m\u001b[0m\u001b[1mn\u001b[22m\u001b[0m\u001b[1mt\u001b[22m\n",
      "\n"
     ]
    },
    {
     "data": {
      "text/latex": [
       "\\begin{verbatim}\n",
       "NormConstraint{S,D,T}\n",
       "\\end{verbatim}\n",
       "Constraint of the form $\\|y\\|^2 \\{\\leq,=\\} a^2$ where $y$ is made up of elements from the state and/or control vectors.\n",
       "\n",
       "\\section{Constructor:}\n",
       "\\begin{verbatim}\n",
       "NormConstraint(n, m, a, sense, [inds])\n",
       "\\end{verbatim}\n",
       "where \\texttt{n} is the number of states,     \\texttt{m} is the number of controls,     \\texttt{a} is the constant on the right-hand side of the equation,     \\texttt{sense} is either \\texttt{Inequality()} or \\texttt{Equality()}, and     \\texttt{inds} can be a \\texttt{UnitRange}, \\texttt{AbstractVector\\{Int\\}}, or either \\texttt{:state} or \\texttt{:control}\n",
       "\n",
       "\\section{Examples:}\n",
       "\\begin{verbatim}\n",
       "NormConstraint(3, 2, 4, Equality(), :control)\n",
       "\\end{verbatim}\n",
       "creates a constraint equivalent to $\\|u\\|^2 = 4.0$ for a problem with 2 controls.\n",
       "\n",
       "\\begin{verbatim}\n",
       "NormConstraint(3, 2. 3, Inequality(), :state\n",
       "\\end{verbatim}\n",
       "creates a constraint equivalent to $\\|x\\|^2 \\leq 2.3$ for a problem with 3 states.\n",
       "\n"
      ],
      "text/markdown": [
       "```\n",
       "NormConstraint{S,D,T}\n",
       "```\n",
       "\n",
       "Constraint of the form $\\|y\\|^2 \\{\\leq,=\\} a^2$ where $y$ is made up of elements from the state and/or control vectors.\n",
       "\n",
       "# Constructor:\n",
       "\n",
       "```\n",
       "NormConstraint(n, m, a, sense, [inds])\n",
       "```\n",
       "\n",
       "where `n` is the number of states,     `m` is the number of controls,     `a` is the constant on the right-hand side of the equation,     `sense` is either `Inequality()` or `Equality()`, and     `inds` can be a `UnitRange`, `AbstractVector{Int}`, or either `:state` or `:control`\n",
       "\n",
       "# Examples:\n",
       "\n",
       "```julia\n",
       "NormConstraint(3, 2, 4, Equality(), :control)\n",
       "```\n",
       "\n",
       "creates a constraint equivalent to $\\|u\\|^2 = 4.0$ for a problem with 2 controls.\n",
       "\n",
       "```julia\n",
       "NormConstraint(3, 2. 3, Inequality(), :state\n",
       "```\n",
       "\n",
       "creates a constraint equivalent to $\\|x\\|^2 \\leq 2.3$ for a problem with 3 states.\n"
      ],
      "text/plain": [
       "\u001b[36m  NormConstraint{S,D,T}\u001b[39m\n",
       "\n",
       "  Constraint of the form \u001b[35m\\|y\\|^2 \\{\\leq,=\\} a^2\u001b[39m where \u001b[35my\u001b[39m is made up of elements\n",
       "  from the state and/or control vectors.\n",
       "\n",
       "\u001b[1m  Constructor:\u001b[22m\n",
       "\u001b[1m  ≡≡≡≡≡≡≡≡≡≡≡≡≡≡\u001b[22m\n",
       "\n",
       "\u001b[36m  NormConstraint(n, m, a, sense, [inds])\u001b[39m\n",
       "\n",
       "  where \u001b[36mn\u001b[39m is the number of states, \u001b[36mm\u001b[39m is the number of controls, \u001b[36ma\u001b[39m is the\n",
       "  constant on the right-hand side of the equation, \u001b[36msense\u001b[39m is either\n",
       "  \u001b[36mInequality()\u001b[39m or \u001b[36mEquality()\u001b[39m, and \u001b[36minds\u001b[39m can be a \u001b[36mUnitRange\u001b[39m,\n",
       "  \u001b[36mAbstractVector{Int}\u001b[39m, or either \u001b[36m:state\u001b[39m or \u001b[36m:control\u001b[39m\n",
       "\n",
       "\u001b[1m  Examples:\u001b[22m\n",
       "\u001b[1m  ≡≡≡≡≡≡≡≡≡≡≡\u001b[22m\n",
       "\n",
       "\u001b[36m  NormConstraint(3, 2, 4, Equality(), :control)\u001b[39m\n",
       "\n",
       "  creates a constraint equivalent to \u001b[35m\\|u\\|^2 = 4.0\u001b[39m for a problem with 2\n",
       "  controls.\n",
       "\n",
       "\u001b[36m  NormConstraint(3, 2. 3, Inequality(), :state\u001b[39m\n",
       "\n",
       "  creates a constraint equivalent to \u001b[35m\\|x\\|^2 \\leq 2.3\u001b[39m for a problem with 3\n",
       "  states."
      ]
     },
     "execution_count": 8,
     "metadata": {},
     "output_type": "execute_result"
    }
   ],
   "source": [
    "?NormConstraint"
   ]
  },
  {
   "cell_type": "code",
   "execution_count": 29,
   "metadata": {},
   "outputs": [
    {
     "name": "stdout",
     "output_type": "stream",
     "text": [
      "Maximum Thrust is 196.20000000000002\n",
      "alpha for angle constraint is 0.08748866352592401\n"
     ]
    }
   ],
   "source": [
    "# Create Empty ConstraintList\n",
    "conSet = ConstraintList(n,m,N)\n",
    "\n",
    "# Key Constants\n",
    "ground_level = 0.0 # Crash Prevention Constraint\n",
    "theta = 7 # deg. Max Angle Constraint\n",
    "perWeightMax = 2\n",
    "u_bnd = model.mass * norm(model.g[3]) * perWeightMax\n",
    "println(\"Maximum Thrust is $u_bnd\")\n",
    "\n",
    "# Bounds\n",
    "bnd = BoundConstraint(n,m, x_min=[-Inf, -Inf, ground_level,\n",
    "                                  -Inf, -Inf, -Inf])\n",
    "\n",
    "# bnd = BoundConstraint(n,m, x_min=[-Inf, -Inf, ground_level,\n",
    "#                                   -Inf, -Inf, -Inf],\n",
    "#                            u_min=[-Inf, -Inf, 0   ],\n",
    "#                            u_max=[ Inf,  Inf, u_bnd])\n",
    "# bnd = BoundConstraint(n,m, x_min=[-Inf, -Inf, ground_level,\n",
    "#                                   -Inf, -Inf, -Inf],\n",
    "#                            u_min=[-ulateral_max, -ulateral_max, 0   ],\n",
    "#                            u_max=[ ulateral_max,  ulateral_max, u_bnd])\n",
    "\n",
    "# Include the max thrust constraint\n",
    "\n",
    "# maxT = NormConstraint(n, m, u_bnd^2, Inequality(), :control)\n",
    "maxT = NormConstraint(n, m, u_bnd, TrajectoryOptimization.SecondOrderCone(), :control)\n",
    "add_constraint!(conSet, maxT, 1:N-1)\n",
    "\n",
    "# Include the max thrust angle constraint\n",
    "function getAlpha(theta, deg = true)\n",
    "    if deg\n",
    "        return tand(theta)\n",
    "    end\n",
    "    return tan(theta)\n",
    "end\n",
    "\n",
    "\n",
    "alpha = getAlpha(theta)\n",
    "println(\"alpha for angle constraint is $alpha\")\n",
    "maxTA = NormConstraint(n, m, alpha * u_bnd, TrajectoryOptimization.SecondOrderCone(), SVector{m-1}(n .+ (1:(m-1))))\n",
    "# add_constraint!(conSet, maxTA, 1:N-1)\n",
    "\n",
    "# Goal Constraint that the rocket must reach the landing site.\n",
    "goal = GoalConstraint(xf)\n",
    "add_constraint!(conSet, goal, N)"
   ]
  },
  {
   "cell_type": "code",
   "execution_count": 30,
   "metadata": {},
   "outputs": [
    {
     "data": {
      "text/plain": [
       "NormConstraint{TrajectoryOptimization.SecondOrderCone,3,Float64}(6, 3, 196.20000000000002, TrajectoryOptimization.SecondOrderCone(), [7, 8, 9])"
      ]
     },
     "execution_count": 30,
     "metadata": {},
     "output_type": "execute_result"
    }
   ],
   "source": [
    "maxT"
   ]
  },
  {
   "cell_type": "code",
   "execution_count": 31,
   "metadata": {},
   "outputs": [
    {
     "data": {
      "text/plain": [
       "NormConstraint{TrajectoryOptimization.SecondOrderCone,2,Float64}(6, 3, 17.165275783786292, TrajectoryOptimization.SecondOrderCone(), [7, 8])"
      ]
     },
     "execution_count": 31,
     "metadata": {},
     "output_type": "execute_result"
    }
   ],
   "source": [
    "maxTA"
   ]
  },
  {
   "cell_type": "code",
   "execution_count": 32,
   "metadata": {},
   "outputs": [],
   "source": [
    "struct NormConstraint2{S,D} <: TrajectoryOptimization.StageConstraint\n",
    "\tn::Int\n",
    "\tm::Int\n",
    "\tA::SizedMatrix\n",
    "\tc::SVector\n",
    "\tsense::S\n",
    "\tinds::SVector{D,Int}\n",
    "\tfunction NormConstraint2(n::Int, m::Int, A::SizedMatrix, c::SVector, sense::TrajectoryOptimization.ConstraintSense,\n",
    "\t\t\tinds=SVector{n+m}(1:n+m))\n",
    "\t\tif inds == :state\n",
    "\t\t\tinds = SVector{n}(1:n)\n",
    "\t\telseif inds == :control\n",
    "\t\t\tinds = SVector{m}(n .+ (1:m))\n",
    "\t\tend\n",
    "\t\t@assert size(A,2) == length(c)\n",
    "\t\t@assert eltype(A) == eltype(c)\n",
    "        \n",
    "\t\tnew{typeof(sense),length(inds)}(n,m,A,c,sense,inds)\n",
    "\tend\n",
    "end\n",
    "\n",
    "@inline TrajectoryOptimization.state_dim(con::NormConstraint2) = con.n\n",
    "@inline TrajectoryOptimization.control_dim(con::NormConstraint2) = con.m\n",
    "@inline TrajectoryOptimization.sense(con::NormConstraint2) = con.sense\n",
    "@inline Base.length(::NormConstraint2) = 1\n",
    "@inline Base.length(::NormConstraint2{TrajectoryOptimization.SecondOrderCone,D}) where D = D + 1\n",
    "\n",
    "function TrajectoryOptimization.evaluate(con::NormConstraint2{TrajectoryOptimization.SecondOrderCone}, z::AbstractKnotPoint)\n",
    "\tv = con.A*z.z[con.inds]\n",
    "\treturn push(v, con.c'*z.z[con.inds])\n",
    "end\n",
    "\n",
    "function TrajectoryOptimization.jacobian!(∇c, con::NormConstraint2{TrajectoryOptimization.SecondOrderCone}, \n",
    "                                                    z::AbstractKnotPoint)\n",
    "\t∇c[1:length(con.inds),con.inds] = con.A\n",
    "\t∇c[1+length(con.inds),con.inds] = con.c\n",
    "\treturn true\n",
    "end\n",
    "\n",
    "function TrajectoryOptimization.change_dimension(con::NormConstraint2, n::Int, m::Int, ix=1:n, iu=1:m)\n",
    "\tNormConstraint2(n, m, con.val, con.sense, ix[con.inds])\n",
    "end"
   ]
  },
  {
   "cell_type": "code",
   "execution_count": 33,
   "metadata": {},
   "outputs": [],
   "source": [
    "ARocket = SizedMatrix{3,3}([1.0 0 0; 0 1.0 0; 0 0 0])\n",
    "cRocket =SVector{3}([0; 0; alpha])\n",
    "\n",
    "maxTA = NormConstraint2(n, m, ARocket, cRocket, TrajectoryOptimization.SecondOrderCone(), :control)\n",
    "add_constraint!(conSet, maxTA, 1:N-1)"
   ]
  },
  {
   "cell_type": "markdown",
   "metadata": {},
   "source": [
    "## Stitch together the objective and constraints\n",
    "\n",
    "See http://roboticexplorationlab.org/TrajectoryOptimization.jl/stable/creating_problems.html for more information."
   ]
  },
  {
   "cell_type": "code",
   "execution_count": 34,
   "metadata": {},
   "outputs": [],
   "source": [
    "# Package the objective and constraints into a \"problem\" type\n",
    "prob = Problem(model, obj, xf, tf, x0=x0, constraints=conSet);"
   ]
  },
  {
   "cell_type": "markdown",
   "metadata": {},
   "source": [
    "## Initialize the Trajectory\n",
    "\n",
    "We choose to initialize the trajectory at a hover (i.e. the rocket trajectory will initially only counter gravity)."
   ]
  },
  {
   "cell_type": "code",
   "execution_count": 35,
   "metadata": {},
   "outputs": [],
   "source": [
    "u0 = model.g # controls that would nominally hover\n",
    "U0 = [u0 for k = 1:N-1] # vector of the small controls\n",
    "initial_controls!(prob, U0)\n",
    "rollout!(prob);"
   ]
  },
  {
   "cell_type": "markdown",
   "metadata": {},
   "source": [
    "## Select the solver options\n",
    "\n",
    "For more information, please visit https://github.com/RoboticExplorationLab/Altro.jl/blob/master/README.md for more details on the solver options.\n",
    "\n",
    "Using the Altro package, we can now specify parameters and solve the problem."
   ]
  },
  {
   "cell_type": "code",
   "execution_count": 36,
   "metadata": {},
   "outputs": [
    {
     "data": {
      "text/plain": [
       "SolverOptions{Float64}\n",
       "  constraint_tolerance: Float64 1.0e-6\n",
       "  cost_tolerance: Float64 0.0001\n",
       "  cost_tolerance_intermediate: Float64 0.01\n",
       "  gradient_tolerance: Float64 10.0\n",
       "  gradient_tolerance_intermediate: Float64 1.0\n",
       "  iterations_inner: Int64 300\n",
       "  dJ_counter_limit: Int64 10\n",
       "  square_root: Bool false\n",
       "  line_search_lower_bound: Float64 1.0e-8\n",
       "  line_search_upper_bound: Float64 10.0\n",
       "  iterations_linesearch: Int64 20\n",
       "  max_cost_value: Float64 1.0e8\n",
       "  max_state_value: Float64 1.0e8\n",
       "  max_control_value: Float64 1.0e8\n",
       "  static_bp: Bool true\n",
       "  save_S: Bool false\n",
       "  bp_reg: Bool false\n",
       "  bp_reg_initial: Float64 0.0\n",
       "  bp_reg_increase_factor: Float64 1.6\n",
       "  bp_reg_max: Float64 1.0e8\n",
       "  bp_reg_min: Float64 1.0e-8\n",
       "  bp_reg_type: Symbol control\n",
       "  bp_reg_fp: Float64 10.0\n",
       "  penalty_initial: Float64 1.0\n",
       "  penalty_scaling: Float64 10.0\n",
       "  active_set_tolerance_al: Float64 0.001\n",
       "  dual_max: Float64 NaN\n",
       "  penalty_max: Float64 NaN\n",
       "  iterations_outer: Int64 30\n",
       "  kickout_max_penalty: Bool false\n",
       "  reset_duals: Bool true\n",
       "  reset_penalties: Bool true\n",
       "  verbose_pn: Bool false\n",
       "  n_steps: Int64 2\n",
       "  solve_type: Symbol feasible\n",
       "  projected_newton_tolerance: Float64 0.001\n",
       "  active_set_tolerance_pn: Float64 0.001\n",
       "  multiplier_projection: Bool true\n",
       "  ρ_chol: Float64 0.01\n",
       "  ρ_primal: Float64 1.0e-8\n",
       "  ρ_dual: Float64 1.0e-8\n",
       "  r_threshold: Float64 1.1\n",
       "  projected_newton: Bool false\n",
       "  iterations: Int64 1000\n",
       "  show_summary: Bool false\n",
       "  verbose: Int64 1\n"
      ]
     },
     "execution_count": 36,
     "metadata": {},
     "output_type": "execute_result"
    }
   ],
   "source": [
    "opts = SolverOptions(\n",
    "    cost_tolerance_intermediate=1e-2,\n",
    "    penalty_scaling=10.,\n",
    "    penalty_initial=1.0,\n",
    "    verbose = 1,\n",
    "    projected_newton = false\n",
    ")"
   ]
  },
  {
   "cell_type": "markdown",
   "metadata": {},
   "source": [
    "Show summary is set to <code>true</code> to print the solver speed. In general the solve will take about 23 iterations and 20-30 ms to complete. The constraint violation should be around $10^{-4}$ or better."
   ]
  },
  {
   "cell_type": "code",
   "execution_count": 37,
   "metadata": {},
   "outputs": [
    {
     "data": {
      "text/plain": [
       "BenchmarkTools.Trial: \n",
       "  memory estimate:  377.87 MiB\n",
       "  allocs estimate:  6282238\n",
       "  --------------\n",
       "  minimum time:     350.217 ms (11.79% GC)\n",
       "  median time:      372.582 ms (11.82% GC)\n",
       "  mean time:        372.582 ms (11.82% GC)\n",
       "  maximum time:     394.947 ms (11.84% GC)\n",
       "  --------------\n",
       "  samples:          2\n",
       "  evals/sample:     10"
      ]
     },
     "execution_count": 37,
     "metadata": {},
     "output_type": "execute_result"
    }
   ],
   "source": [
    "altro = ALTROSolver(prob, opts)\n",
    "b = benchmark_solve!(altro)"
   ]
  },
  {
   "cell_type": "code",
   "execution_count": 38,
   "metadata": {},
   "outputs": [
    {
     "name": "stdout",
     "output_type": "stream",
     "text": [
      "\u001b[32;1m\n",
      "SOLVE COMPLETED\n",
      "\u001b[0m solved using the \u001b[0m\u001b[36;1mALTRO\u001b[0m Solver,\n",
      " part of the Altro.jl package developed by the REx Lab at Stanford and Carnegie Mellon Universities\n",
      "\u001b[34;1m\n",
      "  Solve Statistics\n",
      "\u001b[0m    Total Iterations: 77\n",
      "\u001b[0m    Solve Time: 349.99879999999996 (ms)\n",
      "\u001b[34;1m\n",
      "  Covergence\n",
      "\u001b[0m    Terminal Cost: 4372.109076677363\n",
      "\u001b[0m    Terminal dJ: \u001b[31m1.4247462713874484\n",
      "\u001b[0m    Terminal gradient: \u001b[32m0.0466928541504749\n",
      "\u001b[0m    Terminal constraint violation: \u001b[31m0.0003006829740853749\n",
      "\u001b[0m    Solve Status: \u001b[1m\u001b[31mMAX_ITERATIONS\n",
      "\u001b[0m"
     ]
    }
   ],
   "source": [
    "set_options!(altro, show_summary=true)\n",
    "solve!(altro);"
   ]
  },
  {
   "cell_type": "markdown",
   "metadata": {},
   "source": [
    "## Access the Trajectory"
   ]
  },
  {
   "cell_type": "code",
   "execution_count": 39,
   "metadata": {},
   "outputs": [
    {
     "data": {
      "text/plain": [
       "250-element Array{Float64,1}:\n",
       " 92.05027485973548\n",
       " 92.03697844734333\n",
       " 92.02398459393994\n",
       " 92.01129039631044\n",
       " 91.99889288224155\n",
       " 91.98678910125801\n",
       " 91.97497613316432\n",
       " 91.96345104794484\n",
       " 91.95221095666771\n",
       " 91.94125298806502\n",
       " 91.93057420154844\n",
       " 91.92017186089967\n",
       " 91.91004302211661\n",
       "  ⋮\n",
       " 98.72865130421906\n",
       " 98.8414781866211\n",
       " 98.95430967298924\n",
       " 99.06714597166746\n",
       " 99.17998733403448\n",
       " 99.29283333528315\n",
       " 99.40568473781627\n",
       " 99.5185412640693\n",
       " 99.63140308993452\n",
       " 99.74427031343515\n",
       " 99.85714311247806\n",
       " 99.97002165615032"
      ]
     },
     "execution_count": 39,
     "metadata": {},
     "output_type": "execute_result"
    }
   ],
   "source": [
    "X = states(altro)\n",
    "U = controls(altro)\n",
    "\n",
    "xs = [x[1] for x in X]\n",
    "zs = [x[3] for x in X]\n",
    "\n",
    "uxs = [u[1] for u in U]\n",
    "uys = [u[2] for u in U]\n",
    "uzs = [u[3] for u in U]"
   ]
  },
  {
   "cell_type": "markdown",
   "metadata": {},
   "source": [
    "## Plot the trajectory!"
   ]
  },
  {
   "cell_type": "code",
   "execution_count": 40,
   "metadata": {},
   "outputs": [
    {
     "data": {
      "image/png": "[encoded data removed]"
     },
     "execution_count": 40,
     "metadata": {},
     "output_type": "execute_result"
    }
   ],
   "source": [
    "titleText = \"Rocket Soft-Landing Trajectory \\n\" *\n",
    "        \"starting at an initial $(x0[6]) m/s plummet\"\n",
    "filename = \"RocketGroundThrustBound_BarelyFeasible3\"\n",
    "\n",
    "plt_x = plot(xs, zs, label = \"Trajectory\")\n",
    "xlabel!(\"x\")\n",
    "ylabel!(\"z (height)\")\n",
    "title!(titleText)"
   ]
  },
  {
   "cell_type": "code",
   "execution_count": 41,
   "metadata": {},
   "outputs": [
    {
     "data": {
      "image/png": "[encoded data removed]"
     },
     "execution_count": 41,
     "metadata": {},
     "output_type": "execute_result"
    }
   ],
   "source": [
    "function getAngle3D(u)\n",
    "    if norm(u[3]) == 0.0\n",
    "        # hit the tan singularity\n",
    "        return pi / 2\n",
    "    else\n",
    "        return atand(norm([u[1]; u[2]]), u[3])\n",
    "    end\n",
    "end\n",
    "\n",
    "plt_ux = plot(getAngle3D.(U), label = \"U Control Angle\")\n",
    "# hline!([-ulateral_max, ulateral_max], linecolor = :grey, linestyle = :dash,\n",
    "#                 label = \"Max Lateral Thrust\")\n",
    "# xlabel!(\"time (s)\")\n",
    "ylabel!(\"Thrust Angle (deg)\")\n",
    "title!(\"Controls over Time\")\n",
    "\n",
    "plt_umag = plot(norm.(U), label = \"U Magnitude\")\n",
    "hline!([u_bnd], linecolor = :grey, linestyle = :dash, label = \"Max Thrust\")\n",
    "hline!([norm(model.mass * model.g[3])], linecolor = :grey, linestyle = :dash, label = \"Gravity Balance\")\n",
    "xlabel!(\"time (s)\")\n",
    "ylabel!(\"control (N)\")\n",
    "\n",
    "plt_u = plot(plt_ux, plt_umag, layout = (2, 1))"
   ]
  },
  {
   "cell_type": "markdown",
   "metadata": {},
   "source": [
    "Below is a GIF of the trajectory. This will take several seconds to generate."
   ]
  },
  {
   "cell_type": "code",
   "execution_count": 22,
   "metadata": {},
   "outputs": [
    {
     "data": {
      "image/png": "[encoded data removed]",
      "text/plain": [
       "PyPlot.Figure(PyObject <Figure size 600x400 with 1 Axes>)"
      ]
     },
     "metadata": {},
     "output_type": "display_data"
    },
    {
     "name": "stderr",
     "output_type": "stream",
     "text": [
      "┌ Info: Saved animation to \n",
      "│   fn = C:\\Users\\Daniel N\\.julia\\dev\\altro-mpc-icra2021\\benchmarks\\rocket_landing\\tmp.gif\n",
      "└ @ Plots C:\\Users\\Daniel N\\.julia\\packages\\Plots\\a7Kbp\\src\\animation.jl:104\n"
     ]
    },
    {
     "data": {
      "text/html": [
       "<img src=\"data:image/gif;base64,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\" />"
      ],
      "text/plain": [
       "Plots.AnimatedGif(\"C:\\\\Users\\\\Daniel N\\\\.julia\\\\dev\\\\altro-mpc-icra2021\\\\benchmarks\\\\rocket_landing\\\\tmp.gif\")"
      ]
     },
     "execution_count": 22,
     "metadata": {},
     "output_type": "execute_result"
    }
   ],
   "source": [
    "xmin = minimum(xs)\n",
    "xmax = maximum(xs)\n",
    "\n",
    "zmin = minimum(zs)\n",
    "zmax = maximum(zs)\n",
    "\n",
    "@gif for i in 1:N\n",
    "    plt = plot(xs[1:i], zs[1:i], label = \"Trajectory\", legend = :topleft)\n",
    "    xlabel!(\"x\")\n",
    "    ylabel!(\"z (height)\")\n",
    "    xlims!(xmin,xmax)\n",
    "    ylims!(zmin,zmax)\n",
    "    title!(titleText)\n",
    "end"
   ]
  },
  {
   "cell_type": "markdown",
   "metadata": {},
   "source": [
    "## Lastly, let's visualize the results in 3D with Meshcat\n",
    "\n",
    "To do this, we need to provide a Mesh to <code>MeshCat</code>. This is due with <code>FileIO</code> and <code>MeshIO</code>."
   ]
  },
  {
   "cell_type": "code",
   "execution_count": 23,
   "metadata": {},
   "outputs": [
    {
     "name": "stderr",
     "output_type": "stream",
     "text": [
      "┌ Info: MeshCat server started. You can open the visualizer by visiting the following URL in your browser:\n",
      "│ http://localhost:8700\n",
      "└ @ MeshCat C:\\Users\\Daniel N\\.julia\\packages\\MeshCat\\X2AUA\\src\\visualizer.jl:73\n"
     ]
    },
    {
     "data": {
      "text/html": [
       "    <div style=\"height: 500px; width: 100%; overflow-x: auto; overflow-y: hidden; resize: both\">\n",
       "    <iframe src=\"http://localhost:8700\" style=\"width: 100%; height: 100%; border: none\"></iframe>\n",
       "    </div>\n"
      ],
      "text/plain": [
       "MeshCat.DisplayedVisualizer(MeshCat.CoreVisualizer(MeshCat.SceneTrees.SceneNode(nothing, nothing, Dict{String,Array{UInt8,1}}(), nothing, Dict{String,MeshCat.SceneTrees.SceneNode}()), Set(Any[]), ip\"127.0.0.1\", 8700))"
      ]
     },
     "execution_count": 23,
     "metadata": {},
     "output_type": "execute_result"
    }
   ],
   "source": [
    "vis = Visualizer() # Creates a MeshCat Window\n",
    "render(vis) # Renders the window below"
   ]
  },
  {
   "cell_type": "code",
   "execution_count": 24,
   "metadata": {},
   "outputs": [
    {
     "data": {
      "text/plain": [
       "MeshCat Visualizer with path /meshcat/robot/geom at http://localhost:8700"
      ]
     },
     "execution_count": 24,
     "metadata": {},
     "output_type": "execute_result"
    }
   ],
   "source": [
    "function TrajOptPlots._set_mesh!(vis, model::Rocket)\n",
    "    obj = joinpath(@__DIR__, \"SimpleRocket.obj\")\n",
    "    quad_scaling = 0.085\n",
    "    robot_obj = FileIO.load(obj)\n",
    "    robot_obj.vertices .*= quad_scaling\n",
    "    mat = MeshPhongMaterial(color=colorant\"lightgrey\")\n",
    "    setobject!(vis[\"geom\"], robot_obj, mat)\n",
    "end\n",
    "\n",
    "TrajOptPlots.set_mesh!(vis, model)"
   ]
  },
  {
   "cell_type": "code",
   "execution_count": 25,
   "metadata": {},
   "outputs": [],
   "source": [
    "Base.position(::Rocket, x::StaticVector) = SA[x[1], x[2], x[3]]\n",
    "RobotDynamics.orientation(::Rocket, x::StaticVector) = UnitQuaternion(0,0,0,1)\n",
    "\n",
    "visualize!(vis, altro);"
   ]
  },
  {
   "cell_type": "markdown",
   "metadata": {},
   "source": [
    "## Integrate the Dynamics to Verify the Dynamics Constraint\n",
    "\n",
    "In Matlab, we would use ODE 45, but in the <code>DifferentialEquations.jl</code> package we can either (1) just let the <code>solve</code> method figure it out or (2) specify a solver such as <code>Tsit5</code>.\n",
    "\n",
    "The controls change over time and are discretized. Below, a zero-order hold and a first-order hold are implemented for comparison. **We used a zero-order hold in the optimization so a zero-order hold should be used here.**"
   ]
  },
  {
   "cell_type": "code",
   "execution_count": 26,
   "metadata": {},
   "outputs": [
    {
     "name": "stdout",
     "output_type": "stream",
     "text": [
      "  136.618 ms (2126743 allocations: 80.74 MiB)\n"
     ]
    }
   ],
   "source": [
    "get_controls_zero_order_hold(t) = U[min(Int(floor(t/dt)) + 1, size(U,1))]\n",
    "f(y,p,t) = dynamics(model, y, get_controls_zero_order_hold(t))\n",
    "\n",
    "states_y0 = x0\n",
    "tspan = (0.0, tf)\n",
    "controls_p0 = get_controls_zero_order_hold(tspan[1])\n",
    "\n",
    "ode_prob_zoh = ODEProblem(f, states_y0, tspan, controls_p0)\n",
    "@btime solve(ode_prob_zoh, Tsit5(), reltol=1e-10, abstol=1e-10,saveat=dt)\n",
    "ode_sol_zoh = solve(ode_prob_zoh, Tsit5(), reltol=1e-10, abstol=1e-10,saveat=dt);"
   ]
  },
  {
   "cell_type": "code",
   "execution_count": 27,
   "metadata": {},
   "outputs": [
    {
     "name": "stdout",
     "output_type": "stream",
     "text": [
      "  6.747 ms (123723 allocations: 4.30 MiB)\n"
     ]
    }
   ],
   "source": [
    "function get_controls_first_order_hold(t)\n",
    "    # dt and U are both global variables\n",
    "    tn = t/dt\n",
    "    \n",
    "    t_below = Int(max(1, floor(tn)))\n",
    "    t_above = Int(min(size(U, 1), ceil(tn)))\n",
    "    \n",
    "    if t_below >= t_above\n",
    "        return U[t_below]\n",
    "    end\n",
    "    \n",
    "    slope = (U[t_above] - U[t_below])\n",
    "    return slope * (tn - t_below) + U[t_below]\n",
    "\n",
    "end\n",
    "\n",
    "\n",
    "f(y,p,t) = dynamics(model, y, get_controls_first_order_hold(t))\n",
    "\n",
    "states_y0 = x0\n",
    "tspan = (0.0, tf)\n",
    "controls_p0 = get_controls_first_order_hold(tspan[1])\n",
    "\n",
    "ode_prob_foh = ODEProblem(f, states_y0, tspan, controls_p0)\n",
    "@btime solve(ode_prob_foh, Tsit5(), reltol=1e-10, abstol=1e-10,saveat=dt)\n",
    "ode_sol_foh = solve(ode_prob_foh, Tsit5(), reltol=1e-10, abstol=1e-10,saveat=dt);"
   ]
  },
  {
   "cell_type": "code",
   "execution_count": 28,
   "metadata": {},
   "outputs": [
    {
     "data": {
      "image/png": "[encoded data removed]"
     },
     "execution_count": 28,
     "metadata": {},
     "output_type": "execute_result"
    }
   ],
   "source": [
    "err_zoh = norm.(ode_sol_zoh.u - X[1:(Int(tspan[2]/dt)+1)])\n",
    "err_foh = norm.(ode_sol_foh.u - X[1:(Int(tspan[2]/dt)+1)])\n",
    "\n",
    "bound = 10^(-10)\n",
    "\n",
    "plot(ode_sol_zoh.t, max.(bound, err_zoh), yaxis = :log, label = \"Zero-Order Hold\")\n",
    "plot!(ode_sol_foh.t, max.(bound, err_foh), yaxis = :log, label = \"First-Order Hold\")\n",
    "xlabel!(\"Time (s)\")\n",
    "ylabel!(\"Dynamics Error\")\n",
    "title!(\"Comparison in State Vector expected from ALTRO Solver \\n to Integrated Dynamics Model\")"
   ]
  },
  {
   "cell_type": "code",
   "execution_count": null,
   "metadata": {},
   "outputs": [],
   "source": []
  }
 ],
 "metadata": {
  "kernelspec": {
   "display_name": "Julia 1.4.2",
   "language": "julia",
   "name": "julia-1.4"
  },
  "language_info": {
   "file_extension": ".jl",
   "mimetype": "application/julia",
   "name": "julia",
   "version": "1.4.2"
  }
 },
 "nbformat": 4,
 "nbformat_minor": 4
}
