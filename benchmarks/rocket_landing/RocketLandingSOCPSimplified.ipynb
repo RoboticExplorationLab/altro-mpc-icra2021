{
 "cells": [
  {
   "cell_type": "markdown",
   "metadata": {},
   "source": [
    "# Simple Rocket Soft-Landing Problem with SOCP Constraints\n",
    "\n",
    "This notebook is a walkthough of the ALTRO solver for the (linear) Rocket Soft-Landing Problem (i.e. the general control challenge of landing a rocket at rest at a designated landing site). In the simplest case, we treat the rocket as a sphere landing on a flat surface with no atmosphere. This approximation is reasonable when the rocket is near the ground and entering the final part of the descent.\n",
    "\n",
    "**This files focuses on the problem set-up and visualizing the result. For the MPC application, please visit the <code>RocketLandingMPC.ipynb</code> file. Thanks!**"
   ]
  },
  {
   "cell_type": "code",
   "execution_count": 1,
   "metadata": {},
   "outputs": [
    {
     "name": "stderr",
     "output_type": "stream",
     "text": [
      "\u001b[32m\u001b[1m Activating\u001b[22m\u001b[39m environment at `C:\\Users\\Daniel N\\.julia\\dev\\altro-mpc-icra2021\\benchmarks\\rocket_landing\\Project.toml`"
     ]
    },
    {
     "name": "stdout",
     "output_type": "stream",
     "text": [
      "\u001b[32m\u001b[1mStatus\u001b[22m\u001b[39m `C:\\Users\\Daniel N\\.julia\\dev\\altro-mpc-icra2021\\benchmarks\\rocket_landing\\Project.toml`"
     ]
    },
    {
     "name": "stderr",
     "output_type": "stream",
     "text": [
      "\n"
     ]
    },
    {
     "name": "stdout",
     "output_type": "stream",
     "text": [
      "\n",
      " \u001b[90m [5dcf52e5]\u001b[39m\u001b[37m Altro v0.2.0 #socp (https://github.com/RoboticExplorationLab/Altro.jl.git)\u001b[39m\n",
      " \u001b[90m [6e4b80f9]\u001b[39m\u001b[37m BenchmarkTools v0.5.0\u001b[39m\n",
      " \u001b[90m [f65535da]\u001b[39m\u001b[37m Convex v0.13.7\u001b[39m\n",
      " \u001b[90m [0c46a032]\u001b[39m\u001b[37m DifferentialEquations v6.15.0\u001b[39m\n",
      " \u001b[90m [e2685f51]\u001b[39m\u001b[37m ECOS v0.12.1\u001b[39m\n",
      " \u001b[90m [5789e2e9]\u001b[39m\u001b[37m FileIO v1.4.3\u001b[39m\n",
      " \u001b[90m [283c5d60]\u001b[39m\u001b[37m MeshCat v0.11.3\u001b[39m\n",
      " \u001b[90m [7269a6da]\u001b[39m\u001b[37m MeshIO v0.3.2\u001b[39m\n",
      " \u001b[90m [91a5bcdd]\u001b[39m\u001b[37m Plots v1.6.9\u001b[39m\n",
      " \u001b[90m [d330b81b]\u001b[39m\u001b[37m PyPlot v2.9.0\u001b[39m\n",
      " \u001b[90m [38ceca67]\u001b[39m\u001b[37m RobotDynamics v0.2.2\u001b[39m\n",
      " \u001b[90m [6038ab10]\u001b[39m\u001b[37m Rotations v1.0.1\u001b[39m\n",
      " \u001b[90m [90137ffa]\u001b[39m\u001b[37m StaticArrays v0.12.4\u001b[39m\n",
      " \u001b[90m [7770976a]\u001b[39m\u001b[37m TrajOptPlots v0.1.0 #master (https://github.com/RoboticExplorationLab/TrajOptPlots.jl)\u001b[39m\n",
      " \u001b[90m [c79d492b]\u001b[39m\u001b[37m TrajectoryOptimization v0.3.2 #socp (https://github.com/RoboticExplorationLab/TrajectoryOptimization.jl.git)\u001b[39m\n",
      " \u001b[90m [37e2e46d]\u001b[39m\u001b[37m LinearAlgebra \u001b[39m\n",
      " \u001b[90m [2f01184e]\u001b[39m\u001b[37m SparseArrays \u001b[39m\n"
     ]
    }
   ],
   "source": [
    "using Pkg\n",
    "Pkg.activate(\".\")\n",
    "Pkg.instantiate()\n",
    "Pkg.status()"
   ]
  },
  {
   "cell_type": "markdown",
   "metadata": {},
   "source": [
    "## Load Required Packages\n",
    "\n",
    "The <code>RobotDynamics</code> package enables us to define the rocket model and dynamics. The <code>TrajectoryOptimization</code> and <code>Altro</code> set-up and solve the trajectory optimization problem. <code>StaticArrays</code> and <code>LinearAlgebra</code> are required to set-up the appropriate data types.\n",
    "\n",
    "Next, <code>Plots, MeshCat, TrajOptPlots, FileIO,</code> and <code>MeshIO</code> packages are used to visualize the results. Note that the plotting sections will take significantly longer to run than the optimization. \n",
    "\n",
    "Lastly, <code>DifferentialEquations</code> integrates the dynamics forward as a way to show that the dynamics constraints are satisfied.\n",
    "\n",
    "Loading all the packages, especially for plotting and the differential equations integrator can be the longest part of the whole notebook."
   ]
  },
  {
   "cell_type": "code",
   "execution_count": 2,
   "metadata": {},
   "outputs": [
    {
     "name": "stdout",
     "output_type": "stream",
     "text": [
      "Trajectory Optimization Packages Ready\n",
      "Base Plotting Packages Ready\n",
      "3D Plotting Packages Ready\n",
      "Differential Equations Ready\n"
     ]
    }
   ],
   "source": [
    "using RobotDynamics\n",
    "import RobotDynamics: dynamics\n",
    "using Rotations\n",
    "using Altro\n",
    "using TrajectoryOptimization\n",
    "using StaticArrays, LinearAlgebra\n",
    "println(\"Trajectory Optimization Packages Ready\")\n",
    "\n",
    "using Plots\n",
    "pyplot()\n",
    "println(\"Base Plotting Packages Ready\")\n",
    "\n",
    "using MeshCat, TrajOptPlots\n",
    "using FileIO, MeshIO\n",
    "println(\"3D Plotting Packages Ready\")\n",
    "\n",
    "import DifferentialEquations.solve, DifferentialEquations.ODEProblem, DifferentialEquations.Tsit5\n",
    "using BenchmarkTools\n",
    "println(\"Differential Equations Ready\")"
   ]
  },
  {
   "cell_type": "markdown",
   "metadata": {},
   "source": [
    "## Detail the Rocket Dynamics\n",
    "\n",
    "For the simplified rocket problem, we choose to ignore the attitude dynamics. Applying newton's second law or by forming a Lagrangian, we arrive at the following sparse system\n",
    "\n",
    "$$\\frac{dx}{dt} = Ax + Bu + g$$\n",
    "\n",
    "Where $A = \\begin{bmatrix}0 & I\\\\ 0 & 0 \\end{bmatrix}$, $B = \\begin{bmatrix}0 \\\\ \\frac{1}{m} I\\end{bmatrix}$, and $G = \\begin{bmatrix} 0 \\\\ -g \\end{bmatrix}$. For the 3D case, these are $(6 \\times 6)$, $(6 \\times 3)$, and $(6 \\times 1)$ matricies, respectively.\n",
    "\n",
    "Since the system is so sparse, we can reduce unnecessary computations by writing the equations for the first and second derivatives. We use the notation of $s = [x; y; z]$ (the positions) and $\\frac{ds}{dt} = [v_x; v_y; v_z]$ (the velocities). "
   ]
  },
  {
   "cell_type": "code",
   "execution_count": 3,
   "metadata": {},
   "outputs": [
    {
     "data": {
      "text/plain": [
       "LinearModel{6,3,Float64,15}(SizedArray{Tuple{6,6},Float64,2,2}[[0.0 0.0 … 0.0 0.0; 0.0 0.0 … 1.0 0.0; … ; 0.0 0.0 … 0.0 0.0; 0.0 0.0 … 0.0 0.0]], SizedArray{Tuple{6,3},Float64,2,2}[[0.0 0.0 0.0; 0.0 0.0 0.0; … ; 0.0 0.1 0.0; 0.0 0.0 0.1]], SizedArray{Tuple{6},Float64,1,1}[[0.0, 0.0, 0.0, 0.0, 0.0, -9.81]], Float64[], 0.0, [0.0, 0.0, 0.0, 0.0, 0.0, 0.0], [0.0 0.0 … 0.0 0.0; 0.0 0.0 … 0.0 0.0; … ; 0.0 0.0 … 0.0 0.0; 0.0 0.0 … 0.0 0.0], true)"
      ]
     },
     "execution_count": 3,
     "metadata": {},
     "output_type": "execute_result"
    }
   ],
   "source": [
    "const mass = 10.0\n",
    "const grav = SA[0.0; 0.0; -9.81]\n",
    "\n",
    "model = LinearModel([zeros(3,3) I; zeros(3, 6)], [zeros(3,3); (1/mass) * I], vec([zeros(3, 1); grav]))"
   ]
  },
  {
   "cell_type": "markdown",
   "metadata": {},
   "source": [
    "## Instantiate the Model and Define the Discretization\n",
    "\n",
    "Feel free to choose <code>N</code> and <code>tf</code> based on your needs."
   ]
  },
  {
   "cell_type": "code",
   "execution_count": 4,
   "metadata": {},
   "outputs": [
    {
     "data": {
      "text/plain": [
       "LinearModel{6,3,Float64,15}(SizedArray{Tuple{6,6},Float64,2,2}[[0.0 0.0 … 0.0 0.0; 0.0 0.0 … 1.0 0.0; … ; 0.0 0.0 … 0.0 0.0; 0.0 0.0 … 0.0 0.0]], SizedArray{Tuple{6,3},Float64,2,2}[[0.0 0.0 0.0; 0.0 0.0 0.0; … ; 0.0 0.1 0.0; 0.0 0.0 0.1]], SizedArray{Tuple{6},Float64,1,1}[[0.0, 0.0, 0.0, 0.0, 0.0, -9.81]], Float64[], 0.0, [0.0, 0.0, 0.0, 0.0, 0.0, 0.0], [0.0 0.0 … 0.0 0.0; 0.0 0.0 … 0.0 0.0; … ; 0.0 0.0 … 0.0 0.0; 0.0 0.0 … 0.0 0.0], true)"
      ]
     },
     "execution_count": 4,
     "metadata": {},
     "output_type": "execute_result"
    }
   ],
   "source": [
    "n, m = size(model)\n",
    "# n is the size of the states ([x, y, z, vx, vy, vz])\n",
    "# m is the size of the control thrust ([Tx, Ty, Tz]])\n",
    "\n",
    "# Trajectory Discretization\n",
    "N = 251\n",
    "tf = 10.\n",
    "dt = tf/(N-1)\n",
    "\n",
    "model # (Simply for information) Display the struct as the cell output "
   ]
  },
  {
   "cell_type": "markdown",
   "metadata": {},
   "source": [
    "## Specify the Initial and Final Conditions\n",
    "\n",
    "Choose the initial and final points. Note that these must be full state vectors ($[x; y; z; v_x; v_y; v_z]$). The initial point is generally the rocket's current state. The final point is generally the rocket's landing stop. Note that the final velocity of the rocket should **always** be $[0.0; 0.0; 0.0]$ to have a **soft** landing."
   ]
  },
  {
   "cell_type": "code",
   "execution_count": 5,
   "metadata": {},
   "outputs": [],
   "source": [
    "# Initial and Final Conditions\n",
    "x0 = @SVector [4.0, 2.0, 20.0, -3.0, 2.0, -5.0] # Start at a 20 m altitude with an ~15 m/s plummet\n",
    "xf = @SVector zeros(n);  # Swing pendulum up and end at rest"
   ]
  },
  {
   "cell_type": "markdown",
   "metadata": {},
   "source": [
    "## Set-Up the LQR Objective Function\n",
    "\n",
    "For this problem, we choose an LQR Objective Function. One can add waypoints or change the weights to craft different optimal trajectories. See http://roboticexplorationlab.org/TrajectoryOptimization.jl/stable/costfunctions.html for more information."
   ]
  },
  {
   "cell_type": "code",
   "execution_count": 6,
   "metadata": {},
   "outputs": [
    {
     "data": {
      "text/plain": [
       "Objective"
      ]
     },
     "execution_count": 6,
     "metadata": {},
     "output_type": "execute_result"
    }
   ],
   "source": [
    "Q = 1.0e-2 * Diagonal(@SVector ones(n))\n",
    "Qf = 100.0 * Diagonal(@SVector ones(n))\n",
    "R = 1.0e-1 * Diagonal(@SVector ones(m))\n",
    "obj = LQRObjective(Q,R,Qf,xf,N)"
   ]
  },
  {
   "cell_type": "markdown",
   "metadata": {},
   "source": [
    "## Define the Constraints\n",
    "\n",
    "For the simple rocket soft-landing problem, we will include 4 constraints:\n",
    "1. Landing Site Designation ($x[t_f] = x_f$)\n",
    "2. Crash Prevention Constraint ($z > 0$)\n",
    "3. Maximum Thrust Constraint ($0 < ||u|| < u_{max}$), which is a simplification of a max thrust constraint\n",
    "4. Maximum Thurst Angle Constraint ($||[u_x; u_y]|| ≤ \\alpha \\ u_z$), which is a simplification of a max thrust angle constraint \n",
    "\n",
    "For details on the implemented constraint types, please check out http://roboticexplorationlab.org/TrajectoryOptimization.jl/stable/constraints.html."
   ]
  },
  {
   "cell_type": "code",
   "execution_count": 7,
   "metadata": {},
   "outputs": [
    {
     "name": "stdout",
     "output_type": "stream",
     "text": [
      "Maximum Thrust is 196.20000000000002\n"
     ]
    },
    {
     "data": {
      "text/latex": [
       "0 . 1 2 2 7 8 4 5 6 0 9 0 2 9 0 4 6"
      ],
      "text/plain": [
       "0.1227845609029046"
      ]
     },
     "execution_count": 7,
     "metadata": {},
     "output_type": "execute_result"
    }
   ],
   "source": [
    "# Create Empty ConstraintList\n",
    "conSet = ConstraintList(n,m,N)\n",
    "\n",
    "# Key Constants\n",
    "ground_level = 0.0 # Crash Prevention Constraint\n",
    "theta = 7 # deg. Max Angle Constraint\n",
    "perWeightMax = 2\n",
    "u_bnd = mass * norm(grav[3]) * perWeightMax\n",
    "println(\"Maximum Thrust is $u_bnd\")\n",
    "\n",
    "\n",
    "# Goal Constraint that the rocket must reach the landing site.\n",
    "goal = GoalConstraint(xf)\n",
    "add_constraint!(conSet, goal, N)\n",
    "\n",
    "# Bounds\n",
    "bnd = BoundConstraint(n,m, x_min=[-Inf, -Inf, ground_level,\n",
    "                                  -Inf, -Inf, -Inf])\n",
    "\n",
    "# Include the max thrust constraint\n",
    "maxT = NormConstraint(n, m, u_bnd, TrajectoryOptimization.SecondOrderCone(), :control)\n",
    "add_constraint!(conSet, maxT, 1:N-1)\n",
    "\n",
    "# Include the max thrust angle constraint\n",
    "function getAlpha(theta, deg = true)\n",
    "    if deg\n",
    "        return tand(theta)\n",
    "    end\n",
    "    return tan(theta)\n",
    "end\n",
    "\n",
    "\n",
    "maxTAalpha = getAlpha(theta)"
   ]
  },
  {
   "cell_type": "code",
   "execution_count": 8,
   "metadata": {},
   "outputs": [],
   "source": [
    "# struct NormConstraint2{S,D,p,q} <: TrajectoryOptimization.ControlConstraint #TrajectoryOptimization.StageConstraint \n",
    "#     n::Int\n",
    "#     m::Int\n",
    "#     A::SizedMatrix{p, q, Float64, 2}\n",
    "#     c::SVector{p, Float64}\n",
    "#     sense::S\n",
    "#     inds::SVector{D,Int}\n",
    "#     function NormConstraint2(n::Int, m::Int, A::SizedMatrix, c::SVector, sense::TrajectoryOptimization.ConstraintSense,\n",
    "#             inds = SVector{m}(1:m))\n",
    "#         if inds == :control\n",
    "#             inds = SVector{m}(1:m)\n",
    "#         end\n",
    "#         @assert size(A,2) == length(c)\n",
    "#         @assert eltype(A) == eltype(c)\n",
    "        \n",
    "#         display(inds)\n",
    "\n",
    "#         new{typeof(sense),length(inds), size(A, 1), size(A, 2)}(n,m,A,c,sense,inds)\n",
    "#     end\n",
    "# end\n",
    "\n",
    "# @inline TrajectoryOptimization.state_dim(con::NormConstraint2) = con.n\n",
    "# @inline TrajectoryOptimization.control_dim(con::NormConstraint2) = con.m\n",
    "# @inline TrajectoryOptimization.sense(con::NormConstraint2) = con.sense\n",
    "# # @inline Base.length(::NormConstraint2) = 1\n",
    "# @inline Base.length(::NormConstraint2{TrajectoryOptimization.SecondOrderCone,D}) where D = D + 1\n",
    "\n",
    "# function TrajectoryOptimization.evaluate(con::NormConstraint2{TrajectoryOptimization.SecondOrderCone}, z::AbstractKnotPoint)\n",
    "#     v = con.A*z.z[con.inds]\n",
    "#     return push(v, con.c'*z.z[con.inds])\n",
    "# end\n",
    "\n",
    "# function TrajectoryOptimization.jacobian!(∇c, con::NormConstraint2{TrajectoryOptimization.SecondOrderCone}, \n",
    "#                                                     z::AbstractKnotPoint)\n",
    "# #     display(con)\n",
    "# #     display(con.inds)\n",
    "#     ∇c[1:length(con.inds),con.inds] = con.A\n",
    "#     ∇c[1+length(con.inds),con.inds] = con.c\n",
    "#     return true\n",
    "# end\n",
    "\n",
    "# function TrajectoryOptimization.change_dimension(con::NormConstraint2, n::Int, m::Int, ix=1:n, iu=1:m)\n",
    "#     NormConstraint2(n, m, con.val, con.sense, ix[con.inds])\n",
    "# end"
   ]
  },
  {
   "cell_type": "code",
   "execution_count": 9,
   "metadata": {},
   "outputs": [],
   "source": [
    "struct NormConstraint2{S,D,p,q} <: TrajectoryOptimization.StageConstraint \n",
    "    n::Int\n",
    "    m::Int\n",
    "    A::SizedMatrix{p, q, Float64, 2}\n",
    "    c::SVector{p, Float64}\n",
    "    sense::S\n",
    "    inds::SVector{D,Int}\n",
    "    function NormConstraint2(n::Int, m::Int, A::SizedMatrix, c::SVector, sense::TrajectoryOptimization.ConstraintSense,\n",
    "            inds = SVector{m}(1:m))\n",
    "        if inds == :control\n",
    "            inds = SVector{m}(n .+ (1:m))\n",
    "        end\n",
    "        @assert size(A,2) == length(c)\n",
    "        @assert eltype(A) == eltype(c)\n",
    "        \n",
    "        display(inds)\n",
    "\n",
    "        new{typeof(sense),length(inds), size(A, 1), size(A, 2)}(n,m,A,c,sense,inds)\n",
    "    end\n",
    "end\n",
    "\n",
    "@inline TrajectoryOptimization.state_dim(con::NormConstraint2) = con.n\n",
    "@inline TrajectoryOptimization.control_dim(con::NormConstraint2) = con.m\n",
    "@inline TrajectoryOptimization.sense(con::NormConstraint2) = con.sense\n",
    "# @inline Base.length(::NormConstraint2) = 1\n",
    "@inline Base.length(::NormConstraint2{TrajectoryOptimization.SecondOrderCone,D}) where D = D + 1\n",
    "\n",
    "function TrajectoryOptimization.evaluate(con::NormConstraint2{TrajectoryOptimization.SecondOrderCone}, z::AbstractKnotPoint)\n",
    "    v = con.A*z.z[con.inds]\n",
    "    return push(v, con.c'*z.z[con.inds])\n",
    "end\n",
    "\n",
    "function TrajectoryOptimization.jacobian!(∇c, con::NormConstraint2{TrajectoryOptimization.SecondOrderCone}, \n",
    "                                                    z::AbstractKnotPoint)\n",
    "#     display(con)\n",
    "#     display(con.inds)\n",
    "    ∇c[1:length(con.inds),con.inds] = con.A\n",
    "    ∇c[1+length(con.inds),con.inds] = con.c\n",
    "    return true\n",
    "end\n",
    "\n",
    "function TrajectoryOptimization.change_dimension(con::NormConstraint2, n::Int, m::Int, ix=1:n, iu=1:m)\n",
    "    NormConstraint2(n, m, con.val, con.sense, ix[con.inds])\n",
    "end"
   ]
  },
  {
   "cell_type": "code",
   "execution_count": 10,
   "metadata": {},
   "outputs": [
    {
     "data": {
      "text/plain": [
       "Float64"
      ]
     },
     "metadata": {},
     "output_type": "display_data"
    },
    {
     "data": {
      "text/plain": [
       "Float64"
      ]
     },
     "metadata": {},
     "output_type": "display_data"
    },
    {
     "data": {
      "text/plain": [
       "3-element SArray{Tuple{3},Int64,1,3} with indices SOneTo(3):\n",
       " 7\n",
       " 8\n",
       " 9"
      ]
     },
     "metadata": {},
     "output_type": "display_data"
    },
    {
     "data": {
      "text/plain": [
       "NormConstraint2{TrajectoryOptimization.SecondOrderCone,3,3,3}(6, 3, [1.0 0.0 0.0; 0.0 1.0 0.0; 0.0 0.0 0.0], [0.0, 0.0, 0.1227845609029046], TrajectoryOptimization.SecondOrderCone(), [7, 8, 9])"
      ]
     },
     "execution_count": 10,
     "metadata": {},
     "output_type": "execute_result"
    }
   ],
   "source": [
    "ARocket = SizedMatrix{3,3}([1.0 0 0; 0 1.0 0; 0 0 0])\n",
    "cRocket = SVector{3}([0; 0; maxTAalpha])\n",
    "\n",
    "display(eltype(ARocket))\n",
    "display(eltype(cRocket))\n",
    "\n",
    "maxTA = NormConstraint2(n, m, ARocket, cRocket, TrajectoryOptimization.SecondOrderCone(), :control)\n",
    "add_constraint!(conSet, maxTA, 1:N-1)\n",
    "maxTA"
   ]
  },
  {
   "cell_type": "code",
   "execution_count": 11,
   "metadata": {},
   "outputs": [
    {
     "data": {
      "text/plain": [
       "7:9"
      ]
     },
     "execution_count": 11,
     "metadata": {},
     "output_type": "execute_result"
    }
   ],
   "source": [
    "n .+ (1:m)"
   ]
  },
  {
   "cell_type": "code",
   "execution_count": 12,
   "metadata": {},
   "outputs": [
    {
     "data": {
      "text/plain": [
       "1:6"
      ]
     },
     "execution_count": 12,
     "metadata": {},
     "output_type": "execute_result"
    }
   ],
   "source": [
    "1:n"
   ]
  },
  {
   "cell_type": "code",
   "execution_count": 13,
   "metadata": {},
   "outputs": [
    {
     "data": {
      "text/plain": [
       "(9,)"
      ]
     },
     "execution_count": 13,
     "metadata": {},
     "output_type": "execute_result"
    }
   ],
   "source": [
    "TrajectoryOptimization.widths(maxTA, n, m)"
   ]
  },
  {
   "cell_type": "markdown",
   "metadata": {},
   "source": [
    "## Stitch together the objective and constraints\n",
    "\n",
    "See http://roboticexplorationlab.org/TrajectoryOptimization.jl/stable/creating_problems.html for more information."
   ]
  },
  {
   "cell_type": "code",
   "execution_count": 14,
   "metadata": {},
   "outputs": [],
   "source": [
    "# Package the objective and constraints into a \"problem\" type\n",
    "prob = Problem(model, obj, xf, tf, x0=x0, constraints=conSet);"
   ]
  },
  {
   "cell_type": "markdown",
   "metadata": {},
   "source": [
    "## Initialize the Trajectory\n",
    "\n",
    "We choose to initialize the trajectory at a hover (i.e. the rocket trajectory will initially only counter gravity)."
   ]
  },
  {
   "cell_type": "code",
   "execution_count": 15,
   "metadata": {},
   "outputs": [],
   "source": [
    "u0 = grav # controls that would nominally hover\n",
    "U0 = [u0 for k = 1:N-1] # vector of the small controls\n",
    "initial_controls!(prob, U0)\n",
    "rollout!(prob);"
   ]
  },
  {
   "cell_type": "markdown",
   "metadata": {},
   "source": [
    "## Select the solver options\n",
    "\n",
    "For more information, please visit https://github.com/RoboticExplorationLab/Altro.jl/blob/master/README.md for more details on the solver options.\n",
    "\n",
    "Using the Altro package, we can now specify parameters and solve the problem."
   ]
  },
  {
   "cell_type": "code",
   "execution_count": 16,
   "metadata": {},
   "outputs": [
    {
     "data": {
      "text/plain": [
       "SolverOptions{Float64}\n",
       "  constraint_tolerance: Float64 1.0e-6\n",
       "  cost_tolerance: Float64 0.0001\n",
       "  cost_tolerance_intermediate: Float64 0.01\n",
       "  gradient_tolerance: Float64 10.0\n",
       "  gradient_tolerance_intermediate: Float64 1.0\n",
       "  iterations_inner: Int64 300\n",
       "  dJ_counter_limit: Int64 10\n",
       "  square_root: Bool false\n",
       "  line_search_lower_bound: Float64 1.0e-8\n",
       "  line_search_upper_bound: Float64 10.0\n",
       "  iterations_linesearch: Int64 20\n",
       "  max_cost_value: Float64 1.0e8\n",
       "  max_state_value: Float64 1.0e8\n",
       "  max_control_value: Float64 1.0e8\n",
       "  static_bp: Bool true\n",
       "  save_S: Bool false\n",
       "  bp_reg: Bool false\n",
       "  bp_reg_initial: Float64 0.0\n",
       "  bp_reg_increase_factor: Float64 1.6\n",
       "  bp_reg_max: Float64 1.0e8\n",
       "  bp_reg_min: Float64 1.0e-8\n",
       "  bp_reg_type: Symbol control\n",
       "  bp_reg_fp: Float64 10.0\n",
       "  penalty_initial: Float64 1.0\n",
       "  penalty_scaling: Float64 10.0\n",
       "  active_set_tolerance_al: Float64 0.001\n",
       "  dual_max: Float64 NaN\n",
       "  penalty_max: Float64 NaN\n",
       "  iterations_outer: Int64 30\n",
       "  kickout_max_penalty: Bool false\n",
       "  reset_duals: Bool true\n",
       "  reset_penalties: Bool true\n",
       "  verbose_pn: Bool false\n",
       "  n_steps: Int64 2\n",
       "  solve_type: Symbol feasible\n",
       "  projected_newton_tolerance: Float64 0.001\n",
       "  active_set_tolerance_pn: Float64 0.001\n",
       "  multiplier_projection: Bool true\n",
       "  ρ_chol: Float64 0.01\n",
       "  ρ_primal: Float64 1.0e-8\n",
       "  ρ_dual: Float64 1.0e-8\n",
       "  r_threshold: Float64 1.1\n",
       "  projected_newton: Bool false\n",
       "  iterations: Int64 1000\n",
       "  show_summary: Bool false\n",
       "  verbose: Int64 1\n"
      ]
     },
     "execution_count": 16,
     "metadata": {},
     "output_type": "execute_result"
    }
   ],
   "source": [
    "opts = SolverOptions(\n",
    "    cost_tolerance_intermediate=1e-2,\n",
    "    penalty_scaling=10.,\n",
    "    penalty_initial=1.0,\n",
    "    verbose = 1,\n",
    "    projected_newton = false\n",
    ")"
   ]
  },
  {
   "cell_type": "markdown",
   "metadata": {},
   "source": [
    "Show summary is set to <code>true</code> to print the solver speed. In general the solve will take about 23 iterations and 20-30 ms to complete. The constraint violation should be around $10^{-4}$ or better."
   ]
  },
  {
   "cell_type": "code",
   "execution_count": 17,
   "metadata": {},
   "outputs": [],
   "source": [
    "altro = ALTROSolver(prob, opts);"
   ]
  },
  {
   "cell_type": "code",
   "execution_count": 18,
   "metadata": {},
   "outputs": [
    {
     "data": {
      "text/plain": [
       "BenchmarkTools.Trial: \n",
       "  memory estimate:  44.56 MiB\n",
       "  allocs estimate:  317303\n",
       "  --------------\n",
       "  minimum time:     78.955 ms (10.06% GC)\n",
       "  median time:      90.054 ms (10.24% GC)\n",
       "  mean time:        92.526 ms (10.45% GC)\n",
       "  maximum time:     110.225 ms (10.63% GC)\n",
       "  --------------\n",
       "  samples:          6\n",
       "  evals/sample:     10"
      ]
     },
     "execution_count": 18,
     "metadata": {},
     "output_type": "execute_result"
    }
   ],
   "source": [
    "set_options!(altro, show_summary=false)\n",
    "b = benchmark_solve!(altro)"
   ]
  },
  {
   "cell_type": "code",
   "execution_count": 19,
   "metadata": {},
   "outputs": [
    {
     "name": "stdout",
     "output_type": "stream",
     "text": [
      "\u001b[32;1m\n",
      "SOLVE COMPLETED\n",
      "\u001b[0m solved using the \u001b[0m\u001b[36;1mALTRO\u001b[0m Solver,\n",
      " part of the Altro.jl package developed by the REx Lab at Stanford and Carnegie Mellon Universities\n",
      "\u001b[34;1m\n",
      "  Solve Statistics\n",
      "\u001b[0m    Total Iterations: 14\n",
      "\u001b[0m    Solve Time: 151.84110099999998 (ms)\n",
      "\u001b[34;1m\n",
      "  Covergence\n",
      "\u001b[0m    Terminal Cost: 5343.0794766380395\n",
      "\u001b[0m    Terminal dJ: \u001b[31m8.6392947506356\n",
      "\u001b[0m    Terminal gradient: \u001b[32m0.0086131226192018\n",
      "\u001b[0m    Terminal constraint violation: \u001b[32m4.468232998842969e-7\n",
      "\u001b[0m    Solve Status: \u001b[1m\u001b[32mSOLVE_SUCCEEDED\n",
      "\u001b[0m"
     ]
    }
   ],
   "source": [
    "set_options!(altro, show_summary=true)\n",
    "solve!(altro);"
   ]
  },
  {
   "cell_type": "markdown",
   "metadata": {},
   "source": [
    "## Access the Trajectory"
   ]
  },
  {
   "cell_type": "code",
   "execution_count": 20,
   "metadata": {},
   "outputs": [
    {
     "data": {
      "text/plain": [
       "250-element Array{Float64,1}:\n",
       " 105.65067394317282\n",
       " 105.63409597520003\n",
       " 105.6172201582361\n",
       " 105.60004983592529\n",
       " 105.58258849419957\n",
       " 105.56483902614775\n",
       " 105.5468050741143\n",
       " 105.52848977428117\n",
       " 105.51433764039709\n",
       " 105.50560138976392\n",
       " 105.49658651875515\n",
       " 105.48729602160626\n",
       " 105.47773287317672\n",
       "   ⋮\n",
       " 100.1963925377465\n",
       " 100.16915586455775\n",
       " 100.14192223618514\n",
       " 100.11469165820974\n",
       " 100.08746413099017\n",
       " 100.06023964973237\n",
       " 100.03301820455921\n",
       " 100.00579978058026\n",
       "  99.97858435796125\n",
       "  99.95137191199404\n",
       "  99.92416241316594\n",
       "  99.89695582722958"
      ]
     },
     "execution_count": 20,
     "metadata": {},
     "output_type": "execute_result"
    }
   ],
   "source": [
    "X = states(altro)\n",
    "U = controls(altro)\n",
    "\n",
    "xs = [x[1] for x in X]\n",
    "zs = [x[3] for x in X]\n",
    "\n",
    "uxs = [u[1] for u in U]\n",
    "uys = [u[2] for u in U]\n",
    "uzs = [u[3] for u in U]"
   ]
  },
  {
   "cell_type": "markdown",
   "metadata": {},
   "source": [
    "## Plot the trajectory!"
   ]
  },
  {
   "cell_type": "code",
   "execution_count": 21,
   "metadata": {},
   "outputs": [
    {
     "data": {
      "image/png": "[encoded data removed]"
     },
     "execution_count": 21,
     "metadata": {},
     "output_type": "execute_result"
    }
   ],
   "source": [
    "titleText = \"Rocket Soft-Landing Trajectory \\n\" *\n",
    "        \"starting at an initial $(x0[6]) m/s plummet\"\n",
    "filename = \"RocketGroundThrustBound_BarelyFeasible3\"\n",
    "\n",
    "plt_x = plot(xs, zs, label = \"Trajectory\")\n",
    "xlabel!(\"x\")\n",
    "ylabel!(\"z (height)\")\n",
    "title!(titleText)"
   ]
  },
  {
   "cell_type": "code",
   "execution_count": 22,
   "metadata": {},
   "outputs": [
    {
     "data": {
      "image/png": "[encoded data removed]"
     },
     "execution_count": 22,
     "metadata": {},
     "output_type": "execute_result"
    }
   ],
   "source": [
    "function getAngle3D(u)\n",
    "    if norm(u[3]) == 0.0\n",
    "        # hit the tan singularity\n",
    "        return pi / 2\n",
    "    else\n",
    "        return atand(norm([u[1]; u[2]]), u[3])\n",
    "    end\n",
    "end\n",
    "\n",
    "plt_ux = plot(getAngle3D.(U), label = \"U Control Angle\")\n",
    "# hline!([-ulateral_max, ulateral_max], linecolor = :grey, linestyle = :dash,\n",
    "#                 label = \"Max Lateral Thrust\")\n",
    "# xlabel!(\"time (s)\")\n",
    "ylabel!(\"Thrust Angle (deg)\")\n",
    "title!(\"Controls over Time\")\n",
    "\n",
    "plt_umag = plot(norm.(U), label = \"U Magnitude\")\n",
    "hline!([u_bnd], linecolor = :grey, linestyle = :dash, label = \"Max Thrust\")\n",
    "hline!([norm(mass * grav[3])], linecolor = :grey, linestyle = :dash, label = \"Gravity Balance\")\n",
    "xlabel!(\"time (s)\")\n",
    "ylabel!(\"control (N)\")\n",
    "\n",
    "plt_u = plot(plt_ux, plt_umag, layout = (2, 1))"
   ]
  },
  {
   "cell_type": "markdown",
   "metadata": {},
   "source": [
    "Below is a GIF of the trajectory. This will take several seconds to generate."
   ]
  },
  {
   "cell_type": "code",
   "execution_count": 23,
   "metadata": {},
   "outputs": [
    {
     "data": {
      "image/png": "[encoded data removed]",
      "text/plain": [
       "PyPlot.Figure(PyObject <Figure size 600x400 with 1 Axes>)"
      ]
     },
     "metadata": {},
     "output_type": "display_data"
    },
    {
     "name": "stderr",
     "output_type": "stream",
     "text": [
      "┌ Info: Saved animation to \n",
      "│   fn = C:\\Users\\Daniel N\\.julia\\dev\\altro-mpc-icra2021\\benchmarks\\rocket_landing\\tmp.gif\n",
      "└ @ Plots C:\\Users\\Daniel N\\.julia\\packages\\Plots\\a7Kbp\\src\\animation.jl:104\n"
     ]
    },
    {
     "data": {
      "text/html": [
       "<img src=\"data:image/gif;base64,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\" />"
      ],
      "text/plain": [
       "Plots.AnimatedGif(\"C:\\\\Users\\\\Daniel N\\\\.julia\\\\dev\\\\altro-mpc-icra2021\\\\benchmarks\\\\rocket_landing\\\\tmp.gif\")"
      ]
     },
     "execution_count": 23,
     "metadata": {},
     "output_type": "execute_result"
    }
   ],
   "source": [
    "xmin = minimum(xs)\n",
    "xmax = maximum(xs)\n",
    "\n",
    "zmin = minimum(zs)\n",
    "zmax = maximum(zs)\n",
    "\n",
    "@gif for i in 1:N\n",
    "    plt = plot(xs[1:i], zs[1:i], label = \"Trajectory\", legend = :topleft)\n",
    "    xlabel!(\"x\")\n",
    "    ylabel!(\"z (height)\")\n",
    "    xlims!(xmin,xmax)\n",
    "    ylims!(zmin,zmax)\n",
    "    title!(titleText)\n",
    "end"
   ]
  },
  {
   "cell_type": "markdown",
   "metadata": {},
   "source": [
    "## Lastly, let's visualize the results in 3D with Meshcat\n",
    "\n",
    "To do this, we need to provide a Mesh to <code>MeshCat</code>. This is due with <code>FileIO</code> and <code>MeshIO</code>."
   ]
  },
  {
   "cell_type": "code",
   "execution_count": 24,
   "metadata": {},
   "outputs": [
    {
     "name": "stderr",
     "output_type": "stream",
     "text": [
      "┌ Info: MeshCat server started. You can open the visualizer by visiting the following URL in your browser:\n",
      "│ http://localhost:8701\n",
      "└ @ MeshCat C:\\Users\\Daniel N\\.julia\\packages\\MeshCat\\X2AUA\\src\\visualizer.jl:73\n"
     ]
    },
    {
     "data": {
      "text/html": [
       "    <div style=\"height: 500px; width: 100%; overflow-x: auto; overflow-y: hidden; resize: both\">\n",
       "    <iframe src=\"http://localhost:8701\" style=\"width: 100%; height: 100%; border: none\"></iframe>\n",
       "    </div>\n"
      ],
      "text/plain": [
       "MeshCat.DisplayedVisualizer(MeshCat.CoreVisualizer(MeshCat.SceneTrees.SceneNode(nothing, nothing, Dict{String,Array{UInt8,1}}(), nothing, Dict{String,MeshCat.SceneTrees.SceneNode}()), Set(Any[]), ip\"127.0.0.1\", 8701))"
      ]
     },
     "execution_count": 24,
     "metadata": {},
     "output_type": "execute_result"
    }
   ],
   "source": [
    "vis = Visualizer() # Creates a MeshCat Window\n",
    "render(vis) # Renders the window below"
   ]
  },
  {
   "cell_type": "code",
   "execution_count": 25,
   "metadata": {},
   "outputs": [
    {
     "data": {
      "text/plain": [
       "MeshCat Visualizer with path /meshcat/robot/geom at http://localhost:8701"
      ]
     },
     "execution_count": 25,
     "metadata": {},
     "output_type": "execute_result"
    }
   ],
   "source": [
    "function TrajOptPlots._set_mesh!(vis, model::LinearModel)\n",
    "    obj = joinpath(@__DIR__, \"SimpleRocket.obj\")\n",
    "    quad_scaling = 0.085\n",
    "    robot_obj = FileIO.load(obj)\n",
    "    robot_obj.vertices .*= quad_scaling\n",
    "    mat = MeshPhongMaterial(color=colorant\"lightgrey\")\n",
    "    setobject!(vis[\"geom\"], robot_obj, mat)\n",
    "end\n",
    "\n",
    "TrajOptPlots.set_mesh!(vis, model)"
   ]
  },
  {
   "cell_type": "code",
   "execution_count": 26,
   "metadata": {},
   "outputs": [],
   "source": [
    "Base.position(::LinearModel, x::StaticVector) = SA[x[1], x[2], x[3]]\n",
    "RobotDynamics.orientation(::LinearModel, x::StaticVector) = UnitQuaternion(0,0,0,1)\n",
    "\n",
    "visualize!(vis, altro);"
   ]
  },
  {
   "cell_type": "markdown",
   "metadata": {},
   "source": [
    "## Integrate the Dynamics to Verify the Dynamics Constraint\n",
    "\n",
    "In Matlab, we would use ODE 45, but in the <code>DifferentialEquations.jl</code> package we can either (1) just let the <code>solve</code> method figure it out or (2) specify a solver such as <code>Tsit5</code>.\n",
    "\n",
    "The controls change over time and are discretized. Below, a zero-order hold and a first-order hold are implemented for comparison. **We used a zero-order hold in the optimization so a zero-order hold should be used here.**"
   ]
  },
  {
   "cell_type": "code",
   "execution_count": 27,
   "metadata": {},
   "outputs": [
    {
     "name": "stdout",
     "output_type": "stream",
     "text": [
      "  247.144 ms (2114626 allocations: 80.28 MiB)\n"
     ]
    }
   ],
   "source": [
    "get_controls_zero_order_hold(t) = U[min(Int(floor(t/dt)) + 1, size(U,1))]\n",
    "f(y,p,t) = dynamics(model, y, get_controls_zero_order_hold(t))\n",
    "\n",
    "states_y0 = x0\n",
    "tspan = (0.0, tf)\n",
    "controls_p0 = get_controls_zero_order_hold(tspan[1])\n",
    "\n",
    "ode_prob_zoh = ODEProblem(f, states_y0, tspan, controls_p0)\n",
    "@btime solve(ode_prob_zoh, Tsit5(), reltol=1e-10, abstol=1e-10,saveat=dt)\n",
    "ode_sol_zoh = solve(ode_prob_zoh, Tsit5(), reltol=1e-10, abstol=1e-10,saveat=dt);"
   ]
  },
  {
   "cell_type": "code",
   "execution_count": 28,
   "metadata": {},
   "outputs": [
    {
     "name": "stdout",
     "output_type": "stream",
     "text": [
      "  13.129 ms (130981 allocations: 4.55 MiB)\n"
     ]
    }
   ],
   "source": [
    "function get_controls_first_order_hold(t)\n",
    "    # dt and U are both global variables\n",
    "    tn = t/dt\n",
    "    \n",
    "    t_below = Int(max(1, floor(tn)))\n",
    "    t_above = Int(min(size(U, 1), ceil(tn)))\n",
    "    \n",
    "    if t_below >= t_above\n",
    "        return U[t_below]\n",
    "    end\n",
    "    \n",
    "    slope = (U[t_above] - U[t_below])\n",
    "    return slope * (tn - t_below) + U[t_below]\n",
    "\n",
    "end\n",
    "\n",
    "\n",
    "f(y,p,t) = dynamics(model, y, get_controls_first_order_hold(t))\n",
    "\n",
    "states_y0 = x0\n",
    "tspan = (0.0, tf)\n",
    "controls_p0 = get_controls_first_order_hold(tspan[1])\n",
    "\n",
    "ode_prob_foh = ODEProblem(f, states_y0, tspan, controls_p0)\n",
    "@btime solve(ode_prob_foh, Tsit5(), reltol=1e-10, abstol=1e-10,saveat=dt)\n",
    "ode_sol_foh = solve(ode_prob_foh, Tsit5(), reltol=1e-10, abstol=1e-10,saveat=dt);"
   ]
  },
  {
   "cell_type": "code",
   "execution_count": 29,
   "metadata": {},
   "outputs": [
    {
     "data": {
      "image/png": "[encoded data removed]"
     },
     "execution_count": 29,
     "metadata": {},
     "output_type": "execute_result"
    }
   ],
   "source": [
    "err_zoh = norm.(ode_sol_zoh.u - X[1:(Int(tspan[2]/dt)+1)])\n",
    "err_foh = norm.(ode_sol_foh.u - X[1:(Int(tspan[2]/dt)+1)])\n",
    "\n",
    "bound = 10^(-10)\n",
    "\n",
    "plot(ode_sol_zoh.t, max.(bound, err_zoh), yaxis = :log, label = \"Zero-Order Hold\")\n",
    "plot!(ode_sol_foh.t, max.(bound, err_foh), yaxis = :log, label = \"First-Order Hold\")\n",
    "xlabel!(\"Time (s)\")\n",
    "ylabel!(\"Dynamics Error\")\n",
    "title!(\"Comparison in State Vector expected from ALTRO Solver \\n to Integrated Dynamics Model\")"
   ]
  },
  {
   "cell_type": "code",
   "execution_count": null,
   "metadata": {},
   "outputs": [],
   "source": []
  }
 ],
 "metadata": {
  "kernelspec": {
   "display_name": "Julia 1.4.2",
   "language": "julia",
   "name": "julia-1.4"
  },
  "language_info": {
   "file_extension": ".jl",
   "mimetype": "application/julia",
   "name": "julia",
   "version": "1.4.2"
  }
 },
 "nbformat": 4,
 "nbformat_minor": 4
}
