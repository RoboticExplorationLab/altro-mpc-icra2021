{
 "cells": [
  {
   "cell_type": "markdown",
   "metadata": {},
   "source": [
    "# Model Predictive Control Rocket Soft-Landing Problem\n",
    "\n",
    "This notebook is a walkthough of the ALTRO solver for the MPC Rocket Soft-Landing Problem (i.e. the general control challenge of landing a rocket at rest at a designated landing site). In the simplest case, we treat the rocket as a sphere landing on a flat surface with no atmosphere. This approximation is reasonable when the rocket is near the ground and entering the final part of the descent.\n",
    "\n",
    "**This files focuses on the MPC problem and comparing the result to other solvers. For the simple (non-MPC) application and set-up explanation, please visit the <code>RocketLandingSOCP-SetupExplained.ipynb</code> file. Thanks!**"
   ]
  },
  {
   "cell_type": "code",
   "execution_count": null,
   "metadata": {},
   "outputs": [],
   "source": [
    "using Pkg\n",
    "Pkg.activate(\".\")\n",
    "Pkg.instantiate()"
   ]
  },
  {
   "cell_type": "markdown",
   "metadata": {},
   "source": [
    "## MPC Problem Outline\n",
    "\n",
    "For the MPC application, we must fulfill two critical steps:\n",
    "- [x] Solve the optimal trajectory and apply the required controls (usually a short horizon)\n",
    "- [x] Use the prior trajectory to warm-start the next solve\n",
    "\n",
    "In this Jupyter notebook, we will:\n",
    "1. Set up the rocket soft-landing problem\n",
    "    - Model Dynamics\n",
    "    - Discretization\n",
    "    - Specify the Disturbance (e.g. wind) separate from model dynamics\n",
    "    - Initial and Final States\n",
    "2. Solve the initial trajectory optimization problem (cold-start)\n",
    "    - Solve the full trajectory\n",
    "3. Solve the realtime trajectory optimization problem (warm-start, shorter horizon)\n",
    "    - Solve the shorter trajectory\n",
    "    - Execute the control (and propagate forward in time)\n",
    "    - Warm-Start the next iteration\n",
    "    - Solve the next shorter horizon trajectory optimization problem\n",
    "    - Repeat above steps until arrival at the landing location"
   ]
  },
  {
   "cell_type": "markdown",
   "metadata": {},
   "source": [
    "# Step 1: Set-Up the Rocket Soft-Landing Problem"
   ]
  },
  {
   "cell_type": "markdown",
   "metadata": {},
   "source": [
    "## Load Required Packages\n",
    "\n",
    "The <code>RobotDynamics</code> package enables us to define the rocket model and dynamics. The <code>TrajectoryOptimization</code> and <code>Altro</code> set-up and solve the trajectory optimization problem. <code>StaticArrays</code> and <code>LinearAlgebra</code> are required to set-up the appropriate data types.\n",
    "\n",
    "Next, <code>Plots, MeshCat, TrajOptPlots, FileIO,</code> and <code>MeshIO</code> packages are used to visualize the results. Note that the plotting sections will take significantly longer to run than the optimization. \n",
    "\n",
    "Lastly, <code>DifferentialEquations</code> integrates the dynamics forward as a way to show that the dynamics constraints are satisfied.\n",
    "\n",
    "Loading all the packages, especially for plotting and the differential equations integrator can be the longest part of the whole notebook."
   ]
  },
  {
   "cell_type": "code",
   "execution_count": null,
   "metadata": {},
   "outputs": [],
   "source": [
    "using RobotDynamics\n",
    "import RobotDynamics: dynamics\n",
    "using Rotations\n",
    "using Altro\n",
    "using TrajectoryOptimization\n",
    "using StaticArrays, LinearAlgebra\n",
    "println(\"Trajectory Optimization Packages Ready\")\n",
    "\n",
    "# using Plots\n",
    "# pyplot()\n",
    "# println(\"Base Plotting Packages Ready\")\n",
    "\n",
    "# using MeshCat, TrajOptPlots\n",
    "# using FileIO, MeshIO\n",
    "# println(\"3D Plotting Packages Ready\")\n",
    "\n",
    "import DifferentialEquations.solve, DifferentialEquations.ODEProblem, DifferentialEquations.Tsit5\n",
    "using BenchmarkTools\n",
    "println(\"Differential Equations Ready\")"
   ]
  },
  {
   "cell_type": "markdown",
   "metadata": {},
   "source": [
    "Add second-order cone constraints"
   ]
  },
  {
   "cell_type": "code",
   "execution_count": null,
   "metadata": {},
   "outputs": [],
   "source": [
    "include(\"general_socp.jl\")\n",
    "println(\"Added more general SOCP Constraint\")"
   ]
  },
  {
   "cell_type": "markdown",
   "metadata": {},
   "source": [
    "## Detail the Rocket Dynamics\n",
    "\n",
    "For the simplified rocket problem, we choose to ignore the attitude dynamics. Applying newton's second law or by forming a Lagrangian, we arrive at the following sparse linear system\n",
    "\n",
    "$$\\frac{dx}{dt} = Ax + Bu + g$$\n",
    "\n",
    "Where $A = \\begin{bmatrix}0 & I\\\\ 0 & 0 \\end{bmatrix}$, $B = \\begin{bmatrix}0 \\\\ \\frac{1}{m} I\\end{bmatrix}$, and $G = \\begin{bmatrix} 0 \\\\ -g \\end{bmatrix}$. For the 3D case, these are $(6 \\times 6)$, $(6 \\times 3)$, and $(6 \\times 1)$ matricies, respectively. "
   ]
  },
  {
   "cell_type": "code",
   "execution_count": null,
   "metadata": {},
   "outputs": [],
   "source": [
    "const mass = 10.0\n",
    "const grav = SA[0.0; 0.0; -9.81]\n",
    "\n",
    "model = LinearModel([zeros(3,3) I; zeros(3, 6)], [zeros(3,3); (1/mass) * I], vec([zeros(3, 1); grav]))\n",
    "\n",
    "struct Rocket\n",
    "    m\n",
    "    g\n",
    "    model\n",
    "end"
   ]
  },
  {
   "cell_type": "markdown",
   "metadata": {},
   "source": [
    "## Instantiate the Model and Define the Discretization\n",
    "\n",
    "Feel free to choose <code>N</code> and <code>tf</code> based on your needs."
   ]
  },
  {
   "cell_type": "code",
   "execution_count": null,
   "metadata": {},
   "outputs": [],
   "source": [
    "rocket = Rocket(mass, grav, model)\n",
    "n, m = size(rocket.model)\n",
    "\n",
    "# Trajectory Discretization\n",
    "N = 251\n",
    "tf = 10.\n",
    "dt = tf/(N-1)\n",
    "\n",
    "rocket # (Simply for information) Display the struct as the cell output "
   ]
  },
  {
   "cell_type": "markdown",
   "metadata": {},
   "source": [
    "## Detail the Full Dynamics (With Distrubance)\n",
    "\n",
    "In Matlab, we would use ODE 45, but in the <code>DifferentialEquations.jl</code> package we can either (1) just let the <code>solve</code> method figure it out or (2) specify a solver such as <code>Tsit5</code>, which should handle any ODE that a fourth-order Runge Kutta Method could handle."
   ]
  },
  {
   "cell_type": "code",
   "execution_count": null,
   "metadata": {},
   "outputs": [],
   "source": [
    "\"Disturbance\"\n",
    "function wind(y, p, t)\n",
    "    return [zeros(3); 0; 0.1; 0]\n",
    "end\n",
    "\n",
    "\"Full Dynamics Model\"\n",
    "function full_model(r::Rocket, x0, dt::Float64, controlsArr, disturbance; num_timesteps::Int64 = 3, t0::Float64 = 0.0)\n",
    "    # Zero-Order Hold\n",
    "    get_controls(t) = controlsArr[min(Int(floor(t/dt)) + 1, size(controlsArr,1))]\n",
    "    # Full Dynamics\n",
    "    f(y,p,t) = dynamics(r.model, y, get_controls(t)) + disturbance(y, p, t)\n",
    "\n",
    "    tspan = (t0, t0 + dt * num_timesteps)\n",
    "    controls_p0 = get_controls(t0)\n",
    "\n",
    "    # Use the DifferentialEquations.jl Package\n",
    "    ode_prob = ODEProblem(f, x0, tspan, controls_p0)\n",
    "    ode_sol = solve(ode_prob, Tsit5(), reltol=1e-10, abstol=1e-10);\n",
    "    \n",
    "    return ode_sol\n",
    "end"
   ]
  },
  {
   "cell_type": "markdown",
   "metadata": {},
   "source": [
    "## Specify the Initial and Final Conditions\n",
    "\n",
    "Choose the initial and final points. Note that these must be full state vectors ($[x; y; z; v_x; v_y; v_z]$). The initial point is generally the rocket's current state. The final point is generally the rocket's landing stop. Note that the final velocity of the rocket should **always** be $[0.0; 0.0; 0.0]$ to have a **soft** landing."
   ]
  },
  {
   "cell_type": "code",
   "execution_count": null,
   "metadata": {},
   "outputs": [],
   "source": [
    "# Initial and Final Conditions\n",
    "rocketStart = @SVector [4.0, 2.0, 20.0, -3.0, 2.0, -5.0] # Start at a 20 m altitude with an ~15 m/s plummet\n",
    "rocketEnd = @SVector zeros(n);  # Swing pendulum up and end at rest"
   ]
  },
  {
   "cell_type": "markdown",
   "metadata": {},
   "source": [
    "# Step 2: Solve Cold Start Trajectory"
   ]
  },
  {
   "cell_type": "code",
   "execution_count": null,
   "metadata": {},
   "outputs": [],
   "source": [
    "# Helper function for Max Thrust Constraint\n",
    "function getAlpha(theta, deg = true)\n",
    "    if deg\n",
    "        return tand(theta)\n",
    "    end\n",
    "    return tan(theta)\n",
    "end\n",
    "\n",
    "#=\n",
    "Solve the trajectory optimization problem from current location to the final landing spot.\n",
    "\n",
    "Returns the benchmark data and the optimized solve\n",
    "=#\n",
    "function ColdStartFull(r::Rocket, x0, xf, N, opts; \n",
    "                        Qk::Float64 = 1.0e-2, Qfk::Float64 = 100.0, Rk::Float64 = 1.0e-1, \n",
    "                        ground_level::Float64 = 0.0, theta_max_deg::Float64 = 7.0, perWeightMax::Float64 = 2.0,\n",
    "                        includeGoal::Bool = true, verbose::Bool = true)\n",
    "    n, m = size(r.model)\n",
    "    \n",
    "    # Set-UP the LQR Objective Function\n",
    "    Q = Qk * Diagonal(@SVector ones(n))\n",
    "    Qf = Qfk * Diagonal(@SVector ones(n))\n",
    "    R = Rk * Diagonal(@SVector ones(m))\n",
    "    obj = LQRObjective(Q,R,Qf,xf,N)\n",
    "    if verbose\n",
    "        println(\"Objective Set\")\n",
    "    end\n",
    "    \n",
    "    # Create Empty ConstraintList\n",
    "    conSet = ConstraintList(n,m,N)\n",
    "    \n",
    "    if includeGoal\n",
    "        # Goal Constraint that the rocket must reach the landing site.\n",
    "        goal = GoalConstraint(xf)\n",
    "        add_constraint!(conSet, goal, N)\n",
    "        if verbose\n",
    "            println(\"Goal Constraint Set\")\n",
    "        end\n",
    "    end\n",
    "    \n",
    "    # Bound Constraint that the rocket doesn't crash into the ground\n",
    "    # This constraint can be made more complicated for difficult terrain\n",
    "    # This constraint can also be a glidescope constraint.\n",
    "    bnd = BoundConstraint(n,m, x_min=[-Inf, -Inf, ground_level,\n",
    "                                      -Inf, -Inf, -Inf])\n",
    "    if verbose\n",
    "        println(\"Ground Constraint Set\")\n",
    "    end\n",
    "    \n",
    "    # Norm Constrant that reflects the max thrust the rocket can provide\n",
    "    u_bnd = r.m * norm(r.g[3]) * perWeightMax\n",
    "    maxT = NormConstraint(n, m, u_bnd, TrajectoryOptimization.SecondOrderCone(), :control)\n",
    "    add_constraint!(conSet, maxT, 1:N-1)\n",
    "    if verbose\n",
    "        println(\"Max Thrust Constraint Set\")\n",
    "    end\n",
    "\n",
    "    # Generalized Norm Constraint that reflects the max thrust angle constraint\n",
    "    # Based on the rocket gimbal\n",
    "    maxTAalpha = getAlpha(theta_max_deg)\n",
    "    ARocket = SizedMatrix{3,3}([1.0 0 0; 0 1.0 0; 0 0 0])\n",
    "    cRocket = SVector{3}([0; 0; maxTAalpha])\n",
    "    maxTA = NormConstraint2(n, m, ARocket, cRocket, TrajectoryOptimization.SecondOrderCone(), :control)\n",
    "    add_constraint!(conSet, maxTA, 1:N-1)\n",
    "    if verbose\n",
    "        println(\"Max Thrust Angle Constraint Set\")\n",
    "    end\n",
    "    \n",
    "    # Package the objective and constraints into a \"problem\" type\n",
    "    prob = Problem(model, obj, xf, tf, x0=x0, constraints=conSet)\n",
    "    if verbose\n",
    "        println(\"Problem Packaged\")\n",
    "    end\n",
    "    \n",
    "    # Set the initial controls to a hover\n",
    "    u0 = r.g # controls that would nominally hover\n",
    "    U0 = [u0 for k = 1:N-1] # vector of the small controls\n",
    "    initial_controls!(prob, U0)\n",
    "    rollout!(prob)\n",
    "    if verbose\n",
    "        println(\"Set Initial Controls\")\n",
    "    end\n",
    "    \n",
    "    altro = ALTROSolver(prob, opts)\n",
    "    if verbose\n",
    "        println(\"Set Solver and Options\")\n",
    "    end\n",
    "    \n",
    "    println(\"Prepping benchmark solve\")\n",
    "    set_options!(altro, show_summary=false)\n",
    "    b = benchmark_solve!(altro)\n",
    "    println(\"Benchmark solve\")\n",
    "    \n",
    "    println(\"Prepping solve with summary\")\n",
    "    set_options!(altro, show_summary=true)\n",
    "    solve!(altro);\n",
    "    println(\"Solve Complete\")\n",
    "    \n",
    "    return b, altro\n",
    "end"
   ]
  },
  {
   "cell_type": "code",
   "execution_count": null,
   "metadata": {},
   "outputs": [],
   "source": [
    "opts = SolverOptions(\n",
    "        cost_tolerance_intermediate=1e-2,\n",
    "        penalty_scaling=10.,\n",
    "        penalty_initial=1.0,\n",
    "        verbose = 1,\n",
    "        projected_newton = false,\n",
    "        constraint_tolerance = 1.0e-8\n",
    "    )\n",
    "\n",
    "b, altro_solve = ColdStartFull(rocket, rocketStart, rocketEnd, N, opts)\n",
    "\n",
    "X_cold = states(altro_solve)\n",
    "U_cold = controls(altro_solve);"
   ]
  },
  {
   "cell_type": "code",
   "execution_count": null,
   "metadata": {},
   "outputs": [],
   "source": [
    "b"
   ]
  },
  {
   "cell_type": "markdown",
   "metadata": {},
   "source": [
    "# Step 3: Solve Warm-Start and Model the Rocket Descent"
   ]
  },
  {
   "cell_type": "code",
   "execution_count": null,
   "metadata": {},
   "outputs": [],
   "source": [
    "#=\n",
    "Solve the trajectory optimization problem from current location to the final landing spot.\n",
    "\n",
    "Returns the benchmark data and the optimized solve\n",
    "=#\n",
    "function MPC_SetUp(r::Rocket, x0, xf, horizon; \n",
    "                        Qk::Float64 = 1.0e-2, Rk::Float64 = 1.0e-1, \n",
    "                        ground_level::Float64 = 0.0, theta_max_deg::Float64 = 7.0, \n",
    "                        perWeightMax::Float64 = 2.0, verbose::Bool = true)\n",
    "    n, m = size(r.model)\n",
    "    \n",
    "    # Set-UP the LQR Objective Function\n",
    "    Q = Qk * Diagonal(@SVector ones(n))\n",
    "    R = Rk * Diagonal(@SVector ones(m))\n",
    "    \n",
    "    obj = Objective(QuadraticCost(Q, R), horizon)\n",
    "    if verbose\n",
    "        println(\"Objective Set\")\n",
    "    end\n",
    "    \n",
    "    # Create Empty ConstraintList\n",
    "    conSet = ConstraintList(n, m, horizon)\n",
    "    \n",
    "    # Bound Constraint that the rocket doesn't crash into the ground\n",
    "    # This constraint can be made more complicated for difficult terrain\n",
    "    # This constraint can also be a glidescope constraint.\n",
    "    bnd = BoundConstraint(n,m, x_min=[-Inf, -Inf, ground_level,\n",
    "                                      -Inf, -Inf, -Inf])\n",
    "    if verbose\n",
    "        println(\"Ground Constraint Set\")\n",
    "    end\n",
    "    \n",
    "    # Norm Constrant that reflects the max thrust the rocket can provide\n",
    "    u_bnd = r.m * norm(r.g[3]) * perWeightMax\n",
    "    maxT = NormConstraint(n, m, u_bnd, TrajectoryOptimization.SecondOrderCone(), :control)\n",
    "    add_constraint!(conSet, maxT, 1:horizon-1)\n",
    "    if verbose\n",
    "        println(\"Max Thrust Constraint Set\")\n",
    "    end\n",
    "\n",
    "    # Generalized Norm Constraint that reflects the max thrust angle constraint\n",
    "    # Based on the rocket gimbal\n",
    "    maxTAalpha = getAlpha(theta_max_deg)\n",
    "    ARocket = SizedMatrix{3,3}([1.0 0 0; 0 1.0 0; 0 0 0])\n",
    "    cRocket = SVector{3}([0; 0; maxTAalpha])\n",
    "    maxTA = NormConstraint2(n, m, ARocket, cRocket, TrajectoryOptimization.SecondOrderCone(), :control)\n",
    "    add_constraint!(conSet, maxTA, 1:horizon-1)\n",
    "    if verbose\n",
    "        println(\"Max Thrust Angle Constraint Set\")\n",
    "    end\n",
    "    \n",
    "    # Goal Constraint that the rocket must reach the landing site.\n",
    "    goal = GoalConstraint(xf)\n",
    "    add_constraint!(conSet, goal, horizon)\n",
    "    if verbose\n",
    "        println(\"Goal Constraint Set\")\n",
    "    end\n",
    "    \n",
    "    return obj, conSet\n",
    "end"
   ]
  },
  {
   "cell_type": "code",
   "execution_count": null,
   "metadata": {},
   "outputs": [],
   "source": [
    "o, c = MPC_SetUp(rocket, rocketStart, rocketEnd, 10, opts);"
   ]
  },
  {
   "cell_type": "code",
   "execution_count": null,
   "metadata": {},
   "outputs": [],
   "source": [
    "function changeGoal!(c::ConstraintList, xf_new::SArray{Tuple{6},Float64,1,6})\n",
    "    @assert typeof(c.constraints[end]) == GoalConstraint{6, Float64}\n",
    "    c.constraints[end] = GoalConstraint(xf_new)\n",
    "    \n",
    "    return nothing\n",
    "end\n",
    "\n",
    "\n",
    "# Array{TrajectoryOptimization.AbstractConstraint,1}\n",
    "\n",
    "function changeGoal!(p::Problem, xf_new::SArray{Tuple{6},Float64,1,6})\n",
    "    return changeGoal!(p.constraints, xf_new)\n",
    "end\n",
    "\n",
    "function warmstart_problem(r::Rocket, obj::Objective, cset::ConstraintList, warm_states, warm_controls, tf)\n",
    "    \n",
    "    prob = Problem(r.model, obj, warm_states[end], tf, x0=warm_states[1], constraints=cset)\n",
    "    \n",
    "    initial_controls!(prob, warm_controls)\n",
    "    initial_states!(prob, warm_states)\n",
    "    rollout!(prob)\n",
    "    \n",
    "    return prob\n",
    "end\n",
    "\n",
    "function MPC_Solve(prob::Problem, opts)\n",
    "    altro = ALTROSolver(prob, opts)\n",
    "    \n",
    "    set_options!(altro, show_summary=false)\n",
    "    b = benchmark_solve!(altro)\n",
    "    \n",
    "    set_options!(altro, show_summary=true)\n",
    "    solve!(altro);\n",
    "    \n",
    "    return b, altro\n",
    "end"
   ]
  },
  {
   "cell_type": "markdown",
   "metadata": {},
   "source": [
    "Execute the MPC forward until landed"
   ]
  },
  {
   "cell_type": "code",
   "execution_count": null,
   "metadata": {},
   "outputs": [],
   "source": [
    "# Initial Conditions\n",
    "x_curr = rocketStart\n",
    "u_curr = [U_cold[1]]\n",
    "t_curr = 0.0\n",
    "num_tsteps = 1\n",
    "hor = 20\n",
    "tsteps = tf * hor / N\n",
    "\n",
    "\n",
    "updated_model = full_model(rocket, x_curr, dt, u_curr, wind, num_timesteps = num_tsteps, t0 = t_curr)\n",
    "\n",
    "t_curr = updated_model.t[end]\n",
    "x_curr = updated_model.u[end]\n",
    "display(x_curr - X_cold[2])\n",
    "\n",
    "x_target = X_cold[hor]\n",
    "changeGoal!(c, x_target)\n",
    "\n",
    "X_warm = [[x_curr]; X_cold[3:hor + 1]]\n",
    "U_warm = U_cold[2:hor+1]\n",
    "\n",
    "p = warmstart_problem(rocket, o, c, X_warm, U_warm, tsteps)\n",
    "\n",
    "b, altro_mpc = MPC_Solve(p, opts)\n",
    "display(b)"
   ]
  },
  {
   "cell_type": "code",
   "execution_count": null,
   "metadata": {},
   "outputs": [],
   "source": [
    "completion_threshold = 1\n",
    "\n",
    "opts = SolverOptions(\n",
    "    cost_tolerance_intermediate=1e-2,\n",
    "    penalty_scaling=10.,\n",
    "    penalty_initial=1.0\n",
    ")\n",
    "\n",
    "saved_states = []\n",
    "\n",
    "while norm(x0 - xf) > completion_threshold\n",
    "    x0, warm_start_controls, N, tf = MPC(model, ALTROSolver, x0, warm_start_controls, N, tf)\n",
    "    \n",
    "    println(\"\\nCurrently at time $tf remaining and $(norm(x0 - xf)) away.\")\n",
    "    println(\"$N Steps at $tf s left. Hence, dt = $(tf / (N-1))\")\n",
    "    \n",
    "    # If the timespan is too low (e.g. due to disturbances)\n",
    "    tf = max(0.5, tf)\n",
    "    \n",
    "    push!(saved_states, x0)\n",
    "end"
   ]
  },
  {
   "cell_type": "code",
   "execution_count": null,
   "metadata": {},
   "outputs": [],
   "source": [
    "xs = [x[1] for x in saved_states]\n",
    "zs = [x[3] for x in saved_states];\n",
    "\n",
    "x_orig = [x[1] for x in X]\n",
    "z_orig = [x[3] for x in X];"
   ]
  },
  {
   "cell_type": "markdown",
   "metadata": {},
   "source": [
    "## Plot the trajectory!"
   ]
  },
  {
   "cell_type": "code",
   "execution_count": null,
   "metadata": {},
   "outputs": [],
   "source": [
    "titleText = \"Rocket Soft-Landing Trajectory and MPC Path\"\n",
    "filename = \"RocketGroundThrustBound_BarelyFeasible3\"\n",
    "\n",
    "plt_x = plot(x_orig, z_orig, label = \"Original Planned Trajectory\")\n",
    "plot!(xs, zs, label = \"MPC Tracked Trajectory\")\n",
    "xlabel!(\"x\")\n",
    "ylabel!(\"z (height)\")\n",
    "title!(titleText)"
   ]
  },
  {
   "cell_type": "code",
   "execution_count": null,
   "metadata": {},
   "outputs": [],
   "source": [
    "xmin = minimum(xs)\n",
    "xmax = maximum(xs)\n",
    "\n",
    "zmin = minimum(zs)\n",
    "zmax = maximum(zs)\n",
    "\n",
    "@gif for i in 1:size(xs, 1)\n",
    "    plt = plot(xs[1:i], zs[1:i], label = \"Trajectory\", legend = :topleft)\n",
    "    xlabel!(\"x\")\n",
    "    ylabel!(\"z (height)\")\n",
    "    xlims!(xmin,xmax)\n",
    "    ylims!(zmin,zmax)\n",
    "    title!(titleText)\n",
    "end"
   ]
  },
  {
   "cell_type": "code",
   "execution_count": null,
   "metadata": {},
   "outputs": [],
   "source": [
    "plt_ux = plot(uxs, label = \"Ux Control\")\n",
    "hline!([-ulateral_max, ulateral_max], linecolor = :grey, linestyle = :dash,\n",
    "                label = \"Max Lateral Thrust\")\n",
    "# xlabel!(\"time (s)\")\n",
    "ylabel!(\"control (N)\")\n",
    "title!(\"Controls over Time\")\n",
    "\n",
    "plt_uz = plot(uzs, label = \"Uz Control\")\n",
    "hline!([umax], linecolor = :grey, linestyle = :dash, label = \"Max Thrust\")\n",
    "xlabel!(\"time (s)\")\n",
    "ylabel!(\"control (N)\")\n",
    "\n",
    "plt_u = plot(plt_ux, plt_uz, layout = (2, 1))"
   ]
  },
  {
   "cell_type": "markdown",
   "metadata": {},
   "source": [
    "Below is a GIF of the trajectory. This will take several seconds to generate."
   ]
  },
  {
   "cell_type": "markdown",
   "metadata": {},
   "source": [
    "## Lastly, let's visualize the results in 3D with Meshcat\n",
    "\n",
    "To do this, we need to provide a Mesh to <code>MeshCat</code>. This is due with <code>FileIO</code> and <code>MeshIO</code>."
   ]
  },
  {
   "cell_type": "code",
   "execution_count": null,
   "metadata": {},
   "outputs": [],
   "source": [
    "vis = Visualizer() # Creates a MeshCat Window\n",
    "render(vis) # Renders the window below"
   ]
  },
  {
   "cell_type": "code",
   "execution_count": null,
   "metadata": {},
   "outputs": [],
   "source": [
    "function TrajOptPlots._set_mesh!(vis, model::Rocket)\n",
    "    obj = joinpath(@__DIR__, \"SimpleRocket.obj\")\n",
    "    quad_scaling = 0.085\n",
    "    robot_obj = FileIO.load(obj)\n",
    "    robot_obj.vertices .*= quad_scaling\n",
    "    mat = MeshPhongMaterial(color=colorant\"lightgrey\")\n",
    "    setobject!(vis[\"geom\"], robot_obj, mat)\n",
    "end\n",
    "\n",
    "TrajOptPlots.set_mesh!(vis, model)"
   ]
  },
  {
   "cell_type": "code",
   "execution_count": null,
   "metadata": {},
   "outputs": [],
   "source": [
    "Base.position(::Rocket, x::StaticVector) = SA[x[1], x[2], x[3]]\n",
    "RobotDynamics.orientation(::Rocket, x::StaticVector) = UnitQuaternion(0,0,0,1)\n",
    "\n",
    "visualize!(vis, altro);"
   ]
  },
  {
   "cell_type": "markdown",
   "metadata": {},
   "source": [
    "## Integrate the Dynamics to Verify the Dynamics Constraint\n",
    "\n",
    "In Matlab, we would use ODE 45, but in the <code>DifferentialEquations.jl</code> package we can either (1) just let the <code>solve</code> method figure it out or (2) specify a solver such as <code>Tsit5</code>.\n",
    "\n",
    "The controls change over time and are discretized. Below, a zero-order hold and a first-order hold are implemented for comparison. **We used a zero-order hold in the optimization so a zero-order hold should be used here.**"
   ]
  },
  {
   "cell_type": "code",
   "execution_count": null,
   "metadata": {},
   "outputs": [],
   "source": [
    "get_controls_zero_order_hold(t) = U[min(Int(floor(t/dt)) + 1, size(U,1))]\n",
    "f(y,p,t) = dynamics(model, y, get_controls_zero_order_hold(t))\n",
    "\n",
    "states_y0 = x0\n",
    "tspan = (0.0, tf)\n",
    "controls_p0 = get_controls_zero_order_hold(tspan[1])\n",
    "\n",
    "ode_prob_zoh = ODEProblem(f, states_y0, tspan, controls_p0)\n",
    "@btime solve(ode_prob_zoh, Tsit5(), reltol=1e-10, abstol=1e-10,saveat=dt)\n",
    "ode_sol_zoh = solve(ode_prob_zoh, Tsit5(), reltol=1e-10, abstol=1e-10,saveat=dt);"
   ]
  },
  {
   "cell_type": "code",
   "execution_count": null,
   "metadata": {},
   "outputs": [],
   "source": [
    "function get_controls_first_order_hold(t)\n",
    "    # dt and U are both global variables\n",
    "    tn = t/dt\n",
    "    \n",
    "    t_below = Int(max(1, floor(tn)))\n",
    "    t_above = Int(min(size(U, 1), ceil(tn)))\n",
    "    \n",
    "    if t_below >= t_above\n",
    "        return U[t_below]\n",
    "    end\n",
    "    \n",
    "    slope = (U[t_above] - U[t_below])\n",
    "    return slope * (tn - t_below) + U[t_below]\n",
    "\n",
    "end\n",
    "\n",
    "\n",
    "f(y,p,t) = dynamics(model, y, get_controls_first_order_hold(t))\n",
    "\n",
    "states_y0 = x0\n",
    "tspan = (0.0, tf)\n",
    "controls_p0 = get_controls_first_order_hold(tspan[1])\n",
    "\n",
    "ode_prob_foh = ODEProblem(f, states_y0, tspan, controls_p0)\n",
    "@btime solve(ode_prob_foh, Tsit5(), reltol=1e-10, abstol=1e-10,saveat=dt)\n",
    "ode_sol_foh = solve(ode_prob_foh, Tsit5(), reltol=1e-10, abstol=1e-10,saveat=dt);"
   ]
  },
  {
   "cell_type": "code",
   "execution_count": null,
   "metadata": {},
   "outputs": [],
   "source": [
    "err_zoh = norm.(ode_sol_zoh.u - X[1:(Int(floor(tspan[2]/dt))+1)])\n",
    "err_foh = norm.(ode_sol_foh.u - X[1:(Int(floor(tspan[2]/dt))+1)])\n",
    "\n",
    "plot(ode_sol_zoh.t, err_zoh, yaxis = :log, label = \"Zero-Order Hold\")\n",
    "plot!(ode_sol_foh.t, err_foh, yaxis = :log, label = \"First-Order Hold\")\n",
    "xlabel!(\"Time (s)\")\n",
    "ylabel!(\"Dynamics Error\")\n",
    "title!(\"Comparison in State Vector expected from ALTRO Solver \\n to Integrated Dynamics Model\")"
   ]
  },
  {
   "cell_type": "code",
   "execution_count": null,
   "metadata": {},
   "outputs": [],
   "source": []
  }
 ],
 "metadata": {
  "kernelspec": {
   "display_name": "Julia 1.4.2",
   "language": "julia",
   "name": "julia-1.4"
  },
  "language_info": {
   "file_extension": ".jl",
   "mimetype": "application/julia",
   "name": "julia",
   "version": "1.4.2"
  }
 },
 "nbformat": 4,
 "nbformat_minor": 4
}
