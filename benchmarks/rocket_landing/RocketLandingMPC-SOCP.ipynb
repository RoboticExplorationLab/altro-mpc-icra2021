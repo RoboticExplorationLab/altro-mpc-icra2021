{
 "cells": [
  {
   "cell_type": "markdown",
   "metadata": {},
   "source": [
    "# Model Predictive Control Rocket Soft-Landing Problem\n",
    "\n",
    "This notebook is a walkthough of the ALTRO solver for the MPC Rocket Soft-Landing Problem (i.e. the general control challenge of landing a rocket at rest at a designated landing site). In the simplest case, we treat the rocket as a sphere landing on a flat surface with no atmosphere. This approximation is reasonable when the rocket is near the ground and entering the final part of the descent.\n",
    "\n",
    "**This files focuses on the MPC problem and comparing the result to other solvers. For the simple (non-MPC) application and set-up explanati, please visit the <code>RocketLandingSimplified.ipynb</code> file. Thanks!**"
   ]
  },
  {
   "cell_type": "code",
   "execution_count": 1,
   "metadata": {},
   "outputs": [
    {
     "name": "stderr",
     "output_type": "stream",
     "text": [
      "\u001b[32m\u001b[1m Activating\u001b[22m\u001b[39m environment at `C:\\Users\\Daniel N\\.julia\\dev\\altro-mpc-icra2021\\benchmarks\\rocket_landing\\Project.toml`\n"
     ]
    }
   ],
   "source": [
    "using Pkg\n",
    "Pkg.activate(\".\")\n",
    "Pkg.instantiate()"
   ]
  },
  {
   "cell_type": "markdown",
   "metadata": {},
   "source": [
    "## MPC Problem Outline\n",
    "\n",
    "For the MPC application, we must fulfill two critical steps:\n",
    "1. Solve the optimal trajectory and apply the required controls (usually a short horizon)\n",
    "2. Use the prior trajectory to warm-start the next solve\n",
    "\n",
    "In this Jupyter notebook, we will:\n",
    "1. Set up the rocket soft-landing problem \n",
    "2. Solve the initial trajectory optimization problem (cold-start)\n",
    "3. Execute the control (and propagate forward in time)\n",
    "4. Warm-Start the next iteration\n",
    "5. Solve the next shorter horizon trajectory optimization problem\n",
    "6. Repeat steps 3-5 until arrival at the landing location"
   ]
  },
  {
   "cell_type": "markdown",
   "metadata": {},
   "source": [
    "# Step 1: Set-Up the Rocket Soft-Landing Problem"
   ]
  },
  {
   "cell_type": "markdown",
   "metadata": {},
   "source": [
    "## Load Required Packages\n",
    "\n",
    "The <code>RobotDynamics</code> package enables us to define the rocket model and dynamics. The <code>TrajectoryOptimization</code> and <code>Altro</code> set-up and solve the trajectory optimization problem. <code>StaticArrays</code> and <code>LinearAlgebra</code> are required to set-up the appropriate data types.\n",
    "\n",
    "Next, <code>Plots, MeshCat, TrajOptPlots, FileIO,</code> and <code>MeshIO</code> packages are used to visualize the results. Note that the plotting sections will take significantly longer to run than the optimization. \n",
    "\n",
    "Lastly, <code>DifferentialEquations</code> integrates the dynamics forward as a way to show that the dynamics constraints are satisfied.\n",
    "\n",
    "Loading all the packages, especially for plotting and the differential equations integrator can be the longest part of the whole notebook."
   ]
  },
  {
   "cell_type": "code",
   "execution_count": 2,
   "metadata": {},
   "outputs": [
    {
     "name": "stdout",
     "output_type": "stream",
     "text": [
      "Trajectory Optimization Packages Ready\n",
      "Base Plotting Packages Ready\n",
      "3D Plotting Packages Ready\n",
      "Differential Equations Ready\n"
     ]
    }
   ],
   "source": [
    "using RobotDynamics\n",
    "import RobotDynamics: dynamics\n",
    "using Rotations\n",
    "using Altro\n",
    "using TrajectoryOptimization\n",
    "using StaticArrays, LinearAlgebra\n",
    "println(\"Trajectory Optimization Packages Ready\")\n",
    "\n",
    "using Plots\n",
    "pyplot()\n",
    "println(\"Base Plotting Packages Ready\")\n",
    "\n",
    "using MeshCat, TrajOptPlots\n",
    "using FileIO, MeshIO\n",
    "println(\"3D Plotting Packages Ready\")\n",
    "\n",
    "import DifferentialEquations.solve, DifferentialEquations.ODEProblem, DifferentialEquations.Tsit5\n",
    "using BenchmarkTools\n",
    "println(\"Differential Equations Ready\")"
   ]
  },
  {
   "cell_type": "markdown",
   "metadata": {},
   "source": [
    "## Detail the Rocket Dynamics\n",
    "\n",
    "For the simplified rocket problem, we choose to ignore the attitude dynamics. Applying newton's second law or by forming a Lagrangian, we arrive at the following sparse linear system\n",
    "\n",
    "$$\\frac{dx}{dt} = Ax + Bu + g$$\n",
    "\n",
    "Where $A = \\begin{bmatrix}0 & I\\\\ 0 & 0 \\end{bmatrix}$, $B = \\begin{bmatrix}0 \\\\ \\frac{1}{m} I\\end{bmatrix}$, and $G = \\begin{bmatrix} 0 \\\\ -g \\end{bmatrix}$. For the 3D case, these are $(6 \\times 6)$, $(6 \\times 3)$, and $(6 \\times 1)$ matricies, respectively. "
   ]
  },
  {
   "cell_type": "code",
   "execution_count": 3,
   "metadata": {},
   "outputs": [
    {
     "data": {
      "text/plain": [
       "LinearModel{6,3,Float64,15}(SizedArray{Tuple{6,6},Float64,2,2}[[0.0 0.0 … 0.0 0.0; 0.0 0.0 … 1.0 0.0; … ; 0.0 0.0 … 0.0 0.0; 0.0 0.0 … 0.0 0.0]], SizedArray{Tuple{6,3},Float64,2,2}[[0.0 0.0 0.0; 0.0 0.0 0.0; … ; 0.0 0.1 0.0; 0.0 0.0 0.1]], SizedArray{Tuple{6},Float64,1,1}[[0.0, 0.0, 0.0, 0.0, 0.0, -9.81]], Float64[], 0.0, [0.0, 0.0, 0.0, 0.0, 0.0, 0.0], [0.0 0.0 … 0.0 0.0; 0.0 0.0 … 0.0 0.0; … ; 0.0 0.0 … 0.0 0.0; 0.0 0.0 … 0.0 0.0], true)"
      ]
     },
     "execution_count": 3,
     "metadata": {},
     "output_type": "execute_result"
    }
   ],
   "source": [
    "const mass = 10.0\n",
    "const grav = SA[0.0; 0.0; -9.81]\n",
    "\n",
    "model = LinearModel([zeros(3,3) I; zeros(3, 6)], [zeros(3,3); (1/mass) * I], vec([zeros(3, 1); grav]))"
   ]
  },
  {
   "cell_type": "markdown",
   "metadata": {},
   "source": [
    "## Instantiate the Model and Define the Discretization\n",
    "\n",
    "Feel free to choose <code>N</code> and <code>tf</code> based on your needs."
   ]
  },
  {
   "cell_type": "code",
   "execution_count": 4,
   "metadata": {},
   "outputs": [
    {
     "data": {
      "text/plain": [
       "LinearModel{6,3,Float64,15}(SizedArray{Tuple{6,6},Float64,2,2}[[0.0 0.0 … 0.0 0.0; 0.0 0.0 … 1.0 0.0; … ; 0.0 0.0 … 0.0 0.0; 0.0 0.0 … 0.0 0.0]], SizedArray{Tuple{6,3},Float64,2,2}[[0.0 0.0 0.0; 0.0 0.0 0.0; … ; 0.0 0.1 0.0; 0.0 0.0 0.1]], SizedArray{Tuple{6},Float64,1,1}[[0.0, 0.0, 0.0, 0.0, 0.0, -9.81]], Float64[], 0.0, [0.0, 0.0, 0.0, 0.0, 0.0, 0.0], [0.0 0.0 … 0.0 0.0; 0.0 0.0 … 0.0 0.0; … ; 0.0 0.0 … 0.0 0.0; 0.0 0.0 … 0.0 0.0], true)"
      ]
     },
     "execution_count": 4,
     "metadata": {},
     "output_type": "execute_result"
    }
   ],
   "source": [
    "n, m = size(model)\n",
    "# n is the size of the states ([x, y, z, vx, vy, vz])\n",
    "# m is the size of the control thrust ([Tx, Ty, Tz]])\n",
    "\n",
    "# Trajectory Discretization\n",
    "N = 251\n",
    "tf = 10.\n",
    "dt = tf/(N-1)\n",
    "\n",
    "model # (Simply for information) Display the struct as the cell output "
   ]
  },
  {
   "cell_type": "markdown",
   "metadata": {},
   "source": [
    "## Specify the Initial and Final Conditions\n",
    "\n",
    "Choose the initial and final points. Note that these must be full state vectors ($[x; y; z; v_x; v_y; v_z]$). The initial point is generally the rocket's current state. The final point is generally the rocket's landing stop. Note that the final velocity of the rocket should **always** be $[0.0; 0.0; 0.0]$ to have a **soft** landing."
   ]
  },
  {
   "cell_type": "code",
   "execution_count": 5,
   "metadata": {},
   "outputs": [],
   "source": [
    "# Initial and Final Conditions\n",
    "x0 = @SVector [4.0, 2.0, 20.0, -3.0, 2.0, -5.0] # Start at a 20 m altitude with an ~15 m/s plummet\n",
    "xf = @SVector zeros(n);  # Swing pendulum up and end at rest"
   ]
  },
  {
   "cell_type": "markdown",
   "metadata": {},
   "source": [
    "## Set-Up the LQR Objective Function\n",
    "\n",
    "For this problem, we choose an LQR Objective Function. One can add waypoints or change the weights to craft different optimal trajectories. See http://roboticexplorationlab.org/TrajectoryOptimization.jl/stable/costfunctions.html for more information."
   ]
  },
  {
   "cell_type": "code",
   "execution_count": 6,
   "metadata": {},
   "outputs": [
    {
     "data": {
      "text/plain": [
       "Objective"
      ]
     },
     "execution_count": 6,
     "metadata": {},
     "output_type": "execute_result"
    }
   ],
   "source": [
    "Q = 1.0e-2 * Diagonal(@SVector ones(n))\n",
    "Qf = 100.0 * Diagonal(@SVector ones(n))\n",
    "R = 1.0e-1 * Diagonal(@SVector ones(m))\n",
    "obj = LQRObjective(Q,R,Qf,xf,N)"
   ]
  },
  {
   "cell_type": "markdown",
   "metadata": {},
   "source": [
    "## Define the Constraints\n",
    "\n",
    "For the simple rocket soft-landing problem, we will include 4 constraints:\n",
    "1. Landing Site Designation ($x[t_f] = x_f$)\n",
    "2. Crash Prevention Constraint ($z > 0$)\n",
    "3. Maximum Thrust Constraint ($0 < ||u|| < u_{max}$), which is a simplification of a max thrust constraint\n",
    "4. Maximum Thurst Angle Constraint ($||[u_x; u_y]|| ≤ \\alpha \\ u_z$), which is a simplification of a max thrust angle constraint \n",
    "\n",
    "For details on the implemented constraint types, please check out http://roboticexplorationlab.org/TrajectoryOptimization.jl/stable/constraints.html."
   ]
  },
  {
   "cell_type": "code",
   "execution_count": 7,
   "metadata": {},
   "outputs": [
    {
     "name": "stdout",
     "output_type": "stream",
     "text": [
      "Maximum Thrust is 196.20000000000002\n"
     ]
    },
    {
     "data": {
      "text/latex": [
       "0 . 1 2 2 7 8 4 5 6 0 9 0 2 9 0 4 6"
      ],
      "text/plain": [
       "0.1227845609029046"
      ]
     },
     "execution_count": 7,
     "metadata": {},
     "output_type": "execute_result"
    }
   ],
   "source": [
    "# Create Empty ConstraintList\n",
    "conSet = ConstraintList(n,m,N)\n",
    "\n",
    "# Key Constants\n",
    "ground_level = 0.0 # Crash Prevention Constraint\n",
    "theta = 7 # deg. Max Angle Constraint\n",
    "perWeightMax = 2\n",
    "u_bnd = mass * norm(grav[3]) * perWeightMax\n",
    "println(\"Maximum Thrust is $u_bnd\")\n",
    "\n",
    "\n",
    "# Goal Constraint that the rocket must reach the landing site.\n",
    "goal = GoalConstraint(xf)\n",
    "add_constraint!(conSet, goal, N)\n",
    "\n",
    "# Bounds\n",
    "bnd = BoundConstraint(n,m, x_min=[-Inf, -Inf, ground_level,\n",
    "                                  -Inf, -Inf, -Inf])\n",
    "\n",
    "# Include the max thrust constraint\n",
    "maxT = NormConstraint(n, m, u_bnd, TrajectoryOptimization.SecondOrderCone(), :control)\n",
    "add_constraint!(conSet, maxT, 1:N-1)\n",
    "\n",
    "# Include the max thrust angle constraint\n",
    "function getAlpha(theta, deg = true)\n",
    "    if deg\n",
    "        return tand(theta)\n",
    "    end\n",
    "    return tan(theta)\n",
    "end\n",
    "\n",
    "\n",
    "maxTAalpha = getAlpha(theta)\n",
    "println(\"α = $maxTAalpha\")"
   ]
  },
  {
   "cell_type": "markdown",
   "metadata": {},
   "source": [
    "## Stitch together the objective and constraints\n",
    "\n",
    "See http://roboticexplorationlab.org/TrajectoryOptimization.jl/stable/creating_problems.html for more information."
   ]
  },
  {
   "cell_type": "code",
   "execution_count": 8,
   "metadata": {},
   "outputs": [],
   "source": [
    "# Package the objective and constraints into a \"problem\" type\n",
    "prob = Problem(model, obj, xf, tf, x0=x0, constraints=conSet);"
   ]
  },
  {
   "cell_type": "markdown",
   "metadata": {},
   "source": [
    "## Initialize the Trajectory\n",
    "\n",
    "We choose to initialize the trajectory at a hover (i.e. the rocket trajectory will initially only counter gravity). Note that this is **not** a warm start."
   ]
  },
  {
   "cell_type": "code",
   "execution_count": 9,
   "metadata": {},
   "outputs": [],
   "source": [
    "u0 = grav # controls that would nominally hover\n",
    "U0 = [u0 for k = 1:N-1] # vector of the small controls\n",
    "initial_controls!(prob, U0)\n",
    "rollout!(prob);"
   ]
  },
  {
   "cell_type": "markdown",
   "metadata": {},
   "source": [
    "## Select the solver options\n",
    "\n",
    "For more information, please visit https://github.com/RoboticExplorationLab/Altro.jl/blob/master/README.md for more details on the solver options.\n",
    "\n",
    "Using the Altro package, we can now specify parameters and solve the problem."
   ]
  },
  {
   "cell_type": "code",
   "execution_count": 10,
   "metadata": {},
   "outputs": [
    {
     "data": {
      "text/plain": [
       "SolverOptions{Float64}\n",
       "  constraint_tolerance: Float64 1.0e-6\n",
       "  cost_tolerance: Float64 0.0001\n",
       "  cost_tolerance_intermediate: Float64 0.01\n",
       "  gradient_tolerance: Float64 10.0\n",
       "  gradient_tolerance_intermediate: Float64 1.0\n",
       "  iterations_inner: Int64 300\n",
       "  dJ_counter_limit: Int64 10\n",
       "  square_root: Bool false\n",
       "  line_search_lower_bound: Float64 1.0e-8\n",
       "  line_search_upper_bound: Float64 10.0\n",
       "  iterations_linesearch: Int64 20\n",
       "  max_cost_value: Float64 1.0e8\n",
       "  max_state_value: Float64 1.0e8\n",
       "  max_control_value: Float64 1.0e8\n",
       "  static_bp: Bool true\n",
       "  save_S: Bool false\n",
       "  bp_reg: Bool false\n",
       "  bp_reg_initial: Float64 0.0\n",
       "  bp_reg_increase_factor: Float64 1.6\n",
       "  bp_reg_max: Float64 1.0e8\n",
       "  bp_reg_min: Float64 1.0e-8\n",
       "  bp_reg_type: Symbol control\n",
       "  bp_reg_fp: Float64 10.0\n",
       "  penalty_initial: Float64 1.0\n",
       "  penalty_scaling: Float64 10.0\n",
       "  active_set_tolerance_al: Float64 0.001\n",
       "  dual_max: Float64 NaN\n",
       "  penalty_max: Float64 NaN\n",
       "  iterations_outer: Int64 30\n",
       "  kickout_max_penalty: Bool false\n",
       "  reset_duals: Bool true\n",
       "  reset_penalties: Bool true\n",
       "  verbose_pn: Bool false\n",
       "  n_steps: Int64 2\n",
       "  solve_type: Symbol feasible\n",
       "  projected_newton_tolerance: Float64 0.001\n",
       "  active_set_tolerance_pn: Float64 0.001\n",
       "  multiplier_projection: Bool true\n",
       "  ρ_chol: Float64 0.01\n",
       "  ρ_primal: Float64 1.0e-8\n",
       "  ρ_dual: Float64 1.0e-8\n",
       "  r_threshold: Float64 1.1\n",
       "  projected_newton: Bool false\n",
       "  iterations: Int64 1000\n",
       "  show_summary: Bool false\n",
       "  verbose: Int64 1\n"
      ]
     },
     "execution_count": 10,
     "metadata": {},
     "output_type": "execute_result"
    }
   ],
   "source": [
    "opts = SolverOptions(\n",
    "    cost_tolerance_intermediate=1e-2,\n",
    "    penalty_scaling=10.,\n",
    "    penalty_initial=1.0,\n",
    "    verbose = 1,\n",
    "    projected_newton = false\n",
    ")"
   ]
  },
  {
   "cell_type": "markdown",
   "metadata": {},
   "source": [
    "# Step 2: Solve the initial trajectory optimization problem"
   ]
  },
  {
   "cell_type": "markdown",
   "metadata": {},
   "source": [
    "Show summary is set to <code>true</code> to print the solver speed. In general the solve will take about 23 iterations and 20-40 ms to complete. The constraint violation should be around $10^{-4}$ or better."
   ]
  },
  {
   "cell_type": "code",
   "execution_count": 13,
   "metadata": {},
   "outputs": [],
   "source": [
    "altro = ALTROSolver(prob, opts);"
   ]
  },
  {
   "cell_type": "code",
   "execution_count": null,
   "metadata": {},
   "outputs": [],
   "source": [
    "set_options!(altro, show_summary=false)\n",
    "b = benchmark_solve!(altro)"
   ]
  },
  {
   "cell_type": "markdown",
   "metadata": {},
   "source": [
    "Now we can solve it and show the summary"
   ]
  },
  {
   "cell_type": "code",
   "execution_count": 12,
   "metadata": {},
   "outputs": [
    {
     "name": "stderr",
     "output_type": "stream",
     "text": [
      "\u001b[33m\u001b[1miter  total  c_max       cost      info                                              \u001b[22m\u001b[39m\n",
      "\u001b[33m\u001b[1m-------------------------------------------------------------------------------------\u001b[22m\u001b[39m\n",
      "1     2       0.95036258  5295.419 \n",
      "2     4       0.86706575  5300.01  \n",
      "3     6       0.44223298  5323.038 \n",
      "4     8       0.04169586  5342.115 \n",
      "5     10      0.0004296   5343.077 \n",
      "\u001b[33m\u001b[1miter  total  c_max       cost      info                                              \u001b[22m\u001b[39m\n",
      "\u001b[33m\u001b[1m-------------------------------------------------------------------------------------\u001b[22m\u001b[39m\n",
      "6     11      4.4678e-07  5343.078 \n"
     ]
    },
    {
     "name": "stdout",
     "output_type": "stream",
     "text": [
      "\u001b[32;1m\n",
      "SOLVE COMPLETED\n",
      "\u001b[0m solved using the \u001b[0m\u001b[36;1mALTRO\u001b[0m Solver,\n",
      " part of the Altro.jl package developed by the REx Lab at Stanford and Carnegie Mellon Universities\n",
      "\u001b[34;1m\n",
      "  Solve Statistics\n",
      "\u001b[0m    Total Iterations: 11\n",
      "\u001b[0m    Solve Time: 18020.156001 (ms)\n",
      "\u001b[34;1m\n",
      "  Covergence\n",
      "\u001b[0m    Terminal Cost: 5343.077292240792\n",
      "\u001b[0m    Terminal dJ: \u001b[31m8.638355781592509\n",
      "\u001b[0m    Terminal gradient: \u001b[32m0.008593850048396239\n",
      "\u001b[0m    Terminal constraint violation: \u001b[32m4.467832226710475e-7\n",
      "\u001b[0m    Solve Status: \u001b[1m\u001b[32mSOLVE_SUCCEEDED\n",
      "\u001b[0m"
     ]
    }
   ],
   "source": [
    "set_options!(altro, show_summary=true)\n",
    "solve!(altro);"
   ]
  },
  {
   "cell_type": "markdown",
   "metadata": {},
   "source": [
    "Access the Trajectory"
   ]
  },
  {
   "cell_type": "code",
   "execution_count": null,
   "metadata": {},
   "outputs": [],
   "source": [
    "X = states(altro)\n",
    "U = controls(altro);"
   ]
  },
  {
   "cell_type": "markdown",
   "metadata": {},
   "source": [
    "## Step 3: Integrate the Dynamics to Verify the Dynamics Constraint\n",
    "\n",
    "In Matlab, we would use ODE 45, but in the <code>DifferentialEquations.jl</code> package we can either (1) just let the <code>solve</code> method figure it out or (2) specify a solver such as <code>Tsit5</code>."
   ]
  },
  {
   "cell_type": "code",
   "execution_count": null,
   "metadata": {},
   "outputs": [],
   "source": [
    "num_timesteps = 3\n",
    "\n",
    "get_controls(t) = U[min(Int(floor(t/dt)) + 1, size(U,1))]\n",
    "f(y,p,t) = dynamics(model, y, get_controls(t))\n",
    "\n",
    "states_y0 = x0\n",
    "tspan = (0.0, dt * num_timesteps)\n",
    "controls_p0 = get_controls(tspan[1])\n",
    "\n",
    "# Use the DifferentialEquations.jl Package\n",
    "ode_prob = ODEProblem(f, states_y0, tspan, controls_p0)\n",
    "ode_sol = solve(ode_prob, Tsit5(), reltol=1e-10, abstol=1e-10);"
   ]
  },
  {
   "cell_type": "markdown",
   "metadata": {},
   "source": [
    "## Step 4: Warm-Start the next iteration"
   ]
  },
  {
   "cell_type": "code",
   "execution_count": null,
   "metadata": {},
   "outputs": [],
   "source": [
    "# warm_start_states = X[num_timesteps:end]\n",
    "warm_start_controls = U[num_timesteps:end]\n",
    "x0 = ode_sol.u[end]\n",
    "\n",
    "N = size(warm_start_controls, 1) + 1\n",
    "tf = tf - dt * num_timesteps\n",
    "dt = tf / (N - 1)"
   ]
  },
  {
   "cell_type": "markdown",
   "metadata": {},
   "source": [
    "## Step 5 & 6: Solve the Problem and Repeat\n",
    "\n",
    "Now that we've seen each step in detail, let's put it all into a function and repeat it until landing."
   ]
  },
  {
   "cell_type": "code",
   "execution_count": null,
   "metadata": {},
   "outputs": [],
   "source": [
    "function diffEq_Model(model::Rocket, U, dt)\n",
    "    get_controls(t) = U[min(Int(floor(t/dt)) + 1, size(U,1))]\n",
    "    f(y,p,t) = dynamics(model, y, get_controls(t))\n",
    "\n",
    "    states_y0 = x0\n",
    "    tspan = (0.0, dt * num_timesteps)\n",
    "    controls_p0 = get_controls(tspan[1])\n",
    "\n",
    "    # Use the DifferentialEquations.jl Package\n",
    "    ode_prob = ODEProblem(f, states_y0, tspan, controls_p0)\n",
    "    ode_sol = solve(ode_prob, Tsit5(), reltol=1e-10, abstol=1e-10);\n",
    "\n",
    "    return ode_sol.u[end]\n",
    "end\n",
    "\n",
    "function MPC(model::Rocket, solver, x0, U_init, N, tf)\n",
    "    \n",
    "#     println(\"Setting Up Problem\")\n",
    "    # Reset the objective function\n",
    "    obj = LQRObjective(Q,R,Qf,xf,N)\n",
    "    \n",
    "    # Create Empty ConstraintList\n",
    "    conSet = ConstraintList(n,m,N)\n",
    "\n",
    "    # Bounds\n",
    "    ground_level = 0.0 # Crash Prevention Constraint\n",
    "    umax = 11 * model.mass # Simplified Max Thrust Constraint\n",
    "    theta = 20 # deg. Max Angle Constraint\n",
    "    ulateral_max = umax * sind(theta)\n",
    "\n",
    "    # To ignore constraints 2 and 3, use the code below\n",
    "    # bnd = BoundConstraint(n,m, x_min=[-Inf, -Inf, ground_level,\n",
    "    #                                   -Inf, -Inf, -Inf])\n",
    "\n",
    "    # To include constraints 2 and 3, use the code below\n",
    "    bnd = BoundConstraint(n,m, x_min=[-Inf, -Inf, ground_level,\n",
    "                                      -Inf, -Inf, -Inf],\n",
    "                               u_min=[-ulateral_max, -ulateral_max, 0   ],\n",
    "                               u_max=[ ulateral_max,  ulateral_max, umax])\n",
    "    add_constraint!(conSet, bnd, 1:N-1)\n",
    "\n",
    "    # Goal Constraint that the rocket must reach the landing site.\n",
    "    goal = GoalConstraint(xf)\n",
    "    add_constraint!(conSet, goal, N)\n",
    "    \n",
    "    # Package the objective and constraints into a \"problem\" type\n",
    "    prob = Problem(model, obj, xf, tf, x0=x0, constraints=conSet);\n",
    "    \n",
    "#     println(\"Initial Controls\")\n",
    "    # Set the current controls (ideally warm-started)\n",
    "    initial_controls!(prob, U_init)\n",
    "    rollout!(prob);\n",
    "    \n",
    "#     println(\"Solving\")\n",
    "    # Solve the new trajectory\n",
    "    a_s = ALTROSolver(prob, opts)\n",
    "    solve!(a_s);\n",
    "    set_options!(a_s, show_summary=false)\n",
    "    b = benchmark_solve!(a_s)\n",
    "    display(b)\n",
    "    \n",
    "#     println(\"Accessing\")\n",
    "    # Access the states and controls\n",
    "    X = states(a_s)\n",
    "    U = controls(a_s)\n",
    "    \n",
    "#     println(\"Propogate System\")\n",
    "    # Use the dynamics model (and any disturbances) and propogate forward in time\n",
    "    x0 = diffEq_Model(model, U, dt)\n",
    "    \n",
    "#     println(\"Warm-Start Next Iteration\")\n",
    "    U_new = U[num_timesteps:end]\n",
    "    N = size(U_new, 1) + 1\n",
    "    tf = tf - dt * num_timesteps\n",
    "    \n",
    "    # Warm-Start the Next Iteration\n",
    "    return x0, U_new, N, tf\n",
    "    \n",
    "end"
   ]
  },
  {
   "cell_type": "code",
   "execution_count": null,
   "metadata": {},
   "outputs": [],
   "source": [
    "a = MPC(model, ALTROSolver, x0, warm_start_controls, N, tf);"
   ]
  },
  {
   "cell_type": "markdown",
   "metadata": {},
   "source": [
    "Execute the MPC forward until landed"
   ]
  },
  {
   "cell_type": "code",
   "execution_count": null,
   "metadata": {},
   "outputs": [],
   "source": [
    "completion_threshold = 1\n",
    "\n",
    "opts = SolverOptions(\n",
    "    cost_tolerance_intermediate=1e-2,\n",
    "    penalty_scaling=10.,\n",
    "    penalty_initial=1.0\n",
    ")\n",
    "\n",
    "saved_states = []\n",
    "\n",
    "while norm(x0 - xf) > completion_threshold\n",
    "    x0, warm_start_controls, N, tf = MPC(model, ALTROSolver, x0, warm_start_controls, N, tf)\n",
    "    \n",
    "    println(\"\\nCurrently at time $tf remaining and $(norm(x0 - xf)) away.\")\n",
    "    println(\"$N Steps at $tf s left. Hence, dt = $(tf / (N-1))\")\n",
    "    \n",
    "    # If the timespan is too low (e.g. due to disturbances)\n",
    "    tf = max(0.5, tf)\n",
    "    \n",
    "    push!(saved_states, x0)\n",
    "end"
   ]
  },
  {
   "cell_type": "code",
   "execution_count": null,
   "metadata": {},
   "outputs": [],
   "source": [
    "xs = [x[1] for x in saved_states]\n",
    "zs = [x[3] for x in saved_states];\n",
    "\n",
    "x_orig = [x[1] for x in X]\n",
    "z_orig = [x[3] for x in X];"
   ]
  },
  {
   "cell_type": "markdown",
   "metadata": {},
   "source": [
    "## Plot the trajectory!"
   ]
  },
  {
   "cell_type": "code",
   "execution_count": null,
   "metadata": {},
   "outputs": [],
   "source": [
    "titleText = \"Rocket Soft-Landing Trajectory and MPC Path\"\n",
    "filename = \"RocketGroundThrustBound_BarelyFeasible3\"\n",
    "\n",
    "plt_x = plot(x_orig, z_orig, label = \"Original Planned Trajectory\")\n",
    "plot!(xs, zs, label = \"MPC Tracked Trajectory\")\n",
    "xlabel!(\"x\")\n",
    "ylabel!(\"z (height)\")\n",
    "title!(titleText)"
   ]
  },
  {
   "cell_type": "code",
   "execution_count": null,
   "metadata": {},
   "outputs": [],
   "source": [
    "xmin = minimum(xs)\n",
    "xmax = maximum(xs)\n",
    "\n",
    "zmin = minimum(zs)\n",
    "zmax = maximum(zs)\n",
    "\n",
    "@gif for i in 1:size(xs, 1)\n",
    "    plt = plot(xs[1:i], zs[1:i], label = \"Trajectory\", legend = :topleft)\n",
    "    xlabel!(\"x\")\n",
    "    ylabel!(\"z (height)\")\n",
    "    xlims!(xmin,xmax)\n",
    "    ylims!(zmin,zmax)\n",
    "    title!(titleText)\n",
    "end"
   ]
  },
  {
   "cell_type": "code",
   "execution_count": null,
   "metadata": {},
   "outputs": [],
   "source": [
    "plt_ux = plot(uxs, label = \"Ux Control\")\n",
    "hline!([-ulateral_max, ulateral_max], linecolor = :grey, linestyle = :dash,\n",
    "                label = \"Max Lateral Thrust\")\n",
    "# xlabel!(\"time (s)\")\n",
    "ylabel!(\"control (N)\")\n",
    "title!(\"Controls over Time\")\n",
    "\n",
    "plt_uz = plot(uzs, label = \"Uz Control\")\n",
    "hline!([umax], linecolor = :grey, linestyle = :dash, label = \"Max Thrust\")\n",
    "xlabel!(\"time (s)\")\n",
    "ylabel!(\"control (N)\")\n",
    "\n",
    "plt_u = plot(plt_ux, plt_uz, layout = (2, 1))"
   ]
  },
  {
   "cell_type": "markdown",
   "metadata": {},
   "source": [
    "Below is a GIF of the trajectory. This will take several seconds to generate."
   ]
  },
  {
   "cell_type": "markdown",
   "metadata": {},
   "source": [
    "## Lastly, let's visualize the results in 3D with Meshcat\n",
    "\n",
    "To do this, we need to provide a Mesh to <code>MeshCat</code>. This is due with <code>FileIO</code> and <code>MeshIO</code>."
   ]
  },
  {
   "cell_type": "code",
   "execution_count": null,
   "metadata": {},
   "outputs": [],
   "source": [
    "vis = Visualizer() # Creates a MeshCat Window\n",
    "render(vis) # Renders the window below"
   ]
  },
  {
   "cell_type": "code",
   "execution_count": null,
   "metadata": {},
   "outputs": [],
   "source": [
    "function TrajOptPlots._set_mesh!(vis, model::Rocket)\n",
    "    obj = joinpath(@__DIR__, \"SimpleRocket.obj\")\n",
    "    quad_scaling = 0.085\n",
    "    robot_obj = FileIO.load(obj)\n",
    "    robot_obj.vertices .*= quad_scaling\n",
    "    mat = MeshPhongMaterial(color=colorant\"lightgrey\")\n",
    "    setobject!(vis[\"geom\"], robot_obj, mat)\n",
    "end\n",
    "\n",
    "TrajOptPlots.set_mesh!(vis, model)"
   ]
  },
  {
   "cell_type": "code",
   "execution_count": null,
   "metadata": {},
   "outputs": [],
   "source": [
    "Base.position(::Rocket, x::StaticVector) = SA[x[1], x[2], x[3]]\n",
    "RobotDynamics.orientation(::Rocket, x::StaticVector) = UnitQuaternion(0,0,0,1)\n",
    "\n",
    "visualize!(vis, altro);"
   ]
  },
  {
   "cell_type": "markdown",
   "metadata": {},
   "source": [
    "## Integrate the Dynamics to Verify the Dynamics Constraint\n",
    "\n",
    "In Matlab, we would use ODE 45, but in the <code>DifferentialEquations.jl</code> package we can either (1) just let the <code>solve</code> method figure it out or (2) specify a solver such as <code>Tsit5</code>.\n",
    "\n",
    "The controls change over time and are discretized. Below, a zero-order hold and a first-order hold are implemented for comparison. **We used a zero-order hold in the optimization so a zero-order hold should be used here.**"
   ]
  },
  {
   "cell_type": "code",
   "execution_count": null,
   "metadata": {},
   "outputs": [],
   "source": [
    "get_controls_zero_order_hold(t) = U[min(Int(floor(t/dt)) + 1, size(U,1))]\n",
    "f(y,p,t) = dynamics(model, y, get_controls_zero_order_hold(t))\n",
    "\n",
    "states_y0 = x0\n",
    "tspan = (0.0, tf)\n",
    "controls_p0 = get_controls_zero_order_hold(tspan[1])\n",
    "\n",
    "ode_prob_zoh = ODEProblem(f, states_y0, tspan, controls_p0)\n",
    "@btime solve(ode_prob_zoh, Tsit5(), reltol=1e-10, abstol=1e-10,saveat=dt)\n",
    "ode_sol_zoh = solve(ode_prob_zoh, Tsit5(), reltol=1e-10, abstol=1e-10,saveat=dt);"
   ]
  },
  {
   "cell_type": "code",
   "execution_count": null,
   "metadata": {},
   "outputs": [],
   "source": [
    "function get_controls_first_order_hold(t)\n",
    "    # dt and U are both global variables\n",
    "    tn = t/dt\n",
    "    \n",
    "    t_below = Int(max(1, floor(tn)))\n",
    "    t_above = Int(min(size(U, 1), ceil(tn)))\n",
    "    \n",
    "    if t_below >= t_above\n",
    "        return U[t_below]\n",
    "    end\n",
    "    \n",
    "    slope = (U[t_above] - U[t_below])\n",
    "    return slope * (tn - t_below) + U[t_below]\n",
    "\n",
    "end\n",
    "\n",
    "\n",
    "f(y,p,t) = dynamics(model, y, get_controls_first_order_hold(t))\n",
    "\n",
    "states_y0 = x0\n",
    "tspan = (0.0, tf)\n",
    "controls_p0 = get_controls_first_order_hold(tspan[1])\n",
    "\n",
    "ode_prob_foh = ODEProblem(f, states_y0, tspan, controls_p0)\n",
    "@btime solve(ode_prob_foh, Tsit5(), reltol=1e-10, abstol=1e-10,saveat=dt)\n",
    "ode_sol_foh = solve(ode_prob_foh, Tsit5(), reltol=1e-10, abstol=1e-10,saveat=dt);"
   ]
  },
  {
   "cell_type": "code",
   "execution_count": null,
   "metadata": {},
   "outputs": [],
   "source": [
    "err_zoh = norm.(ode_sol_zoh.u - X[1:(Int(floor(tspan[2]/dt))+1)])\n",
    "err_foh = norm.(ode_sol_foh.u - X[1:(Int(floor(tspan[2]/dt))+1)])\n",
    "\n",
    "plot(ode_sol_zoh.t, err_zoh, yaxis = :log, label = \"Zero-Order Hold\")\n",
    "plot!(ode_sol_foh.t, err_foh, yaxis = :log, label = \"First-Order Hold\")\n",
    "xlabel!(\"Time (s)\")\n",
    "ylabel!(\"Dynamics Error\")\n",
    "title!(\"Comparison in State Vector expected from ALTRO Solver \\n to Integrated Dynamics Model\")"
   ]
  },
  {
   "cell_type": "code",
   "execution_count": null,
   "metadata": {},
   "outputs": [],
   "source": []
  }
 ],
 "metadata": {
  "kernelspec": {
   "display_name": "Julia 1.4.2",
   "language": "julia",
   "name": "julia-1.4"
  },
  "language_info": {
   "file_extension": ".jl",
   "mimetype": "application/julia",
   "name": "julia",
   "version": "1.4.2"
  }
 },
 "nbformat": 4,
 "nbformat_minor": 4
}
