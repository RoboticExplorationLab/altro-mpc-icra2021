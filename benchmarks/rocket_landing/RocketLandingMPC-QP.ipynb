{
 "cells": [
  {
   "cell_type": "markdown",
   "metadata": {},
   "source": [
    "# Model Predictive Control Rocket Soft-Landing Problem\n",
    "\n",
    "This notebook is a walkthough of the ALTRO solver for the MPC Rocket Soft-Landing Problem (i.e. the general control challenge of landing a rocket at rest at a designated landing site). In the simplest case, we treat the rocket as a sphere landing on a flat surface with no atmosphere. This approximation is reasonable when the rocket is near the ground and entering the final part of the descent.\n",
    "\n",
    "**This files focuses on the MPC problem and comparing the result to other solvers. For the simple (non-MPC) application, please visit the <code>RocketLandingSimplified.ipynb</code> file. Thanks!**"
   ]
  },
  {
   "cell_type": "code",
   "execution_count": 1,
   "metadata": {},
   "outputs": [
    {
     "name": "stderr",
     "output_type": "stream",
     "text": [
      "\u001b[32m\u001b[1m Activating\u001b[22m\u001b[39m environment at `C:\\Users\\Daniel N\\.julia\\dev\\altro-mpc-icra2021\\benchmarks\\rocket_landing\\Project.toml`\n"
     ]
    }
   ],
   "source": [
    "using Pkg\n",
    "Pkg.activate(\".\")\n",
    "Pkg.instantiate()"
   ]
  },
  {
   "cell_type": "markdown",
   "metadata": {},
   "source": [
    "## MPC Problem Outline\n",
    "\n",
    "For the MPC application, we must fulfill two critical steps:\n",
    "1. Solve the optimal trajectory and apply the required controls (usually a short horizon)\n",
    "2. Use the prior trajectory to warm-start the next solve\n",
    "\n",
    "In this Jupyter notebook, we will:\n",
    "1. Set up the rocket soft-landing problem \n",
    "2. Solve the initial trajectory optimization problem\n",
    "3. Execute the control (and propagate forward in time)\n",
    "4. Warm-Start the next iteration\n",
    "5. Solve the next trajectory optimization problem\n",
    "6. Repeat steps 3-5 until arrival at the landing location"
   ]
  },
  {
   "cell_type": "markdown",
   "metadata": {},
   "source": [
    "# Step 1: Set-Up the Rocket Soft-Landing Problem"
   ]
  },
  {
   "cell_type": "markdown",
   "metadata": {},
   "source": [
    "## Load Required Packages\n",
    "\n",
    "The <code>RobotDynamics</code> package enables us to define the rocket model and dynamics. The <code>TrajectoryOptimization</code> and <code>Altro</code> set-up and solve the trajectory optimization problem. <code>StaticArrays</code> and <code>LinearAlgebra</code> are required to set-up the appropriate data types.\n",
    "\n",
    "Next, <code>Plots, MeshCat, TrajOptPlots, FileIO,</code> and <code>MeshIO</code> packages are used to visualize the results. Note that the plotting sections will take significantly longer to run than the optimization. \n",
    "\n",
    "Lastly, <code>DifferentialEquations</code> integrates the dynamics forward as a way to show that the dynamics constraints are satisfied.\n",
    "\n",
    "Loading all the packages, especially for plotting and the differential equations integrator can be the longest part of the whole notebook."
   ]
  },
  {
   "cell_type": "code",
   "execution_count": 2,
   "metadata": {},
   "outputs": [
    {
     "name": "stderr",
     "output_type": "stream",
     "text": [
      "┌ Info: Precompiling TrajectoryOptimization [c79d492b-0548-5874-b488-5a62c1d9d0ca]\n",
      "└ @ Base loading.jl:1260\n",
      "WARNING: Method definition num_vars(Int64, Int64, Int64) in module RobotDynamics at C:\\Users\\Daniel N\\.julia\\packages\\RobotDynamics\\KRwyi\\src\\trajectories.jl:9 overwritten in module TrajectoryOptimization at C:\\Users\\Daniel N\\.julia\\packages\\TrajectoryOptimization\\JdkNr\\src\\utils.jl:23.\n",
      "  ** incremental compilation may be fatally broken for this module **\n",
      "\n",
      "WARNING: Method definition num_vars(Int64, Int64, Int64, Bool) in module RobotDynamics at C:\\Users\\Daniel N\\.julia\\packages\\RobotDynamics\\KRwyi\\src\\trajectories.jl:9 overwritten in module TrajectoryOptimization at C:\\Users\\Daniel N\\.julia\\packages\\TrajectoryOptimization\\JdkNr\\src\\utils.jl:23.\n",
      "  ** incremental compilation may be fatally broken for this module **\n",
      "\n",
      "┌ Info: Precompiling Altro [5dcf52e5-e2fb-48e0-b826-96f46d2e3e73]\n",
      "└ @ Base loading.jl:1260\n",
      "WARNING: Method definition num_vars(Int64, Int64, Int64, Bool) in module RobotDynamics at C:\\Users\\Daniel N\\.julia\\packages\\RobotDynamics\\KRwyi\\src\\trajectories.jl:9 overwritten in module TrajectoryOptimization at C:\\Users\\Daniel N\\.julia\\packages\\TrajectoryOptimization\\JdkNr\\src\\utils.jl:23.\n",
      "  ** incremental compilation may be fatally broken for this module **\n",
      "\n",
      "WARNING: Method definition num_vars(Int64, Int64, Int64) in module RobotDynamics at C:\\Users\\Daniel N\\.julia\\packages\\RobotDynamics\\KRwyi\\src\\trajectories.jl:9 overwritten in module TrajectoryOptimization at C:\\Users\\Daniel N\\.julia\\packages\\TrajectoryOptimization\\JdkNr\\src\\utils.jl:23.\n",
      "  ** incremental compilation may be fatally broken for this module **\n",
      "\n"
     ]
    },
    {
     "name": "stdout",
     "output_type": "stream",
     "text": [
      "Trajectory Optimization Packages Ready\n"
     ]
    },
    {
     "name": "stderr",
     "output_type": "stream",
     "text": [
      "┌ Info: Precompiling Plots [91a5bcdd-55d7-5caf-9e0b-520d859cae80]\n",
      "└ @ Base loading.jl:1260\n",
      "┌ Info: Precompiling PyPlot [d330b81b-6aea-500a-939a-2ce795aea3ee]\n",
      "└ @ Base loading.jl:1260\n"
     ]
    },
    {
     "name": "stdout",
     "output_type": "stream",
     "text": [
      "Base Plotting Packages Ready\n"
     ]
    },
    {
     "name": "stderr",
     "output_type": "stream",
     "text": [
      "┌ Info: Precompiling MeshCat [283c5d60-a78f-5afe-a0af-af636b173e11]\n",
      "└ @ Base loading.jl:1260\n",
      "┌ Info: Precompiling TrajOptPlots [7770976a-8dee-4930-bf39-a1782fd21ce6]\n",
      "└ @ Base loading.jl:1260\n",
      "WARNING: Method definition num_vars(Int64, Int64, Int64, Bool) in module RobotDynamics at C:\\Users\\Daniel N\\.julia\\packages\\RobotDynamics\\KRwyi\\src\\trajectories.jl:9 overwritten in module TrajectoryOptimization at C:\\Users\\Daniel N\\.julia\\packages\\TrajectoryOptimization\\JdkNr\\src\\utils.jl:23.\n",
      "  ** incremental compilation may be fatally broken for this module **\n",
      "\n",
      "WARNING: Method definition num_vars(Int64, Int64, Int64) in module RobotDynamics at C:\\Users\\Daniel N\\.julia\\packages\\RobotDynamics\\KRwyi\\src\\trajectories.jl:9 overwritten in module TrajectoryOptimization at C:\\Users\\Daniel N\\.julia\\packages\\TrajectoryOptimization\\JdkNr\\src\\utils.jl:23.\n",
      "  ** incremental compilation may be fatally broken for this module **\n",
      "\n"
     ]
    },
    {
     "name": "stdout",
     "output_type": "stream",
     "text": [
      "3D Plotting Packages Ready\n",
      "Differential Equations Ready\n"
     ]
    }
   ],
   "source": [
    "using RobotDynamics\n",
    "import RobotDynamics: dynamics\n",
    "using Rotations\n",
    "using TrajectoryOptimization, Altro\n",
    "using StaticArrays, LinearAlgebra\n",
    "println(\"Trajectory Optimization Packages Ready\")\n",
    "\n",
    "using Plots\n",
    "pyplot()\n",
    "println(\"Base Plotting Packages Ready\")\n",
    "\n",
    "using MeshCat, TrajOptPlots\n",
    "using FileIO, MeshIO\n",
    "println(\"3D Plotting Packages Ready\")\n",
    "\n",
    "import DifferentialEquations.solve, DifferentialEquations.ODEProblem, DifferentialEquations.Tsit5\n",
    "using BenchmarkTools\n",
    "println(\"Differential Equations Ready\")"
   ]
  },
  {
   "cell_type": "markdown",
   "metadata": {},
   "source": [
    "## Define and Create the Rocket Model\n",
    "\n",
    "Unlike the Cartpole and Quadrotor models, the Rocket Model is not in the <code>RobotZoo.jl</code> package. Instead, here we build off of work found in the repository below to develop a simplified rocket soft-landing scenario (i.e. no second-order cone constraints and no attitude dynamics). https://github.com/danineamati/TrajOptSOCPs.jl\n",
    "\n",
    "First, to prepare the model, we inherit from the <code>AbstractModel</code> type (see http://roboticexplorationlab.org/RobotDynamics.jl/dev/models.html and http://roboticexplorationlab.org/TrajectoryOptimization.jl/stable/models.html for more information). In the simplified case, <code>Rocket</code> only holds the mass and the gravity vector. In the full rocket landing problem, the inertia matrix must also be provided. Separately, the thurster's specific impulse can be used to scale the optimal controls."
   ]
  },
  {
   "cell_type": "code",
   "execution_count": 3,
   "metadata": {},
   "outputs": [
    {
     "data": {
      "text/plain": [
       "Rocket"
      ]
     },
     "execution_count": 3,
     "metadata": {},
     "output_type": "execute_result"
    }
   ],
   "source": [
    "struct Rocket{T} <: AbstractModel\n",
    "    mass::T  # mass of the rocket\n",
    "    g::SArray{Tuple{3},T,1,3}   # gravity\n",
    "end\n",
    "\n",
    "# Set-up the default constructor for ease of use\n",
    "Rocket() = Rocket(10.0, SA[0.0; 0.0; -9.81])"
   ]
  },
  {
   "cell_type": "markdown",
   "metadata": {},
   "source": [
    "## Detail the Rocket Dynamics\n",
    "\n",
    "For the simplified rocket problem, we choose to ignore the attitude dynamics. Applying newton's second law or by forming a Lagrangian, we arrive at the following sparse system\n",
    "\n",
    "$$\\frac{dx}{dt} = Ax + Bu + g$$\n",
    "\n",
    "Where $A = \\begin{bmatrix}0 & I\\\\ 0 & 0 \\end{bmatrix}$, $B = \\begin{bmatrix}0 \\\\ \\frac{1}{m} I\\end{bmatrix}$, and $G = \\begin{bmatrix} 0 \\\\ -g \\end{bmatrix}$. For the 3D case, these are $(6 \\times 6)$, $(6 \\times 3)$, and $(6 \\times 1)$ matricies, respectively.\n",
    "\n",
    "Since the system is so sparse, we can reduce unnecessary computations by writing the equations for the first and second derivatives. We use the notation of $q = [x; y; z]$ (the positions) and $\\frac{dq}{dt} = [v_x; v_y; v_z]$ (the velocities). \n",
    "\n",
    "$$\\frac{dq}{dt} = \\frac{dq}{dt}$$\n",
    "$$\\frac{d^2q}{dt^2} = \\frac{1}{m} u - g$$"
   ]
  },
  {
   "cell_type": "code",
   "execution_count": 4,
   "metadata": {},
   "outputs": [],
   "source": [
    "\"\"\"\n",
    "    dynamics(model::Rocket, x, u)\n",
    "\n",
    "For the simple rocket, we have a linear dynamics system.\n",
    "\"\"\"\n",
    "function dynamics(model::Rocket, x, u)\n",
    "    m = model.mass   # mass of the rocket in kg (1)\n",
    "    g = model.g     # gravity m/s^2\n",
    "\n",
    "    # q  = x[SA[1,2,3]] # [x, y, z, ...]\n",
    "    qd = x[SA[4,5,6]] # [..., vx, vy, vz]\n",
    "\n",
    "    nDim = size(u, 1) # i.e. a 3D system -> 3\n",
    "    B = -(1/m) * I\n",
    "\n",
    "    qdd = B * u - g\n",
    "    return [qd; qdd]\n",
    "end\n",
    "\n",
    "RobotDynamics.state_dim(::Rocket) = 6\n",
    "RobotDynamics.control_dim(::Rocket) = 3"
   ]
  },
  {
   "cell_type": "markdown",
   "metadata": {},
   "source": [
    "## Instantiate the Model and Define the Discretization\n",
    "\n",
    "Feel free to choose <code>N</code> and <code>tf</code> based on your needs."
   ]
  },
  {
   "cell_type": "code",
   "execution_count": 5,
   "metadata": {},
   "outputs": [
    {
     "data": {
      "text/latex": [
       "0 . 0 4"
      ],
      "text/plain": [
       "0.04"
      ]
     },
     "metadata": {},
     "output_type": "display_data"
    },
    {
     "data": {
      "text/plain": [
       "Rocket{Float64}(10.0, [0.0, 0.0, -9.81])"
      ]
     },
     "execution_count": 5,
     "metadata": {},
     "output_type": "execute_result"
    }
   ],
   "source": [
    "model = Rocket()\n",
    "n, m = size(model)\n",
    "# n is the size of the states ([x, y, z, vx, vy, vz])\n",
    "# m is the size of the control thrust ([Tx, Ty, Tz]])\n",
    "\n",
    "# Trajectory Discretization\n",
    "N = 251\n",
    "tf = 10.\n",
    "dt = tf/(N-1)\n",
    "\n",
    "display(dt)\n",
    "model # (Simply for information) Display the struct as the cell output "
   ]
  },
  {
   "cell_type": "markdown",
   "metadata": {},
   "source": [
    "## Specify the Initial and Final Conditions\n",
    "\n",
    "Choose the initial and final points. Note that these must be full state vectors ($[x; y; z; v_x; v_y; v_z]$). The initial point is generally the rocket's current state. The final point is generally the rocket's landing stop. Note that the final velocity of the rocket should **always** be $[0.0; 0.0; 0.0]$ to have a **soft** landing."
   ]
  },
  {
   "cell_type": "code",
   "execution_count": 6,
   "metadata": {},
   "outputs": [],
   "source": [
    "# Initial and Final Conditions\n",
    "x0 = @SVector [4.0, 2.0, 20.0, -3.0, 2.0, -15.0] # Start at a 20 m altitude with an ~15 m/s plummet\n",
    "xf = @SVector zeros(n);  # End at rest at the ending location"
   ]
  },
  {
   "cell_type": "markdown",
   "metadata": {},
   "source": [
    "## Set-Up the LQR Objective Function\n",
    "\n",
    "For this problem, we choose an LQR Objective Function. One can add waypoints or change the weights to craft different optimal trajectories. See http://roboticexplorationlab.org/TrajectoryOptimization.jl/stable/costfunctions.html for more information."
   ]
  },
  {
   "cell_type": "code",
   "execution_count": 7,
   "metadata": {},
   "outputs": [
    {
     "data": {
      "text/plain": [
       "Objective"
      ]
     },
     "execution_count": 7,
     "metadata": {},
     "output_type": "execute_result"
    }
   ],
   "source": [
    "Q = 1.0e-2 * Diagonal(@SVector ones(n))\n",
    "Qf = 100.0 * Diagonal(@SVector ones(n))\n",
    "R = 1.0e-1 * Diagonal(@SVector ones(m))\n",
    "obj = LQRObjective(Q,R,Qf,xf,N)"
   ]
  },
  {
   "cell_type": "markdown",
   "metadata": {},
   "source": [
    "## Define the Constraints\n",
    "\n",
    "For the simple rocket soft-landing problem, we will include 4 constraints:\n",
    "1. Crash Prevention Constraint ($z > 0$)\n",
    "2. Vertical Thrust Bounds ($0 < u_z < u_{z, \\ max}$), which is a simplification of a max thrust constraint\n",
    "3. Lateral Thurst Bounds ($-u_{lateral, \\ max} < u_{x, y} < u_{lateral, \\ max}$), which is a simplification of a max thrust angle constraint\n",
    "4. Landing Site Designation ($x[t_f] = x_f$)\n",
    "\n",
    "For details on the implemented constraint types, please check out http://roboticexplorationlab.org/TrajectoryOptimization.jl/stable/constraints.html."
   ]
  },
  {
   "cell_type": "code",
   "execution_count": 8,
   "metadata": {},
   "outputs": [],
   "source": [
    "# Create Empty ConstraintList\n",
    "conSet = ConstraintList(n,m,N)\n",
    "\n",
    "# Bounds\n",
    "ground_level = 0.0 # Crash Prevention Constraint\n",
    "umax = 11 * model.mass # Simplified Max Thrust Constraint\n",
    "theta = 20 # deg. Max Angle Constraint\n",
    "ulateral_max = umax * sind(theta)\n",
    "\n",
    "# To ignore constraints 2 and 3, use the code below\n",
    "# bnd = BoundConstraint(n,m, x_min=[-Inf, -Inf, ground_level,\n",
    "#                                   -Inf, -Inf, -Inf])\n",
    "\n",
    "# To include constraints 2 and 3, use the code below\n",
    "bnd = BoundConstraint(n,m, x_min=[-Inf, -Inf, ground_level,\n",
    "                                  -Inf, -Inf, -Inf],\n",
    "                           u_min=[-ulateral_max, -ulateral_max, 0   ],\n",
    "                           u_max=[ ulateral_max,  ulateral_max, umax])\n",
    "add_constraint!(conSet, bnd, 1:N-1)\n",
    "\n",
    "# Goal Constraint that the rocket must reach the landing site.\n",
    "goal = GoalConstraint(xf)\n",
    "add_constraint!(conSet, goal, N)"
   ]
  },
  {
   "cell_type": "markdown",
   "metadata": {},
   "source": [
    "## Stitch together the objective and constraints\n",
    "\n",
    "See http://roboticexplorationlab.org/TrajectoryOptimization.jl/stable/creating_problems.html for more information."
   ]
  },
  {
   "cell_type": "code",
   "execution_count": 9,
   "metadata": {},
   "outputs": [],
   "source": [
    "# Package the objective and constraints into a \"problem\" type\n",
    "prob = Problem(model, obj, xf, tf, x0=x0, constraints=conSet);"
   ]
  },
  {
   "cell_type": "markdown",
   "metadata": {},
   "source": [
    "## Initialize the Trajectory\n",
    "\n",
    "We choose to initialize the trajectory at a hover (i.e. the rocket trajectory will initially only counter gravity). Note that this is **not** a warm start."
   ]
  },
  {
   "cell_type": "code",
   "execution_count": 10,
   "metadata": {},
   "outputs": [],
   "source": [
    "u0 = model.g # controls that would nominally hover\n",
    "U0 = [u0 for k = 1:N-1] # vector of the small controls\n",
    "initial_controls!(prob, U0)\n",
    "rollout!(prob);"
   ]
  },
  {
   "cell_type": "markdown",
   "metadata": {},
   "source": [
    "## Select the solver options\n",
    "\n",
    "For more information, please visit https://github.com/RoboticExplorationLab/Altro.jl/blob/master/README.md for more details on the solver options.\n",
    "\n",
    "Using the Altro package, we can now specify parameters and solve the problem."
   ]
  },
  {
   "cell_type": "code",
   "execution_count": 11,
   "metadata": {},
   "outputs": [
    {
     "data": {
      "text/plain": [
       "SolverOptions{Float64}\n",
       "  constraint_tolerance: Float64 1.0e-6\n",
       "  cost_tolerance: Float64 0.0001\n",
       "  cost_tolerance_intermediate: Float64 0.01\n",
       "  gradient_tolerance: Float64 10.0\n",
       "  gradient_tolerance_intermediate: Float64 1.0\n",
       "  iterations_inner: Int64 300\n",
       "  dJ_counter_limit: Int64 10\n",
       "  square_root: Bool false\n",
       "  line_search_lower_bound: Float64 1.0e-8\n",
       "  line_search_upper_bound: Float64 10.0\n",
       "  iterations_linesearch: Int64 20\n",
       "  max_cost_value: Float64 1.0e8\n",
       "  max_state_value: Float64 1.0e8\n",
       "  max_control_value: Float64 1.0e8\n",
       "  static_bp: Bool true\n",
       "  save_S: Bool false\n",
       "  bp_reg: Bool false\n",
       "  bp_reg_initial: Float64 0.0\n",
       "  bp_reg_increase_factor: Float64 1.6\n",
       "  bp_reg_max: Float64 1.0e8\n",
       "  bp_reg_min: Float64 1.0e-8\n",
       "  bp_reg_type: Symbol control\n",
       "  bp_reg_fp: Float64 10.0\n",
       "  penalty_initial: Float64 1.0\n",
       "  penalty_scaling: Float64 10.0\n",
       "  active_set_tolerance_al: Float64 0.001\n",
       "  dual_max: Float64 NaN\n",
       "  penalty_max: Float64 NaN\n",
       "  iterations_outer: Int64 30\n",
       "  kickout_max_penalty: Bool false\n",
       "  reset_duals: Bool true\n",
       "  reset_penalties: Bool true\n",
       "  verbose_pn: Bool false\n",
       "  n_steps: Int64 2\n",
       "  solve_type: Symbol feasible\n",
       "  projected_newton_tolerance: Float64 0.001\n",
       "  active_set_tolerance_pn: Float64 0.001\n",
       "  multiplier_projection: Bool true\n",
       "  ρ_chol: Float64 0.01\n",
       "  ρ_primal: Float64 1.0e-8\n",
       "  ρ_dual: Float64 1.0e-8\n",
       "  r_threshold: Float64 1.1\n",
       "  projected_newton: Bool true\n",
       "  iterations: Int64 1000\n",
       "  show_summary: Bool false\n",
       "  verbose: Int64 0\n"
      ]
     },
     "execution_count": 11,
     "metadata": {},
     "output_type": "execute_result"
    }
   ],
   "source": [
    "opts = SolverOptions(\n",
    "    cost_tolerance_intermediate=1e-2,\n",
    "    penalty_scaling=10.,\n",
    "    penalty_initial=1.0\n",
    ")"
   ]
  },
  {
   "cell_type": "markdown",
   "metadata": {},
   "source": [
    "# Step 2: Solve the initial trajectory optimization problem"
   ]
  },
  {
   "cell_type": "markdown",
   "metadata": {},
   "source": [
    "Show summary is set to <code>true</code> to print the solver speed. In general the solve will take about 23 iterations and 20-40 ms to complete. The constraint violation should be around $10^{-4}$ or better."
   ]
  },
  {
   "cell_type": "code",
   "execution_count": 12,
   "metadata": {},
   "outputs": [
    {
     "data": {
      "text/plain": [
       "BenchmarkTools.Trial: \n",
       "  memory estimate:  32.47 MiB\n",
       "  allocs estimate:  6648\n",
       "  --------------\n",
       "  minimum time:     29.553 ms (1.58% GC)\n",
       "  median time:      30.863 ms (1.48% GC)\n",
       "  mean time:        30.808 ms (1.35% GC)\n",
       "  maximum time:     31.776 ms (1.53% GC)\n",
       "  --------------\n",
       "  samples:          10\n",
       "  evals/sample:     10"
      ]
     },
     "execution_count": 12,
     "metadata": {},
     "output_type": "execute_result"
    }
   ],
   "source": [
    "altro = ALTROSolver(prob, opts)\n",
    "b = benchmark_solve!(altro)"
   ]
  },
  {
   "cell_type": "markdown",
   "metadata": {},
   "source": [
    "Now we can solve it and show the summary"
   ]
  },
  {
   "cell_type": "code",
   "execution_count": 13,
   "metadata": {},
   "outputs": [
    {
     "name": "stdout",
     "output_type": "stream",
     "text": [
      "\u001b[32;1m\n",
      "SOLVE COMPLETED\n",
      "\u001b[0m solved using the \u001b[0m\u001b[36;1mALTRO\u001b[0m Solver,\n",
      " part of the Altro.jl package developed by the REx Lab at Stanford and Carnegie Mellon Universities\n",
      "\u001b[34;1m\n",
      "  Solve Statistics\n",
      "\u001b[0m    Total Iterations: 15\n",
      "\u001b[0m    Solve Time: 32.239801 (ms)\n",
      "\u001b[34;1m\n",
      "  Covergence\n",
      "\u001b[0m    Terminal Cost: 3740.639974972861\n",
      "\u001b[0m    Terminal dJ: \u001b[32m-0.005429616860510578\n",
      "\u001b[0m    Terminal gradient: \u001b[32m0.0030289233291732032\n",
      "\u001b[0m    Terminal constraint violation: \u001b[31m0.00045200403765490284\n",
      "\u001b[0m    Solve Status: \u001b[1m\u001b[32mSOLVE_SUCCEEDED\n"
     ]
    }
   ],
   "source": [
    "set_options!(altro, show_summary=true)\n",
    "solve!(altro);"
   ]
  },
  {
   "cell_type": "markdown",
   "metadata": {},
   "source": [
    "Access the Trajectory"
   ]
  },
  {
   "cell_type": "code",
   "execution_count": 14,
   "metadata": {},
   "outputs": [],
   "source": [
    "X = states(altro)\n",
    "U = controls(altro);"
   ]
  },
  {
   "cell_type": "markdown",
   "metadata": {},
   "source": [
    "## Step 3: Integrate the Dynamics to Verify the Dynamics Constraint\n",
    "\n",
    "In Matlab, we would use ODE 45, but in the <code>DifferentialEquations.jl</code> package we can either (1) just let the <code>solve</code> method figure it out or (2) specify a solver such as <code>Tsit5</code>."
   ]
  },
  {
   "cell_type": "code",
   "execution_count": 15,
   "metadata": {},
   "outputs": [],
   "source": [
    "num_timesteps = 3\n",
    "\n",
    "get_controls(t) = U[min(Int(floor(t/dt)) + 1, size(U,1))]\n",
    "f(y,p,t) = dynamics(model, y, get_controls(t))\n",
    "\n",
    "states_y0 = x0\n",
    "tspan = (0.0, dt * num_timesteps)\n",
    "controls_p0 = get_controls(tspan[1])\n",
    "\n",
    "# Use the DifferentialEquations.jl Package\n",
    "ode_prob = ODEProblem(f, states_y0, tspan, controls_p0)\n",
    "ode_sol = solve(ode_prob, Tsit5(), reltol=1e-10, abstol=1e-10);"
   ]
  },
  {
   "cell_type": "markdown",
   "metadata": {},
   "source": [
    "## Step 4: Warm-Start the next iteration"
   ]
  },
  {
   "cell_type": "code",
   "execution_count": 16,
   "metadata": {},
   "outputs": [
    {
     "data": {
      "text/latex": [
       "0 . 0 3 9 8 3 8 7 0 9 6 7 7 4 1 9 3 6"
      ],
      "text/plain": [
       "0.03983870967741936"
      ]
     },
     "execution_count": 16,
     "metadata": {},
     "output_type": "execute_result"
    }
   ],
   "source": [
    "# warm_start_states = X[num_timesteps:end]\n",
    "warm_start_controls = U[num_timesteps:end]\n",
    "x0 = ode_sol.u[end]\n",
    "\n",
    "N = size(warm_start_controls, 1) + 1\n",
    "tf = tf - dt * num_timesteps\n",
    "dt = tf / (N - 1)"
   ]
  },
  {
   "cell_type": "markdown",
   "metadata": {},
   "source": [
    "## Step 5 & 6: Solve the Problem and Repeat\n",
    "\n",
    "Now that we've seen each step in detail, let's put it all into a function and repeat it until landing."
   ]
  },
  {
   "cell_type": "code",
   "execution_count": 17,
   "metadata": {},
   "outputs": [
    {
     "data": {
      "text/plain": [
       "MPC (generic function with 1 method)"
      ]
     },
     "execution_count": 17,
     "metadata": {},
     "output_type": "execute_result"
    }
   ],
   "source": [
    "function diffEq_Model(model::Rocket, U, dt)\n",
    "    get_controls(t) = U[min(Int(floor(t/dt)) + 1, size(U,1))]\n",
    "    f(y,p,t) = dynamics(model, y, get_controls(t))\n",
    "\n",
    "    states_y0 = x0\n",
    "    tspan = (0.0, dt * num_timesteps)\n",
    "    controls_p0 = get_controls(tspan[1])\n",
    "\n",
    "    # Use the DifferentialEquations.jl Package\n",
    "    ode_prob = ODEProblem(f, states_y0, tspan, controls_p0)\n",
    "    ode_sol = solve(ode_prob, Tsit5(), reltol=1e-10, abstol=1e-10);\n",
    "\n",
    "    return ode_sol.u[end]\n",
    "end\n",
    "\n",
    "function MPC(model::Rocket, solver, x0, U_init, N, tf)\n",
    "    \n",
    "#     println(\"Setting Up Problem\")\n",
    "    # Reset the objective function\n",
    "    obj = LQRObjective(Q,R,Qf,xf,N)\n",
    "    \n",
    "    # Create Empty ConstraintList\n",
    "    conSet = ConstraintList(n,m,N)\n",
    "\n",
    "    # Bounds\n",
    "    ground_level = 0.0 # Crash Prevention Constraint\n",
    "    umax = 11 * model.mass # Simplified Max Thrust Constraint\n",
    "    theta = 20 # deg. Max Angle Constraint\n",
    "    ulateral_max = umax * sind(theta)\n",
    "\n",
    "    # To ignore constraints 2 and 3, use the code below\n",
    "    # bnd = BoundConstraint(n,m, x_min=[-Inf, -Inf, ground_level,\n",
    "    #                                   -Inf, -Inf, -Inf])\n",
    "\n",
    "    # To include constraints 2 and 3, use the code below\n",
    "    bnd = BoundConstraint(n,m, x_min=[-Inf, -Inf, ground_level,\n",
    "                                      -Inf, -Inf, -Inf],\n",
    "                               u_min=[-ulateral_max, -ulateral_max, 0   ],\n",
    "                               u_max=[ ulateral_max,  ulateral_max, umax])\n",
    "    add_constraint!(conSet, bnd, 1:N-1)\n",
    "\n",
    "    # Goal Constraint that the rocket must reach the landing site.\n",
    "    goal = GoalConstraint(xf)\n",
    "    add_constraint!(conSet, goal, N)\n",
    "    \n",
    "    # Package the objective and constraints into a \"problem\" type\n",
    "    prob = Problem(model, obj, xf, tf, x0=x0, constraints=conSet);\n",
    "    \n",
    "#     println(\"Initial Controls\")\n",
    "    # Set the current controls (ideally warm-started)\n",
    "    initial_controls!(prob, U_init)\n",
    "    rollout!(prob);\n",
    "    \n",
    "#     println(\"Solving\")\n",
    "    # Solve the new trajectory\n",
    "    a_s = ALTROSolver(prob, opts)\n",
    "    solve!(a_s);\n",
    "    set_options!(a_s, show_summary=false)\n",
    "    b = benchmark_solve!(a_s)\n",
    "    display(b)\n",
    "    \n",
    "#     println(\"Accessing\")\n",
    "    # Access the states and controls\n",
    "    X = states(a_s)\n",
    "    U = controls(a_s)\n",
    "    \n",
    "#     println(\"Propogate System\")\n",
    "    # Use the dynamics model (and any disturbances) and propogate forward in time\n",
    "    x0 = diffEq_Model(model, U, dt)\n",
    "    \n",
    "#     println(\"Warm-Start Next Iteration\")\n",
    "    U_new = U[num_timesteps:end]\n",
    "    N = size(U_new, 1) + 1\n",
    "    tf = tf - dt * num_timesteps\n",
    "    \n",
    "    # Warm-Start the Next Iteration\n",
    "    return x0, U_new, N, tf\n",
    "    \n",
    "end"
   ]
  },
  {
   "cell_type": "code",
   "execution_count": 18,
   "metadata": {},
   "outputs": [
    {
     "data": {
      "text/plain": [
       "BenchmarkTools.Trial: \n",
       "  memory estimate:  32.27 MiB\n",
       "  allocs estimate:  6612\n",
       "  --------------\n",
       "  minimum time:     25.586 ms (1.23% GC)\n",
       "  median time:      27.445 ms (1.71% GC)\n",
       "  mean time:        27.398 ms (1.53% GC)\n",
       "  maximum time:     28.669 ms (1.75% GC)\n",
       "  --------------\n",
       "  samples:          10\n",
       "  evals/sample:     10"
      ]
     },
     "metadata": {},
     "output_type": "display_data"
    },
    {
     "name": "stdout",
     "output_type": "stream",
     "text": [
      "\u001b[32;1m\n",
      "SOLVE COMPLETED\n",
      "\u001b[0m solved using the \u001b[0m\u001b[36;1mALTRO\u001b[0m Solver,\n",
      " part of the Altro.jl package developed by the REx Lab at Stanford and Carnegie Mellon Universities\n",
      "\u001b[34;1m\n",
      "  Solve Statistics\n",
      "\u001b[0m    Total Iterations: 16\n",
      "\u001b[0m    Solve Time: 51.242301 (ms)\n",
      "\u001b[34;1m\n",
      "  Covergence\n",
      "\u001b[0m    Terminal Cost: 3735.528434980698\n",
      "\u001b[0m    Terminal dJ: \u001b[32m-0.006007443312682881\n",
      "\u001b[0m    Terminal gradient: \u001b[32m0.003176896865150655\n",
      "\u001b[0m    Terminal constraint violation: \u001b[31m0.0004760090237265124\n",
      "\u001b[0m    Solve Status: \u001b[1m\u001b[32mSOLVE_SUCCEEDED\n"
     ]
    }
   ],
   "source": [
    "a = MPC(model, ALTROSolver, x0, warm_start_controls, N, tf);"
   ]
  },
  {
   "cell_type": "markdown",
   "metadata": {},
   "source": [
    "Execute the MPC forward until landed"
   ]
  },
  {
   "cell_type": "code",
   "execution_count": 19,
   "metadata": {},
   "outputs": [
    {
     "data": {
      "text/plain": [
       "BenchmarkTools.Trial: \n",
       "  memory estimate:  32.27 MiB\n",
       "  allocs estimate:  6612\n",
       "  --------------\n",
       "  minimum time:     24.536 ms (1.28% GC)\n",
       "  median time:      26.704 ms (1.76% GC)\n",
       "  mean time:        26.633 ms (1.55% GC)\n",
       "  maximum time:     28.719 ms (1.70% GC)\n",
       "  --------------\n",
       "  samples:          10\n",
       "  evals/sample:     10"
      ]
     },
     "metadata": {},
     "output_type": "display_data"
    },
    {
     "data": {
      "text/plain": [
       "BenchmarkTools.Trial: \n",
       "  memory estimate:  103.64 MiB\n",
       "  allocs estimate:  13405\n",
       "  --------------\n",
       "  minimum time:     59.360 ms (3.06% GC)\n",
       "  median time:      60.500 ms (2.95% GC)\n",
       "  mean time:        61.073 ms (2.87% GC)\n",
       "  maximum time:     63.455 ms (3.12% GC)\n",
       "  --------------\n",
       "  samples:          9\n",
       "  evals/sample:     10"
      ]
     },
     "metadata": {},
     "output_type": "display_data"
    },
    {
     "name": "stdout",
     "output_type": "stream",
     "text": [
      "\n",
      "Currently at time 9.760483870967743 remaining and 21.90883370528143 away.\n",
      "247 Steps at 9.760483870967743 s left. Hence, dt = 0.039676763703120906\n"
     ]
    },
    {
     "data": {
      "text/plain": [
       "BenchmarkTools.Trial: \n",
       "  memory estimate:  31.82 MiB\n",
       "  allocs estimate:  6540\n",
       "  --------------\n",
       "  minimum time:     24.338 ms (1.29% GC)\n",
       "  median time:      26.375 ms (1.51% GC)\n",
       "  mean time:        26.204 ms (1.54% GC)\n",
       "  maximum time:     27.182 ms (1.73% GC)\n",
       "  --------------\n",
       "  samples:          10\n",
       "  evals/sample:     10"
      ]
     },
     "metadata": {},
     "output_type": "display_data"
    },
    {
     "name": "stdout",
     "output_type": "stream",
     "text": [
      "\n",
      "Currently at time 9.640967741935485 remaining and 20.202750834359378 away.\n",
      "245 Steps at 9.640967741935485 s left. Hence, dt = 0.03951216287678477"
     ]
    },
    {
     "data": {
      "text/plain": [
       "BenchmarkTools.Trial: \n",
       "  memory estimate:  31.61 MiB\n",
       "  allocs estimate:  6504\n",
       "  --------------\n",
       "  minimum time:     25.253 ms (1.28% GC)\n",
       "  median time:      26.033 ms (1.33% GC)\n",
       "  mean time:        26.090 ms (1.53% GC)\n",
       "  maximum time:     26.882 ms (1.20% GC)\n",
       "  --------------\n",
       "  samples:          10\n",
       "  evals/sample:     10"
      ]
     },
     "metadata": {},
     "output_type": "display_data"
    },
    {
     "name": "stdout",
     "output_type": "stream",
     "text": [
      "\n",
      "\n",
      "Currently at time 9.521451612903228 remaining and 18.59990184003886 away.\n",
      "243 Steps at 9.521451612903228 s left. Hence, dt = 0.03934484137563317"
     ]
    },
    {
     "data": {
      "text/plain": [
       "BenchmarkTools.Trial: \n",
       "  memory estimate:  101.53 MiB\n",
       "  allocs estimate:  13297\n",
       "  --------------\n",
       "  minimum time:     60.220 ms (2.26% GC)\n",
       "  median time:      60.839 ms (2.23% GC)\n",
       "  mean time:        61.227 ms (2.22% GC)\n",
       "  maximum time:     62.665 ms (2.14% GC)\n",
       "  --------------\n",
       "  samples:          9\n",
       "  evals/sample:     10"
      ]
     },
     "metadata": {},
     "output_type": "display_data"
    },
    {
     "name": "stdout",
     "output_type": "stream",
     "text": [
      "\n",
      "\n",
      "Currently at time 9.40193548387097 remaining and 17.099056268515653 away.\n",
      "241 Steps at 9.40193548387097 s left. Hence, dt = 0.039174731182795706"
     ]
    },
    {
     "data": {
      "text/plain": [
       "BenchmarkTools.Trial: \n",
       "  memory estimate:  31.16 MiB\n",
       "  allocs estimate:  6432\n",
       "  --------------\n",
       "  minimum time:     24.652 ms (1.30% GC)\n",
       "  median time:      25.188 ms (1.34% GC)\n",
       "  mean time:        25.543 ms (1.49% GC)\n",
       "  maximum time:     26.863 ms (1.23% GC)\n",
       "  --------------\n",
       "  samples:          10\n",
       "  evals/sample:     10"
      ]
     },
     "metadata": {},
     "output_type": "display_data"
    },
    {
     "name": "stdout",
     "output_type": "stream",
     "text": [
      "\n",
      "\n",
      "Currently at time 9.282419354838712 remaining and 15.697719629798941 away.\n",
      "239 Steps at 9.282419354838712 s left. Hence, dt = 0.03900176199512064"
     ]
    },
    {
     "data": {
      "text/plain": [
       "BenchmarkTools.Trial: \n",
       "  memory estimate:  34.25 MiB\n",
       "  allocs estimate:  6725\n",
       "  --------------\n",
       "  minimum time:     24.296 ms (1.41% GC)\n",
       "  median time:      25.647 ms (1.81% GC)\n",
       "  mean time:        25.731 ms (1.73% GC)\n",
       "  maximum time:     27.285 ms (2.01% GC)\n",
       "  --------------\n",
       "  samples:          10\n",
       "  evals/sample:     10"
      ]
     },
     "metadata": {},
     "output_type": "display_data"
    },
    {
     "name": "stdout",
     "output_type": "stream",
     "text": [
      "\n",
      "\n",
      "Currently at time 9.162903225806454 remaining and 14.39273637822603 away.\n",
      "237 Steps at 9.162903225806454 s left. Hence, dt = 0.03882586112629854"
     ]
    },
    {
     "data": {
      "text/plain": [
       "BenchmarkTools.Trial: \n",
       "  memory estimate:  30.72 MiB\n",
       "  allocs estimate:  6360\n",
       "  --------------\n",
       "  minimum time:     22.935 ms (1.44% GC)\n",
       "  median time:      23.353 ms (1.53% GC)\n",
       "  mean time:        23.474 ms (1.68% GC)\n",
       "  maximum time:     24.241 ms (1.44% GC)\n",
       "  --------------\n",
       "  samples:          10\n",
       "  evals/sample:     10"
      ]
     },
     "metadata": {},
     "output_type": "display_data"
    },
    {
     "name": "stdout",
     "output_type": "stream",
     "text": [
      "\n",
      "\n",
      "Currently at time 9.043387096774197 remaining and 13.183424260680503 away.\n",
      "235 Steps at 9.043387096774197 s left. Hence, dt = 0.038646953405017934"
     ]
    },
    {
     "data": {
      "text/plain": [
       "BenchmarkTools.Trial: \n",
       "  memory estimate:  30.51 MiB\n",
       "  allocs estimate:  6324\n",
       "  --------------\n",
       "  minimum time:     23.515 ms (1.48% GC)\n",
       "  median time:      24.404 ms (1.43% GC)\n",
       "  mean time:        24.432 ms (1.61% GC)\n",
       "  maximum time:     25.953 ms (2.06% GC)\n",
       "  --------------\n",
       "  samples:          10\n",
       "  evals/sample:     10"
      ]
     },
     "metadata": {},
     "output_type": "display_data"
    },
    {
     "name": "stdout",
     "output_type": "stream",
     "text": [
      "\n",
      "\n",
      "Currently at time 8.923870967741939 remaining and 12.066341527743257 away.\n",
      "233 Steps at 8.923870967741939 s left. Hence, dt = 0.03846496106785319"
     ]
    },
    {
     "data": {
      "text/plain": [
       "BenchmarkTools.Trial: \n",
       "  memory estimate:  30.28 MiB\n",
       "  allocs estimate:  6288\n",
       "  --------------\n",
       "  minimum time:     22.925 ms (1.51% GC)\n",
       "  median time:      24.279 ms (1.44% GC)\n",
       "  mean time:        24.093 ms (1.57% GC)\n",
       "  maximum time:     24.904 ms (1.40% GC)\n",
       "  --------------\n",
       "  samples:          10\n",
       "  evals/sample:     10"
      ]
     },
     "metadata": {},
     "output_type": "display_data"
    },
    {
     "name": "stdout",
     "output_type": "stream",
     "text": [
      "\n",
      "\n",
      "Currently at time 8.804354838709681 remaining and 11.041294050580262 away.\n",
      "231 Steps at 8.804354838709681 s left. Hence, dt = 0.03827980364656383"
     ]
    },
    {
     "data": {
      "text/plain": [
       "BenchmarkTools.Trial: \n",
       "  memory estimate:  30.06 MiB\n",
       "  allocs estimate:  6252\n",
       "  --------------\n",
       "  minimum time:     23.141 ms (1.49% GC)\n",
       "  median time:      23.635 ms (1.48% GC)\n",
       "  mean time:        23.702 ms (1.57% GC)\n",
       "  maximum time:     24.592 ms (2.20% GC)\n",
       "  --------------\n",
       "  samples:          10\n",
       "  evals/sample:     10"
      ]
     },
     "metadata": {},
     "output_type": "display_data"
    },
    {
     "name": "stdout",
     "output_type": "stream",
     "text": [
      "\n",
      "\n",
      "Currently at time 8.684838709677424 remaining and 10.106462309358086 away.\n",
      "229 Steps at 8.684838709677424 s left. Hence, dt = 0.03809139784946238"
     ]
    },
    {
     "data": {
      "text/plain": [
       "BenchmarkTools.Trial: \n",
       "  memory estimate:  29.71 MiB\n",
       "  allocs estimate:  6194\n",
       "  --------------\n",
       "  minimum time:     22.055 ms (1.53% GC)\n",
       "  median time:      22.700 ms (1.56% GC)\n",
       "  mean time:        22.689 ms (1.65% GC)\n",
       "  maximum time:     23.781 ms (1.49% GC)\n",
       "  --------------\n",
       "  samples:          10\n",
       "  evals/sample:     10"
      ]
     },
     "metadata": {},
     "output_type": "display_data"
    },
    {
     "name": "stdout",
     "output_type": "stream",
     "text": [
      "\n",
      "\n",
      "Currently at time 8.565322580645166 remaining and 9.258618805026854 away.\n",
      "227 Steps at 8.565322580645166 s left. Hence, dt = 0.037899657436483034"
     ]
    },
    {
     "data": {
      "text/plain": [
       "BenchmarkTools.Trial: \n",
       "  memory estimate:  29.50 MiB\n",
       "  allocs estimate:  6158\n",
       "  --------------\n",
       "  minimum time:     22.536 ms (1.47% GC)\n",
       "  median time:      22.976 ms (1.53% GC)\n",
       "  mean time:        23.488 ms (1.49% GC)\n",
       "  maximum time:     25.693 ms (1.38% GC)\n",
       "  --------------\n",
       "  samples:          10\n",
       "  evals/sample:     10"
      ]
     },
     "metadata": {},
     "output_type": "display_data"
    },
    {
     "name": "stdout",
     "output_type": "stream",
     "text": [
      "\n",
      "\n",
      "Currently at time 8.445806451612908 remaining and 8.497688954835018 away.\n",
      "225 Steps at 8.445806451612908 s left. Hence, dt = 0.037704493087557626"
     ]
    },
    {
     "data": {
      "text/plain": [
       "BenchmarkTools.Trial: \n",
       "  memory estimate:  29.26 MiB\n",
       "  allocs estimate:  6122\n",
       "  --------------\n",
       "  minimum time:     22.604 ms (1.58% GC)\n",
       "  median time:      23.627 ms (1.52% GC)\n",
       "  mean time:        23.982 ms (1.49% GC)\n",
       "  maximum time:     25.471 ms (1.41% GC)\n",
       "  --------------\n",
       "  samples:          10\n",
       "  evals/sample:     10"
      ]
     },
     "metadata": {},
     "output_type": "display_data"
    },
    {
     "name": "stdout",
     "output_type": "stream",
     "text": [
      "\n",
      "\n",
      "Currently at time 8.32629032258065 remaining and 7.821613410349469 away.\n",
      "223 Steps at 8.32629032258065 s left. Hence, dt = 0.0375058122638768\n"
     ]
    },
    {
     "data": {
      "text/plain": [
       "BenchmarkTools.Trial: \n",
       "  memory estimate:  29.05 MiB\n",
       "  allocs estimate:  6086\n",
       "  --------------\n",
       "  minimum time:     21.966 ms (1.57% GC)\n",
       "  median time:      22.570 ms (1.54% GC)\n",
       "  mean time:        22.910 ms (1.47% GC)\n",
       "  maximum time:     24.511 ms (1.46% GC)\n",
       "  --------------\n",
       "  samples:          10\n",
       "  evals/sample:     10"
      ]
     },
     "metadata": {},
     "output_type": "display_data"
    },
    {
     "name": "stdout",
     "output_type": "stream",
     "text": [
      "\n",
      "Currently at time 8.206774193548393 remaining and 7.2265912843832645 away.\n",
      "221 Steps at 8.206774193548393 s left. Hence, dt = 0.0373035190615836"
     ]
    },
    {
     "data": {
      "text/plain": [
       "BenchmarkTools.Trial: \n",
       "  memory estimate:  28.84 MiB\n",
       "  allocs estimate:  6050\n",
       "  --------------\n",
       "  minimum time:     22.505 ms (1.48% GC)\n",
       "  median time:      23.160 ms (1.54% GC)\n",
       "  mean time:        23.031 ms (1.48% GC)\n",
       "  maximum time:     23.334 ms (1.53% GC)\n",
       "  --------------\n",
       "  samples:          10\n",
       "  evals/sample:     10"
      ]
     },
     "metadata": {},
     "output_type": "display_data"
    },
    {
     "name": "stdout",
     "output_type": "stream",
     "text": [
      "\n",
      "\n",
      "Currently at time 8.087258064516135 remaining and 6.7114933632337115 away.\n",
      "219 Steps at 8.087258064516135 s left. Hence, dt = 0.03709751405741346"
     ]
    },
    {
     "data": {
      "text/plain": [
       "BenchmarkTools.Trial: \n",
       "  memory estimate:  28.62 MiB\n",
       "  allocs estimate:  6014\n",
       "  --------------\n",
       "  minimum time:     21.498 ms (0.82% GC)\n",
       "  median time:      21.934 ms (1.67% GC)\n",
       "  mean time:        22.045 ms (1.57% GC)\n",
       "  maximum time:     23.753 ms (1.54% GC)\n",
       "  --------------\n",
       "  samples:          10\n",
       "  evals/sample:     10"
      ]
     },
     "metadata": {},
     "output_type": "display_data"
    },
    {
     "name": "stdout",
     "output_type": "stream",
     "text": [
      "\n",
      "\n",
      "Currently at time 7.967741935483877 remaining and 6.2725701448890145 away.\n",
      "217 Steps at 7.967741935483877 s left. Hence, dt = 0.03688769414575869\n"
     ]
    },
    {
     "data": {
      "text/plain": [
       "BenchmarkTools.Trial: \n",
       "  memory estimate:  28.41 MiB\n",
       "  allocs estimate:  5978\n",
       "  --------------\n",
       "  minimum time:     21.115 ms (1.72% GC)\n",
       "  median time:      21.805 ms (1.67% GC)\n",
       "  mean time:        22.027 ms (1.50% GC)\n",
       "  maximum time:     24.193 ms (1.58% GC)\n",
       "  --------------\n",
       "  samples:          10\n",
       "  evals/sample:     10"
      ]
     },
     "metadata": {},
     "output_type": "display_data"
    },
    {
     "name": "stdout",
     "output_type": "stream",
     "text": [
      "\n",
      "Currently at time 7.8482258064516195 remaining and 5.905137292741158 away.\n",
      "215 Steps at 7.8482258064516195 s left. Hence, dt = 0.03667395236659635"
     ]
    },
    {
     "data": {
      "text/plain": [
       "BenchmarkTools.Trial: \n",
       "  memory estimate:  28.21 MiB\n",
       "  allocs estimate:  5942\n",
       "  --------------\n",
       "  minimum time:     19.897 ms (0.91% GC)\n",
       "  median time:      20.439 ms (1.79% GC)\n",
       "  mean time:        20.626 ms (1.64% GC)\n",
       "  maximum time:     22.795 ms (1.61% GC)\n",
       "  --------------\n",
       "  samples:          10\n",
       "  evals/sample:     10"
      ]
     },
     "metadata": {},
     "output_type": "display_data"
    },
    {
     "name": "stdout",
     "output_type": "stream",
     "text": [
      "\n",
      "\n",
      "Currently at time 7.728709677419362 remaining and 5.603494982577537 away.\n",
      "213 Steps at 7.728709677419362 s left. Hence, dt = 0.036456177723676236\n"
     ]
    },
    {
     "data": {
      "text/plain": [
       "BenchmarkTools.Trial: \n",
       "  memory estimate:  27.98 MiB\n",
       "  allocs estimate:  5906\n",
       "  --------------\n",
       "  minimum time:     20.455 ms (1.73% GC)\n",
       "  median time:      21.164 ms (1.74% GC)\n",
       "  mean time:        21.107 ms (1.58% GC)\n",
       "  maximum time:     21.654 ms (1.72% GC)\n",
       "  --------------\n",
       "  samples:          10\n",
       "  evals/sample:     10"
      ]
     },
     "metadata": {},
     "output_type": "display_data"
    },
    {
     "name": "stdout",
     "output_type": "stream",
     "text": [
      "\n",
      "Currently at time 7.609193548387104 remaining and 5.360976956826745 away.\n",
      "211 Steps at 7.609193548387104 s left. Hence, dt = 0.036234254992319546"
     ]
    },
    {
     "data": {
      "text/plain": [
       "BenchmarkTools.Trial: \n",
       "  memory estimate:  30.74 MiB\n",
       "  allocs estimate:  6196\n",
       "  --------------\n",
       "  minimum time:     21.687 ms (0.85% GC)\n",
       "  median time:      22.175 ms (1.68% GC)\n",
       "  mean time:        22.737 ms (1.57% GC)\n",
       "  maximum time:     25.026 ms (1.52% GC)\n",
       "  --------------\n",
       "  samples:          10\n",
       "  evals/sample:     10"
      ]
     },
     "metadata": {},
     "output_type": "display_data"
    },
    {
     "name": "stdout",
     "output_type": "stream",
     "text": [
      "\n",
      "\n",
      "Currently at time 7.489677419354846 remaining and 5.170156658879041 away.\n",
      "209 Steps at 7.489677419354846 s left. Hence, dt = 0.03600806451612907"
     ]
    },
    {
     "data": {
      "text/plain": [
       "BenchmarkTools.Trial: \n",
       "  memory estimate:  30.49 MiB\n",
       "  allocs estimate:  6160\n",
       "  --------------\n",
       "  minimum time:     21.542 ms (1.73% GC)\n",
       "  median time:      22.333 ms (1.70% GC)\n",
       "  mean time:        22.321 ms (1.64% GC)\n",
       "  maximum time:     23.616 ms (1.61% GC)\n",
       "  --------------\n",
       "  samples:          10\n",
       "  evals/sample:     10"
      ]
     },
     "metadata": {},
     "output_type": "display_data"
    },
    {
     "name": "stdout",
     "output_type": "stream",
     "text": [
      "\n",
      "\n",
      "Currently at time 7.370161290322589 remaining and 5.022271822844382 away.\n",
      "207 Steps at 7.370161290322589 s left. Hence, dt = 0.03577748199185723"
     ]
    },
    {
     "data": {
      "text/plain": [
       "BenchmarkTools.Trial: \n",
       "  memory estimate:  30.26 MiB\n",
       "  allocs estimate:  6124\n",
       "  --------------\n",
       "  minimum time:     20.525 ms (0.92% GC)\n",
       "  median time:      21.154 ms (1.83% GC)\n",
       "  mean time:        21.816 ms (1.69% GC)\n",
       "  maximum time:     25.584 ms (1.51% GC)\n",
       "  --------------\n",
       "  samples:          10\n",
       "  evals/sample:     10"
      ]
     },
     "metadata": {},
     "output_type": "display_data"
    },
    {
     "name": "stdout",
     "output_type": "stream",
     "text": [
      "\n",
      "\n",
      "Currently at time 7.250645161290331 remaining and 4.910905807579922 away.\n",
      "205 Steps at 7.250645161290331 s left. Hence, dt = 0.035542378241619266"
     ]
    },
    {
     "data": {
      "text/plain": [
       "BenchmarkTools.Trial: \n",
       "  memory estimate:  30.03 MiB\n",
       "  allocs estimate:  6088\n",
       "  --------------\n",
       "  minimum time:     20.865 ms (0.93% GC)\n",
       "  median time:      21.439 ms (1.79% GC)\n",
       "  mean time:        21.917 ms (1.61% GC)\n",
       "  maximum time:     23.984 ms (1.58% GC)\n",
       "  --------------\n",
       "  samples:          10\n",
       "  evals/sample:     10"
      ]
     },
     "metadata": {},
     "output_type": "display_data"
    },
    {
     "name": "stdout",
     "output_type": "stream",
     "text": [
      "\n",
      "\n",
      "Currently at time 7.131129032258073 remaining and 4.828268831497016 away.\n",
      "203 Steps at 7.131129032258073 s left. Hence, dt = 0.03530261897157462"
     ]
    },
    {
     "data": {
      "text/plain": [
       "BenchmarkTools.Trial: \n",
       "  memory estimate:  29.78 MiB\n",
       "  allocs estimate:  6052\n",
       "  --------------\n",
       "  minimum time:     20.088 ms (1.83% GC)\n",
       "  median time:      20.625 ms (1.91% GC)\n",
       "  mean time:        20.987 ms (1.70% GC)\n",
       "  maximum time:     23.226 ms (1.75% GC)\n",
       "  --------------\n",
       "  samples:          10\n",
       "  evals/sample:     10"
      ]
     },
     "metadata": {},
     "output_type": "display_data"
    },
    {
     "name": "stdout",
     "output_type": "stream",
     "text": [
      "\n",
      "\n",
      "Currently at time 7.011612903225815 remaining and 4.767214427586604 away.\n",
      "201 Steps at 7.011612903225815 s left. Hence, dt = 0.03505806451612908"
     ]
    },
    {
     "data": {
      "text/plain": [
       "BenchmarkTools.Trial: \n",
       "  memory estimate:  29.55 MiB\n",
       "  allocs estimate:  6016\n",
       "  --------------\n",
       "  minimum time:     20.342 ms (0.95% GC)\n",
       "  median time:      21.135 ms (1.81% GC)\n",
       "  mean time:        21.486 ms (1.67% GC)\n",
       "  maximum time:     23.008 ms (1.74% GC)\n",
       "  --------------\n",
       "  samples:          10\n",
       "  evals/sample:     10"
      ]
     },
     "metadata": {},
     "output_type": "display_data"
    },
    {
     "name": "stdout",
     "output_type": "stream",
     "text": [
      "\n",
      "\n",
      "Currently at time 6.892096774193558 remaining and 4.721437392688763 away.\n",
      "199 Steps at 6.892096774193558 s left. Hence, dt = 0.03480856956663413"
     ]
    },
    {
     "data": {
      "text/plain": [
       "BenchmarkTools.Trial: \n",
       "  memory estimate:  32.16 MiB\n",
       "  allocs estimate:  6306\n",
       "  --------------\n",
       "  minimum time:     21.450 ms (1.74% GC)\n",
       "  median time:      22.206 ms (1.76% GC)\n",
       "  mean time:        22.410 ms (1.66% GC)\n",
       "  maximum time:     25.387 ms (1.55% GC)\n",
       "  --------------\n",
       "  samples:          10\n",
       "  evals/sample:     10"
      ]
     },
     "metadata": {},
     "output_type": "display_data"
    },
    {
     "name": "stdout",
     "output_type": "stream",
     "text": [
      "\n",
      "\n",
      "Currently at time 6.7725806451613 remaining and 4.685572694657429 away.\n",
      "197 Steps at 6.7725806451613 s left. Hence, dt = 0.03455398288347602"
     ]
    },
    {
     "data": {
      "text/plain": [
       "BenchmarkTools.Trial: \n",
       "  memory estimate:  29.09 MiB\n",
       "  allocs estimate:  5944\n",
       "  --------------\n",
       "  minimum time:     20.013 ms (0.96% GC)\n",
       "  median time:      20.831 ms (1.88% GC)\n",
       "  mean time:        20.943 ms (1.61% GC)\n",
       "  maximum time:     22.785 ms (1.73% GC)\n",
       "  --------------\n",
       "  samples:          10\n",
       "  evals/sample:     10"
      ]
     },
     "metadata": {},
     "output_type": "display_data"
    },
    {
     "name": "stdout",
     "output_type": "stream",
     "text": [
      "\n",
      "\n",
      "Currently at time 6.653064516129042 remaining and 4.655176245841988 away.\n",
      "195 Steps at 6.653064516129042 s left. Hence, dt = 0.034294146990355885"
     ]
    },
    {
     "data": {
      "text/plain": [
       "BenchmarkTools.Trial: \n",
       "  memory estimate:  28.86 MiB\n",
       "  allocs estimate:  5908\n",
       "  --------------\n",
       "  minimum time:     19.666 ms (1.03% GC)\n",
       "  median time:      20.260 ms (1.96% GC)\n",
       "  mean time:        20.499 ms (1.66% GC)\n",
       "  maximum time:     22.576 ms (1.80% GC)\n",
       "  --------------\n",
       "  samples:          10\n",
       "  evals/sample:     10"
      ]
     },
     "metadata": {},
     "output_type": "display_data"
    },
    {
     "name": "stdout",
     "output_type": "stream",
     "text": [
      "\n",
      "\n",
      "Currently at time 6.5335483870967845 remaining and 4.626620612237615 away.\n",
      "193 Steps at 6.5335483870967845 s left. Hence, dt = 0.03402889784946242\n"
     ]
    },
    {
     "data": {
      "text/plain": [
       "BenchmarkTools.Trial: \n",
       "  memory estimate:  28.61 MiB\n",
       "  allocs estimate:  5872\n",
       "  --------------\n",
       "  minimum time:     19.371 ms (1.08% GC)\n",
       "  median time:      20.190 ms (2.05% GC)\n",
       "  mean time:        20.723 ms (1.72% GC)\n",
       "  maximum time:     24.116 ms (1.77% GC)\n",
       "  --------------\n",
       "  samples:          10\n",
       "  evals/sample:     10"
      ]
     },
     "metadata": {},
     "output_type": "display_data"
    },
    {
     "name": "stdout",
     "output_type": "stream",
     "text": [
      "\n",
      "Currently at time 6.414032258064527 remaining and 4.59713678463711 away.\n",
      "191 Steps at 6.414032258064527 s left. Hence, dt = 0.03375806451612909\n"
     ]
    },
    {
     "data": {
      "text/plain": [
       "BenchmarkTools.Trial: \n",
       "  memory estimate:  28.40 MiB\n",
       "  allocs estimate:  5836\n",
       "  --------------\n",
       "  minimum time:     18.408 ms (1.13% GC)\n",
       "  median time:      19.420 ms (2.02% GC)\n",
       "  mean time:        19.551 ms (1.67% GC)\n",
       "  maximum time:     21.360 ms (1.09% GC)\n",
       "  --------------\n",
       "  samples:          10\n",
       "  evals/sample:     10"
      ]
     },
     "metadata": {},
     "output_type": "display_data"
    },
    {
     "name": "stdout",
     "output_type": "stream",
     "text": [
      "\n",
      "Currently at time 6.294516129032269 remaining and 4.564657406213244 away.\n",
      "189 Steps at 6.294516129032269 s left. Hence, dt = 0.03348146877144824"
     ]
    },
    {
     "data": {
      "text/plain": [
       "BenchmarkTools.Trial: \n",
       "  memory estimate:  28.15 MiB\n",
       "  allocs estimate:  5800\n",
       "  --------------\n",
       "  minimum time:     18.031 ms (1.07% GC)\n",
       "  median time:      19.449 ms (2.08% GC)\n",
       "  mean time:        19.420 ms (1.75% GC)\n",
       "  maximum time:     20.499 ms (2.11% GC)\n",
       "  --------------\n",
       "  samples:          10\n",
       "  evals/sample:     10"
      ]
     },
     "metadata": {},
     "output_type": "display_data"
    },
    {
     "name": "stdout",
     "output_type": "stream",
     "text": [
      "\n",
      "\n",
      "Currently at time 6.175000000000011 remaining and 4.5277372144001315 away.\n",
      "187 Steps at 6.175000000000011 s left. Hence, dt = 0.033198924731182855"
     ]
    },
    {
     "data": {
      "text/plain": [
       "BenchmarkTools.Trial: \n",
       "  memory estimate:  27.85 MiB\n",
       "  allocs estimate:  5764\n",
       "  --------------\n",
       "  minimum time:     18.305 ms (1.15% GC)\n",
       "  median time:      19.466 ms (2.09% GC)\n",
       "  mean time:        19.646 ms (1.72% GC)\n",
       "  maximum time:     21.994 ms (1.86% GC)\n",
       "  --------------\n",
       "  samples:          10\n",
       "  evals/sample:     10"
      ]
     },
     "metadata": {},
     "output_type": "display_data"
    },
    {
     "name": "stdout",
     "output_type": "stream",
     "text": [
      "\n",
      "\n",
      "Currently at time 6.055483870967754 remaining and 4.485609368684092 away.\n",
      "185 Steps at 6.055483870967754 s left. Hence, dt = 0.032910238429172574"
     ]
    },
    {
     "data": {
      "text/plain": [
       "BenchmarkTools.Trial: \n",
       "  memory estimate:  27.54 MiB\n",
       "  allocs estimate:  5728\n",
       "  --------------\n",
       "  minimum time:     18.189 ms (1.15% GC)\n",
       "  median time:      19.056 ms (1.62% GC)\n",
       "  mean time:        19.525 ms (1.66% GC)\n",
       "  maximum time:     21.945 ms (2.06% GC)\n",
       "  --------------\n",
       "  samples:          10\n",
       "  evals/sample:     10"
      ]
     },
     "metadata": {},
     "output_type": "display_data"
    },
    {
     "name": "stdout",
     "output_type": "stream",
     "text": [
      "\n",
      "\n",
      "Currently at time 5.935967741935496 remaining and 4.438142853763124 away.\n",
      "183 Steps at 5.935967741935496 s left. Hence, dt = 0.032615207373271955"
     ]
    },
    {
     "data": {
      "text/plain": [
       "BenchmarkTools.Trial: \n",
       "  memory estimate:  27.24 MiB\n",
       "  allocs estimate:  5692\n",
       "  --------------\n",
       "  minimum time:     17.625 ms (1.15% GC)\n",
       "  median time:      18.875 ms (1.77% GC)\n",
       "  mean time:        19.017 ms (1.80% GC)\n",
       "  maximum time:     21.181 ms (2.52% GC)\n",
       "  --------------\n",
       "  samples:          10\n",
       "  evals/sample:     10"
      ]
     },
     "metadata": {},
     "output_type": "display_data"
    },
    {
     "name": "stdout",
     "output_type": "stream",
     "text": [
      "\n",
      "\n",
      "Currently at time 5.816451612903238 remaining and 4.38546149557558 away.\n",
      "181 Steps at 5.816451612903238 s left. Hence, dt = 0.03231362007168466"
     ]
    },
    {
     "data": {
      "text/plain": [
       "BenchmarkTools.Trial: \n",
       "  memory estimate:  26.96 MiB\n",
       "  allocs estimate:  5656\n",
       "  --------------\n",
       "  minimum time:     17.557 ms (1.20% GC)\n",
       "  median time:      18.485 ms (1.82% GC)\n",
       "  mean time:        18.637 ms (1.91% GC)\n",
       "  maximum time:     20.588 ms (1.11% GC)\n",
       "  --------------\n",
       "  samples:          10\n",
       "  evals/sample:     10"
      ]
     },
     "metadata": {},
     "output_type": "display_data"
    },
    {
     "name": "stdout",
     "output_type": "stream",
     "text": [
      "\n",
      "\n",
      "Currently at time 5.6969354838709805 remaining and 4.327715652173136 away.\n",
      "179 Steps at 5.6969354838709805 s left. Hence, dt = 0.03200525552736506"
     ]
    },
    {
     "data": {
      "text/plain": [
       "BenchmarkTools.Trial: \n",
       "  memory estimate:  26.66 MiB\n",
       "  allocs estimate:  5620\n",
       "  --------------\n",
       "  minimum time:     17.793 ms (1.24% GC)\n",
       "  median time:      18.858 ms (1.78% GC)\n",
       "  mean time:        18.846 ms (1.79% GC)\n",
       "  maximum time:     20.163 ms (1.21% GC)\n",
       "  --------------\n",
       "  samples:          10\n",
       "  evals/sample:     10"
      ]
     },
     "metadata": {},
     "output_type": "display_data"
    },
    {
     "name": "stdout",
     "output_type": "stream",
     "text": [
      "\n",
      "\n",
      "Currently at time 5.577419354838723 remaining and 4.26507363790074 away.\n",
      "177 Steps at 5.577419354838723 s left. Hence, dt = 0.031689882697947286"
     ]
    },
    {
     "data": {
      "text/plain": [
       "BenchmarkTools.Trial: \n",
       "  memory estimate:  26.35 MiB\n",
       "  allocs estimate:  5584\n",
       "  --------------\n",
       "  minimum time:     17.455 ms (1.16% GC)\n",
       "  median time:      18.438 ms (1.22% GC)\n",
       "  mean time:        18.636 ms (1.62% GC)\n",
       "  maximum time:     21.725 ms (2.03% GC)\n",
       "  --------------\n",
       "  samples:          10\n",
       "  evals/sample:     10"
      ]
     },
     "metadata": {},
     "output_type": "display_data"
    },
    {
     "name": "stdout",
     "output_type": "stream",
     "text": [
      "\n",
      "\n",
      "Currently at time 5.457903225806465 remaining and 4.197719427234451 away.\n",
      "175 Steps at 5.457903225806465 s left. Hence, dt = 0.03136725991842796\n"
     ]
    },
    {
     "data": {
      "text/plain": [
       "BenchmarkTools.Trial: \n",
       "  memory estimate:  26.05 MiB\n",
       "  allocs estimate:  5548\n",
       "  --------------\n",
       "  minimum time:     17.145 ms (1.24% GC)\n",
       "  median time:      17.815 ms (1.42% GC)\n",
       "  mean time:        17.786 ms (1.77% GC)\n",
       "  maximum time:     18.427 ms (2.36% GC)\n",
       "  --------------\n",
       "  samples:          10\n",
       "  evals/sample:     10"
      ]
     },
     "metadata": {},
     "output_type": "display_data"
    },
    {
     "name": "stdout",
     "output_type": "stream",
     "text": [
      "\n",
      "Currently at time 5.338387096774207 remaining and 4.125850647275251 away.\n",
      "173 Steps at 5.338387096774207 s left. Hence, dt = 0.031037134283570973"
     ]
    },
    {
     "data": {
      "text/plain": [
       "BenchmarkTools.Trial: \n",
       "  memory estimate:  25.77 MiB\n",
       "  allocs estimate:  5512\n",
       "  --------------\n",
       "  minimum time:     17.049 ms (1.25% GC)\n",
       "  median time:      17.351 ms (1.32% GC)\n",
       "  mean time:        17.867 ms (1.76% GC)\n",
       "  maximum time:     20.372 ms (2.24% GC)\n",
       "  --------------\n",
       "  samples:          10\n",
       "  evals/sample:     10"
      ]
     },
     "metadata": {},
     "output_type": "display_data"
    },
    {
     "name": "stdout",
     "output_type": "stream",
     "text": [
      "\n",
      "\n",
      "Currently at time 5.21887096774195 remaining and 4.04967685944741 away.\n",
      "171 Steps at 5.21887096774195 s left. Hence, dt = 0.03069924098671735\n"
     ]
    },
    {
     "data": {
      "text/plain": [
       "BenchmarkTools.Trial: \n",
       "  memory estimate:  25.46 MiB\n",
       "  allocs estimate:  5476\n",
       "  --------------\n",
       "  minimum time:     16.678 ms (1.24% GC)\n",
       "  median time:      17.528 ms (1.24% GC)\n",
       "  mean time:        17.755 ms (1.59% GC)\n",
       "  maximum time:     19.848 ms (1.09% GC)\n",
       "  --------------\n",
       "  samples:          10\n",
       "  evals/sample:     10"
      ]
     },
     "metadata": {},
     "output_type": "display_data"
    },
    {
     "name": "stdout",
     "output_type": "stream",
     "text": [
      "\n",
      "Currently at time 5.099354838709692 remaining and 3.9694180238238737 away.\n",
      "169 Steps at 5.099354838709692 s left. Hence, dt = 0.030353302611367212"
     ]
    },
    {
     "data": {
      "text/plain": [
       "BenchmarkTools.Trial: \n",
       "  memory estimate:  25.16 MiB\n",
       "  allocs estimate:  5440\n",
       "  --------------\n",
       "  minimum time:     16.498 ms (1.22% GC)\n",
       "  median time:      17.644 ms (1.21% GC)\n",
       "  mean time:        17.736 ms (1.56% GC)\n",
       "  maximum time:     19.599 ms (1.07% GC)\n",
       "  --------------\n",
       "  samples:          10\n",
       "  evals/sample:     10"
      ]
     },
     "metadata": {},
     "output_type": "display_data"
    },
    {
     "name": "stdout",
     "output_type": "stream",
     "text": [
      "\n",
      "\n",
      "Currently at time 4.979838709677434 remaining and 3.885303173178185 away.\n",
      "167 Steps at 4.979838709677434 s left. Hence, dt = 0.029999028371550808"
     ]
    },
    {
     "data": {
      "text/plain": [
       "BenchmarkTools.Trial: \n",
       "  memory estimate:  24.86 MiB\n",
       "  allocs estimate:  5404\n",
       "  --------------\n",
       "  minimum time:     16.374 ms (1.24% GC)\n",
       "  median time:      17.144 ms (1.29% GC)\n",
       "  mean time:        17.242 ms (1.63% GC)\n",
       "  maximum time:     18.314 ms (1.18% GC)\n",
       "  --------------\n",
       "  samples:          10\n",
       "  evals/sample:     10"
      ]
     },
     "metadata": {},
     "output_type": "display_data"
    },
    {
     "name": "stdout",
     "output_type": "stream",
     "text": [
      "\n",
      "\n",
      "Currently at time 4.860322580645176 remaining and 3.7975692584474485 away.\n",
      "165 Steps at 4.860322580645176 s left. Hence, dt = 0.02963611329661693"
     ]
    },
    {
     "data": {
      "text/plain": [
       "BenchmarkTools.Trial: \n",
       "  memory estimate:  24.58 MiB\n",
       "  allocs estimate:  5368\n",
       "  --------------\n",
       "  minimum time:     16.208 ms (1.26% GC)\n",
       "  median time:      16.807 ms (1.32% GC)\n",
       "  mean time:        16.971 ms (1.69% GC)\n",
       "  maximum time:     17.776 ms (2.56% GC)\n",
       "  --------------\n",
       "  samples:          10\n",
       "  evals/sample:     10"
      ]
     },
     "metadata": {},
     "output_type": "display_data"
    },
    {
     "name": "stdout",
     "output_type": "stream",
     "text": [
      "\n",
      "\n",
      "Currently at time 4.740806451612919 remaining and 3.7064600822544405 away.\n",
      "163 Steps at 4.740806451612919 s left. Hence, dt = 0.0292642373556353"
     ]
    },
    {
     "data": {
      "text/plain": [
       "BenchmarkTools.Trial: \n",
       "  memory estimate:  24.27 MiB\n",
       "  allocs estimate:  5332\n",
       "  --------------\n",
       "  minimum time:     16.090 ms (1.40% GC)\n",
       "  median time:      16.520 ms (1.37% GC)\n",
       "  mean time:        16.949 ms (1.60% GC)\n",
       "  maximum time:     19.441 ms (1.14% GC)\n",
       "  --------------\n",
       "  samples:          10\n",
       "  evals/sample:     10"
      ]
     },
     "metadata": {},
     "output_type": "display_data"
    },
    {
     "name": "stdout",
     "output_type": "stream",
     "text": [
      "\n",
      "\n",
      "Currently at time 4.621290322580661 remaining and 3.6122253684110084 away.\n",
      "161 Steps at 4.621290322580661 s left. Hence, dt = 0.028883064516129132"
     ]
    },
    {
     "data": {
      "text/plain": [
       "BenchmarkTools.Trial: \n",
       "  memory estimate:  23.97 MiB\n",
       "  allocs estimate:  5296\n",
       "  --------------\n",
       "  minimum time:     16.164 ms (1.25% GC)\n",
       "  median time:      16.687 ms (1.27% GC)\n",
       "  mean time:        16.779 ms (1.51% GC)\n",
       "  maximum time:     17.298 ms (2.47% GC)\n",
       "  --------------\n",
       "  samples:          10\n",
       "  evals/sample:     10"
      ]
     },
     "metadata": {},
     "output_type": "display_data"
    },
    {
     "name": "stdout",
     "output_type": "stream",
     "text": [
      "\n",
      "\n",
      "Currently at time 4.501774193548403 remaining and 3.515119961886641 away.\n",
      "159 Steps at 4.501774193548403 s left. Hence, dt = 0.028492241731319007"
     ]
    },
    {
     "data": {
      "text/plain": [
       "BenchmarkTools.Trial: \n",
       "  memory estimate:  23.67 MiB\n",
       "  allocs estimate:  5256\n",
       "  --------------\n",
       "  minimum time:     16.259 ms (1.31% GC)\n",
       "  median time:      17.398 ms (1.27% GC)\n",
       "  mean time:        17.561 ms (1.55% GC)\n",
       "  maximum time:     19.439 ms (1.12% GC)\n",
       "  --------------\n",
       "  samples:          10\n",
       "  evals/sample:     10"
      ]
     },
     "metadata": {},
     "output_type": "display_data"
    },
    {
     "name": "stdout",
     "output_type": "stream",
     "text": [
      "\n",
      "\n",
      "Currently at time 4.3822580645161455 remaining and 3.4154030105159285 away.\n",
      "157 Steps at 4.3822580645161455 s left. Hence, dt = 0.02809139784946247"
     ]
    },
    {
     "data": {
      "text/plain": [
       "BenchmarkTools.Trial: \n",
       "  memory estimate:  23.39 MiB\n",
       "  allocs estimate:  5220\n",
       "  --------------\n",
       "  minimum time:     15.984 ms (1.33% GC)\n",
       "  median time:      17.140 ms (1.31% GC)\n",
       "  mean time:        16.913 ms (1.58% GC)\n",
       "  maximum time:     17.836 ms (1.14% GC)\n",
       "  --------------\n",
       "  samples:          10\n",
       "  evals/sample:     10"
      ]
     },
     "metadata": {},
     "output_type": "display_data"
    },
    {
     "name": "stdout",
     "output_type": "stream",
     "text": [
      "\n",
      "\n",
      "Currently at time 4.262741935483888 remaining and 3.3133373148464917 away.\n",
      "155 Steps at 4.262741935483888 s left. Hence, dt = 0.027680142438207062\n"
     ]
    },
    {
     "data": {
      "text/plain": [
       "BenchmarkTools.Trial: \n",
       "  memory estimate:  23.08 MiB\n",
       "  allocs estimate:  5184\n",
       "  --------------\n",
       "  minimum time:     16.029 ms (1.48% GC)\n",
       "  median time:      16.698 ms (1.41% GC)\n",
       "  mean time:        16.737 ms (1.68% GC)\n",
       "  maximum time:     18.134 ms (1.20% GC)\n",
       "  --------------\n",
       "  samples:          10\n",
       "  evals/sample:     10"
      ]
     },
     "metadata": {},
     "output_type": "display_data"
    },
    {
     "name": "stdout",
     "output_type": "stream",
     "text": [
      "\n",
      "Currently at time 4.14322580645163 remaining and 3.2091886518019566 away.\n",
      "153 Steps at 4.14322580645163 s left. Hence, dt = 0.027258064516129145"
     ]
    },
    {
     "data": {
      "text/plain": [
       "BenchmarkTools.Trial: \n",
       "  memory estimate:  22.78 MiB\n",
       "  allocs estimate:  5148\n",
       "  --------------\n",
       "  minimum time:     15.397 ms (1.38% GC)\n",
       "  median time:      16.014 ms (1.43% GC)\n",
       "  mean time:        16.369 ms (1.53% GC)\n",
       "  maximum time:     18.138 ms (2.54% GC)\n",
       "  --------------\n",
       "  samples:          10\n",
       "  evals/sample:     10"
      ]
     },
     "metadata": {},
     "output_type": "display_data"
    },
    {
     "name": "stdout",
     "output_type": "stream",
     "text": [
      "\n",
      "\n",
      "Currently at time 4.023709677419372 remaining and 3.1032251341939716 away.\n",
      "151 Steps at 4.023709677419372 s left. Hence, dt = 0.026824731182795814"
     ]
    },
    {
     "data": {
      "text/plain": [
       "BenchmarkTools.Trial: \n",
       "  memory estimate:  22.48 MiB\n",
       "  allocs estimate:  5112\n",
       "  --------------\n",
       "  minimum time:     15.402 ms (1.70% GC)\n",
       "  median time:      16.021 ms (1.44% GC)\n",
       "  mean time:        16.154 ms (1.63% GC)\n",
       "  maximum time:     18.028 ms (1.26% GC)\n",
       "  --------------\n",
       "  samples:          10\n",
       "  evals/sample:     10"
      ]
     },
     "metadata": {},
     "output_type": "display_data"
    },
    {
     "name": "stdout",
     "output_type": "stream",
     "text": [
      "\n",
      "\n",
      "Currently at time 3.904193548387114 remaining and 2.995716660270831 away.\n",
      "149 Steps at 3.904193548387114 s left. Hence, dt = 0.026379686137750772\n"
     ]
    },
    {
     "data": {
      "text/plain": [
       "BenchmarkTools.Trial: \n",
       "  memory estimate:  22.19 MiB\n",
       "  allocs estimate:  5076\n",
       "  --------------\n",
       "  minimum time:     15.150 ms (1.48% GC)\n",
       "  median time:      15.760 ms (1.43% GC)\n",
       "  mean time:        15.927 ms (1.56% GC)\n",
       "  maximum time:     17.177 ms (1.32% GC)\n",
       "  --------------\n",
       "  samples:          10\n",
       "  evals/sample:     10"
      ]
     },
     "metadata": {},
     "output_type": "display_data"
    },
    {
     "name": "stdout",
     "output_type": "stream",
     "text": [
      "\n",
      "Currently at time 3.784677419354856 remaining and 2.886934275427835 away.\n",
      "147 Steps at 3.784677419354856 s left. Hence, dt = 0.025922448077772987\n"
     ]
    },
    {
     "data": {
      "text/plain": [
       "BenchmarkTools.Trial: \n",
       "  memory estimate:  21.89 MiB\n",
       "  allocs estimate:  5040\n",
       "  --------------\n",
       "  minimum time:     14.421 ms (1.52% GC)\n",
       "  median time:      15.016 ms (1.54% GC)\n",
       "  mean time:        15.336 ms (1.71% GC)\n",
       "  maximum time:     18.428 ms (1.72% GC)\n",
       "  --------------\n",
       "  samples:          10\n",
       "  evals/sample:     10"
      ]
     },
     "metadata": {},
     "output_type": "display_data"
    },
    {
     "name": "stdout",
     "output_type": "stream",
     "text": [
      "\n",
      "Currently at time 3.665161290322598 remaining and 2.777149626485748 away.\n",
      "145 Steps at 3.665161290322598 s left. Hence, dt = 0.025452508960573595"
     ]
    },
    {
     "data": {
      "text/plain": [
       "BenchmarkTools.Trial: \n",
       "  memory estimate:  21.59 MiB\n",
       "  allocs estimate:  5004\n",
       "  --------------\n",
       "  minimum time:     14.847 ms (1.49% GC)\n",
       "  median time:      15.175 ms (1.59% GC)\n",
       "  mean time:        15.363 ms (1.80% GC)\n",
       "  maximum time:     16.351 ms (3.04% GC)\n",
       "  --------------\n",
       "  samples:          10\n",
       "  evals/sample:     10"
      ]
     },
     "metadata": {},
     "output_type": "display_data"
    },
    {
     "name": "stdout",
     "output_type": "stream",
     "text": [
      "\n",
      "\n",
      "Currently at time 3.5456451612903397 remaining and 2.6666342772116898 away.\n",
      "143 Steps at 3.5456451612903397 s left. Hence, dt = 0.024969332121762954"
     ]
    },
    {
     "data": {
      "text/plain": [
       "BenchmarkTools.Trial: \n",
       "  memory estimate:  21.28 MiB\n",
       "  allocs estimate:  4968\n",
       "  --------------\n",
       "  minimum time:     14.217 ms (1.52% GC)\n",
       "  median time:      15.045 ms (1.52% GC)\n",
       "  mean time:        15.279 ms (1.50% GC)\n",
       "  maximum time:     17.848 ms (1.31% GC)\n",
       "  --------------\n",
       "  samples:          10\n",
       "  evals/sample:     10"
      ]
     },
     "metadata": {},
     "output_type": "display_data"
    },
    {
     "name": "stdout",
     "output_type": "stream",
     "text": [
      "\n",
      "\n",
      "Currently at time 3.4261290322580815 remaining and 2.5556591120012633 away.\n",
      "141 Steps at 3.4261290322580815 s left. Hence, dt = 0.024472350230414868\n"
     ]
    },
    {
     "data": {
      "text/plain": [
       "BenchmarkTools.Trial: \n",
       "  memory estimate:  21.00 MiB\n",
       "  allocs estimate:  4932\n",
       "  --------------\n",
       "  minimum time:     14.102 ms (1.66% GC)\n",
       "  median time:      14.402 ms (1.67% GC)\n",
       "  mean time:        14.722 ms (1.64% GC)\n",
       "  maximum time:     17.024 ms (1.62% GC)\n",
       "  --------------\n",
       "  samples:          10\n",
       "  evals/sample:     10"
      ]
     },
     "metadata": {},
     "output_type": "display_data"
    },
    {
     "name": "stdout",
     "output_type": "stream",
     "text": [
      "\n",
      "Currently at time 3.3066129032258234 remaining and 2.444493666099655 away.\n",
      "139 Steps at 3.3066129032258234 s left. Hence, dt = 0.02396096306685379"
     ]
    },
    {
     "data": {
      "text/plain": [
       "BenchmarkTools.Trial: \n",
       "  memory estimate:  20.70 MiB\n",
       "  allocs estimate:  4896\n",
       "  --------------\n",
       "  minimum time:     14.026 ms (1.62% GC)\n",
       "  median time:      15.486 ms (1.55% GC)\n",
       "  mean time:        15.170 ms (1.61% GC)\n",
       "  maximum time:     16.196 ms (1.55% GC)\n",
       "  --------------\n",
       "  samples:          10\n",
       "  evals/sample:     10"
      ]
     },
     "metadata": {},
     "output_type": "display_data"
    },
    {
     "name": "stdout",
     "output_type": "stream",
     "text": [
      "\n",
      "\n",
      "Currently at time 3.187096774193565 remaining and 2.333405276462284 away.\n",
      "137 Steps at 3.187096774193565 s left. Hence, dt = 0.02343453510436445"
     ]
    },
    {
     "data": {
      "text/plain": [
       "BenchmarkTools.Trial: \n",
       "  memory estimate:  20.39 MiB\n",
       "  allocs estimate:  4860\n",
       "  --------------\n",
       "  minimum time:     13.933 ms (1.72% GC)\n",
       "  median time:      14.544 ms (1.65% GC)\n",
       "  mean time:        15.038 ms (1.69% GC)\n",
       "  maximum time:     19.789 ms (2.00% GC)\n",
       "  --------------\n",
       "  samples:          10\n",
       "  evals/sample:     10"
      ]
     },
     "metadata": {},
     "output_type": "display_data"
    },
    {
     "name": "stdout",
     "output_type": "stream",
     "text": [
      "\n",
      "\n",
      "Currently at time 3.067580645161307 remaining and 2.2226582864102276 away.\n",
      "135 Steps at 3.067580645161307 s left. Hence, dt = 0.022892392874338113\n"
     ]
    },
    {
     "data": {
      "text/plain": [
       "BenchmarkTools.Trial: \n",
       "  memory estimate:  20.09 MiB\n",
       "  allocs estimate:  4824\n",
       "  --------------\n",
       "  minimum time:     14.041 ms (1.69% GC)\n",
       "  median time:      14.621 ms (1.62% GC)\n",
       "  mean time:        15.186 ms (1.57% GC)\n",
       "  maximum time:     18.398 ms (1.29% GC)\n",
       "  --------------\n",
       "  samples:          10\n",
       "  evals/sample:     10"
      ]
     },
     "metadata": {},
     "output_type": "display_data"
    },
    {
     "name": "stdout",
     "output_type": "stream",
     "text": [
      "\n",
      "Currently at time 2.948064516129049 remaining and 2.1125130474891707 away.\n",
      "133 Steps at 2.948064516129049 s left. Hence, dt = 0.022333822091886734"
     ]
    },
    {
     "data": {
      "text/plain": [
       "BenchmarkTools.Trial: \n",
       "  memory estimate:  19.81 MiB\n",
       "  allocs estimate:  4788\n",
       "  --------------\n",
       "  minimum time:     13.374 ms (0.00% GC)\n",
       "  median time:      13.992 ms (1.69% GC)\n",
       "  mean time:        14.149 ms (1.49% GC)\n",
       "  maximum time:     16.239 ms (1.46% GC)\n",
       "  --------------\n",
       "  samples:          10\n",
       "  evals/sample:     10"
      ]
     },
     "metadata": {},
     "output_type": "display_data"
    },
    {
     "name": "stdout",
     "output_type": "stream",
     "text": [
      "\n",
      "\n",
      "Currently at time 2.8285483870967907 remaining and 2.0032248359757667 away.\n",
      "131 Steps at 2.8285483870967907 s left. Hence, dt = 0.02175806451612916"
     ]
    },
    {
     "data": {
      "text/plain": [
       "BenchmarkTools.Trial: \n",
       "  memory estimate:  19.51 MiB\n",
       "  allocs estimate:  4752\n",
       "  --------------\n",
       "  minimum time:     13.068 ms (0.00% GC)\n",
       "  median time:      13.742 ms (1.73% GC)\n",
       "  mean time:        13.873 ms (1.60% GC)\n",
       "  maximum time:     15.632 ms (1.51% GC)\n",
       "  --------------\n",
       "  samples:          10\n",
       "  evals/sample:     10"
      ]
     },
     "metadata": {},
     "output_type": "display_data"
    },
    {
     "name": "stdout",
     "output_type": "stream",
     "text": [
      "\n",
      "\n",
      "Currently at time 2.7090322580645325 remaining and 1.8950425578305614 away.\n",
      "129 Steps at 2.7090322580645325 s left. Hence, dt = 0.02116431451612916"
     ]
    },
    {
     "data": {
      "text/plain": [
       "BenchmarkTools.Trial: \n",
       "  memory estimate:  19.20 MiB\n",
       "  allocs estimate:  4716\n",
       "  --------------\n",
       "  minimum time:     12.820 ms (0.00% GC)\n",
       "  median time:      13.584 ms (1.74% GC)\n",
       "  mean time:        13.720 ms (1.55% GC)\n",
       "  maximum time:     15.453 ms (1.57% GC)\n",
       "  --------------\n",
       "  samples:          10\n",
       "  evals/sample:     10"
      ]
     },
     "metadata": {},
     "output_type": "display_data"
    },
    {
     "name": "stdout",
     "output_type": "stream",
     "text": [
      "\n",
      "\n",
      "Currently at time 2.5895161290322743 remaining and 1.7882072748035722 away.\n",
      "127 Steps at 2.5895161290322743 s left. Hence, dt = 0.020551715309779957"
     ]
    },
    {
     "data": {
      "text/plain": [
       "BenchmarkTools.Trial: \n",
       "  memory estimate:  18.90 MiB\n",
       "  allocs estimate:  4680\n",
       "  --------------\n",
       "  minimum time:     12.455 ms (0.00% GC)\n",
       "  median time:      12.984 ms (1.92% GC)\n",
       "  mean time:        13.169 ms (1.74% GC)\n",
       "  maximum time:     14.932 ms (1.76% GC)\n",
       "  --------------\n",
       "  samples:          10\n",
       "  evals/sample:     10"
      ]
     },
     "metadata": {},
     "output_type": "display_data"
    },
    {
     "name": "stdout",
     "output_type": "stream",
     "text": [
      "\n",
      "\n",
      "Currently at time 2.470000000000016 remaining and 1.6829504064923082 away.\n",
      "125 Steps at 2.470000000000016 s left. Hence, dt = 0.019919354838709807"
     ]
    },
    {
     "data": {
      "text/plain": [
       "BenchmarkTools.Trial: \n",
       "  memory estimate:  18.62 MiB\n",
       "  allocs estimate:  4644\n",
       "  --------------\n",
       "  minimum time:     12.079 ms (0.00% GC)\n",
       "  median time:      12.842 ms (1.90% GC)\n",
       "  mean time:        12.760 ms (1.73% GC)\n",
       "  maximum time:     13.094 ms (1.88% GC)\n",
       "  --------------\n",
       "  samples:          10\n",
       "  evals/sample:     10"
      ]
     },
     "metadata": {},
     "output_type": "display_data"
    },
    {
     "name": "stdout",
     "output_type": "stream",
     "text": [
      "\n",
      "\n",
      "Currently at time 2.350483870967758 remaining and 1.5794917974687956 away.\n",
      "123 Steps at 2.350483870967758 s left. Hence, dt = 0.01926626123744064\n"
     ]
    },
    {
     "data": {
      "text/plain": [
       "BenchmarkTools.Trial: \n",
       "  memory estimate:  18.32 MiB\n",
       "  allocs estimate:  4608\n",
       "  --------------\n",
       "  minimum time:     12.395 ms (0.00% GC)\n",
       "  median time:      13.467 ms (1.85% GC)\n",
       "  mean time:        13.529 ms (1.50% GC)\n",
       "  maximum time:     15.267 ms (1.64% GC)\n",
       "  --------------\n",
       "  samples:          10\n",
       "  evals/sample:     10"
      ]
     },
     "metadata": {},
     "output_type": "display_data"
    },
    {
     "name": "stdout",
     "output_type": "stream",
     "text": [
      "\n",
      "Currently at time 2.2309677419355 remaining and 1.4780372715687493 away.\n",
      "121 Steps at 2.2309677419355 s left. Hence, dt = 0.0185913978494625"
     ]
    },
    {
     "data": {
      "text/plain": [
       "BenchmarkTools.Trial: \n",
       "  memory estimate:  18.01 MiB\n",
       "  allocs estimate:  4572\n",
       "  --------------\n",
       "  minimum time:     11.815 ms (0.00% GC)\n",
       "  median time:      12.798 ms (1.95% GC)\n",
       "  mean time:        12.972 ms (1.54% GC)\n",
       "  maximum time:     15.046 ms (1.67% GC)\n",
       "  --------------\n",
       "  samples:          10\n",
       "  evals/sample:     10"
      ]
     },
     "metadata": {},
     "output_type": "display_data"
    },
    {
     "name": "stdout",
     "output_type": "stream",
     "text": [
      "\n",
      "\n",
      "Currently at time 2.1114516129032417 remaining and 1.378775905219503 away.\n",
      "119 Steps at 2.1114516129032417 s left. Hence, dt = 0.01789365773646815\n"
     ]
    },
    {
     "data": {
      "text/plain": [
       "BenchmarkTools.Trial: \n",
       "  memory estimate:  17.71 MiB\n",
       "  allocs estimate:  4536\n",
       "  --------------\n",
       "  minimum time:     11.687 ms (0.00% GC)\n",
       "  median time:      12.570 ms (2.03% GC)\n",
       "  mean time:        12.826 ms (1.58% GC)\n",
       "  maximum time:     15.299 ms (1.68% GC)\n",
       "  --------------\n",
       "  samples:          10\n",
       "  evals/sample:     10"
      ]
     },
     "metadata": {},
     "output_type": "display_data"
    },
    {
     "name": "stdout",
     "output_type": "stream",
     "text": [
      "\n",
      "Currently at time 1.9919354838709835 remaining and 1.281876785118829 away.\n",
      "117 Steps at 1.9919354838709835 s left. Hence, dt = 0.017171857619577444"
     ]
    },
    {
     "data": {
      "text/plain": [
       "BenchmarkTools.Trial: \n",
       "  memory estimate:  17.43 MiB\n",
       "  allocs estimate:  4500\n",
       "  --------------\n",
       "  minimum time:     11.974 ms (0.00% GC)\n",
       "  median time:      12.828 ms (1.98% GC)\n",
       "  mean time:        12.831 ms (1.60% GC)\n",
       "  maximum time:     14.814 ms (1.69% GC)\n",
       "  --------------\n",
       "  samples:          10\n",
       "  evals/sample:     10"
      ]
     },
     "metadata": {},
     "output_type": "display_data"
    },
    {
     "name": "stdout",
     "output_type": "stream",
     "text": [
      "\n",
      "\n",
      "Currently at time 1.8724193548387253 remaining and 1.187485282506466 away.\n",
      "115 Steps at 1.8724193548387253 s left. Hence, dt = 0.016424731182795835"
     ]
    },
    {
     "data": {
      "text/plain": [
       "BenchmarkTools.Trial: \n",
       "  memory estimate:  17.06 MiB\n",
       "  allocs estimate:  4460\n",
       "  --------------\n",
       "  minimum time:     12.003 ms (0.00% GC)\n",
       "  median time:      12.689 ms (2.11% GC)\n",
       "  mean time:        12.701 ms (1.70% GC)\n",
       "  maximum time:     13.368 ms (2.14% GC)\n",
       "  --------------\n",
       "  samples:          10\n",
       "  evals/sample:     10"
      ]
     },
     "metadata": {},
     "output_type": "display_data"
    },
    {
     "name": "stdout",
     "output_type": "stream",
     "text": [
      "\n",
      "\n",
      "Currently at time 1.7529032258064672 remaining and 1.095718977201492 away.\n",
      "113 Steps at 1.7529032258064672 s left. Hence, dt = 0.015650921658986315\n"
     ]
    },
    {
     "data": {
      "text/plain": [
       "BenchmarkTools.Trial: \n",
       "  memory estimate:  16.76 MiB\n",
       "  allocs estimate:  4424\n",
       "  --------------\n",
       "  minimum time:     11.479 ms (0.00% GC)\n",
       "  median time:      12.226 ms (2.18% GC)\n",
       "  mean time:        12.429 ms (1.71% GC)\n",
       "  maximum time:     13.676 ms (0.00% GC)\n",
       "  --------------\n",
       "  samples:          10\n",
       "  evals/sample:     10"
      ]
     },
     "metadata": {},
     "output_type": "display_data"
    },
    {
     "name": "stdout",
     "output_type": "stream",
     "text": [
      "\n",
      "Currently at time 1.633387096774209 remaining and 1.0066627951912512 away.\n",
      "111 Steps at 1.633387096774209 s left. Hence, dt = 0.014848973607038263\n",
      "\n",
      "Currently at time 1.5138709677419508 remaining and 0.9203637492060005 away.\n",
      "109 Steps at 1.5138709677419508 s left. Hence, dt = 0.014017323775388434\n"
     ]
    }
   ],
   "source": [
    "completion_threshold = 1\n",
    "\n",
    "opts = SolverOptions(\n",
    "    cost_tolerance_intermediate=1e-2,\n",
    "    penalty_scaling=10.,\n",
    "    penalty_initial=1.0\n",
    ")\n",
    "\n",
    "saved_states = []\n",
    "\n",
    "while norm(x0 - xf) > completion_threshold\n",
    "    x0, warm_start_controls, N, tf = MPC(model, ALTROSolver, x0, warm_start_controls, N, tf)\n",
    "    \n",
    "    println(\"\\nCurrently at time $tf remaining and $(norm(x0 - xf)) away.\")\n",
    "    println(\"$N Steps at $tf s left. Hence, dt = $(tf / (N-1))\")\n",
    "    \n",
    "    # If the timespan is too low (e.g. due to disturbances)\n",
    "    tf = max(0.5, tf)\n",
    "    \n",
    "    push!(saved_states, x0)\n",
    "end"
   ]
  },
  {
   "cell_type": "code",
   "execution_count": 20,
   "metadata": {},
   "outputs": [],
   "source": [
    "xs = [x[1] for x in saved_states]\n",
    "zs = [x[3] for x in saved_states];\n",
    "\n",
    "x_orig = [x[1] for x in X]\n",
    "z_orig = [x[3] for x in X];"
   ]
  },
  {
   "cell_type": "markdown",
   "metadata": {},
   "source": [
    "## Plot the trajectory!"
   ]
  },
  {
   "cell_type": "code",
   "execution_count": 21,
   "metadata": {},
   "outputs": [
    {
     "data": {
      "image/png": "[encoded data removed]"
     },
     "execution_count": 21,
     "metadata": {},
     "output_type": "execute_result"
    }
   ],
   "source": [
    "titleText = \"Rocket Soft-Landing Trajectory and MPC Path\"\n",
    "filename = \"RocketGroundThrustBound_BarelyFeasible3\"\n",
    "\n",
    "plt_x = plot(x_orig, z_orig, label = \"Original Planned Trajectory\")\n",
    "plot!(xs, zs, label = \"MPC Tracked Trajectory\")\n",
    "xlabel!(\"x\")\n",
    "ylabel!(\"z (height)\")\n",
    "title!(titleText)"
   ]
  },
  {
   "cell_type": "code",
   "execution_count": 22,
   "metadata": {},
   "outputs": [
    {
     "data": {
      "image/png": "[encoded data removed]",
      "text/plain": [
       "PyPlot.Figure(PyObject <Figure size 600x400 with 1 Axes>)"
      ]
     },
     "metadata": {},
     "output_type": "display_data"
    },
    {
     "name": "stderr",
     "output_type": "stream",
     "text": [
      "┌ Info: Saved animation to \n",
      "│   fn = C:\\Users\\Daniel N\\.julia\\dev\\altro-mpc-icra2021\\benchmarks\\rocket_landing\\tmp.gif\n",
      "└ @ Plots C:\\Users\\Daniel N\\.julia\\packages\\Plots\\a7Kbp\\src\\animation.jl:104\n"
     ]
    },
    {
     "data": {
      "text/html": [
       "<img src=\"data:image/gif;base64,R0lGODlhWAKQAfcCMQAAAACa+gD/AAEBAQICAgKa+gMDAwN8yQQEBAUFBQYGBgcHBwgICAoKCgqe+gsLCwwMDAyf+g4ODg6ByQ8PDxAQEBCg+hCg+hERERGDyRGg+hGh+hMTExQUFBYWFhaj+hcXFxiFyRkZGRsbGxul+h0dHR8fHyAgICCIySEhISKn+iMjIyQkJCWKyScnJyip+ikpKSsrKyuMySur+iwsLC0tLS4uLi8vLzAwMDCt+jExMTGPyTKu+jMzMzQ0NDU1NTWv+zY2Njg4ODiw+zk5OTmSyTo6Ojw8PD09PT8/Pz+y+0FBQUGVyUNDQ0S1+0VFRUdHR0hISEm2+0pKSktLS01NTU65+09PT1FRUVKbylNTU1OcylO7+1VVVVW7+1dXV1hYWFm9+1paWltbW1y++11dXV2++16/+19fX2BgYGHA+2JiYmLA+2RkZGXC+2ZmZmdnZ2fC/GhoaGjD/GpqamxsbGymymzE/G1tbW5ubm9vb3FxcXHG/HJycnR0dHWpynXI/HZ2dnd3d3fJ/Hh4eHp6enqsynvK/Hx8fH3L/H5+fn7M/H9/f3+ty3+uy3/M/ICAgIDM/ILN/IODg4Ovy4WFhYaGhoeHh4iIiIjP/IrQ/IuLi4yMjI2NjY6Ojo+0y5DS/JGRkZOTk5TU/JW2y5aWlpeXl5fV/JmZmZubm5ycnJ6enp7Y/Z+fn6CgoKHZ/aKioqOjo6ampqbb/ae9zKioqKurq6zd/a6urrCwsLDBzLKysrLBzLLg/bS0tLa2trbh/be3t7i4uLq6urvFzLy8vLzk/b+/v8Dm/cHBwcLIzMPDw8XFxcXn/cfHx8jIyMnJycrp/cvLy83Nzc3r/s/Pz8/r/tHR0dPT09TU1NbW1tfX19fu/tjY2Nra2tvw/tzc3N3d3d/f3+Dg4ODy/uHh4ePj4+T0/uXl5eX0/ufn5+jo6On1/urq6uvr6+3t7e74/u/v7/H5/vLy8vX19fX6/vf39/j4+Pn5+fn8/vr6+vv7+/z8/Pz9/f7+/v///yH/C05FVFNDQVBFMi4wAwEAAAAh+QQFBQACACwAAAAAWAKQAYcAAAAAmvoA/wABAQECAgICmvoDAwMDfMkEBAQFBQUGBgYHBwcICAgKCgoKnvoLCwsMDAwMn/oODg4OgckPDw8QEBAQoPoQoPoRERERg8kRoPoRofoTExMUFBQWFhYWo/oXFxcYhckZGRkbGxsbpfodHR0fHx8gICAgiMkhISEip/ojIyMkJCQlisknJycoqfopKSkrKysrjMkrq/osLCwtLS0uLi4vLy8wMDAwrfoxMTExj8kyrvozMzM0NDQ1NTU1r/s2NjY4ODg4sPs5OTk5ksk6Ojo8PDw9PT0/Pz8/svtBQUFBlclDQ0NEtftFRUVHR0dISEhJtvtKSkpLS0tNTU1OuftPT09RUVFSm8pTU1NTnMpTu/tVVVVVu/tXV1dYWFhZvftaWlpbW1tcvvtdXV1dvvtev/tfX19gYGBhwPtiYmJiwPtkZGRlwvtmZmZnZ2dnwvxoaGhow/xqampsbGxspspsxPxtbW1ubm5vb29xcXFxxvxycnJ0dHR1qcp1yPx2dnZ3d3d3yfx4eHh6enp6rMp7yvx8fHx9y/x+fn5+zPx/f39/rct/rst/zPyAgICAzPyCzfyDg4ODr8uFhYWGhoaHh4eIiIiIz/yK0PyLi4uMjIyNjY2Ojo6PtMuQ0vyRkZGTk5OU1PyVtsuWlpaXl5eX1fyZmZmbm5ucnJyenp6e2P2fn5+goKCh2f2ioqKjo6Ompqam2/2nvcyoqKirq6us3f2urq6wsLCwwcyysrKywcyy4P20tLS2tra24f23t7e4uLi6urq7xcy8vLy85P2/v7/A5v3BwcHCyMzDw8PFxcXF5/3Hx8fIyMjJycnK6f3Ly8vNzc3N6/7Pz8/P6/7R0dHT09PU1NTW1tbX19fX7v7Y2Nja2trb8P7c3Nzd3d3f39/g4ODg8v7h4eHj4+Pk9P7l5eXl9P7n5+fo6Ojp9f7q6urr6+vt7e3u+P7v7+/x+f7y8vL19fX1+v739/f4+Pj5+fn5/P76+vr7+/v8/Pz8/f3+/v7///8I/wD/CRxIsKDBgwgTKlzIsKHDhxAjSpxIsaLFixgzatzIsaPHjyBDihxJsqTJkyhTqlzJsqXLlzBjypxJs6bNmzhz6tzJs6fPn0CDCh1KtKhRmgCS8OxWxQMAEzqTDkQDQFxQUwBkHf34BYC6rQ/tAYACtixFcQDSAkAgoos0jlIpJgHA0F+sJRgSeMAhJ9lDfjAWtGHk6d/chiYWoIz7j6pVj8fUSpaslCJWrRiDAbhUtuvXg9vSpvBXEFraGwOxqmXgws+7gu4gBcGAoMOTUvQQilVrQAQWZg89ExRL1qzxh2hXMGLkZwmABH41MpZ4eGEaABjKCFqDRMGYh94AwP8hWH1h4sWV/6nbpu+juOXLqd6Az6hVxXjb5mXUzBmscNBrAVBMQXAgAABqAmEFxXJynAAAC/EMFEwFAMQgRyFvuFChbgCAsFwgTwBAwC4O/ScQccelyBBaxQl0CQBIbDRdROUhlAwAOOg3UDzAOXQjI+TRxdB5J81YUmRo2MRfZ14hFNoSDXw3ED0UVHFgagAUJtA9RgCAiUDSLPCALQUVE+NBYiEokCgAuFBikwOhqOKcB7FIUDsAPFBQOWuIkMAIa5hT0DyQ1NCABDgg0t4/jPmDBwBp7CPQPIrEwAAFUCwz0GQAJGkQJlku5M4eJyjQQRfaDGTCZK1w6ulBRBr/hE8oT5RgKhbVENRqK8UY0QAGaLhTUCoxLFBCIGKl55hAkTEyzRMQSIDFYwPh0gMDHrQRjwlQLYSkQYIA4IwqODBA1juWHOHnCGmMQ9BlBHmTRgkJiBBoQd60YYICHiwRyz/hTvZZO3jsCwIY3RDUlTmbuKAAHIEAQCJBnQBQCkLDoMFCAw8EocpwY6lTBgcMGKEpQdVA8UCV25hYUGhXoMFAhALFAkAuVyYY6kCuAKCFQEIA8K9B93Co5j/6KACAfuYg8kMHCqSAh7ACgTAZWcSJTLLJdM5p50B4UhCvU1UQYqUH3gzkTgw49rFHFAnQHBc+YAAQyEDvsI3EHmtw/4BALgIxsip8gBuUCgB1KOQOCwAsQQgYCDzQoydUJbFcNYIDQHhCsRakDgFJvCFIFwsw8JZArWKhgBZ+/ACAEQRN0mEde5RgpbJVMQsAFQ1M0RwAK9gzkCoAVPBGIDH0IEK3Cn1bULhTPACGIEAes0AUdQQyBQEeCKozZv8sA0ECWgSiRW/e/5MMBARQQcgbPQjxTzFjANAEfPqt42AThHRhgASn+0dXptABNAQiFOAYQBUKEoMG0MwgSWDBGATxhhIAoBBxAoAPTvCDPYCBAAxIm0CqAQEDdIEQeOnSZwwCsxuhYiBLKAE9cvYPrGhJID37GTaAR5qw0BBpStNPK/8gcIU89GEuLtDRJtjmh+X8Sywb7OAHQ9i1FH1NILKjAkGc80KBoMJ+A+nCBQmyDkkxSinzeMIAOEEQMQBgFQNZRwk6IDzDCCkh5mAfGnKRPoKsAQCEGIgwHtQP3QFpIDXinGIOco8+ZgMCTxhIqxDQI344xxkC8QYCRtCOSWkId4+JDABqMZAyZEUg8YAABMIhkH2EiHkJcR5BwkWBVO3ogf8IxgAS970TjQADtpwfAbogEHqIwADHIIj3ltRGAEBiILsAAA0G0pUT9LEJBlghMzqVEGr9Ax9JSMBndrOHHrJJDwMJGpkEsoe0rPBlALjCP1gQBIGIYwCISBOWbsj/JS/944ttiIg+B8ImN/1jHbkZyBfZKBCXkdOcAEBnFY2TnOX4YS4eCKY5KtTDf/gDBgAQ1DoGsIJFGSQp7fABAmBBEHcYoAkFCYXEBJLIgwjDgmk51YAEgg8GcCChAoECAE7WrCAhZpENqYICFtWqV/2jVaEQCCQA0AmC2AyUujuT7vqAQwDsgSDOeApDZDmQcAVyISwwaA1P+Q9ZAGATBZlCAnIDCwC8ASHMLGa9ioZIAJyuK10ciC0AUImB/LFHDXErKf8hlgoAlR4DgN0/wvMDgqQSTiyM5z9kl41/IGIA4BjoWhfECDo4CEL/mOozISIWDzECRAAwwMQMwg8G/0SBmphlbPEeG9mJUpRTaCNINOVAoJn6AgABRUibXNCAXxTkF6+jDyPcCFc7NmQfxUDEFCSQlrNeAwC3JciLRGFIoxLEE/R5TOcKUg0w0Esyn4EqQYoBgEkIBAt+Jcg4GLOsf0TmqwMJzxrYCYB1CqQfCIAlQsgqkHAVbr5VAIGB0iIBLGEmD52SbhAAgI1/1KHAeN0MQUyDhYIwAgCpaCgAckUQfYBgBaSZBwRgoJB4IMJQktGSWORHEA7EQCCD5SpBgvZOgsDsH+YgQB/6UQKliFY1aWEADAJBM9UKVDK9+Q1BavEEDhBALTbA7Tt3XBAf+9YsX2vHJggAAx39w/9mqx3Iif9ls0MeBAAUGIALOmlVTqlltTVdyD5SYaBphA9SBWmVff2rOfOqSjLJ/Md6B8KMBSygCn1QBCNukLunAsA+AynqP5oAAHdlEKuMtvM/0OKpP0ZnIMsbKzefBwDE1mwAFOhCIJYzAqTC6x/18zMAngFscYW4PwKhL3HfBQCGuqzBAvrH4aqqmxoAoAdyQAQj6tcfOQ0EBAY93JcIcoXcGlmz/4CCB6LpCt2qyYYI+eJdWfvDgsgOBBNczgPU6tCxFATcZy7LFT0bUWgCYNkDkYNxkZuQpKyCADTgs0Ci6QeFBJohVGHjd8M7EFBFNdWOVsikBTKFWhNEqI//2RVBRI3fAP5jv6gWtT1n3U4D/wPBCj4IgwFmbIKsAALejNWv6RBthHzY5gTJ6z9IXJCpdvHZ/0ggGP4hBAVQ7SB15SXqRKzbFlXNoEEuCJGdhO5aAGAEEMjNk3dmkB3CmN5HI8g9GlCC1whEHwjgd269/fWAg2XgxkzAY8rB0YH4g20iJUBJlasUVxAgBhJXR28T4hx+SEThbOxpB4D6jygAIDoy/0flh4TUgrgAAwShRwc6rfJQNzq1VO1zzF8/c0/1DMACCWvODbLzcGFyIP2YvEDGMQBfs7Wui8a6XTFW39TvdYv5FaC5BfKEBdyImAk58TD8yHW+/wPgkwVA/z13BIHpC+TI3+QAw929z4RsGHxyNxpC0CIGgtxIrW7so/fB73ejDPwfMjVgAuEcHyMQxLMEYQQAiHAnZhQXsPB4EtcVm9BR//AMCSVGpoZXuWBGmbR6xPYPf7SAyUZI5ZWAGahICKFGnfUP/KBwrPdpK/d63mAAnORJ/NVpocdqqKRKj+FKYuUtszZLPTcQJYABVEMPnmd8mGFMDWBr+NAj9AACyKRMAjENB1cQdZN8xxUDPQR1/zBYIlB0CLEKAKAIAzEMBtB9/kYQ/LdhBtZO5vcP6PcPzsBHJ0JD8IYQYQIBuFAQx6BVBSFaBYEPCeACfOUOPdAmA/FhH3iHXv/3fWrVf0Txf/YgAggADgLRDR0wAFdACFcwAB0gQv/gDiClA37QB0olN+nxgDCwDgLxDjgAADVwPGDAOJ9RCgDwA4xwCb5wEJ4AAB2ABYHgB6pzhQLRDivQOI+TAA1wMiA3ELioi7zIOQSABtZ4jcQVTcaTBzbAAc6RcjDoenY2VSCAB7VDBTcYSrS3akH4RRUAMTSgPCkga04Fbb83EJsAACWQB3CQAi5QLBZGaRUwAE+wB3mABRigJuvTPoQgB0LAY/jQAQ1QB5dwCbmhDhb0BITwBQYAAdAgZgfhYgAwGjU2AgoUCFVAAFqgho/If9PwACaEQhigQmQnT2iCh2z/dxATIot0UAhwwDbTdJNxRxAf5gJ90CdJ0AFqhQsVggiXQEr7F4mSKBT/9w9sUgYDMQ59whZrcIL/MA+I4AILQAE4oAiLMh2xYAAw8Bn0sAk98AAMkAJYAAtmtA+BUAIGUo/HmApd4ALjIwJVgHTukAcmkACn0mHiSBB2iZdBaBCrwili84U90ACnEg791XolKBDEogAl4AczNHuqpoOCpQMLkC3vAAFDyXuNaY8F0Q+iAAMMIAJw4A5CoIQEUQ51wAJjGQNv8GqThQZ+AgJLAD7LcATlByfrUAf00gFfEEzSV2QD0U7JlxDegAUd8ABCgAvMFJUo8wQPIAFV0DJx/ziHgYiTN4QQsREEFVAbSyAKnAcyqbklkLACC3ACgRCFkTgJK5AA/sadU/mfAFoW4YF9J/GLfXgTS2AA6BCgDNqgDvqgCBEPfPUP9GAl8FcSH+ZyM2GFJQahHvqhIHpmuYABYBAIa+AgS1BIJvELcrAAJmB5NAELiFACBGBoIXqjOJqjRuENX1ACDMAANDAJdWQScFABT5AwNSEEijc0OtqkTvqkUBqlUjqlVFqlVnqlWJqlWrqlXPqf9DAN79mlYjqmZCqJVmijx4FLN6qmIcqmIOqmHwqnYHGmKmJ3OWqnOIqnN6qnIcqnZkGnKeKnHyqoHkqoEGqoD4qoRgGox/+hqA3qqAwKqQEqqQBKqUHBqMZhqVOpqZLIqf3nqX4HqjzBqOUwDaZ6qqiaqqq6qqzaqq76qq16DLA6q6haDoHapKJ6ZrnqW7uaE4BaDg0gbMI6rMRarMZ6rMhqrA1gq5mKq86qo72KE4BqhbFAq9Z6rdiardqKqjaDpmURrV0DrnQirnNCrjQxrQDgrRCKqWBhrrcKrc+qIuiqrg/Krlvhro0ar3lKJ/MaovZ6FPjarPA6sPKarlVosCD6r0YRsGbBsN+qr8fRrwmLsA0LsX1qsX+KsArLoBtLFA7brhg7qPyqsRTroR07FB97ryFbqCNroye7ETdwAzBgADFLoAn/8QTepBCqIIoZ8bJBkbIAu7KH2rIHS68iIQ4ccBAcSBFGEAwMsbQL4bNAAbQLK7SJSrT/ILUagbQDUQw9UAfZCQs/gAM44LT/MALboB5d8AM1sFra8AQ1UAOoYAoPsAI3IAz7sAcxEAN50B5joAdQUAOWQAcC4Q4cAKda6xNUWxSL67FWu6gka7TpQA2UW7mWe7mYmw4KwbXJRgA94g6kEQ4iYHloK3rAoQ9NsAv4sAIHKixNKxCh0AT4oA9PUBhj4AO54Q4eoB+YMG8Hkbg90bgo+7iPirX/+ggBkLzKu7zM27yPsLlJm2w/JhDQ8AQxcAOCd7b5gQAxewMrsAnV/8ACBfG6/1AFmGELUwBs1fUPbyAK/XACiPm7JQuyBLuv9RuxkXsQk4u5/Mu/mttN0Ts/PCZpEwMBaYu28aAASxu+42u2VbBYtqBFY2AKA4ENMZALgGgQwMsTwisUHfyzxEsUEmsSnCvAA0EBHdYqB5y2SGAJAmEO5qAPLNC6nbdYoQAF+qAPUWC7FDwQTVACSFcQG7wTHzy1ITypxju/I1HCxTDArWACRxAIpTsCCaMOX0ADNCAEHaYNTUADNpBiueACOIC3ehsDeOC3PSwQtTACUCvEShy093uxcZyxLvvGMaEPEHB1HPEGLqwQQ6wTRfwTgay4RywUI0wT5rACeP/gEebgAkfgZgjxxzkxyMFbyP9JySFxyOtqx4xryZvqyT+hyfXKyY47xyJrynOavxNrtFWLykPrykchyg4qyTiByUQMyp+axKzMsaQ8vLDsoLYMyEBRMBymKi4Qs4s1ELLcoLR8E8E8ybgcqkCRDOZgAvFrzZGsyh/azDbxzLUczQHnzYhxzfHrxnW8ywHKzTUhzt0MzroqFNgsECZgAzSwBhJ3sEQQBagQGdW6rf78zwB9rTZzDO9Q0AZ90Aid0Aq90Azd0A7t0ODw0BI90RRd0RZ90QYd0Ri90Rzd0R5d0Br90SI90iR90CFd0gUdEvH8D7aqD4HAcUUrEMCarDT/XdM2fdPIuqz5+svFy9M1sdIDoQ4QYM4DUaoBfdRHLatIbarMKrB36s68Cs+ISQ800wkZrM7t7NNIrNWVChR0MAIG8GL/EA44UAM0UAU5i9XrDNUTxc5rzdWX2sul/NRw/cl1Hcpy7ct0vdf2y9f4i86dfNe5LNjSPCdqTRNujdhsXUWJPRONfRGH7diLHa6TPa5Yu9N+LceZDaKPbRGRLROdDROh/RKj7RKl3RKnHRGfHROpvRKtrRKvnRKxjRKzzRCrLdqVXa65XaeX7dR9/dt7utsbmtceLNyYDdyanSK3TdrG7dvBTdijStwgDN3vTN1RbdjSbcTW3dbNXbHY/w3Yc43cnN3dD/vdvL3djE3e9Fuw4K3X4n3Kmw3fyp3dgqzeKovelG3e7xrfLIvflq3fx/3c/P3KAx7L9E3I/q3bCX7e7M3g793fBQ7Mve3dEd7TFR6pE17eF77VG97VAO7cyS3gD07g893exb3g+z3iV/vhFK7iEo7iAW4cy23a9g3HHX7JGb7eLm7hO47hLK7hPc7hQe7hDZ7iIn7kIZ7kdOzgSD7eMA7iS27kSi7fTU7lMn7glfzkLV7lEF7iTD7lXc7lJP7XX+7kN27XZ47XJj7daT7YbV7YRR7jZj7kOK7lLzHjqF3jrfzm4Zzj983n1Q3o1x3nUG7lcy7mK/9O6FsO5mPO6Inu5VJ+6I7+4oLuq1jOwXoe2JWe3j+u44hO6XSO5pAu54Ze6mE+6UWB5yxR2ybB6iXh6iQB6yMh6/K75tq96fmN6/+t6ED+6Tzu6z7O656O6sEe6p3q5zZu7G6u7HA+6oV+6pIe7aa+Faru2pke3sAu5GQe6dP+6NlO5M6+6NIO7d0O6ttO6uSe7o0+7tR+6bds58PO7t5+5bZe3/D+58ze552O799e57qu4MLO78Su7QMP7uf+7Ote7r9e8HFd7wj+72Wu8MV+8OIu8QQv7+ZO7xGv7vOO8Qsf5eie8Byf8R4vwu4uzPee7P0u6hTf6wzP8i9/7Pv/rvIxv+wrL/MBT/Mlf/EWb/Aaz+0j//E97+/h7vI77/NHT/QtH+9DD/NJ7/RlUe2wfe3uffM2//Mh3/FNj/P5vhNSL9tUf+IQD/Tt7vBZPvZZT/Jb7xNfT9thz+ZdP+hFz/RBP/E13+xLL/BPz/VWj/dYj/BaX/c8L/iGfPLQnPJ7HvfcPfOJ3/f6jvaAD7lmj+mIr+mKz+k53/h3//iXn+tzr/dr7/d7f/UgH/lCT/hKv/leb/jfXPnYrvpyn/c6H/qc7/iB/vmzj/pQr/t8//cVz/ukT/u3L/uaP/qiL/yxrxPEHL/eQAQs8APOGdNkH/giX/3UXxPUvNJLYB+2/zDAysz6zvz2t975u54S/qANxeALziCp8dwOFCAp/gACaQ3+WQ35v2/9ah8S/JALWEABAEFgwEACMSCN+5dQ4cKEJrAlnAZD4Y9kDKcBIBIF1TuOHT1+BBlS5EiSJUuCM5lS5UqWLV12RPlS5kyaNTnGtJlT506POHn+BOrS50+GCWWteNDF0zFs3qTV8hMjQRt0RRc6hBhDoY+KCy9OsxpW7FiyZc2KfXdW7Vq2bd2ifRtX7ly5aenexZuXoV29ff265fu3qAtV9MReW3NpLNZ/7STs++cPhDiLAMAKxmw2cGbOnDd3Bu33c2jSd0eXRv32tGB/ZluLZfwvSat/tv+EFP2aGvRq3b3L8vYd3Cpw4cUTEjcuHLnfZPMYzusqls4IAyBWJOwmhEWPbLgtJ++7HLxu8eNRlzdPGn363boJQLNIoG9u9nPX1898H79g/ftF+zeuP7kGgG+hZB6Y7zsA2xJwQdMcDK5BCOuasDcJ13Kmk04G0ENDDSsJwocEL6vwtxJTu/DEtVJU8SwWWzSRNEgIGqhGBW5gZkQY4dqxsxd7DOtHIIsScsiFiiyLwM7oM/K4Jvl78i8km5zSyCqFY5LKKP/bUq8rgfyyxzCt4oeZWmBBE00doxwTxjZbfFPFOE+c859pTBCoxgHk0ytLK7v0EtC86qyQ0AnrDIL/hmLUcafRRtd80lAIJXWQ0gUtBbDOB35ZUsFIBcULU/9E3Y9U/OrUoZZOSdQSVLpMrQ9W9mRNr85kbtiGMz+HpNW8Xsf7Fbxgk3uThhqO7cCAEo491gZIW3WVwmilnVa1auN6E400tuW22zSe/fNawMQdl1y2hg0Q0F3BNPfcdld8Vy10i5v3rXXFjNfFfDXbN8Z+eURtDYEHFriPWAzD694d643w37EY9g1iC3WjoYMBKmChggE6KIGAEsBJ2FNoHSaS5CBNHg7lklMTZoXojlkhGG9YwCJkVsNVWSGJycv5yJ511q2GWBiCRatVMLB5y51R/NnJppc+TzcGfGFo/xcG/knm6rsUdrPpf6AuDWz1vK4ThyUQ/oceJHr4R5YTkmaTbLmfnhu1ZSDAAAs4sKgAghwJ8QPuT+km/GexQyNUnUCWcGGJQNTxi2s46+758PYKj1JyOSnP2XIfOW9SczpBR9lzz0jHrIaHjGWWWWf7FBnnylEn2fT8SkuDMm293RZcXml32HbMhIeyS9FLJF5K4P9Nnsstjy90+X6bD096wbL5YgUFwCqEU9hv/h3zzq3Pt85hEhCikAHAYqQK39kVX2XqA40ftB7K+Gef9f/JZYT38a2fyeY3KPL1ZQHD+Ac/9peMBfxvYQV81wBDBcG8iMAVCdwfKt72PaVR0P9cEnxQADkjBxN0Q4HVUIcLAsfBuIkweB4kV53i4QMF9GAAOJDAD5zDwsEZDobiAuGreqOPVYDhCV9IBT4iF7vw+dCFzPvhgqB3qChWK4j2qSJd2lEOLnLRgV174vSyGK06uQMMCyBAGgXCp7xMcVJjdNUVqTW71PANEbKwRR7z+MXJhXFfcsQWHNtCAVisqoN+LJ8gBVUnE3gvM26slCIBBUhrIbIvoogCZB7JRPg50ZN0/GRn8DBKPJSgBGUgJR7ywMfNWTKCkuzSm04wS1rW8gQpYOXoXNkuSpYrlKHjJAB/WTpYHvJ5wXzgLj9YzBaGZhdlaYc0BDey8Skzhsz/FEsJbBCKqjCEH8VYwwNUMU3ZVXOYAsRmWO7RiRMQ4ARVWIMcwCCEBihAC9VoIzLBeM7apbOcoTkGIqBgAxcIAQ2oaEcukefPJoLSoU+C5KUY2smHyk9d+uwjP19oTSBeFHwUNWdFiclRKWK0lRqFIkmt6FFjihSdKp3W/CKaqYkK06X9TA0scrQQdxSSh9S0KEzJWNOiDAABilHIM9hIzoaG1KlBRalgBiCHBXQBYUpVaPSEGkei7rM0BGKGCG5AGaz+9J8jjeofu7oQJZmjBxwoRlnz+VGbPhWtN90oapT0D3uAIQFjWOrWTKrLtCZyq6Cq014TcgkDBJYuMx3V/1pPiteUomYcSlwIMy5o1qZClbJiPCx7IFsqyRL2s2o13mAXGtpJlna1x6RrMgsbr14yyLWhGe2pbktF1saSpc08rWFn+8rUxtardn3pcHn52x4Gl7a7fWNxW4pcnCp3mdIFLnXz6lziwna6ntVuZblbodzGCrqR7O13jVTeWZ1XounNLjCNm9HxXte618Ruc8ML2vt2NL9Avet+Udvfks53sgIWbn3x6934Bhi8D3bwelWrVQKvFL76la96k6tg/1bYP+ytlXtpemEADwnEvhJxZEl8VhNPmLceHuqKOythA5sWwc+VMUgz3OAN37i7HC6whqsLZAvDWDgmcMENbv+gKq+4OLpGRmyKSQuj2FSmxq8lckylrFsqP8QqJwbWls2b47qWyAQ2oMEaEtrkjGwkKG9OyVDgPGc6v0POdcbzT+6cZz7bZM99BvRL/myT0JTjH/oIRBSsLOTt+ni5ZAaNOiCwaB4P2dH2zbJw6BGPhHQCCZTGcIR7DOFRTygcOKgBDapAmSZfmcKZ5iqkj7vjUJfa1pYmNZDALCwxt1fW9IWok9EL5UX2OsT/ZTGuRa3sW/do18QyNop/fWBal5jZ1250rp0t7PcSu7XTtnG1k53tZZO72Tt6drrAjeVLLzhz3B6xt3277lcH29UvhnWU6Y1vezNavO3ucL5FC2//Fcvb3/wVeHrSTa9oh3nfT373vSEO8GvV1l0P1xXBp2zwSpsb2+jWOJc5XuuPI7zfHf+3tlNebpBLfNgJn/fIrb1tl3cb5gcf8M3Bs3DlNJzXGLf5yUnucaKv/Nww4nnDgB5vnQ+95ThPMMWL3HTjJD1iPof20gsecajjWObjNrquQz7mr8/46DkX+szDXnSTqxzpY/d12XXM8rbTuOs/lrqWtf4Xq09s7yKnOtjfXnOm5z3Gci+z3VFe97NH3e0t6jvP/k72wJtd7ITfuuFjjXjZcn3xaH+84+kOebgfm/OzHr3oW4z5jVd+7o33uuedzviSgz71J4o80yYfd9cn/371d3/06YEdetyXXtrCp/bt8S5uy7Pd9rBfvuJn//zaq776xWc94DWvb+SHW/pqp73zrS9+7AMf09sv9u7nan53o//b3SdN7qOm/uP3vvNpFzz1yR996JPX+A6Hv3ojPv67PPYLOPeLOfvTDfkLG6xTtwDkN+Z7vesjwP0LPtkDP/1buw0Mv6f7vPHjQA3swMEzwIpzQIajP8HKPspDwBKcuhbcuf/7OQicuAG8QPxrvhAEwREUQdJbQd6DwenbwR5UEQYcmxScQQUcvu/LvyF0wtgLwqqTwayjwZeLwiYsvw+EQhs8Py6EECNEnBPsOSSkQgzEwgrUwS1UPv/7Qf/TU8Lk678uZMIc5MEnRMM6zEIhVMM4bD8vdBAwvJwqDDo/NEFko0Mi3EMKvEEJ9D1FlEM+PEBGvD9CfEFK1DsG08M7RERNtEM2dMFLfEPvg8Qg00JOTEQLfMQCLMVFXMNURMUvnMIHDEV2s8TDM8ND7ERXTENTLBFA/BwylMUrxMU8zMBc7MNWPMbfW0VdxENeZEVlzMRndMRknMY/jEUUFMTCq8XNu8UJfMVIREZwhMZiPMVdlMZvJMVoZMZNPEdznBBfPB1gxMZZFMA59EZ3pEZ0rER7bER9BEVhvEcSXMZ8xEdxrEbw8AYiYIEf0AZQaxJU8BqIbBqJ/BmK7Bn/izyRJaAN23BII1G0pvnInwnJnhnJnCnJCmkHCoAMyWC1hGAGAIiFaZDJmaTJmrTJm8TJnNTJneTJaSCCngTKoBTKoSTKoPzJokTKpFTKpZTJo2TKp4TKqKRJp5TKqrRKoqRKq0QbwYiIiYiOf4gFABDLsSTLsjTLs0TLtFTLtWTLtnTLt4TLuJTLuaTLurTLu8TLvNTLveTLvvTLvwRMvGxDsZgGrUgIruCpWGCGq2TMxnTMx4TMyJTMyaTMyrTMy8TMp9zKv3CMlZwMrwHN0BTN0eyN2aiN2yDN1FTN1WRNt8iO7eiO1pTN2aTN2rTN28TN3NTN3eTN3vTN3zQL/zwwAQDwModJyIVsSJURTuLMGXu4Aha4AShoSZN5ghq4gSPAJ+Dsi2QwhyrrF408zZzhTu90GHv4hdYQhSfIGU7jHx3Qzr8gz3hJSc+cTpOJT5ORhuv4GVdgm/fsi/tsl65MCIroGQB1mDLYg54pA1OKTf9ciyPggAiVUHNQCAMll8Lciq+0z+LMmUoQgs1EGVc4SQeVCwsVl86MjM/MGRONl03oAfZsGgZwBxLFCxa9FtPkyALlUJPphBftmXnoJlwYgdeg0biYjurQz395Te7ImSO1DpUxBwBYASULAij9ARqwgSbIziLl0i710i8F0zAV0zEl0zI10zNF0zRV0781ZdM2ddM3hdM4ldM5pdM6tdM7xdM81dM95dM+9dM/BdRAHdN5KIEuUAg6qAAKFdRFZVTwOIYBKCRhAABZaNRKtVTf2AMKqAYR+IJL9dRPBQ17iIEFEAEYBdVTRVW8QAQACIRUddVXfQtsWAAdYIDkhNVbxVWrwAccMAJ8+IEe0IdcFVZhJYQHAJluYABEGNZlfVVmIACKFAUDeAZmpdZqtdZrxdZs1dZt5dZu9dZvBddwFddxJddyNddz7Y2AAAAh+QQFBQACACwwAhsAJAAgAAAI3gAFCBxIsKDBgwZ7RUDIsKFBUAW8OJyIsN+dAID8Udw4sJ6VAqc4ikzHIwIwkRy5kSBhDeVGYxFynHNJkVUBKfJoOvR3KECcfjob5gsTQJPGoAjhKXEwCynDby82NHOKsNkHFd+oHrzlYAg8rQX9aQoQJh9Ygv3iBDh09KwAeVIKsHI78FyOCMboCrS2kpteAcAi8Ej391QBKznp+gMU4A5QuvW8FADV9iy7IQ5u/eWm4kO0v8g2vCD3d1YBJ1/1SipwxizdoQUiVQYrz0mBV38F8LFwi1/uetzc5RYQEAAh+QQFBQACACwOAjYAKAAiAAAI1gAFCBxIsKDBgwgHmknIsKHDhxAjSnxIbsbEiwKbfVCBceIsB0PYdYwIqICXdSMf5gsTQBK/lA7ZDXFwyx/MhtxIkIh2syGwCDnO9UzoD1QBK/WGIux3JwCgfkoPwnNSgFXUg99mWDB21WCzDSq4dS34qoASeGMH+jtUgE2+tALreSmgySbcdEBowhVoTSe1vQJ6OeAhFG7RAEj35ovj1G7aqVUBf3uxARlgZBtefAPMqoATtIYHBXDzFm49LgHq7j3Hw0EvwNR0WgMsABSQdLQF+CtNOyAAIfkEBQUAAgAs7QFHADUAKwAACN4ABQgcSLCgwYMIEx5Uo7Chw4cEA2SCSLGixYsYM2qEmGOjx48gQ4ocSbKkyZMoU6qEWGDlw3QuY4685UCmQn+RAnipZ/NgPS8BJPnraZBcDge3iBps9kGFNaUFWRVQwg7qwH58CrjJZ1UgPCkFRg3tyu2FBWNdBRqz8IJbWn+gCkiRlzYfmwCA+qVlp6TAq7QCrKn40AzwrQg5zr2VpJNn159Bx1o9xwMpYKZOAb+aWrVrP0AF2HDtKg8sKMlQv5kFBtjYhrZvRxVwAq9unAB89HaF15cVYAH1nBT+HRAAIfkEBQUAAgAszgFfADgALQAACOIABQgcSLCgwYMIEyr8prChw4cQI0qcSLGixYsYM2rcyLGjx48gQ4pESGKkyZMoU6o0aGyly49SXjZ0I7Mhu5oNrZH4gBPhLAc8zvUs2A9QADP1hhKE56QAKH9KB1pTsQFZ1IE/c5C7KqDfoABhkl6FJ6WAJqhXp25oyfWWgxwMr/Y7FMCL2KhkC2RCG5WbCg3AuAroFWFG3Kj+FgXgclepPCsFJPFVyu2FhcBcCb84rNSfpABW5HF9HHny0G8zIvQSDMzCC25cPRewAo9rPS4BFpnuiVq1YAHfgMD+LWB31IAAACH5BAUFAAIALLABcwA9ADAAAAjrAAUIHEiwoMGDCBMqLHhmocOHECNKnEixosWLGDNq3Mixo8ePIEOKHBlSE8mTKFOi9KLyYqaWMGPKnEmzpgBuNnN+lKdT4aOeQCf2sqAiaMF+iQJYgWd0IDwnBTL1ayqQmooNxqgKZOWABzmt+dwEiJNPazQeDlhpFWBMgwpqWv1JKqAEnj+q8KwEiOROqzUVGoCtfeUgxzewdwKcqaf13JACp+5SRfaBRLS4mgo4YadVnpcAg6ZS5fYiwq21tyLMwEm1H6AAXhhTZaekACjJTYF9+NCrHVV/oOim24c76LkIfIgXN3pu7cCAAAAh+QQFBQACACyUAZoAJgAeAAAItgAFCBxIsKDBgwgFcEnIsKHDhxAjSpxIsaLFixgzRpQXJoBGhtZeRJj1ESErBzO4lTRYT00ANvVWFuQ2wwErmQVnRXjBzR9OgfnmBAgj76fAb0AKnDIqsJcFFdaY5uMTgAs8pueGFADl0yiwDSSiMe13KICUq0bTKSmQqetPYx9IIGPqT1IBJ+yYspMS4FE/ps1IfDBGV1MBJeeYwrMSAFA+ptFUbOjFVACrAkPIVRYAjM/jzQEBACH5BAUFAAIALHkBtgAdABYAAAijAAUIHEiwoMGC/kYdXMhQIDwuBe40nDiwGQkNtyhO9JepwBByGhuyc1LgUL+QDIF9+GAM5cJ8gAJIYefyIDkgBTT5q2nwlgUVzXgWrBcngBd4Qglym+Hg1M6kAvyxcvCC29Ok8sIEcFMPqsBoKiLM8hpVUwEg38iykxIAUD6yxkh8AEa2X6ICStKRPaekgKSTXnttIIGMrICYVpAaHjXqKtmAAAAh+QQFBQACACxfAbsALwAkAAAIvgAFCBxIsKDBgwgTCjCmsKFDh4MeSpxIsaLFixgJzsnIsaPHjyBDihwpEBTJkyhTKlyksqVLkvnuFHhpkNsMByZpCvQ3ysELazoFspMS4E69oAKAffgADGm9OwGksENq7eYof0H9gSqQgxvSdE4C8MmHtNcGEgyD1osTwMrUoNReODiFtF+mAkC8Bj2npMAgskFnaSCBDKm8MwG8wEPaTEWEV1h19pNUYMg3pOSGFFgEOOgcFc2QDqy3WLTAgAAAIfkEBQUAAgAsRgHUACYAHAAACKgABQgcSLCgwYMIBbhJyLBhwWgOI0qcSLGixYsYM2JkpbGjx4GJPh70xyqCSITsrAQwI+9kwVsfPtxySVDemQBW2NEceItEhFf+dgqod6eAEnJCBUR74UASP6H5EhUAws2dUG45CkjKJ7SfJgcvqCUlpyQAn3pCSUZQgSwpOykB2LQUemvDh15J4YUJwEWnUGMkLMwKurPenABOziUVYC3CKcKL5y4WEBAAIfkEBQUAAgAsLwHgACsAHwAACKEABQgcSLCgwYMIDcJLyLChw4cQI0qcSLGixYsYM2rcyLGjx4HpBBT4SLKkyYGv/p1c2RCZCgejWAqsdyeAkm8yBRh7CcqfTHlxbOKUaYwETJ8s5bEJ4IRcTmAkIpxCuhLemQBSnMrsRcICK6on4YXBGlLmrQ8WXoE1yc5LAStlV/qb9WHDrLUl2XEJwIWdzLkbPtzKKYBPAC9+CTcbTFhgQAAh+QQFBQACACwYAfoAHQATAAAIjAAFCBxIsKDBgv9uHVzIsKHDh7P8PWx4zsrEh/5ORfhwsSG3IQHcwOt4MN+iAi+QkTyI7EWBRflWFoQXJ8AQbjILsvrgIFO7nAMrBrByjh9QAf1GRSBxy59EoNZAzpF3VEC+QwVmNKsqAJkKB5FiHoXHJoASnEf9zfpg4dRToP64BPCSjqvAU73sCgwIACH5BAUFAAIALAMBAQEpABkAAAiaAAUIHEiwoMGDCAkmSsiwIUN/DiNKnEixosWLGDNqPPhiY0RjLwpI8kiypMAIJhOSk5IyYT5JDki0PAiyACB5MwmmCxNAibWcA/uBivDhFUSgAprlKDAHHlIB7NwEABLtqT9WGyyc6vfU2pAAZ9g9lXenwAxkVmd9iKAp31NuSgp4Ofe03qECKoA9FeBviINHbvcKMPZNsMCAAAAh+QQFBQACACzwABgBFQAOAAAIcQAFCBxIsOBAf7dIGFxI0JqTAFIYLoR3p8ALYBIL9hu1IYKmfBkJGptRgA27kAPJcQkwhBpKgfUSOSAxy99Lf7NIODhU76UAakMKcCHnkx2bAjOM+cwHKsKGUf18AntR4A48nwIHKeFmE6uAfF29CggIACH5BAUFAAIALN0AGgElABYAAAiFAAUIHEiwoMGDB+cgXMiQIaiGECNKnEixosWLGDNq3KhRkwWOIC9akxIgpMFzagqouGVyoDw+Dj6MytdSQL9THxwMklfTX68XBc5E2+evZTQlAZxY8+euaEhyYQLMAObUJDxABUiwotkyH6gNESTV6zlLRYE46WoKfFVACje1A/Mhg0swIAAh+QQFBQACACzLAC4BFAALAAAIYQAFCBxIsKBAY0MCGFwoMJqTAECMMSxozUqBGb38TRz4jUwBFa/6bRR4Lk4BEqfyjRTADpCDDZrqrZT3KEKESPJW1tO0wQEgdivznSJRYM65lQLqqShg5hvSgaO4aXwqICAAIfkEBQUAAgAsuwAzARkADgAACF0ABQgcSLCgwYF8Dio8uGihw4cQI0LMx0riQYoqAnCx9s+igHynMnqx5vHjKBIFwnDz57EeKJRkuJV0+aHAGZktM9V0862kvEwbCswhV1LArKB3iBYVgIzPuaUDAwIAIfkEBQUAAgAsqwA/ARMACgAACFYABQgcSLAgPEkFExIkx8eBgzvpFBK0dqbAhkTsJAr0h0xKABKg6mkU0O8WkAAzZuUbme+UigJKgPkbefBDAS7RRgrIxyeCgzjfdG50ciij0IEzjw4MCAAh+QQFBQACACydAEYBEAAJAAAITAAFCBxIkCC5gggF+EPmpYCFhALzscoR4MWoegnPHfoQQIqxfgj9NWsYgc+3hPle8QigYpS8hOkScZQCzB9EAbMc3OF2c2C+lz0HBgQAIfkEBQUAAgAsjwBNARAABwAACEIABQgcSFCAP2BcCkQoSDCdJBUBZoxiKKAfMCsFHLBp5o/huUckCuQ4JY9hv14YHbiJ1pGhPx4BeJCkSLAXNZoFAwIAIfkEBQUAAgAsgwBSAQ4ABwAACEEABQgcSFAAt0MkCg5kB4pHgA1zCtabZaVAAS638g30h4xNhAJDTsEjeO6QigAqFn1TKCCahTjN/LEU6E/jzIEBAQAh+QQFBQACACx4AFYBDwAGAAAIPgAFCBxIUAA3ASQKFBToj9uiGQEWCvBnjc+LABHM9Ko30B+1QyoKWFADLF9BSSoCbGADrJ1EAXfiGDP5UmBAACH5BAUFAAIALG0AWgEMAAYAAAg1AAUIHDiwXzNABAXCmxVmQ4APAv1ZyzSkQIAciZr1szaHRAEHVlidIwhMxR1j+RJG9KeSYEAAIfkEBQUAAgAsYwBdAQsABQAACC8ABQgcOFBeL4IC6hkbNKRAAAH5kD1SUqDAhzCnvsFzEGADl1Hc+hE8ZU0kQgEBAQAh+QQFBQACACxbAF8BEAAFAAAINAAFCBxIUECkggTZ9TrkRKAFAaAE+MtHbRQZFQECfLCiCeGLAAWG8JlFzh9Cgb2a5TuJMCAAIfkEBQUAAgAsUwBiAQ0AAwAACCUABQiU12xUnCEOBAq4A8qKigABCuQwA0qhgDBOAL2yls+iwoAAACH5BAUFAAIALEwAYwEIAAMAAAgcAAUIFCCP2qxFmdQM+RCg4YccQMJEmhUNnoCAAAAh+QQFBQACACxFAGQBCwADAAAIIQAFCMxHDtksgUoEUMvxIYDDABYEPuKVxU4jUrqUCRQYEAAh+QQFBQACACxAAGUBBwACAAAIEwCBjZLE54wUHjIOZECxg4mAgAAAIfkEBQUAAgAsOwBlAQcAAgAACBAA2XGLhgzYrFNbDihUKCAgACH5BAUFAAIALDcAZQEFAAIAAAgNAOvBY3eOHJMDCA8EBAAh+QQFBQACACwzAGUBBQACAAAIDAD9yRsIT9mBgwcCAgAh+QQFBQACACwxAGUBAwACAAAICgDryZO348CBgAAAIfkEBQUAAgAsLwBlAQMAAgAACAoA68mTJ+PAgYAAACH5BAUFAAIALC4AZQECAAIAAAgHAJXJO3AgIAAh+QQFBQACACxXAo8BAQABAAAIBAAFBAQAIfkEBQUAAgAsVwKPAQEAAQAACAQABQQEACH5BAUFAAIALFcCjwEBAAEAAAgEAAUEBAAh+QQFBQACACxXAo8BAQABAAAIBAAFBAQAIfkEBQUAAgAsLgBlAQIAAQAACAUAicELCAAh+QQFBQACACwvAGUBAgABAAAIBQDPpQsIACH5BAUFAAIALDEAZQEDAAEAAAgGANOlgxcQACH5BAUFAAIALDMAZQEDAAEAAAgGANOlOxcQACH5BAUFAAIALDYAZQEEAAEAAAgHAM+dI5cuIAAh+QQFBQACACw5AGUBBAABAAAIBwC/cbNmLSAAIfkEBQUAAgAsPABlAQYAAQAACAoAoxnrNUvAqIAAACH5BAUFAAIALEAAZQEHAAIAAAgRAFllAsTGi5UcAgQcWFhkS0AAIfkEBQUAAgAsRABlAQUAAgAACA0AuShR4UCAgAMIDwQEACH5BAUFAAIALEkAZQEFAAIAAAgMAAUILDDjgMEDOwICACH5BAUFAAIALE0AZQEGAAIAAAgOAF9Y4XPKWLoDCBHuCAgAIfkEBQUAAgAsUgBlAQYAAgAACAsAz8kbOPCAwYMBAQAh+QQFBQACACxYAGUBBgACAAAIDADlCRSY74BBg3YCAgAh+QQFBQACACxdAGUBBwACAAAIDADlCRzo74DBg8QCAgAh+QQFBQACACxjAGUBBgACAAAIDADlCRRY74BBgyECAgAh+QQFBQACACxoAGUBBwACAAAIDADlCRxY74DBgy0CAgAh+QQFBQACACxuAGUBBwACAAAIDADlCRxY74DBgyECAgAh+QQFBQACACx0AGUBBwACAAAIDADlCRwo74DBgwcCAgAh+QQFBQACACx7AGUBBwACAAAIDgDlCaQCT16/AwgT0goIACH5BAUFAAIALIEAZQEHAAIAAAgMAOUJHJjvgMGDfwICACH5BAUFAAIALIcAZQEHAAIAAAgMAOUJHFjvgMGDTAICACH5BAUFAAIALI0AZQEHAAIAAAgMAOUJHCjvgMGDEwICACH5BAUFAAIALJMAZQEIAAIAAAgOAAXIG0jQ34GDCA/oCggAIfkEBQUAAgAsmgBlAQcAAgAACAwA5Qkc2O+AwYOfAgIAIfkEBQUAAgAsoABlAQcAAgAACAwA5QkcmO+AwYONAgIAIfkEBQUAAgAspgBlAQcAAgAACAwA5QkcmO+AwYOUAgIAIfkEBQUAAgAsrABlAQcAAgAACAwA5Qkc2O+AwYO0AgIAIfkEBQUAAgAssgBlAQYAAgAACAwA5QkUWO+AQYMhAgIAIfkEBQUAAgAstwBlAQcAAgAACAwA5QkcmO+AwYOGAgIAIfkEBQUAAgAsvQBlAQYAAgAACAwA5QkUWO+AQYNFAgIAIfkEBQUAAgAswgBlAQYAAgAACAwA5QkUWO+AQYMtAgIAOw==\" />"
      ],
      "text/plain": [
       "Plots.AnimatedGif(\"C:\\\\Users\\\\Daniel N\\\\.julia\\\\dev\\\\altro-mpc-icra2021\\\\benchmarks\\\\rocket_landing\\\\tmp.gif\")"
      ]
     },
     "execution_count": 22,
     "metadata": {},
     "output_type": "execute_result"
    }
   ],
   "source": [
    "xmin = minimum(xs)\n",
    "xmax = maximum(xs)\n",
    "\n",
    "zmin = minimum(zs)\n",
    "zmax = maximum(zs)\n",
    "\n",
    "@gif for i in 1:size(xs, 1)\n",
    "    plt = plot(xs[1:i], zs[1:i], label = \"Trajectory\", legend = :topleft)\n",
    "    xlabel!(\"x\")\n",
    "    ylabel!(\"z (height)\")\n",
    "    xlims!(xmin,xmax)\n",
    "    ylims!(zmin,zmax)\n",
    "    title!(titleText)\n",
    "end"
   ]
  },
  {
   "cell_type": "code",
   "execution_count": 23,
   "metadata": {},
   "outputs": [
    {
     "ename": "UndefVarError",
     "evalue": "UndefVarError: uxs not defined",
     "output_type": "error",
     "traceback": [
      "UndefVarError: uxs not defined",
      "",
      "Stacktrace:",
      " [1] top-level scope at In[23]:1"
     ]
    }
   ],
   "source": [
    "plt_ux = plot(uxs, label = \"Ux Control\")\n",
    "hline!([-ulateral_max, ulateral_max], linecolor = :grey, linestyle = :dash,\n",
    "                label = \"Max Lateral Thrust\")\n",
    "# xlabel!(\"time (s)\")\n",
    "ylabel!(\"control (N)\")\n",
    "title!(\"Controls over Time\")\n",
    "\n",
    "plt_uz = plot(uzs, label = \"Uz Control\")\n",
    "hline!([umax], linecolor = :grey, linestyle = :dash, label = \"Max Thrust\")\n",
    "xlabel!(\"time (s)\")\n",
    "ylabel!(\"control (N)\")\n",
    "\n",
    "plt_u = plot(plt_ux, plt_uz, layout = (2, 1))"
   ]
  },
  {
   "cell_type": "markdown",
   "metadata": {},
   "source": [
    "Below is a GIF of the trajectory. This will take several seconds to generate."
   ]
  },
  {
   "cell_type": "markdown",
   "metadata": {},
   "source": [
    "## Lastly, let's visualize the results in 3D with Meshcat\n",
    "\n",
    "To do this, we need to provide a Mesh to <code>MeshCat</code>. This is due with <code>FileIO</code> and <code>MeshIO</code>."
   ]
  },
  {
   "cell_type": "code",
   "execution_count": 24,
   "metadata": {},
   "outputs": [
    {
     "name": "stderr",
     "output_type": "stream",
     "text": [
      "┌ Info: MeshCat server started. You can open the visualizer by visiting the following URL in your browser:\n",
      "│ http://localhost:8700\n",
      "└ @ MeshCat C:\\Users\\Daniel N\\.julia\\packages\\MeshCat\\X2AUA\\src\\visualizer.jl:73\n"
     ]
    },
    {
     "data": {
      "text/html": [
       "    <div style=\"height: 500px; width: 100%; overflow-x: auto; overflow-y: hidden; resize: both\">\n",
       "    <iframe src=\"http://localhost:8700\" style=\"width: 100%; height: 100%; border: none\"></iframe>\n",
       "    </div>\n"
      ],
      "text/plain": [
       "MeshCat.DisplayedVisualizer(MeshCat.CoreVisualizer(MeshCat.SceneTrees.SceneNode(nothing, nothing, Dict{String,Array{UInt8,1}}(), nothing, Dict{String,MeshCat.SceneTrees.SceneNode}()), Set(Any[]), ip\"127.0.0.1\", 8700))"
      ]
     },
     "execution_count": 24,
     "metadata": {},
     "output_type": "execute_result"
    }
   ],
   "source": [
    "vis = Visualizer() # Creates a MeshCat Window\n",
    "render(vis) # Renders the window below"
   ]
  },
  {
   "cell_type": "code",
   "execution_count": 25,
   "metadata": {},
   "outputs": [
    {
     "data": {
      "text/plain": [
       "MeshCat Visualizer with path /meshcat/robot/geom at http://localhost:8700"
      ]
     },
     "execution_count": 25,
     "metadata": {},
     "output_type": "execute_result"
    }
   ],
   "source": [
    "function TrajOptPlots._set_mesh!(vis, model::Rocket)\n",
    "    obj = joinpath(@__DIR__, \"SimpleRocket.obj\")\n",
    "    quad_scaling = 0.085\n",
    "    robot_obj = FileIO.load(obj)\n",
    "    robot_obj.vertices .*= quad_scaling\n",
    "    mat = MeshPhongMaterial(color=colorant\"lightgrey\")\n",
    "    setobject!(vis[\"geom\"], robot_obj, mat)\n",
    "end\n",
    "\n",
    "TrajOptPlots.set_mesh!(vis, model)"
   ]
  },
  {
   "cell_type": "code",
   "execution_count": 26,
   "metadata": {},
   "outputs": [],
   "source": [
    "Base.position(::Rocket, x::StaticVector) = SA[x[1], x[2], x[3]]\n",
    "RobotDynamics.orientation(::Rocket, x::StaticVector) = UnitQuaternion(0,0,0,1)\n",
    "\n",
    "visualize!(vis, altro);"
   ]
  },
  {
   "cell_type": "markdown",
   "metadata": {},
   "source": [
    "## Integrate the Dynamics to Verify the Dynamics Constraint\n",
    "\n",
    "In Matlab, we would use ODE 45, but in the <code>DifferentialEquations.jl</code> package we can either (1) just let the <code>solve</code> method figure it out or (2) specify a solver such as <code>Tsit5</code>.\n",
    "\n",
    "The controls change over time and are discretized. Below, a zero-order hold and a first-order hold are implemented for comparison. **We used a zero-order hold in the optimization so a zero-order hold should be used here.**"
   ]
  },
  {
   "cell_type": "code",
   "execution_count": 27,
   "metadata": {},
   "outputs": [
    {
     "name": "stdout",
     "output_type": "stream",
     "text": [
      "  17.820 ms (340663 allocations: 12.94 MiB)\n"
     ]
    }
   ],
   "source": [
    "get_controls_zero_order_hold(t) = U[min(Int(floor(t/dt)) + 1, size(U,1))]\n",
    "f(y,p,t) = dynamics(model, y, get_controls_zero_order_hold(t))\n",
    "\n",
    "states_y0 = x0\n",
    "tspan = (0.0, tf)\n",
    "controls_p0 = get_controls_zero_order_hold(tspan[1])\n",
    "\n",
    "ode_prob_zoh = ODEProblem(f, states_y0, tspan, controls_p0)\n",
    "@btime solve(ode_prob_zoh, Tsit5(), reltol=1e-10, abstol=1e-10,saveat=dt)\n",
    "ode_sol_zoh = solve(ode_prob_zoh, Tsit5(), reltol=1e-10, abstol=1e-10,saveat=dt);"
   ]
  },
  {
   "cell_type": "code",
   "execution_count": 28,
   "metadata": {},
   "outputs": [
    {
     "name": "stdout",
     "output_type": "stream",
     "text": [
      "  1.358 ms (27652 allocations: 990.26 KiB)\n"
     ]
    }
   ],
   "source": [
    "function get_controls_first_order_hold(t)\n",
    "    # dt and U are both global variables\n",
    "    tn = t/dt\n",
    "    \n",
    "    t_below = Int(max(1, floor(tn)))\n",
    "    t_above = Int(min(size(U, 1), ceil(tn)))\n",
    "    \n",
    "    if t_below >= t_above\n",
    "        return U[t_below]\n",
    "    end\n",
    "    \n",
    "    slope = (U[t_above] - U[t_below])\n",
    "    return slope * (tn - t_below) + U[t_below]\n",
    "\n",
    "end\n",
    "\n",
    "\n",
    "f(y,p,t) = dynamics(model, y, get_controls_first_order_hold(t))\n",
    "\n",
    "states_y0 = x0\n",
    "tspan = (0.0, tf)\n",
    "controls_p0 = get_controls_first_order_hold(tspan[1])\n",
    "\n",
    "ode_prob_foh = ODEProblem(f, states_y0, tspan, controls_p0)\n",
    "@btime solve(ode_prob_foh, Tsit5(), reltol=1e-10, abstol=1e-10,saveat=dt)\n",
    "ode_sol_foh = solve(ode_prob_foh, Tsit5(), reltol=1e-10, abstol=1e-10,saveat=dt);"
   ]
  },
  {
   "cell_type": "code",
   "execution_count": 29,
   "metadata": {},
   "outputs": [
    {
     "ename": "DimensionMismatch",
     "evalue": "DimensionMismatch(\"dimensions must match: a has dims (Base.OneTo(40),), b has dims (Base.OneTo(39),), mismatch at 1\")",
     "output_type": "error",
     "traceback": [
      "DimensionMismatch(\"dimensions must match: a has dims (Base.OneTo(40),), b has dims (Base.OneTo(39),), mismatch at 1\")",
      "",
      "Stacktrace:",
      " [1] promote_shape at .\\indices.jl:178 [inlined]",
      " [2] promote_shape at .\\indices.jl:169 [inlined]",
      " [3] -(::Array{SArray{Tuple{6},Float64,1,6},1}, ::Array{SArray{Tuple{6},Float64,1,6},1}) at .\\arraymath.jl:38",
      " [4] top-level scope at In[29]:1"
     ]
    }
   ],
   "source": [
    "err_zoh = norm.(ode_sol_zoh.u - X[1:(Int(floor(tspan[2]/dt))+1)])\n",
    "err_foh = norm.(ode_sol_foh.u - X[1:(Int(floor(tspan[2]/dt))+1)])\n",
    "\n",
    "plot(ode_sol_zoh.t, err_zoh, yaxis = :log, label = \"Zero-Order Hold\")\n",
    "plot!(ode_sol_foh.t, err_foh, yaxis = :log, label = \"First-Order Hold\")\n",
    "xlabel!(\"Time (s)\")\n",
    "ylabel!(\"Dynamics Error\")\n",
    "title!(\"Comparison in State Vector expected from ALTRO Solver \\n to Integrated Dynamics Model\")"
   ]
  },
  {
   "cell_type": "code",
   "execution_count": null,
   "metadata": {},
   "outputs": [],
   "source": []
  }
 ],
 "metadata": {
  "kernelspec": {
   "display_name": "Julia 1.4.2",
   "language": "julia",
   "name": "julia-1.4"
  },
  "language_info": {
   "file_extension": ".jl",
   "mimetype": "application/julia",
   "name": "julia",
   "version": "1.4.2"
  }
 },
 "nbformat": 4,
 "nbformat_minor": 4
}
