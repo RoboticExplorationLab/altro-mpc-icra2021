{
 "cells": [
  {
   "cell_type": "markdown",
   "metadata": {},
   "source": [
    "# Model Predictive Control Rocket Soft-Landing Problem\n",
    "\n",
    "This notebook is a walkthough of the ALTRO solver for the MPC Rocket Soft-Landing Problem (i.e. the general control challenge of landing a rocket at rest at a designated landing site). In the simplest case, we treat the rocket as a sphere landing on a flat surface with no atmosphere. This approximation is reasonable when the rocket is near the ground and entering the final part of the descent.\n",
    "\n",
    "**This files focuses on the MPC problem and comparing the result to other solvers. For the simple (non-MPC) application, please visit the <code>RocketLandingSimplified.ipynb</code> file. Thanks!**"
   ]
  },
  {
   "cell_type": "code",
   "execution_count": 1,
   "metadata": {},
   "outputs": [],
   "source": [
    "# using Pkg\n",
    "# Pkg.activate(\".\")\n",
    "# Pkg.instantiate()"
   ]
  },
  {
   "cell_type": "markdown",
   "metadata": {},
   "source": [
    "## MPC Problem Outline\n",
    "\n",
    "For the MPC application, we must fulfill two critical steps:\n",
    "1. Solve the optimal trajectory and apply the required controls (usually a short horizon)\n",
    "2. Use the prior trajectory to warm-start the next solve\n",
    "\n",
    "In this Jupyter notebook, we will:\n",
    "1. Set up the rocket soft-landing problem \n",
    "2. Solve the initial trajectory optimization problem\n",
    "3. Execute the control (and propagate forward in time)\n",
    "4. Warm-Start the next iteration\n",
    "5. Solve the next trajectory optimization problem\n",
    "6. Repeat steps 3-5 until arrival at the landing location"
   ]
  },
  {
   "cell_type": "markdown",
   "metadata": {},
   "source": [
    "# Step 1: Set-Up the Rocket Soft-Landing Problem"
   ]
  },
  {
   "cell_type": "markdown",
   "metadata": {},
   "source": [
    "## Load Required Packages\n",
    "\n",
    "The <code>RobotDynamics</code> package enables us to define the rocket model and dynamics. The <code>TrajectoryOptimization</code> and <code>Altro</code> set-up and solve the trajectory optimization problem. <code>StaticArrays</code> and <code>LinearAlgebra</code> are required to set-up the appropriate data types.\n",
    "\n",
    "Next, <code>Plots, MeshCat, TrajOptPlots, FileIO,</code> and <code>MeshIO</code> packages are used to visualize the results. Note that the plotting sections will take significantly longer to run than the optimization. \n",
    "\n",
    "Lastly, <code>DifferentialEquations</code> integrates the dynamics forward as a way to show that the dynamics constraints are satisfied.\n",
    "\n",
    "Loading all the packages, especially for plotting and the differential equations integrator can be the longest part of the whole notebook."
   ]
  },
  {
   "cell_type": "code",
   "execution_count": 96,
   "metadata": {},
   "outputs": [
    {
     "name": "stdout",
     "output_type": "stream",
     "text": [
      "Trajectory Optimization Packages Ready\n",
      "Base Plotting Packages Ready\n",
      "3D Plotting Packages Ready\n",
      "Differential Equations Ready\n"
     ]
    }
   ],
   "source": [
    "using RobotDynamics\n",
    "import RobotDynamics: dynamics\n",
    "using Rotations\n",
    "using TrajectoryOptimization, Altro\n",
    "using StaticArrays, LinearAlgebra\n",
    "println(\"Trajectory Optimization Packages Ready\")\n",
    "\n",
    "using Plots\n",
    "pyplot()\n",
    "println(\"Base Plotting Packages Ready\")\n",
    "\n",
    "using MeshCat, TrajOptPlots\n",
    "using FileIO, MeshIO\n",
    "println(\"3D Plotting Packages Ready\")\n",
    "\n",
    "import DifferentialEquations.solve, DifferentialEquations.ODEProblem, DifferentialEquations.Tsit5\n",
    "using BenchmarkTools\n",
    "println(\"Differential Equations Ready\")"
   ]
  },
  {
   "cell_type": "markdown",
   "metadata": {},
   "source": [
    "## Define and Create the Rocket Model\n",
    "\n",
    "Unlike the Cartpole and Quadrotor models, the Rocket Model is not in the <code>RobotZoo.jl</code> package. Instead, here we build off of work found in the repository below to develop a simplified rocket soft-landing scenario (i.e. no second-order cone constraints and no attitude dynamics). https://github.com/danineamati/TrajOptSOCPs.jl\n",
    "\n",
    "First, to prepare the model, we inherit from the <code>AbstractModel</code> type (see http://roboticexplorationlab.org/RobotDynamics.jl/dev/models.html and http://roboticexplorationlab.org/TrajectoryOptimization.jl/stable/models.html for more information). In the simplified case, <code>Rocket</code> only holds the mass and the gravity vector. In the full rocket landing problem, the inertia matrix must also be provided. Separately, the thurster's specific impulse can be used to scale the optimal controls."
   ]
  },
  {
   "cell_type": "code",
   "execution_count": 149,
   "metadata": {},
   "outputs": [
    {
     "data": {
      "text/plain": [
       "Rocket"
      ]
     },
     "execution_count": 149,
     "metadata": {},
     "output_type": "execute_result"
    }
   ],
   "source": [
    "struct Rocket{T} <: AbstractModel\n",
    "    mass::T  # mass of the rocket\n",
    "    g::SArray{Tuple{3},T,1,3}   # gravity\n",
    "end\n",
    "\n",
    "# Set-up the default constructor for ease of use\n",
    "Rocket() = Rocket(10.0, SA[0.0; 0.0; -9.81])"
   ]
  },
  {
   "cell_type": "markdown",
   "metadata": {},
   "source": [
    "## Detail the Rocket Dynamics\n",
    "\n",
    "For the simplified rocket problem, we choose to ignore the attitude dynamics. Applying newton's second law or by forming a Lagrangian, we arrive at the following sparse system\n",
    "\n",
    "$$\\frac{dx}{dt} = Ax + Bu + g$$\n",
    "\n",
    "Where $A = \\begin{bmatrix}0 & I\\\\ 0 & 0 \\end{bmatrix}$, $B = \\begin{bmatrix}0 \\\\ \\frac{1}{m} I\\end{bmatrix}$, and $G = \\begin{bmatrix} 0 \\\\ -g \\end{bmatrix}$. For the 3D case, these are $(6 \\times 6)$, $(6 \\times 3)$, and $(6 \\times 1)$ matricies, respectively.\n",
    "\n",
    "Since the system is so sparse, we can reduce unnecessary computations by writing the equations for the first and second derivatives. We use the notation of $q = [x; y; z]$ (the positions) and $\\frac{dq}{dt} = [v_x; v_y; v_z]$ (the velocities). \n",
    "\n",
    "$$\\frac{dq}{dt} = \\frac{dq}{dt}$$\n",
    "$$\\frac{d^2q}{dt^2} = \\frac{1}{m} u - g$$"
   ]
  },
  {
   "cell_type": "code",
   "execution_count": 150,
   "metadata": {},
   "outputs": [],
   "source": [
    "\"\"\"\n",
    "    dynamics(model::Rocket, x, u)\n",
    "\n",
    "For the simple rocket, we have a linear dynamics system.\n",
    "\"\"\"\n",
    "function dynamics(model::Rocket, x, u)\n",
    "    m = model.mass   # mass of the rocket in kg (1)\n",
    "    g = model.g     # gravity m/s^2\n",
    "\n",
    "    # q  = x[SA[1,2,3]] # [x, y, z, ...]\n",
    "    qd = x[SA[4,5,6]] # [..., vx, vy, vz]\n",
    "\n",
    "    nDim = size(u, 1) # i.e. a 3D system -> 3\n",
    "    B = -(1/m) * I\n",
    "\n",
    "    qdd = B * u - g\n",
    "    return [qd; qdd]\n",
    "end\n",
    "\n",
    "RobotDynamics.state_dim(::Rocket) = 6\n",
    "RobotDynamics.control_dim(::Rocket) = 3"
   ]
  },
  {
   "cell_type": "markdown",
   "metadata": {},
   "source": [
    "## Instantiate the Model and Define the Discretization\n",
    "\n",
    "Feel free to choose <code>N</code> and <code>tf</code> based on your needs."
   ]
  },
  {
   "cell_type": "code",
   "execution_count": 151,
   "metadata": {},
   "outputs": [
    {
     "data": {
      "text/latex": [
       "0 . 0 4"
      ],
      "text/plain": [
       "0.04"
      ]
     },
     "metadata": {},
     "output_type": "display_data"
    },
    {
     "data": {
      "text/plain": [
       "Rocket{Float64}(10.0, [0.0, 0.0, -9.81])"
      ]
     },
     "execution_count": 151,
     "metadata": {},
     "output_type": "execute_result"
    }
   ],
   "source": [
    "model = Rocket()\n",
    "n, m = size(model)\n",
    "# n is the size of the states ([x, y, z, vx, vy, vz])\n",
    "# m is the size of the control thrust ([Tx, Ty, Tz]])\n",
    "\n",
    "# Trajectory Discretization\n",
    "N = 251\n",
    "tf = 10.\n",
    "dt = tf/(N-1)\n",
    "\n",
    "display(dt)\n",
    "model # (Simply for information) Display the struct as the cell output "
   ]
  },
  {
   "cell_type": "markdown",
   "metadata": {},
   "source": [
    "## Specify the Initial and Final Conditions\n",
    "\n",
    "Choose the initial and final points. Note that these must be full state vectors ($[x; y; z; v_x; v_y; v_z]$). The initial point is generally the rocket's current state. The final point is generally the rocket's landing stop. Note that the final velocity of the rocket should **always** be $[0.0; 0.0; 0.0]$ to have a **soft** landing."
   ]
  },
  {
   "cell_type": "code",
   "execution_count": 152,
   "metadata": {},
   "outputs": [],
   "source": [
    "# Initial and Final Conditions\n",
    "x0 = @SVector [4.0, 2.0, 20.0, -3.0, 2.0, -15.0] # Start at a 20 m altitude with an ~15 m/s plummet\n",
    "xf = @SVector zeros(n);  # Swing pendulum up and end at rest"
   ]
  },
  {
   "cell_type": "markdown",
   "metadata": {},
   "source": [
    "## Set-Up the LQR Objective Function\n",
    "\n",
    "For this problem, we choose an LQR Objective Function. One can add waypoints or change the weights to craft different optimal trajectories. See http://roboticexplorationlab.org/TrajectoryOptimization.jl/stable/costfunctions.html for more information."
   ]
  },
  {
   "cell_type": "code",
   "execution_count": 153,
   "metadata": {},
   "outputs": [
    {
     "data": {
      "text/plain": [
       "Objective"
      ]
     },
     "execution_count": 153,
     "metadata": {},
     "output_type": "execute_result"
    }
   ],
   "source": [
    "Q = 1.0e-2 * Diagonal(@SVector ones(n))\n",
    "Qf = 100.0 * Diagonal(@SVector ones(n))\n",
    "R = 1.0e-1 * Diagonal(@SVector ones(m))\n",
    "obj = LQRObjective(Q,R,Qf,xf,N)"
   ]
  },
  {
   "cell_type": "markdown",
   "metadata": {},
   "source": [
    "## Define the Constraints\n",
    "\n",
    "For the simple rocket soft-landing problem, we will include 4 constraints:\n",
    "1. Crash Prevention Constraint ($z > 0$)\n",
    "2. Vertical Thrust Bounds ($0 < u_z < u_{z, \\ max}$), which is a simplification of a max thrust constraint\n",
    "3. Lateral Thurst Bounds ($-u_{lateral, \\ max} < u_{x, y} < u_{lateral, \\ max}$), which is a simplification of a max thrust angle constraint\n",
    "4. Landing Site Designation ($x[t_f] = x_f$)\n",
    "\n",
    "For details on the implemented constraint types, please check out http://roboticexplorationlab.org/TrajectoryOptimization.jl/stable/constraints.html."
   ]
  },
  {
   "cell_type": "code",
   "execution_count": 154,
   "metadata": {},
   "outputs": [],
   "source": [
    "# Create Empty ConstraintList\n",
    "conSet = ConstraintList(n,m,N)\n",
    "\n",
    "# Bounds\n",
    "ground_level = 0.0 # Crash Prevention Constraint\n",
    "umax = 11 * model.mass # Simplified Max Thrust Constraint\n",
    "theta = 20 # deg. Max Angle Constraint\n",
    "ulateral_max = umax * sind(theta)\n",
    "\n",
    "# To ignore constraints 2 and 3, use the code below\n",
    "# bnd = BoundConstraint(n,m, x_min=[-Inf, -Inf, ground_level,\n",
    "#                                   -Inf, -Inf, -Inf])\n",
    "\n",
    "# To include constraints 2 and 3, use the code below\n",
    "bnd = BoundConstraint(n,m, x_min=[-Inf, -Inf, ground_level,\n",
    "                                  -Inf, -Inf, -Inf],\n",
    "                           u_min=[-ulateral_max, -ulateral_max, 0   ],\n",
    "                           u_max=[ ulateral_max,  ulateral_max, umax])\n",
    "add_constraint!(conSet, bnd, 1:N-1)\n",
    "\n",
    "# Goal Constraint that the rocket must reach the landing site.\n",
    "goal = GoalConstraint(xf)\n",
    "add_constraint!(conSet, goal, N)"
   ]
  },
  {
   "cell_type": "markdown",
   "metadata": {},
   "source": [
    "## Stitch together the objective and constraints\n",
    "\n",
    "See http://roboticexplorationlab.org/TrajectoryOptimization.jl/stable/creating_problems.html for more information."
   ]
  },
  {
   "cell_type": "code",
   "execution_count": 155,
   "metadata": {},
   "outputs": [],
   "source": [
    "# Package the objective and constraints into a \"problem\" type\n",
    "prob = Problem(model, obj, xf, tf, x0=x0, constraints=conSet);"
   ]
  },
  {
   "cell_type": "markdown",
   "metadata": {},
   "source": [
    "## Initialize the Trajectory\n",
    "\n",
    "We choose to initialize the trajectory at a hover (i.e. the rocket trajectory will initially only counter gravity). Note that this is **not** a warm start."
   ]
  },
  {
   "cell_type": "code",
   "execution_count": 156,
   "metadata": {},
   "outputs": [],
   "source": [
    "u0 = model.g # controls that would nominally hover\n",
    "U0 = [u0 for k = 1:N-1] # vector of the small controls\n",
    "initial_controls!(prob, U0)\n",
    "rollout!(prob);"
   ]
  },
  {
   "cell_type": "markdown",
   "metadata": {},
   "source": [
    "## Select the solver options\n",
    "\n",
    "For more information, please visit https://github.com/RoboticExplorationLab/Altro.jl/blob/master/README.md for more details on the solver options.\n",
    "\n",
    "Using the Altro package, we can now specify parameters and solve the problem."
   ]
  },
  {
   "cell_type": "code",
   "execution_count": 157,
   "metadata": {},
   "outputs": [
    {
     "data": {
      "text/plain": [
       "SolverOptions{Float64}\n",
       "  constraint_tolerance: Float64 1.0e-6\n",
       "  cost_tolerance: Float64 0.0001\n",
       "  cost_tolerance_intermediate: Float64 0.01\n",
       "  gradient_tolerance: Float64 10.0\n",
       "  gradient_tolerance_intermediate: Float64 1.0\n",
       "  iterations_inner: Int64 300\n",
       "  dJ_counter_limit: Int64 10\n",
       "  square_root: Bool false\n",
       "  line_search_lower_bound: Float64 1.0e-8\n",
       "  line_search_upper_bound: Float64 10.0\n",
       "  iterations_linesearch: Int64 20\n",
       "  max_cost_value: Float64 1.0e8\n",
       "  max_state_value: Float64 1.0e8\n",
       "  max_control_value: Float64 1.0e8\n",
       "  static_bp: Bool true\n",
       "  save_S: Bool false\n",
       "  bp_reg: Bool false\n",
       "  bp_reg_initial: Float64 0.0\n",
       "  bp_reg_increase_factor: Float64 1.6\n",
       "  bp_reg_max: Float64 1.0e8\n",
       "  bp_reg_min: Float64 1.0e-8\n",
       "  bp_reg_type: Symbol control\n",
       "  bp_reg_fp: Float64 10.0\n",
       "  penalty_initial: Float64 1.0\n",
       "  penalty_scaling: Float64 10.0\n",
       "  active_set_tolerance_al: Float64 0.001\n",
       "  dual_max: Float64 NaN\n",
       "  penalty_max: Float64 NaN\n",
       "  iterations_outer: Int64 30\n",
       "  kickout_max_penalty: Bool false\n",
       "  reset_duals: Bool true\n",
       "  reset_penalties: Bool true\n",
       "  verbose_pn: Bool false\n",
       "  n_steps: Int64 2\n",
       "  solve_type: Symbol feasible\n",
       "  projected_newton_tolerance: Float64 0.001\n",
       "  active_set_tolerance_pn: Float64 0.001\n",
       "  multiplier_projection: Bool true\n",
       "  ρ_chol: Float64 0.01\n",
       "  ρ_primal: Float64 1.0e-8\n",
       "  ρ_dual: Float64 1.0e-8\n",
       "  r_threshold: Float64 1.1\n",
       "  projected_newton: Bool true\n",
       "  iterations: Int64 1000\n",
       "  show_summary: Bool false\n",
       "  verbose: Int64 0\n"
      ]
     },
     "execution_count": 157,
     "metadata": {},
     "output_type": "execute_result"
    }
   ],
   "source": [
    "opts = SolverOptions(\n",
    "    cost_tolerance_intermediate=1e-2,\n",
    "    penalty_scaling=10.,\n",
    "    penalty_initial=1.0\n",
    ")"
   ]
  },
  {
   "cell_type": "markdown",
   "metadata": {},
   "source": [
    "# Step 2: Solve the initial trajectory optimization problem"
   ]
  },
  {
   "cell_type": "markdown",
   "metadata": {},
   "source": [
    "Show summary is set to <code>true</code> to print the solver speed. In general the solve will take about 23 iterations and 20-40 ms to complete. The constraint violation should be around $10^{-4}$ or better."
   ]
  },
  {
   "cell_type": "code",
   "execution_count": 158,
   "metadata": {},
   "outputs": [
    {
     "data": {
      "text/plain": [
       "BenchmarkTools.Trial: \n",
       "  memory estimate:  32.47 MiB\n",
       "  allocs estimate:  6648\n",
       "  --------------\n",
       "  minimum time:     24.493 ms (1.44% GC)\n",
       "  median time:      25.926 ms (1.51% GC)\n",
       "  mean time:        25.872 ms (1.67% GC)\n",
       "  maximum time:     27.534 ms (1.92% GC)\n",
       "  --------------\n",
       "  samples:          10\n",
       "  evals/sample:     10"
      ]
     },
     "execution_count": 158,
     "metadata": {},
     "output_type": "execute_result"
    }
   ],
   "source": [
    "altro = ALTROSolver(prob, opts)\n",
    "b = benchmark_solve!(altro)"
   ]
  },
  {
   "cell_type": "markdown",
   "metadata": {},
   "source": [
    "Now we can solve it and show the summary"
   ]
  },
  {
   "cell_type": "code",
   "execution_count": 159,
   "metadata": {},
   "outputs": [
    {
     "name": "stdout",
     "output_type": "stream",
     "text": [
      "\u001b[32;1m\n",
      "SOLVE COMPLETED\n",
      "\u001b[0m solved using the \u001b[0m\u001b[36;1mALTRO\u001b[0m Solver,\n",
      " part of the Altro.jl package developed by the REx Lab at Stanford and Carnegie Mellon Universities\n",
      "\u001b[34;1m\n",
      "  Solve Statistics\n",
      "\u001b[0m    Total Iterations: 15\n",
      "\u001b[0m    Solve Time: 26.8799 (ms)\n",
      "\u001b[34;1m\n",
      "  Covergence\n",
      "\u001b[0m    Terminal Cost: 3740.639974972861\n",
      "\u001b[0m    Terminal dJ: \u001b[32m-0.005429616860510578\n",
      "\u001b[0m    Terminal gradient: \u001b[32m0.0030289233291732032\n",
      "\u001b[0m    Terminal constraint violation: \u001b[31m0.00045200403765490284\n",
      "\u001b[0m    Solve Status: \u001b[1m\u001b[32mSOLVE_SUCCEEDED\n"
     ]
    }
   ],
   "source": [
    "set_options!(altro, show_summary=true)\n",
    "solve!(altro);"
   ]
  },
  {
   "cell_type": "markdown",
   "metadata": {},
   "source": [
    "Access the Trajectory"
   ]
  },
  {
   "cell_type": "code",
   "execution_count": 160,
   "metadata": {},
   "outputs": [],
   "source": [
    "X = states(altro)\n",
    "U = controls(altro);"
   ]
  },
  {
   "cell_type": "markdown",
   "metadata": {},
   "source": [
    "## Step 3: Integrate the Dynamics to Verify the Dynamics Constraint\n",
    "\n",
    "In Matlab, we would use ODE 45, but in the <code>DifferentialEquations.jl</code> package we can either (1) just let the <code>solve</code> method figure it out or (2) specify a solver such as <code>Tsit5</code>."
   ]
  },
  {
   "cell_type": "code",
   "execution_count": 161,
   "metadata": {},
   "outputs": [],
   "source": [
    "num_timesteps = 3\n",
    "\n",
    "get_controls(t) = U[min(Int(floor(t/dt)) + 1, size(U,1))]\n",
    "f(y,p,t) = dynamics(model, y, get_controls(t))\n",
    "\n",
    "states_y0 = x0\n",
    "tspan = (0.0, dt * num_timesteps)\n",
    "controls_p0 = get_controls(tspan[1])\n",
    "\n",
    "# Use the DifferentialEquations.jl Package\n",
    "ode_prob = ODEProblem(f, states_y0, tspan, controls_p0)\n",
    "ode_sol = solve(ode_prob, Tsit5(), reltol=1e-10, abstol=1e-10);"
   ]
  },
  {
   "cell_type": "markdown",
   "metadata": {},
   "source": [
    "## Step 4: Warm-Start the next iteration"
   ]
  },
  {
   "cell_type": "code",
   "execution_count": 162,
   "metadata": {},
   "outputs": [
    {
     "data": {
      "text/latex": [
       "0 . 0 3 9 8 3 8 7 0 9 6 7 7 4 1 9 3 6"
      ],
      "text/plain": [
       "0.03983870967741936"
      ]
     },
     "execution_count": 162,
     "metadata": {},
     "output_type": "execute_result"
    }
   ],
   "source": [
    "# warm_start_states = X[num_timesteps:end]\n",
    "warm_start_controls = U[num_timesteps:end]\n",
    "x0 = ode_sol.u[end]\n",
    "\n",
    "N = size(warm_start_controls, 1) + 1\n",
    "tf = tf - dt * num_timesteps\n",
    "dt = tf / (N - 1)"
   ]
  },
  {
   "cell_type": "markdown",
   "metadata": {},
   "source": [
    "## Step 5 & 6: Solve the Problem and Repeat\n",
    "\n",
    "Now that we've seen each step in detail, let's put it all into a function and repeat it until landing."
   ]
  },
  {
   "cell_type": "code",
   "execution_count": 163,
   "metadata": {},
   "outputs": [
    {
     "data": {
      "text/plain": [
       "MPC (generic function with 3 methods)"
      ]
     },
     "execution_count": 163,
     "metadata": {},
     "output_type": "execute_result"
    }
   ],
   "source": [
    "function diffEq_Model(model::Rocket, U, dt)\n",
    "    get_controls(t) = U[min(Int(floor(t/dt)) + 1, size(U,1))]\n",
    "    f(y,p,t) = dynamics(model, y, get_controls(t))\n",
    "\n",
    "    states_y0 = x0\n",
    "    tspan = (0.0, dt * num_timesteps)\n",
    "    controls_p0 = get_controls(tspan[1])\n",
    "\n",
    "    # Use the DifferentialEquations.jl Package\n",
    "    ode_prob = ODEProblem(f, states_y0, tspan, controls_p0)\n",
    "    ode_sol = solve(ode_prob, Tsit5(), reltol=1e-10, abstol=1e-10);\n",
    "\n",
    "    return ode_sol.u[end]\n",
    "end\n",
    "\n",
    "function MPC(model::Rocket, solver, x0, U_init, N, tf)\n",
    "    \n",
    "#     println(\"Setting Up Problem\")\n",
    "    # Reset the objective function\n",
    "    obj = LQRObjective(Q,R,Qf,xf,N)\n",
    "    \n",
    "    # Create Empty ConstraintList\n",
    "    conSet = ConstraintList(n,m,N)\n",
    "\n",
    "    # Bounds\n",
    "    ground_level = 0.0 # Crash Prevention Constraint\n",
    "    umax = 11 * model.mass # Simplified Max Thrust Constraint\n",
    "    theta = 20 # deg. Max Angle Constraint\n",
    "    ulateral_max = umax * sind(theta)\n",
    "\n",
    "    # To ignore constraints 2 and 3, use the code below\n",
    "    # bnd = BoundConstraint(n,m, x_min=[-Inf, -Inf, ground_level,\n",
    "    #                                   -Inf, -Inf, -Inf])\n",
    "\n",
    "    # To include constraints 2 and 3, use the code below\n",
    "    bnd = BoundConstraint(n,m, x_min=[-Inf, -Inf, ground_level,\n",
    "                                      -Inf, -Inf, -Inf],\n",
    "                               u_min=[-ulateral_max, -ulateral_max, 0   ],\n",
    "                               u_max=[ ulateral_max,  ulateral_max, umax])\n",
    "    add_constraint!(conSet, bnd, 1:N-1)\n",
    "\n",
    "    # Goal Constraint that the rocket must reach the landing site.\n",
    "    goal = GoalConstraint(xf)\n",
    "    add_constraint!(conSet, goal, N)\n",
    "    \n",
    "    # Package the objective and constraints into a \"problem\" type\n",
    "    prob = Problem(model, obj, xf, tf, x0=x0, constraints=conSet);\n",
    "    \n",
    "#     println(\"Initial Controls\")\n",
    "    # Set the current controls (ideally warm-started)\n",
    "    initial_controls!(prob, U_init)\n",
    "    rollout!(prob);\n",
    "    \n",
    "#     println(\"Solving\")\n",
    "    # Solve the new trajectory\n",
    "    a_s = ALTROSolver(prob, opts)\n",
    "    solve!(a_s);\n",
    "    \n",
    "#     println(\"Accessing\")\n",
    "    # Access the states and controls\n",
    "    X = states(a_s)\n",
    "    U = controls(a_s)\n",
    "    \n",
    "#     println(\"Propogate System\")\n",
    "    # Use the dynamics model (and any disturbances) and propogate forward in time\n",
    "    x0 = diffEq_Model(model, U, dt)\n",
    "    \n",
    "#     println(\"Warm-Start Next Iteration\")\n",
    "    U_new = U[num_timesteps:end]\n",
    "    N = size(U_new, 1) + 1\n",
    "    tf = tf - dt * num_timesteps\n",
    "    \n",
    "    # Warm-Start the Next Iteration\n",
    "    return x0, U_new, N, tf\n",
    "    \n",
    "end"
   ]
  },
  {
   "cell_type": "code",
   "execution_count": 164,
   "metadata": {},
   "outputs": [
    {
     "name": "stdout",
     "output_type": "stream",
     "text": [
      "\u001b[32;1m\n",
      "SOLVE COMPLETED\n",
      "\u001b[0m solved using the \u001b[0m\u001b[36;1mALTRO\u001b[0m Solver,\n",
      " part of the Altro.jl package developed by the REx Lab at Stanford and Carnegie Mellon Universities\n",
      "\u001b[34;1m\n",
      "  Solve Statistics\n",
      "\u001b[0m    Total Iterations: 16\n",
      "\u001b[0m    Solve Time: 24.8521 (ms)\n",
      "\u001b[34;1m\n",
      "  Covergence\n",
      "\u001b[0m    Terminal Cost: 3735.528434980698\n",
      "\u001b[0m    Terminal dJ: \u001b[32m-0.006007443312682881\n",
      "\u001b[0m    Terminal gradient: \u001b[32m0.003176896865150655\n",
      "\u001b[0m    Terminal constraint violation: \u001b[31m0.0004760090237265124\n",
      "\u001b[0m    Solve Status: \u001b[1m\u001b[32mSOLVE_SUCCEEDED\n"
     ]
    }
   ],
   "source": [
    "a = MPC(model, ALTROSolver, x0, warm_start_controls, N, tf);"
   ]
  },
  {
   "cell_type": "markdown",
   "metadata": {},
   "source": [
    "Execute the MPC forward until landed"
   ]
  },
  {
   "cell_type": "code",
   "execution_count": 165,
   "metadata": {},
   "outputs": [
    {
     "name": "stdout",
     "output_type": "stream",
     "text": [
      "\n",
      "Currently at time 9.760483870967743 remaining and 21.9088337530716 away.\n",
      "247 Steps at 9.760483870967743 s left. Hence, dt = 0.039676763703120906\n",
      "\n",
      "Currently at time 9.640967741935485 remaining and 20.202750919508603 away.\n",
      "245 Steps at 9.640967741935485 s left. Hence, dt = 0.03951216287678477\n",
      "\n",
      "Currently at time 9.521451612903228 remaining and 18.599901897651012 away.\n",
      "243 Steps at 9.521451612903228 s left. Hence, dt = 0.03934484137563317\n",
      "\n",
      "Currently at time 9.40193548387097 remaining and 17.09905643299626 away.\n",
      "241 Steps at 9.40193548387097 s left. Hence, dt = 0.039174731182795706\n",
      "\n",
      "Currently at time 9.282419354838712 remaining and 15.697719913855511 away.\n",
      "239 Steps at 9.282419354838712 s left. Hence, dt = 0.03900176199512064\n",
      "\n",
      "Currently at time 9.162903225806454 remaining and 14.392736658218189 away.\n",
      "237 Steps at 9.162903225806454 s left. Hence, dt = 0.03882586112629854\n",
      "\n",
      "Currently at time 9.043387096774197 remaining and 13.18342440042359 away.\n",
      "235 Steps at 9.043387096774197 s left. Hence, dt = 0.038646953405017934\n",
      "\n",
      "Currently at time 8.923870967741939 remaining and 12.066341599167218 away.\n",
      "233 Steps at 8.923870967741939 s left. Hence, dt = 0.03846496106785319\n",
      "\n",
      "Currently at time 8.804354838709681 remaining and 11.041294098753678 away.\n",
      "231 Steps at 8.804354838709681 s left. Hence, dt = 0.03827980364656383\n",
      "\n",
      "Currently at time 8.684838709677424 remaining and 10.106462209617183 away.\n",
      "229 Steps at 8.684838709677424 s left. Hence, dt = 0.03809139784946238\n",
      "\n",
      "Currently at time 8.565322580645166 remaining and 9.258618620686288 away.\n",
      "227 Steps at 8.565322580645166 s left. Hence, dt = 0.037899657436483034\n",
      "\n",
      "Currently at time 8.445806451612908 remaining and 8.49768876868816 away.\n",
      "225 Steps at 8.445806451612908 s left. Hence, dt = 0.037704493087557626\n",
      "\n",
      "Currently at time 8.32629032258065 remaining and 7.821613172091039 away.\n",
      "223 Steps at 8.32629032258065 s left. Hence, dt = 0.0375058122638768\n",
      "\n",
      "Currently at time 8.206774193548393 remaining and 7.22659092767009 away.\n",
      "221 Steps at 8.206774193548393 s left. Hence, dt = 0.0373035190615836\n",
      "\n",
      "Currently at time 8.087258064516135 remaining and 6.7114931300821885 away.\n",
      "219 Steps at 8.087258064516135 s left. Hence, dt = 0.03709751405741346\n",
      "\n",
      "Currently at time 7.967741935483877 remaining and 6.272569943421233 away.\n",
      "217 Steps at 7.967741935483877 s left. Hence, dt = 0.03688769414575869\n",
      "\n",
      "Currently at time 7.8482258064516195 remaining and 5.905137154520421 away.\n",
      "215 Steps at 7.8482258064516195 s left. Hence, dt = 0.03667395236659635\n",
      "\n",
      "Currently at time 7.728709677419362 remaining and 5.6034948460567575 away.\n",
      "213 Steps at 7.728709677419362 s left. Hence, dt = 0.036456177723676236\n",
      "\n",
      "Currently at time 7.609193548387104 remaining and 5.360976881016965 away.\n",
      "211 Steps at 7.609193548387104 s left. Hence, dt = 0.036234254992319546\n",
      "\n",
      "Currently at time 7.489677419354846 remaining and 5.170156621537507 away.\n",
      "209 Steps at 7.489677419354846 s left. Hence, dt = 0.03600806451612907\n",
      "\n",
      "Currently at time 7.370161290322589 remaining and 5.022271817917104 away.\n",
      "207 Steps at 7.370161290322589 s left. Hence, dt = 0.03577748199185723\n",
      "\n",
      "Currently at time 7.250645161290331 remaining and 4.91090582308973 away.\n",
      "205 Steps at 7.250645161290331 s left. Hence, dt = 0.035542378241619266\n",
      "\n",
      "Currently at time 7.131129032258073 remaining and 4.828268860163417 away.\n",
      "203 Steps at 7.131129032258073 s left. Hence, dt = 0.03530261897157462\n",
      "\n",
      "Currently at time 7.011612903225815 remaining and 4.767214467204243 away.\n",
      "201 Steps at 7.011612903225815 s left. Hence, dt = 0.03505806451612908\n",
      "\n",
      "Currently at time 6.892096774193558 remaining and 4.721437448099486 away.\n",
      "199 Steps at 6.892096774193558 s left. Hence, dt = 0.03480856956663413\n",
      "\n",
      "Currently at time 6.7725806451613 remaining and 4.685572743016405 away.\n",
      "197 Steps at 6.7725806451613 s left. Hence, dt = 0.03455398288347602\n",
      "\n",
      "Currently at time 6.653064516129042 remaining and 4.65517629568492 away.\n",
      "195 Steps at 6.653064516129042 s left. Hence, dt = 0.034294146990355885\n",
      "\n",
      "Currently at time 6.5335483870967845 remaining and 4.626620662815574 away.\n",
      "193 Steps at 6.5335483870967845 s left. Hence, dt = 0.03402889784946242\n",
      "\n",
      "Currently at time 6.414032258064527 remaining and 4.597136834508123 away.\n",
      "191 Steps at 6.414032258064527 s left. Hence, dt = 0.03375806451612909\n",
      "\n",
      "Currently at time 6.294516129032269 remaining and 4.564657453771686 away.\n",
      "189 Steps at 6.294516129032269 s left. Hence, dt = 0.03348146877144824\n",
      "\n",
      "Currently at time 6.175000000000011 remaining and 4.527737261459611 away.\n",
      "187 Steps at 6.175000000000011 s left. Hence, dt = 0.033198924731182855\n",
      "\n",
      "Currently at time 6.055483870967754 remaining and 4.485609415269518 away.\n",
      "185 Steps at 6.055483870967754 s left. Hence, dt = 0.032910238429172574\n",
      "\n",
      "Currently at time 5.935967741935496 remaining and 4.438142900881868 away.\n",
      "183 Steps at 5.935967741935496 s left. Hence, dt = 0.032615207373271955\n",
      "\n",
      "Currently at time 5.816451612903238 remaining and 4.385461541974413 away.\n",
      "181 Steps at 5.816451612903238 s left. Hence, dt = 0.03231362007168466\n",
      "\n",
      "Currently at time 5.6969354838709805 remaining and 4.327715701730477 away.\n",
      "179 Steps at 5.6969354838709805 s left. Hence, dt = 0.03200525552736506\n",
      "\n",
      "Currently at time 5.577419354838723 remaining and 4.265073694702842 away.\n",
      "177 Steps at 5.577419354838723 s left. Hence, dt = 0.031689882697947286\n",
      "\n",
      "Currently at time 5.457903225806465 remaining and 4.197719493249912 away.\n",
      "175 Steps at 5.457903225806465 s left. Hence, dt = 0.03136725991842796\n",
      "\n",
      "Currently at time 5.338387096774207 remaining and 4.12585072489098 away.\n",
      "173 Steps at 5.338387096774207 s left. Hence, dt = 0.031037134283570973\n",
      "\n",
      "Currently at time 5.21887096774195 remaining and 4.049676943237869 away.\n",
      "171 Steps at 5.21887096774195 s left. Hence, dt = 0.03069924098671735\n",
      "\n",
      "Currently at time 5.099354838709692 remaining and 3.9694181074572468 away.\n",
      "169 Steps at 5.099354838709692 s left. Hence, dt = 0.030353302611367212\n",
      "\n",
      "Currently at time 4.979838709677434 remaining and 3.8853032631775033 away.\n",
      "167 Steps at 4.979838709677434 s left. Hence, dt = 0.029999028371550808\n",
      "\n",
      "Currently at time 4.860322580645176 remaining and 3.7975693544096982 away.\n",
      "165 Steps at 4.860322580645176 s left. Hence, dt = 0.02963611329661693\n",
      "\n",
      "Currently at time 4.740806451612919 remaining and 3.706460172221295 away.\n",
      "163 Steps at 4.740806451612919 s left. Hence, dt = 0.0292642373556353\n",
      "\n",
      "Currently at time 4.621290322580661 remaining and 3.612225467936186 away.\n",
      "161 Steps at 4.621290322580661 s left. Hence, dt = 0.028883064516129132\n",
      "\n",
      "Currently at time 4.501774193548403 remaining and 3.5151200631329487 away.\n",
      "159 Steps at 4.501774193548403 s left. Hence, dt = 0.028492241731319007\n",
      "\n",
      "Currently at time 4.3822580645161455 remaining and 3.4154031269962135 away.\n",
      "157 Steps at 4.3822580645161455 s left. Hence, dt = 0.02809139784946247\n",
      "\n",
      "Currently at time 4.262741935483888 remaining and 3.3133374396054314 away.\n",
      "155 Steps at 4.262741935483888 s left. Hence, dt = 0.027680142438207062\n",
      "\n",
      "Currently at time 4.14322580645163 remaining and 3.2091887834286124 away.\n",
      "153 Steps at 4.14322580645163 s left. Hence, dt = 0.027258064516129145\n",
      "\n",
      "Currently at time 4.023709677419372 remaining and 3.103225277368328 away.\n",
      "151 Steps at 4.023709677419372 s left. Hence, dt = 0.026824731182795814\n",
      "\n",
      "Currently at time 3.904193548387114 remaining and 2.995716819207594 away.\n",
      "149 Steps at 3.904193548387114 s left. Hence, dt = 0.026379686137750772\n",
      "\n",
      "Currently at time 3.784677419354856 remaining and 2.886934438905504 away.\n",
      "147 Steps at 3.784677419354856 s left. Hence, dt = 0.025922448077772987\n",
      "\n",
      "Currently at time 3.665161290322598 remaining and 2.7771497737785094 away.\n",
      "145 Steps at 3.665161290322598 s left. Hence, dt = 0.025452508960573595\n",
      "\n",
      "Currently at time 3.5456451612903397 remaining and 2.666634421948926 away.\n",
      "143 Steps at 3.5456451612903397 s left. Hence, dt = 0.024969332121762954\n",
      "\n",
      "Currently at time 3.4261290322580815 remaining and 2.5556592798358664 away.\n",
      "141 Steps at 3.4261290322580815 s left. Hence, dt = 0.024472350230414868\n",
      "\n",
      "Currently at time 3.3066129032258234 remaining and 2.4444938362948334 away.\n",
      "139 Steps at 3.3066129032258234 s left. Hence, dt = 0.02396096306685379\n",
      "\n",
      "Currently at time 3.187096774193565 remaining and 2.333405457972254 away.\n",
      "137 Steps at 3.187096774193565 s left. Hence, dt = 0.02343453510436445\n",
      "\n",
      "Currently at time 3.067580645161307 remaining and 2.222658471487116 away.\n",
      "135 Steps at 3.067580645161307 s left. Hence, dt = 0.022892392874338113\n"
     ]
    },
    {
     "name": "stdout",
     "output_type": "stream",
     "text": [
      "\n",
      "Currently at time 2.948064516129049 remaining and 2.1125132266998885 away.\n",
      "133 Steps at 2.948064516129049 s left. Hence, dt = 0.022333822091886734\n",
      "\n",
      "Currently at time 2.8285483870967907 remaining and 2.0032250306780983 away.\n",
      "131 Steps at 2.8285483870967907 s left. Hence, dt = 0.02175806451612916\n",
      "\n",
      "Currently at time 2.7090322580645325 remaining and 1.8950427487455448 away.\n",
      "129 Steps at 2.7090322580645325 s left. Hence, dt = 0.02116431451612916\n",
      "\n",
      "Currently at time 2.5895161290322743 remaining and 1.7882074637724559 away.\n",
      "127 Steps at 2.5895161290322743 s left. Hence, dt = 0.020551715309779957\n",
      "\n",
      "Currently at time 2.470000000000016 remaining and 1.682950599802928 away.\n",
      "125 Steps at 2.470000000000016 s left. Hence, dt = 0.019919354838709807\n",
      "\n",
      "Currently at time 2.350483870967758 remaining and 1.5794919932949916 away.\n",
      "123 Steps at 2.350483870967758 s left. Hence, dt = 0.01926626123744064\n",
      "\n",
      "Currently at time 2.2309677419355 remaining and 1.4780374490222765 away.\n",
      "121 Steps at 2.2309677419355 s left. Hence, dt = 0.0185913978494625\n",
      "\n",
      "Currently at time 2.1114516129032417 remaining and 1.3787760626983794 away.\n",
      "119 Steps at 2.1114516129032417 s left. Hence, dt = 0.01789365773646815\n",
      "\n",
      "Currently at time 1.9919354838709835 remaining and 1.281876922594744 away.\n",
      "117 Steps at 1.9919354838709835 s left. Hence, dt = 0.017171857619577444\n",
      "\n",
      "Currently at time 1.8724193548387253 remaining and 1.1874854240406645 away.\n",
      "115 Steps at 1.8724193548387253 s left. Hence, dt = 0.016424731182795835\n",
      "\n",
      "Currently at time 1.7529032258064672 remaining and 1.0957190941766155 away.\n",
      "113 Steps at 1.7529032258064672 s left. Hence, dt = 0.015650921658986315\n",
      "\n",
      "Currently at time 1.633387096774209 remaining and 1.0066628736060894 away.\n",
      "111 Steps at 1.633387096774209 s left. Hence, dt = 0.014848973607038263\n",
      "\n",
      "Currently at time 1.5138709677419508 remaining and 0.9203638362629176 away.\n",
      "109 Steps at 1.5138709677419508 s left. Hence, dt = 0.014017323775388434\n",
      "\n",
      "Currently at time 1.3943548387096927 remaining and 0.836825490680572 away.\n",
      "107 Steps at 1.3943548387096927 s left. Hence, dt = 0.013154290931223516\n",
      "\n",
      "Currently at time 1.2748387096774345 remaining and 0.7560020704180619 away.\n",
      "105 Steps at 1.2748387096774345 s left. Hence, dt = 0.012258064516129178\n",
      "\n",
      "Currently at time 1.1553225806451763 remaining and 0.6777924319957525 away.\n",
      "103 Steps at 1.1553225806451763 s left. Hence, dt = 0.011326691967109573\n",
      "\n",
      "Currently at time 1.0358064516129182 remaining and 0.602034768384405 away.\n",
      "101 Steps at 1.0358064516129182 s left. Hence, dt = 0.010358064516129181\n",
      "\n",
      "Currently at time 0.9162903225806601 remaining and 0.5285019676361988 away.\n",
      "99 Steps at 0.9162903225806601 s left. Hence, dt = 0.009349901250823063\n",
      "\n",
      "Currently at time 0.7967741935484021 remaining and 0.4568986924014715 away.\n",
      "97 Steps at 0.7967741935484021 s left. Hence, dt = 0.008299731182795854\n",
      "\n",
      "Currently at time 0.677258064516144 remaining and 0.3868612394455864 away.\n",
      "95 Steps at 0.677258064516144 s left. Hence, dt = 0.00720487302676749\n",
      "\n",
      "Currently at time 0.557741935483886 remaining and 0.3179621461232276 away.\n",
      "93 Steps at 0.557741935483886 s left. Hence, dt = 0.006062412342216152\n",
      "\n",
      "Currently at time 0.4382258064516279 remaining and 0.24972759614458434 away.\n",
      "91 Steps at 0.4382258064516279 s left. Hence, dt = 0.00486917562724031\n",
      "\n",
      "Currently at time 0.38048387096774194 remaining and 0.16979679331597644 away.\n",
      "89 Steps at 0.38048387096774194 s left. Hence, dt = 0.004323680351906159\n",
      "\n",
      "Currently at time 0.38048387096774194 remaining and 0.09568872951456495 away.\n",
      "87 Steps at 0.38048387096774194 s left. Hence, dt = 0.0044242310577644415\n",
      "\n",
      "Currently at time 0.38048387096774194 remaining and 0.04681090234200429 away.\n",
      "85 Steps at 0.38048387096774194 s left. Hence, dt = 0.004529569892473119\n",
      "\n",
      "Currently at time 0.38048387096774194 remaining and 0.021030438795614146 away.\n",
      "83 Steps at 0.38048387096774194 s left. Hence, dt = 0.004640047206923683\n",
      "\n",
      "Currently at time 0.38048387096774194 remaining and 0.009623418932629775 away.\n",
      "81 Steps at 0.38048387096774194 s left. Hence, dt = 0.0047560483870967745\n",
      "\n",
      "Currently at time 0.38048387096774194 remaining and 0.0034818364547188232 away.\n",
      "79 Steps at 0.38048387096774194 s left. Hence, dt = 0.004877998345740282\n",
      "\n",
      "Currently at time 0.38048387096774194 remaining and 0.00485519563645402 away.\n",
      "77 Steps at 0.38048387096774194 s left. Hence, dt = 0.005006366723259763\n",
      "\n",
      "Currently at time 0.38048387096774194 remaining and 0.009065189247926028 away.\n",
      "75 Steps at 0.38048387096774194 s left. Hence, dt = 0.005141673931996512\n",
      "\n",
      "Currently at time 0.38048387096774194 remaining and 0.007399133921763362 away.\n",
      "73 Steps at 0.38048387096774194 s left. Hence, dt = 0.005284498207885305\n",
      "\n",
      "Currently at time 0.38048387096774194 remaining and 0.002323173513032868 away.\n",
      "71 Steps at 0.38048387096774194 s left. Hence, dt = 0.005435483870967742\n",
      "\n",
      "Currently at time 0.38048387096774194 remaining and 0.003862679314959251 away.\n",
      "69 Steps at 0.38048387096774194 s left. Hence, dt = 0.005595351043643264\n",
      "\n",
      "Currently at time 0.38048387096774194 remaining and 0.00769453908504743 away.\n",
      "67 Steps at 0.38048387096774194 s left. Hence, dt = 0.005764907135874878\n",
      "\n",
      "Currently at time 0.38048387096774194 remaining and 0.006578392767991115 away.\n",
      "65 Steps at 0.38048387096774194 s left. Hence, dt = 0.005945060483870968\n",
      "\n",
      "Currently at time 0.38048387096774194 remaining and 0.002964469274248154 away.\n",
      "63 Steps at 0.38048387096774194 s left. Hence, dt = 0.006136836628511967\n",
      "\n",
      "Currently at time 0.38048387096774194 remaining and 0.004192654715516648 away.\n",
      "61 Steps at 0.38048387096774194 s left. Hence, dt = 0.006341397849462365\n",
      "\n",
      "Currently at time 0.38048387096774194 remaining and 0.0069931763509584995 away.\n",
      "59 Steps at 0.38048387096774194 s left. Hence, dt = 0.006560066740823137\n",
      "\n",
      "Currently at time 0.38048387096774194 remaining and 0.006314389906387564 away.\n",
      "57 Steps at 0.38048387096774194 s left. Hence, dt = 0.006794354838709678\n",
      "\n",
      "Currently at time 0.38048387096774194 remaining and 0.003915482265117837 away.\n",
      "55 Steps at 0.38048387096774194 s left. Hence, dt = 0.007045997610513739\n",
      "\n",
      "Currently at time 0.38048387096774194 remaining and 0.004586576763560843 away.\n",
      "53 Steps at 0.38048387096774194 s left. Hence, dt = 0.007316997518610422\n",
      "\n",
      "Currently at time 0.38048387096774194 remaining and 0.00592155529169137 away.\n",
      "51 Steps at 0.38048387096774194 s left. Hence, dt = 0.007609677419354839\n",
      "\n",
      "Currently at time 0.38048387096774194 remaining and 0.0057187750077976225 away.\n",
      "49 Steps at 0.38048387096774194 s left. Hence, dt = 0.007926747311827957\n",
      "\n",
      "Currently at time 0.38048387096774194 remaining and 0.004718502177809519 away.\n",
      "47 Steps at 0.38048387096774194 s left. Hence, dt = 0.008271388499298737\n",
      "\n",
      "Currently at time 0.38048387096774194 remaining and 0.00490466405663753 away.\n",
      "45 Steps at 0.38048387096774194 s left. Hence, dt = 0.008647360703812317\n",
      "\n",
      "Currently at time 0.38048387096774194 remaining and 0.004928147111995134 away.\n",
      "43 Steps at 0.38048387096774194 s left. Hence, dt = 0.009059139784946237\n",
      "\n",
      "Currently at time 0.38048387096774194 remaining and 0.004741298887785937 away.\n",
      "41 Steps at 0.38048387096774194 s left. Hence, dt = 0.009512096774193549\n",
      "\n",
      "Currently at time 0.38048387096774194 remaining and 0.003989929735614109 away.\n",
      "39 Steps at 0.38048387096774194 s left. Hence, dt = 0.010012733446519526\n",
      "\n",
      "Currently at time 0.38048387096774194 remaining and 0.004231643995994106 away.\n",
      "37 Steps at 0.38048387096774194 s left. Hence, dt = 0.01056899641577061\n",
      "\n",
      "Currently at time 0.38048387096774194 remaining and 0.004214476881003974 away.\n",
      "35 Steps at 0.38048387096774194 s left. Hence, dt = 0.011190702087286527\n",
      "\n",
      "Currently at time 0.38048387096774194 remaining and 0.004031261324610492 away.\n",
      "33 Steps at 0.38048387096774194 s left. Hence, dt = 0.011890120967741936\n",
      "\n",
      "Currently at time 0.38048387096774194 remaining and 0.003340502518357584 away.\n",
      "31 Steps at 0.38048387096774194 s left. Hence, dt = 0.01268279569892473\n",
      "\n",
      "Currently at time 0.38048387096774194 remaining and 0.0030950454147652138 away.\n",
      "29 Steps at 0.38048387096774194 s left. Hence, dt = 0.013588709677419356\n",
      "\n",
      "Currently at time 0.38048387096774194 remaining and 0.002458551781362162 away.\n",
      "27 Steps at 0.38048387096774194 s left. Hence, dt = 0.014633995037220845\n",
      "\n",
      "Currently at time 0.38048387096774194 remaining and 0.002087982683318685 away.\n",
      "25 Steps at 0.38048387096774194 s left. Hence, dt = 0.015853494623655914\n",
      "\n",
      "Currently at time 0.38048387096774194 remaining and 0.0015626287183752663 away.\n",
      "23 Steps at 0.38048387096774194 s left. Hence, dt = 0.017294721407624634\n",
      "\n",
      "Currently at time 0.38048387096774194 remaining and 0.0009268841039384132 away.\n",
      "21 Steps at 0.38048387096774194 s left. Hence, dt = 0.019024193548387098\n",
      "\n",
      "Currently at time 0.38048387096774194 remaining and 0.0006415000025306224 away.\n",
      "19 Steps at 0.38048387096774194 s left. Hence, dt = 0.02113799283154122\n",
      "\n",
      "Currently at time 0.38048387096774194 remaining and 8.297062949280962e-5 away.\n",
      "17 Steps at 0.38048387096774194 s left. Hence, dt = 0.02378024193548387\n"
     ]
    }
   ],
   "source": [
    "completion_threshold = 1e-4\n",
    "\n",
    "opts = SolverOptions(\n",
    "    cost_tolerance_intermediate=1e-2,\n",
    "    penalty_scaling=10.,\n",
    "    penalty_initial=1.0\n",
    ")\n",
    "\n",
    "saved_states = []\n",
    "\n",
    "while norm(x0 - xf) > completion_threshold\n",
    "    x0, warm_start_controls, N, tf = MPC(model, ALTROSolver, x0, warm_start_controls, N, tf)\n",
    "    \n",
    "    println(\"\\nCurrently at time $tf remaining and $(norm(x0 - xf)) away.\")\n",
    "    println(\"$N Steps at $tf s left. Hence, dt = $(tf / (N-1))\")\n",
    "    \n",
    "    # If the timespan is too low (e.g. due to disturbances)\n",
    "    tf = max(0.5, tf)\n",
    "    \n",
    "    push!(saved_states, x0)\n",
    "end"
   ]
  },
  {
   "cell_type": "code",
   "execution_count": 166,
   "metadata": {},
   "outputs": [
    {
     "data": {
      "text/plain": [
       "116-element Array{Float64,1}:\n",
       " 16.616530512435116\n",
       " 15.08001049773125\n",
       " 13.640422585536259\n",
       " 12.294678163572998\n",
       " 11.039602102649617\n",
       "  9.872137302599796\n",
       "  8.789197117854169\n",
       "  7.787718995330032\n",
       "  6.8646339066078745\n",
       "  6.016736730574863\n",
       "  5.240968850626669\n",
       "  4.534257322984795\n",
       "  3.8933893982616894\n",
       "  ⋮\n",
       "  0.00010823899640288867\n",
       "  6.850850262625427e-5\n",
       "  0.0001051605392830377\n",
       "  8.78485854097027e-5\n",
       "  8.057597738675044e-5\n",
       "  6.756553429438099e-5\n",
       "  5.900404167436804e-5\n",
       "  5.473498028343754e-5\n",
       "  4.488804305094246e-5\n",
       "  5.845189276123183e-5\n",
       "  4.823906102540621e-5\n",
       "  6.982849161274365e-5"
      ]
     },
     "execution_count": 166,
     "metadata": {},
     "output_type": "execute_result"
    }
   ],
   "source": [
    "xs = [x[1] for x in saved_states]\n",
    "zs = [x[3] for x in saved_states];"
   ]
  },
  {
   "cell_type": "markdown",
   "metadata": {},
   "source": [
    "## Plot the trajectory!"
   ]
  },
  {
   "cell_type": "code",
   "execution_count": 167,
   "metadata": {},
   "outputs": [
    {
     "data": {
      "image/png": "[encoded data removed]"
     },
     "execution_count": 167,
     "metadata": {},
     "output_type": "execute_result"
    }
   ],
   "source": [
    "titleText = \"Rocket Soft-Landing Trajectory \\n\" *\n",
    "        \"starting at an initial $(x0[6]) m/s plummet\"\n",
    "filename = \"RocketGroundThrustBound_BarelyFeasible3\"\n",
    "\n",
    "plt_x = plot(xs, zs, label = \"Trajectory\")\n",
    "xlabel!(\"x\")\n",
    "ylabel!(\"z (height)\")\n",
    "title!(titleText)"
   ]
  },
  {
   "cell_type": "code",
   "execution_count": 16,
   "metadata": {},
   "outputs": [
    {
     "data": {
      "image/png": "[encoded data removed]"
     },
     "execution_count": 16,
     "metadata": {},
     "output_type": "execute_result"
    }
   ],
   "source": [
    "plt_ux = plot(uxs, label = \"Ux Control\")\n",
    "hline!([-ulateral_max, ulateral_max], linecolor = :grey, linestyle = :dash,\n",
    "                label = \"Max Lateral Thrust\")\n",
    "# xlabel!(\"time (s)\")\n",
    "ylabel!(\"control (N)\")\n",
    "title!(\"Controls over Time\")\n",
    "\n",
    "plt_uz = plot(uzs, label = \"Uz Control\")\n",
    "hline!([umax], linecolor = :grey, linestyle = :dash, label = \"Max Thrust\")\n",
    "xlabel!(\"time (s)\")\n",
    "ylabel!(\"control (N)\")\n",
    "\n",
    "plt_u = plot(plt_ux, plt_uz, layout = (2, 1))"
   ]
  },
  {
   "cell_type": "markdown",
   "metadata": {},
   "source": [
    "Below is a GIF of the trajectory. This will take several seconds to generate."
   ]
  },
  {
   "cell_type": "code",
   "execution_count": 17,
   "metadata": {},
   "outputs": [
    {
     "data": {
      "image/png": "[encoded data removed]",
      "text/plain": [
       "PyPlot.Figure(PyObject <Figure size 600x400 with 1 Axes>)"
      ]
     },
     "metadata": {},
     "output_type": "display_data"
    },
    {
     "name": "stderr",
     "output_type": "stream",
     "text": [
      "┌ Info: Saved animation to \n",
      "│   fn = C:\\Users\\Daniel N\\.julia\\dev\\TrajectoryOptimization.jl\\examples\\tmp.gif\n",
      "└ @ Plots C:\\Users\\Daniel N\\.julia\\packages\\Plots\\GDtiZ\\src\\animation.jl:104\n"
     ]
    },
    {
     "data": {
      "text/html": [
       "<img src=\"data:image/gif;base64,R0lGODlhWAKQAfcCMQAAAACa+gD/AAEBAQJ8yQMDAwOb+gUFBQYGBgac+gcHBwic+Qic+Ql/yQmd+goKCgqd+Qqe+gwMDA0NDQ6f+g8PDxISEhKh+hOg+BUVFRaEyRcXFxej+hii+BkZGRsbGxul+h0dHR2l+h8fHyAgICCIySGn+iGn+iKJySKn+iMjIyOJySQkJCYmJiao+ieLySiLySiq+ikpKSoqKiwsLCx0oSyr+i4uLi8vLy+s+TCOyTCt+jIyMjOu+zQ0NDSPyTY2Njav+zg4ODmw+zo6Ojux+zyTyT09PT6y+z8/P0FBQUNDQ0VFRUWy9ka1+0dHR0iXyUm2+0pKSk1NTU64+1FRUVOcyVRUVFW7+1dXV1hYWFtbW1u9+11dXV2++19fX1+79F+/+2BgYGChymDA+2FhYWHA+2LA+2TB+2VlZWfC/GlpaWxsbGymymzE/G5ubnCoynFxcXGoynJycnLB83Nzc3TH/HZ2dnaqynd3d3eSo3eqynnE83rK/Hx8fH6ty39/f3+uy3/M/ICAgILN/IPN/ISEhIawy4bO/IeHh4iIiIqKiovK8ozR/I2NjY+Pj5DT/JKSkpWVlZW2y5XU/JeXl5fT+JjW/JqamprW/Zu4y5zX/ZzX/Z2dnZ+fn5/Z/aHZ/aHZ/aLS8aLa/aOjo6Tb/aWlpaW8y6bb/aenp6mpqanc/ard/avV8Kvd/aysrKzd/a3e/a+vr6/d+rDBzLKysrLg/bLg/bPg/bS0tLTh/bbZ8Le3t7fi/bi4uLnj/brj/bu7u7y8vLzGzLzk/b3k/b7GzL+/v8DAwMDl/cHBwcLDw8Pn/cXFxcbo/cfHx8jJysrp/cvLy8vg7s3Nzc3r/s7r/s/Pz9Hs/tPT09TU1NXu/tbW1tjY2Nra2tvw/tzc3N3d3d/f3+Dg4ODy/uLi4uLo7eT0/ubm5uj1/unp6en2/uvr6+vs7ez3/u3t7e/v7+/4/vHx8fH5/vP6/vT09PX7/vf39/f7/vj8/vr6+vr8/vv9/vz9/f7+/v///yH/C05FVFNDQVBFMi4wAwEAAAAh+QQFBQACACwAAAAAWAKQAYcAAAAAmvoA/wABAQECfMkDAwMDm/oFBQUGBgYGnPoHBwcInPkInPkJf8kJnfoKCgoKnfkKnvoMDAwNDQ0On/oPDw8SEhISofoToPgVFRUWhMkXFxcXo/oYovgZGRkbGxsbpfodHR0dpfofHx8gICAgiMkhp/ohp/oiickip/ojIyMjickkJCQmJiYmqPoni8koi8koqvopKSkqKiosLCwsdKEsq/ouLi4vLy8vrPkwjskwrfoyMjIzrvs0NDQ0j8k2NjY2r/s4ODg5sPs6Ojo7sfs8k8k9PT0+svs/Pz9BQUFDQ0NFRUVFsvZGtftHR0dIl8lJtvtKSkpNTU1OuPtRUVFTnMlUVFRVu/tXV1dYWFhbW1tbvftdXV1dvvtfX19fu/Rfv/tgYGBgocpgwPthYWFhwPtiwPtkwftlZWVnwvxpaWlsbGxspspsxPxubm5wqMpxcXFxqMpycnJywfNzc3N0x/x2dnZ2qsp3d3d3kqN3qsp5xPN6yvx8fHx+rct/f39/rst/zPyAgICCzfyDzfyEhISGsMuGzvyHh4eIiIiKioqLyvKM0fyNjY2Pj4+Q0/ySkpKVlZWVtsuV1PyXl5eX0/iY1vyampqa1v2buMuc1/2c1/2dnZ2fn5+f2f2h2f2h2f2i0vGi2v2jo6Ok2/2lpaWlvMum2/2np6epqamp3P2q3f2r1fCr3f2srKys3f2t3v2vr6+v3fqwwcyysrKy4P2y4P2z4P20tLS04f222fC3t7e34v24uLi54/264/27u7u8vLy8xsy85P295P2+xsy/v7/AwMDA5f3BwcHCw8PD5/3FxcXG6P3Hx8fIycrK6f3Ly8vL4O7Nzc3N6/7O6/7Pz8/R7P7T09PU1NTV7v7W1tbY2Nja2trb8P7c3Nzd3d3f39/g4ODg8v7i4uLi6O3k9P7m5ubo9f7p6enp9v7r6+vr7O3s9/7t7e3v7+/v+P7x8fHx+f7z+v709PT1+/739/f3+/74/P76+vr6/P77/f78/f3+/v7///8I/wD/CRxIsKDBgwgTKlzIsKHDhxAjSpxIsaLFixgzatzIsaPHjyBDihxJsqTJkyhTqlzJsqXLlzBjypxJs6bNmzhz6tzJs6fPn0CDCh1KtKjRoy4BJOHZbUoGACN0Kh34BYC4oJUApELKtatXouIAiAVwwMMVaRynUkwCgKE/UkosHMiAYw2yh/1kKEgD6NE/tg1HKECp9l/Vqx6PjV28eCnFrFsx8gKQ6Kvly5gxhlUBCFAdJWSVbSwsEfBCMQAsdMlT5giCLQ+9AVjjb6DphYIJO/6Hrpu+j+I6d66KQzggTxXhdZOXcXLlzNCjSz8Y9gnBRACOjN5duq3CZQBwMP8fCK/ZQ2UAABG8rTD3SdImFX+x6Xy6/fuYqxNUB0BCwXJleHDAB2WUU5A8g9DwQAU4+PHbP4X58wYAYjwoDyAzKFDBE8sMxBgA8xmkCAB+KdROHCQgkEEW2gw0AmOefBjiQe4ZpE8kTISgYhXUEBSjJ8IQ8YAFX7RTECY0KBDCHfcUdphAigFCDRMSVFAFYgO94oMCGaQBzwhRLSSfQXkA8EwnODxg3TuJHCHgB2KMQxBkBHkjRghlFViQN2mMoKISpvxTJmPoCKTOG35uoEU3BGUBQDmLyIDAGncAUEtBjgBQCX6cdjqSfgPxV0GdT02RxxQAZODNQOzMEN4ccTz/cQA8AqmljxYA3DHQOzRkF0cZcskiECAvCiesQZgAwIaJLACgRB5aHCCBef88UlUSnV1DbHqdHUvjYAehM0ASaeRxhQIKoCVQjFUgcEUdPgBABEGDDLABG3GEgOpuT/6jmBQPSPEZACrcM1AnAFSQxh00+OBBmAqNWVCZUkigRR7qHaOAFGzcIcUAGRgoEJ0CLTPBAVfccUUBHoj8DzITDCBFHmn4IMQ/wWwBwBLC1fOPOiTsnEcWBVSg7j+OSpHBF3dEAs4AUxQ0wwPjeWr11ZoBYN1AhgAgBUGgYTJQsksMdAUAftRm6INT1cPEAI4QpDNyhoaQgcF/eZdQOTF//yGLywSVAUAeA/kCAAv9QJneenq3B65B9wCujQRMDBTjAdT2A9ozAnkzoDoCydOCk1YpDoAqA3WhlUDwSDBBOALpwwRUDElMUJkVcEMQPLQOxMsAy468+j/3fGBBiwIJM8AVAtXjQQHHECRyfXIDMMhAtQBAw0COkgD4EgUUKlAzIGJt/vkSbdZZHWxloLtA5QAwg9r/+CPDoz8PoMKDBimljg8HIAVB2FGAshEkEpYSCHsQ4osQjGVFwhiIPobks4E8AQAd8tfibNO4hNSIIVNAwINiNKN/xCgSAhkEAOI2EFKQDjGK0c5AFDOHdQEgDgR5Bu3EVL6JDY4hLJDBQP9IZgoALKIgUjiAwVyYBoRQr3llwZsCAaAuR4mNIKoAgCEGIjhqoe+LYKTOh1RFkOytoSBrSGAuANBEhABABi14QC4KMhkiGAcQOjti3hqij2D4QQoVEAvh/pENrxUEOyjUoHo4WJBHGAcxHyzINbSAp8WIL0YlEkgwrCeQKlCRION4oeJwOBDZlEEgcQDAKwjSjwNALCG2G0iZvDWQYExhAwcYy6iEF5kJfeGOQABANv7BBlU6kTIEgQYAqlAQQADgio66RkH0sQEV1KYeEhBiGLfJTVCpYxEDkEEF/+HC6xHEmYEq4iIPkrABtAB0BCnih8RizgUyRB+YyGWPwCP/hoLEaIuKZFxBXjSW6P0jkgNpBrqmMIfO4KB0JgQA3RS3yCUAQE4DaRK/IBolgoQlRGUYwF0I8rDa9fB2APCiQEgxgAqkrDMfeBzJdDZPM/1DZ5w7yBNxNpuCZIWFjhIfSiOYLBZy86joA5VA/ACAN2CvpwRJ46XW2EZ2JsETA6ABPAWSvTooxJ4NqUrcCvk1gowokR1lJEMQKhAppJQgF0TMjwiSVk8e7R+h3CgMNyiQj6LSmANp5SsREkuBlCmnA1HB6whSI5KlMRgJKeYqdYrMgSiTmfR6pkCCapCnaeEfQkAAO5BKWvMplXgCQkz8aEA/f/TKQOrQH/8KMhWs/2p1IOKaV0JAk7iIpDFu+uDSOP/h1gymVSC8XevjCtICCxCkHk+Rq0TpukEVGpWcogzoQPwaUVIKRIeDPUhhBWXTwA5AtwIZxwBkOjysmvMgTETIJgEKRQ9I8R+gqSIAhEoQJigAPFkorYCtdtp/IPCUyAVAJw7mLLOhbT9sc4wnCnDbzRqRfv94RgXPhlEnymK23nhKTgXnh1oerrfH/QeHlYuQtyGvH2mE6FxnuEFvFOAD8BRddlPM3dYt9h+y22HETirL8g4kBBYY7T/qcUH2RsZ5D1CpPqhVjw1AT3oCoQZUB4Ir+q6RtRbmb5YA4AEAQHbAaL5Pge8hIHAIpP8bGRhAFfLgSTIKhB3340Ed5hDC3hWGpTKA5zseSoOFaaFZ4suKDwCRiDka5BGpqsId6tCuLatDBc7KwxYO8IAMald4i260BwfwhVKb+ozZU9gbbmAB0Eh3op9W4QbekC+36pWiHj1psipAqYZ5gAQmLaFhjSyQRQAgBG9YAwlkkKEhDu8fzajAAJgQhzdUwQI4GAgyJCCzPKxBCDcDcgYewIZEJMJn6HAgE6BVAAlAg3v7PQg1AUACDKf53vnRmkEQ2IWBjCNAeepw6PygFwYBIsIEIUUBZCC+eyzCBxJ4AAmqQIoH6eMOlRS2oTBxhRaczANTmCyrEDWXKwyTxuv/BDLGc6lxF81zl6/gwQNWFI5+zRjXY5sBAkJQB41ShaN8/Qd3BRJzLqXhHRLINg81ftiC9CMSevHAGtghBCdLjw0s0NAM0jDSzn1BQBsA1ECWcQQJiEV86mADnlb0vjAjJJX0xbfc5073lMgmwCiBNC1pooTw1f3vgA+8ReAhxXugKlAoKeZdZ6JlzAr+8ZCPfEFkYQEt3KEMQVNCb0vCizUoYASblwkp/BCCAfRI8qhP/d+9kYUQoIsGhrgvSdZQASYwqiZC0J8AVc/73vv+98APvvCHT/ziG//4yE9+4MEqnX4FJrwFYf5Bbv53ZxpU+dh3yNAtYv3odzAl0g+J//PXCrHuC9Qh1GcIOAAxhTKHNywfikxC0BEgBbBgELPlyBNC4BHz+2T72WcfAEgR/gc/t8cS4QcSvZF/CgEObjYsAHB9BvgQ6bcQMUJhA/B+4XFHJ4cQ6SZneUAEWhN6GiEPCBA8HFGAPDGAARgdLCgRKggTCWgTMQgRFagQ4fAMBvN5BvGCCFEVm1I/VQFrGpFFZ5aCEQgUPtiCRfEKR5ABSvIEwhIjjBE96AAIQpABCDACa7BVhgEA4fAIOvcFbLEYYXIbPxIkQ1IkPpUhS+JzCOENd8ADFmB/eTBOMoIQsqAFKrAgRyByQgci4XAFFfAASyBNCdEvUTIlVXIljP91howBiQMhD4rgJmXRBQ9oQ0T4EDxYEEt4IApgTbg1AOF2EFURDouQdTKwFfrgBySgADTgCwaxBRXwIE4IhSEghQmhFOWQBRbwAEmgUubHYycFJvKwBh7wAEfQI+jwBePGBKviIUlQDltgARIgBbDTDdcmAVfghYSUBQISAmxgJBFVhUyIFFnhAeVSBjMwH9cwIcXRGVeRChIwBW8wMCpQNVUhBapxB47gCWzxS30xRZazTO4CL/JCEEzlAbRGAvuSEIlgAVdQbUIAAELwINtiLAjRAjTwBazxFIkUiEmQAUcwB55kAd5IEIroNQGDj1IEJusSkJ1RIrfxDAjwBJT/MgUFYAEddoMN0Ym5xgSVkAieADgHYTi0QRA4MACy93NVsAFpQHsD4AtTQAJrUAYKgACwI0EV8Fn/kI7r2I67eAMhAAR50AUIgADXN4xBN3Qj4AE+QANvoAUDYAHdMAJCEAeo0gKbBwA3QAJCwGcEow0WsAQDUznYowAPYHluxQK08o4bKI/neBQ8gABeSI4AqA7DhVX0VRUhADgqiIZkkTmb0zkFEALkWA+9wh3/MVsqhHh7tBBb2Tw0UAEVBH+KMBBM9RymCHSnkzrPBpMQKIGx+Q/y8A50NQBV5ZMMAZTbxRgHMAckSBCSsEIFcTbIYxBVwQLwpEMVcAQVlEVO/zUQwjA8lXmZuwgAXaA2yDAAiDOcONdXxQgAV/AgI1IBcaA2aeQtYuFdaVQBJeIPbnV67VABnzkQRRQ8nziZP8EDEtA7nkhkB+EPFaAEPxeS8Hl+EVVCJ5RCAIChqQAfCvEOFKJWEJEpIxUWJLB5YeF42gl0MqQ4NSQQwvkPofl9BEEDwKaJFOGchgII1yAP6lAL9zNIB9E1V8RFb9WbsIZpoiEQrcQdb3AA4+GgELoQAFAAgFNcGUqMM/IiHRY/EjBO4LFO/UGmBEM/LkQ3kLZ7A8EDGSCfLcegQjEiH1AHtXClA/gKTJABBTAWLfBziJWhJopJBLFJ5mRX0iOiA//hD51wBBYwAGOBmMWZEOoQBzLwAIuBeC1KEPrQYD8IdN71D6bkIuWXhBrqL0+ZS2KBAAW5iQIhC8ZBnP/go+FiAQhwpQSBpAXRRaGaDfQjglXzDx/AAoxFqXaKp7raPypQEGfVpW1ZjLsUOwDAA3XCRh5iraW0TIeqRRbGBnfkKqO1oHTKE/6ACT4gqQcwBVsJgJmSAVtwB51RARBzis2EqoU6XSgnEBYlcHB4EMUUAh7ZGYWRgO/gQETABn4ACJ5ENwDIqAKxkinnlqdKnLehCgMwAe/SGS/yqqE6FiknELZ6EKojiwdRndelYgCQnQUxfgtUo9cAAJLQqOiqruz/uoulaEMAxZYTW4yDRRpDB7REllazU1NyQq7l2hPtIAuOIgOJs336UAEesFX+8AD1ClEDcaMeu6//oKgDET+sGSoDcAPjhA4Fi6MEYWxxhx0OK6EQ+4V71bNfWrHeNxBTE40CMTpbKxEjaxCptHeFMxsYtpRNGbFYW6kHBTEqZJT/sLRNO5210qxm9aEZih4lNhAxO7e0xR1By7lDu0Ge1IE9KKFJexSgwSjxAxu4xa0DIQ1CNn7/UC8RpKHUl1YqBKIQq0MzKhBZtBvJlRBpJLpu1bbC9rYSm2uam0IDMLsmqgDaKhDokEt7GxF9WxAiiIgGIQ+hSD/ikrMte7gv/wsxPPC8B3G6bqSlBMGlNoqqhdRPBZm80oi88fucJZRWI5KkBpG6pVsUvsA/+vBQBlIPA2ChgSVxFQQPFXm1WCIQ1UmEoglradUNGZiaq+mBFtlb5YBpu7FiEKkpCCoWxLu5iQh0cmuqA9HAdZu3FQBPhicW0wsRtgoNs5Up8zMQ4OAbPxeE/jCEI7zA4Qs/nFQ4/gvAbqSe7OmevWV++iABFoCcP4Np8FsrnjsjQlu/G6QOE5ABLFsPOSXABLy/QiG17/IGroJ3/wAEAyAGhpAIBlIHh/MrHyAEJWW4C/wP2jAAH5AHiRCED0xd67SQbzAHDgmqB3E2etYFElkYiv/GaI72HxVQAO/yNg0rpyIcqnErvzQKMXecx3tMkAKBQAy5BiygAg/1wgvBDqY2ABJgaraxAVlQB2vAA6lxejSKtR84ZyL4BJBLx6mauJ8MANj7D2JcB2QMAGbcP2Rpll+QlmuJr2UyAm9QBhlwNlEMIVM8v5TMtf+QCw9QAALDBlMwAVtzxmm8xowLxjlRCVMgGBYgBJjAP94ASJIaPfpgCFkXAnNQDzUKuyaUJDvUx9r8lZLCc/FTBfY2EPVQB6/IAobwqbtxcRmHENfABBYwAUkgDDP2sGH7c5dMvyZsOf4siQLhD5WQJB5QBuoA0NpXU2Ozf+jSAm9glC+ywPT/twEIcH+Fy9G9LJxMMFjqzM7uzIDSWA5X8ItHIIz42g+AoCMtEAnh4LOVnM3WjMnx+Q/dgHkIYAFyeTTxLG34is6+t0m6AtYoIQ8HMJ4U8bZkvdYooQ6bBw/xolJsLRJFxLwTodZzndch8QgfsBrOWKJ6zRN4HdiErRHQ0H6K6QORsMuFLROD3diQHdmSPdmUXdmWfdmYndl0Vw/UMFya/dmgjRNaRstCMayeYtqdgtqcotqrzYSjXRROfDWxbTWz7Sm1bduuDQCkHRS3zSm9jR+/fR/BLdy5vdtAMdzTgdzSodzRwdzNXdywbT7OnRnTjRnVbd3QDT/UsN3c3d3e//3d4B3e4j3e430M5H3e6M3d5/wS120Z7f0V7w3f2V0OmlpT9n3f+J3f+r3f/J3fD7DeLRHfXSHgXEHgBZ7dWmYK6b3gDN7gDv7g3V1Exs3e0l3hFh6Ar/0PGc5NGy4TBn4UH24UIS7iCK7bSNXhMTHiRKHiQ8HiLV7iE44+KA4TLs7bFy7bMH7iJk4TNX7cN07bOX5UM07hWNPjP2HkRx7kHL7jM4HkPeHkPAHlUa7k2zTkLiHlOoHlOaHlW07lIoEDOCADBQDmx9xidZwQnYC3GWHlAf7jncLlOAHnApbhbA4czmUjF0EEvHBPD1HnKyHnNQHoPH4+gq7jp+fnHf8hDneOMzzABkLwCqTgA2C+58TKKOhwBXFpTtrABDRAA5hQCRJAyv0bB53+Br+xBW/wBDSQCGfUuBawrFnG5B7u5r5N6F4uEOlQDbq+67ze676eDgqh6LU0ANTCDrURDh6QOB/AKEpgHvqwBLWgDyowWaOl55+8BPogO36xBT7gM+2QAcyhCFVlEIieEoU+60Vu6y1I57I+EIIQAPAe7/I+7/QuCMG+6MGwPQIBDZyOAwdwFctu1mCOAyqwCNdgrARh7f8wBZGhCl+zBXr0D2kgCf1AAqJbEOWOEuee4rRe6+u+40Oe674+8iMP7Akh7JpUiiNwKf8wAYyy7PAgQgT/cfDWS+lTgDr/4PA3FYSENAOyEKMHkfEnsfE03vHAfesigfI4U4oVMEwx8vKMcgTPUQ7ooA8sQO3EhfOR8ATZ/gTbzvP/sAQhgPMIIfQmQfREjuNGb3zsHuMgofTBUIqeMAJHcAfLXum8kQWdLgTDxA1LQAM3IDay0AI4MOqlfupgrwofINQDYfYlgfZXvvb2Aflf1PY4scRK1hFpwJtl3+5Fn+6gH/rZZ/k2kcFovRHl0ALguRCOTxKUzxKv/+fqjuEg7/mVb/uRL/q4LfnER/pL7vawz/vPLfzC5/tVjvttrvtvPvujX/vAjzWtPxKxrxLTb+7Mj33GH0bRLxLV/6/xxA8d3W812Q9G2x8S4X/230/dSC/jyB/8yu/x749843/7z0/96X8Z54/+H3/oAKDgAEFN4ECCBQ0eRJhQ4UKGDReaAkDt30SKFS1exJhRY8Z3Gz1+BBlS5EiKHUmeRJkSpUmVLV2+LAlT5kyaNT1Sizix3AMAPX3+BBpU6FCiRY0eRZr0QTmbLlk2hUrzaVSqTqtefTkV61auM3FK1OlQ7FiyA4+VRSuQaVeQWtm+tegW7ly5c+HWtZs371e9LfH2vfoXMFXBg6EWNtwUcWLGXnM2DrkYctbJWyVXVnkZc0rNmz1r5PsZY2fRbUsrPm2TdOqNq1lvDv3a9eu4tP9lzrY9EXfuf7t5D47N2jft4bJ/+z2OPDnv4KmLC1++MvrJ59Cn025+urr26yO3l/4Ovvvr7OLHmz7/Mfzn9ezTny4vuv3m+ZjrV76P/33p+O73a8wPsgAbG5DA/z7rz7MCE1vQsAYHexDCAz1LkL4JR7vwogj72pDDDCur0L4PK+owrxLtOhHFESELUb8Ve3sRxhdTpCvGxFqcjMa3dGSLx658/NFGw3AUMEYgLTPSxiMzJNLAGZN8Ekoh+2qSsSUDk3LEK7GcksrHjItyxS0JU7JLL8ECU8wsPxyTTDP3+tI6NcPUssw37aqSwTUzbPMwO++EK08H97ywT9QIBRT/K0ElpJNNRCc0NL1FAYu0pkqlevTAS7ub1MNG+cz0v02v61SvUWE6lbJPQU30rVJNDPW9VK2KtVWbXlVxVUhrTW/W5HCtUVdNeT3P1+OAvYvY7ozl7E9bt0J2R2WvY1a6aZ91Kdoer42uWuqcxbYqbYMUVlRuuw0X2jidOzc5b0l6F950FV2Xu3L3i1ekfPWd96pxudoXvTkHJrjfpv5F8l5Z23XXYKoQxipg9Rj+TeKJHRbpjREAyIaiEVrAAQdVLIKYy4JZPRlljD9SppwROp7o5YxKrsri1ijmzeabVxZJ5phhvohmN1PeVeGFeQ7J539GuIGGMtghGQAhnsDk/x2rr8Y6a6235rprr79+Bxywxya7bLPP3lpstNdmu+2y1XY7brnjhntuu+8mu2689+b7aqyUZkqfO6SIGk056zS6WHCR1khpitCRoHDbdOYI59wor5zxj3yuB56JHDlCcuIsn5z00jXXaI0PCthAhX/CwYEGGqYQR/Q0ESd6WNM1FzoqzDXc/XDcUc+2XvNyNzdxxYl/qXc/lV82eOGZR8n5Q5HHV3p2qW/JetW0P3548bknyXtLwZcP/fTJT8l8TKGnVn3/2D/J/Zl+rw3+6fDPn/7yjV8f9o4mwAH6TyT2u438LKS//Rnwf4bbHgGXJ8EJOhAkCESVAkXEQHRZMP8kGFQVBaPHweXwj0UAnN/4CqXBDXrwIyCklQjjR8KGufCFKFQQC3Okwx3a8CY4XKAMG0jD45iwMTBUjhA7qMQl+nBmQGyhCovGxBI6cSNIzAwPnUTFGloRI1hsFhFzpsUtetF201uhGC+3ODP+A4zW4mLFyGilNgYNii6K4xjVuMY6VuSN39rj6AIpyD5O5I/yGiQap5hH5h3SO3McVCIV6UVH8kuS9mIkHwvpxjv2MJOElOIi+1jJyECSUZ8E5Sg7WaRLhs9RprwTKQUWyuSh8naqhCAmaZm9VrqyjrK8mC0juEtebhKYHjGijISpS2La8Jg7W6Yv09hLhz0TQLD/9FQ0pQkof2hDGLl4xnasmTltpvCV1PxNP2RRhQoMwJ3upMEgxkGTcWIInUFsZq9sZQoVSOAKjzhGNrwhDVXUgQYHSAM6ZFJP4N0ziucsJ29a0Il6aCQbYkjEQldZRoh2VGX5HJE/QCJSmDC0fyAdYURziC1lVLQi9VBGTUxKImyaqqY2xdYAoEGyAch0o3R0KB5RmlJb6dQiyogcPX+qp6B6cqgzTNQzHOGIAbxhqlM1BBB84NNcblN3Kn2oR800iHeWdQAIwEEzuHo6sApVrNMs6k7FtdRIttWpbxXlL+l6yqc2Ea9ffVY/mqEKT5CisJ5Yayo/uli49pVJIzCr/zsTe0vG5rWxf+0SEGggDHS0w7Oenewka+nYLtrVNhLIhb/2Sqmb5sq0rHwWD0Y2164GkLRFbK1rbYUMHHSDtmy9rRybetc3yU52GShACIxLgxuEdpiYLSB0o/umL4jButfFrhicy8zKAla6+twkJ2trzu6O9rsVxCVwz0vU9bI3UWWAb3zhWwdSuLSkq81mcPX4Wo4migYZGEAFWNDODIRgACEAh0bHu1L+MrXBDraVL1SADIocQwW88AYLqqBg9Za3mPrdr61oYAqLkIIG//CEBTis2Mu22LIufpMCUluRWijgH8qw8X0XjM/2DvHBdbUVDpRg33ocgQf/SAUJVv9MWRib18MfbtUyJGCBKqyBnRJQax7qsGTRQvnJ4B2ubdBxByXIQAl3UOh2verkJnv5yy6caUzCDNQf8zW9LH6xd9+M3uJ2bLnLbe5GNMYxinhDCCzwgTbsuOOwtnm6jn50l8QQjn9UN7vW9UjLlKYExL5CCIvuMKT5LOpRU89n6qiAPv7hjw3Uzo/4xWmd89tjH9PPZ9SQAUV8ENNXT61qfQP21fQWbGK7bdjFRvbZjp1sZoNt2c2GNteeHW1qW00k2siCChAgET/M2CO3noGueU2ROOsmt8maM51tFYwDCMEPOQHEFEBy6lSvutVnfO6e3Uvq8SQzJD7owj/0MQD/icjiA/MGWhI6/Wl8c5ffUAWxJm2lgGD8ox8E/wcycpy61bVuIt04dKJBjWc9P7zWEU+PBxB7cYlgQslKZbRb9Q1xWvs1UWsYQTdYjo4WbBnmoc4zm4Mu9DfJwwcI8MEAcFABH9iXy/k2uc2jLnVA6cMTWmBCFjChajXbtual/TrY9Rpz4k5d7GY/e6vUUQ62s73r5EW7cGU960S1QwsKiOzbGYxyJg/dzXdipx9M8QrCE17vPJ75yROveEBVALG/JTnRJf93vwtpBN6OSrmVyfcuR7ryNpLEE7ieeVjDKt1ADjtuW/UG1r8hBCHoQutZf/hGf77f50Z3okiwe973/373tJd53EOcerkXUvPJRD7upRXe4yufXHOPNaBq8RF1SOPpDrf9vrOv/SmF4AaRSHNF+iGMMkigE9dfM+Un7/mSd+kejiDBAEgwhTKsQQtCeAACrnANx5AdtpyHuu2juUQ5Bj94ghtoASH4AkxQB+ArOwGkuvaDQPppvtOzs8WLQCuqQOjTLeIbvrEDOglcPzDjQCHZQADEPhEcQTgrvQ7EwLRTQfVzohP0wBBcwVJ7E09Qq4pgh8frPxuUQfYLQiGckgE4gIyiiGfoqZ+LvCHEwRu8vZxaAwXIApdSQgf8vxpsQiLkQhvRqWbwAByonStkwr6LQRLUwi0UEqMqB/8fsABhIMMfVMMndMIotMDSMKp/uActOIAtWEI5NEMoHEDh+0BAycOJSIQC+EP087oXVL0SDJZnGYfRm4hm8EFGhLsJhEFBHEQzokFHLL40DMQZbMFIRMH060I69KFPJEQgTEU7NL5SzL1TbMRWdEVnksXlg0RdpMVa9MRc3JY7pDtbnEMPYkVNfMRezERKAsbnU0bEI8ZRXMVmBBjnq0ZhHMZf9L/+isYAPEM0BMFi5D5OzEBypEBqTJhdDEZ1XMdY3EZ1E0VvNMcqYj50jBhrTMdnhEZtvEVVBMdulEdSfEcIi8cUnMdNFMh+hMWCRMVXdKBj/MaFBMVQDEdp/Ef/ZKTIiWwkezQZfQw+jMxIfhTHTozIcTxI7oHIkyxEkFxJZhxI1NNIhTTJOrSglKRJklTJltRAjqwZfLxHbIy+O7NIfyRKiYxJ1LFJh2Q8lpQ4oey8iyxJnMxJ4klKqJzKkZTKaXzJCwTIhixKoxTJoQTLqFxKpkRKnhwaj3xAsizLndxK1gJKF+xKrzRGtPQdn+xIhqTLmrTL52HHa/xLwHRHmcxKq7zJwjQ1kBGZhttLxBzLq8RKxnGcV3vLbGRLegzMfPSgySS3vrwetczCo4xMpGEap4GaXqOaapObaVNNaGPN1mS214RNZJPN2Sy22rRNYHuLwBkcxvTFy0RI/6VsSwOCHN9cRsh8yq+cSerpnM8JHcokzOEUTszMzOmAHdmhHePcO708zsOUTlyszKAUzeR8TOREmqpUzu9MT/Wsy/A0versybiUy7Akz+VcT+oEzWdBz/KczuDsT/LZT/vkT8P0znN0z/kEzmTkzu7Uyugsx/8MSbPkHc/8HvmcxQXdzoqsT8cU0A71UAMKUA4VUfYcUBY8UFPE0NpLUAXV0ICEUJ0sUPxsUYOMURady990SweV0RvN0PE8Two9HwvlxRRV0RwdTf+8TyRNUgAF0veBz7Qk0o90SR1V0g990BfdyBO9UB+lUSxtyhltTBId0SslUPCkUhuV0A0dU/8DPdMINc8u9dKz1NIh5dIwJdMlRckmvR+8jM8nhVIwxdEadVNBHdQGPVI0XVEYJdQsbVNFLVM8LVQzPdRIhdQvrVOMCVEx1dQ7LdH2bFRLTVMXjdMJndN2jNLQ5NEepU9RrdRPddVXJVVYVVNOXdMdXVU4bdVJddRH9VRdBdVE/VVgpUo9TSAhNdVLDVRDFUsrtVVhldUfLVVnPFVuDFVW7dVlrVVEfVNcvdZZbdZtTdZRZZxMpdVN/VZwrSZizSBjlVZkZVBJxVZzrdJs1daE9NVn5VZmPVdl9dZ5ldd6XdRhjVbBnFZ4dFdVndJ7Vdh4Ldd/zdOB1cyDLdKAxdf/lSHXfeVVffVX/7nYjcXYXF3YcVXXEMpPg03VfUxYhv3YTtVYgIXXfnVZkIXZmO1Wa23ZXWXZm2XUkLVZesXZnAXRkY2hkiVIiZ1Yfu1Zh/1Zn13aoIXYn/RTvyTaom2jjqVZna1YO2VTns1Xps3acDXRr0VYdB1bsu0Xq6VUoG3YtWUftG1atr1arJVTsUVZsz1acYVWur1bmU1apd1ZlfXYwI1br51brtVawU1btd1awB1cuE1cuY1VwwVbxUXcx9UcQ0M0RYNO2sCEGOncF/ncFQld0Y0REusKTvsHT9POzXiCGGndF3ndFYld2Y0ReeMKVFM1VnO1SgQAU0iL/98FXoMQguAl3uIF3uE13uRVXoZA3uV13ucViOaF3ulNXuml3uv93SNwOnHJtYnYtYqAiKQQ3/El3/I13/NF3/RV3/Vl3/Z13/eF3/iV3/ml3/q136F42qAJN+8dt39gB1NoBuwV4AEm4AI24ANG4ARW4AVm4AbeXqrAXXvb3fCi4Aq2YItQuNRluAvm4A4uJJDLXA8W4REm4RI24RNG4RRW4RX24EEDmv3AXJHLEBf+kHuoAhbAgSeY4AlhAhrAgSPgvxEZBEJjHk174fdAXdXNECOu4VwQqUhgghHxnH+QhSP7EGp4ghA4YtThzPGIYN0dkS6eEGlwnRfxhK3KkP97EIJwEGPS3OLxwDVxC+M3npAuiIMV6YLX09wLuQNJWBo6fpYjsIBBJuS1+OMDoYb9/Yfv/ZA23g9DEIIHvhBPIJwLaQYlEClHXhlNXo4vvrdGBuT3WAQfmOIYUYB2uJBE8IARGIEC8ABe4B5OXo4MVmJQHhFH4IFSzhB5SDODIylbZh7VYZ0y3g8QluELEWaPu5ByAAAVCBkg+JA2ZK4lCOI5ZuFrxuZs1uZt5uZu9uZvBudwFudxJudyNudzRud0Vud1Zud2dud3hud4lud5pud6tud7xmeUkIcQuAKKWIMKMOR8Fuh5PoYBIIV/8IXeHeiFpuc4qIBr8IAsYOhriY7ne5gBBfAAXabojVbnd7sDjgZpdc4GBeABBdjjkEbpcNYHHCACffABHqDElJbpbc4DCUiwbngAP5jpndbmZhiASqCISCiAZ+Dpojbqo0bqpFbqpWbqpnbqp4bqqJbqqabqqrbqq8aIgAAAIfkEBQUAAgAsRAIxAAwACgAACEUABQgcONCfIAoECc6jEqBQQoHfbFCw9VAAsAsutj3018hAlHgP8XkJ0Iffw3M9HKCqyIyDCGsVNyVAsq6iAEhu9tkUEBAAIfkEBQUAAgAsOAI5AA0ADAAACEwABQgcSFDgpYIF96kJgHBguiEJNjUUEA0ECGcTNyUYkq7hPjcB1ORruA5JgoMNq4ngwGwiqARBzjXsZyeAGXwT/ZGh5G+iwJ4+BQQEACH5BAUFAAIALC0CPQATABAAAAhQAAUIHEiw4MBPBhMqXMiwocOEoxw8FMhv4sB1TgxYrCbiQrKJEYOce7jPTQAy+B6uQ2KAkr+H0URwYDbxUwKRJE2iyfcwH5IEl15OJETTYkAAIfkEBQUAAgAsIgJJAA8ADQAACE0ABQgcSJAgqIIIEypMp7BgNBAcGgrMlKDIuYb50ARQs6/huSAJPklMxkFEtIb+IBlA4q6hPS4B7PBrSG5HBFQS/dlIgU2iQGzxfAoICAAh+QQFBQACACwYAlMADwALAAAITQAFCBxIUMA3gasKFux1QWFBf4UCRHE4cB6VAIL8URSAzQUFXBsFrIpg4yBFfnYCcKG3cR0SA5A0UowGgkOykJsSDDkXUgAqN/l6CggIACH5BAUFAAIALA0CWgAOAA0AAAhNAAUIHEhwYLqCCAU4S0jQ3yWGA/GRCQBRwLcdDkZB1HUhBTaG/gQFoOKOobsoAQr5Y2jNxIVeED856EGOYT41AdDgg1iNwqaKAksCDQgAIfkEBQUAAgAsAwJfABIAEAAACFAABQgcSLCgwF4GEypcyLChw4GgHkosSC5IAom/Loio5tAfoQBR3Dl0FyUAIX8Oq5m4gNDhpgQ9yDnEdyaAGnwOv+1wEPEhlRTYJqaLN1FAQAAh+QQFBQACACz4AWsADgAMAAAISgAFCBxIcKCZgggTIrRFwYU1hfz6BKCiUEA6JAYa+VPIDASHZAr9NTKAJJ3CeVQC2OmnEJsLCrYqfnKw41vFdRTQ4Kso8BxPgQEBACH5BAUFAAIALO4BcgASAA0AAAhQAAUIHEiwoEB+BhMKjKUwYY6GBPGhCXAG4sBvORxssriQggtrHPfZCYBlHsdzQQxA8sex1QURzjj2ExQgijuO65wE4MOS4zYXxDgSRChUYEAAIfkEBQUAAgAs5AF9AA0ACQAACEQABQgcOJAZCA7FCA70h8gAknMKBZprEoBOu4gCnIm40AujP0gGhkCMGI9KADv7MFYzQSEWRgHEEvQg91IAvUL5agoICAAh+QQFBQACACzaAYMADwALAAAIQgAFCBxIkKCtggT9UUKIcB6WAG4YDrSWgoIriQIUJujxDaNDiPgwWnNBgRVGf5cS7Ogo8aObkBi3cViFkSDMmgICAgAh+QQFBQACACzQAYgAEwANAAAISgAFCBxIsODAfAYTKlzIsKHDgdZcUGD10B+lBDu+PYyHJYAbhA6jmaAQqyKkBEHIPXRHJYCdfQ+dibhg66GAeRSKqLQpIBpMngEBACH5BAUFAAIALMcBkwALAAkAAAg+AAUIHCjQXyMDBAeucxKgT0IBxThw+JWQn6AATs4lPIfEQKF+CXFdEMEs4T47Aai4exjGACR/DwV8ixZTYEAAIfkEBQUAAgAsvQGaAAsACQAACD0ABQgcOPBbD4IEUVFIgVAAPTMBuMxDaC1GBFD+CPqjlGDHN4TuqARwgw9hMhEXbDX8FgDJuYYCdfWDKSAgACH5BAUFAAIALLQBoQALAAkAAAg+AAUIHCiQnyADBAeeK2JAUEIBsS6IYJbQnpoAWNwlxGbDQSZ/BP1RcmBjW0J3VAK4wfeQ0AVbDwXuOxdTYEAAIfkEBQUAAgAsqwGiABIADgAACEkABQgcSLCgAHJIDCpcyLAhwxgOCyaISNFgMRAV9/UJkDDityAGEPVz6G8UhRTRIs7jEiDMvIjOTFBARRGRgSHkKgoSxK+igIAAACH5BAUFAAIALKEBqwAPAAwAAAhDAAUIHEiQIKiCCBMqXEiwHyGGAskVMQARFQURzBbO8xKAS7yFzkxQGOVPIT9CBoZ8WyjRgCB+C/3FMOEMogBs82wGBAAh+QQFBQACACyYAbUADAAIAAAIOgAFCBw4sBQFEQQHxuMSgEtCgclEUED1cF+fAEjIPdy2IwGifgn9UXIQo9pDf1QCqMH3UOAlXC0FBgQAIfkEBQUAAgAskAG5AA4ACgAACD4ABQgcSFBgDwMFEyokuC7KwoG2OFx4SA9NACrrFjpz4SCTP4X7BBkI8m3htIOC+C3cBMGFs4cCKIGhB1NAQAAh+QQFBQACACyHAcEACgAJAAAIOgAFCBwo0N8lggPTRQmAUECsCxxwEZwXJgAVdwSTiaAAyt9AfHYCICFHEJuNBI36IcQWBFvDgi8FBAQAIfkEBQUAAgAsfgHIAAsABwAACDUABQgcKIAfogQ5CAr8NsRAH3wE/VGKkMKZwnNOAqihR7CdJQodWinchyUAl3gKBbphlVJgQAAh+QQFBQACACx2AcwADAAJAAAIPAAFCBxIUACGggPdISRoi8OFVQjnkQlAJR1CYiIofPJXkJ6bAE7IIWSWwgEkjgVtBRjybaEAe5T6uRQQEAAh+QQFBQACACxuAdIADgAJAAAIQQAFCBxIUCAlfgUF4rMjoEjCgdFiJGiEMGG+PgZ6bHsooJqNBIX2PdwnyMAObByx7TAgSCRHNTaqcRxIL9/MgQEBACH5BAUFAAIALGUB1gARAAoAAAg1AAUIHEiwoAB+BhMqXMhQwL5CCRoKxNbDQJ+G+wglsBGtIUWL+Rhm3NiRoT8kICUKWFVSYkAAIfkEBQUAAgAsXQHeAAoACAAACDcABQgcKBBbD4IC9wkyYANhtRwGBOEbmK+PgR3WCEaLkYDQvoH97BjogQ2hPy6I+iEU6G+lwIAAACH5BAUFAAIALFUB4wAKAAgAAAg0AAUIHCgQH0GCzFwkODjPTYAi2wj2EhEBUr+B7sIEcPKNYCwOFDb5I+gvCpVzBwXSG5kyIAAh+QQFBQACACxOAeQADwAMAAAIOwAFCBxIkGCygggTKlzIsCHDdFgCMPT3iQIHVAu/OQngxZ3CfpAciOi1EFuQAG7mMewTw5lDfPkcCggIACH5BAUFAAIALEYB6gAPAAsAAAg8AAUIHEiQ4IWCCBMqXEhwCEMB+QQZeMgsRgJBC+epCTBk28JYIChQ6qcwHZUAVM4x3CaClb+HAvbBFBAQACH5BAUFAAIALD4B8QAPAAgAAAg+AAUIHEhQYAQB/AoOPDeQnEKB/ihR4LDqocBtRQKgcWcRX58EMZJZFFDMRQJB+Sz6QxMAybaRAgll8gdTQEAAIfkEBQUAAgAsNwH3AAkABwAACDEABQgcKMAdGYIC/IG6cIHgNyQBuKQTmE9QghS/BiaLYaAPvoHMAhTZhtCfLX8IBQQEACH5BAUFAAIALDAB/AAJAAcAAAgvAAUIHLguzECB/jZduJBpILYiAcKsE0iPToAYyQb2ErEA0b6Do6JMO4jQH0mBAQEAIfkEBQUAAgAsKQEAAQgABwAACC4ABQgcKMAWQQHkqAQYmA+RAxCuBBKLYcAOPQHpuAQogm1gFA6f/BEk5+6ggIAAACH5BAUFAAIALCIBAwEKAAgAAAguAAUIHDiwGMGDCPlBooCQWY4AagimCxMgSLSB/ChRuJDJH8EoEN0h1HURoYCAAAAh+QQFBQACACwbAQkBCAAGAAAIKgAFCBzobMdAAenCBOghcB8kChcy9ROQzEYANe4EugkwpNpBVKD8HRQQEAAh+QQFBQACACwUAQ0BCAAGAAAIKwAFCBx4jstAAfgQReAg0J+tFAbszBOwLUoAJ9sEUjJgwpa/gdEI4TsoICAAIfkEBQUAAgAsDQERAQkABgAACCsABQgcOM/OQIH+NnGIUGigsx4BuJwTeI5LgB7MBlaLwGGTv4P8Gs07KDAgACH5BAUFAAIALAYBFQEJAAYAAAgrAAUIHIiP0ECB/lCJSGBnYLQiAah8E3guTAAbxAa2y4GBUbuDArDFAykgIAAh+QQFBQACACwAARgBDAAHAAAIMQAFCBxIUECxgub4QCgo0N8oEQnszCvIrEcALN8KksMSoAczhgK+iRjlD6TAfiYFBgQAIfkEBQUAAgAs+gAbAQoABwAACC4ABQgcODAIQYHfDgqMZycBCIL7IF2IQIieQH+xUhhQk46gmwBRsCmsBkyhwIAAACH5BAUFAAIALPMAIAELAAYAAAgsAAUIHOisiMBtAwV8wxIgB7GE69wYEDHK30B/iChQaGQvoUAsdtZ5vDhyYEAAIfkEBQUAAgAs7QAjAQgABgAACCgABQgcaG+gQH6ZQCQQ6C9WjABcvglgViSAk2oC8XHYAcyggG/+PAYEACH5BAUFAAIALOcAJwEIAAUAAAgmAAUIFIiNSoCB5MIESIFKwDo3CThQ2icAHwcKiOgNFKDL3UYBAQEAIfkEBQUAAgAs4QAqAQgABQAACCYABQgUOE8QhYH2Gl1wYEfAPkogDKg5J8BfjwBevg0UEAvbRgEBAQAh+QQFBQACACzcAC0BCAAFAAAIJgAFCBTQb1SKgf5YxQhAZZs/WzkCRIkmUE0AJMwGCohGzJ9GAQEBACH5BAUFAAIALNYAMAEHAAUAAAgjAAUIFOCvVxCB/ogVCTBEQDIkAYL08qcrQA9c/gTy05VxYEAAIfkEBQUAAgAs0AAzAQkABQAACCMABQgUmMyJgB0DdyEJkCMWwYU7YvkT6G/HDlETBwpIl1FjQAAh+QQFBQACACzLADYBBwAEAAAIHwAFCPRXDEkAAf56FQnQw5a1IAGC6PIngBwSYBQFBgQAIfkEBQUAAgAsxgA4AQcABQAACCEABQgU4M/WwH6rcgQosg9UjABOkvkjE4BKtIHYsA0UGBAAIfkEBQUAAgAswAA7AQcABQAACCEABQgUgI+SCYHzEHEwwMVfHwoJ1HwTiMXOuYEC/GEUEBAAIfkEBQUAAgAsuwA9AQcABQAACCAABQgUuG6ggG9uEkQQUA2LgQuF3NGjYIKSvYHY+BkMCAAh+QQFBQACACy2AD8BCwAFAAAIKgAFCBxoTSAHQgP9/XISQCA+gftG5QjQA9VAAfNEBIhSzN9FgZCwfRwYEAAh+QQFBQACACyxAEIBBwAEAAAIHAAFCBQwr9FAcm4oJCDDD4uBC33SCXRDyd7AgAAAIfkEBQUAAgAsrQBEAQYABAAACBkABQgU4EzgPlRBAriABCKAE1z++pzBNjAgACH5BAUFAAIALKgARgEHAAQAAAgdAAUIFOAO0UBrZxwkQMMMSQARiNwJ+FWE1b6BAQEAIfkEBQUAAgAsowBHAQkABQAACCMABQgcKAAbGoL8YhEUkK4QiABIBM7jksABGmsD/UVpFG9hQAAh+QQFBQACACyfAEoBCAAEAAAIHwAFCPTnTKDAeZRsBEgByd0lCgGoAPMnsJggcgYFBgQAIfkEBQUAAgAsmgBMAQYABAAACBoABQgUgE2NAHqbggTgwE9EgCix9gmwRW5gQAAh+QQFBQACACyWAE4BBgAEAAAIGQAFCLSmhsI8Sj0CgOiDzQAVW/wErhMoMCAAIfkEBQUAAgAskgBPAQYABAAACBoABQgUeEmAv2JeHAjQZSKAC0Tnop1h5k9gQAAh+QQFBQACACyOAFEBBQAEAAAIFwAFCCRHiN4nJAEi9Ang5BO9dOQECggIACH5BAUFAAIALIoAUwEFAAMAAAgUAAX0++UlAigOAWIU6uUmmj8BAQEAIfkEBQUAAgAshgBUAQUABAAACBgABQjwV80OOUIxAnAYRcFLL3747AkUEBAAIfkEBQUAAgAsggBVAQUABAAACBcABQgU8E0AuUY9AjgLkADLqn2j5gkMCAAh+QQFBQACACx+AFYBBgAEAAAIGAAFCBR4jiCkIgL4IQmQgAooAX1AxRMYEAAh+QQFBQACACx7AFgBBQADAAAIFAAFCCAHqciqHgESUPmEBdU8AQEBACH5BAUFAAIALHcAWQEGAAQAAAgZAAUI3IYoSLw+LgJEEJAvxRlb+AT6EygwIAAh+QQFBQACACx0AFoBBwAEAAAIHAAFCOjnTKCAXWQ4BLggABejGHac9RPYzqDBgAAAIfkEBQUAAgAscQBbAQcABAAACBwABQiYJ8qMQEpODAQQ0IeZEyeQpgkU4G/ixIAAACH5BAUFAAIALG0AXAEFAAMAAAgUAAUI8PetkTs1JgIkyJfDjS56AQEAIfkEBQUAAgAsagBdAQUAAwAACBQABQiIF0uAtSEGArg4hyUTOQEBAQAh+QQFBQACACxnAF4BBAADAAAIEAAF5EsmqJeDABfONbLmLyAAIfkEBQUAAgAsZABfAQQAAwAACBAA9zlD5ARXAApR6EXjJyAgACH5BAUFAAIALGEAXwEFAAQAAAgVAAUIFMAsXR8kDgSQu0ClkUB/AwMCACH5BAUFAAIALF4AYAEFAAMAAAgTAAUImAdMUL4cAQII7PPpm4CAAAAh+QQFBQACACxcAGEBBQADAAAIEwC/bVIjQACVADbObCI3r6CAgAAAIfkEBQUAAgAsWQBhAQUAAwAACBQABQjot+0TMyQUAgiohqURMQEBAQAh+QQFBQACACxXAGIBAwADAAAIDQC3lbIjIoAJbPEEBAQAIfkEBQUAAgAsVABiAQQAAwAACBAABQjoJ4BYDwcBqpmBVCwgACH5BAUFAAIALFIAYwEDAAMAAAgNAJk1OhMlQo94/gQEBAAh+QQFBQACACxPAGMBBQADAAAIFAAF+DvXSwC9CAECOBBACdc3AQEBACH5BAUFAAIALE0AZAEFAAIAAAgOALdh2SFAwDYkahrpCggAIfkEBQUAAgAsSwBkAQMAAwAACA0AyW3qMyoACGjQBAQEACH5BAUFAAIALEkAZAEEAAMAAAgQAPeRS/apUYAAAmhNoiUgIAAh+QQFBQACACxHAGUBAwACAAAICgBHgTBwasyfgAAAIfkEBQUAAgAsRQBlAQMAAgAACAoAnVEJosmIlYAAACH5BAUFAAIALEMAZQEHAAIAAAgRANcJUiOgoABaGmAIgNJmT0AAIfkEBQUAAgAsQgBlAQQAAgAACAwAWUESIEADAQEvAgIAIfkEBQUAAgAsQABlAQMAAgAACAoAv+kqZYUAgYAAACH5BAUFAAIALD4AZQEDAAIAAAgKAPFhY3aKAIGAAAAh+QQFBQACACw9AGUBAgACAAAIBwDdfTNCICAAIfkEBQUAAgAsOwBlAQMAAgAACAoA+7k7R4sAgYAAACH5BAUFAAIALDoAZQECAAIAAAgHAPHNG0MgIAAh+QQFBQACACw5AGUBAgACAAAIBwDpzStBICAAIfkEBQUAAgAsNwBlAQMAAgAACAoA/c2bZ4wAgYAAACH5BAUFAAIALDYAZQECAAIAAAgHAPnN00QgIAAh+QQFBQACACw1AGUBAgACAAAIBwD3zTtEICAAIfkEBQUAAgAsNABlAQIAAgAACAcA980LRCAgACH5BAUFAAIALDMAZQECAAIAAAgHAPfNO0QgIAAh+QQFBQACACwyAGUBAgACAAAIBwD5zdNEICAAIfkEBQUAAgAsMQBlAQIAAgAACAcA/c0zRiAgACH5BAUFAAIALDEAZQEBAAIAAAgFAOmVCAgAIfkEBQUAAgAsMABlAQIAAgAACAcA8c0bQyAgACH5BAUFAAIALC8AZQECAAIAAAgHAPvNO0UgIAAh+QQFBQACACwvAGUBAQACAAAIBQDt6QgIACH5BAUFAAIALC4AZQECAAIAAAgHAKXN00MgIAAh+QQFBQACACwuAGUBAQACAAAIBQCh1QgIACH5BAUFAAIALC4AZQECAAEAAAgFAI3RCwgAIfkEBQUAAgAsVwKPAQEAAQAACAQABQQEACH5BAUFAAIALFcCjwEBAAEAAAgEAAUEBAAh+QQFBQACACxXAo8BAQABAAAIBAAFBAQAIfkEBQUAAgAsVwKPAQEAAQAACAQABQQEACH5BAUFAAIALFcCjwEBAAEAAAgEAAUEBAAh+QQFBQACACxXAo8BAQABAAAIBAAFBAQAIfkEBQUAAgAsVwKPAQEAAQAACAQABQQEACH5BAUFAAIALFcCjwEBAAEAAAgEAAUEBAAh+QQFBQACACxXAo8BAQABAAAIBAAFBAQAIfkEBQUAAgAsVwKPAQEAAQAACAQABQQEACH5BAUFAAIALFcCjwEBAAEAAAgEAAUEBAAh+QQFBQACACxXAo8BAQABAAAIBAAFBAQAIfkEBQUAAgAsVwKPAQEAAQAACAQABQQEACH5BAUFAAIALFcCjwEBAAEAAAgEAAUEBAAh+QQFBQACACwuAGUBAgABAAAIBQCHzQsIACH5BAUFAAIALC8AZQEBAAEAAAgEAOMFBAAh+QQFBQACACwvAGUBAQABAAAIBADTBQQAIfkEBQUAAgAsLwBlAQEAAQAACAQAzwUEACH5BAUFAAIALDAAZQEBAAEAAAgEANcFBAAh+QQFBQACACwwADIAHwI1AQAI/wAFCBxIsKDBgwgTKlzIsKHDhxAjSpxIsaLFixgzatzIsaPHjyAdGghJsqTJkyhTqlzJsqXLlyFjwJxJs6bNmzhz6txZshcFnkCDCh1KtKjRo4gEzjvKtKnTp1CjPqWHRaA/qVizat3KtetEcjkiuPJKtqzZs2h3FrtgAlvat3Djyp0r0R8kA07c0d3Lt6/frvjCCLDD76/hw4gT4zwXxMEoxZAjS57MkRkHEdUoa97MufPATAKQrPNMurRpvmoEuNl3urXr11vTFRGwCbbt27iHRgMBwlnu38CDuwSVQLjx48hBnsmXvLnz5wyRQJ9OvTqH6tizByeuvbt322i+i/8frzmdgASXyKtff9gZb9/s48uPC7qI+fn483fNl9qN/v8ARnXOEAJ88k+ACCY4lGUiRKPggxDe5A8lBogW4YUYshTYYMxl6OGHIJHTgwOlgGjiiRmtZYI1KLboIkSNCODEizTWqFAfNuaYYw469ujjj0AGKeSQ6sVD5JEX6oLkkvqh4gCPTEYZ3z7+eWGPlFiqV0QClGTp5XeW9fblmNndhcR9ZKbpHD1cDMaamnAmZ0MEq8Rpp3G2UODCNnf2mVs/OApAj5+E2uaEAUkVquhpmQlAzKKQkvZJcZFWaumlmGaqqWG9bOqpYYJ8KqpfhYxq6lvRiCAAMKe2WtaEAgT/cY6rtHJFjxeqvVnrrlLZIAAqvAYLVSwCxMCnsMgatY8dAmCxVLLQCnXObJBEay1QyXAg5rXc4pTUjN2GS5ORAgQq7rktWZOCALag625LO7wrr0rhzWvvvfgyxYpAbuXrL0b+/SuwReSc1+XACEMkigAmOJjwwwvxgyMV5EJssUHnIDHSgRd3PBAx2jLj8cj9EBKAE6ON7HERBvChsseWccDqyxfHOBvNHpuLc8IOXrBzx0H8LPTQ8zZK9NFIc1uxrknbG40JAhDbNL7VBlHw1PbGQ8VgWN/7NLtXdS3vXVaLLa87W9vBtNniOiPCBe2y7W4jBhAo97yF3e2uknq7/ztr392iCXi4j646OLf7BCr44cmSMxsiYTMObSwUmACf5Mni419VmEO7TQ5cdp6sP59EEEO/ogc7T5tnDJp6sNW48CvHr+9abQ+1J8ts7ryCIAAuvAcv/IM3D++qKz8Z3yo99Vas/KcsRlDb86NWGy/1oqYTBdfYf9oLBxx02v2m+TDrxOLjX7pDAo1Env6lpbtg9PuWxlNV6/Rnquq++WdafP8ADOBpSiRAS7VJAM8qYKGYoSpU0E6BfUqcAIpwNQj66RtBK0Q/LOgnf2wiAi5wGAfv5I6qoMF1I7QTMUBwAamlME7lk9HfXhgn0LWPhn1iEQ7VdB83XGmHceIbEP/HlMAhqikF0jMimXBkNyV+KV6lcqKXILGAGMxPikw6B7jWhkUk1QkEM+sik+LRJs6JkUnFEAgBzyilGbKRSe57oxznSJKg0fFIkHCAC0R2xyBdLWB9BBIjkhdIIKWDCgYQTCF/FIsLcMCFi8wRGZuVskjmqBe+e4wldZQaAbhxkzWKgADiCMpSmvKUL8KHAAJgR1S2KBoySZQrT5QPHOFuliiKhg0SEEVcmqgPBtgB6nzpoWr4ihBcJGaEBGGAHOhQmR7ikSCSCU0FMVMAz6zmheIVKm1+6IreTJAuBdKhcCoIH8zqwTDNiSBmyA4ReWMngujhhgAM4VjyRBAxTOD/gGrlM0GpQcI3/okgXYCAApQgJUHngysBVHChAAIFRCeavk0QkqL5kY4iMSoffjQiASb4BUfnU40dGMAOKBypeuzBLBuIUKXqKca6CkFNmGonHuGRjk3ZwwEKXEKhO/3OJ4MqHv4R9TvYaOJRv3OlkfBxqd3pBdQIAVXvpOOAA62qdqYnUa1m51hh0ItXq6NKA7ggjWOtTjFckIBupvWtQgMNXKtjDQKRYa7QmQcaDGCDp+IVOf5gBQggEKO/NucbM9qaYZtDiASIABcPXGxwiCE7nUlWOFVBAj4ve5yucjY4yfCVAJz32dwcEJylhc0+/Dm91OYmtAZwA2ld+5pz/7RpCNmkLWwKCwqg6rY0xYhBbGf729NUpQi5Le5peqlc2MQCas01lACikNXomiYe/nGBLiJrXc704xIXoEAjytldzzAjXmFAX3k3U5UgvHS9m/mhADwL3/puyhmttC9nyNGmHSRDv5yhwwI6IIB3AFgzn/BdH1J6YMgk45YPbbBkgnA5CStGLyOxsGTy0QgKUIC5GkYMKqAbYgcHTbElTszWevDfFEMGWC4+TC9VGePEiLXGfpEdjg1TjKBFIbk7jos1ZhQEtAaZLt9okwsgeeS43AcEl4hnk+UiSgHId8pvoYcssSyXfECCAwkAJJfTwo9NiMAAZIjwmM2CCtmZcf/NaREtkOFslgrTmSy/aCJ376wVfwDjf3wmiz+IMZsgiC/QXmmFQHogRER7xQA9AJ6ju1K4SZNFF0q19FZiEa8iHFrTWEGFr5xQaVBL5ROyiwIz9mxqqKC21UchLqyfko7dOXTWUUkNBfqgXlwTxWiIKKKvjSK+FKRn2EzJxydEWydkH8UdiLgOFVrs7KIMVJRo2Gy1g+I+QVRy20IZxS2PDW6hpIMQ1xFAo8vNE2uEIQEOUIO22R2UwtIbKG6NhZTvjZNkYMEAEVDDOvmNE5nIRNgEr4kODYCFUie8JvPIBO58N9SHv8Qf0UBDBEYSN4vbhBI8EoEgKu5xlvSjF1z/oJQuNljymWyjD76TSctp4g5KBO0CbnjvzFfCD1xgIQEGoIIryLvzlYgwB5DoddFNgo0+6FgA2GD10knyDULIHA0On/pJyNGIeFGAC7ioqdY/MlACOQALsaDx2E3iD2sIAkoCKAXC1/4RfhTDDaqigBfGQneUeMFnInADMcTe94xYAxE69VU1fFt4jLgDFWG4TgSocLDGfwQfxehDEAIggBzYIRlEt3xG7EGMPiCBUgUiuegrEo9f9GFLArgAFiAx8NVXZB/VoEQYZN4sSmCD8bZ3SD6sIdEiOEAAkHYDfYNPkatxwQYZXpcAnKF25j8EH98oRibsQIVdCoQCQ1DDNCWcMXe6n+PGBonHOsixDRbZ4hONCNQOLsB55JvACW6AxKetP5EGCAAGAmAFAhAI/LcQAQEAIfkEBQUAAgAsMQBlAQEAAQAACAQAzwUEACH5BAUFAAIALDIAZQEBAAEAAAgEANMFBAAh+QQFBQACACwyAGUBAgABAAAIBQDPrQsIACH5BAUFAAIALDMAZQECAAEAAAgFAM+5CwgAIfkEBQUAAgAsNABlAQIAAQAACAUAz8ULCAAh+QQFBQACACw1AGUBAgABAAAIBQDPxQsIACH5BAUFAAIALDYAZQEBAAEAAAgEAM8FBAAh+QQFBQACACw3AGUBAQABAAAIBADPBQQAIfkEBQUAAgAsOABlAQEAAQAACAQAzwUEACH5BAUFAAIALDkAZQEBAAEAAAgEAM8FBAAh+QQFBQACACw6AGUBAQABAAAIBADPBQQAIfkEBQUAAgAsOwBlAQIAAQAACAUAz6ULCAAh+QQFBQACACw8AGUBBAABAAAIBgC/CawWEAAh+QQFBQACACw9AGUBAwABAAAIBgCxYbMWEAAh+QQFBQACACw+AGUBAgABAAAIBQCjOQsIACH5BAUFAAIALD8AZQECAAEAAAgFAJP9CggAIfkEBQUAAgAsQABlAQIAAQAACAUAe5UKCAAh+QQFBQACACxCAGUBAgACAAAIBwAhIRJAICAAIfkEBQUAAgAsQwBlAQMAAgAACAoABdlBI4DAi4AAACH5BAUFAAIALEQAZQEDAAIAAAgKAN1wiSKAgICAAAAh+QQFBQACACxGAGUBAgACAAAIBwCR2CBAICAAIfkEBQUAAgAsRwBlAQIAAgAACAcAUzgQQCAgACH5BAUFAAIALEgAZQEDAAIAAAgIABMIGEigTUAAIfkEBQUAAgAsSgBmAQIAAQAACAUACbwICAAh+QQFBQACACxLAGUBAwACAAAICgAFBBBBgACtgAAAIfkEBQUAAgAsTQBlAQIAAgAACAcALyAhACUgACH5BAUFAAIALE4AZQEDAAIAAAgKAIeEEUCAAK2AAAAh+QQFBQACACxQAGUBAgACAAAIBwALxSJgJCAAIfkEBQUAAgAsUQBlAQMAAgAACAoAV2HbR4CApoAAACH5BAUFAAIALFMAZQECAAIAAAgHAOfRI7AiIAAh+QQFBQACACxUAGUBAwACAAAICgDnzdtHgACegAAAIfkEBQUAAgAsVgBlAQMAAgAACAoA583zR4AAtIAAACH5BAUFAAIALFgAZQECAAIAAAgHAOfhI2AkIAAh+QQFBQACACxZAGUBAwACAAAICgDnzdtHgMChgAAAIfkEBQUAAgAsWwBlAQIAAgAACAcA580jQCAgACH5BAUFAAIALF0AZQECAAIAAAgHAOfhI2AkIAAh+QQFBQACACxeAGUBAwACAAAICgDnzdtHgMCfgAAAIfkEBQUAAgAsYABlAQMAAgAACAoA583zR4DAsIAAACH5BAUFAAIALGIAZQECAAIAAAgHAOfRI7AiIAAh+QQFBQACACxjAGUBBAACAAAIDADnzcMngACBMdICAgAh+QQFBQACACxlAGUBBAACAAAIDADnzeMngACBSdICAgAh+QQFBQACACxnAGUBAwACAAAICgDnzfNHgICxgAAAIfkEBQUAAgAsaQBlAQIAAgAACAcA59EjUCIgACH5BAUFAAIALGoAZQEDAAIAAAgKAOfNw0eAgJWAAAAh+QQFBQACACxsAGUBAwACAAAICgDnzdtHgMCfgAAAIfkEBQUAAgAsbgBlAQMAAgAACAoA583rR4DAqYAAACH5BAUFAAIALHAAZQECAAIAAAgHAOfNI0AgIAAh+QQFBQACACxyAGUBAgACAAAIBwDn0SMAIyAAIfkEBQUAAgAscwBlAQMAAgAACAoA50mxR4CAlYAAACH5BAUFAAIALHUAZQEDAAIAAAgKAOPR20eAAJ6AAAAh+QQFBQACACx3AGUBAwACAAAICgDnzeNHgICmgAAAIfkEBQUAAgAseQBlAQMAAgAACAoA583zR4CAsYAAACH5BAUFAAIALHsAZQECAAIAAAgHAOfRI6AhIAAh+QQFBQACACx8AGUBAwACAAAICgDnzbNHgICRgAAAIfkEBQUAAgAsfgBlAQMAAgAACAoA583LR4DAmIAAACH5BAUFAAIALIAAZQEDAAIAAAgKAOfN20eAQKCAAAAh+QQFBQACACyCAGUBAwACAAAICgDnzetHgMCpgAAAIfkEBQUAAgAshABlAQMAAgAACAoA583zR4CAtIAAACH5BAUFAAIALIYAZQECAAIAAAgHAOfRI1AiIAAh+QQFBQACACyHAGUBAwACAAAICgDnzcNHgACUgAAAIfkEBQUAAgAsiQBlAQMAAgAACAoA583bR4BAm4AAACH5BAUFAAIALIsAZQEDAAIAAAgKAOfN40eAwKSAAAAh+QQFBQACACyNAGUBAwACAAAICgDnzfNHgICxgAAAIfkEBQUAAgAsjwBlAQIAAgAACAcA59EjUCIgACH5BAUFAAIALJAAZQEDAAIAAAgKAOfNw0eAAJSAAAAh+QQFBQACACySAGUBAwACAAAICgDnzdtHgACegAAAIfkEBQUAAgAslABlAQMAAgAACAoA583rR4DAqYAAACH5BAUFAAIALJYAZQECAAIAAAgHAOfNI9AgIAAh+QQFBQACACyXAGUBAwACAAAICgAFzLNHgICRgAAAIfkEBQUAAgAsmQBlAQMAAgAACAoA583bR4CAnIAAACH5BAUFAAIALJsAZQEDAAIAAAgKAOfN60eAwKmAAAAh+QQFBQACACydAGUBAgACAAAIBwDn0SOgISAAIfkEBQUAAgAsngBlAQMAAgAACAoA583DR4CAlYAAACH5BAUFAAIALKAAZQEDAAIAAAgKAOfN40eAwKSAAAAh+QQFBQACACyiAGUBAgACAAAIBwDnzSPQICAAIfkEBQUAAgAsowBlAQMAAgAACAoABczDR4CAlYAAACH5BAUFAAIALKUAZQEDAAIAAAgKAOfN60eAgKaAAAAh+QQFBQACACynAGUBAgACAAAIBwDn0SNQIiAAIfkEBQUAAgAsqABlAQMAAgAACAoA583bR4AAnIAAACH5BAUFAAIALKoAZQEDAAIAAAgKAOfN80eAALSAAAAh+QQFBQACACysAGUBAgACAAAIBwDn4SNgJSAAIfkEBQUAAgAsrQBlAQMAAgAACAoA583zR4AArYAAACH5BAUFAAIALK8AZQECAAIAAAgHAOfhIwAlIAAh+QQFBQACACywAGUBAwACAAAICgDnzfNHgACtgAAAIfkEBQUAAgAssgBlAQIAAgAACAcA5+EjACUgACH5BAUFAAIALLMAZQEDAAIAAAgKAOfN80eAwLCAAAAh+QQFBQACACy1AGUBAgACAAAIBwDn5SMwJiAAIfkEBQUAAgAstgBlAQIAAgAACAcA59EjoCEgACH5BAUFAAIALLcAZQEDAAIAAAgKAOfN40eAwKSAAAAh+QQFBQACACy5AGUBAgACAAAIBwDn4SMAJSAAIfkEBQUAAgAsugBlAQIAAgAACAcA580j0CAgACH5BAUFAAIALLsAZQEDAAIAAAgKAAXM40eAgKaAAAAh+QQFBQACACy9AGUBAgACAAAIBwDn5SMwJiAAIfkEBQUAAgAsvgBlAQIAAgAACAcA59kj8CMgACH5BAUFAAIALL8AZQECAAIAAAgHAOfNI9AgIAAh+QQFBQACACzAAGUBAwACAAAICgAFzPNHgACtgAAAIfkEBQUAAgAswgBlAQIAAgAACAcA5/EjMCkgACH5BAUFAAIALMMAZQECAAIAAAgHAOftIxAoIAAh+QQFBQACACzEAGUBAgACAAAIBwDn7SMgJyAAIfkEBQUAAgAsxQBlAQIAAgAACAcA5+Uj0CYgACH5BAUFAAIALMYAZQECAAIAAAgHAOflI9AmIAAh+QQFBQACACzHAGUBAgACAAAIBwDn7SMgJyAAIfkEBQUAAgAsyABlAQIAAgAACAcA5+0jECggACH5BAUFAAIALMkAZQECAAIAAAgHAOfxIzApIAAh+QQFBQACACzKAGUBAgACAAAIBwDn+SNAKyAAIfkEBQUAAgAsywBlAQEAAgAACAUA5zUICAAh+QQFBQACACzLAGUBAgACAAAIBwAF2CNgJCAAIfkEBQUAAgAszABlAQIAAgAACAcA5+0jICcgACH5BAUFAAIALM0AZQECAAIAAAgHAOf5I0ArIAAh+QQFBQACACzOAGUBAQACAAAIBQDp6QgIACH5BAUFAAIALM4AZQECAAIAAAgHAOftI/AnIAAh+QQFBQACACzPAGUBAQACAAAIBQDnNQgIACH5BAUFAAIALM8AZQECAAIAAAgHAAXsI9AmIAAh+QQFBQACACzQAGUBAQACAAAIBQDnNQgIACH5BAUFAAIALNAAZQECAAIAAAgHAAXsI3AoIAAh+QQFBQACACzRAGUBAQACAAAIBQDt/QgIACH5BAUFAAIALNEAZQECAAIAAAgHAOf5I2AsIAAh+QQFBQACACzSAGUBAQACAAAIBQD3HQoIACH5BAUFAAIALNIAZQECAAIAAAgHAPEJsEIkIAAh+QQFBQACACzSAGUBAgACAAAIBwDtCdAhJCAAIfkEBQUAAgAs0gBlAQEAAgAACAUA6WkICAAh+QQFBQACACzSAGUBAQACAAAIBQDnNQgIACH5BAUFAAIALNIAZgEBAAEAAAgEAAkEBAA7\" />"
      ],
      "text/plain": [
       "Plots.AnimatedGif(\"C:\\\\Users\\\\Daniel N\\\\.julia\\\\dev\\\\TrajectoryOptimization.jl\\\\examples\\\\tmp.gif\")"
      ]
     },
     "execution_count": 17,
     "metadata": {},
     "output_type": "execute_result"
    }
   ],
   "source": [
    "xmin = minimum(xs)\n",
    "xmax = maximum(xs)\n",
    "\n",
    "zmin = minimum(zs)\n",
    "zmax = maximum(zs)\n",
    "\n",
    "@gif for i in 1:N\n",
    "    plt = plot(xs[1:i], zs[1:i], label = \"Trajectory\", legend = :topleft)\n",
    "    xlabel!(\"x\")\n",
    "    ylabel!(\"z (height)\")\n",
    "    xlims!(xmin,xmax)\n",
    "    ylims!(zmin,zmax)\n",
    "    title!(titleText)\n",
    "end"
   ]
  },
  {
   "cell_type": "markdown",
   "metadata": {},
   "source": [
    "## Lastly, let's visualize the results in 3D with Meshcat\n",
    "\n",
    "To do this, we need to provide a Mesh to <code>MeshCat</code>. This is due with <code>FileIO</code> and <code>MeshIO</code>."
   ]
  },
  {
   "cell_type": "code",
   "execution_count": 18,
   "metadata": {},
   "outputs": [
    {
     "name": "stderr",
     "output_type": "stream",
     "text": [
      "┌ Info: MeshCat server started. You can open the visualizer by visiting the following URL in your browser:\n",
      "│ http://localhost:8700\n",
      "└ @ MeshCat C:\\Users\\Daniel N\\.julia\\packages\\MeshCat\\X2AUA\\src\\visualizer.jl:73\n"
     ]
    },
    {
     "data": {
      "text/html": [
       "    <div style=\"height: 500px; width: 100%; overflow-x: auto; overflow-y: hidden; resize: both\">\n",
       "    <iframe src=\"http://localhost:8700\" style=\"width: 100%; height: 100%; border: none\"></iframe>\n",
       "    </div>\n"
      ],
      "text/plain": [
       "MeshCat.DisplayedVisualizer(MeshCat.CoreVisualizer(MeshCat.SceneTrees.SceneNode(nothing, nothing, Dict{String,Array{UInt8,1}}(), nothing, Dict{String,MeshCat.SceneTrees.SceneNode}()), Set(Any[]), ip\"127.0.0.1\", 8700))"
      ]
     },
     "execution_count": 18,
     "metadata": {},
     "output_type": "execute_result"
    }
   ],
   "source": [
    "vis = Visualizer() # Creates a MeshCat Window\n",
    "render(vis) # Renders the window below"
   ]
  },
  {
   "cell_type": "code",
   "execution_count": 19,
   "metadata": {},
   "outputs": [
    {
     "data": {
      "text/plain": [
       "MeshCat Visualizer with path /meshcat/robot/geom at http://localhost:8700"
      ]
     },
     "execution_count": 19,
     "metadata": {},
     "output_type": "execute_result"
    }
   ],
   "source": [
    "function TrajOptPlots._set_mesh!(vis, model::Rocket)\n",
    "    obj = joinpath(@__DIR__, \"SimpleRocket.obj\")\n",
    "    quad_scaling = 0.085\n",
    "    robot_obj = FileIO.load(obj)\n",
    "    robot_obj.vertices .*= quad_scaling\n",
    "    mat = MeshPhongMaterial(color=colorant\"lightgrey\")\n",
    "    setobject!(vis[\"geom\"], robot_obj, mat)\n",
    "end\n",
    "\n",
    "TrajOptPlots.set_mesh!(vis, model)"
   ]
  },
  {
   "cell_type": "code",
   "execution_count": 20,
   "metadata": {},
   "outputs": [],
   "source": [
    "Base.position(::Rocket, x::StaticVector) = SA[x[1], x[2], x[3]]\n",
    "RobotDynamics.orientation(::Rocket, x::StaticVector) = UnitQuaternion(0,0,0,1)\n",
    "\n",
    "visualize!(vis, altro);"
   ]
  },
  {
   "cell_type": "markdown",
   "metadata": {},
   "source": [
    "## Integrate the Dynamics to Verify the Dynamics Constraint\n",
    "\n",
    "In Matlab, we would use ODE 45, but in the <code>DifferentialEquations.jl</code> package we can either (1) just let the <code>solve</code> method figure it out or (2) specify a solver such as <code>Tsit5</code>.\n",
    "\n",
    "The controls change over time and are discretized. Below, a zero-order hold and a first-order hold are implemented for comparison. **We used a zero-order hold in the optimization so a zero-order hold should be used here.**"
   ]
  },
  {
   "cell_type": "code",
   "execution_count": 21,
   "metadata": {},
   "outputs": [
    {
     "name": "stdout",
     "output_type": "stream",
     "text": [
      "  132.642 ms (2177614 allocations: 82.67 MiB)\n"
     ]
    }
   ],
   "source": [
    "get_controls_zero_order_hold(t) = U[min(Int(floor(t/dt)) + 1, size(U,1))]\n",
    "f(y,p,t) = dynamics(model, y, get_controls_zero_order_hold(t))\n",
    "\n",
    "states_y0 = x0\n",
    "tspan = (0.0, tf)\n",
    "controls_p0 = get_controls_zero_order_hold(tspan[1])\n",
    "\n",
    "ode_prob_zoh = ODEProblem(f, states_y0, tspan, controls_p0)\n",
    "@btime solve(ode_prob_zoh, Tsit5(), reltol=1e-10, abstol=1e-10,saveat=dt)\n",
    "ode_sol_zoh = solve(ode_prob_zoh, Tsit5(), reltol=1e-10, abstol=1e-10,saveat=dt);"
   ]
  },
  {
   "cell_type": "code",
   "execution_count": 22,
   "metadata": {},
   "outputs": [
    {
     "name": "stdout",
     "output_type": "stream",
     "text": [
      "  13.517 ms (249767 allocations: 8.64 MiB)\n"
     ]
    }
   ],
   "source": [
    "function get_controls_first_order_hold(t)\n",
    "    # dt and U are both global variables\n",
    "    tn = t/dt\n",
    "    \n",
    "    t_below = Int(max(1, floor(tn)))\n",
    "    t_above = Int(min(size(U, 1), ceil(tn)))\n",
    "    \n",
    "    if t_below >= t_above\n",
    "        return U[t_below]\n",
    "    end\n",
    "    \n",
    "    slope = (U[t_above] - U[t_below])\n",
    "    return slope * (tn - t_below) + U[t_below]\n",
    "\n",
    "end\n",
    "\n",
    "\n",
    "f(y,p,t) = dynamics(model, y, get_controls_first_order_hold(t))\n",
    "\n",
    "states_y0 = x0\n",
    "tspan = (0.0, tf)\n",
    "controls_p0 = get_controls_first_order_hold(tspan[1])\n",
    "\n",
    "ode_prob_foh = ODEProblem(f, states_y0, tspan, controls_p0)\n",
    "@btime solve(ode_prob_foh, Tsit5(), reltol=1e-10, abstol=1e-10,saveat=dt)\n",
    "ode_sol_foh = solve(ode_prob_foh, Tsit5(), reltol=1e-10, abstol=1e-10,saveat=dt);"
   ]
  },
  {
   "cell_type": "code",
   "execution_count": 23,
   "metadata": {},
   "outputs": [
    {
     "data": {
      "image/png": "[encoded data removed]"
     },
     "execution_count": 23,
     "metadata": {},
     "output_type": "execute_result"
    }
   ],
   "source": [
    "err_zoh = norm.(ode_sol_zoh.u - X[1:(Int(tspan[2]/dt)+1)])\n",
    "err_foh = norm.(ode_sol_foh.u - X[1:(Int(tspan[2]/dt)+1)])\n",
    "\n",
    "plot(ode_sol_zoh.t, err_zoh, yaxis = :log, label = \"Zero-Order Hold\")\n",
    "plot!(ode_sol_foh.t, err_foh, yaxis = :log, label = \"First-Order Hold\")\n",
    "xlabel!(\"Time (s)\")\n",
    "ylabel!(\"Dynamics Error\")\n",
    "title!(\"Comparison in State Vector expected from ALTRO Solver \\n to Integrated Dynamics Model\")"
   ]
  },
  {
   "cell_type": "code",
   "execution_count": null,
   "metadata": {},
   "outputs": [],
   "source": []
  }
 ],
 "metadata": {
  "kernelspec": {
   "display_name": "Julia 1.4.2",
   "language": "julia",
   "name": "julia-1.4"
  },
  "language_info": {
   "file_extension": ".jl",
   "mimetype": "application/julia",
   "name": "julia",
   "version": "1.4.2"
  }
 },
 "nbformat": 4,
 "nbformat_minor": 4
}
