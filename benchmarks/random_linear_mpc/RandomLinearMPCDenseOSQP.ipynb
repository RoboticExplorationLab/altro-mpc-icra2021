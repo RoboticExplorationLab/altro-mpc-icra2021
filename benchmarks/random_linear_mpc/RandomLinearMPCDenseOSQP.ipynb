{
 "cells": [
  {
   "cell_type": "code",
   "execution_count": 1,
   "metadata": {
    "scrolled": true
   },
   "outputs": [
    {
     "name": "stderr",
     "output_type": "stream",
     "text": [
      "\u001b[32m\u001b[1m Activating\u001b[22m\u001b[39m environment at `~/Research/altro-mpc-icra2021/benchmarks/random_linear_mpc/Project.toml`\n"
     ]
    }
   ],
   "source": [
    "using Pkg\n",
    "Pkg.activate(\".\")\n",
    "Pkg.instantiate()"
   ]
  },
  {
   "cell_type": "markdown",
   "metadata": {},
   "source": [
    "# Generate Random Problem\n",
    "TODO: include mathematical definition of MPC problem here."
   ]
  },
  {
   "cell_type": "code",
   "execution_count": 2,
   "metadata": {},
   "outputs": [],
   "source": [
    "include(\"random_linear.jl\")\n",
    "\n",
    "# using ControlSystems\n",
    "\n",
    "n = 10\n",
    "m = Int(n/2)\n",
    "N = 20\n",
    "A,B = gendiscrete(n,m)\n",
    "\n",
    "q = 10*rand(n)\n",
    "r = 0.1*ones(m)\n",
    "Q = Diagonal(q)\n",
    "R = Diagonal(r)\n",
    "\n",
    "Qf = Q #dare(A, B, Q, R)\n",
    "\n",
    "x̄ = rand(n) .+ 1\n",
    "ū = 0.1*rand(m)\n",
    "x0 = (rand(n) .- 1) .* x̄ * 0.5\n",
    "x0_warm = (rand(n) .- 1) .* x̄ * 0.5\n",
    "xf = zeros(n)\n",
    "\n",
    "tol = 1e-4\n",
    "\n",
    "nothing"
   ]
  },
  {
   "cell_type": "markdown",
   "metadata": {},
   "source": [
    "# Solve Using Altro\n",
    "First, we setup the random linear MPC problem and use benchmark_solve! to characterize the solve. "
   ]
  },
  {
   "cell_type": "code",
   "execution_count": 3,
   "metadata": {},
   "outputs": [
    {
     "name": "stdout",
     "output_type": "stream",
     "text": [
      "max_violation(solver) = 1.2067504220935124e-7\n",
      "cost(solver) = 1.0518199466952804\n"
     ]
    },
    {
     "data": {
      "text/plain": [
       "BenchmarkTools.Trial: \n",
       "  memory estimate:  0 bytes\n",
       "  allocs estimate:  0\n",
       "  --------------\n",
       "  minimum time:     2.120 ms (0.00% GC)\n",
       "  median time:      2.303 ms (0.00% GC)\n",
       "  mean time:        2.320 ms (0.00% GC)\n",
       "  maximum time:     2.693 ms (0.00% GC)\n",
       "  --------------\n",
       "  samples:          10\n",
       "  evals/sample:     10"
      ]
     },
     "execution_count": 3,
     "metadata": {},
     "output_type": "execute_result"
    }
   ],
   "source": [
    "using Altro\n",
    "using TrajectoryOptimization\n",
    "using RobotDynamics\n",
    "\n",
    "const RD = RobotDynamics\n",
    "\n",
    "dt = 0.1 # doesn't matter, just needs to be non-zero\n",
    "model = RD.LinearModel(A, B; dt=dt)\n",
    "objective = LQRObjective(Q, R, Qf, xf, N)\n",
    "\n",
    "constraints = ConstraintList(n, m, N)\n",
    "bound = BoundConstraint(n, m, x_min=-x̄, x_max=x̄, u_min=-ū, u_max=ū)\n",
    "add_constraint!(constraints, bound, 1:N)\n",
    "\n",
    "tf = (N-1)*dt\n",
    "\n",
    "problem = Problem(model, objective, xf, tf, x0=x0, constraints=constraints, integration=RD.PassThrough)\n",
    "solver = ALTROSolver(problem)\n",
    "set_options!(solver, projected_newton=false)\n",
    "solve!(solver)\n",
    "\n",
    "X_altro = states(solver)\n",
    "U_altro = controls(solver)\n",
    "\n",
    "b = benchmark_solve!(solver)\n",
    "\n",
    "@show max_violation(solver)\n",
    "@show cost(solver)\n",
    "b"
   ]
  },
  {
   "cell_type": "markdown",
   "metadata": {},
   "source": [
    "Now we use the previous solution to warmstart the problem with a new initial state and benchmark the performance."
   ]
  },
  {
   "cell_type": "code",
   "execution_count": 4,
   "metadata": {},
   "outputs": [
    {
     "data": {
      "text/plain": [
       "BenchmarkTools.Trial: \n",
       "  memory estimate:  0 bytes\n",
       "  allocs estimate:  0\n",
       "  --------------\n",
       "  minimum time:     246.985 μs (0.00% GC)\n",
       "  median time:      277.262 μs (0.00% GC)\n",
       "  mean time:        301.004 μs (0.00% GC)\n",
       "  maximum time:     434.947 μs (0.00% GC)\n",
       "  --------------\n",
       "  samples:          10\n",
       "  evals/sample:     10"
      ]
     },
     "execution_count": 4,
     "metadata": {},
     "output_type": "execute_result"
    }
   ],
   "source": [
    "initial_controls!(solver, U_altro)\n",
    "initial_states!(solver, X_altro)\n",
    "set_options!(solver, reset_duals=false, penalty_initial=1.0)\n",
    "\n",
    "# update x0 to see warmstarted solution:\n",
    "solver.solver_al.solver_uncon.x0 .= x0_warm\n",
    "\n",
    "b = benchmark_solve!(solver)\n",
    "\n",
    "@assert states(solver)[1] ≈ x0_warm\n",
    "\n",
    "b"
   ]
  },
  {
   "cell_type": "markdown",
   "metadata": {},
   "source": [
    "# Solve Using OSQP"
   ]
  },
  {
   "cell_type": "code",
   "execution_count": 11,
   "metadata": {},
   "outputs": [
    {
     "name": "stdout",
     "output_type": "stream",
     "text": [
      "objective_value(jump_model) = -9.275405223407585\n"
     ]
    },
    {
     "data": {
      "text/plain": [
       "BenchmarkTools.Trial: \n",
       "  memory estimate:  32 bytes\n",
       "  allocs estimate:  2\n",
       "  --------------\n",
       "  minimum time:     1.521 ms (0.00% GC)\n",
       "  median time:      1.553 ms (0.00% GC)\n",
       "  mean time:        1.661 ms (0.00% GC)\n",
       "  maximum time:     2.031 ms (0.00% GC)\n",
       "  --------------\n",
       "  samples:          10\n",
       "  evals/sample:     10"
      ]
     },
     "execution_count": 11,
     "metadata": {},
     "output_type": "execute_result"
    }
   ],
   "source": [
    "using LinearAlgebra\n",
    "using JuMP\n",
    "using OSQP\n",
    "using BenchmarkTools\n",
    "\n",
    "select(i, n) = (n*(i-1)+1):(n*(i-1)+n)\n",
    "\n",
    "jump_model = Model(\n",
    "    optimizer_with_attributes(\n",
    "        OSQP.Optimizer, \"eps_abs\" => tol, \"eps_rel\" => tol, \"eps_prim_inf\" => tol, \"eps_dual_inf\" => tol \n",
    "    )\n",
    ")\n",
    "set_silent(jump_model)\n",
    "\n",
    "Ī = zeros(n*(N-1), n)\n",
    "Ā = zeros(n*(N-1), n)\n",
    "B̄ = zeros(n*(N-1), m*(N-1))\n",
    "for i=1:(N-1)\n",
    "    Ā[select(i,n), :] = A^i\n",
    "    Ī[select(i,n), :] = I(n)\n",
    "    for j=1:i\n",
    "        B̄[select(i, n), select(j, m)] = A^(i-1)*B\n",
    "    end\n",
    "end\n",
    "\n",
    "Q̄ = Diagonal(repeat(q, N-1))\n",
    "R̄ = Diagonal(repeat(r, N-1))\n",
    "\n",
    "@variable(jump_model, u[1:((N-1)*m)])\n",
    "\n",
    "objective_exp = @expression(jump_model, 2*transpose(Ā*x0)*Q̄*B̄*u + transpose(B̄*u)*Q̄*B̄*u + transpose(u)*R̄*u)\n",
    "\n",
    "@constraint(jump_model, Ā*x0 + B̄*u .<= Ī*x̄)\n",
    "@constraint(jump_model, Ā*x0 + B̄*u .>= -Ī*x̄)\n",
    "\n",
    "for i=1:N-1\n",
    "    # control/state bound constraints\n",
    "    @constraint(jump_model, u[select(i, m)] .<= ū)\n",
    "    @constraint(jump_model, u[select(i, m)] .>= -ū)\n",
    "end\n",
    "\n",
    "@objective(jump_model, Min, objective_exp)\n",
    "\n",
    "optimize!(jump_model)\n",
    "\n",
    "X̄ = Ā*x0 + B̄*value.(u)\n",
    "X_osqp = [i==1 ? x0 : X̄[select(i-1,n)] for i=1:N]\n",
    "U_osqp = [value.(u)[select(i, m)] for i=1:N-1]\n",
    "\n",
    "@show objective_value(jump_model)\n",
    "\n",
    "@benchmark optimize!($jump_model) samples=10 evals=10"
   ]
  },
  {
   "cell_type": "code",
   "execution_count": 12,
   "metadata": {},
   "outputs": [
    {
     "name": "stdout",
     "output_type": "stream",
     "text": [
      "objective_value_(X_altro, U_altro) = 10.517836387242044\n",
      "objective_value_(X_osqp, U_osqp) = 11.227390983811679\n"
     ]
    },
    {
     "data": {
      "text/plain": [
       "11.227390983811679"
      ]
     },
     "execution_count": 12,
     "metadata": {},
     "output_type": "execute_result"
    }
   ],
   "source": [
    "objective_value_(X, U) = sum([0.5*X[i]'*Q*X[i] for i=1:N]) + sum([0.5*U[i]'*R*U[i] for i=1:N-1])\n",
    "\n",
    "@show objective_value_(X_altro, U_altro)\n",
    "@show objective_value_(X_osqp, U_osqp)"
   ]
  },
  {
   "cell_type": "code",
   "execution_count": null,
   "metadata": {},
   "outputs": [],
   "source": []
  }
 ],
 "metadata": {
  "kernelspec": {
   "display_name": "Julia 1.4.1",
   "language": "julia",
   "name": "julia-1.4"
  },
  "language_info": {
   "file_extension": ".jl",
   "mimetype": "application/julia",
   "name": "julia",
   "version": "1.4.1"
  }
 },
 "nbformat": 4,
 "nbformat_minor": 4
}
