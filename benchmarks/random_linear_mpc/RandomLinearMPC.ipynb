{
 "cells": [
  {
   "cell_type": "code",
   "execution_count": 2,
   "metadata": {
    "scrolled": true
   },
   "outputs": [
    {
     "output_type": "stream",
     "name": "stderr",
     "text": [
      "\u001b[32m\u001b[1m Activating\u001b[22m\u001b[39m environment at `~/Research/altro-mpc-icra2021/benchmarks/random_linear_mpc/Project.toml`\n"
     ]
    }
   ],
   "source": [
    "using Pkg\n",
    "Pkg.activate(\".\")\n",
    "Pkg.instantiate()"
   ]
  },
  {
   "cell_type": "markdown",
   "metadata": {},
   "source": [
    "# Generate Random Problem\n",
    "TODO: include mathematical definition of MPC problem here."
   ]
  },
  {
   "cell_type": "code",
   "execution_count": 3,
   "metadata": {},
   "outputs": [
    {
     "output_type": "execute_result",
     "data": {
      "text/plain": [
       "1.0e-6"
      ]
     },
     "metadata": {},
     "execution_count": 3
    }
   ],
   "source": [
    "include(\"random_linear.jl\")\n",
    "\n",
    "# using ControlSystems\n",
    "\n",
    "n = 10\n",
    "m = Int(round(n/2))\n",
    "N = 10\n",
    "A,B = gendiscrete(n,m)\n",
    "\n",
    "Q = Diagonal(10*rand(n))\n",
    "R = Diagonal(0.1*ones(m))\n",
    "\n",
    "Qf = Q #dare(A, B, Q, R)\n",
    "\n",
    "x̄ = rand(n) .+ 1\n",
    "ū = 0.1*rand(m)\n",
    "x0 = (rand(n) .- 1) .* x̄ * 0.5\n",
    "x0_warm = (rand(n) .- 1) .* x̄ * 0.5\n",
    "xf = zeros(n)\n",
    "\n",
    "tol = 1e-6"
   ]
  },
  {
   "cell_type": "markdown",
   "metadata": {},
   "source": [
    "# Solve Using Altro\n",
    "First, we setup the random linear MPC problem and use benchmark_solve! to characterize the solve. "
   ]
  },
  {
   "cell_type": "code",
   "execution_count": 4,
   "metadata": {},
   "outputs": [
    {
     "output_type": "stream",
     "name": "stdout",
     "text": [
      "max_violation(solver) = 6.982537360811225e-10\ncost(solver) = 0.6326972269589138\n"
     ]
    },
    {
     "output_type": "execute_result",
     "data": {
      "text/plain": [
       "BenchmarkTools.Trial: \n",
       "  memory estimate:  2.13 MiB\n",
       "  allocs estimate:  7480\n",
       "  --------------\n",
       "  minimum time:     1.556 ms (0.00% GC)\n",
       "  median time:      1.965 ms (0.00% GC)\n",
       "  mean time:        1.955 ms (11.76% GC)\n",
       "  maximum time:     2.483 ms (30.00% GC)\n",
       "  --------------\n",
       "  samples:          10\n",
       "  evals/sample:     10"
      ]
     },
     "metadata": {},
     "execution_count": 4
    }
   ],
   "source": [
    "using Altro\n",
    "using TrajectoryOptimization\n",
    "using RobotDynamics\n",
    "\n",
    "const RD = RobotDynamics\n",
    "\n",
    "dt = 0.1 # doesn't matter, just needs to be non-zero\n",
    "model = RD.LinearModel(A, B; dt=dt)\n",
    "objective = LQRObjective(Q, R, Qf, xf, N)\n",
    "\n",
    "constraints = ConstraintList(n, m, N)\n",
    "bound = BoundConstraint(n, m, x_min=-x̄, x_max=x̄, u_min=-ū, u_max=ū)\n",
    "add_constraint!(constraints, bound, 1:N)\n",
    "\n",
    "tf = (N-1)*dt\n",
    "\n",
    "problem = Problem(model, objective, xf, tf, x0=x0, constraints=constraints, integration=RD.PassThrough)\n",
    "solver = ALTROSolver(problem)\n",
    "set_options!(solver, projected_newton=false, constraint_tolerance = tol, static_bp=(n<=14))\n",
    "solve!(solver)\n",
    "\n",
    "X_altro = states(solver)\n",
    "U_altro = controls(solver)\n",
    "\n",
    "b = benchmark_solve!(solver)\n",
    "\n",
    "@show max_violation(solver)\n",
    "@show cost(solver)\n",
    "b"
   ]
  },
  {
   "cell_type": "markdown",
   "metadata": {},
   "source": [
    "Now we use the previous solution to warmstart the problem with a new initial state and benchmark the performance."
   ]
  },
  {
   "cell_type": "code",
   "execution_count": 5,
   "metadata": {},
   "outputs": [
    {
     "output_type": "execute_result",
     "data": {
      "text/plain": [
       "BenchmarkTools.Trial: \n",
       "  memory estimate:  304.69 KiB\n",
       "  allocs estimate:  500\n",
       "  --------------\n",
       "  minimum time:     211.960 μs (0.00% GC)\n",
       "  median time:      239.448 μs (0.00% GC)\n",
       "  mean time:        250.126 μs (0.00% GC)\n",
       "  maximum time:     332.290 μs (0.00% GC)\n",
       "  --------------\n",
       "  samples:          10\n",
       "  evals/sample:     10"
      ]
     },
     "metadata": {},
     "execution_count": 5
    }
   ],
   "source": [
    "initial_controls!(solver, U_altro)\n",
    "initial_states!(solver, X_altro)\n",
    "set_options!(solver, reset_duals=false, penalty_scaling=10., penalty_initial=1.0)\n",
    "\n",
    "# update x0 to see warmstarted solution:\n",
    "solver.solver_al.solver_uncon.x0 .= x0_warm\n",
    "\n",
    "b_altro = benchmark_solve!(solver)\n",
    "\n",
    "@assert states(solver)[1] ≈ x0_warm\n",
    "\n",
    "b_altro"
   ]
  },
  {
   "cell_type": "markdown",
   "metadata": {},
   "source": [
    "# Solve Using OSQP"
   ]
  },
  {
   "cell_type": "code",
   "execution_count": 6,
   "metadata": {},
   "outputs": [
    {
     "output_type": "stream",
     "name": "stdout",
     "text": [
      "objective_value(jump_model) = 6.326617031796464\n"
     ]
    },
    {
     "output_type": "execute_result",
     "data": {
      "text/plain": [
       "BenchmarkTools.Trial: \n",
       "  memory estimate:  3.53 KiB\n",
       "  allocs estimate:  163\n",
       "  --------------\n",
       "  minimum time:     328.205 μs (0.00% GC)\n",
       "  median time:      362.428 μs (0.00% GC)\n",
       "  mean time:        366.047 μs (0.00% GC)\n",
       "  maximum time:     428.449 μs (0.00% GC)\n",
       "  --------------\n",
       "  samples:          10\n",
       "  evals/sample:     10"
      ]
     },
     "metadata": {},
     "execution_count": 6
    }
   ],
   "source": [
    "using ParameterJuMP, JuMP\n",
    "using OSQP\n",
    "using BenchmarkTools\n",
    "\n",
    "select(i, n) = (n*(i-1)+1):(n*(i-1)+n)\n",
    "\n",
    "jump_model = ModelWithParams(\n",
    "    optimizer_with_attributes(\n",
    "        OSQP.Optimizer, \"eps_abs\" => tol, \"eps_rel\" => tol, \"eps_prim_inf\" => tol, \"eps_dual_inf\" => tol \n",
    "    )\n",
    ")\n",
    "set_silent(jump_model)\n",
    "\n",
    "x0_param = [add_parameter(jump_model, x0[i]) for i in 1:n]\n",
    "\n",
    "@variable(jump_model, x[1:((N)*n)])\n",
    "@variable(jump_model, u[1:((N-1)*m)])\n",
    "\n",
    "objective_exp = @expression(jump_model, 0.5*transpose(x[select(N, n)]) * Qf * x[select(N, n)])\n",
    "\n",
    "@constraint(jump_model, initial_value_constraint, x[select(1, n)] .== x0_param)\n",
    "\n",
    "for i=1:N-1\n",
    "    # dynamics constraints\n",
    "    @constraint(jump_model, A*x[select(i, n)] + B*u[select(i, m)] .== x[select(i+1, n)])\n",
    "\n",
    "    # stagewise state cost\n",
    "    add_to_expression!(objective_exp, 0.5*transpose(x[select(i, n)]) * Q * x[select(i, n)])\n",
    "\n",
    "    # stagewise control cost\n",
    "    add_to_expression!(objective_exp, 0.5*transpose(u[select(i, m)]) * R * u[select(i, m)])\n",
    "\n",
    "    # control/state bound constraints\n",
    "    @constraint(jump_model, x[select(i, n)] .<= x̄)\n",
    "    @constraint(jump_model, x[select(i, n)] .>= -x̄)\n",
    "    @constraint(jump_model, u[select(i, m)] .<= ū)\n",
    "    @constraint(jump_model, u[select(i, m)] .>= -ū)\n",
    "end\n",
    "\n",
    "@objective(jump_model, Min, objective_exp)\n",
    "\n",
    "optimize!(jump_model)\n",
    "\n",
    "X_osqp = [value.(x)[select(i, n)] for i=1:N]\n",
    "U_osqp = [value.(u)[select(i, m)] for i=1:N-1]\n",
    "\n",
    "@show objective_value(jump_model)\n",
    "\n",
    "@benchmark optimize!($jump_model) samples=10 evals=10"
   ]
  },
  {
   "cell_type": "code",
   "execution_count": 7,
   "metadata": {},
   "outputs": [
    {
     "output_type": "execute_result",
     "data": {
      "text/plain": [
       "BenchmarkTools.Trial: \n",
       "  memory estimate:  3.53 KiB\n",
       "  allocs estimate:  163\n",
       "  --------------\n",
       "  minimum time:     316.455 μs (0.00% GC)\n",
       "  median time:      360.304 μs (0.00% GC)\n",
       "  mean time:        365.081 μs (0.00% GC)\n",
       "  maximum time:     432.999 μs (0.00% GC)\n",
       "  --------------\n",
       "  samples:          10\n",
       "  evals/sample:     10"
      ]
     },
     "metadata": {},
     "execution_count": 7
    }
   ],
   "source": [
    "# update x0 to see warmstart\n",
    "fix.(x0_param, x0_warm)\n",
    "\n",
    "set_start_value.(x, value.(x))\n",
    "set_start_value.(u, value.(u))\n",
    "\n",
    "b_osqp = @benchmark optimize!($jump_model) samples=10 evals=10"
   ]
  },
  {
   "cell_type": "code",
   "execution_count": 8,
   "metadata": {},
   "outputs": [
    {
     "output_type": "execute_result",
     "data": {
      "image/svg+xml": "<?xml version=\"1.0\" encoding=\"utf-8\"?>\n<svg xmlns=\"http://www.w3.org/2000/svg\" xmlns:xlink=\"http://www.w3.org/1999/xlink\" width=\"600\" height=\"400\" viewBox=\"0 0 2400 1600\">\n<defs>\n  <clipPath id=\"clip150\">\n    <rect x=\"0\" y=\"0\" width=\"2400\" height=\"1600\"/>\n  </clipPath>\n</defs>\n<path clip-path=\"url(#clip150)\" d=\"\nM0 1600 L2400 1600 L2400 0 L0 0  Z\n  \" fill=\"#ffffff\" fill-rule=\"evenodd\" fill-opacity=\"1\"/>\n<defs>\n  <clipPath id=\"clip151\">\n    <rect x=\"480\" y=\"0\" width=\"1681\" height=\"1600\"/>\n  </clipPath>\n</defs>\n<path clip-path=\"url(#clip150)\" d=\"\nM208.149 1486.45 L2352.76 1486.45 L2352.76 47.2441 L208.149 47.2441  Z\n  \" fill=\"#ffffff\" fill-rule=\"evenodd\" fill-opacity=\"1\"/>\n<defs>\n  <clipPath id=\"clip152\">\n    <rect x=\"208\" y=\"47\" width=\"2146\" height=\"1440\"/>\n  </clipPath>\n</defs>\n<polyline clip-path=\"url(#clip152)\" style=\"stroke:#000000; stroke-width:2; stroke-opacity:0.1; fill:none\" points=\"\n  629.762,1486.45 629.762,47.2441 \n  \"/>\n<polyline clip-path=\"url(#clip152)\" style=\"stroke:#000000; stroke-width:2; stroke-opacity:0.1; fill:none\" points=\"\n  1063.56,1486.45 1063.56,47.2441 \n  \"/>\n<polyline clip-path=\"url(#clip152)\" style=\"stroke:#000000; stroke-width:2; stroke-opacity:0.1; fill:none\" points=\"\n  1497.35,1486.45 1497.35,47.2441 \n  \"/>\n<polyline clip-path=\"url(#clip152)\" style=\"stroke:#000000; stroke-width:2; stroke-opacity:0.1; fill:none\" points=\"\n  1931.14,1486.45 1931.14,47.2441 \n  \"/>\n<polyline clip-path=\"url(#clip152)\" style=\"stroke:#000000; stroke-width:2; stroke-opacity:0.1; fill:none\" points=\"\n  208.149,1434.59 2352.76,1434.59 \n  \"/>\n<polyline clip-path=\"url(#clip152)\" style=\"stroke:#000000; stroke-width:2; stroke-opacity:0.1; fill:none\" points=\"\n  208.149,1101.6 2352.76,1101.6 \n  \"/>\n<polyline clip-path=\"url(#clip152)\" style=\"stroke:#000000; stroke-width:2; stroke-opacity:0.1; fill:none\" points=\"\n  208.149,768.622 2352.76,768.622 \n  \"/>\n<polyline clip-path=\"url(#clip152)\" style=\"stroke:#000000; stroke-width:2; stroke-opacity:0.1; fill:none\" points=\"\n  208.149,435.639 2352.76,435.639 \n  \"/>\n<polyline clip-path=\"url(#clip152)\" style=\"stroke:#000000; stroke-width:2; stroke-opacity:0.1; fill:none\" points=\"\n  208.149,102.657 2352.76,102.657 \n  \"/>\n<polyline clip-path=\"url(#clip150)\" style=\"stroke:#000000; stroke-width:4; stroke-opacity:1; fill:none\" points=\"\n  208.149,1486.45 2352.76,1486.45 \n  \"/>\n<polyline clip-path=\"url(#clip150)\" style=\"stroke:#000000; stroke-width:4; stroke-opacity:1; fill:none\" points=\"\n  208.149,1486.45 208.149,47.2441 \n  \"/>\n<polyline clip-path=\"url(#clip150)\" style=\"stroke:#000000; stroke-width:4; stroke-opacity:1; fill:none\" points=\"\n  629.762,1486.45 629.762,1469.18 \n  \"/>\n<polyline clip-path=\"url(#clip150)\" style=\"stroke:#000000; stroke-width:4; stroke-opacity:1; fill:none\" points=\"\n  1063.56,1486.45 1063.56,1469.18 \n  \"/>\n<polyline clip-path=\"url(#clip150)\" style=\"stroke:#000000; stroke-width:4; stroke-opacity:1; fill:none\" points=\"\n  1497.35,1486.45 1497.35,1469.18 \n  \"/>\n<polyline clip-path=\"url(#clip150)\" style=\"stroke:#000000; stroke-width:4; stroke-opacity:1; fill:none\" points=\"\n  1931.14,1486.45 1931.14,1469.18 \n  \"/>\n<polyline clip-path=\"url(#clip150)\" style=\"stroke:#000000; stroke-width:4; stroke-opacity:1; fill:none\" points=\"\n  208.149,1434.59 233.884,1434.59 \n  \"/>\n<polyline clip-path=\"url(#clip150)\" style=\"stroke:#000000; stroke-width:4; stroke-opacity:1; fill:none\" points=\"\n  208.149,1101.6 233.884,1101.6 \n  \"/>\n<polyline clip-path=\"url(#clip150)\" style=\"stroke:#000000; stroke-width:4; stroke-opacity:1; fill:none\" points=\"\n  208.149,768.622 233.884,768.622 \n  \"/>\n<polyline clip-path=\"url(#clip150)\" style=\"stroke:#000000; stroke-width:4; stroke-opacity:1; fill:none\" points=\"\n  208.149,435.639 233.884,435.639 \n  \"/>\n<polyline clip-path=\"url(#clip150)\" style=\"stroke:#000000; stroke-width:4; stroke-opacity:1; fill:none\" points=\"\n  208.149,102.657 233.884,102.657 \n  \"/>\n<path clip-path=\"url(#clip150)\" d=\"M 0 0 M624.415 1535.98 L640.734 1535.98 L640.734 1539.92 L618.79 1539.92 L618.79 1535.98 Q621.452 1533.23 626.035 1528.6 Q630.641 1523.95 631.822 1522.61 Q634.067 1520.08 634.947 1518.35 Q635.85 1516.59 635.85 1514.9 Q635.85 1512.14 633.905 1510.41 Q631.984 1508.67 628.882 1508.67 Q626.683 1508.67 624.229 1509.43 Q621.799 1510.2 619.021 1511.75 L619.021 1507.03 Q621.845 1505.89 624.299 1505.31 Q626.752 1504.73 628.79 1504.73 Q634.16 1504.73 637.354 1507.42 Q640.549 1510.11 640.549 1514.6 Q640.549 1516.73 639.739 1518.65 Q638.951 1520.54 636.845 1523.14 Q636.266 1523.81 633.164 1527.03 Q630.063 1530.22 624.415 1535.98 Z\" fill=\"#000000\" fill-rule=\"evenodd\" fill-opacity=\"1\" /><path clip-path=\"url(#clip150)\" d=\"M 0 0 M1066.56 1509.43 L1054.76 1527.88 L1066.56 1527.88 L1066.56 1509.43 M1065.34 1505.36 L1071.22 1505.36 L1071.22 1527.88 L1076.15 1527.88 L1076.15 1531.77 L1071.22 1531.77 L1071.22 1539.92 L1066.56 1539.92 L1066.56 1531.77 L1050.96 1531.77 L1050.96 1527.26 L1065.34 1505.36 Z\" fill=\"#000000\" fill-rule=\"evenodd\" fill-opacity=\"1\" /><path clip-path=\"url(#clip150)\" d=\"M 0 0 M1497.75 1520.78 Q1494.61 1520.78 1492.75 1522.93 Q1490.93 1525.08 1490.93 1528.83 Q1490.93 1532.56 1492.75 1534.73 Q1494.61 1536.89 1497.75 1536.89 Q1500.9 1536.89 1502.73 1534.73 Q1504.58 1532.56 1504.58 1528.83 Q1504.58 1525.08 1502.73 1522.93 Q1500.9 1520.78 1497.75 1520.78 M1507.04 1506.12 L1507.04 1510.38 Q1505.28 1509.55 1503.47 1509.11 Q1501.69 1508.67 1499.93 1508.67 Q1495.3 1508.67 1492.85 1511.8 Q1490.42 1514.92 1490.07 1521.24 Q1491.43 1519.23 1493.5 1518.16 Q1495.56 1517.07 1498.03 1517.07 Q1503.24 1517.07 1506.25 1520.24 Q1509.28 1523.39 1509.28 1528.83 Q1509.28 1534.16 1506.13 1537.37 Q1502.99 1540.59 1497.75 1540.59 Q1491.76 1540.59 1488.59 1536.01 Q1485.42 1531.4 1485.42 1522.67 Q1485.42 1514.48 1489.31 1509.62 Q1493.19 1504.73 1499.75 1504.73 Q1501.5 1504.73 1503.29 1505.08 Q1505.09 1505.43 1507.04 1506.12 Z\" fill=\"#000000\" fill-rule=\"evenodd\" fill-opacity=\"1\" /><path clip-path=\"url(#clip150)\" d=\"M 0 0 M1931.14 1523.51 Q1927.81 1523.51 1925.89 1525.29 Q1923.99 1527.07 1923.99 1530.2 Q1923.99 1533.32 1925.89 1535.11 Q1927.81 1536.89 1931.14 1536.89 Q1934.48 1536.89 1936.4 1535.11 Q1938.32 1533.3 1938.32 1530.2 Q1938.32 1527.07 1936.4 1525.29 Q1934.5 1523.51 1931.14 1523.51 M1926.47 1521.52 Q1923.46 1520.78 1921.77 1518.72 Q1920.1 1516.66 1920.1 1513.69 Q1920.1 1509.55 1923.04 1507.14 Q1926 1504.73 1931.14 1504.73 Q1936.31 1504.73 1939.24 1507.14 Q1942.18 1509.55 1942.18 1513.69 Q1942.18 1516.66 1940.49 1518.72 Q1938.83 1520.78 1935.84 1521.52 Q1939.22 1522.3 1941.1 1524.6 Q1942.99 1526.89 1942.99 1530.2 Q1942.99 1535.22 1939.92 1537.91 Q1936.86 1540.59 1931.14 1540.59 Q1925.43 1540.59 1922.35 1537.91 Q1919.29 1535.22 1919.29 1530.2 Q1919.29 1526.89 1921.19 1524.6 Q1923.09 1522.3 1926.47 1521.52 M1924.75 1514.13 Q1924.75 1516.82 1926.42 1518.32 Q1928.11 1519.83 1931.14 1519.83 Q1934.15 1519.83 1935.84 1518.32 Q1937.56 1516.82 1937.56 1514.13 Q1937.56 1511.45 1935.84 1509.94 Q1934.15 1508.44 1931.14 1508.44 Q1928.11 1508.44 1926.42 1509.94 Q1924.75 1511.45 1924.75 1514.13 Z\" fill=\"#000000\" fill-rule=\"evenodd\" fill-opacity=\"1\" /><path clip-path=\"url(#clip150)\" d=\"M 0 0 M62.9921 1435.04 L92.6679 1435.04 L92.6679 1438.97 L62.9921 1438.97 L62.9921 1435.04 Z\" fill=\"#000000\" fill-rule=\"evenodd\" fill-opacity=\"1\" /><path clip-path=\"url(#clip150)\" d=\"M 0 0 M107.737 1420.39 Q104.126 1420.39 102.297 1423.95 Q100.492 1427.49 100.492 1434.62 Q100.492 1441.73 102.297 1445.29 Q104.126 1448.83 107.737 1448.83 Q111.371 1448.83 113.177 1445.29 Q115.006 1441.73 115.006 1434.62 Q115.006 1427.49 113.177 1423.95 Q111.371 1420.39 107.737 1420.39 M107.737 1416.68 Q113.547 1416.68 116.603 1421.29 Q119.682 1425.87 119.682 1434.62 Q119.682 1443.35 116.603 1447.96 Q113.547 1452.54 107.737 1452.54 Q101.927 1452.54 98.8484 1447.96 Q95.7929 1443.35 95.7929 1434.62 Q95.7929 1425.87 98.8484 1421.29 Q101.927 1416.68 107.737 1416.68 Z\" fill=\"#000000\" fill-rule=\"evenodd\" fill-opacity=\"1\" /><path clip-path=\"url(#clip150)\" d=\"M 0 0 M124.751 1445.99 L129.635 1445.99 L129.635 1451.87 L124.751 1451.87 L124.751 1445.99 Z\" fill=\"#000000\" fill-rule=\"evenodd\" fill-opacity=\"1\" /><path clip-path=\"url(#clip150)\" d=\"M 0 0 M144.705 1420.39 Q141.094 1420.39 139.265 1423.95 Q137.459 1427.49 137.459 1434.62 Q137.459 1441.73 139.265 1445.29 Q141.094 1448.83 144.705 1448.83 Q148.339 1448.83 150.144 1445.29 Q151.973 1441.73 151.973 1434.62 Q151.973 1427.49 150.144 1423.95 Q148.339 1420.39 144.705 1420.39 M144.705 1416.68 Q150.515 1416.68 153.57 1421.29 Q156.649 1425.87 156.649 1434.62 Q156.649 1443.35 153.57 1447.96 Q150.515 1452.54 144.705 1452.54 Q138.894 1452.54 135.816 1447.96 Q132.76 1443.35 132.76 1434.62 Q132.76 1425.87 135.816 1421.29 Q138.894 1416.68 144.705 1416.68 Z\" fill=\"#000000\" fill-rule=\"evenodd\" fill-opacity=\"1\" /><path clip-path=\"url(#clip150)\" d=\"M 0 0 M174.566 1421.38 L162.76 1439.83 L174.566 1439.83 L174.566 1421.38 M173.339 1417.31 L179.218 1417.31 L179.218 1439.83 L184.149 1439.83 L184.149 1443.72 L179.218 1443.72 L179.218 1451.87 L174.566 1451.87 L174.566 1443.72 L158.964 1443.72 L158.964 1439.21 L173.339 1417.31 Z\" fill=\"#000000\" fill-rule=\"evenodd\" fill-opacity=\"1\" /><path clip-path=\"url(#clip150)\" d=\"M 0 0 M65.0754 1102.06 L94.7512 1102.06 L94.7512 1105.99 L65.0754 1105.99 L65.0754 1102.06 Z\" fill=\"#000000\" fill-rule=\"evenodd\" fill-opacity=\"1\" /><path clip-path=\"url(#clip150)\" d=\"M 0 0 M109.821 1087.4 Q106.209 1087.4 104.381 1090.97 Q102.575 1094.51 102.575 1101.64 Q102.575 1108.75 104.381 1112.31 Q106.209 1115.85 109.821 1115.85 Q113.455 1115.85 115.26 1112.31 Q117.089 1108.75 117.089 1101.64 Q117.089 1094.51 115.26 1090.97 Q113.455 1087.4 109.821 1087.4 M109.821 1083.7 Q115.631 1083.7 118.686 1088.31 Q121.765 1092.89 121.765 1101.64 Q121.765 1110.37 118.686 1114.97 Q115.631 1119.56 109.821 1119.56 Q104.01 1119.56 100.932 1114.97 Q97.8762 1110.37 97.8762 1101.64 Q97.8762 1092.89 100.932 1088.31 Q104.01 1083.7 109.821 1083.7 Z\" fill=\"#000000\" fill-rule=\"evenodd\" fill-opacity=\"1\" /><path clip-path=\"url(#clip150)\" d=\"M 0 0 M126.834 1113.01 L131.719 1113.01 L131.719 1118.88 L126.834 1118.88 L126.834 1113.01 Z\" fill=\"#000000\" fill-rule=\"evenodd\" fill-opacity=\"1\" /><path clip-path=\"url(#clip150)\" d=\"M 0 0 M146.788 1087.4 Q143.177 1087.4 141.348 1090.97 Q139.543 1094.51 139.543 1101.64 Q139.543 1108.75 141.348 1112.31 Q143.177 1115.85 146.788 1115.85 Q150.422 1115.85 152.228 1112.31 Q154.056 1108.75 154.056 1101.64 Q154.056 1094.51 152.228 1090.97 Q150.422 1087.4 146.788 1087.4 M146.788 1083.7 Q152.598 1083.7 155.654 1088.31 Q158.732 1092.89 158.732 1101.64 Q158.732 1110.37 155.654 1114.97 Q152.598 1119.56 146.788 1119.56 Q140.978 1119.56 137.899 1114.97 Q134.844 1110.37 134.844 1101.64 Q134.844 1092.89 137.899 1088.31 Q140.978 1083.7 146.788 1083.7 Z\" fill=\"#000000\" fill-rule=\"evenodd\" fill-opacity=\"1\" /><path clip-path=\"url(#clip150)\" d=\"M 0 0 M167.83 1114.95 L184.149 1114.95 L184.149 1118.88 L162.205 1118.88 L162.205 1114.95 Q164.867 1112.19 169.45 1107.57 Q174.056 1102.91 175.237 1101.57 Q177.482 1099.05 178.362 1097.31 Q179.265 1095.55 179.265 1093.86 Q179.265 1091.11 177.32 1089.37 Q175.399 1087.63 172.297 1087.63 Q170.098 1087.63 167.644 1088.4 Q165.214 1089.16 162.436 1090.71 L162.436 1085.99 Q165.26 1084.86 167.714 1084.28 Q170.167 1083.7 172.205 1083.7 Q177.575 1083.7 180.769 1086.38 Q183.964 1089.07 183.964 1093.56 Q183.964 1095.69 183.154 1097.61 Q182.366 1099.51 180.26 1102.1 Q179.681 1102.77 176.579 1105.99 Q173.478 1109.19 167.83 1114.95 Z\" fill=\"#000000\" fill-rule=\"evenodd\" fill-opacity=\"1\" /><path clip-path=\"url(#clip150)\" d=\"M 0 0 M108.223 754.421 Q104.612 754.421 102.784 757.985 Q100.978 761.527 100.978 768.657 Q100.978 775.763 102.784 779.328 Q104.612 782.87 108.223 782.87 Q111.858 782.87 113.663 779.328 Q115.492 775.763 115.492 768.657 Q115.492 761.527 113.663 757.985 Q111.858 754.421 108.223 754.421 M108.223 750.717 Q114.034 750.717 117.089 755.323 Q120.168 759.907 120.168 768.657 Q120.168 777.384 117.089 781.99 Q114.034 786.573 108.223 786.573 Q102.413 786.573 99.3345 781.99 Q96.279 777.384 96.279 768.657 Q96.279 759.907 99.3345 755.323 Q102.413 750.717 108.223 750.717 Z\" fill=\"#000000\" fill-rule=\"evenodd\" fill-opacity=\"1\" /><path clip-path=\"url(#clip150)\" d=\"M 0 0 M125.237 780.022 L130.121 780.022 L130.121 785.902 L125.237 785.902 L125.237 780.022 Z\" fill=\"#000000\" fill-rule=\"evenodd\" fill-opacity=\"1\" /><path clip-path=\"url(#clip150)\" d=\"M 0 0 M145.191 754.421 Q141.58 754.421 139.751 757.985 Q137.945 761.527 137.945 768.657 Q137.945 775.763 139.751 779.328 Q141.58 782.87 145.191 782.87 Q148.825 782.87 150.631 779.328 Q152.459 775.763 152.459 768.657 Q152.459 761.527 150.631 757.985 Q148.825 754.421 145.191 754.421 M145.191 750.717 Q151.001 750.717 154.056 755.323 Q157.135 759.907 157.135 768.657 Q157.135 777.384 154.056 781.99 Q151.001 786.573 145.191 786.573 Q139.381 786.573 136.302 781.99 Q133.246 777.384 133.246 768.657 Q133.246 759.907 136.302 755.323 Q139.381 750.717 145.191 750.717 Z\" fill=\"#000000\" fill-rule=\"evenodd\" fill-opacity=\"1\" /><path clip-path=\"url(#clip150)\" d=\"M 0 0 M172.205 754.421 Q168.593 754.421 166.765 757.985 Q164.959 761.527 164.959 768.657 Q164.959 775.763 166.765 779.328 Q168.593 782.87 172.205 782.87 Q175.839 782.87 177.644 779.328 Q179.473 775.763 179.473 768.657 Q179.473 761.527 177.644 757.985 Q175.839 754.421 172.205 754.421 M172.205 750.717 Q178.015 750.717 181.07 755.323 Q184.149 759.907 184.149 768.657 Q184.149 777.384 181.07 781.99 Q178.015 786.573 172.205 786.573 Q166.394 786.573 163.316 781.99 Q160.26 777.384 160.26 768.657 Q160.26 759.907 163.316 755.323 Q166.394 750.717 172.205 750.717 Z\" fill=\"#000000\" fill-rule=\"evenodd\" fill-opacity=\"1\" /><path clip-path=\"url(#clip150)\" d=\"M 0 0 M109.821 421.438 Q106.209 421.438 104.381 425.003 Q102.575 428.544 102.575 435.674 Q102.575 442.78 104.381 446.345 Q106.209 449.887 109.821 449.887 Q113.455 449.887 115.26 446.345 Q117.089 442.78 117.089 435.674 Q117.089 428.544 115.26 425.003 Q113.455 421.438 109.821 421.438 M109.821 417.734 Q115.631 417.734 118.686 422.341 Q121.765 426.924 121.765 435.674 Q121.765 444.401 118.686 449.007 Q115.631 453.591 109.821 453.591 Q104.01 453.591 100.932 449.007 Q97.8762 444.401 97.8762 435.674 Q97.8762 426.924 100.932 422.341 Q104.01 417.734 109.821 417.734 Z\" fill=\"#000000\" fill-rule=\"evenodd\" fill-opacity=\"1\" /><path clip-path=\"url(#clip150)\" d=\"M 0 0 M126.834 447.04 L131.719 447.04 L131.719 452.919 L126.834 452.919 L126.834 447.04 Z\" fill=\"#000000\" fill-rule=\"evenodd\" fill-opacity=\"1\" /><path clip-path=\"url(#clip150)\" d=\"M 0 0 M146.788 421.438 Q143.177 421.438 141.348 425.003 Q139.543 428.544 139.543 435.674 Q139.543 442.78 141.348 446.345 Q143.177 449.887 146.788 449.887 Q150.422 449.887 152.228 446.345 Q154.056 442.78 154.056 435.674 Q154.056 428.544 152.228 425.003 Q150.422 421.438 146.788 421.438 M146.788 417.734 Q152.598 417.734 155.654 422.341 Q158.732 426.924 158.732 435.674 Q158.732 444.401 155.654 449.007 Q152.598 453.591 146.788 453.591 Q140.978 453.591 137.899 449.007 Q134.844 444.401 134.844 435.674 Q134.844 426.924 137.899 422.341 Q140.978 417.734 146.788 417.734 Z\" fill=\"#000000\" fill-rule=\"evenodd\" fill-opacity=\"1\" /><path clip-path=\"url(#clip150)\" d=\"M 0 0 M167.83 448.984 L184.149 448.984 L184.149 452.919 L162.205 452.919 L162.205 448.984 Q164.867 446.23 169.45 441.6 Q174.056 436.947 175.237 435.605 Q177.482 433.081 178.362 431.345 Q179.265 429.586 179.265 427.896 Q179.265 425.142 177.32 423.406 Q175.399 421.669 172.297 421.669 Q170.098 421.669 167.644 422.433 Q165.214 423.197 162.436 424.748 L162.436 420.026 Q165.26 418.892 167.714 418.313 Q170.167 417.734 172.205 417.734 Q177.575 417.734 180.769 420.419 Q183.964 423.105 183.964 427.595 Q183.964 429.725 183.154 431.646 Q182.366 433.544 180.26 436.137 Q179.681 436.808 176.579 440.026 Q173.478 443.22 167.83 448.984 Z\" fill=\"#000000\" fill-rule=\"evenodd\" fill-opacity=\"1\" /><path clip-path=\"url(#clip150)\" d=\"M 0 0 M107.737 88.4553 Q104.126 88.4553 102.297 92.0201 Q100.492 95.5618 100.492 102.691 Q100.492 109.798 102.297 113.363 Q104.126 116.904 107.737 116.904 Q111.371 116.904 113.177 113.363 Q115.006 109.798 115.006 102.691 Q115.006 95.5618 113.177 92.0201 Q111.371 88.4553 107.737 88.4553 M107.737 84.7516 Q113.547 84.7516 116.603 89.3581 Q119.682 93.9414 119.682 102.691 Q119.682 111.418 116.603 116.025 Q113.547 120.608 107.737 120.608 Q101.927 120.608 98.8484 116.025 Q95.7929 111.418 95.7929 102.691 Q95.7929 93.9414 98.8484 89.3581 Q101.927 84.7516 107.737 84.7516 Z\" fill=\"#000000\" fill-rule=\"evenodd\" fill-opacity=\"1\" /><path clip-path=\"url(#clip150)\" d=\"M 0 0 M124.751 114.057 L129.635 114.057 L129.635 119.937 L124.751 119.937 L124.751 114.057 Z\" fill=\"#000000\" fill-rule=\"evenodd\" fill-opacity=\"1\" /><path clip-path=\"url(#clip150)\" d=\"M 0 0 M144.705 88.4553 Q141.094 88.4553 139.265 92.0201 Q137.459 95.5618 137.459 102.691 Q137.459 109.798 139.265 113.363 Q141.094 116.904 144.705 116.904 Q148.339 116.904 150.144 113.363 Q151.973 109.798 151.973 102.691 Q151.973 95.5618 150.144 92.0201 Q148.339 88.4553 144.705 88.4553 M144.705 84.7516 Q150.515 84.7516 153.57 89.3581 Q156.649 93.9414 156.649 102.691 Q156.649 111.418 153.57 116.025 Q150.515 120.608 144.705 120.608 Q138.894 120.608 135.816 116.025 Q132.76 111.418 132.76 102.691 Q132.76 93.9414 135.816 89.3581 Q138.894 84.7516 144.705 84.7516 Z\" fill=\"#000000\" fill-rule=\"evenodd\" fill-opacity=\"1\" /><path clip-path=\"url(#clip150)\" d=\"M 0 0 M174.566 89.4507 L162.76 107.9 L174.566 107.9 L174.566 89.4507 M173.339 85.3766 L179.218 85.3766 L179.218 107.9 L184.149 107.9 L184.149 111.789 L179.218 111.789 L179.218 119.937 L174.566 119.937 L174.566 111.789 L158.964 111.789 L158.964 107.275 L173.339 85.3766 Z\" fill=\"#000000\" fill-rule=\"evenodd\" fill-opacity=\"1\" /><path clip-path=\"url(#clip152)\" d=\"\nM326.106 239.399 L326.106 768.622 L499.624 768.622 L499.624 239.399 L326.106 239.399 L326.106 239.399  Z\n  \" fill=\"#009af9\" fill-rule=\"evenodd\" fill-opacity=\"1\"/>\n<polyline clip-path=\"url(#clip152)\" style=\"stroke:#000000; stroke-width:4; stroke-opacity:1; fill:none\" points=\"\n  326.106,239.399 326.106,768.622 499.624,768.622 499.624,239.399 326.106,239.399 \n  \"/>\n<path clip-path=\"url(#clip152)\" d=\"\nM543.003 1372.58 L543.003 768.622 L716.52 768.622 L716.52 1372.58 L543.003 1372.58 L543.003 1372.58  Z\n  \" fill=\"#009af9\" fill-rule=\"evenodd\" fill-opacity=\"1\"/>\n<polyline clip-path=\"url(#clip152)\" style=\"stroke:#000000; stroke-width:4; stroke-opacity:1; fill:none\" points=\"\n  543.003,1372.58 543.003,768.622 716.52,768.622 716.52,1372.58 543.003,1372.58 \n  \"/>\n<path clip-path=\"url(#clip152)\" d=\"\nM759.9 87.9763 L759.9 768.622 L933.417 768.622 L933.417 87.9763 L759.9 87.9763 L759.9 87.9763  Z\n  \" fill=\"#009af9\" fill-rule=\"evenodd\" fill-opacity=\"1\"/>\n<polyline clip-path=\"url(#clip152)\" style=\"stroke:#000000; stroke-width:4; stroke-opacity:1; fill:none\" points=\"\n  759.9,87.9763 759.9,768.622 933.417,768.622 933.417,87.9763 759.9,87.9763 \n  \"/>\n<path clip-path=\"url(#clip152)\" d=\"\nM976.797 1445.72 L976.797 768.622 L1150.31 768.622 L1150.31 1445.72 L976.797 1445.72 L976.797 1445.72  Z\n  \" fill=\"#009af9\" fill-rule=\"evenodd\" fill-opacity=\"1\"/>\n<polyline clip-path=\"url(#clip152)\" style=\"stroke:#000000; stroke-width:4; stroke-opacity:1; fill:none\" points=\"\n  976.797,1445.72 976.797,768.622 1150.31,768.622 1150.31,1445.72 976.797,1445.72 \n  \"/>\n<path clip-path=\"url(#clip152)\" d=\"\nM1193.69 282.702 L1193.69 768.622 L1367.21 768.622 L1367.21 282.702 L1193.69 282.702 L1193.69 282.702  Z\n  \" fill=\"#009af9\" fill-rule=\"evenodd\" fill-opacity=\"1\"/>\n<polyline clip-path=\"url(#clip152)\" style=\"stroke:#000000; stroke-width:4; stroke-opacity:1; fill:none\" points=\"\n  1193.69,282.702 1193.69,768.622 1367.21,768.622 1367.21,282.702 1193.69,282.702 \n  \"/>\n<path clip-path=\"url(#clip152)\" d=\"\nM1410.59 1162 L1410.59 768.622 L1584.11 768.622 L1584.11 1162 L1410.59 1162 L1410.59 1162  Z\n  \" fill=\"#009af9\" fill-rule=\"evenodd\" fill-opacity=\"1\"/>\n<polyline clip-path=\"url(#clip152)\" style=\"stroke:#000000; stroke-width:4; stroke-opacity:1; fill:none\" points=\"\n  1410.59,1162 1410.59,768.622 1584.11,768.622 1584.11,1162 1410.59,1162 \n  \"/>\n<path clip-path=\"url(#clip152)\" d=\"\nM1627.49 524.718 L1627.49 768.622 L1801 768.622 L1801 524.718 L1627.49 524.718 L1627.49 524.718  Z\n  \" fill=\"#009af9\" fill-rule=\"evenodd\" fill-opacity=\"1\"/>\n<polyline clip-path=\"url(#clip152)\" style=\"stroke:#000000; stroke-width:4; stroke-opacity:1; fill:none\" points=\"\n  1627.49,524.718 1627.49,768.622 1801,768.622 1801,524.718 1627.49,524.718 \n  \"/>\n<path clip-path=\"url(#clip152)\" d=\"\nM1844.38 920.135 L1844.38 768.622 L2017.9 768.622 L2017.9 920.135 L1844.38 920.135 L1844.38 920.135  Z\n  \" fill=\"#009af9\" fill-rule=\"evenodd\" fill-opacity=\"1\"/>\n<polyline clip-path=\"url(#clip152)\" style=\"stroke:#000000; stroke-width:4; stroke-opacity:1; fill:none\" points=\"\n  1844.38,920.135 1844.38,768.622 2017.9,768.622 2017.9,920.135 1844.38,920.135 \n  \"/>\n<path clip-path=\"url(#clip152)\" d=\"\nM2061.28 750.654 L2061.28 768.622 L2234.8 768.622 L2234.8 750.654 L2061.28 750.654 L2061.28 750.654  Z\n  \" fill=\"#009af9\" fill-rule=\"evenodd\" fill-opacity=\"1\"/>\n<polyline clip-path=\"url(#clip152)\" style=\"stroke:#000000; stroke-width:4; stroke-opacity:1; fill:none\" points=\"\n  2061.28,750.654 2061.28,768.622 2234.8,768.622 2234.8,750.654 2061.28,750.654 \n  \"/>\n<path clip-path=\"url(#clip152)\" d=\"\nM326.106 238.997 L326.106 768.622 L499.624 768.622 L499.624 238.997 L326.106 238.997 L326.106 238.997  Z\n  \" fill=\"#e26f46\" fill-rule=\"evenodd\" fill-opacity=\"1\"/>\n<polyline clip-path=\"url(#clip152)\" style=\"stroke:#000000; stroke-width:4; stroke-opacity:1; fill:none\" points=\"\n  326.106,238.997 326.106,768.622 499.624,768.622 499.624,238.997 326.106,238.997 \n  \"/>\n<path clip-path=\"url(#clip152)\" d=\"\nM543.003 1372.18 L543.003 768.622 L716.52 768.622 L716.52 1372.18 L543.003 1372.18 L543.003 1372.18  Z\n  \" fill=\"#e26f46\" fill-rule=\"evenodd\" fill-opacity=\"1\"/>\n<polyline clip-path=\"url(#clip152)\" style=\"stroke:#000000; stroke-width:4; stroke-opacity:1; fill:none\" points=\"\n  543.003,1372.18 543.003,768.622 716.52,768.622 716.52,1372.18 543.003,1372.18 \n  \"/>\n<path clip-path=\"url(#clip152)\" d=\"\nM759.9 89.2255 L759.9 768.622 L933.417 768.622 L933.417 89.2255 L759.9 89.2255 L759.9 89.2255  Z\n  \" fill=\"#e26f46\" fill-rule=\"evenodd\" fill-opacity=\"1\"/>\n<polyline clip-path=\"url(#clip152)\" style=\"stroke:#000000; stroke-width:4; stroke-opacity:1; fill:none\" points=\"\n  759.9,89.2255 759.9,768.622 933.417,768.622 933.417,89.2255 759.9,89.2255 \n  \"/>\n<path clip-path=\"url(#clip152)\" d=\"\nM976.797 1444.59 L976.797 768.622 L1150.31 768.622 L1150.31 1444.59 L976.797 1444.59 L976.797 1444.59  Z\n  \" fill=\"#e26f46\" fill-rule=\"evenodd\" fill-opacity=\"1\"/>\n<polyline clip-path=\"url(#clip152)\" style=\"stroke:#000000; stroke-width:4; stroke-opacity:1; fill:none\" points=\"\n  976.797,1444.59 976.797,768.622 1150.31,768.622 1150.31,1444.59 976.797,1444.59 \n  \"/>\n<path clip-path=\"url(#clip152)\" d=\"\nM1193.69 284.746 L1193.69 768.622 L1367.21 768.622 L1367.21 284.746 L1193.69 284.746 L1193.69 284.746  Z\n  \" fill=\"#e26f46\" fill-rule=\"evenodd\" fill-opacity=\"1\"/>\n<polyline clip-path=\"url(#clip152)\" style=\"stroke:#000000; stroke-width:4; stroke-opacity:1; fill:none\" points=\"\n  1193.69,284.746 1193.69,768.622 1367.21,768.622 1367.21,284.746 1193.69,284.746 \n  \"/>\n<path clip-path=\"url(#clip152)\" d=\"\nM1410.59 1162.67 L1410.59 768.622 L1584.11 768.622 L1584.11 1162.67 L1410.59 1162.67 L1410.59 1162.67  Z\n  \" fill=\"#e26f46\" fill-rule=\"evenodd\" fill-opacity=\"1\"/>\n<polyline clip-path=\"url(#clip152)\" style=\"stroke:#000000; stroke-width:4; stroke-opacity:1; fill:none\" points=\"\n  1410.59,1162.67 1410.59,768.622 1584.11,768.622 1584.11,1162.67 1410.59,1162.67 \n  \"/>\n<path clip-path=\"url(#clip152)\" d=\"\nM1627.49 554.275 L1627.49 768.622 L1801 768.622 L1801 554.275 L1627.49 554.275 L1627.49 554.275  Z\n  \" fill=\"#e26f46\" fill-rule=\"evenodd\" fill-opacity=\"1\"/>\n<polyline clip-path=\"url(#clip152)\" style=\"stroke:#000000; stroke-width:4; stroke-opacity:1; fill:none\" points=\"\n  1627.49,554.275 1627.49,768.622 1801,768.622 1801,554.275 1627.49,554.275 \n  \"/>\n<path clip-path=\"url(#clip152)\" d=\"\nM1844.38 872.67 L1844.38 768.622 L2017.9 768.622 L2017.9 872.67 L1844.38 872.67 L1844.38 872.67  Z\n  \" fill=\"#e26f46\" fill-rule=\"evenodd\" fill-opacity=\"1\"/>\n<polyline clip-path=\"url(#clip152)\" style=\"stroke:#000000; stroke-width:4; stroke-opacity:1; fill:none\" points=\"\n  1844.38,872.67 1844.38,768.622 2017.9,768.622 2017.9,872.67 1844.38,872.67 \n  \"/>\n<path clip-path=\"url(#clip152)\" d=\"\nM2061.28 735.135 L2061.28 768.622 L2234.8 768.622 L2234.8 735.135 L2061.28 735.135 L2061.28 735.135  Z\n  \" fill=\"#e26f46\" fill-rule=\"evenodd\" fill-opacity=\"1\"/>\n<polyline clip-path=\"url(#clip152)\" style=\"stroke:#000000; stroke-width:4; stroke-opacity:1; fill:none\" points=\"\n  2061.28,735.135 2061.28,768.622 2234.8,768.622 2234.8,735.135 2061.28,735.135 \n  \"/>\n<path clip-path=\"url(#clip150)\" d=\"\nM1991.96 276.658 L2281.27 276.658 L2281.27 95.2176 L1991.96 95.2176  Z\n  \" fill=\"#ffffff\" fill-rule=\"evenodd\" fill-opacity=\"1\"/>\n<polyline clip-path=\"url(#clip150)\" style=\"stroke:#000000; stroke-width:4; stroke-opacity:1; fill:none\" points=\"\n  1991.96,276.658 2281.27,276.658 2281.27,95.2176 1991.96,95.2176 1991.96,276.658 \n  \"/>\n<path clip-path=\"url(#clip150)\" d=\"\nM2015.79 179.89 L2158.76 179.89 L2158.76 131.506 L2015.79 131.506 L2015.79 179.89  Z\n  \" fill=\"#009af9\" fill-rule=\"evenodd\" fill-opacity=\"1\"/>\n<polyline clip-path=\"url(#clip150)\" style=\"stroke:#000000; stroke-width:4; stroke-opacity:1; fill:none\" points=\"\n  2015.79,179.89 2158.76,179.89 2158.76,131.506 2015.79,131.506 2015.79,179.89 \n  \"/>\n<path clip-path=\"url(#clip150)\" d=\"M 0 0 M2196.44 175.385 Q2194.63 180.015 2192.92 181.427 Q2191.2 182.839 2188.33 182.839 L2184.93 182.839 L2184.93 179.274 L2187.43 179.274 Q2189.19 179.274 2190.16 178.44 Q2191.13 177.607 2192.31 174.505 L2193.08 172.561 L2182.59 147.052 L2187.11 147.052 L2195.21 167.329 L2203.31 147.052 L2207.82 147.052 L2196.44 175.385 Z\" fill=\"#000000\" fill-rule=\"evenodd\" fill-opacity=\"1\" /><path clip-path=\"url(#clip150)\" d=\"M 0 0 M2213.7 169.042 L2221.34 169.042 L2221.34 142.677 L2213.03 144.343 L2213.03 140.084 L2221.3 138.418 L2225.97 138.418 L2225.97 169.042 L2233.61 169.042 L2233.61 172.978 L2213.7 172.978 L2213.7 169.042 Z\" fill=\"#000000\" fill-rule=\"evenodd\" fill-opacity=\"1\" /><path clip-path=\"url(#clip150)\" d=\"\nM2015.79 240.37 L2158.76 240.37 L2158.76 191.986 L2015.79 191.986 L2015.79 240.37  Z\n  \" fill=\"#e26f46\" fill-rule=\"evenodd\" fill-opacity=\"1\"/>\n<polyline clip-path=\"url(#clip150)\" style=\"stroke:#000000; stroke-width:4; stroke-opacity:1; fill:none\" points=\"\n  2015.79,240.37 2158.76,240.37 2158.76,191.986 2015.79,191.986 2015.79,240.37 \n  \"/>\n<path clip-path=\"url(#clip150)\" d=\"M 0 0 M2196.44 235.865 Q2194.63 240.495 2192.92 241.907 Q2191.2 243.319 2188.33 243.319 L2184.93 243.319 L2184.93 239.754 L2187.43 239.754 Q2189.19 239.754 2190.16 238.92 Q2191.13 238.087 2192.31 234.985 L2193.08 233.041 L2182.59 207.532 L2187.11 207.532 L2195.21 227.809 L2203.31 207.532 L2207.82 207.532 L2196.44 235.865 Z\" fill=\"#000000\" fill-rule=\"evenodd\" fill-opacity=\"1\" /><path clip-path=\"url(#clip150)\" d=\"M 0 0 M2216.92 229.522 L2233.24 229.522 L2233.24 233.458 L2211.3 233.458 L2211.3 229.522 Q2213.96 226.768 2218.54 222.138 Q2223.15 217.485 2224.33 216.143 Q2226.57 213.62 2227.45 211.884 Q2228.36 210.124 2228.36 208.435 Q2228.36 205.68 2226.41 203.944 Q2224.49 202.208 2221.39 202.208 Q2219.19 202.208 2216.74 202.972 Q2214.31 203.735 2211.53 205.286 L2211.53 200.564 Q2214.35 199.43 2216.81 198.851 Q2219.26 198.273 2221.3 198.273 Q2226.67 198.273 2229.86 200.958 Q2233.06 203.643 2233.06 208.134 Q2233.06 210.263 2232.25 212.185 Q2231.46 214.083 2229.35 216.675 Q2228.77 217.347 2225.67 220.564 Q2222.57 223.759 2216.92 229.522 Z\" fill=\"#000000\" fill-rule=\"evenodd\" fill-opacity=\"1\" /></svg>\n"
     },
     "metadata": {},
     "execution_count": 8
    }
   ],
   "source": [
    "using Plots\n",
    "\n",
    "u_vals = [U_altro[i][1] for i=1:N-1]\n",
    "u_vals_osqp = [U_osqp[i][1] for i=1:N-1]\n",
    "\n",
    "plot(1:N-1, u_vals, seriestype=:bar)\n",
    "plot!(1:N-1, u_vals_osqp, seriestype=:bar)"
   ]
  },
  {
   "cell_type": "code",
   "execution_count": 9,
   "metadata": {},
   "outputs": [
    {
     "output_type": "stream",
     "name": "stdout",
     "text": [
      "objective_value_(X_altro, U_altro) = 6.326827513214951\n",
      "objective_value_(X_osqp, U_osqp) = 6.3266170317964665\n"
     ]
    },
    {
     "output_type": "execute_result",
     "data": {
      "text/plain": [
       "6.3266170317964665"
      ]
     },
     "metadata": {},
     "execution_count": 9
    }
   ],
   "source": [
    "objective_value_(X, U) = sum([0.5*X[i]'*Q*X[i] for i=1:N]) + sum([0.5*U[i]'*R*U[i] for i=1:N-1])\n",
    "\n",
    "@show objective_value_(X_altro, U_altro)\n",
    "@show objective_value_(X_osqp, U_osqp)"
   ]
  },
  {
   "cell_type": "code",
   "execution_count": 10,
   "metadata": {},
   "outputs": [
    {
     "output_type": "execute_result",
     "data": {
      "image/svg+xml": "<?xml version=\"1.0\" encoding=\"utf-8\"?>\n<svg xmlns=\"http://www.w3.org/2000/svg\" xmlns:xlink=\"http://www.w3.org/1999/xlink\" width=\"600\" height=\"400\" viewBox=\"0 0 2400 1600\">\n<defs>\n  <clipPath id=\"clip190\">\n    <rect x=\"0\" y=\"0\" width=\"2400\" height=\"1600\"/>\n  </clipPath>\n</defs>\n<path clip-path=\"url(#clip190)\" d=\"\nM0 1600 L2400 1600 L2400 0 L0 0  Z\n  \" fill=\"#ffffff\" fill-rule=\"evenodd\" fill-opacity=\"1\"/>\n<defs>\n  <clipPath id=\"clip191\">\n    <rect x=\"480\" y=\"0\" width=\"1681\" height=\"1600\"/>\n  </clipPath>\n</defs>\n<path clip-path=\"url(#clip190)\" d=\"\nM253.354 1486.45 L2352.76 1486.45 L2352.76 47.2441 L253.354 47.2441  Z\n  \" fill=\"#ffffff\" fill-rule=\"evenodd\" fill-opacity=\"1\"/>\n<defs>\n  <clipPath id=\"clip192\">\n    <rect x=\"253\" y=\"47\" width=\"2100\" height=\"1440\"/>\n  </clipPath>\n</defs>\n<polyline clip-path=\"url(#clip192)\" style=\"stroke:#000000; stroke-width:2; stroke-opacity:0.1; fill:none\" points=\"\n  532.834,1486.45 532.834,47.2441 \n  \"/>\n<polyline clip-path=\"url(#clip192)\" style=\"stroke:#000000; stroke-width:2; stroke-opacity:0.1; fill:none\" points=\"\n  972.96,1486.45 972.96,47.2441 \n  \"/>\n<polyline clip-path=\"url(#clip192)\" style=\"stroke:#000000; stroke-width:2; stroke-opacity:0.1; fill:none\" points=\"\n  1413.09,1486.45 1413.09,47.2441 \n  \"/>\n<polyline clip-path=\"url(#clip192)\" style=\"stroke:#000000; stroke-width:2; stroke-opacity:0.1; fill:none\" points=\"\n  1853.21,1486.45 1853.21,47.2441 \n  \"/>\n<polyline clip-path=\"url(#clip192)\" style=\"stroke:#000000; stroke-width:2; stroke-opacity:0.1; fill:none\" points=\"\n  2293.34,1486.45 2293.34,47.2441 \n  \"/>\n<polyline clip-path=\"url(#clip192)\" style=\"stroke:#000000; stroke-width:2; stroke-opacity:0.1; fill:none\" points=\"\n  253.354,1212.05 2352.76,1212.05 \n  \"/>\n<polyline clip-path=\"url(#clip192)\" style=\"stroke:#000000; stroke-width:2; stroke-opacity:0.1; fill:none\" points=\"\n  253.354,904.927 2352.76,904.927 \n  \"/>\n<polyline clip-path=\"url(#clip192)\" style=\"stroke:#000000; stroke-width:2; stroke-opacity:0.1; fill:none\" points=\"\n  253.354,597.8 2352.76,597.8 \n  \"/>\n<polyline clip-path=\"url(#clip192)\" style=\"stroke:#000000; stroke-width:2; stroke-opacity:0.1; fill:none\" points=\"\n  253.354,290.673 2352.76,290.673 \n  \"/>\n<polyline clip-path=\"url(#clip190)\" style=\"stroke:#000000; stroke-width:4; stroke-opacity:1; fill:none\" points=\"\n  253.354,1486.45 2352.76,1486.45 \n  \"/>\n<polyline clip-path=\"url(#clip190)\" style=\"stroke:#000000; stroke-width:4; stroke-opacity:1; fill:none\" points=\"\n  253.354,1486.45 253.354,47.2441 \n  \"/>\n<polyline clip-path=\"url(#clip190)\" style=\"stroke:#000000; stroke-width:4; stroke-opacity:1; fill:none\" points=\"\n  532.834,1486.45 532.834,1469.18 \n  \"/>\n<polyline clip-path=\"url(#clip190)\" style=\"stroke:#000000; stroke-width:4; stroke-opacity:1; fill:none\" points=\"\n  972.96,1486.45 972.96,1469.18 \n  \"/>\n<polyline clip-path=\"url(#clip190)\" style=\"stroke:#000000; stroke-width:4; stroke-opacity:1; fill:none\" points=\"\n  1413.09,1486.45 1413.09,1469.18 \n  \"/>\n<polyline clip-path=\"url(#clip190)\" style=\"stroke:#000000; stroke-width:4; stroke-opacity:1; fill:none\" points=\"\n  1853.21,1486.45 1853.21,1469.18 \n  \"/>\n<polyline clip-path=\"url(#clip190)\" style=\"stroke:#000000; stroke-width:4; stroke-opacity:1; fill:none\" points=\"\n  2293.34,1486.45 2293.34,1469.18 \n  \"/>\n<polyline clip-path=\"url(#clip190)\" style=\"stroke:#000000; stroke-width:4; stroke-opacity:1; fill:none\" points=\"\n  253.354,1212.05 278.547,1212.05 \n  \"/>\n<polyline clip-path=\"url(#clip190)\" style=\"stroke:#000000; stroke-width:4; stroke-opacity:1; fill:none\" points=\"\n  253.354,904.927 278.547,904.927 \n  \"/>\n<polyline clip-path=\"url(#clip190)\" style=\"stroke:#000000; stroke-width:4; stroke-opacity:1; fill:none\" points=\"\n  253.354,597.8 278.547,597.8 \n  \"/>\n<polyline clip-path=\"url(#clip190)\" style=\"stroke:#000000; stroke-width:4; stroke-opacity:1; fill:none\" points=\"\n  253.354,290.673 278.547,290.673 \n  \"/>\n<path clip-path=\"url(#clip190)\" d=\"M 0 0 M527.487 1535.98 L543.806 1535.98 L543.806 1539.92 L521.862 1539.92 L521.862 1535.98 Q524.524 1533.23 529.107 1528.6 Q533.714 1523.95 534.894 1522.61 Q537.14 1520.08 538.019 1518.35 Q538.922 1516.59 538.922 1514.9 Q538.922 1512.14 536.978 1510.41 Q535.056 1508.67 531.955 1508.67 Q529.756 1508.67 527.302 1509.43 Q524.871 1510.2 522.094 1511.75 L522.094 1507.03 Q524.918 1505.89 527.371 1505.31 Q529.825 1504.73 531.862 1504.73 Q537.232 1504.73 540.427 1507.42 Q543.621 1510.11 543.621 1514.6 Q543.621 1516.73 542.811 1518.65 Q542.024 1520.54 539.917 1523.14 Q539.339 1523.81 536.237 1527.03 Q533.135 1530.22 527.487 1535.98 Z\" fill=\"#000000\" fill-rule=\"evenodd\" fill-opacity=\"1\" /><path clip-path=\"url(#clip190)\" d=\"M 0 0 M975.97 1509.43 L964.164 1527.88 L975.97 1527.88 L975.97 1509.43 M974.743 1505.36 L980.622 1505.36 L980.622 1527.88 L985.553 1527.88 L985.553 1531.77 L980.622 1531.77 L980.622 1539.92 L975.97 1539.92 L975.97 1531.77 L960.368 1531.77 L960.368 1527.26 L974.743 1505.36 Z\" fill=\"#000000\" fill-rule=\"evenodd\" fill-opacity=\"1\" /><path clip-path=\"url(#clip190)\" d=\"M 0 0 M1413.49 1520.78 Q1410.34 1520.78 1408.49 1522.93 Q1406.66 1525.08 1406.66 1528.83 Q1406.66 1532.56 1408.49 1534.73 Q1410.34 1536.89 1413.49 1536.89 Q1416.64 1536.89 1418.47 1534.73 Q1420.32 1532.56 1420.32 1528.83 Q1420.32 1525.08 1418.47 1522.93 Q1416.64 1520.78 1413.49 1520.78 M1422.77 1506.12 L1422.77 1510.38 Q1421.01 1509.55 1419.21 1509.11 Q1417.43 1508.67 1415.67 1508.67 Q1411.04 1508.67 1408.58 1511.8 Q1406.15 1514.92 1405.81 1521.24 Q1407.17 1519.23 1409.23 1518.16 Q1411.29 1517.07 1413.77 1517.07 Q1418.98 1517.07 1421.99 1520.24 Q1425.02 1523.39 1425.02 1528.83 Q1425.02 1534.16 1421.87 1537.37 Q1418.72 1540.59 1413.49 1540.59 Q1407.5 1540.59 1404.33 1536.01 Q1401.15 1531.4 1401.15 1522.67 Q1401.15 1514.48 1405.04 1509.62 Q1408.93 1504.73 1415.48 1504.73 Q1417.24 1504.73 1419.02 1505.08 Q1420.83 1505.43 1422.77 1506.12 Z\" fill=\"#000000\" fill-rule=\"evenodd\" fill-opacity=\"1\" /><path clip-path=\"url(#clip190)\" d=\"M 0 0 M1853.21 1523.51 Q1849.88 1523.51 1847.96 1525.29 Q1846.06 1527.07 1846.06 1530.2 Q1846.06 1533.32 1847.96 1535.11 Q1849.88 1536.89 1853.21 1536.89 Q1856.55 1536.89 1858.47 1535.11 Q1860.39 1533.3 1860.39 1530.2 Q1860.39 1527.07 1858.47 1525.29 Q1856.57 1523.51 1853.21 1523.51 M1848.54 1521.52 Q1845.53 1520.78 1843.84 1518.72 Q1842.17 1516.66 1842.17 1513.69 Q1842.17 1509.55 1845.11 1507.14 Q1848.07 1504.73 1853.21 1504.73 Q1858.37 1504.73 1861.31 1507.14 Q1864.25 1509.55 1864.25 1513.69 Q1864.25 1516.66 1862.56 1518.72 Q1860.9 1520.78 1857.91 1521.52 Q1861.29 1522.3 1863.17 1524.6 Q1865.06 1526.89 1865.06 1530.2 Q1865.06 1535.22 1861.99 1537.91 Q1858.93 1540.59 1853.21 1540.59 Q1847.5 1540.59 1844.42 1537.91 Q1841.36 1535.22 1841.36 1530.2 Q1841.36 1526.89 1843.26 1524.6 Q1845.16 1522.3 1848.54 1521.52 M1846.82 1514.13 Q1846.82 1516.82 1848.49 1518.32 Q1850.18 1519.83 1853.21 1519.83 Q1856.22 1519.83 1857.91 1518.32 Q1859.62 1516.82 1859.62 1514.13 Q1859.62 1511.45 1857.91 1509.94 Q1856.22 1508.44 1853.21 1508.44 Q1850.18 1508.44 1848.49 1509.94 Q1846.82 1511.45 1846.82 1514.13 Z\" fill=\"#000000\" fill-rule=\"evenodd\" fill-opacity=\"1\" /><path clip-path=\"url(#clip190)\" d=\"M 0 0 M2270.21 1535.98 L2277.85 1535.98 L2277.85 1509.62 L2269.54 1511.29 L2269.54 1507.03 L2277.81 1505.36 L2282.48 1505.36 L2282.48 1535.98 L2290.12 1535.98 L2290.12 1539.92 L2270.21 1539.92 L2270.21 1535.98 Z\" fill=\"#000000\" fill-rule=\"evenodd\" fill-opacity=\"1\" /><path clip-path=\"url(#clip190)\" d=\"M 0 0 M2305.19 1508.44 Q2301.58 1508.44 2299.75 1512 Q2297.95 1515.55 2297.95 1522.67 Q2297.95 1529.78 2299.75 1533.35 Q2301.58 1536.89 2305.19 1536.89 Q2308.82 1536.89 2310.63 1533.35 Q2312.46 1529.78 2312.46 1522.67 Q2312.46 1515.55 2310.63 1512 Q2308.82 1508.44 2305.19 1508.44 M2305.19 1504.73 Q2311 1504.73 2314.06 1509.34 Q2317.14 1513.92 2317.14 1522.67 Q2317.14 1531.4 2314.06 1536.01 Q2311 1540.59 2305.19 1540.59 Q2299.38 1540.59 2296.3 1536.01 Q2293.25 1531.4 2293.25 1522.67 Q2293.25 1513.92 2296.3 1509.34 Q2299.38 1504.73 2305.19 1504.73 Z\" fill=\"#000000\" fill-rule=\"evenodd\" fill-opacity=\"1\" /><path clip-path=\"url(#clip190)\" d=\"M 0 0 M72.8532 1231.85 L89.1725 1231.85 L89.1725 1235.78 L67.2282 1235.78 L67.2282 1231.85 Q69.8902 1229.09 74.4735 1224.46 Q79.08 1219.81 80.2606 1218.47 Q82.5059 1215.94 83.3855 1214.21 Q84.2883 1212.45 84.2883 1210.76 Q84.2883 1208 82.3439 1206.27 Q80.4226 1204.53 77.3208 1204.53 Q75.1217 1204.53 72.668 1205.3 Q70.2375 1206.06 67.4597 1207.61 L67.4597 1202.89 Q70.2838 1201.75 72.7374 1201.18 Q75.1911 1200.6 77.2282 1200.6 Q82.5985 1200.6 85.7929 1203.28 Q88.9874 1205.97 88.9874 1210.46 Q88.9874 1212.59 88.1772 1214.51 Q87.3901 1216.41 85.2837 1219 Q84.705 1219.67 81.6031 1222.89 Q78.5013 1226.08 72.8532 1231.85 Z\" fill=\"#000000\" fill-rule=\"evenodd\" fill-opacity=\"1\" /><path clip-path=\"url(#clip190)\" d=\"M 0 0 M94.242 1229.9 L99.1262 1229.9 L99.1262 1235.78 L94.242 1235.78 L94.242 1229.9 Z\" fill=\"#000000\" fill-rule=\"evenodd\" fill-opacity=\"1\" /><path clip-path=\"url(#clip190)\" d=\"M 0 0 M104.242 1201.22 L122.598 1201.22 L122.598 1205.16 L108.524 1205.16 L108.524 1213.63 Q109.543 1213.28 110.561 1213.12 Q111.58 1212.93 112.598 1212.93 Q118.385 1212.93 121.765 1216.11 Q125.145 1219.28 125.145 1224.69 Q125.145 1230.27 121.672 1233.37 Q118.2 1236.45 111.881 1236.45 Q109.705 1236.45 107.436 1236.08 Q105.191 1235.71 102.784 1234.97 L102.784 1230.27 Q104.867 1231.41 107.089 1231.96 Q109.311 1232.52 111.788 1232.52 Q115.793 1232.52 118.131 1230.41 Q120.469 1228.3 120.469 1224.69 Q120.469 1221.08 118.131 1218.98 Q115.793 1216.87 111.788 1216.87 Q109.913 1216.87 108.038 1217.29 Q106.186 1217.7 104.242 1218.58 L104.242 1201.22 Z\" fill=\"#000000\" fill-rule=\"evenodd\" fill-opacity=\"1\" /><path clip-path=\"url(#clip190)\" d=\"M 0 0 M158.385 1210.32 L147.806 1220.94 L158.385 1231.52 L155.631 1234.32 L145.006 1223.7 L134.381 1234.32 L131.649 1231.52 L142.205 1220.94 L131.649 1210.32 L134.381 1207.52 L145.006 1218.14 L155.631 1207.52 L158.385 1210.32 Z\" fill=\"#000000\" fill-rule=\"evenodd\" fill-opacity=\"1\" /><path clip-path=\"url(#clip190)\" d=\"M 0 0 M164.265 1231.85 L171.904 1231.85 L171.904 1205.48 L163.593 1207.15 L163.593 1202.89 L171.857 1201.22 L176.533 1201.22 L176.533 1231.85 L184.172 1231.85 L184.172 1235.78 L164.265 1235.78 L164.265 1231.85 Z\" fill=\"#000000\" fill-rule=\"evenodd\" fill-opacity=\"1\" /><path clip-path=\"url(#clip190)\" d=\"M 0 0 M199.241 1204.3 Q195.63 1204.3 193.802 1207.87 Q191.996 1211.41 191.996 1218.54 Q191.996 1225.64 193.802 1229.21 Q195.63 1232.75 199.241 1232.75 Q202.876 1232.75 204.681 1229.21 Q206.51 1225.64 206.51 1218.54 Q206.51 1211.41 204.681 1207.87 Q202.876 1204.3 199.241 1204.3 M199.241 1200.6 Q205.052 1200.6 208.107 1205.2 Q211.186 1209.79 211.186 1218.54 Q211.186 1227.26 208.107 1231.87 Q205.052 1236.45 199.241 1236.45 Q193.431 1236.45 190.353 1231.87 Q187.297 1227.26 187.297 1218.54 Q187.297 1209.79 190.353 1205.2 Q193.431 1200.6 199.241 1200.6 Z\" fill=\"#000000\" fill-rule=\"evenodd\" fill-opacity=\"1\" /><path clip-path=\"url(#clip190)\" d=\"M 0 0 M212.371 1180.29 L227.285 1180.29 L227.285 1183.49 L215.85 1183.49 L215.85 1190.37 Q216.678 1190.09 217.505 1189.96 Q218.333 1189.81 219.16 1189.81 Q223.862 1189.81 226.608 1192.38 Q229.354 1194.96 229.354 1199.36 Q229.354 1203.9 226.533 1206.42 Q223.712 1208.92 218.577 1208.92 Q216.809 1208.92 214.966 1208.62 Q213.142 1208.31 211.186 1207.71 L211.186 1203.9 Q212.878 1204.82 214.684 1205.27 Q216.49 1205.72 218.502 1205.72 Q221.756 1205.72 223.655 1204.01 Q225.555 1202.3 225.555 1199.36 Q225.555 1196.43 223.655 1194.72 Q221.756 1193.01 218.502 1193.01 Q216.979 1193.01 215.455 1193.34 Q213.951 1193.68 212.371 1194.4 L212.371 1180.29 Z\" fill=\"#000000\" fill-rule=\"evenodd\" fill-opacity=\"1\" /><path clip-path=\"url(#clip190)\" d=\"M 0 0 M81.0476 910.021 Q84.404 910.738 86.279 913.007 Q88.1772 915.275 88.1772 918.609 Q88.1772 923.724 84.6587 926.525 Q81.1402 929.326 74.6587 929.326 Q72.4828 929.326 70.168 928.886 Q67.8764 928.47 65.4227 927.613 L65.4227 923.099 Q67.3671 924.234 69.6819 924.812 Q71.9967 925.391 74.5198 925.391 Q78.918 925.391 81.2096 923.655 Q83.5244 921.919 83.5244 918.609 Q83.5244 915.553 81.3717 913.84 Q79.242 912.104 75.4226 912.104 L71.3949 912.104 L71.3949 908.261 L75.6078 908.261 Q79.0569 908.261 80.8855 906.896 Q82.7142 905.507 82.7142 902.914 Q82.7142 900.252 80.8161 898.84 Q78.9411 897.405 75.4226 897.405 Q73.5013 897.405 71.3023 897.822 Q69.1032 898.238 66.4643 899.118 L66.4643 894.951 Q69.1264 894.211 71.4412 893.84 Q73.7791 893.47 75.8393 893.47 Q81.1633 893.47 84.2652 895.9 Q87.367 898.308 87.367 902.428 Q87.367 905.298 85.7235 907.289 Q84.08 909.257 81.0476 910.021 Z\" fill=\"#000000\" fill-rule=\"evenodd\" fill-opacity=\"1\" /><path clip-path=\"url(#clip190)\" d=\"M 0 0 M93.2466 922.775 L98.1308 922.775 L98.1308 928.655 L93.2466 928.655 L93.2466 922.775 Z\" fill=\"#000000\" fill-rule=\"evenodd\" fill-opacity=\"1\" /><path clip-path=\"url(#clip190)\" d=\"M 0 0 M113.2 897.173 Q109.589 897.173 107.76 900.738 Q105.955 904.28 105.955 911.41 Q105.955 918.516 107.76 922.081 Q109.589 925.622 113.2 925.622 Q116.834 925.622 118.64 922.081 Q120.469 918.516 120.469 911.41 Q120.469 904.28 118.64 900.738 Q116.834 897.173 113.2 897.173 M113.2 893.47 Q119.01 893.47 122.066 898.076 Q125.145 902.66 125.145 911.41 Q125.145 920.136 122.066 924.743 Q119.01 929.326 113.2 929.326 Q107.39 929.326 104.311 924.743 Q101.256 920.136 101.256 911.41 Q101.256 902.66 104.311 898.076 Q107.39 893.47 113.2 893.47 Z\" fill=\"#000000\" fill-rule=\"evenodd\" fill-opacity=\"1\" /><path clip-path=\"url(#clip190)\" d=\"M 0 0 M158.385 903.192 L147.806 913.817 L158.385 924.396 L155.631 927.196 L145.006 916.572 L134.381 927.196 L131.649 924.396 L142.205 913.817 L131.649 903.192 L134.381 900.391 L145.006 911.016 L155.631 900.391 L158.385 903.192 Z\" fill=\"#000000\" fill-rule=\"evenodd\" fill-opacity=\"1\" /><path clip-path=\"url(#clip190)\" d=\"M 0 0 M164.265 924.72 L171.904 924.72 L171.904 898.354 L163.593 900.021 L163.593 895.761 L171.857 894.095 L176.533 894.095 L176.533 924.72 L184.172 924.72 L184.172 928.655 L164.265 928.655 L164.265 924.72 Z\" fill=\"#000000\" fill-rule=\"evenodd\" fill-opacity=\"1\" /><path clip-path=\"url(#clip190)\" d=\"M 0 0 M199.241 897.173 Q195.63 897.173 193.802 900.738 Q191.996 904.28 191.996 911.41 Q191.996 918.516 193.802 922.081 Q195.63 925.622 199.241 925.622 Q202.876 925.622 204.681 922.081 Q206.51 918.516 206.51 911.41 Q206.51 904.28 204.681 900.738 Q202.876 897.173 199.241 897.173 M199.241 893.47 Q205.052 893.47 208.107 898.076 Q211.186 902.66 211.186 911.41 Q211.186 920.136 208.107 924.743 Q205.052 929.326 199.241 929.326 Q193.431 929.326 190.353 924.743 Q187.297 920.136 187.297 911.41 Q187.297 902.66 190.353 898.076 Q193.431 893.47 199.241 893.47 Z\" fill=\"#000000\" fill-rule=\"evenodd\" fill-opacity=\"1\" /><path clip-path=\"url(#clip190)\" d=\"M 0 0 M212.371 873.164 L227.285 873.164 L227.285 876.362 L215.85 876.362 L215.85 883.245 Q216.678 882.963 217.505 882.832 Q218.333 882.681 219.16 882.681 Q223.862 882.681 226.608 885.258 Q229.354 887.834 229.354 892.235 Q229.354 896.768 226.533 899.288 Q223.712 901.79 218.577 901.79 Q216.809 901.79 214.966 901.489 Q213.142 901.188 211.186 900.586 L211.186 896.768 Q212.878 897.69 214.684 898.141 Q216.49 898.592 218.502 898.592 Q221.756 898.592 223.655 896.881 Q225.555 895.169 225.555 892.235 Q225.555 889.301 223.655 887.59 Q221.756 885.878 218.502 885.878 Q216.979 885.878 215.455 886.217 Q213.951 886.556 212.371 887.27 L212.371 873.164 Z\" fill=\"#000000\" fill-rule=\"evenodd\" fill-opacity=\"1\" /><path clip-path=\"url(#clip190)\" d=\"M 0 0 M82.0429 602.894 Q85.3994 603.611 87.2744 605.88 Q89.1725 608.148 89.1725 611.482 Q89.1725 616.597 85.654 619.398 Q82.1355 622.199 75.6541 622.199 Q73.4782 622.199 71.1634 621.759 Q68.8717 621.343 66.418 620.486 L66.418 615.972 Q68.3625 617.107 70.6773 617.685 Q72.9921 618.264 75.5152 618.264 Q79.9133 618.264 82.205 616.528 Q84.5198 614.792 84.5198 611.482 Q84.5198 608.426 82.367 606.713 Q80.2374 604.977 76.418 604.977 L72.3902 604.977 L72.3902 601.134 L76.6032 601.134 Q80.0522 601.134 81.8809 599.769 Q83.7096 598.38 83.7096 595.787 Q83.7096 593.125 81.8115 591.713 Q79.9365 590.278 76.418 590.278 Q74.4967 590.278 72.2976 590.695 Q70.0986 591.111 67.4597 591.991 L67.4597 587.824 Q70.1217 587.084 72.4365 586.713 Q74.7745 586.343 76.8346 586.343 Q82.1587 586.343 85.2605 588.773 Q88.3624 591.181 88.3624 595.301 Q88.3624 598.171 86.7189 600.162 Q85.0753 602.13 82.0429 602.894 Z\" fill=\"#000000\" fill-rule=\"evenodd\" fill-opacity=\"1\" /><path clip-path=\"url(#clip190)\" d=\"M 0 0 M94.242 615.648 L99.1262 615.648 L99.1262 621.528 L94.242 621.528 L94.242 615.648 Z\" fill=\"#000000\" fill-rule=\"evenodd\" fill-opacity=\"1\" /><path clip-path=\"url(#clip190)\" d=\"M 0 0 M104.242 586.968 L122.598 586.968 L122.598 590.903 L108.524 590.903 L108.524 599.375 Q109.543 599.028 110.561 598.866 Q111.58 598.681 112.598 598.681 Q118.385 598.681 121.765 601.852 Q125.145 605.023 125.145 610.44 Q125.145 616.019 121.672 619.12 Q118.2 622.199 111.881 622.199 Q109.705 622.199 107.436 621.829 Q105.191 621.458 102.784 620.718 L102.784 616.019 Q104.867 617.153 107.089 617.708 Q109.311 618.264 111.788 618.264 Q115.793 618.264 118.131 616.158 Q120.469 614.051 120.469 610.44 Q120.469 606.829 118.131 604.722 Q115.793 602.616 111.788 602.616 Q109.913 602.616 108.038 603.033 Q106.186 603.449 104.242 604.329 L104.242 586.968 Z\" fill=\"#000000\" fill-rule=\"evenodd\" fill-opacity=\"1\" /><path clip-path=\"url(#clip190)\" d=\"M 0 0 M158.385 596.065 L147.806 606.69 L158.385 617.269 L155.631 620.07 L145.006 609.445 L134.381 620.07 L131.649 617.269 L142.205 606.69 L131.649 596.065 L134.381 593.264 L145.006 603.889 L155.631 593.264 L158.385 596.065 Z\" fill=\"#000000\" fill-rule=\"evenodd\" fill-opacity=\"1\" /><path clip-path=\"url(#clip190)\" d=\"M 0 0 M164.265 617.593 L171.904 617.593 L171.904 591.227 L163.593 592.894 L163.593 588.635 L171.857 586.968 L176.533 586.968 L176.533 617.593 L184.172 617.593 L184.172 621.528 L164.265 621.528 L164.265 617.593 Z\" fill=\"#000000\" fill-rule=\"evenodd\" fill-opacity=\"1\" /><path clip-path=\"url(#clip190)\" d=\"M 0 0 M199.241 590.047 Q195.63 590.047 193.802 593.611 Q191.996 597.153 191.996 604.283 Q191.996 611.389 193.802 614.954 Q195.63 618.495 199.241 618.495 Q202.876 618.495 204.681 614.954 Q206.51 611.389 206.51 604.283 Q206.51 597.153 204.681 593.611 Q202.876 590.047 199.241 590.047 M199.241 586.343 Q205.052 586.343 208.107 590.949 Q211.186 595.533 211.186 604.283 Q211.186 613.009 208.107 617.616 Q205.052 622.199 199.241 622.199 Q193.431 622.199 190.353 617.616 Q187.297 613.009 187.297 604.283 Q187.297 595.533 190.353 590.949 Q193.431 586.343 199.241 586.343 Z\" fill=\"#000000\" fill-rule=\"evenodd\" fill-opacity=\"1\" /><path clip-path=\"url(#clip190)\" d=\"M 0 0 M212.371 566.037 L227.285 566.037 L227.285 569.235 L215.85 569.235 L215.85 576.118 Q216.678 575.836 217.505 575.705 Q218.333 575.554 219.16 575.554 Q223.862 575.554 226.608 578.131 Q229.354 580.708 229.354 585.109 Q229.354 589.641 226.533 592.161 Q223.712 594.663 218.577 594.663 Q216.809 594.663 214.966 594.362 Q213.142 594.061 211.186 593.459 L211.186 589.641 Q212.878 590.563 214.684 591.014 Q216.49 591.466 218.502 591.466 Q221.756 591.466 223.655 589.754 Q225.555 588.043 225.555 585.109 Q225.555 582.175 223.655 580.463 Q221.756 578.751 218.502 578.751 Q216.979 578.751 215.455 579.09 Q213.951 579.429 212.371 580.143 L212.371 566.037 Z\" fill=\"#000000\" fill-rule=\"evenodd\" fill-opacity=\"1\" /><path clip-path=\"url(#clip190)\" d=\"M 0 0 M78.5939 283.915 L66.7884 302.364 L78.5939 302.364 L78.5939 283.915 M77.367 279.841 L83.2466 279.841 L83.2466 302.364 L88.1772 302.364 L88.1772 306.253 L83.2466 306.253 L83.2466 314.401 L78.5939 314.401 L78.5939 306.253 L62.9921 306.253 L62.9921 301.739 L77.367 279.841 Z\" fill=\"#000000\" fill-rule=\"evenodd\" fill-opacity=\"1\" /><path clip-path=\"url(#clip190)\" d=\"M 0 0 M93.2466 308.521 L98.1308 308.521 L98.1308 314.401 L93.2466 314.401 L93.2466 308.521 Z\" fill=\"#000000\" fill-rule=\"evenodd\" fill-opacity=\"1\" /><path clip-path=\"url(#clip190)\" d=\"M 0 0 M113.2 282.92 Q109.589 282.92 107.76 286.484 Q105.955 290.026 105.955 297.156 Q105.955 304.262 107.76 307.827 Q109.589 311.369 113.2 311.369 Q116.834 311.369 118.64 307.827 Q120.469 304.262 120.469 297.156 Q120.469 290.026 118.64 286.484 Q116.834 282.92 113.2 282.92 M113.2 279.216 Q119.01 279.216 122.066 283.822 Q125.145 288.406 125.145 297.156 Q125.145 305.882 122.066 310.489 Q119.01 315.072 113.2 315.072 Q107.39 315.072 104.311 310.489 Q101.256 305.882 101.256 297.156 Q101.256 288.406 104.311 283.822 Q107.39 279.216 113.2 279.216 Z\" fill=\"#000000\" fill-rule=\"evenodd\" fill-opacity=\"1\" /><path clip-path=\"url(#clip190)\" d=\"M 0 0 M158.385 288.938 L147.806 299.563 L158.385 310.142 L155.631 312.943 L145.006 302.318 L134.381 312.943 L131.649 310.142 L142.205 299.563 L131.649 288.938 L134.381 286.137 L145.006 296.762 L155.631 286.137 L158.385 288.938 Z\" fill=\"#000000\" fill-rule=\"evenodd\" fill-opacity=\"1\" /><path clip-path=\"url(#clip190)\" d=\"M 0 0 M164.265 310.466 L171.904 310.466 L171.904 284.1 L163.593 285.767 L163.593 281.508 L171.857 279.841 L176.533 279.841 L176.533 310.466 L184.172 310.466 L184.172 314.401 L164.265 314.401 L164.265 310.466 Z\" fill=\"#000000\" fill-rule=\"evenodd\" fill-opacity=\"1\" /><path clip-path=\"url(#clip190)\" d=\"M 0 0 M199.241 282.92 Q195.63 282.92 193.802 286.484 Q191.996 290.026 191.996 297.156 Q191.996 304.262 193.802 307.827 Q195.63 311.369 199.241 311.369 Q202.876 311.369 204.681 307.827 Q206.51 304.262 206.51 297.156 Q206.51 290.026 204.681 286.484 Q202.876 282.92 199.241 282.92 M199.241 279.216 Q205.052 279.216 208.107 283.822 Q211.186 288.406 211.186 297.156 Q211.186 305.882 208.107 310.489 Q205.052 315.072 199.241 315.072 Q193.431 315.072 190.353 310.489 Q187.297 305.882 187.297 297.156 Q187.297 288.406 190.353 283.822 Q193.431 279.216 199.241 279.216 Z\" fill=\"#000000\" fill-rule=\"evenodd\" fill-opacity=\"1\" /><path clip-path=\"url(#clip190)\" d=\"M 0 0 M212.371 258.911 L227.285 258.911 L227.285 262.108 L215.85 262.108 L215.85 268.991 Q216.678 268.709 217.505 268.578 Q218.333 268.427 219.16 268.427 Q223.862 268.427 226.608 271.004 Q229.354 273.581 229.354 277.982 Q229.354 282.514 226.533 285.034 Q223.712 287.536 218.577 287.536 Q216.809 287.536 214.966 287.235 Q213.142 286.934 211.186 286.332 L211.186 282.514 Q212.878 283.436 214.684 283.887 Q216.49 284.339 218.502 284.339 Q221.756 284.339 223.655 282.627 Q225.555 280.916 225.555 277.982 Q225.555 275.048 223.655 273.336 Q221.756 271.625 218.502 271.625 Q216.979 271.625 215.455 271.963 Q213.951 272.302 212.371 273.016 L212.371 258.911 Z\" fill=\"#000000\" fill-rule=\"evenodd\" fill-opacity=\"1\" /><circle clip-path=\"url(#clip192)\" cx=\"312.771\" cy=\"1445.72\" r=\"14\" fill=\"#009af9\" fill-rule=\"evenodd\" fill-opacity=\"1\" stroke=\"#000000\" stroke-opacity=\"1\" stroke-width=\"3.2\"/>\n<circle clip-path=\"url(#clip192)\" cx=\"532.834\" cy=\"1370.42\" r=\"14\" fill=\"#009af9\" fill-rule=\"evenodd\" fill-opacity=\"1\" stroke=\"#000000\" stroke-opacity=\"1\" stroke-width=\"3.2\"/>\n<circle clip-path=\"url(#clip192)\" cx=\"752.897\" cy=\"1304.9\" r=\"14\" fill=\"#009af9\" fill-rule=\"evenodd\" fill-opacity=\"1\" stroke=\"#000000\" stroke-opacity=\"1\" stroke-width=\"3.2\"/>\n<circle clip-path=\"url(#clip192)\" cx=\"972.96\" cy=\"1288.8\" r=\"14\" fill=\"#009af9\" fill-rule=\"evenodd\" fill-opacity=\"1\" stroke=\"#000000\" stroke-opacity=\"1\" stroke-width=\"3.2\"/>\n<circle clip-path=\"url(#clip192)\" cx=\"1193.02\" cy=\"1277.94\" r=\"14\" fill=\"#009af9\" fill-rule=\"evenodd\" fill-opacity=\"1\" stroke=\"#000000\" stroke-opacity=\"1\" stroke-width=\"3.2\"/>\n<circle clip-path=\"url(#clip192)\" cx=\"1413.09\" cy=\"1275.8\" r=\"14\" fill=\"#009af9\" fill-rule=\"evenodd\" fill-opacity=\"1\" stroke=\"#000000\" stroke-opacity=\"1\" stroke-width=\"3.2\"/>\n<circle clip-path=\"url(#clip192)\" cx=\"1633.15\" cy=\"1203.62\" r=\"14\" fill=\"#009af9\" fill-rule=\"evenodd\" fill-opacity=\"1\" stroke=\"#000000\" stroke-opacity=\"1\" stroke-width=\"3.2\"/>\n<circle clip-path=\"url(#clip192)\" cx=\"1853.21\" cy=\"1166.86\" r=\"14\" fill=\"#009af9\" fill-rule=\"evenodd\" fill-opacity=\"1\" stroke=\"#000000\" stroke-opacity=\"1\" stroke-width=\"3.2\"/>\n<circle clip-path=\"url(#clip192)\" cx=\"2073.28\" cy=\"1072.16\" r=\"14\" fill=\"#009af9\" fill-rule=\"evenodd\" fill-opacity=\"1\" stroke=\"#000000\" stroke-opacity=\"1\" stroke-width=\"3.2\"/>\n<circle clip-path=\"url(#clip192)\" cx=\"2293.34\" cy=\"706.583\" r=\"14\" fill=\"#009af9\" fill-rule=\"evenodd\" fill-opacity=\"1\" stroke=\"#000000\" stroke-opacity=\"1\" stroke-width=\"3.2\"/>\n<circle clip-path=\"url(#clip192)\" cx=\"312.771\" cy=\"803.853\" r=\"14\" fill=\"#e26f46\" fill-rule=\"evenodd\" fill-opacity=\"1\" stroke=\"#000000\" stroke-opacity=\"1\" stroke-width=\"3.2\"/>\n<circle clip-path=\"url(#clip192)\" cx=\"532.834\" cy=\"785.828\" r=\"14\" fill=\"#e26f46\" fill-rule=\"evenodd\" fill-opacity=\"1\" stroke=\"#000000\" stroke-opacity=\"1\" stroke-width=\"3.2\"/>\n<circle clip-path=\"url(#clip192)\" cx=\"752.897\" cy=\"559.42\" r=\"14\" fill=\"#e26f46\" fill-rule=\"evenodd\" fill-opacity=\"1\" stroke=\"#000000\" stroke-opacity=\"1\" stroke-width=\"3.2\"/>\n<circle clip-path=\"url(#clip192)\" cx=\"972.96\" cy=\"539.565\" r=\"14\" fill=\"#e26f46\" fill-rule=\"evenodd\" fill-opacity=\"1\" stroke=\"#000000\" stroke-opacity=\"1\" stroke-width=\"3.2\"/>\n<circle clip-path=\"url(#clip192)\" cx=\"1193.02\" cy=\"534.584\" r=\"14\" fill=\"#e26f46\" fill-rule=\"evenodd\" fill-opacity=\"1\" stroke=\"#000000\" stroke-opacity=\"1\" stroke-width=\"3.2\"/>\n<circle clip-path=\"url(#clip192)\" cx=\"1413.09\" cy=\"534.435\" r=\"14\" fill=\"#e26f46\" fill-rule=\"evenodd\" fill-opacity=\"1\" stroke=\"#000000\" stroke-opacity=\"1\" stroke-width=\"3.2\"/>\n<circle clip-path=\"url(#clip192)\" cx=\"1633.15\" cy=\"459.653\" r=\"14\" fill=\"#e26f46\" fill-rule=\"evenodd\" fill-opacity=\"1\" stroke=\"#000000\" stroke-opacity=\"1\" stroke-width=\"3.2\"/>\n<circle clip-path=\"url(#clip192)\" cx=\"1853.21\" cy=\"456.963\" r=\"14\" fill=\"#e26f46\" fill-rule=\"evenodd\" fill-opacity=\"1\" stroke=\"#000000\" stroke-opacity=\"1\" stroke-width=\"3.2\"/>\n<circle clip-path=\"url(#clip192)\" cx=\"2073.28\" cy=\"289.354\" r=\"14\" fill=\"#e26f46\" fill-rule=\"evenodd\" fill-opacity=\"1\" stroke=\"#000000\" stroke-opacity=\"1\" stroke-width=\"3.2\"/>\n<circle clip-path=\"url(#clip192)\" cx=\"2293.34\" cy=\"87.9763\" r=\"14\" fill=\"#e26f46\" fill-rule=\"evenodd\" fill-opacity=\"1\" stroke=\"#000000\" stroke-opacity=\"1\" stroke-width=\"3.2\"/>\n<path clip-path=\"url(#clip190)\" d=\"\nM1998.49 276.658 L2282.78 276.658 L2282.78 95.2176 L1998.49 95.2176  Z\n  \" fill=\"#ffffff\" fill-rule=\"evenodd\" fill-opacity=\"1\"/>\n<polyline clip-path=\"url(#clip190)\" style=\"stroke:#000000; stroke-width:4; stroke-opacity:1; fill:none\" points=\"\n  1998.49,276.658 2282.78,276.658 2282.78,95.2176 1998.49,95.2176 1998.49,276.658 \n  \"/>\n<circle clip-path=\"url(#clip190)\" cx=\"2091.8\" cy=\"155.698\" r=\"23\" fill=\"#009af9\" fill-rule=\"evenodd\" fill-opacity=\"1\" stroke=\"#000000\" stroke-opacity=\"1\" stroke-width=\"5.12\"/>\n<path clip-path=\"url(#clip190)\" d=\"M 0 0 M2198.95 175.385 Q2197.14 180.015 2195.43 181.427 Q2193.72 182.839 2190.84 182.839 L2187.44 182.839 L2187.44 179.274 L2189.94 179.274 Q2191.7 179.274 2192.67 178.44 Q2193.65 177.607 2194.83 174.505 L2195.59 172.561 L2185.1 147.052 L2189.62 147.052 L2197.72 167.329 L2205.82 147.052 L2210.34 147.052 L2198.95 175.385 Z\" fill=\"#000000\" fill-rule=\"evenodd\" fill-opacity=\"1\" /><path clip-path=\"url(#clip190)\" d=\"M 0 0 M2216.22 169.042 L2223.85 169.042 L2223.85 142.677 L2215.54 144.343 L2215.54 140.084 L2223.81 138.418 L2228.48 138.418 L2228.48 169.042 L2236.12 169.042 L2236.12 172.978 L2216.22 172.978 L2216.22 169.042 Z\" fill=\"#000000\" fill-rule=\"evenodd\" fill-opacity=\"1\" /><circle clip-path=\"url(#clip190)\" cx=\"2091.8\" cy=\"216.178\" r=\"23\" fill=\"#e26f46\" fill-rule=\"evenodd\" fill-opacity=\"1\" stroke=\"#000000\" stroke-opacity=\"1\" stroke-width=\"5.12\"/>\n<path clip-path=\"url(#clip190)\" d=\"M 0 0 M2198.95 235.865 Q2197.14 240.495 2195.43 241.907 Q2193.72 243.319 2190.84 243.319 L2187.44 243.319 L2187.44 239.754 L2189.94 239.754 Q2191.7 239.754 2192.67 238.92 Q2193.65 238.087 2194.83 234.985 L2195.59 233.041 L2185.1 207.532 L2189.62 207.532 L2197.72 227.809 L2205.82 207.532 L2210.34 207.532 L2198.95 235.865 Z\" fill=\"#000000\" fill-rule=\"evenodd\" fill-opacity=\"1\" /><path clip-path=\"url(#clip190)\" d=\"M 0 0 M2219.43 229.522 L2235.75 229.522 L2235.75 233.458 L2213.81 233.458 L2213.81 229.522 Q2216.47 226.768 2221.05 222.138 Q2225.66 217.485 2226.84 216.143 Q2229.09 213.62 2229.97 211.884 Q2230.87 210.124 2230.87 208.435 Q2230.87 205.68 2228.92 203.944 Q2227 202.208 2223.9 202.208 Q2221.7 202.208 2219.25 202.972 Q2216.82 203.735 2214.04 205.286 L2214.04 200.564 Q2216.86 199.43 2219.32 198.851 Q2221.77 198.273 2223.81 198.273 Q2229.18 198.273 2232.37 200.958 Q2235.57 203.643 2235.57 208.134 Q2235.57 210.263 2234.76 212.185 Q2233.97 214.083 2231.86 216.675 Q2231.28 217.347 2228.18 220.564 Q2225.08 223.759 2219.43 229.522 Z\" fill=\"#000000\" fill-rule=\"evenodd\" fill-opacity=\"1\" /></svg>\n"
     },
     "metadata": {},
     "execution_count": 10
    }
   ],
   "source": [
    "plot(1:10, b_altro.times, seriestype=:scatter)\n",
    "plot!(1:10, b_osqp.times, seriestype=:scatter)"
   ]
  },
  {
   "cell_type": "code",
   "execution_count": null,
   "metadata": {},
   "outputs": [],
   "source": []
  }
 ],
 "metadata": {
  "kernelspec": {
   "display_name": "Julia 1.4.1",
   "language": "julia",
   "name": "julia-1.4"
  }
 },
 "nbformat": 4,
 "nbformat_minor": 4
}