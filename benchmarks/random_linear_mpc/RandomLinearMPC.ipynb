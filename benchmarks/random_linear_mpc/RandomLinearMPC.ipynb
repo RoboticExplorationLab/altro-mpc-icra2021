{
 "cells": [
  {
   "cell_type": "code",
   "execution_count": 123,
   "metadata": {
    "scrolled": true
   },
   "outputs": [
    {
     "name": "stderr",
     "output_type": "stream",
     "text": [
      "\u001b[32m\u001b[1m Activating\u001b[22m\u001b[39m environment at `~/Research/altro-mpc-icra2021/benchmarks/random_linear_mpc/Project.toml`\n"
     ]
    }
   ],
   "source": [
    "using Pkg\n",
    "Pkg.activate(\".\")\n",
    "Pkg.instantiate()"
   ]
  },
  {
   "cell_type": "markdown",
   "metadata": {},
   "source": [
    "# Generate Random Problem"
   ]
  },
  {
   "cell_type": "code",
   "execution_count": 124,
   "metadata": {},
   "outputs": [],
   "source": [
    "include(\"random_linear.jl\")\n",
    "\n",
    "# using ControlSystems\n",
    "\n",
    "n = 12\n",
    "m = Int(n/2)\n",
    "N = 10\n",
    "A,B = gendiscrete(n,m)\n",
    "\n",
    "Q = Diagonal(10*rand(n))\n",
    "R = Diagonal(0.1*ones(m))\n",
    "\n",
    "Qf = Q #dare(A, B, Q, R)\n",
    "\n",
    "x̄ = rand(n) .+ 1\n",
    "ū = 0.1*rand(m)\n",
    "x0 = (rand(n) .- 1) .* x̄ * 0.5\n",
    "x0_warm = (rand(n) .- 1) .* x̄ * 0.5\n",
    "xf = zeros(n)\n",
    "\n",
    "tol = 1e-6\n",
    "\n",
    "nothing"
   ]
  },
  {
   "cell_type": "markdown",
   "metadata": {},
   "source": [
    "# Solve Using Altro"
   ]
  },
  {
   "cell_type": "code",
   "execution_count": 125,
   "metadata": {},
   "outputs": [
    {
     "name": "stdout",
     "output_type": "stream",
     "text": [
      "max_violation(solver) = 1.2417456289604e-7\n",
      "cost(solver) = 0.8592606301446825\n"
     ]
    },
    {
     "data": {
      "text/plain": [
       "BenchmarkTools.Trial: \n",
       "  memory estimate:  0 bytes\n",
       "  allocs estimate:  0\n",
       "  --------------\n",
       "  minimum time:     1.280 ms (0.00% GC)\n",
       "  median time:      1.362 ms (0.00% GC)\n",
       "  mean time:        1.425 ms (0.00% GC)\n",
       "  maximum time:     1.793 ms (0.00% GC)\n",
       "  --------------\n",
       "  samples:          10\n",
       "  evals/sample:     10"
      ]
     },
     "execution_count": 125,
     "metadata": {},
     "output_type": "execute_result"
    }
   ],
   "source": [
    "using Altro\n",
    "using TrajectoryOptimization\n",
    "using RobotDynamics\n",
    "\n",
    "const RD = RobotDynamics\n",
    "\n",
    "dt = 0.1 # doesn't matter, just needs to be non-zero\n",
    "model = RD.LinearModel(A, B; dt=dt)\n",
    "objective = LQRObjective(Q, R, Qf, xf, N)\n",
    "\n",
    "constraints = ConstraintList(n, m, N)\n",
    "bound = BoundConstraint(n, m, x_min=-x̄, x_max=x̄, u_min=-ū, u_max=ū)\n",
    "add_constraint!(constraints, bound, 1:N)\n",
    "\n",
    "tf = (N-1)*dt\n",
    "\n",
    "problem = Problem(model, objective, xf, tf, x0=x0, constraints=constraints, integration=RD.PassThrough)\n",
    "solver = ALTROSolver(problem)\n",
    "set_options!(solver, projected_newton=false)\n",
    "solve!(solver)\n",
    "\n",
    "X_altro = states(solver)\n",
    "U_altro = controls(solver)\n",
    "\n",
    "b = benchmark_solve!(solver)\n",
    "\n",
    "@show max_violation(solver)\n",
    "@show cost(solver)\n",
    "b"
   ]
  },
  {
   "cell_type": "code",
   "execution_count": 126,
   "metadata": {},
   "outputs": [
    {
     "data": {
      "text/plain": [
       "BenchmarkTools.Trial: \n",
       "  memory estimate:  0 bytes\n",
       "  allocs estimate:  0\n",
       "  --------------\n",
       "  minimum time:     306.544 μs (0.00% GC)\n",
       "  median time:      321.022 μs (0.00% GC)\n",
       "  mean time:        333.448 μs (0.00% GC)\n",
       "  maximum time:     435.329 μs (0.00% GC)\n",
       "  --------------\n",
       "  samples:          10\n",
       "  evals/sample:     10"
      ]
     },
     "execution_count": 126,
     "metadata": {},
     "output_type": "execute_result"
    }
   ],
   "source": [
    "initial_controls!(solver, U_altro)\n",
    "initial_states!(solver, X_altro)\n",
    "set_options!(solver, reset_duals=false)\n",
    "\n",
    "# update x0 to see warmstarted solution:\n",
    "solver.solver_al.solver_uncon.x0 .= x0_warm\n",
    "\n",
    "b = benchmark_solve!(solver)\n",
    "b"
   ]
  },
  {
   "cell_type": "markdown",
   "metadata": {},
   "source": [
    "# Solve Using OSQP"
   ]
  },
  {
   "cell_type": "code",
   "execution_count": 127,
   "metadata": {},
   "outputs": [
    {
     "name": "stdout",
     "output_type": "stream",
     "text": [
      "objective_value(jump_model) = 8.591561492044914\n"
     ]
    },
    {
     "data": {
      "text/plain": [
       "BenchmarkTools.Trial: \n",
       "  memory estimate:  4.16 KiB\n",
       "  allocs estimate:  193\n",
       "  --------------\n",
       "  minimum time:     417.231 μs (0.00% GC)\n",
       "  median time:      424.102 μs (0.00% GC)\n",
       "  mean time:        436.976 μs (0.00% GC)\n",
       "  maximum time:     510.581 μs (0.00% GC)\n",
       "  --------------\n",
       "  samples:          10\n",
       "  evals/sample:     10"
      ]
     },
     "execution_count": 127,
     "metadata": {},
     "output_type": "execute_result"
    }
   ],
   "source": [
    "using ParameterJuMP\n",
    "using OSQP\n",
    "using BenchmarkTools\n",
    "\n",
    "select(i, n) = (n*(i-1)+1):(n*(i-1)+n)\n",
    "\n",
    "jump_model = ModelWithParams(\n",
    "    optimizer_with_attributes(\n",
    "        OSQP.Optimizer, \"eps_abs\" => tol, \"eps_rel\" => tol, \"eps_prim_inf\" => tol, \"eps_dual_inf\" => tol \n",
    "    )\n",
    ")\n",
    "set_silent(jump_model)\n",
    "\n",
    "x0_param = [add_parameter(jump_model, x0[i]) for i in 1:n]\n",
    "\n",
    "@variable(jump_model, x[1:((N)*n)])\n",
    "@variable(jump_model, u[1:((N-1)*n)])\n",
    "\n",
    "objective_exp = @expression(jump_model, 0.5*transpose(x[select(N, n)]) * Qf * x[select(N, n)])\n",
    "\n",
    "@constraint(jump_model, initial_value_constraint, x[select(1, n)] .== x0_param)\n",
    "\n",
    "for i=1:N-1\n",
    "    # dynamics constraints\n",
    "    @constraint(jump_model, A*x[select(i, n)] + B*u[select(i, m)] .== x[select(i+1, n)])\n",
    "\n",
    "    # stagewise state cost\n",
    "    add_to_expression!(objective_exp, 0.5*transpose(x[select(i, n)]) * Q * x[select(i, n)])\n",
    "\n",
    "    # stagewise control cost\n",
    "    add_to_expression!(objective_exp, 0.5*transpose(u[select(i, m)]) * R * u[select(i, m)])\n",
    "\n",
    "    # control/state bound constraints\n",
    "    @constraint(jump_model, x[select(i, n)] .<= x̄)\n",
    "    @constraint(jump_model, x[select(i, n)] .>= -x̄)\n",
    "    @constraint(jump_model, u[select(i, m)] .<= ū)\n",
    "    @constraint(jump_model, u[select(i, m)] .>= -ū)\n",
    "end\n",
    "\n",
    "@objective(jump_model, Min, objective_exp)\n",
    "\n",
    "optimize!(jump_model)\n",
    "\n",
    "X_osqp = [value.(x)[select(i, n)] for i=1:N]\n",
    "U_osqp = [value.(u)[select(i, m)] for i=1:N-1]\n",
    "\n",
    "@show objective_value(jump_model)\n",
    "\n",
    "@benchmark optimize!($jump_model) samples=10 evals=10"
   ]
  },
  {
   "cell_type": "code",
   "execution_count": 128,
   "metadata": {},
   "outputs": [
    {
     "data": {
      "text/plain": [
       "BenchmarkTools.Trial: \n",
       "  memory estimate:  4.16 KiB\n",
       "  allocs estimate:  193\n",
       "  --------------\n",
       "  minimum time:     343.162 μs (0.00% GC)\n",
       "  median time:      355.791 μs (0.00% GC)\n",
       "  mean time:        359.132 μs (0.00% GC)\n",
       "  maximum time:     375.817 μs (0.00% GC)\n",
       "  --------------\n",
       "  samples:          10\n",
       "  evals/sample:     10"
      ]
     },
     "execution_count": 128,
     "metadata": {},
     "output_type": "execute_result"
    }
   ],
   "source": [
    "# update x0 to see warmstart\n",
    "fix.(x0_param, x0_warm)\n",
    "\n",
    "set_start_value.(x, value.(x))\n",
    "\n",
    "@benchmark optimize!($jump_model) samples=10 evals=10"
   ]
  },
  {
   "cell_type": "code",
   "execution_count": 120,
   "metadata": {},
   "outputs": [
    {
     "ename": "AssertionError",
     "evalue": "AssertionError: value.(x)[select(1, n)] ≈ x0",
     "output_type": "error",
     "traceback": [
      "AssertionError: value.(x)[select(1, n)] ≈ x0",
      "",
      "Stacktrace:",
      " [1] top-level scope at In[120]:2"
     ]
    }
   ],
   "source": [
    "@assert X_altro[1] ≈ x0\n",
    "@assert value.(x)[select(1, n)] ≈ x0"
   ]
  },
  {
   "cell_type": "code",
   "execution_count": 121,
   "metadata": {},
   "outputs": [
    {
     "data": {
      "image/svg+xml": [
       "<?xml version=\"1.0\" encoding=\"utf-8\"?>\n",
       "<svg xmlns=\"http://www.w3.org/2000/svg\" xmlns:xlink=\"http://www.w3.org/1999/xlink\" width=\"600\" height=\"400\" viewBox=\"0 0 2400 1600\">\n",
       "<defs>\n",
       "  <clipPath id=\"clip200\">\n",
       "    <rect x=\"0\" y=\"0\" width=\"2400\" height=\"1600\"/>\n",
       "  </clipPath>\n",
       "</defs>\n",
       "<path clip-path=\"url(#clip200)\" d=\"\n",
       "M0 1600 L2400 1600 L2400 0 L0 0  Z\n",
       "  \" fill=\"#ffffff\" fill-rule=\"evenodd\" fill-opacity=\"1\"/>\n",
       "<defs>\n",
       "  <clipPath id=\"clip201\">\n",
       "    <rect x=\"480\" y=\"0\" width=\"1681\" height=\"1600\"/>\n",
       "  </clipPath>\n",
       "</defs>\n",
       "<path clip-path=\"url(#clip200)\" d=\"\n",
       "M208.149 1486.45 L2352.76 1486.45 L2352.76 47.2441 L208.149 47.2441  Z\n",
       "  \" fill=\"#ffffff\" fill-rule=\"evenodd\" fill-opacity=\"1\"/>\n",
       "<defs>\n",
       "  <clipPath id=\"clip202\">\n",
       "    <rect x=\"208\" y=\"47\" width=\"2146\" height=\"1440\"/>\n",
       "  </clipPath>\n",
       "</defs>\n",
       "<polyline clip-path=\"url(#clip202)\" style=\"stroke:#000000; stroke-width:2; stroke-opacity:0.1; fill:none\" points=\"\n",
       "  629.762,1486.45 629.762,47.2441 \n",
       "  \"/>\n",
       "<polyline clip-path=\"url(#clip202)\" style=\"stroke:#000000; stroke-width:2; stroke-opacity:0.1; fill:none\" points=\"\n",
       "  1063.56,1486.45 1063.56,47.2441 \n",
       "  \"/>\n",
       "<polyline clip-path=\"url(#clip202)\" style=\"stroke:#000000; stroke-width:2; stroke-opacity:0.1; fill:none\" points=\"\n",
       "  1497.35,1486.45 1497.35,47.2441 \n",
       "  \"/>\n",
       "<polyline clip-path=\"url(#clip202)\" style=\"stroke:#000000; stroke-width:2; stroke-opacity:0.1; fill:none\" points=\"\n",
       "  1931.14,1486.45 1931.14,47.2441 \n",
       "  \"/>\n",
       "<polyline clip-path=\"url(#clip202)\" style=\"stroke:#000000; stroke-width:2; stroke-opacity:0.1; fill:none\" points=\"\n",
       "  208.149,1335.49 2352.76,1335.49 \n",
       "  \"/>\n",
       "<polyline clip-path=\"url(#clip202)\" style=\"stroke:#000000; stroke-width:2; stroke-opacity:0.1; fill:none\" points=\"\n",
       "  208.149,1041.79 2352.76,1041.79 \n",
       "  \"/>\n",
       "<polyline clip-path=\"url(#clip202)\" style=\"stroke:#000000; stroke-width:2; stroke-opacity:0.1; fill:none\" points=\"\n",
       "  208.149,748.085 2352.76,748.085 \n",
       "  \"/>\n",
       "<polyline clip-path=\"url(#clip202)\" style=\"stroke:#000000; stroke-width:2; stroke-opacity:0.1; fill:none\" points=\"\n",
       "  208.149,454.382 2352.76,454.382 \n",
       "  \"/>\n",
       "<polyline clip-path=\"url(#clip202)\" style=\"stroke:#000000; stroke-width:2; stroke-opacity:0.1; fill:none\" points=\"\n",
       "  208.149,160.678 2352.76,160.678 \n",
       "  \"/>\n",
       "<polyline clip-path=\"url(#clip200)\" style=\"stroke:#000000; stroke-width:4; stroke-opacity:1; fill:none\" points=\"\n",
       "  208.149,1486.45 2352.76,1486.45 \n",
       "  \"/>\n",
       "<polyline clip-path=\"url(#clip200)\" style=\"stroke:#000000; stroke-width:4; stroke-opacity:1; fill:none\" points=\"\n",
       "  208.149,1486.45 208.149,47.2441 \n",
       "  \"/>\n",
       "<polyline clip-path=\"url(#clip200)\" style=\"stroke:#000000; stroke-width:4; stroke-opacity:1; fill:none\" points=\"\n",
       "  629.762,1486.45 629.762,1469.18 \n",
       "  \"/>\n",
       "<polyline clip-path=\"url(#clip200)\" style=\"stroke:#000000; stroke-width:4; stroke-opacity:1; fill:none\" points=\"\n",
       "  1063.56,1486.45 1063.56,1469.18 \n",
       "  \"/>\n",
       "<polyline clip-path=\"url(#clip200)\" style=\"stroke:#000000; stroke-width:4; stroke-opacity:1; fill:none\" points=\"\n",
       "  1497.35,1486.45 1497.35,1469.18 \n",
       "  \"/>\n",
       "<polyline clip-path=\"url(#clip200)\" style=\"stroke:#000000; stroke-width:4; stroke-opacity:1; fill:none\" points=\"\n",
       "  1931.14,1486.45 1931.14,1469.18 \n",
       "  \"/>\n",
       "<polyline clip-path=\"url(#clip200)\" style=\"stroke:#000000; stroke-width:4; stroke-opacity:1; fill:none\" points=\"\n",
       "  208.149,1335.49 233.884,1335.49 \n",
       "  \"/>\n",
       "<polyline clip-path=\"url(#clip200)\" style=\"stroke:#000000; stroke-width:4; stroke-opacity:1; fill:none\" points=\"\n",
       "  208.149,1041.79 233.884,1041.79 \n",
       "  \"/>\n",
       "<polyline clip-path=\"url(#clip200)\" style=\"stroke:#000000; stroke-width:4; stroke-opacity:1; fill:none\" points=\"\n",
       "  208.149,748.085 233.884,748.085 \n",
       "  \"/>\n",
       "<polyline clip-path=\"url(#clip200)\" style=\"stroke:#000000; stroke-width:4; stroke-opacity:1; fill:none\" points=\"\n",
       "  208.149,454.382 233.884,454.382 \n",
       "  \"/>\n",
       "<polyline clip-path=\"url(#clip200)\" style=\"stroke:#000000; stroke-width:4; stroke-opacity:1; fill:none\" points=\"\n",
       "  208.149,160.678 233.884,160.678 \n",
       "  \"/>\n",
       "<path clip-path=\"url(#clip200)\" d=\"M 0 0 M624.415 1535.98 L640.734 1535.98 L640.734 1539.92 L618.79 1539.92 L618.79 1535.98 Q621.452 1533.23 626.035 1528.6 Q630.641 1523.95 631.822 1522.61 Q634.067 1520.08 634.947 1518.35 Q635.85 1516.59 635.85 1514.9 Q635.85 1512.14 633.905 1510.41 Q631.984 1508.67 628.882 1508.67 Q626.683 1508.67 624.229 1509.43 Q621.799 1510.2 619.021 1511.75 L619.021 1507.03 Q621.845 1505.89 624.299 1505.31 Q626.752 1504.73 628.79 1504.73 Q634.16 1504.73 637.354 1507.42 Q640.549 1510.11 640.549 1514.6 Q640.549 1516.73 639.739 1518.65 Q638.951 1520.54 636.845 1523.14 Q636.266 1523.81 633.164 1527.03 Q630.063 1530.22 624.415 1535.98 Z\" fill=\"#000000\" fill-rule=\"evenodd\" fill-opacity=\"1\" /><path clip-path=\"url(#clip200)\" d=\"M 0 0 M1066.56 1509.43 L1054.76 1527.88 L1066.56 1527.88 L1066.56 1509.43 M1065.34 1505.36 L1071.22 1505.36 L1071.22 1527.88 L1076.15 1527.88 L1076.15 1531.77 L1071.22 1531.77 L1071.22 1539.92 L1066.56 1539.92 L1066.56 1531.77 L1050.96 1531.77 L1050.96 1527.26 L1065.34 1505.36 Z\" fill=\"#000000\" fill-rule=\"evenodd\" fill-opacity=\"1\" /><path clip-path=\"url(#clip200)\" d=\"M 0 0 M1497.75 1520.78 Q1494.61 1520.78 1492.75 1522.93 Q1490.93 1525.08 1490.93 1528.83 Q1490.93 1532.56 1492.75 1534.73 Q1494.61 1536.89 1497.75 1536.89 Q1500.9 1536.89 1502.73 1534.73 Q1504.58 1532.56 1504.58 1528.83 Q1504.58 1525.08 1502.73 1522.93 Q1500.9 1520.78 1497.75 1520.78 M1507.04 1506.12 L1507.04 1510.38 Q1505.28 1509.55 1503.47 1509.11 Q1501.69 1508.67 1499.93 1508.67 Q1495.3 1508.67 1492.85 1511.8 Q1490.42 1514.92 1490.07 1521.24 Q1491.43 1519.23 1493.5 1518.16 Q1495.56 1517.07 1498.03 1517.07 Q1503.24 1517.07 1506.25 1520.24 Q1509.28 1523.39 1509.28 1528.83 Q1509.28 1534.16 1506.13 1537.37 Q1502.99 1540.59 1497.75 1540.59 Q1491.76 1540.59 1488.59 1536.01 Q1485.42 1531.4 1485.42 1522.67 Q1485.42 1514.48 1489.31 1509.62 Q1493.19 1504.73 1499.75 1504.73 Q1501.5 1504.73 1503.29 1505.08 Q1505.09 1505.43 1507.04 1506.12 Z\" fill=\"#000000\" fill-rule=\"evenodd\" fill-opacity=\"1\" /><path clip-path=\"url(#clip200)\" d=\"M 0 0 M1931.14 1523.51 Q1927.81 1523.51 1925.89 1525.29 Q1923.99 1527.07 1923.99 1530.2 Q1923.99 1533.32 1925.89 1535.11 Q1927.81 1536.89 1931.14 1536.89 Q1934.48 1536.89 1936.4 1535.11 Q1938.32 1533.3 1938.32 1530.2 Q1938.32 1527.07 1936.4 1525.29 Q1934.5 1523.51 1931.14 1523.51 M1926.47 1521.52 Q1923.46 1520.78 1921.77 1518.72 Q1920.1 1516.66 1920.1 1513.69 Q1920.1 1509.55 1923.04 1507.14 Q1926 1504.73 1931.14 1504.73 Q1936.31 1504.73 1939.24 1507.14 Q1942.18 1509.55 1942.18 1513.69 Q1942.18 1516.66 1940.49 1518.72 Q1938.83 1520.78 1935.84 1521.52 Q1939.22 1522.3 1941.1 1524.6 Q1942.99 1526.89 1942.99 1530.2 Q1942.99 1535.22 1939.92 1537.91 Q1936.86 1540.59 1931.14 1540.59 Q1925.43 1540.59 1922.35 1537.91 Q1919.29 1535.22 1919.29 1530.2 Q1919.29 1526.89 1921.19 1524.6 Q1923.09 1522.3 1926.47 1521.52 M1924.75 1514.13 Q1924.75 1516.82 1926.42 1518.32 Q1928.11 1519.83 1931.14 1519.83 Q1934.15 1519.83 1935.84 1518.32 Q1937.56 1516.82 1937.56 1514.13 Q1937.56 1511.45 1935.84 1509.94 Q1934.15 1508.44 1931.14 1508.44 Q1928.11 1508.44 1926.42 1509.94 Q1924.75 1511.45 1924.75 1514.13 Z\" fill=\"#000000\" fill-rule=\"evenodd\" fill-opacity=\"1\" /><path clip-path=\"url(#clip200)\" d=\"M 0 0 M62.9921 1335.94 L92.6679 1335.94 L92.6679 1339.88 L62.9921 1339.88 L62.9921 1335.94 Z\" fill=\"#000000\" fill-rule=\"evenodd\" fill-opacity=\"1\" /><path clip-path=\"url(#clip200)\" d=\"M 0 0 M107.737 1321.29 Q104.126 1321.29 102.297 1324.86 Q100.492 1328.4 100.492 1335.53 Q100.492 1342.63 102.297 1346.2 Q104.126 1349.74 107.737 1349.74 Q111.371 1349.74 113.177 1346.2 Q115.006 1342.63 115.006 1335.53 Q115.006 1328.4 113.177 1324.86 Q111.371 1321.29 107.737 1321.29 M107.737 1317.59 Q113.547 1317.59 116.603 1322.19 Q119.682 1326.78 119.682 1335.53 Q119.682 1344.25 116.603 1348.86 Q113.547 1353.44 107.737 1353.44 Q101.927 1353.44 98.8484 1348.86 Q95.7929 1344.25 95.7929 1335.53 Q95.7929 1326.78 98.8484 1322.19 Q101.927 1317.59 107.737 1317.59 Z\" fill=\"#000000\" fill-rule=\"evenodd\" fill-opacity=\"1\" /><path clip-path=\"url(#clip200)\" d=\"M 0 0 M124.751 1346.89 L129.635 1346.89 L129.635 1352.77 L124.751 1352.77 L124.751 1346.89 Z\" fill=\"#000000\" fill-rule=\"evenodd\" fill-opacity=\"1\" /><path clip-path=\"url(#clip200)\" d=\"M 0 0 M144.705 1321.29 Q141.094 1321.29 139.265 1324.86 Q137.459 1328.4 137.459 1335.53 Q137.459 1342.63 139.265 1346.2 Q141.094 1349.74 144.705 1349.74 Q148.339 1349.74 150.144 1346.2 Q151.973 1342.63 151.973 1335.53 Q151.973 1328.4 150.144 1324.86 Q148.339 1321.29 144.705 1321.29 M144.705 1317.59 Q150.515 1317.59 153.57 1322.19 Q156.649 1326.78 156.649 1335.53 Q156.649 1344.25 153.57 1348.86 Q150.515 1353.44 144.705 1353.44 Q138.894 1353.44 135.816 1348.86 Q132.76 1344.25 132.76 1335.53 Q132.76 1326.78 135.816 1322.19 Q138.894 1317.59 144.705 1317.59 Z\" fill=\"#000000\" fill-rule=\"evenodd\" fill-opacity=\"1\" /><path clip-path=\"url(#clip200)\" d=\"M 0 0 M174.566 1322.29 L162.76 1340.74 L174.566 1340.74 L174.566 1322.29 M173.339 1318.21 L179.218 1318.21 L179.218 1340.74 L184.149 1340.74 L184.149 1344.62 L179.218 1344.62 L179.218 1352.77 L174.566 1352.77 L174.566 1344.62 L158.964 1344.62 L158.964 1340.11 L173.339 1318.21 Z\" fill=\"#000000\" fill-rule=\"evenodd\" fill-opacity=\"1\" /><path clip-path=\"url(#clip200)\" d=\"M 0 0 M65.0754 1042.24 L94.7512 1042.24 L94.7512 1046.18 L65.0754 1046.18 L65.0754 1042.24 Z\" fill=\"#000000\" fill-rule=\"evenodd\" fill-opacity=\"1\" /><path clip-path=\"url(#clip200)\" d=\"M 0 0 M109.821 1027.59 Q106.209 1027.59 104.381 1031.15 Q102.575 1034.69 102.575 1041.82 Q102.575 1048.93 104.381 1052.49 Q106.209 1056.04 109.821 1056.04 Q113.455 1056.04 115.26 1052.49 Q117.089 1048.93 117.089 1041.82 Q117.089 1034.69 115.26 1031.15 Q113.455 1027.59 109.821 1027.59 M109.821 1023.88 Q115.631 1023.88 118.686 1028.49 Q121.765 1033.07 121.765 1041.82 Q121.765 1050.55 118.686 1055.16 Q115.631 1059.74 109.821 1059.74 Q104.01 1059.74 100.932 1055.16 Q97.8762 1050.55 97.8762 1041.82 Q97.8762 1033.07 100.932 1028.49 Q104.01 1023.88 109.821 1023.88 Z\" fill=\"#000000\" fill-rule=\"evenodd\" fill-opacity=\"1\" /><path clip-path=\"url(#clip200)\" d=\"M 0 0 M126.834 1053.19 L131.719 1053.19 L131.719 1059.07 L126.834 1059.07 L126.834 1053.19 Z\" fill=\"#000000\" fill-rule=\"evenodd\" fill-opacity=\"1\" /><path clip-path=\"url(#clip200)\" d=\"M 0 0 M146.788 1027.59 Q143.177 1027.59 141.348 1031.15 Q139.543 1034.69 139.543 1041.82 Q139.543 1048.93 141.348 1052.49 Q143.177 1056.04 146.788 1056.04 Q150.422 1056.04 152.228 1052.49 Q154.056 1048.93 154.056 1041.82 Q154.056 1034.69 152.228 1031.15 Q150.422 1027.59 146.788 1027.59 M146.788 1023.88 Q152.598 1023.88 155.654 1028.49 Q158.732 1033.07 158.732 1041.82 Q158.732 1050.55 155.654 1055.16 Q152.598 1059.74 146.788 1059.74 Q140.978 1059.74 137.899 1055.16 Q134.844 1050.55 134.844 1041.82 Q134.844 1033.07 137.899 1028.49 Q140.978 1023.88 146.788 1023.88 Z\" fill=\"#000000\" fill-rule=\"evenodd\" fill-opacity=\"1\" /><path clip-path=\"url(#clip200)\" d=\"M 0 0 M167.83 1055.13 L184.149 1055.13 L184.149 1059.07 L162.205 1059.07 L162.205 1055.13 Q164.867 1052.38 169.45 1047.75 Q174.056 1043.1 175.237 1041.75 Q177.482 1039.23 178.362 1037.5 Q179.265 1035.74 179.265 1034.05 Q179.265 1031.29 177.32 1029.56 Q175.399 1027.82 172.297 1027.82 Q170.098 1027.82 167.644 1028.58 Q165.214 1029.35 162.436 1030.9 L162.436 1026.18 Q165.26 1025.04 167.714 1024.46 Q170.167 1023.88 172.205 1023.88 Q177.575 1023.88 180.769 1026.57 Q183.964 1029.25 183.964 1033.75 Q183.964 1035.87 183.154 1037.8 Q182.366 1039.69 180.26 1042.29 Q179.681 1042.96 176.579 1046.18 Q173.478 1049.37 167.83 1055.13 Z\" fill=\"#000000\" fill-rule=\"evenodd\" fill-opacity=\"1\" /><path clip-path=\"url(#clip200)\" d=\"M 0 0 M108.223 733.884 Q104.612 733.884 102.784 737.449 Q100.978 740.991 100.978 748.12 Q100.978 755.227 102.784 758.791 Q104.612 762.333 108.223 762.333 Q111.858 762.333 113.663 758.791 Q115.492 755.227 115.492 748.12 Q115.492 740.991 113.663 737.449 Q111.858 733.884 108.223 733.884 M108.223 730.18 Q114.034 730.18 117.089 734.787 Q120.168 739.37 120.168 748.12 Q120.168 756.847 117.089 761.453 Q114.034 766.037 108.223 766.037 Q102.413 766.037 99.3345 761.453 Q96.279 756.847 96.279 748.12 Q96.279 739.37 99.3345 734.787 Q102.413 730.18 108.223 730.18 Z\" fill=\"#000000\" fill-rule=\"evenodd\" fill-opacity=\"1\" /><path clip-path=\"url(#clip200)\" d=\"M 0 0 M125.237 759.486 L130.121 759.486 L130.121 765.365 L125.237 765.365 L125.237 759.486 Z\" fill=\"#000000\" fill-rule=\"evenodd\" fill-opacity=\"1\" /><path clip-path=\"url(#clip200)\" d=\"M 0 0 M145.191 733.884 Q141.58 733.884 139.751 737.449 Q137.945 740.991 137.945 748.12 Q137.945 755.227 139.751 758.791 Q141.58 762.333 145.191 762.333 Q148.825 762.333 150.631 758.791 Q152.459 755.227 152.459 748.12 Q152.459 740.991 150.631 737.449 Q148.825 733.884 145.191 733.884 M145.191 730.18 Q151.001 730.18 154.056 734.787 Q157.135 739.37 157.135 748.12 Q157.135 756.847 154.056 761.453 Q151.001 766.037 145.191 766.037 Q139.381 766.037 136.302 761.453 Q133.246 756.847 133.246 748.12 Q133.246 739.37 136.302 734.787 Q139.381 730.18 145.191 730.18 Z\" fill=\"#000000\" fill-rule=\"evenodd\" fill-opacity=\"1\" /><path clip-path=\"url(#clip200)\" d=\"M 0 0 M172.205 733.884 Q168.593 733.884 166.765 737.449 Q164.959 740.991 164.959 748.12 Q164.959 755.227 166.765 758.791 Q168.593 762.333 172.205 762.333 Q175.839 762.333 177.644 758.791 Q179.473 755.227 179.473 748.12 Q179.473 740.991 177.644 737.449 Q175.839 733.884 172.205 733.884 M172.205 730.18 Q178.015 730.18 181.07 734.787 Q184.149 739.37 184.149 748.12 Q184.149 756.847 181.07 761.453 Q178.015 766.037 172.205 766.037 Q166.394 766.037 163.316 761.453 Q160.26 756.847 160.26 748.12 Q160.26 739.37 163.316 734.787 Q166.394 730.18 172.205 730.18 Z\" fill=\"#000000\" fill-rule=\"evenodd\" fill-opacity=\"1\" /><path clip-path=\"url(#clip200)\" d=\"M 0 0 M109.821 440.181 Q106.209 440.181 104.381 443.745 Q102.575 447.287 102.575 454.417 Q102.575 461.523 104.381 465.088 Q106.209 468.63 109.821 468.63 Q113.455 468.63 115.26 465.088 Q117.089 461.523 117.089 454.417 Q117.089 447.287 115.26 443.745 Q113.455 440.181 109.821 440.181 M109.821 436.477 Q115.631 436.477 118.686 441.083 Q121.765 445.667 121.765 454.417 Q121.765 463.144 118.686 467.75 Q115.631 472.333 109.821 472.333 Q104.01 472.333 100.932 467.75 Q97.8762 463.144 97.8762 454.417 Q97.8762 445.667 100.932 441.083 Q104.01 436.477 109.821 436.477 Z\" fill=\"#000000\" fill-rule=\"evenodd\" fill-opacity=\"1\" /><path clip-path=\"url(#clip200)\" d=\"M 0 0 M126.834 465.782 L131.719 465.782 L131.719 471.662 L126.834 471.662 L126.834 465.782 Z\" fill=\"#000000\" fill-rule=\"evenodd\" fill-opacity=\"1\" /><path clip-path=\"url(#clip200)\" d=\"M 0 0 M146.788 440.181 Q143.177 440.181 141.348 443.745 Q139.543 447.287 139.543 454.417 Q139.543 461.523 141.348 465.088 Q143.177 468.63 146.788 468.63 Q150.422 468.63 152.228 465.088 Q154.056 461.523 154.056 454.417 Q154.056 447.287 152.228 443.745 Q150.422 440.181 146.788 440.181 M146.788 436.477 Q152.598 436.477 155.654 441.083 Q158.732 445.667 158.732 454.417 Q158.732 463.144 155.654 467.75 Q152.598 472.333 146.788 472.333 Q140.978 472.333 137.899 467.75 Q134.844 463.144 134.844 454.417 Q134.844 445.667 137.899 441.083 Q140.978 436.477 146.788 436.477 Z\" fill=\"#000000\" fill-rule=\"evenodd\" fill-opacity=\"1\" /><path clip-path=\"url(#clip200)\" d=\"M 0 0 M167.83 467.727 L184.149 467.727 L184.149 471.662 L162.205 471.662 L162.205 467.727 Q164.867 464.972 169.45 460.343 Q174.056 455.69 175.237 454.347 Q177.482 451.824 178.362 450.088 Q179.265 448.329 179.265 446.639 Q179.265 443.884 177.32 442.148 Q175.399 440.412 172.297 440.412 Q170.098 440.412 167.644 441.176 Q165.214 441.94 162.436 443.491 L162.436 438.769 Q165.26 437.634 167.714 437.056 Q170.167 436.477 172.205 436.477 Q177.575 436.477 180.769 439.162 Q183.964 441.847 183.964 446.338 Q183.964 448.468 183.154 450.389 Q182.366 452.287 180.26 454.88 Q179.681 455.551 176.579 458.769 Q173.478 461.963 167.83 467.727 Z\" fill=\"#000000\" fill-rule=\"evenodd\" fill-opacity=\"1\" /><path clip-path=\"url(#clip200)\" d=\"M 0 0 M107.737 146.477 Q104.126 146.477 102.297 150.042 Q100.492 153.584 100.492 160.713 Q100.492 167.82 102.297 171.384 Q104.126 174.926 107.737 174.926 Q111.371 174.926 113.177 171.384 Q115.006 167.82 115.006 160.713 Q115.006 153.584 113.177 150.042 Q111.371 146.477 107.737 146.477 M107.737 142.773 Q113.547 142.773 116.603 147.38 Q119.682 151.963 119.682 160.713 Q119.682 169.44 116.603 174.046 Q113.547 178.63 107.737 178.63 Q101.927 178.63 98.8484 174.046 Q95.7929 169.44 95.7929 160.713 Q95.7929 151.963 98.8484 147.38 Q101.927 142.773 107.737 142.773 Z\" fill=\"#000000\" fill-rule=\"evenodd\" fill-opacity=\"1\" /><path clip-path=\"url(#clip200)\" d=\"M 0 0 M124.751 172.079 L129.635 172.079 L129.635 177.958 L124.751 177.958 L124.751 172.079 Z\" fill=\"#000000\" fill-rule=\"evenodd\" fill-opacity=\"1\" /><path clip-path=\"url(#clip200)\" d=\"M 0 0 M144.705 146.477 Q141.094 146.477 139.265 150.042 Q137.459 153.584 137.459 160.713 Q137.459 167.82 139.265 171.384 Q141.094 174.926 144.705 174.926 Q148.339 174.926 150.144 171.384 Q151.973 167.82 151.973 160.713 Q151.973 153.584 150.144 150.042 Q148.339 146.477 144.705 146.477 M144.705 142.773 Q150.515 142.773 153.57 147.38 Q156.649 151.963 156.649 160.713 Q156.649 169.44 153.57 174.046 Q150.515 178.63 144.705 178.63 Q138.894 178.63 135.816 174.046 Q132.76 169.44 132.76 160.713 Q132.76 151.963 135.816 147.38 Q138.894 142.773 144.705 142.773 Z\" fill=\"#000000\" fill-rule=\"evenodd\" fill-opacity=\"1\" /><path clip-path=\"url(#clip200)\" d=\"M 0 0 M174.566 147.473 L162.76 165.921 L174.566 165.921 L174.566 147.473 M173.339 143.398 L179.218 143.398 L179.218 165.921 L184.149 165.921 L184.149 169.81 L179.218 169.81 L179.218 177.958 L174.566 177.958 L174.566 169.81 L158.964 169.81 L158.964 165.296 L173.339 143.398 Z\" fill=\"#000000\" fill-rule=\"evenodd\" fill-opacity=\"1\" /><path clip-path=\"url(#clip202)\" d=\"\n",
       "M326.106 1445.71 L326.106 748.085 L499.624 748.085 L499.624 1445.71 L326.106 1445.71 L326.106 1445.71  Z\n",
       "  \" fill=\"#009af9\" fill-rule=\"evenodd\" fill-opacity=\"1\"/>\n",
       "<polyline clip-path=\"url(#clip202)\" style=\"stroke:#000000; stroke-width:4; stroke-opacity:1; fill:none\" points=\"\n",
       "  326.106,1445.71 326.106,748.085 499.624,748.085 499.624,1445.71 326.106,1445.71 \n",
       "  \"/>\n",
       "<path clip-path=\"url(#clip202)\" d=\"\n",
       "M543.003 87.9763 L543.003 748.085 L716.52 748.085 L716.52 87.9763 L543.003 87.9763 L543.003 87.9763  Z\n",
       "  \" fill=\"#009af9\" fill-rule=\"evenodd\" fill-opacity=\"1\"/>\n",
       "<polyline clip-path=\"url(#clip202)\" style=\"stroke:#000000; stroke-width:4; stroke-opacity:1; fill:none\" points=\"\n",
       "  543.003,87.9763 543.003,748.085 716.52,748.085 716.52,87.9763 543.003,87.9763 \n",
       "  \"/>\n",
       "<path clip-path=\"url(#clip202)\" d=\"\n",
       "M759.9 1173.09 L759.9 748.085 L933.417 748.085 L933.417 1173.09 L759.9 1173.09 L759.9 1173.09  Z\n",
       "  \" fill=\"#009af9\" fill-rule=\"evenodd\" fill-opacity=\"1\"/>\n",
       "<polyline clip-path=\"url(#clip202)\" style=\"stroke:#000000; stroke-width:4; stroke-opacity:1; fill:none\" points=\"\n",
       "  759.9,1173.09 759.9,748.085 933.417,748.085 933.417,1173.09 759.9,1173.09 \n",
       "  \"/>\n",
       "<path clip-path=\"url(#clip202)\" d=\"\n",
       "M976.797 492.425 L976.797 748.085 L1150.31 748.085 L1150.31 492.425 L976.797 492.425 L976.797 492.425  Z\n",
       "  \" fill=\"#009af9\" fill-rule=\"evenodd\" fill-opacity=\"1\"/>\n",
       "<polyline clip-path=\"url(#clip202)\" style=\"stroke:#000000; stroke-width:4; stroke-opacity:1; fill:none\" points=\"\n",
       "  976.797,492.425 976.797,748.085 1150.31,748.085 1150.31,492.425 976.797,492.425 \n",
       "  \"/>\n",
       "<path clip-path=\"url(#clip202)\" d=\"\n",
       "M1193.69 922.192 L1193.69 748.085 L1367.21 748.085 L1367.21 922.192 L1193.69 922.192 L1193.69 922.192  Z\n",
       "  \" fill=\"#009af9\" fill-rule=\"evenodd\" fill-opacity=\"1\"/>\n",
       "<polyline clip-path=\"url(#clip202)\" style=\"stroke:#000000; stroke-width:4; stroke-opacity:1; fill:none\" points=\"\n",
       "  1193.69,922.192 1193.69,748.085 1367.21,748.085 1367.21,922.192 1193.69,922.192 \n",
       "  \"/>\n",
       "<path clip-path=\"url(#clip202)\" d=\"\n",
       "M1410.59 635.971 L1410.59 748.085 L1584.11 748.085 L1584.11 635.971 L1410.59 635.971 L1410.59 635.971  Z\n",
       "  \" fill=\"#009af9\" fill-rule=\"evenodd\" fill-opacity=\"1\"/>\n",
       "<polyline clip-path=\"url(#clip202)\" style=\"stroke:#000000; stroke-width:4; stroke-opacity:1; fill:none\" points=\"\n",
       "  1410.59,635.971 1410.59,748.085 1584.11,748.085 1584.11,635.971 1410.59,635.971 \n",
       "  \"/>\n",
       "<path clip-path=\"url(#clip202)\" d=\"\n",
       "M1627.49 833.889 L1627.49 748.085 L1801 748.085 L1801 833.889 L1627.49 833.889 L1627.49 833.889  Z\n",
       "  \" fill=\"#009af9\" fill-rule=\"evenodd\" fill-opacity=\"1\"/>\n",
       "<polyline clip-path=\"url(#clip202)\" style=\"stroke:#000000; stroke-width:4; stroke-opacity:1; fill:none\" points=\"\n",
       "  1627.49,833.889 1627.49,748.085 1801,748.085 1801,833.889 1627.49,833.889 \n",
       "  \"/>\n",
       "<path clip-path=\"url(#clip202)\" d=\"\n",
       "M1844.38 710.748 L1844.38 748.085 L2017.9 748.085 L2017.9 710.748 L1844.38 710.748 L1844.38 710.748  Z\n",
       "  \" fill=\"#009af9\" fill-rule=\"evenodd\" fill-opacity=\"1\"/>\n",
       "<polyline clip-path=\"url(#clip202)\" style=\"stroke:#000000; stroke-width:4; stroke-opacity:1; fill:none\" points=\"\n",
       "  1844.38,710.748 1844.38,748.085 2017.9,748.085 2017.9,710.748 1844.38,710.748 \n",
       "  \"/>\n",
       "<path clip-path=\"url(#clip202)\" d=\"\n",
       "M2061.28 759.103 L2061.28 748.085 L2234.8 748.085 L2234.8 759.103 L2061.28 759.103 L2061.28 759.103  Z\n",
       "  \" fill=\"#009af9\" fill-rule=\"evenodd\" fill-opacity=\"1\"/>\n",
       "<polyline clip-path=\"url(#clip202)\" style=\"stroke:#000000; stroke-width:4; stroke-opacity:1; fill:none\" points=\"\n",
       "  2061.28,759.103 2061.28,748.085 2234.8,748.085 2234.8,759.103 2061.28,759.103 \n",
       "  \"/>\n",
       "<path clip-path=\"url(#clip202)\" d=\"\n",
       "M326.106 1445.72 L326.106 748.085 L499.624 748.085 L499.624 1445.72 L326.106 1445.72 L326.106 1445.72  Z\n",
       "  \" fill=\"#e26f46\" fill-rule=\"evenodd\" fill-opacity=\"1\"/>\n",
       "<polyline clip-path=\"url(#clip202)\" style=\"stroke:#000000; stroke-width:4; stroke-opacity:1; fill:none\" points=\"\n",
       "  326.106,1445.72 326.106,748.085 499.624,748.085 499.624,1445.72 326.106,1445.72 \n",
       "  \"/>\n",
       "<path clip-path=\"url(#clip202)\" d=\"\n",
       "M543.003 88.8712 L543.003 748.085 L716.52 748.085 L716.52 88.8712 L543.003 88.8712 L543.003 88.8712  Z\n",
       "  \" fill=\"#e26f46\" fill-rule=\"evenodd\" fill-opacity=\"1\"/>\n",
       "<polyline clip-path=\"url(#clip202)\" style=\"stroke:#000000; stroke-width:4; stroke-opacity:1; fill:none\" points=\"\n",
       "  543.003,88.8712 543.003,748.085 716.52,748.085 716.52,88.8712 543.003,88.8712 \n",
       "  \"/>\n",
       "<path clip-path=\"url(#clip202)\" d=\"\n",
       "M759.9 1171.43 L759.9 748.085 L933.417 748.085 L933.417 1171.43 L759.9 1171.43 L759.9 1171.43  Z\n",
       "  \" fill=\"#e26f46\" fill-rule=\"evenodd\" fill-opacity=\"1\"/>\n",
       "<polyline clip-path=\"url(#clip202)\" style=\"stroke:#000000; stroke-width:4; stroke-opacity:1; fill:none\" points=\"\n",
       "  759.9,1171.43 759.9,748.085 933.417,748.085 933.417,1171.43 759.9,1171.43 \n",
       "  \"/>\n",
       "<path clip-path=\"url(#clip202)\" d=\"\n",
       "M976.797 494.35 L976.797 748.085 L1150.31 748.085 L1150.31 494.35 L976.797 494.35 L976.797 494.35  Z\n",
       "  \" fill=\"#e26f46\" fill-rule=\"evenodd\" fill-opacity=\"1\"/>\n",
       "<polyline clip-path=\"url(#clip202)\" style=\"stroke:#000000; stroke-width:4; stroke-opacity:1; fill:none\" points=\"\n",
       "  976.797,494.35 976.797,748.085 1150.31,748.085 1150.31,494.35 976.797,494.35 \n",
       "  \"/>\n",
       "<path clip-path=\"url(#clip202)\" d=\"\n",
       "M1193.69 919.389 L1193.69 748.085 L1367.21 748.085 L1367.21 919.389 L1193.69 919.389 L1193.69 919.389  Z\n",
       "  \" fill=\"#e26f46\" fill-rule=\"evenodd\" fill-opacity=\"1\"/>\n",
       "<polyline clip-path=\"url(#clip202)\" style=\"stroke:#000000; stroke-width:4; stroke-opacity:1; fill:none\" points=\"\n",
       "  1193.69,919.389 1193.69,748.085 1367.21,748.085 1367.21,919.389 1193.69,919.389 \n",
       "  \"/>\n",
       "<path clip-path=\"url(#clip202)\" d=\"\n",
       "M1410.59 639.604 L1410.59 748.085 L1584.11 748.085 L1584.11 639.604 L1410.59 639.604 L1410.59 639.604  Z\n",
       "  \" fill=\"#e26f46\" fill-rule=\"evenodd\" fill-opacity=\"1\"/>\n",
       "<polyline clip-path=\"url(#clip202)\" style=\"stroke:#000000; stroke-width:4; stroke-opacity:1; fill:none\" points=\"\n",
       "  1410.59,639.604 1410.59,748.085 1584.11,748.085 1584.11,639.604 1410.59,639.604 \n",
       "  \"/>\n",
       "<path clip-path=\"url(#clip202)\" d=\"\n",
       "M1627.49 818.512 L1627.49 748.085 L1801 748.085 L1801 818.512 L1627.49 818.512 L1627.49 818.512  Z\n",
       "  \" fill=\"#e26f46\" fill-rule=\"evenodd\" fill-opacity=\"1\"/>\n",
       "<polyline clip-path=\"url(#clip202)\" style=\"stroke:#000000; stroke-width:4; stroke-opacity:1; fill:none\" points=\"\n",
       "  1627.49,818.512 1627.49,748.085 1801,748.085 1801,818.512 1627.49,818.512 \n",
       "  \"/>\n",
       "<path clip-path=\"url(#clip202)\" d=\"\n",
       "M1844.38 705.394 L1844.38 748.085 L2017.9 748.085 L2017.9 705.394 L1844.38 705.394 L1844.38 705.394  Z\n",
       "  \" fill=\"#e26f46\" fill-rule=\"evenodd\" fill-opacity=\"1\"/>\n",
       "<polyline clip-path=\"url(#clip202)\" style=\"stroke:#000000; stroke-width:4; stroke-opacity:1; fill:none\" points=\"\n",
       "  1844.38,705.394 1844.38,748.085 2017.9,748.085 2017.9,705.394 1844.38,705.394 \n",
       "  \"/>\n",
       "<path clip-path=\"url(#clip202)\" d=\"\n",
       "M2061.28 770.982 L2061.28 748.085 L2234.8 748.085 L2234.8 770.982 L2061.28 770.982 L2061.28 770.982  Z\n",
       "  \" fill=\"#e26f46\" fill-rule=\"evenodd\" fill-opacity=\"1\"/>\n",
       "<polyline clip-path=\"url(#clip202)\" style=\"stroke:#000000; stroke-width:4; stroke-opacity:1; fill:none\" points=\"\n",
       "  2061.28,770.982 2061.28,748.085 2234.8,748.085 2234.8,770.982 2061.28,770.982 \n",
       "  \"/>\n",
       "<path clip-path=\"url(#clip200)\" d=\"\n",
       "M1991.96 276.658 L2281.27 276.658 L2281.27 95.2176 L1991.96 95.2176  Z\n",
       "  \" fill=\"#ffffff\" fill-rule=\"evenodd\" fill-opacity=\"1\"/>\n",
       "<polyline clip-path=\"url(#clip200)\" style=\"stroke:#000000; stroke-width:4; stroke-opacity:1; fill:none\" points=\"\n",
       "  1991.96,276.658 2281.27,276.658 2281.27,95.2176 1991.96,95.2176 1991.96,276.658 \n",
       "  \"/>\n",
       "<path clip-path=\"url(#clip200)\" d=\"\n",
       "M2015.79 179.89 L2158.76 179.89 L2158.76 131.506 L2015.79 131.506 L2015.79 179.89  Z\n",
       "  \" fill=\"#009af9\" fill-rule=\"evenodd\" fill-opacity=\"1\"/>\n",
       "<polyline clip-path=\"url(#clip200)\" style=\"stroke:#000000; stroke-width:4; stroke-opacity:1; fill:none\" points=\"\n",
       "  2015.79,179.89 2158.76,179.89 2158.76,131.506 2015.79,131.506 2015.79,179.89 \n",
       "  \"/>\n",
       "<path clip-path=\"url(#clip200)\" d=\"M 0 0 M2196.44 175.385 Q2194.63 180.015 2192.92 181.427 Q2191.2 182.839 2188.33 182.839 L2184.93 182.839 L2184.93 179.274 L2187.43 179.274 Q2189.19 179.274 2190.16 178.44 Q2191.13 177.607 2192.31 174.505 L2193.08 172.561 L2182.59 147.052 L2187.11 147.052 L2195.21 167.329 L2203.31 147.052 L2207.82 147.052 L2196.44 175.385 Z\" fill=\"#000000\" fill-rule=\"evenodd\" fill-opacity=\"1\" /><path clip-path=\"url(#clip200)\" d=\"M 0 0 M2213.7 169.042 L2221.34 169.042 L2221.34 142.677 L2213.03 144.343 L2213.03 140.084 L2221.3 138.418 L2225.97 138.418 L2225.97 169.042 L2233.61 169.042 L2233.61 172.978 L2213.7 172.978 L2213.7 169.042 Z\" fill=\"#000000\" fill-rule=\"evenodd\" fill-opacity=\"1\" /><path clip-path=\"url(#clip200)\" d=\"\n",
       "M2015.79 240.37 L2158.76 240.37 L2158.76 191.986 L2015.79 191.986 L2015.79 240.37  Z\n",
       "  \" fill=\"#e26f46\" fill-rule=\"evenodd\" fill-opacity=\"1\"/>\n",
       "<polyline clip-path=\"url(#clip200)\" style=\"stroke:#000000; stroke-width:4; stroke-opacity:1; fill:none\" points=\"\n",
       "  2015.79,240.37 2158.76,240.37 2158.76,191.986 2015.79,191.986 2015.79,240.37 \n",
       "  \"/>\n",
       "<path clip-path=\"url(#clip200)\" d=\"M 0 0 M2196.44 235.865 Q2194.63 240.495 2192.92 241.907 Q2191.2 243.319 2188.33 243.319 L2184.93 243.319 L2184.93 239.754 L2187.43 239.754 Q2189.19 239.754 2190.16 238.92 Q2191.13 238.087 2192.31 234.985 L2193.08 233.041 L2182.59 207.532 L2187.11 207.532 L2195.21 227.809 L2203.31 207.532 L2207.82 207.532 L2196.44 235.865 Z\" fill=\"#000000\" fill-rule=\"evenodd\" fill-opacity=\"1\" /><path clip-path=\"url(#clip200)\" d=\"M 0 0 M2216.92 229.522 L2233.24 229.522 L2233.24 233.458 L2211.3 233.458 L2211.3 229.522 Q2213.96 226.768 2218.54 222.138 Q2223.15 217.485 2224.33 216.143 Q2226.57 213.62 2227.45 211.884 Q2228.36 210.124 2228.36 208.435 Q2228.36 205.68 2226.41 203.944 Q2224.49 202.208 2221.39 202.208 Q2219.19 202.208 2216.74 202.972 Q2214.31 203.735 2211.53 205.286 L2211.53 200.564 Q2214.35 199.43 2216.81 198.851 Q2219.26 198.273 2221.3 198.273 Q2226.67 198.273 2229.86 200.958 Q2233.06 203.643 2233.06 208.134 Q2233.06 210.263 2232.25 212.185 Q2231.46 214.083 2229.35 216.675 Q2228.77 217.347 2225.67 220.564 Q2222.57 223.759 2216.92 229.522 Z\" fill=\"#000000\" fill-rule=\"evenodd\" fill-opacity=\"1\" /></svg>\n"
      ]
     },
     "execution_count": 121,
     "metadata": {},
     "output_type": "execute_result"
    }
   ],
   "source": [
    "using Plots\n",
    "\n",
    "u_vals = [U_altro[i][1] for i=1:N-1]\n",
    "u_vals_osqp = [U_osqp[i][1] for i=1:N-1]\n",
    "\n",
    "plot(1:N-1, u_vals, seriestype=:bar)\n",
    "plot!(1:N-1, u_vals_osqp, seriestype=:bar)"
   ]
  },
  {
   "cell_type": "code",
   "execution_count": 122,
   "metadata": {},
   "outputs": [
    {
     "name": "stdout",
     "output_type": "stream",
     "text": [
      "objective_value_(X_altro, U_altro) = 2.8743748542516654\n",
      "objective_value_(X_osqp, U_osqp) = 2.8741563510569637\n"
     ]
    },
    {
     "data": {
      "text/plain": [
       "2.8741563510569637"
      ]
     },
     "execution_count": 122,
     "metadata": {},
     "output_type": "execute_result"
    }
   ],
   "source": [
    "objective_value_(X, U) = sum([0.5*X[i]'*Q*X[i] for i=1:N]) + sum([0.5*U[i]'*R*U[i] for i=1:N-1])\n",
    "\n",
    "@show objective_value_(X_altro, U_altro)\n",
    "@show objective_value_(X_osqp, U_osqp)"
   ]
  },
  {
   "cell_type": "code",
   "execution_count": null,
   "metadata": {},
   "outputs": [],
   "source": []
  }
 ],
 "metadata": {
  "kernelspec": {
   "display_name": "Julia 1.4.1",
   "language": "julia",
   "name": "julia-1.4"
  },
  "language_info": {
   "file_extension": ".jl",
   "mimetype": "application/julia",
   "name": "julia",
   "version": "1.4.1"
  }
 },
 "nbformat": 4,
 "nbformat_minor": 4
}
