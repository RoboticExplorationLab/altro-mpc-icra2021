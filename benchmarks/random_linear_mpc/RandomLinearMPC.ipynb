{
 "cells": [
  {
   "cell_type": "code",
   "execution_count": 1,
   "metadata": {
    "scrolled": true
   },
   "outputs": [
    {
     "name": "stderr",
     "output_type": "stream",
     "text": [
      "\u001b[32m\u001b[1m Activating\u001b[22m\u001b[39m environment at `~/Research/ICRA2020_fast_mpc_in_altro/benchmarks/random_linear_mpc/Project.toml`\n"
     ]
    }
   ],
   "source": [
    "using Pkg\n",
    "Pkg.activate(\".\")\n",
    "Pkg.instantiate()"
   ]
  },
  {
   "cell_type": "markdown",
   "metadata": {},
   "source": [
    "# Generate Random Problem"
   ]
  },
  {
   "cell_type": "code",
   "execution_count": 2,
   "metadata": {},
   "outputs": [],
   "source": [
    "include(\"random_linear.jl\")\n",
    "\n",
    "# using ControlSystems\n",
    "\n",
    "n = 12\n",
    "m = Int(n/2)\n",
    "N = 10\n",
    "A,B = gendiscrete(n,m)\n",
    "\n",
    "Q = Diagonal(10*rand(n))\n",
    "R = Diagonal(0.1*ones(m))\n",
    "\n",
    "Qf = Q #dare(A, B, Q, R)\n",
    "\n",
    "x̄ = rand(n) .+ 1\n",
    "ū = 0.1*rand(m)\n",
    "x0 = (rand(n) .- 1) .* x̄ * 0.5\n",
    "xf = zeros(n)\n",
    "\n",
    "nothing"
   ]
  },
  {
   "cell_type": "markdown",
   "metadata": {},
   "source": [
    "# Solve Using Altro"
   ]
  },
  {
   "cell_type": "code",
   "execution_count": 3,
   "metadata": {},
   "outputs": [
    {
     "name": "stdout",
     "output_type": "stream",
     "text": [
      "maximum(b) = TrialEstimate(143.271 μs)\n",
      "max_violation(solver) = 0.0\n",
      "cost(solver) = 0.5019459876318688\n"
     ]
    },
    {
     "data": {
      "text/plain": [
       "9-element Array{StaticArrays.SArray{Tuple{6},Float64,1,6},1}:\n",
       " [-0.17493729475554265, 0.056004594637091176, -0.03972353871387233, 0.059312965664688744, -0.19378115277227123, 0.1281883248834337]\n",
       " [-0.00026747947872465816, -0.00723967936982374, -0.043765368687180735, 0.03198451256655593, -0.03154348642423799, -0.0020447516242560193]\n",
       " [0.021787673232485733, -0.006325493473086252, -0.0019330984082655267, 0.0028026732337358244, 0.014359177968632203, -0.005370325466506981]\n",
       " [0.009698066679932837, 0.0015514062133410583, 0.008487080952806918, 0.0042659080604729605, -0.00019485436799246414, 0.003231802764815106]\n",
       " [0.00833768999035514, 0.002271887150393316, 0.00584202354207386, 0.0027702790323874335, 0.0013551864651472345, 0.0017456296821633799]\n",
       " [0.0066354800257446, 0.0019026161954529275, 0.004943412948160355, 0.0022570680142218625, 0.0008633729543303381, 0.0014816584951636846]\n",
       " [0.00559383619446735, 0.0015734704745267655, 0.004237011868252056, 0.0020736807088530523, 0.00066854155590651, 0.0012406413700146168]\n",
       " [0.004950936336383743, 0.0017862202777656488, 0.0029126152867507762, 0.001055891317262126, 0.0008775865627948243, 0.000993759645821768]\n",
       " [-0.00043726778421826484, -0.0008845278813941794, 0.000990307656412892, 0.00042827406702008845, -0.0007620742853486351, -0.0014000468636568841]"
      ]
     },
     "execution_count": 3,
     "metadata": {},
     "output_type": "execute_result"
    }
   ],
   "source": [
    "using Altro\n",
    "using TrajectoryOptimization\n",
    "using RobotDynamics\n",
    "\n",
    "const RD = RobotDynamics\n",
    "\n",
    "dt = 0.1 # doesn't matter, just needs to be non-zero\n",
    "model = RD.LinearModel(A, B; dt=dt)\n",
    "objective = LQRObjective(Q, R, Qf, xf, N)\n",
    "\n",
    "constraints = ConstraintList(n, m, N)\n",
    "bound = BoundConstraint(n, m, x_min=-x̄, x_max=x̄, u_min=-ū, u_max=ū)\n",
    "add_constraint!(constraints, bound, 1:N)\n",
    "\n",
    "tf = (N-1)*dt\n",
    "\n",
    "problem = Problem(model, objective, xf, tf, x0=x0, integration=RD.PassThrough)\n",
    "solver = ALTROSolver(problem)\n",
    "set_options!(solver)\n",
    "solve!(solver)\n",
    "\n",
    "b = benchmark_solve!(solver)\n",
    "\n",
    "@show maximum(b)\n",
    "@show max_violation(solver)\n",
    "@show cost(solver)\n",
    "\n",
    "X = states(solver)\n",
    "U = controls(solver)"
   ]
  },
  {
   "cell_type": "markdown",
   "metadata": {},
   "source": [
    "# Solve Using OSQP"
   ]
  },
  {
   "cell_type": "code",
   "execution_count": null,
   "metadata": {},
   "outputs": [],
   "source": [
    "using JuMP\n",
    "using OSQP\n",
    "using BenchmarkTools\n",
    "\n",
    "select(i, n) = (n*(i-1)+1):(n*(i-1)+n)\n",
    "\n",
    "jump_model = Model(OSQP.Optimizer)\n",
    "set_silent(jump_model)\n",
    "\n",
    "@variable(jump_model, x[1:((N)*n)])\n",
    "@variable(jump_model, u[1:((N-1)*n)])\n",
    "\n",
    "objective_exp = @expression(jump_model, 0.5*transpose(x[select(N, n)]) * Qf * x[select(N, n)])\n",
    "\n",
    "@constraint(jump_model, x[select(1, n)] .== x0)\n",
    "\n",
    "for i=1:N-1\n",
    "    # dynamics constraints\n",
    "    @constraint(jump_model, A*x[select(i, n)] + B*u[select(i, m)] .== x[select(i+1, n)])\n",
    "\n",
    "    # stagewise state cost\n",
    "    add_to_expression!(objective_exp, 0.5*transpose(x[select(i, n)]) * Q * x[select(i, n)])\n",
    "\n",
    "    # stagewise control cost\n",
    "    add_to_expression!(objective_exp, 0.5*transpose(u[select(i, m)]) * R * u[select(i, m)])\n",
    "\n",
    "    # control/state bound constraints\n",
    "    @constraint(jump_model, x[select(i, n)] .<= x̄)\n",
    "    @constraint(jump_model, x[select(i, n)] .>= -x̄)\n",
    "    @constraint(jump_model, u[select(i, m)] .<= ū)\n",
    "    @constraint(jump_model, u[select(i, m)] .>= -ū)\n",
    "end\n",
    "\n",
    "@objective(jump_model, Min, objective_exp)\n",
    "\n",
    "optimize!(jump_model)\n",
    "\n",
    "set_start_value.(x, value.(x))\n",
    "\n",
    "X_osqp = [value.(x)[select(i, n)] for i=1:N]\n",
    "U_osqp = [value.(u)[select(i, m)] for i=1:N-1]\n",
    "\n",
    "@show objective_value(jump_model)\n",
    "\n",
    "@benchmark optimize!($jump_model) samples=10 evals=10"
   ]
  },
  {
   "cell_type": "code",
   "execution_count": null,
   "metadata": {},
   "outputs": [],
   "source": [
    "@assert X[1] ≈ x0\n",
    "@assert value.(x)[select(1, n)] ≈ x0"
   ]
  },
  {
   "cell_type": "code",
   "execution_count": null,
   "metadata": {},
   "outputs": [],
   "source": [
    "using Plots\n",
    "\n",
    "u_vals = [U[i][1] for i=1:N-1]\n",
    "u_vals_osqp = [U_osqp[i][1] for i=1:N-1]\n",
    "\n",
    "plot(1:N-1, u_vals, seriestype=:bar)\n",
    "plot!(1:N-1, u_vals_osqp, seriestype=:bar)"
   ]
  },
  {
   "cell_type": "code",
   "execution_count": null,
   "metadata": {},
   "outputs": [],
   "source": [
    "objective_value_(X, U) = sum([0.5*X[i]'*Q*X[i] for i=1:N]) + sum([0.5*U[i]'*R*U[i] for i=1:N-1])\n",
    "\n",
    "@show objective_value_(X, U)\n",
    "@show objective_value_(X_osqp, U_osqp)"
   ]
  },
  {
   "cell_type": "code",
   "execution_count": null,
   "metadata": {},
   "outputs": [],
   "source": []
  }
 ],
 "metadata": {
  "kernelspec": {
   "display_name": "Julia 1.4.1",
   "language": "julia",
   "name": "julia-1.4"
  },
  "language_info": {
   "file_extension": ".jl",
   "mimetype": "application/julia",
   "name": "julia",
   "version": "1.4.1"
  }
 },
 "nbformat": 4,
 "nbformat_minor": 4
}
